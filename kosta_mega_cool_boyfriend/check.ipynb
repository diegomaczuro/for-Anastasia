{
 "cells": [
  {
   "cell_type": "code",
   "execution_count": 20,
   "metadata": {
    "collapsed": true
   },
   "outputs": [],
   "source": [
    "import numpy as np\n",
    "import pandas as pd\n",
    "import vtk\n",
    "from vtk.util import numpy_support\n",
    "from sklearn.neighbors import KDTree\n",
    "from tqdm import tqdm"
   ]
  },
  {
   "cell_type": "code",
   "execution_count": 44,
   "metadata": {
    "collapsed": true
   },
   "outputs": [],
   "source": [
    "# FILE_AXI = './special/data.axi'\n",
    "# FILE_CSV = './special/data.csv'\n",
    "# FILE_ELE = './special/data.ele'\n",
    "# FILE_FACE= './special/data.face'\n",
    "# FILE_NODE = './special/data.node'\n",
    "# FILE_OUT = './special/MESH.vtu'\n",
    "\n",
    "FILE_AXI = './mamedov_ok/data.axi'\n",
    "FILE_CSV = './mamedov_ok/data.csv'\n",
    "FILE_ELE = './mamedov_ok/data.ele'\n",
    "FILE_FACE= './mamedov_ok/data.face'\n",
    "FILE_NODE = './mamedov_ok/data.node'\n",
    "FILE_OUT = './mamedov_ok/MESH.vtu'"
   ]
  },
  {
   "cell_type": "code",
   "execution_count": 45,
   "metadata": {
    "collapsed": false
   },
   "outputs": [
    {
     "data": {
      "text/plain": [
       "array([[-0.06808373,  0.45497257,  0.88789898],\n",
       "       [ 0.90590912,  0.22172089,  0.36078867],\n",
       "       [-0.99645406,  0.08406679, -0.00347436],\n",
       "       ..., \n",
       "       [-0.37052788,  0.85764381,  0.35658966],\n",
       "       [-0.34675869,  0.91542733,  0.20433116],\n",
       "       [-0.33704918,  0.92164678,  0.19226299]])"
      ]
     },
     "execution_count": 45,
     "metadata": {},
     "output_type": "execute_result"
    }
   ],
   "source": [
    "axi_data = np.loadtxt(FILE_AXI, skiprows=1)\n",
    "axi_data"
   ]
  },
  {
   "cell_type": "code",
   "execution_count": 46,
   "metadata": {
    "collapsed": false
   },
   "outputs": [
    {
     "data": {
      "text/plain": [
       "(array([[  0.00000000e+00,   6.29950000e+04,   5.98890000e+04,\n",
       "           6.94940000e+04,   8.47410000e+04,   0.00000000e+00],\n",
       "        [  1.00000000e+00,   5.08390000e+04,   6.79950000e+04,\n",
       "           6.75400000e+04,   7.60440000e+04,   0.00000000e+00],\n",
       "        [  2.00000000e+00,   5.43470000e+04,   6.32380000e+04,\n",
       "           7.43940000e+04,   7.67480000e+04,   0.00000000e+00],\n",
       "        ..., \n",
       "        [  2.13462100e+06,   3.90230000e+04,   3.03877000e+05,\n",
       "           3.90570000e+04,   2.03158000e+05,   1.00000000e+00],\n",
       "        [  2.13462200e+06,   3.03877000e+05,   3.90570000e+04,\n",
       "           3.24221000e+05,   3.90560000e+04,   1.00000000e+00],\n",
       "        [  2.13462300e+06,   3.03877000e+05,   3.24221000e+05,\n",
       "           3.90570000e+04,   2.03158000e+05,   1.00000000e+00]]), 2134624)"
      ]
     },
     "execution_count": 46,
     "metadata": {},
     "output_type": "execute_result"
    }
   ],
   "source": [
    "ele_data = np.loadtxt(FILE_ELE, skiprows=1)\n",
    "ele_data, len(ele_data)"
   ]
  },
  {
   "cell_type": "code",
   "execution_count": 47,
   "metadata": {
    "collapsed": false
   },
   "outputs": [
    {
     "data": {
      "text/plain": [
       "array([[  0.00000000e+00,   4.18590000e+04,   3.00920000e+04,\n",
       "          4.18570000e+04,   1.00000000e+00],\n",
       "       [  1.00000000e+00,   5.10430000e+04,   2.42660000e+04,\n",
       "          5.10410000e+04,   1.00000000e+00],\n",
       "       [  2.00000000e+00,   2.59780000e+04,   4.57000000e+04,\n",
       "          4.79100000e+04,   1.00000000e+00],\n",
       "       ..., \n",
       "       [  1.07997000e+05,   7.88000000e+02,   1.60380000e+04,\n",
       "          1.60330000e+04,   1.00000000e+00],\n",
       "       [  1.07998000e+05,   1.01430000e+04,   1.01380000e+04,\n",
       "          2.05100000e+03,   1.00000000e+00],\n",
       "       [  1.07999000e+05,   9.69300000e+03,   9.69600000e+03,\n",
       "          9.69500000e+03,   1.00000000e+00]])"
      ]
     },
     "execution_count": 47,
     "metadata": {},
     "output_type": "execute_result"
    }
   ],
   "source": [
    "face_data = np.loadtxt(FILE_FACE, skiprows=1)\n",
    "face_data"
   ]
  },
  {
   "cell_type": "code",
   "execution_count": 48,
   "metadata": {
    "collapsed": false
   },
   "outputs": [
    {
     "data": {
      "text/plain": [
       "array([[  0.00000000e+00,  -1.43881500e+01,   3.91870000e+00,\n",
       "         -4.06612750e+01],\n",
       "       [  1.00000000e+00,   1.19105000e+00,   6.01311000e+00,\n",
       "         -3.25054000e+00],\n",
       "       [  2.00000000e+00,   9.89775000e-02,   5.46275000e+00,\n",
       "         -4.43365000e+00],\n",
       "       ..., \n",
       "       [  3.65904000e+05,  -3.90878847e+00,   1.35877235e+01,\n",
       "         -1.99497879e+01],\n",
       "       [  3.65905000e+05,   8.60037746e+00,   1.17962969e+01,\n",
       "         -2.16814136e+01],\n",
       "       [  3.65906000e+05,   5.17447089e+00,   9.88372735e+00,\n",
       "         -2.81069578e+01]])"
      ]
     },
     "execution_count": 48,
     "metadata": {},
     "output_type": "execute_result"
    }
   ],
   "source": [
    "node_data = np.loadtxt(FILE_NODE, skiprows=1)\n",
    "node_data"
   ]
  },
  {
   "cell_type": "code",
   "execution_count": 49,
   "metadata": {
    "collapsed": false
   },
   "outputs": [
    {
     "data": {
      "text/plain": [
       "array([[-14.38815   ,   3.9187    , -40.661275  ],\n",
       "       [  1.19105   ,   6.01311   ,  -3.25054   ],\n",
       "       [  0.0989775 ,   5.46275   ,  -4.43365   ],\n",
       "       ..., \n",
       "       [ -3.90878847,  13.5877235 , -19.94978786],\n",
       "       [  8.60037746,  11.79629688, -21.68141362],\n",
       "       [  5.17447089,   9.88372735, -28.10695779]])"
      ]
     },
     "execution_count": 49,
     "metadata": {},
     "output_type": "execute_result"
    }
   ],
   "source": [
    "node_data[:,1:]"
   ]
  },
  {
   "cell_type": "code",
   "execution_count": 50,
   "metadata": {
    "collapsed": false
   },
   "outputs": [
    {
     "data": {
      "text/plain": [
       "array([[  0.00000000e+00,   2.35323000e+00,   6.26666000e+00, ...,\n",
       "          0.00000000e+00,   0.00000000e+00,   0.00000000e+00],\n",
       "       [  1.00000000e+00,   1.85996000e+00,   6.30465000e+00, ...,\n",
       "          0.00000000e+00,   0.00000000e+00,   0.00000000e+00],\n",
       "       [  2.00000000e+00,   1.89206000e+00,   5.99648000e+00, ...,\n",
       "          0.00000000e+00,   0.00000000e+00,   0.00000000e+00],\n",
       "       ..., \n",
       "       [  5.47670000e+04,   7.25200000e-03,   9.53785000e+00, ...,\n",
       "          0.00000000e+00,   0.00000000e+00,   0.00000000e+00],\n",
       "       [  5.47680000e+04,  -3.44800000e-03,   9.57761000e+00, ...,\n",
       "          0.00000000e+00,   0.00000000e+00,   0.00000000e+00],\n",
       "       [  5.47690000e+04,   7.54238000e+00,   8.80523000e+00, ...,\n",
       "          0.00000000e+00,   0.00000000e+00,   0.00000000e+00]])"
      ]
     },
     "execution_count": 50,
     "metadata": {},
     "output_type": "execute_result"
    }
   ],
   "source": [
    "csv_data= np.loadtxt(FILE_CSV)\n",
    "csv_data"
   ]
  },
  {
   "cell_type": "code",
   "execution_count": 51,
   "metadata": {
    "collapsed": false
   },
   "outputs": [
    {
     "data": {
      "text/plain": [
       "array([  1.85996,   6.30465, -20.6577 ])"
      ]
     },
     "execution_count": 51,
     "metadata": {},
     "output_type": "execute_result"
    }
   ],
   "source": [
    "csv_data[1,1:4]"
   ]
  },
  {
   "cell_type": "code",
   "execution_count": 52,
   "metadata": {
    "collapsed": false,
    "scrolled": true
   },
   "outputs": [],
   "source": [
    "def create_points(array):\n",
    "    \"\"\"Create vtkPoints from double array\"\"\"\n",
    "    vtk_points = vtk.vtkPoints()\n",
    "    test = numpy_support.numpy_to_vtk(array.ravel(), deep=True, array_type=vtk.VTK_FLOAT)\n",
    "    test.SetNumberOfComponents(3)\n",
    "    vtk_points.SetData(test)\n",
    "    return vtk_points\n",
    " \n",
    "def create_cells(array):\n",
    "    \"\"\"Create a vtkCellArray from long array\"\"\"\n",
    "    tmp_ = np.zeros((len(array),1))\n",
    "    tmp_.fill(4)\n",
    "    vtk_cells = vtk.vtkCellArray()\n",
    "    data = np.array(np.c_[tmp_, array], dtype='int64')\n",
    "    print data\n",
    "    test = numpy_support.numpy_to_vtkIdTypeArray(data.ravel(), deep=True)\n",
    "    vtk_cells.SetCells(len(array), test)\n",
    "    return vtk_cells"
   ]
  },
  {
   "cell_type": "code",
   "execution_count": 53,
   "metadata": {
    "collapsed": false
   },
   "outputs": [
    {
     "name": "stdout",
     "output_type": "stream",
     "text": [
      "vtkPoints (0xb21c080)\n",
      "  Debug: Off\n",
      "  Modified Time: 7076\n",
      "  Reference Count: 1\n",
      "  Registered Events: (none)\n",
      "  Data: 0x2515c80\n",
      "  Data Array Name: Points\n",
      "  Number Of Points: 365907\n",
      "  Bounds: \n",
      "    Xmin,Xmax: (-23.2351, 22.607)\n",
      "    Ymin,Ymax: (-6.2802, 27.5669)\n",
      "    Zmin,Zmax: (-40.75, -2.30217)\n",
      "\n",
      "\n"
     ]
    }
   ],
   "source": [
    "points_vtk = create_points(node_data[:,1:])\n",
    "print points_vtk"
   ]
  },
  {
   "cell_type": "code",
   "execution_count": 54,
   "metadata": {
    "collapsed": false
   },
   "outputs": [
    {
     "data": {
      "text/plain": [
       "array([[-14.38815022,   3.91869998, -40.66127396],\n",
       "       [  1.19105005,   6.01311016,  -3.25054002],\n",
       "       [  0.0989775 ,   5.46274996,  -4.43365002],\n",
       "       ..., \n",
       "       [ -3.90878844,  13.58772373, -19.94978714],\n",
       "       [  8.60037708,  11.79629707, -21.68141365],\n",
       "       [  5.1744709 ,   9.88372707, -28.10695839]], dtype=float32)"
      ]
     },
     "execution_count": 54,
     "metadata": {},
     "output_type": "execute_result"
    }
   ],
   "source": [
    "numpy_support.vtk_to_numpy(points_vtk.GetData())"
   ]
  },
  {
   "cell_type": "code",
   "execution_count": 55,
   "metadata": {
    "collapsed": false
   },
   "outputs": [
    {
     "name": "stdout",
     "output_type": "stream",
     "text": [
      "[[     4  62995  59889  69494  84741]\n",
      " [     4  50839  67995  67540  76044]\n",
      " [     4  54347  63238  74394  76748]\n",
      " ..., \n",
      " [     4  39023 303877  39057 203158]\n",
      " [     4 303877  39057 324221  39056]\n",
      " [     4 303877 324221  39057 203158]]\n",
      "vtkCellArray (0xb5cd600)\n",
      "  Debug: Off\n",
      "  Modified Time: 7083\n",
      "  Reference Count: 1\n",
      "  Registered Events: (none)\n",
      "  Number Of Cells: 2134624\n",
      "  Insert Location: 10673120\n",
      "  Traversal Location: 0\n",
      "\n",
      "\n"
     ]
    }
   ],
   "source": [
    "cells_vtk = create_cells(ele_data[:,1:-1])\n",
    "print cells_vtk"
   ]
  },
  {
   "cell_type": "code",
   "execution_count": 56,
   "metadata": {
    "collapsed": false
   },
   "outputs": [
    {
     "data": {
      "text/plain": [
       "array([     4,  62995,  59889, ..., 324221,  39057, 203158])"
      ]
     },
     "execution_count": 56,
     "metadata": {},
     "output_type": "execute_result"
    }
   ],
   "source": [
    "numpy_support.vtk_to_numpy(cells_vtk.GetData())"
   ]
  },
  {
   "cell_type": "code",
   "execution_count": 57,
   "metadata": {
    "collapsed": false
   },
   "outputs": [],
   "source": [
    "torso_tree = KDTree(node_data[:,1:], leaf_size=2)"
   ]
  },
  {
   "cell_type": "code",
   "execution_count": 58,
   "metadata": {
    "collapsed": false
   },
   "outputs": [
    {
     "name": "stderr",
     "output_type": "stream",
     "text": [
      "100%|██████████| 9/9 [00:21<00:00,  2.40s/it]\n"
     ]
    }
   ],
   "source": [
    "csv_data_vtk = []\n",
    "\n",
    "for i in tqdm(xrange(0,9)):\n",
    "    data_for_write = np.zeros(len(node_data))\n",
    "    data_for_write[:] = None\n",
    "    \n",
    "    for row in csv_data: \n",
    "        dist, ind = torso_tree.query(row[1:4].reshape(1, -1))\n",
    "        data_for_write[ind] = row[i]\n",
    "    \n",
    "    temp_= numpy_support.numpy_to_vtk(data_for_write, deep=True, array_type=vtk.VTK_FLOAT)\n",
    "    temp_.SetName('csv_data_{}_vtk'.format(i))\n",
    "    csv_data_vtk.append(temp_)"
   ]
  },
  {
   "cell_type": "code",
   "execution_count": 59,
   "metadata": {
    "collapsed": false
   },
   "outputs": [
    {
     "name": "stdout",
     "output_type": "stream",
     "text": [
      "vtkUnstructuredGrid (0x24a0c50)\n",
      "  Debug: Off\n",
      "  Modified Time: 7127\n",
      "  Reference Count: 1\n",
      "  Registered Events: (none)\n",
      "  Information: 0x26a1220\n",
      "  Data Released: False\n",
      "  Global Release Data: Off\n",
      "  UpdateTime: 0\n",
      "  Field Data:\n",
      "    Debug: Off\n",
      "    Modified Time: 7113\n",
      "    Reference Count: 1\n",
      "    Registered Events: (none)\n",
      "    Number Of Arrays: 0\n",
      "    Number Of Components: 0\n",
      "    Number Of Tuples: 0\n",
      "  Number Of Points: 365907\n",
      "  Number Of Cells: 2134624\n",
      "  Cell Data:\n",
      "    Debug: Off\n",
      "    Modified Time: 7116\n",
      "    Reference Count: 1\n",
      "    Registered Events: (none)\n",
      "    Number Of Arrays: 0\n",
      "    Number Of Components: 0\n",
      "    Number Of Tuples: 0\n",
      "    Copy Tuple Flags: ( 1 1 1 1 1 0 1 1 )\n",
      "    Interpolate Flags: ( 1 1 1 1 1 0 0 1 )\n",
      "    Pass Through Flags: ( 1 1 1 1 1 1 1 1 )\n",
      "    Scalars: (none)\n",
      "    Vectors: (none)\n",
      "    Normals: (none)\n",
      "    TCoords: (none)\n",
      "    Tensors: (none)\n",
      "    GlobalIds: (none)\n",
      "    PedigreeIds: (none)\n",
      "    EdgeFlag: (none)\n",
      "  Point Data:\n",
      "    Debug: Off\n",
      "    Modified Time: 7115\n",
      "    Reference Count: 1\n",
      "    Registered Events: (none)\n",
      "    Number Of Arrays: 0\n",
      "    Number Of Components: 0\n",
      "    Number Of Tuples: 0\n",
      "    Copy Tuple Flags: ( 1 1 1 1 1 0 1 1 )\n",
      "    Interpolate Flags: ( 1 1 1 1 1 0 0 1 )\n",
      "    Pass Through Flags: ( 1 1 1 1 1 1 1 1 )\n",
      "    Scalars: (none)\n",
      "    Vectors: (none)\n",
      "    Normals: (none)\n",
      "    TCoords: (none)\n",
      "    Tensors: (none)\n",
      "    GlobalIds: (none)\n",
      "    PedigreeIds: (none)\n",
      "    EdgeFlag: (none)\n",
      "  Bounds: \n",
      "    Xmin,Xmax: (-23.2351, 22.607)\n",
      "    Ymin,Ymax: (-6.2802, 27.5669)\n",
      "    Zmin,Zmax: (-40.75, -2.30217)\n",
      "  Compute Time: 7130\n",
      "  Number Of Points: 365907\n",
      "  Point Coordinates: 0xb21c080\n",
      "  Locator: 0\n",
      "  Number Of Pieces: 1\n",
      "  Piece: -1\n",
      "  Ghost Level: 0\n",
      "\n",
      "\n"
     ]
    }
   ],
   "source": [
    "grid = vtk.vtkUnstructuredGrid()\n",
    "grid.SetPoints(points_vtk)\n",
    "grid.SetCells(10,cells_vtk)\n",
    "\n",
    "print grid"
   ]
  },
  {
   "cell_type": "code",
   "execution_count": 60,
   "metadata": {
    "collapsed": true
   },
   "outputs": [],
   "source": [
    "for i in xrange(0,9):\n",
    "    grid.GetPointData().AddArray(csv_data_vtk[i])"
   ]
  },
  {
   "cell_type": "code",
   "execution_count": 61,
   "metadata": {
    "collapsed": false
   },
   "outputs": [
    {
     "data": {
      "text/plain": [
       "1"
      ]
     },
     "execution_count": 61,
     "metadata": {},
     "output_type": "execute_result"
    }
   ],
   "source": [
    "writer = vtk.vtkXMLUnstructuredGridWriter()\n",
    "writer.SetFileName(FILE_OUT)\n",
    "writer.SetInputData(grid)\n",
    "writer.Write()"
   ]
  },
  {
   "cell_type": "code",
   "execution_count": 62,
   "metadata": {
    "collapsed": false
   },
   "outputs": [
    {
     "data": {
      "text/plain": [
       "array([    4, 62995, 59889, 69494, 84741,     4, 50839, 67995, 67540, 76044])"
      ]
     },
     "execution_count": 62,
     "metadata": {},
     "output_type": "execute_result"
    }
   ],
   "source": [
    "numpy_support.vtk_to_numpy(grid.GetCells().GetData())[:10]"
   ]
  },
  {
   "cell_type": "code",
   "execution_count": null,
   "metadata": {
    "collapsed": true
   },
   "outputs": [],
   "source": []
  },
  {
   "cell_type": "code",
   "execution_count": null,
   "metadata": {
    "collapsed": true
   },
   "outputs": [],
   "source": []
  },
  {
   "cell_type": "code",
   "execution_count": null,
   "metadata": {
    "collapsed": true
   },
   "outputs": [],
   "source": []
  }
 ],
 "metadata": {
  "kernelspec": {
   "display_name": "Python 2",
   "language": "python",
   "name": "python2"
  },
  "language_info": {
   "codemirror_mode": {
    "name": "ipython",
    "version": 2
   },
   "file_extension": ".py",
   "mimetype": "text/x-python",
   "name": "python",
   "nbconvert_exporter": "python",
   "pygments_lexer": "ipython2",
   "version": "2.7.9"
  }
 },
 "nbformat": 4,
 "nbformat_minor": 2
}
