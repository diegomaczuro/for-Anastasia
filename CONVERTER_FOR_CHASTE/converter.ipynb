{
 "cells": [
  {
   "cell_type": "code",
   "execution_count": 7,
   "metadata": {
    "collapsed": true
   },
   "outputs": [],
   "source": [
    "import numpy as np\n",
    "import pandas as pd\n",
    "from vtk import *\n",
    "from vtk.util import numpy_support\n",
    "import os\n",
    "\n",
    "from tqdm import tqdm"
   ]
  },
  {
   "cell_type": "code",
   "execution_count": 8,
   "metadata": {
    "collapsed": true
   },
   "outputs": [],
   "source": [
    "CHASTE_FILE = './chaste/'\n",
    "\n",
    "if not os.path.exists(CHASTE_FILE):\n",
    "    os.makedirs(CHASTE_FILE)\n",
    "    \n",
    "FILE_VTK = './MESH1.vtu'\n",
    "CHASTE_NODE = './chaste/data.node'\n",
    "CHASTE_ELE = './chaste/data.ele'\n",
    "CHASTE_FACE = './chaste/data.face'\n",
    "CHASTE_AXI = './chaste/data.axi'\n",
    "CHASTE_CSV = './chaste/data.csv'"
   ]
  },
  {
   "cell_type": "code",
   "execution_count": 9,
   "metadata": {
    "collapsed": false
   },
   "outputs": [],
   "source": [
    "reader = vtkXMLUnstructuredGridReader()\n",
    "reader.SetFileName(FILE_VTK)\n",
    "reader.Update()\n",
    "assert(os.path.exists(FILE_VTK))"
   ]
  },
  {
   "cell_type": "code",
   "execution_count": 10,
   "metadata": {
    "collapsed": true
   },
   "outputs": [
    {
     "name": "stdout",
     "output_type": "stream",
     "text": [
      "vtkUnstructuredGrid (0x1c53b60)\n",
      "  Debug: Off\n",
      "  Modified Time: 598\n",
      "  Reference Count: 2\n",
      "  Registered Events: (none)\n",
      "  Information: 0x1a9bfa0\n",
      "  Data Released: False\n",
      "  Global Release Data: Off\n",
      "  UpdateTime: 626\n",
      "  Field Data:\n",
      "    Debug: Off\n",
      "    Modified Time: 553\n",
      "    Reference Count: 1\n",
      "    Registered Events: (none)\n",
      "    Number Of Arrays: 0\n",
      "    Number Of Components: 0\n",
      "    Number Of Tuples: 0\n",
      "  Number Of Points: 1718676\n",
      "  Number Of Cells: 9976600\n",
      "  Cell Data:\n",
      "    Debug: Off\n",
      "    Modified Time: 561\n",
      "    Reference Count: 1\n",
      "    Registered Events: (none)\n",
      "    Number Of Arrays: 0\n",
      "    Number Of Components: 0\n",
      "    Number Of Tuples: 0\n",
      "    Copy Tuple Flags: ( 1 1 1 1 1 0 1 1 )\n",
      "    Interpolate Flags: ( 1 1 1 1 1 0 0 1 )\n",
      "    Pass Through Flags: ( 1 1 1 1 1 1 1 1 )\n",
      "    Scalars: (none)\n",
      "    Vectors: (none)\n",
      "    Normals: (none)\n",
      "    TCoords: (none)\n",
      "    Tensors: (none)\n",
      "    GlobalIds: (none)\n",
      "    PedigreeIds: (none)\n",
      "    EdgeFlag: (none)\n",
      "  Point Data:\n",
      "    Debug: Off\n",
      "    Modified Time: 598\n",
      "    Reference Count: 1\n",
      "    Registered Events: (none)\n",
      "    Number Of Arrays: 2\n",
      "    Array 0 name = Fibers\n",
      "    Array 1 name = Color\n",
      "    Number Of Components: 4\n",
      "    Number Of Tuples: 1718676\n",
      "    Copy Tuple Flags: ( 1 1 1 1 1 0 1 1 )\n",
      "    Interpolate Flags: ( 1 1 1 1 1 0 0 1 )\n",
      "    Pass Through Flags: ( 1 1 1 1 1 1 1 1 )\n",
      "    Scalars: (none)\n",
      "    Vectors: (none)\n",
      "    Normals: (none)\n",
      "    TCoords: (none)\n",
      "    Tensors: (none)\n",
      "    GlobalIds: (none)\n",
      "    PedigreeIds: (none)\n",
      "    EdgeFlag: (none)\n",
      "  Bounds: \n",
      "    Xmin,Xmax: (1.60198, 6.39419)\n",
      "    Ymin,Ymax: (1.02479, 5.29014)\n",
      "    Zmin,Zmax: (0.991728, 7.20299)\n",
      "  Compute Time: 648\n",
      "  Number Of Points: 1718676\n",
      "  Point Coordinates: 0x29abc60\n",
      "  Locator: 0\n",
      "  Number Of Pieces: 1\n",
      "  Piece: 0\n",
      "  Ghost Level: 0\n",
      "\n",
      " vtkPoints (0x29abc60)\n",
      "  Debug: Off\n",
      "  Modified Time: 584\n",
      "  Reference Count: 2\n",
      "  Registered Events: (none)\n",
      "  Data: 0x29abdc0\n",
      "  Data Array Name: Points\n",
      "  Number Of Points: 1718676\n",
      "  Bounds: \n",
      "    Xmin,Xmax: (1.60198, 6.39419)\n",
      "    Ymin,Ymax: (1.02479, 5.29014)\n",
      "    Zmin,Zmax: (0.991728, 7.20299)\n",
      "\n",
      " vtkCellArray (0x299d7e0)\n",
      "  Debug: Off\n",
      "  Modified Time: 587\n",
      "  Reference Count: 2\n",
      "  Registered Events: (none)\n",
      "  Number Of Cells: 9976600\n",
      "  Insert Location: 0\n",
      "  Traversal Location: 0\n",
      "\n",
      "\n"
     ]
    }
   ],
   "source": [
    "data = reader.GetOutput()\n",
    "points = data.GetPoints()\n",
    "cells = data.GetCells()\n",
    "print data, points, cells"
   ]
  },
  {
   "cell_type": "code",
   "execution_count": 11,
   "metadata": {
    "collapsed": false
   },
   "outputs": [
    {
     "name": "stdout",
     "output_type": "stream",
     "text": [
      "[[ 2.42452955  1.53688562  4.04003382]\n",
      " [ 2.41604114  1.53202176  4.07285881]\n",
      " [ 2.39152527  1.54640925  4.07285881]\n",
      " ..., \n",
      " [ 1.83399839  2.47370691  3.55495606]\n",
      " [ 3.10052833  2.28543999  4.33637869]\n",
      " [ 2.97804635  4.2595794   2.92013732]]\n",
      "[      3      10   81577 ...,  595514   72658 1193141]\n",
      "[ 0.  0.  0. ...,  0.  0.  0.]\n"
     ]
    }
   ],
   "source": [
    "points_array = numpy_support.vtk_to_numpy(points.GetData())\n",
    "cells_array = numpy_support.vtk_to_numpy(cells.GetData())\n",
    "scalars_array = numpy_support.vtk_to_numpy(reader.GetOutput().GetPointData().GetAbstractArray('Color'))\n",
    "\n",
    "print points_array\n",
    "print cells_array\n",
    "print scalars_array"
   ]
  },
  {
   "cell_type": "code",
   "execution_count": 12,
   "metadata": {
    "collapsed": false
   },
   "outputs": [
    {
     "data": {
      "text/plain": [
       "1.0"
      ]
     },
     "execution_count": 12,
     "metadata": {},
     "output_type": "execute_result"
    }
   ],
   "source": [
    "max(scalars_array)"
   ]
  },
  {
   "cell_type": "code",
   "execution_count": 13,
   "metadata": {
    "collapsed": true
   },
   "outputs": [
    {
     "data": {
      "text/plain": [
       "array([[-0.90615493,  0.247123  ,  0.34323969],\n",
       "       [-0.90615493,  0.247123  ,  0.34323969],\n",
       "       [-0.88484681,  0.24654818,  0.39529753],\n",
       "       ..., \n",
       "       [-0.74907786,  0.27869657,  0.601008  ],\n",
       "       [ 0.25457823, -0.05401361,  0.96554255],\n",
       "       [-0.29722399,  0.37234417,  0.87921429]], dtype=float32)"
      ]
     },
     "execution_count": 13,
     "metadata": {},
     "output_type": "execute_result"
    }
   ],
   "source": [
    "vectors = numpy_support.vtk_to_numpy(data.GetPointData().GetAbstractArray('Fibers'))\n",
    "vectors"
   ]
  },
  {
   "cell_type": "code",
   "execution_count": 14,
   "metadata": {
    "collapsed": false
   },
   "outputs": [
    {
     "name": "stderr",
     "output_type": "stream",
     "text": [
      "100%|██████████| 1718676/1718676 [00:05<00:00, 326849.24it/s]\n"
     ]
    }
   ],
   "source": [
    "with open(CHASTE_NODE, 'w') as fl:\n",
    "    fl.write(\"{count} 3 0 0\\n\".format(count = len(points_array)))\n",
    "    for i in tqdm(xrange(len(points_array))):\n",
    "        fl.write(\"{n} {x} {y} {z}\\n\".format(n=i, x=points_array[i][0], \n",
    "                                            y=points_array[i][1], \n",
    "                                            z=points_array[i][2]))"
   ]
  },
  {
   "cell_type": "code",
   "execution_count": 15,
   "metadata": {
    "collapsed": true
   },
   "outputs": [],
   "source": [
    "j = 0\n",
    "lst = []\n",
    "\n",
    "while j < len(cells_array):\n",
    "    if cells_array[j] == 4:\n",
    "        lst.append([cells_array[j+1], cells_array[j+2], cells_array[j+3], cells_array[j+4]])\n",
    "    j += cells_array[j] + 1"
   ]
  },
  {
   "cell_type": "code",
   "execution_count": 16,
   "metadata": {
    "collapsed": false
   },
   "outputs": [
    {
     "name": "stderr",
     "output_type": "stream",
     "text": [
      "100%|██████████| 9323944/9323944 [00:26<00:00, 353513.10it/s]\n"
     ]
    }
   ],
   "source": [
    "count_torso = 0\n",
    "\n",
    "with open(CHASTE_ELE, 'w') as fl:\n",
    "    fl.write(\"{count} 4 1\\n\".format(count = len(lst)))\n",
    "    for i in tqdm(xrange(len(lst))):\n",
    "        fl.write(\"{n} {p1} {p2} {p3} {p4} {is_torso}\\n\".format(n=i, \n",
    "                                                      p1=lst[i][0], \n",
    "                                                      p2=lst[i][1],  \n",
    "                                                      p3=lst[i][2], \n",
    "                                                      p4=lst[i][3],\n",
    "                                                      is_torso=0))"
   ]
  },
  {
   "cell_type": "code",
   "execution_count": 17,
   "metadata": {
    "collapsed": false
   },
   "outputs": [
    {
     "name": "stderr",
     "output_type": "stream",
     "text": [
      "100%|██████████| 9323944/9323944 [07:36<00:00, 20427.26it/s]\n"
     ]
    }
   ],
   "source": [
    "with open(CHASTE_AXI, 'w') as fl:\n",
    "    fl.write(\"{count}\\n\".format(count = len(lst)))\n",
    "    for i in tqdm(xrange(len(lst))):\n",
    "        vec1 = np.zeros(3) if np.linalg.norm(vectors[lst[i][0]]) < 0.000001 else vectors[lst[i][0]] / np.linalg.norm(vectors[lst[i][0]])\n",
    "        vec2 = np.zeros(3) if np.linalg.norm(vectors[lst[i][1]]) < 0.000001 else vectors[lst[i][1]] / np.linalg.norm(vectors[lst[i][1]])\n",
    "        vec3 = np.zeros(3) if np.linalg.norm(vectors[lst[i][2]]) < 0.000001 else vectors[lst[i][2]] / np.linalg.norm(vectors[lst[i][2]])\n",
    "        vec4 = np.zeros(3) if np.linalg.norm(vectors[lst[i][3]]) < 0.000001 else vectors[lst[i][3]] / np.linalg.norm(vectors[lst[i][3]])\n",
    "        \n",
    "        tmp = vec1 + vec2 + vec3 + vec4\n",
    "        tmp = np.array([1.0,0.0,0.0]) if np.linalg.norm(tmp) < 0.000001 else  tmp / np.linalg.norm(tmp)\n",
    "        fl.write(\"{p1} {p2} {p3}\\n\".format(p1=tmp[0], \n",
    "                                           p2=tmp[1],  \n",
    "                                           p3=tmp[2]))"
   ]
  },
  {
   "cell_type": "code",
   "execution_count": 20,
   "metadata": {
    "collapsed": true
   },
   "outputs": [],
   "source": [
    "heart_size = len(np.where(scalars_array > 0.00001)[0])"
   ]
  },
  {
   "cell_type": "code",
   "execution_count": 21,
   "metadata": {
    "collapsed": false
   },
   "outputs": [
    {
     "name": "stderr",
     "output_type": "stream",
     "text": [
      "100%|██████████| 1718676/1718676 [00:02<00:00, 609777.01it/s]\n"
     ]
    }
   ],
   "source": [
    "csv = np.zeros((heart_size, 9))\n",
    "idx = 0\n",
    "\n",
    "for i in tqdm(xrange(len(scalars_array))):\n",
    "    if scalars_array[i] > 0.00001:\n",
    "        csv[idx, 0] = i                      # index,    dimensionless\n",
    "        csv[idx, 1] = x = points_array[i, 0] # x,        cm\n",
    "        csv[idx, 2] = y = points_array[i, 1] # y,        cm\n",
    "        csv[idx, 3] = z = points_array[i, 2] # z,        cm\n",
    "        csv[idx, 4] = 0.392       # g_Ks      dimensionless\n",
    "        csv[idx, 5] = -50000             # amplitude nA \n",
    "        csv[idx, 6] = 3                  # duration  ms\n",
    "        csv[idx, 7] = 0                  # time      ms\n",
    "        \n",
    "        csv[idx, 8] = 1                      # model     categorial(1,2,3)\n",
    "        idx += 1\n",
    "    \n",
    "np.savetxt(CHASTE_CSV, csv)"
   ]
  },
  {
   "cell_type": "code",
   "execution_count": 23,
   "metadata": {
    "collapsed": false
   },
   "outputs": [
    {
     "data": {
      "text/plain": [
       "31779"
      ]
     },
     "execution_count": 23,
     "metadata": {},
     "output_type": "execute_result"
    }
   ],
   "source": [
    "heart_size"
   ]
  },
  {
   "cell_type": "code",
   "execution_count": 24,
   "metadata": {
    "collapsed": true
   },
   "outputs": [],
   "source": [
    "!cd chaste; tetgen -YrkCV data > trouble.log"
   ]
  },
  {
   "cell_type": "code",
   "execution_count": 25,
   "metadata": {
    "collapsed": true
   },
   "outputs": [],
   "source": [
    "!cd chaste; mv data.1.ele data.ele\n",
    "!cd chaste; mv data.1.node data.node\n",
    "!cd chaste; mv data.1.face data.face\n",
    "!cd chaste; rm data.1.*"
   ]
  },
  {
   "cell_type": "code",
   "execution_count": null,
   "metadata": {
    "collapsed": true
   },
   "outputs": [],
   "source": []
  }
 ],
 "metadata": {
  "kernelspec": {
   "display_name": "Python 2",
   "language": "python",
   "name": "python2"
  },
  "language_info": {
   "codemirror_mode": {
    "name": "ipython",
    "version": 2
   },
   "file_extension": ".py",
   "mimetype": "text/x-python",
   "name": "python",
   "nbconvert_exporter": "python",
   "pygments_lexer": "ipython2",
   "version": "2.7.12"
  }
 },
 "nbformat": 4,
 "nbformat_minor": 2
}
