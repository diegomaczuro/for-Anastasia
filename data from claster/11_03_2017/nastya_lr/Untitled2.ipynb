{
 "metadata": {
  "name": "",
  "signature": "sha256:ccf3263d82e2620e27b18e6537ff8f1335fbfe91c2c5025a1d481bbf1b6ddd76"
 },
 "nbformat": 3,
 "nbformat_minor": 0,
 "worksheets": [
  {
   "cells": [
    {
     "cell_type": "code",
     "collapsed": false,
     "input": [
      "from vtk import *\n",
      "import numpy as np"
     ],
     "language": "python",
     "metadata": {},
     "outputs": [],
     "prompt_number": 1
    },
    {
     "cell_type": "code",
     "collapsed": false,
     "input": [
      "plane = vtkPlane()"
     ],
     "language": "python",
     "metadata": {},
     "outputs": [],
     "prompt_number": 2
    },
    {
     "cell_type": "code",
     "collapsed": false,
     "input": [
      "plane.SetOrigin([1,1,1])\n",
      "plane.SetNormal([0,0,1])"
     ],
     "language": "python",
     "metadata": {},
     "outputs": [],
     "prompt_number": 16
    },
    {
     "cell_type": "code",
     "collapsed": false,
     "input": [
      "v = [1,1,1]\n",
      "vproj = np.zeros(3)\n",
      "\n",
      "plane.ProjectVector(v, vproj)\n",
      "vproj"
     ],
     "language": "python",
     "metadata": {},
     "outputs": [
      {
       "metadata": {},
       "output_type": "pyout",
       "prompt_number": 17,
       "text": [
        "array([ 1.,  1.,  0.])"
       ]
      }
     ],
     "prompt_number": 17
    },
    {
     "cell_type": "code",
     "collapsed": false,
     "input": [
      "v = [1,1,1]\n",
      "origin = [2,2,2]\n",
      "normal = [10,1,0]\n",
      "vproj = np.zeros(3)\n",
      "\n",
      "plane.ProjectVector(v, origin, normal, vproj)\n",
      "vproj"
     ],
     "language": "python",
     "metadata": {},
     "outputs": [
      {
       "metadata": {},
       "output_type": "pyout",
       "prompt_number": 19,
       "text": [
        "array([-0.08910891,  0.89108911,  1.        ])"
       ]
      }
     ],
     "prompt_number": 19
    },
    {
     "cell_type": "code",
     "collapsed": false,
     "input": [],
     "language": "python",
     "metadata": {},
     "outputs": []
    }
   ],
   "metadata": {}
  }
 ]
}