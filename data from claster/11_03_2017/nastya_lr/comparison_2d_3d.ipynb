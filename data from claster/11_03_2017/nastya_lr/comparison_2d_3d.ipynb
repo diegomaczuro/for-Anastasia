{
 "metadata": {
  "name": "",
  "signature": "sha256:7584a70acb2a3c62a470518b90ac508bf5bd4d68ff75c7916c53a2bfa740c4e8"
 },
 "nbformat": 3,
 "nbformat_minor": 0,
 "worksheets": [
  {
   "cells": [
    {
     "cell_type": "code",
     "collapsed": false,
     "input": [
      "import numpy as np\n",
      "import pandas as pd\n",
      "from vtk import *\n",
      "from vtk.util import numpy_support\n",
      "import os\n",
      "from sklearn.neighbors import KDTree\n",
      "from vtk.util.numpy_support import vtk_to_numpy\n",
      "from vtk.util.numpy_support import numpy_to_vtk\n",
      "from tqdm import tqdm\n",
      "import glob"
     ],
     "language": "python",
     "metadata": {},
     "outputs": [],
     "prompt_number": 1
    },
    {
     "cell_type": "code",
     "collapsed": false,
     "input": [
      "CHASTE_FILE = './chaste/'\n",
      "WAY_2D = '/home/shido/chaste-output/nastya_lr/video'\n",
      "FILE_2D_VTU = 'heart_4.vtu'\n",
      "FILE_TURN_2D = 'turn_slice_2d.vtu'\n",
      "FILE_MESH = 'slice_mesh2.vtk'\n",
      "FILE_3D_VTU = 'torso_4.vtu'\n",
      "WAY_3D = '/home/shido/Documents/shido/for Anastasia/for-Anastasia/data from claster/11_03_2017/nastya_lr/video'\n",
      "FILE_RESULT_DIFFERCE = 'result_difference_V{ind}.vtu'\n",
      "FOLDER_DIFFERENCE_RESULT = 'difference_result'\n",
      "POINT_O = 62\n",
      "POINT_A = 6571\n",
      "POINT_B = 785\n",
      "!pwd\n",
      "np.set_printoptions(precision=418)"
     ],
     "language": "python",
     "metadata": {},
     "outputs": [
      {
       "output_type": "stream",
       "stream": "stdout",
       "text": [
        "/home/shido/Documents/shido/for Anastasia/for-Anastasia/data from claster/11_03_2017/nastya_lr\r\n"
       ]
      }
     ],
     "prompt_number": 2
    },
    {
     "cell_type": "code",
     "collapsed": false,
     "input": [
      "VTU_FILES_2D = glob.glob(os.path.join(WAY_2D, '*.vtu'))\n",
      "VTU_FILES_3D = glob.glob(os.path.join(WAY_3D, '*.vtu'))\n",
      "VTU_FILES_2D"
     ],
     "language": "python",
     "metadata": {},
     "outputs": [
      {
       "metadata": {},
       "output_type": "pyout",
       "prompt_number": 3,
       "text": [
        "['/home/shido/chaste-output/nastya_lr/video/heart_9.vtu',\n",
        " '/home/shido/chaste-output/nastya_lr/video/heart_3.vtu',\n",
        " '/home/shido/chaste-output/nastya_lr/video/heart_4.vtu',\n",
        " '/home/shido/chaste-output/nastya_lr/video/heart_14.vtu',\n",
        " '/home/shido/chaste-output/nastya_lr/video/heart_8.vtu',\n",
        " '/home/shido/chaste-output/nastya_lr/video/heart_2.vtu',\n",
        " '/home/shido/chaste-output/nastya_lr/video/heart_6.vtu',\n",
        " '/home/shido/chaste-output/nastya_lr/video/heart_15.vtu',\n",
        " '/home/shido/chaste-output/nastya_lr/video/heart_11.vtu',\n",
        " '/home/shido/chaste-output/nastya_lr/video/heart_1.vtu',\n",
        " '/home/shido/chaste-output/nastya_lr/video/heart_5.vtu',\n",
        " '/home/shido/chaste-output/nastya_lr/video/heart_0.vtu',\n",
        " '/home/shido/chaste-output/nastya_lr/video/heart_7.vtu',\n",
        " '/home/shido/chaste-output/nastya_lr/video/heart_10.vtu',\n",
        " '/home/shido/chaste-output/nastya_lr/video/heart_13.vtu',\n",
        " '/home/shido/chaste-output/nastya_lr/video/heart_12.vtu']"
       ]
      }
     ],
     "prompt_number": 3
    },
    {
     "cell_type": "code",
     "collapsed": false,
     "input": [
      "assert(os.path.exists(os.path.join(WAY_2D, FILE_2D_VTU)))\n",
      "assert(os.path.exists(os.path.join(WAY_3D, FILE_3D_VTU)))"
     ],
     "language": "python",
     "metadata": {},
     "outputs": [],
     "prompt_number": 4
    },
    {
     "cell_type": "code",
     "collapsed": false,
     "input": [
      "reader2 = vtkUnstructuredGridReader()\n",
      "reader2.SetFileName(FILE_MESH)\n",
      "reader2.Update()\n",
      "ug2 = reader2.GetOutput()\n",
      "points2 = ug2.GetPoints()\n",
      "coord_points_data2 = vtk_to_numpy(points2.GetData())\n",
      "coord_points_data2"
     ],
     "language": "python",
     "metadata": {},
     "outputs": [
      {
       "metadata": {},
       "output_type": "pyout",
       "prompt_number": 5,
       "text": [
        "array([[ 2.396570000000000089102059064316563308238983154296875 ,\n",
        "         2.834470000000000045048409447190351784229278564453125 ,\n",
        "         2.107549999999999812416717759333550930023193359375    ],\n",
        "       [ 2.418366265452414953784909812384285032749176025390625 ,\n",
        "         2.834470000000000045048409447190351784229278564453125 ,\n",
        "         2.08019948592150694111069242353551089763641357421875  ],\n",
        "       [ 2.440806543944991080508088998612947762012481689453125 ,\n",
        "         2.834470000000000045048409447190351784229278564453125 ,\n",
        "         2.053376548153261982321282630437053740024566650390625 ],\n",
        "       ..., \n",
        "       [ 4.09603913966717758654567660414613783359527587890625  ,\n",
        "         2.834470000000000045048409447190351784229278564453125 ,\n",
        "         1.0492115960424699405706405741511844098567962646484375],\n",
        "       [ 3.97081886471726885901034620474092662334442138671875  ,\n",
        "         2.834470000000000045048409447190351784229278564453125 ,\n",
        "         1.0454906148808469357192052484606392681598663330078125],\n",
        "       [ 4.04382200581471717981685287668369710445404052734375  ,\n",
        "         2.834470000000000045048409447190351784229278564453125 ,\n",
        "         1.04451127498114093583581052371300756931304931640625  ]])"
       ]
      }
     ],
     "prompt_number": 5
    },
    {
     "cell_type": "code",
     "collapsed": false,
     "input": [
      "vec1 = coord_points_data2[POINT_A] - coord_points_data2[POINT_O]\n",
      "vec2_ = coord_points_data2[POINT_B] - coord_points_data2[POINT_O]\n",
      "print vec1, vec2_\n"
     ],
     "language": "python",
     "metadata": {},
     "outputs": [
      {
       "output_type": "stream",
       "stream": "stdout",
       "text": [
        "[ 1.5629357831021390978776253177784383296966552734375  0.\n",
        "  2.8055342198547439380718060419894754886627197265625] [-2.288158263036873751872235516202636063098907470703125  0.\n",
        "  1.96304665218159701822742135846056044101715087890625 ]\n"
       ]
      }
     ],
     "prompt_number": 6
    },
    {
     "cell_type": "code",
     "collapsed": false,
     "input": [
      "vec3 = np.cross(vec1, vec2_)\n",
      "vec2 = np.cross(vec1, vec3)\n",
      "vec1_len = np.linalg.norm(vec1)\n",
      "vec2_len = np.linalg.norm(vec2)\n",
      "vec3_len = np.linalg.norm(vec3)\n",
      "L = np.matrix(np.vstack([vec1/vec1_len, vec2/vec2_len, vec3/vec3_len]).T)\n",
      "L_inv = np.linalg.inv(L)\n",
      "L"
     ],
     "language": "python",
     "metadata": {},
     "outputs": [
      {
       "metadata": {},
       "output_type": "pyout",
       "prompt_number": 7,
       "text": [
        "matrix([[ 0.48666709262240004374433510747621767222881317138671875 ,\n",
        "          0.87358751190619721160857125141774304211139678955078125 ,  0.                                                      ],\n",
        "        [ 0.                                                      ,\n",
        "          0.                                                      , -1.                                                      ],\n",
        "        [ 0.87358751190619721160857125141774304211139678955078125 ,\n",
        "         -0.486667092622400099255486338734044693410396575927734375,  0.                                                      ]])"
       ]
      }
     ],
     "prompt_number": 7
    },
    {
     "cell_type": "code",
     "collapsed": false,
     "input": [
      "reader = vtk.vtkXMLUnstructuredGridReader()\n",
      "reader.SetFileName(os.path.join(WAY_2D, FILE_2D_VTU))\n",
      "reader.Update()\n",
      "\n",
      "output = reader.GetOutput()\n",
      "\n",
      "points = output.GetPoints()\n",
      "coord_points_data = vtk_to_numpy(points.GetData())"
     ],
     "language": "python",
     "metadata": {},
     "outputs": [],
     "prompt_number": 8
    },
    {
     "cell_type": "code",
     "collapsed": false,
     "input": [
      "scalars = vtk_to_numpy(output.GetPointData().GetArray('V'))"
     ],
     "language": "python",
     "metadata": {},
     "outputs": [],
     "prompt_number": 9
    },
    {
     "cell_type": "code",
     "collapsed": false,
     "input": [
      "result = np.zeros_like(coord_points_data)\n",
      "print  L*np.matrix(coord_points_data[0]).T\n",
      "print np.reshape(coord_points_data2[POINT_O], (3,1))\n",
      "for i in tqdm(xrange(len(coord_points_data))):\n",
      "    point_transform = L*np.matrix(coord_points_data[i]).T + np.reshape(coord_points_data2[POINT_O], (3,1))\n",
      "    result[i,:] = point_transform[:].T"
     ],
     "language": "python",
     "metadata": {},
     "outputs": [
      {
       "output_type": "stream",
       "stream": "stderr",
       "text": [
        "\r",
        "  0%|          | 0/11612 [00:00<?, ?it/s]"
       ]
      },
      {
       "output_type": "stream",
       "stream": "stderr",
       "text": [
        "\r",
        " 11%|\u2588         | 1246/11612 [00:00<00:00, 12452.41it/s]"
       ]
      },
      {
       "output_type": "stream",
       "stream": "stderr",
       "text": [
        "\r",
        " 21%|\u2588\u2588\u258f       | 2490/11612 [00:00<00:00, 12448.20it/s]"
       ]
      },
      {
       "output_type": "stream",
       "stream": "stderr",
       "text": [
        "\r",
        " 32%|\u2588\u2588\u2588\u258f      | 3722/11612 [00:00<00:00, 12408.27it/s]"
       ]
      },
      {
       "output_type": "stream",
       "stream": "stderr",
       "text": [
        "\r",
        " 43%|\u2588\u2588\u2588\u2588\u258e     | 4947/11612 [00:00<00:00, 12358.44it/s]"
       ]
      },
      {
       "output_type": "stream",
       "stream": "stderr",
       "text": [
        "\r",
        " 53%|\u2588\u2588\u2588\u2588\u2588\u258e    | 6194/11612 [00:00<00:00, 12389.08it/s]"
       ]
      },
      {
       "output_type": "stream",
       "stream": "stderr",
       "text": [
        "\r",
        " 64%|\u2588\u2588\u2588\u2588\u2588\u2588\u258d   | 7461/11612 [00:00<00:00, 12470.20it/s]"
       ]
      },
      {
       "output_type": "stream",
       "stream": "stderr",
       "text": [
        "\r",
        " 75%|\u2588\u2588\u2588\u2588\u2588\u2588\u2588\u258c  | 8734/11612 [00:00<00:00, 12546.62it/s]"
       ]
      },
      {
       "output_type": "stream",
       "stream": "stderr",
       "text": [
        "\r",
        " 86%|\u2588\u2588\u2588\u2588\u2588\u2588\u2588\u2588\u258c | 10008/11612 [00:00<00:00, 12603.71it/s]"
       ]
      },
      {
       "output_type": "stream",
       "stream": "stderr",
       "text": [
        "\r",
        " 97%|\u2588\u2588\u2588\u2588\u2588\u2588\u2588\u2588\u2588\u258b| 11253/11612 [00:00<00:00, 12555.96it/s]"
       ]
      },
      {
       "output_type": "stream",
       "stream": "stderr",
       "text": [
        "\r",
        "100%|\u2588\u2588\u2588\u2588\u2588\u2588\u2588\u2588\u2588\u2588| 11612/11612 [00:00<00:00, 12492.37it/s]"
       ]
      },
      {
       "output_type": "stream",
       "stream": "stdout",
       "text": [
        "[[-1.7390665920719661219351337422267533838748931884765625]\n",
        " [ 0.                                                    ]\n",
        " [ 1.0789132061165662701540668422239832580089569091796875]]\n",
        "[[ 4.13563656252728772955151725909672677516937255859375 ]\n",
        " [ 2.834470000000000045048409447190351784229278564453125]\n",
        " [ 1.028636811441618892359883830067701637744903564453125]]\n"
       ]
      },
      {
       "output_type": "stream",
       "stream": "stderr",
       "text": [
        "\n"
       ]
      }
     ],
     "prompt_number": 10
    },
    {
     "cell_type": "code",
     "collapsed": false,
     "input": [
      "points = numpy_to_vtk(result, deep=True, array_type=vtk.VTK_FLOAT)\n",
      "vtkpoints = vtkPoints()\n",
      "for i in tqdm(xrange(len(coord_points_data2))):\n",
      "    vtkpoints.InsertPoint(i, result[i, 0], result[i, 1], result[i, 2])\n",
      "output.SetPoints(vtkpoints)"
     ],
     "language": "python",
     "metadata": {},
     "outputs": [
      {
       "output_type": "stream",
       "stream": "stderr",
       "text": [
        "\r",
        "  0%|          | 0/11612 [00:00<?, ?it/s]"
       ]
      },
      {
       "output_type": "stream",
       "stream": "stderr",
       "text": [
        "\r",
        "100%|\u2588\u2588\u2588\u2588\u2588\u2588\u2588\u2588\u2588\u2588| 11612/11612 [00:00<00:00, 212678.63it/s]"
       ]
      },
      {
       "output_type": "stream",
       "stream": "stderr",
       "text": [
        "\n"
       ]
      }
     ],
     "prompt_number": 11
    },
    {
     "cell_type": "code",
     "collapsed": false,
     "input": [
      "writer = vtk.vtkXMLUnstructuredGridWriter() # vtu\n",
      "\n",
      "writer.SetFileName(FILE_TURN_2D)\n",
      "writer.SetInputData(output)\n",
      "writer.Write()"
     ],
     "language": "python",
     "metadata": {},
     "outputs": [
      {
       "metadata": {},
       "output_type": "pyout",
       "prompt_number": 12,
       "text": [
        "1"
       ]
      }
     ],
     "prompt_number": 12
    },
    {
     "cell_type": "code",
     "collapsed": false,
     "input": [
      "reader3 = vtk.vtkXMLUnstructuredGridReader()\n",
      "reader3.SetFileName(os.path.join(WAY_3D, FILE_3D_VTU))\n",
      "reader3.Update()\n",
      "output3 = reader3.GetOutput()\n",
      "data = vtk_to_numpy(output3.GetCells().GetData())\n"
     ],
     "language": "python",
     "metadata": {},
     "outputs": [],
     "prompt_number": 13
    },
    {
     "cell_type": "code",
     "collapsed": false,
     "input": [
      "data"
     ],
     "language": "python",
     "metadata": {},
     "outputs": [
      {
       "metadata": {},
       "output_type": "pyout",
       "prompt_number": 14,
       "text": [
        "array([      4, 1688426, 1675494, ..., 1691071, 1673904, 1704019])"
       ]
      }
     ],
     "prompt_number": 14
    },
    {
     "cell_type": "code",
     "collapsed": false,
     "input": [
      "tetrahedron = []\n",
      "\n",
      "idx = 0\n",
      "\n",
      "while idx < len(data):\n",
      "    if data[idx] == 4:\n",
      "        tetrahedron.append(data[idx+1:idx+5])\n",
      "   \n",
      "    idx += data[idx] + 1\n",
      "    \n",
      "    \n",
      "tetrahedron = np.array(tetrahedron)\n",
      "tetrahedron"
     ],
     "language": "python",
     "metadata": {},
     "outputs": [
      {
       "metadata": {},
       "output_type": "pyout",
       "prompt_number": 15,
       "text": [
        "array([[1688426, 1675494, 1688429, 1688428],\n",
        "       [1688426, 1687186, 1688427, 1688431],\n",
        "       [1688427, 1685796, 1688428, 1688430],\n",
        "       ..., \n",
        "       [1673904, 1691071, 1699821, 1704019],\n",
        "       [1679382, 1673904, 1691071, 1679422],\n",
        "       [1679382, 1691071, 1673904, 1704019]])"
       ]
      }
     ],
     "prompt_number": 15
    },
    {
     "cell_type": "code",
     "collapsed": false,
     "input": [
      "boneLocator = vtk.vtkCellLocator()\n",
      "boneLocator.SetDataSet(output3)\n",
      "boneLocator.BuildLocator()\n",
      "\n"
     ],
     "language": "python",
     "metadata": {},
     "outputs": [],
     "prompt_number": 16
    },
    {
     "cell_type": "code",
     "collapsed": false,
     "input": [
      "points3 = output3.GetPoints()\n",
      "coord_points_data3 = vtk_to_numpy(points3.GetData())\n",
      "scalars3 = vtk_to_numpy(output3.GetPointData().GetArray('V'))\n",
      "scalars3"
     ],
     "language": "python",
     "metadata": {},
     "outputs": [
      {
       "metadata": {},
       "output_type": "pyout",
       "prompt_number": 17,
       "text": [
        "array([ -83.87937164306640625,  -83.8821563720703125 ,\n",
        "        -83.88165283203125   , ...,  102.29080963134765625,\n",
        "         95.75891876220703125,  117.055023193359375  ], dtype=float32)"
       ]
      }
     ],
     "prompt_number": 17
    },
    {
     "cell_type": "code",
     "collapsed": false,
     "input": [
      "cell = vtk.vtkGenericCell()\n"
     ],
     "language": "python",
     "metadata": {},
     "outputs": [],
     "prompt_number": 18
    },
    {
     "cell_type": "code",
     "collapsed": false,
     "input": [
      "interpolation = np.zeros(len(scalars))#3D\n",
      "for i in tqdm(xrange(len(scalars))):\n",
      "    pcoords = np.zeros(3)\n",
      "    weights  = np.zeros(4)\n",
      "    a = boneLocator.FindCell(result[i], 0.00001, cell, pcoords, weights)\n",
      "    points_scalars = scalars3[tetrahedron[a]]\n",
      "    interpolation[i] = np.dot(weights, points_scalars)\n",
      "    \n",
      "    \n",
      "interpolation"
     ],
     "language": "python",
     "metadata": {},
     "outputs": [
      {
       "output_type": "stream",
       "stream": "stderr",
       "text": [
        "\r",
        "  0%|          | 0/11612 [00:00<?, ?it/s]"
       ]
      },
      {
       "output_type": "stream",
       "stream": "stderr",
       "text": [
        "\r",
        " 23%|\u2588\u2588\u258e       | 2616/11612 [00:00<00:00, 26156.84it/s]"
       ]
      },
      {
       "output_type": "stream",
       "stream": "stderr",
       "text": [
        "\r",
        " 48%|\u2588\u2588\u2588\u2588\u258a     | 5565/11612 [00:00<00:00, 27074.82it/s]"
       ]
      },
      {
       "output_type": "stream",
       "stream": "stderr",
       "text": [
        "\r",
        " 73%|\u2588\u2588\u2588\u2588\u2588\u2588\u2588\u258e  | 8475/11612 [00:00<00:00, 27651.98it/s]"
       ]
      },
      {
       "output_type": "stream",
       "stream": "stderr",
       "text": [
        "\r",
        " 98%|\u2588\u2588\u2588\u2588\u2588\u2588\u2588\u2588\u2588\u258a| 11414/11612 [00:00<00:00, 28149.86it/s]"
       ]
      },
      {
       "output_type": "stream",
       "stream": "stderr",
       "text": [
        "\r",
        "100%|\u2588\u2588\u2588\u2588\u2588\u2588\u2588\u2588\u2588\u2588| 11612/11612 [00:00<00:00, 28482.71it/s]"
       ]
      },
      {
       "output_type": "stream",
       "stream": "stderr",
       "text": [
        "\n"
       ]
      },
      {
       "metadata": {},
       "output_type": "pyout",
       "prompt_number": 19,
       "text": [
        "array([-83.8963135935221799854843993671238422393798828125,\n",
        "       -83.9189445357036873929246212355792522430419921875,\n",
        "       -83.920600308621715157642029225826263427734375    , ...,\n",
        "       -87.2696377909640403913726913742721080780029296875,\n",
        "       -83.7446898670626893590451800264418125152587890625,\n",
        "       -85.5030964938972601885325275361537933349609375   ])"
       ]
      }
     ],
     "prompt_number": 19
    },
    {
     "cell_type": "code",
     "collapsed": false,
     "input": [
      "interpolation_ = np.zeros_like(interpolation)\n"
     ],
     "language": "python",
     "metadata": {},
     "outputs": [],
     "prompt_number": 20
    },
    {
     "cell_type": "code",
     "collapsed": false,
     "input": [
      "for i in tqdm(xrange(len(interpolation_))):\n",
      "    interpolation_[i] = interpolation[i] - scalars[i]"
     ],
     "language": "python",
     "metadata": {},
     "outputs": [
      {
       "output_type": "stream",
       "stream": "stderr",
       "text": [
        "\r",
        "  0%|          | 0/11612 [00:00<?, ?it/s]"
       ]
      },
      {
       "output_type": "stream",
       "stream": "stderr",
       "text": [
        "\r",
        "100%|\u2588\u2588\u2588\u2588\u2588\u2588\u2588\u2588\u2588\u2588| 11612/11612 [00:00<00:00, 135350.51it/s]"
       ]
      },
      {
       "output_type": "stream",
       "stream": "stderr",
       "text": [
        "\n"
       ]
      }
     ],
     "prompt_number": 21
    },
    {
     "cell_type": "raw",
     "metadata": {},
     "source": [
      "fo"
     ]
    },
    {
     "cell_type": "raw",
     "metadata": {},
     "source": []
    },
    {
     "cell_type": "code",
     "collapsed": false,
     "input": [
      "#boneLocator.FindCell?"
     ],
     "language": "python",
     "metadata": {},
     "outputs": [],
     "prompt_number": 22
    },
    {
     "cell_type": "code",
     "collapsed": false,
     "input": [
      "tetrahedron[a]"
     ],
     "language": "python",
     "metadata": {},
     "outputs": [
      {
       "metadata": {},
       "output_type": "pyout",
       "prompt_number": 23,
       "text": [
        "array([997977, 993880, 997931, 961084])"
       ]
      }
     ],
     "prompt_number": 23
    },
    {
     "cell_type": "code",
     "collapsed": false,
     "input": [],
     "language": "python",
     "metadata": {},
     "outputs": [],
     "prompt_number": 23
    },
    {
     "cell_type": "code",
     "collapsed": false,
     "input": [
      "np.array([2,5,7])[[0,2]]"
     ],
     "language": "python",
     "metadata": {},
     "outputs": [
      {
       "metadata": {},
       "output_type": "pyout",
       "prompt_number": 24,
       "text": [
        "array([2, 7])"
       ]
      }
     ],
     "prompt_number": 24
    },
    {
     "cell_type": "code",
     "collapsed": false,
     "input": [
      "scalar_3d = numpy_to_vtk(interpolation, deep=True, array_type=vtk.VTK_FLOAT)\n",
      "scalar_3d.SetName('V_3D')\n",
      "output.GetPointData().AddArray(scalar_3d)"
     ],
     "language": "python",
     "metadata": {},
     "outputs": [
      {
       "metadata": {},
       "output_type": "pyout",
       "prompt_number": 25,
       "text": [
        "1"
       ]
      }
     ],
     "prompt_number": 25
    },
    {
     "cell_type": "code",
     "collapsed": false,
     "input": [
      "difference_3d_2d = numpy_to_vtk(interpolation_, deep=True, array_type=vtk.VTK_FLOAT)\n",
      "difference_3d_2d.SetName('V_difference_3D_2D')\n",
      "output.GetPointData().AddArray(difference_3d_2d)"
     ],
     "language": "python",
     "metadata": {},
     "outputs": [
      {
       "metadata": {},
       "output_type": "pyout",
       "prompt_number": 26,
       "text": [
        "2"
       ]
      }
     ],
     "prompt_number": 26
    },
    {
     "cell_type": "code",
     "collapsed": false,
     "input": [],
     "language": "python",
     "metadata": {},
     "outputs": [],
     "prompt_number": 26
    },
    {
     "cell_type": "code",
     "collapsed": false,
     "input": [
      "writer2 = vtk.vtkXMLUnstructuredGridWriter() # vtu\n",
      "\n",
      "writer2.SetFileName(FILE_RESULT_DIFFERCE)\n",
      "writer2.SetInputData(output)\n",
      "writer2.Write()"
     ],
     "language": "python",
     "metadata": {},
     "outputs": [
      {
       "metadata": {},
       "output_type": "pyout",
       "prompt_number": 27,
       "text": [
        "1"
       ]
      }
     ],
     "prompt_number": 27
    },
    {
     "cell_type": "code",
     "collapsed": false,
     "input": [
      "for l in tqdm(xrange(1, min(len(VTU_FILES_2D), len(VTU_FILES_3D)))):\n",
      "    #\u0447\u0442\u0435\u043d\u0438\u0435 2d \u0441\u0435\u0442\u043a\u0438\n",
      "    reader = vtk.vtkXMLUnstructuredGridReader()\n",
      "    reader.SetFileName(os.path.join(WAY_2D,'heart_{ind}.vtu'.format(ind = l)))\n",
      "    reader.Update()\n",
      "    output = reader.GetOutput()    \n",
      "    scalars = vtk_to_numpy(output.GetPointData().GetArray('V'))\n",
      "    output.SetPoints(vtkpoints)\n",
      "    \n",
      "    #\u0447\u0442\u0435\u043d\u0438\u0435 3d \u0441\u0435\u0442\u043a\u0438\n",
      "    assert(os.path.exists(os.path.join(WAY_3D,'torso_{ind}.vtu'.format(ind = l))))\n",
      "    reader3 = vtk.vtkXMLUnstructuredGridReader()\n",
      "    reader3.SetFileName(os.path.join(WAY_3D,'torso_{ind}.vtu'.format(ind = l)))\n",
      "    reader3.Update()\n",
      "    output3 = reader3.GetOutput()\n",
      "    data = vtk_to_numpy(output3.GetCells().GetData())\n",
      "    scalars3 = vtk_to_numpy(output3.GetPointData().GetArray('V'))\n",
      "    \n",
      "    interpolation = np.zeros(len(scalars))#3D\n",
      "    for i in xrange(len(scalars)):\n",
      "        pcoords = np.zeros(3)\n",
      "        weights  = np.zeros(4)\n",
      "        a = boneLocator.FindCell(result[i], 0.00001, cell, pcoords, weights)\n",
      "        points_scalars = scalars3[tetrahedron[a]]\n",
      "        interpolation[i] = np.dot(weights, points_scalars)\n",
      "    interpolation_ = np.zeros_like(interpolation)\n",
      "    \n",
      "    for i in xrange(len(interpolation_)):\n",
      "        interpolation_[i] = interpolation[i] - scalars[i]\n",
      "        \n",
      "    scalar_3d = numpy_to_vtk(interpolation, deep=True, array_type=vtk.VTK_FLOAT)\n",
      "    scalar_3d.SetName('V_3D')\n",
      "    output.GetPointData().AddArray(scalar_3d)\n",
      "    \n",
      "    difference_3d_2d = numpy_to_vtk(interpolation_, deep=True, array_type=vtk.VTK_FLOAT)\n",
      "    difference_3d_2d.SetName('V_difference_3D_2D')\n",
      "    output.GetPointData().AddArray(difference_3d_2d)\n",
      "    \n",
      "    writer2 = vtk.vtkXMLUnstructuredGridWriter() # vtu\n",
      "    writer2.SetFileName(os.path.join(FOLDER_DIFFERENCE_RESULT, FILE_RESULT_DIFFERCE.format(ind = l)))\n",
      "    writer2.SetInputData(output)\n",
      "    writer2.Write()"
     ],
     "language": "python",
     "metadata": {},
     "outputs": [
      {
       "output_type": "stream",
       "stream": "stderr",
       "text": [
        "\r",
        "  0%|          | 0/15 [00:00<?, ?it/s]"
       ]
      },
      {
       "output_type": "stream",
       "stream": "stderr",
       "text": [
        "\r",
        "  7%|\u258b         | 1/15 [00:07<01:46,  7.58s/it]"
       ]
      },
      {
       "output_type": "stream",
       "stream": "stderr",
       "text": [
        "\r",
        " 13%|\u2588\u258e        | 2/15 [00:15<01:40,  7.70s/it]"
       ]
      },
      {
       "output_type": "stream",
       "stream": "stderr",
       "text": [
        "\r",
        " 20%|\u2588\u2588        | 3/15 [00:23<01:32,  7.72s/it]"
       ]
      },
      {
       "output_type": "stream",
       "stream": "stderr",
       "text": [
        "\r",
        " 27%|\u2588\u2588\u258b       | 4/15 [00:30<01:24,  7.68s/it]"
       ]
      },
      {
       "output_type": "stream",
       "stream": "stderr",
       "text": [
        "\r",
        " 33%|\u2588\u2588\u2588\u258e      | 5/15 [00:38<01:17,  7.71s/it]"
       ]
      },
      {
       "output_type": "stream",
       "stream": "stderr",
       "text": [
        "\r",
        " 40%|\u2588\u2588\u2588\u2588      | 6/15 [00:46<01:10,  7.80s/it]"
       ]
      },
      {
       "output_type": "stream",
       "stream": "stderr",
       "text": [
        "\r",
        " 47%|\u2588\u2588\u2588\u2588\u258b     | 7/15 [00:54<01:01,  7.72s/it]"
       ]
      },
      {
       "output_type": "stream",
       "stream": "stderr",
       "text": [
        "\r",
        " 53%|\u2588\u2588\u2588\u2588\u2588\u258e    | 8/15 [01:01<00:53,  7.69s/it]"
       ]
      },
      {
       "output_type": "stream",
       "stream": "stderr",
       "text": [
        "\r",
        " 60%|\u2588\u2588\u2588\u2588\u2588\u2588    | 9/15 [01:09<00:46,  7.68s/it]"
       ]
      },
      {
       "output_type": "stream",
       "stream": "stderr",
       "text": [
        "\r",
        " 67%|\u2588\u2588\u2588\u2588\u2588\u2588\u258b   | 10/15 [01:17<00:38,  7.67s/it]"
       ]
      },
      {
       "output_type": "stream",
       "stream": "stderr",
       "text": [
        "\r",
        " 73%|\u2588\u2588\u2588\u2588\u2588\u2588\u2588\u258e  | 11/15 [01:31<00:38,  9.62s/it]"
       ]
      },
      {
       "output_type": "stream",
       "stream": "stderr",
       "text": [
        "\r",
        " 80%|\u2588\u2588\u2588\u2588\u2588\u2588\u2588\u2588  | 12/15 [01:39<00:27,  9.06s/it]"
       ]
      },
      {
       "output_type": "stream",
       "stream": "stderr",
       "text": [
        "\r",
        " 87%|\u2588\u2588\u2588\u2588\u2588\u2588\u2588\u2588\u258b | 13/15 [01:46<00:17,  8.72s/it]"
       ]
      },
      {
       "output_type": "stream",
       "stream": "stderr",
       "text": [
        "\r",
        " 93%|\u2588\u2588\u2588\u2588\u2588\u2588\u2588\u2588\u2588\u258e| 14/15 [01:54<00:08,  8.41s/it]"
       ]
      },
      {
       "output_type": "stream",
       "stream": "stderr",
       "text": [
        "\r",
        "100%|\u2588\u2588\u2588\u2588\u2588\u2588\u2588\u2588\u2588\u2588| 15/15 [02:02<00:00,  8.23s/it]"
       ]
      },
      {
       "output_type": "stream",
       "stream": "stderr",
       "text": [
        "\n"
       ]
      }
     ],
     "prompt_number": 32
    },
    {
     "cell_type": "code",
     "collapsed": false,
     "input": [
      "tqdm\n"
     ],
     "language": "python",
     "metadata": {},
     "outputs": [
      {
       "metadata": {},
       "output_type": "pyout",
       "prompt_number": 41,
       "text": [
        "tqdm._tqdm.tqdm"
       ]
      }
     ],
     "prompt_number": 41
    },
    {
     "cell_type": "code",
     "collapsed": false,
     "input": [
      "\n",
      "os.path.exists(os.path.join(WAY_3D,'torso_{ind}.vtu'.format(ind = i)))"
     ],
     "language": "python",
     "metadata": {},
     "outputs": [
      {
       "metadata": {},
       "output_type": "pyout",
       "prompt_number": 31,
       "text": [
        "True"
       ]
      }
     ],
     "prompt_number": 31
    },
    {
     "cell_type": "code",
     "collapsed": false,
     "input": [],
     "language": "python",
     "metadata": {},
     "outputs": []
    }
   ],
   "metadata": {}
  }
 ]
}