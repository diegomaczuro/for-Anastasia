{
 "metadata": {
  "name": "",
  "signature": "sha256:8eebe64e5e5e03302cf25968046be707d16bfe46fe482960940ef5268d9a9669"
 },
 "nbformat": 3,
 "nbformat_minor": 0,
 "worksheets": [
  {
   "cells": [
    {
     "cell_type": "code",
     "collapsed": false,
     "input": [
      "import numpy as np\n",
      "import pandas as pd\n",
      "from vtk import *\n",
      "from vtk.util import numpy_support\n",
      "import os\n",
      "from sklearn.neighbors import KDTree\n",
      "from vtk.util.numpy_support import vtk_to_numpy\n",
      "from vtk.util.numpy_support import numpy_to_vtk\n",
      "from tqdm import tqdm\n",
      "import glob"
     ],
     "language": "python",
     "metadata": {},
     "outputs": [],
     "prompt_number": 1
    },
    {
     "cell_type": "code",
     "collapsed": false,
     "input": [
      "CHASTE_FILE = './chaste/'\n",
      "WAY_2D = '/home/shido/chaste-output/nastya_lr_2d_bidomain/video'\n",
      "WAY_2D_MAP = '/home/shido/chaste-output/nastya_lr_2d_bidomain'\n",
      "FILE_2D_VTU = 'heart_4.vtu'\n",
      "FILE_TURN_2D = 'turn_slice_2d.vtu'\n",
      "FILE_MESH = 'slice_mesh2.vtk'\n",
      "FILE_3D_VTU = 'torso_4.vtu'\n",
      "FILE_MAP_3D = 'out.vtu'\n",
      "FILE_MAP_2D = 'out.vtu'\n",
      "FILE_MAP_DIFFERENCE_2D_3D = 'difference_map_3d_2d.vtu'\n",
      "WAY_3D = '/home/shido/Documents/shido/for Anastasia/for-Anastasia/data from claster/11_03_2017/nastya_lr/video'\n",
      "FILE_RESULT_DIFFERCE = 'result_difference_V{ind}.vtu'\n",
      "FOLDER_DIFFERENCE_RESULT = 'difference_result'\n",
      "POINT_O = 62\n",
      "POINT_A = 6571\n",
      "POINT_B = 785\n",
      "!pwd\n",
      "np.set_printoptions(precision=418)"
     ],
     "language": "python",
     "metadata": {},
     "outputs": [
      {
       "output_type": "stream",
       "stream": "stdout",
       "text": [
        "/home/shido/Documents/shido/for Anastasia/for-Anastasia/data from claster/11_03_2017/nastya_lr\r\n"
       ]
      }
     ],
     "prompt_number": 2
    },
    {
     "cell_type": "code",
     "collapsed": false,
     "input": [
      "VTU_FILES_2D = glob.glob(os.path.join(WAY_2D, '*.vtu'))\n",
      "VTU_FILES_3D = glob.glob(os.path.join(WAY_3D, '*.vtu'))\n",
      "VTU_FILES_2D"
     ],
     "language": "python",
     "metadata": {},
     "outputs": [
      {
       "metadata": {},
       "output_type": "pyout",
       "prompt_number": 3,
       "text": [
        "['/home/shido/chaste-output/nastya_lr_2d_bidomain/video/heart_165.vtu',\n",
        " '/home/shido/chaste-output/nastya_lr_2d_bidomain/video/heart_152.vtu',\n",
        " '/home/shido/chaste-output/nastya_lr_2d_bidomain/video/heart_141.vtu',\n",
        " '/home/shido/chaste-output/nastya_lr_2d_bidomain/video/heart_422.vtu',\n",
        " '/home/shido/chaste-output/nastya_lr_2d_bidomain/video/heart_128.vtu',\n",
        " '/home/shido/chaste-output/nastya_lr_2d_bidomain/video/heart_68.vtu',\n",
        " '/home/shido/chaste-output/nastya_lr_2d_bidomain/video/heart_280.vtu',\n",
        " '/home/shido/chaste-output/nastya_lr_2d_bidomain/video/heart_209.vtu',\n",
        " '/home/shido/chaste-output/nastya_lr_2d_bidomain/video/heart_151.vtu',\n",
        " '/home/shido/chaste-output/nastya_lr_2d_bidomain/video/heart_381.vtu',\n",
        " '/home/shido/chaste-output/nastya_lr_2d_bidomain/video/heart_278.vtu',\n",
        " '/home/shido/chaste-output/nastya_lr_2d_bidomain/video/heart_387.vtu',\n",
        " '/home/shido/chaste-output/nastya_lr_2d_bidomain/video/heart_48.vtu',\n",
        " '/home/shido/chaste-output/nastya_lr_2d_bidomain/video/heart_254.vtu',\n",
        " '/home/shido/chaste-output/nastya_lr_2d_bidomain/video/heart_22.vtu',\n",
        " '/home/shido/chaste-output/nastya_lr_2d_bidomain/video/heart_9.vtu',\n",
        " '/home/shido/chaste-output/nastya_lr_2d_bidomain/video/heart_53.vtu',\n",
        " '/home/shido/chaste-output/nastya_lr_2d_bidomain/video/heart_130.vtu',\n",
        " '/home/shido/chaste-output/nastya_lr_2d_bidomain/video/heart_204.vtu',\n",
        " '/home/shido/chaste-output/nastya_lr_2d_bidomain/video/heart_313.vtu',\n",
        " '/home/shido/chaste-output/nastya_lr_2d_bidomain/video/heart_69.vtu',\n",
        " '/home/shido/chaste-output/nastya_lr_2d_bidomain/video/heart_129.vtu',\n",
        " '/home/shido/chaste-output/nastya_lr_2d_bidomain/video/heart_81.vtu',\n",
        " '/home/shido/chaste-output/nastya_lr_2d_bidomain/video/heart_386.vtu',\n",
        " '/home/shido/chaste-output/nastya_lr_2d_bidomain/video/heart_428.vtu',\n",
        " '/home/shido/chaste-output/nastya_lr_2d_bidomain/video/heart_458.vtu',\n",
        " '/home/shido/chaste-output/nastya_lr_2d_bidomain/video/heart_352.vtu',\n",
        " '/home/shido/chaste-output/nastya_lr_2d_bidomain/video/heart_425.vtu',\n",
        " '/home/shido/chaste-output/nastya_lr_2d_bidomain/video/heart_65.vtu',\n",
        " '/home/shido/chaste-output/nastya_lr_2d_bidomain/video/heart_195.vtu',\n",
        " '/home/shido/chaste-output/nastya_lr_2d_bidomain/video/heart_463.vtu',\n",
        " '/home/shido/chaste-output/nastya_lr_2d_bidomain/video/heart_240.vtu',\n",
        " '/home/shido/chaste-output/nastya_lr_2d_bidomain/video/heart_98.vtu',\n",
        " '/home/shido/chaste-output/nastya_lr_2d_bidomain/video/heart_362.vtu',\n",
        " '/home/shido/chaste-output/nastya_lr_2d_bidomain/video/heart_194.vtu',\n",
        " '/home/shido/chaste-output/nastya_lr_2d_bidomain/video/heart_355.vtu',\n",
        " '/home/shido/chaste-output/nastya_lr_2d_bidomain/video/heart_353.vtu',\n",
        " '/home/shido/chaste-output/nastya_lr_2d_bidomain/video/heart_246.vtu',\n",
        " '/home/shido/chaste-output/nastya_lr_2d_bidomain/video/heart_203.vtu',\n",
        " '/home/shido/chaste-output/nastya_lr_2d_bidomain/video/heart_136.vtu',\n",
        " '/home/shido/chaste-output/nastya_lr_2d_bidomain/video/heart_358.vtu',\n",
        " '/home/shido/chaste-output/nastya_lr_2d_bidomain/video/heart_40.vtu',\n",
        " '/home/shido/chaste-output/nastya_lr_2d_bidomain/video/heart_340.vtu',\n",
        " '/home/shido/chaste-output/nastya_lr_2d_bidomain/video/heart_360.vtu',\n",
        " '/home/shido/chaste-output/nastya_lr_2d_bidomain/video/heart_140.vtu',\n",
        " '/home/shido/chaste-output/nastya_lr_2d_bidomain/video/heart_51.vtu',\n",
        " '/home/shido/chaste-output/nastya_lr_2d_bidomain/video/heart_38.vtu',\n",
        " '/home/shido/chaste-output/nastya_lr_2d_bidomain/video/heart_59.vtu',\n",
        " '/home/shido/chaste-output/nastya_lr_2d_bidomain/video/heart_3.vtu',\n",
        " '/home/shido/chaste-output/nastya_lr_2d_bidomain/video/heart_73.vtu',\n",
        " '/home/shido/chaste-output/nastya_lr_2d_bidomain/video/heart_157.vtu',\n",
        " '/home/shido/chaste-output/nastya_lr_2d_bidomain/video/heart_281.vtu',\n",
        " '/home/shido/chaste-output/nastya_lr_2d_bidomain/video/heart_354.vtu',\n",
        " '/home/shido/chaste-output/nastya_lr_2d_bidomain/video/heart_348.vtu',\n",
        " '/home/shido/chaste-output/nastya_lr_2d_bidomain/video/heart_445.vtu',\n",
        " '/home/shido/chaste-output/nastya_lr_2d_bidomain/video/heart_468.vtu',\n",
        " '/home/shido/chaste-output/nastya_lr_2d_bidomain/video/heart_366.vtu',\n",
        " '/home/shido/chaste-output/nastya_lr_2d_bidomain/video/heart_269.vtu',\n",
        " '/home/shido/chaste-output/nastya_lr_2d_bidomain/video/heart_54.vtu',\n",
        " '/home/shido/chaste-output/nastya_lr_2d_bidomain/video/heart_323.vtu',\n",
        " '/home/shido/chaste-output/nastya_lr_2d_bidomain/video/heart_55.vtu',\n",
        " '/home/shido/chaste-output/nastya_lr_2d_bidomain/video/heart_319.vtu',\n",
        " '/home/shido/chaste-output/nastya_lr_2d_bidomain/video/heart_477.vtu',\n",
        " '/home/shido/chaste-output/nastya_lr_2d_bidomain/video/heart_460.vtu',\n",
        " '/home/shido/chaste-output/nastya_lr_2d_bidomain/video/heart_361.vtu',\n",
        " '/home/shido/chaste-output/nastya_lr_2d_bidomain/video/heart_213.vtu',\n",
        " '/home/shido/chaste-output/nastya_lr_2d_bidomain/video/heart_231.vtu',\n",
        " '/home/shido/chaste-output/nastya_lr_2d_bidomain/video/heart_184.vtu',\n",
        " '/home/shido/chaste-output/nastya_lr_2d_bidomain/video/heart_249.vtu',\n",
        " '/home/shido/chaste-output/nastya_lr_2d_bidomain/video/heart_4.vtu',\n",
        " '/home/shido/chaste-output/nastya_lr_2d_bidomain/video/heart_174.vtu',\n",
        " '/home/shido/chaste-output/nastya_lr_2d_bidomain/video/heart_66.vtu',\n",
        " '/home/shido/chaste-output/nastya_lr_2d_bidomain/video/heart_111.vtu',\n",
        " '/home/shido/chaste-output/nastya_lr_2d_bidomain/video/heart_261.vtu',\n",
        " '/home/shido/chaste-output/nastya_lr_2d_bidomain/video/heart_109.vtu',\n",
        " '/home/shido/chaste-output/nastya_lr_2d_bidomain/video/heart_292.vtu',\n",
        " '/home/shido/chaste-output/nastya_lr_2d_bidomain/video/heart_453.vtu',\n",
        " '/home/shido/chaste-output/nastya_lr_2d_bidomain/video/heart_131.vtu',\n",
        " '/home/shido/chaste-output/nastya_lr_2d_bidomain/video/heart_398.vtu',\n",
        " '/home/shido/chaste-output/nastya_lr_2d_bidomain/video/heart_138.vtu',\n",
        " '/home/shido/chaste-output/nastya_lr_2d_bidomain/video/heart_373.vtu',\n",
        " '/home/shido/chaste-output/nastya_lr_2d_bidomain/video/heart_186.vtu',\n",
        " '/home/shido/chaste-output/nastya_lr_2d_bidomain/video/heart_288.vtu',\n",
        " '/home/shido/chaste-output/nastya_lr_2d_bidomain/video/heart_241.vtu',\n",
        " '/home/shido/chaste-output/nastya_lr_2d_bidomain/video/heart_257.vtu',\n",
        " '/home/shido/chaste-output/nastya_lr_2d_bidomain/video/heart_262.vtu',\n",
        " '/home/shido/chaste-output/nastya_lr_2d_bidomain/video/heart_342.vtu',\n",
        " '/home/shido/chaste-output/nastya_lr_2d_bidomain/video/heart_316.vtu',\n",
        " '/home/shido/chaste-output/nastya_lr_2d_bidomain/video/heart_23.vtu',\n",
        " '/home/shido/chaste-output/nastya_lr_2d_bidomain/video/heart_397.vtu',\n",
        " '/home/shido/chaste-output/nastya_lr_2d_bidomain/video/heart_233.vtu',\n",
        " '/home/shido/chaste-output/nastya_lr_2d_bidomain/video/heart_432.vtu',\n",
        " '/home/shido/chaste-output/nastya_lr_2d_bidomain/video/heart_215.vtu',\n",
        " '/home/shido/chaste-output/nastya_lr_2d_bidomain/video/heart_103.vtu',\n",
        " '/home/shido/chaste-output/nastya_lr_2d_bidomain/video/heart_36.vtu',\n",
        " '/home/shido/chaste-output/nastya_lr_2d_bidomain/video/heart_37.vtu',\n",
        " '/home/shido/chaste-output/nastya_lr_2d_bidomain/video/heart_106.vtu',\n",
        " '/home/shido/chaste-output/nastya_lr_2d_bidomain/video/heart_376.vtu',\n",
        " '/home/shido/chaste-output/nastya_lr_2d_bidomain/video/heart_200.vtu',\n",
        " '/home/shido/chaste-output/nastya_lr_2d_bidomain/video/heart_14.vtu',\n",
        " '/home/shido/chaste-output/nastya_lr_2d_bidomain/video/heart_149.vtu',\n",
        " '/home/shido/chaste-output/nastya_lr_2d_bidomain/video/heart_21.vtu',\n",
        " '/home/shido/chaste-output/nastya_lr_2d_bidomain/video/heart_349.vtu',\n",
        " '/home/shido/chaste-output/nastya_lr_2d_bidomain/video/heart_260.vtu',\n",
        " '/home/shido/chaste-output/nastya_lr_2d_bidomain/video/heart_175.vtu',\n",
        " '/home/shido/chaste-output/nastya_lr_2d_bidomain/video/heart_315.vtu',\n",
        " '/home/shido/chaste-output/nastya_lr_2d_bidomain/video/heart_296.vtu',\n",
        " '/home/shido/chaste-output/nastya_lr_2d_bidomain/video/heart_155.vtu',\n",
        " '/home/shido/chaste-output/nastya_lr_2d_bidomain/video/heart_199.vtu',\n",
        " '/home/shido/chaste-output/nastya_lr_2d_bidomain/video/heart_8.vtu',\n",
        " '/home/shido/chaste-output/nastya_lr_2d_bidomain/video/heart_411.vtu',\n",
        " '/home/shido/chaste-output/nastya_lr_2d_bidomain/video/heart_259.vtu',\n",
        " '/home/shido/chaste-output/nastya_lr_2d_bidomain/video/heart_190.vtu',\n",
        " '/home/shido/chaste-output/nastya_lr_2d_bidomain/video/heart_339.vtu',\n",
        " '/home/shido/chaste-output/nastya_lr_2d_bidomain/video/heart_476.vtu',\n",
        " '/home/shido/chaste-output/nastya_lr_2d_bidomain/video/heart_85.vtu',\n",
        " '/home/shido/chaste-output/nastya_lr_2d_bidomain/video/heart_304.vtu',\n",
        " '/home/shido/chaste-output/nastya_lr_2d_bidomain/video/heart_123.vtu',\n",
        " '/home/shido/chaste-output/nastya_lr_2d_bidomain/video/heart_143.vtu',\n",
        " '/home/shido/chaste-output/nastya_lr_2d_bidomain/video/heart_402.vtu',\n",
        " '/home/shido/chaste-output/nastya_lr_2d_bidomain/video/heart_482.vtu',\n",
        " '/home/shido/chaste-output/nastya_lr_2d_bidomain/video/heart_359.vtu',\n",
        " '/home/shido/chaste-output/nastya_lr_2d_bidomain/video/heart_33.vtu',\n",
        " '/home/shido/chaste-output/nastya_lr_2d_bidomain/video/heart_90.vtu',\n",
        " '/home/shido/chaste-output/nastya_lr_2d_bidomain/video/heart_156.vtu',\n",
        " '/home/shido/chaste-output/nastya_lr_2d_bidomain/video/heart_389.vtu',\n",
        " '/home/shido/chaste-output/nastya_lr_2d_bidomain/video/heart_235.vtu',\n",
        " '/home/shido/chaste-output/nastya_lr_2d_bidomain/video/heart_391.vtu',\n",
        " '/home/shido/chaste-output/nastya_lr_2d_bidomain/video/heart_42.vtu',\n",
        " '/home/shido/chaste-output/nastya_lr_2d_bidomain/video/heart_335.vtu',\n",
        " '/home/shido/chaste-output/nastya_lr_2d_bidomain/video/heart_24.vtu',\n",
        " '/home/shido/chaste-output/nastya_lr_2d_bidomain/video/heart_150.vtu',\n",
        " '/home/shido/chaste-output/nastya_lr_2d_bidomain/video/heart_372.vtu',\n",
        " '/home/shido/chaste-output/nastya_lr_2d_bidomain/video/heart_228.vtu',\n",
        " '/home/shido/chaste-output/nastya_lr_2d_bidomain/video/heart_166.vtu',\n",
        " '/home/shido/chaste-output/nastya_lr_2d_bidomain/video/heart_461.vtu',\n",
        " '/home/shido/chaste-output/nastya_lr_2d_bidomain/video/heart_341.vtu',\n",
        " '/home/shido/chaste-output/nastya_lr_2d_bidomain/video/heart_49.vtu',\n",
        " '/home/shido/chaste-output/nastya_lr_2d_bidomain/video/heart_495.vtu',\n",
        " '/home/shido/chaste-output/nastya_lr_2d_bidomain/video/heart_61.vtu',\n",
        " '/home/shido/chaste-output/nastya_lr_2d_bidomain/video/heart_225.vtu',\n",
        " '/home/shido/chaste-output/nastya_lr_2d_bidomain/video/heart_327.vtu',\n",
        " '/home/shido/chaste-output/nastya_lr_2d_bidomain/video/heart_455.vtu',\n",
        " '/home/shido/chaste-output/nastya_lr_2d_bidomain/video/heart_346.vtu',\n",
        " '/home/shido/chaste-output/nastya_lr_2d_bidomain/video/heart_146.vtu',\n",
        " '/home/shido/chaste-output/nastya_lr_2d_bidomain/video/heart_317.vtu',\n",
        " '/home/shido/chaste-output/nastya_lr_2d_bidomain/video/heart_248.vtu',\n",
        " '/home/shido/chaste-output/nastya_lr_2d_bidomain/video/heart_449.vtu',\n",
        " '/home/shido/chaste-output/nastya_lr_2d_bidomain/video/heart_439.vtu',\n",
        " '/home/shido/chaste-output/nastya_lr_2d_bidomain/video/heart_167.vtu',\n",
        " '/home/shido/chaste-output/nastya_lr_2d_bidomain/video/heart_2.vtu',\n",
        " '/home/shido/chaste-output/nastya_lr_2d_bidomain/video/heart_375.vtu',\n",
        " '/home/shido/chaste-output/nastya_lr_2d_bidomain/video/heart_471.vtu',\n",
        " '/home/shido/chaste-output/nastya_lr_2d_bidomain/video/heart_467.vtu',\n",
        " '/home/shido/chaste-output/nastya_lr_2d_bidomain/video/heart_230.vtu',\n",
        " '/home/shido/chaste-output/nastya_lr_2d_bidomain/video/heart_286.vtu',\n",
        " '/home/shido/chaste-output/nastya_lr_2d_bidomain/video/heart_134.vtu',\n",
        " '/home/shido/chaste-output/nastya_lr_2d_bidomain/video/heart_414.vtu',\n",
        " '/home/shido/chaste-output/nastya_lr_2d_bidomain/video/heart_159.vtu',\n",
        " '/home/shido/chaste-output/nastya_lr_2d_bidomain/video/heart_268.vtu',\n",
        " '/home/shido/chaste-output/nastya_lr_2d_bidomain/video/heart_160.vtu',\n",
        " '/home/shido/chaste-output/nastya_lr_2d_bidomain/video/heart_337.vtu',\n",
        " '/home/shido/chaste-output/nastya_lr_2d_bidomain/video/heart_145.vtu',\n",
        " '/home/shido/chaste-output/nastya_lr_2d_bidomain/video/heart_237.vtu',\n",
        " '/home/shido/chaste-output/nastya_lr_2d_bidomain/video/heart_499.vtu',\n",
        " '/home/shido/chaste-output/nastya_lr_2d_bidomain/video/heart_43.vtu',\n",
        " '/home/shido/chaste-output/nastya_lr_2d_bidomain/video/heart_187.vtu',\n",
        " '/home/shido/chaste-output/nastya_lr_2d_bidomain/video/heart_27.vtu',\n",
        " '/home/shido/chaste-output/nastya_lr_2d_bidomain/video/heart_193.vtu',\n",
        " '/home/shido/chaste-output/nastya_lr_2d_bidomain/video/heart_284.vtu',\n",
        " '/home/shido/chaste-output/nastya_lr_2d_bidomain/video/heart_409.vtu',\n",
        " '/home/shido/chaste-output/nastya_lr_2d_bidomain/video/heart_395.vtu',\n",
        " '/home/shido/chaste-output/nastya_lr_2d_bidomain/video/heart_220.vtu',\n",
        " '/home/shido/chaste-output/nastya_lr_2d_bidomain/video/heart_58.vtu',\n",
        " '/home/shido/chaste-output/nastya_lr_2d_bidomain/video/heart_448.vtu',\n",
        " '/home/shido/chaste-output/nastya_lr_2d_bidomain/video/heart_378.vtu',\n",
        " '/home/shido/chaste-output/nastya_lr_2d_bidomain/video/heart_494.vtu',\n",
        " '/home/shido/chaste-output/nastya_lr_2d_bidomain/video/heart_71.vtu',\n",
        " '/home/shido/chaste-output/nastya_lr_2d_bidomain/video/heart_183.vtu',\n",
        " '/home/shido/chaste-output/nastya_lr_2d_bidomain/video/heart_481.vtu',\n",
        " '/home/shido/chaste-output/nastya_lr_2d_bidomain/video/heart_412.vtu',\n",
        " '/home/shido/chaste-output/nastya_lr_2d_bidomain/video/heart_84.vtu',\n",
        " '/home/shido/chaste-output/nastya_lr_2d_bidomain/video/heart_177.vtu',\n",
        " '/home/shido/chaste-output/nastya_lr_2d_bidomain/video/heart_275.vtu',\n",
        " '/home/shido/chaste-output/nastya_lr_2d_bidomain/video/heart_6.vtu',\n",
        " '/home/shido/chaste-output/nastya_lr_2d_bidomain/video/heart_308.vtu',\n",
        " '/home/shido/chaste-output/nastya_lr_2d_bidomain/video/heart_94.vtu',\n",
        " '/home/shido/chaste-output/nastya_lr_2d_bidomain/video/heart_162.vtu',\n",
        " '/home/shido/chaste-output/nastya_lr_2d_bidomain/video/heart_96.vtu',\n",
        " '/home/shido/chaste-output/nastya_lr_2d_bidomain/video/heart_214.vtu',\n",
        " '/home/shido/chaste-output/nastya_lr_2d_bidomain/video/heart_454.vtu',\n",
        " '/home/shido/chaste-output/nastya_lr_2d_bidomain/video/heart_365.vtu',\n",
        " '/home/shido/chaste-output/nastya_lr_2d_bidomain/video/heart_211.vtu',\n",
        " '/home/shido/chaste-output/nastya_lr_2d_bidomain/video/heart_107.vtu',\n",
        " '/home/shido/chaste-output/nastya_lr_2d_bidomain/video/heart_212.vtu',\n",
        " '/home/shido/chaste-output/nastya_lr_2d_bidomain/video/heart_15.vtu',\n",
        " '/home/shido/chaste-output/nastya_lr_2d_bidomain/video/heart_238.vtu',\n",
        " '/home/shido/chaste-output/nastya_lr_2d_bidomain/video/heart_322.vtu',\n",
        " '/home/shido/chaste-output/nastya_lr_2d_bidomain/video/heart_273.vtu',\n",
        " '/home/shido/chaste-output/nastya_lr_2d_bidomain/video/heart_102.vtu',\n",
        " '/home/shido/chaste-output/nastya_lr_2d_bidomain/video/heart_164.vtu',\n",
        " '/home/shido/chaste-output/nastya_lr_2d_bidomain/video/heart_252.vtu',\n",
        " '/home/shido/chaste-output/nastya_lr_2d_bidomain/video/heart_427.vtu',\n",
        " '/home/shido/chaste-output/nastya_lr_2d_bidomain/video/heart_110.vtu',\n",
        " '/home/shido/chaste-output/nastya_lr_2d_bidomain/video/heart_403.vtu',\n",
        " '/home/shido/chaste-output/nastya_lr_2d_bidomain/video/heart_229.vtu',\n",
        " '/home/shido/chaste-output/nastya_lr_2d_bidomain/video/heart_498.vtu',\n",
        " '/home/shido/chaste-output/nastya_lr_2d_bidomain/video/heart_336.vtu',\n",
        " '/home/shido/chaste-output/nastya_lr_2d_bidomain/video/heart_350.vtu',\n",
        " '/home/shido/chaste-output/nastya_lr_2d_bidomain/video/heart_394.vtu',\n",
        " '/home/shido/chaste-output/nastya_lr_2d_bidomain/video/heart_11.vtu',\n",
        " '/home/shido/chaste-output/nastya_lr_2d_bidomain/video/heart_20.vtu',\n",
        " '/home/shido/chaste-output/nastya_lr_2d_bidomain/video/heart_172.vtu',\n",
        " '/home/shido/chaste-output/nastya_lr_2d_bidomain/video/heart_429.vtu',\n",
        " '/home/shido/chaste-output/nastya_lr_2d_bidomain/video/heart_383.vtu',\n",
        " '/home/shido/chaste-output/nastya_lr_2d_bidomain/video/heart_390.vtu',\n",
        " '/home/shido/chaste-output/nastya_lr_2d_bidomain/video/heart_35.vtu',\n",
        " '/home/shido/chaste-output/nastya_lr_2d_bidomain/video/heart_80.vtu',\n",
        " '/home/shido/chaste-output/nastya_lr_2d_bidomain/video/heart_367.vtu',\n",
        " '/home/shido/chaste-output/nastya_lr_2d_bidomain/video/heart_127.vtu',\n",
        " '/home/shido/chaste-output/nastya_lr_2d_bidomain/video/heart_475.vtu',\n",
        " '/home/shido/chaste-output/nastya_lr_2d_bidomain/video/heart_91.vtu',\n",
        " '/home/shido/chaste-output/nastya_lr_2d_bidomain/video/heart_206.vtu',\n",
        " '/home/shido/chaste-output/nastya_lr_2d_bidomain/video/heart_120.vtu',\n",
        " '/home/shido/chaste-output/nastya_lr_2d_bidomain/video/heart_216.vtu',\n",
        " '/home/shido/chaste-output/nastya_lr_2d_bidomain/video/heart_239.vtu',\n",
        " '/home/shido/chaste-output/nastya_lr_2d_bidomain/video/heart_466.vtu',\n",
        " '/home/shido/chaste-output/nastya_lr_2d_bidomain/video/heart_324.vtu',\n",
        " '/home/shido/chaste-output/nastya_lr_2d_bidomain/video/heart_457.vtu',\n",
        " '/home/shido/chaste-output/nastya_lr_2d_bidomain/video/heart_430.vtu',\n",
        " '/home/shido/chaste-output/nastya_lr_2d_bidomain/video/heart_245.vtu',\n",
        " '/home/shido/chaste-output/nastya_lr_2d_bidomain/video/heart_307.vtu',\n",
        " '/home/shido/chaste-output/nastya_lr_2d_bidomain/video/heart_441.vtu',\n",
        " '/home/shido/chaste-output/nastya_lr_2d_bidomain/video/heart_357.vtu',\n",
        " '/home/shido/chaste-output/nastya_lr_2d_bidomain/video/heart_219.vtu',\n",
        " '/home/shido/chaste-output/nastya_lr_2d_bidomain/video/heart_99.vtu',\n",
        " '/home/shido/chaste-output/nastya_lr_2d_bidomain/video/heart_158.vtu',\n",
        " '/home/shido/chaste-output/nastya_lr_2d_bidomain/video/heart_258.vtu',\n",
        " '/home/shido/chaste-output/nastya_lr_2d_bidomain/video/heart_18.vtu',\n",
        " '/home/shido/chaste-output/nastya_lr_2d_bidomain/video/heart_447.vtu',\n",
        " '/home/shido/chaste-output/nastya_lr_2d_bidomain/video/heart_385.vtu',\n",
        " '/home/shido/chaste-output/nastya_lr_2d_bidomain/video/heart_285.vtu',\n",
        " '/home/shido/chaste-output/nastya_lr_2d_bidomain/video/heart_64.vtu',\n",
        " '/home/shido/chaste-output/nastya_lr_2d_bidomain/video/heart_1.vtu',\n",
        " '/home/shido/chaste-output/nastya_lr_2d_bidomain/video/heart_274.vtu',\n",
        " '/home/shido/chaste-output/nastya_lr_2d_bidomain/video/heart_224.vtu',\n",
        " '/home/shido/chaste-output/nastya_lr_2d_bidomain/video/heart_444.vtu',\n",
        " '/home/shido/chaste-output/nastya_lr_2d_bidomain/video/heart_179.vtu',\n",
        " '/home/shido/chaste-output/nastya_lr_2d_bidomain/video/heart_393.vtu',\n",
        " '/home/shido/chaste-output/nastya_lr_2d_bidomain/video/heart_5.vtu',\n",
        " '/home/shido/chaste-output/nastya_lr_2d_bidomain/video/heart_122.vtu',\n",
        " '/home/shido/chaste-output/nastya_lr_2d_bidomain/video/heart_32.vtu',\n",
        " '/home/shido/chaste-output/nastya_lr_2d_bidomain/video/heart_17.vtu',\n",
        " '/home/shido/chaste-output/nastya_lr_2d_bidomain/video/heart_46.vtu',\n",
        " '/home/shido/chaste-output/nastya_lr_2d_bidomain/video/heart_470.vtu',\n",
        " '/home/shido/chaste-output/nastya_lr_2d_bidomain/video/heart_474.vtu',\n",
        " '/home/shido/chaste-output/nastya_lr_2d_bidomain/video/heart_312.vtu',\n",
        " '/home/shido/chaste-output/nastya_lr_2d_bidomain/video/heart_294.vtu',\n",
        " '/home/shido/chaste-output/nastya_lr_2d_bidomain/video/heart_321.vtu',\n",
        " '/home/shido/chaste-output/nastya_lr_2d_bidomain/video/heart_232.vtu',\n",
        " '/home/shido/chaste-output/nastya_lr_2d_bidomain/video/heart_265.vtu',\n",
        " '/home/shido/chaste-output/nastya_lr_2d_bidomain/video/heart_399.vtu',\n",
        " '/home/shido/chaste-output/nastya_lr_2d_bidomain/video/heart_118.vtu',\n",
        " '/home/shido/chaste-output/nastya_lr_2d_bidomain/video/heart_371.vtu',\n",
        " '/home/shido/chaste-output/nastya_lr_2d_bidomain/video/heart_47.vtu',\n",
        " '/home/shido/chaste-output/nastya_lr_2d_bidomain/video/heart_75.vtu',\n",
        " '/home/shido/chaste-output/nastya_lr_2d_bidomain/video/heart_446.vtu',\n",
        " '/home/shido/chaste-output/nastya_lr_2d_bidomain/video/heart_178.vtu',\n",
        " '/home/shido/chaste-output/nastya_lr_2d_bidomain/video/heart_63.vtu',\n",
        " '/home/shido/chaste-output/nastya_lr_2d_bidomain/video/heart_452.vtu',\n",
        " '/home/shido/chaste-output/nastya_lr_2d_bidomain/video/heart_297.vtu',\n",
        " '/home/shido/chaste-output/nastya_lr_2d_bidomain/video/heart_132.vtu',\n",
        " '/home/shido/chaste-output/nastya_lr_2d_bidomain/video/heart_97.vtu',\n",
        " '/home/shido/chaste-output/nastya_lr_2d_bidomain/video/heart_437.vtu',\n",
        " '/home/shido/chaste-output/nastya_lr_2d_bidomain/video/heart_139.vtu',\n",
        " '/home/shido/chaste-output/nastya_lr_2d_bidomain/video/heart_382.vtu',\n",
        " '/home/shido/chaste-output/nastya_lr_2d_bidomain/video/heart_29.vtu',\n",
        " '/home/shido/chaste-output/nastya_lr_2d_bidomain/video/heart_218.vtu',\n",
        " '/home/shido/chaste-output/nastya_lr_2d_bidomain/video/heart_78.vtu',\n",
        " '/home/shido/chaste-output/nastya_lr_2d_bidomain/video/heart_79.vtu',\n",
        " '/home/shido/chaste-output/nastya_lr_2d_bidomain/video/heart_210.vtu',\n",
        " '/home/shido/chaste-output/nastya_lr_2d_bidomain/video/heart_0.vtu',\n",
        " '/home/shido/chaste-output/nastya_lr_2d_bidomain/video/heart_105.vtu',\n",
        " '/home/shido/chaste-output/nastya_lr_2d_bidomain/video/heart_306.vtu',\n",
        " '/home/shido/chaste-output/nastya_lr_2d_bidomain/video/heart_473.vtu',\n",
        " '/home/shido/chaste-output/nastya_lr_2d_bidomain/video/heart_92.vtu',\n",
        " '/home/shido/chaste-output/nastya_lr_2d_bidomain/video/heart_242.vtu',\n",
        " '/home/shido/chaste-output/nastya_lr_2d_bidomain/video/heart_168.vtu',\n",
        " '/home/shido/chaste-output/nastya_lr_2d_bidomain/video/heart_374.vtu',\n",
        " '/home/shido/chaste-output/nastya_lr_2d_bidomain/video/heart_170.vtu',\n",
        " '/home/shido/chaste-output/nastya_lr_2d_bidomain/video/heart_202.vtu',\n",
        " '/home/shido/chaste-output/nastya_lr_2d_bidomain/video/heart_176.vtu',\n",
        " '/home/shido/chaste-output/nastya_lr_2d_bidomain/video/heart_169.vtu',\n",
        " '/home/shido/chaste-output/nastya_lr_2d_bidomain/video/heart_379.vtu',\n",
        " '/home/shido/chaste-output/nastya_lr_2d_bidomain/video/heart_198.vtu',\n",
        " '/home/shido/chaste-output/nastya_lr_2d_bidomain/video/heart_338.vtu',\n",
        " '/home/shido/chaste-output/nastya_lr_2d_bidomain/video/heart_459.vtu',\n",
        " '/home/shido/chaste-output/nastya_lr_2d_bidomain/video/heart_171.vtu',\n",
        " '/home/shido/chaste-output/nastya_lr_2d_bidomain/video/heart_333.vtu',\n",
        " '/home/shido/chaste-output/nastya_lr_2d_bidomain/video/heart_163.vtu',\n",
        " '/home/shido/chaste-output/nastya_lr_2d_bidomain/video/heart_247.vtu',\n",
        " '/home/shido/chaste-output/nastya_lr_2d_bidomain/video/heart_182.vtu',\n",
        " '/home/shido/chaste-output/nastya_lr_2d_bidomain/video/heart_377.vtu',\n",
        " '/home/shido/chaste-output/nastya_lr_2d_bidomain/video/heart_173.vtu',\n",
        " '/home/shido/chaste-output/nastya_lr_2d_bidomain/video/heart_67.vtu',\n",
        " '/home/shido/chaste-output/nastya_lr_2d_bidomain/video/heart_456.vtu',\n",
        " '/home/shido/chaste-output/nastya_lr_2d_bidomain/video/heart_266.vtu',\n",
        " '/home/shido/chaste-output/nastya_lr_2d_bidomain/video/heart_207.vtu',\n",
        " '/home/shido/chaste-output/nastya_lr_2d_bidomain/video/heart_77.vtu',\n",
        " '/home/shido/chaste-output/nastya_lr_2d_bidomain/video/heart_462.vtu',\n",
        " '/home/shido/chaste-output/nastya_lr_2d_bidomain/video/heart_154.vtu',\n",
        " '/home/shido/chaste-output/nastya_lr_2d_bidomain/video/heart_331.vtu',\n",
        " '/home/shido/chaste-output/nastya_lr_2d_bidomain/video/heart_277.vtu',\n",
        " '/home/shido/chaste-output/nastya_lr_2d_bidomain/video/heart_114.vtu',\n",
        " '/home/shido/chaste-output/nastya_lr_2d_bidomain/video/heart_95.vtu',\n",
        " '/home/shido/chaste-output/nastya_lr_2d_bidomain/video/heart_489.vtu',\n",
        " '/home/shido/chaste-output/nastya_lr_2d_bidomain/video/heart_299.vtu',\n",
        " '/home/shido/chaste-output/nastya_lr_2d_bidomain/video/heart_344.vtu',\n",
        " '/home/shido/chaste-output/nastya_lr_2d_bidomain/video/heart_119.vtu',\n",
        " '/home/shido/chaste-output/nastya_lr_2d_bidomain/video/heart_205.vtu',\n",
        " '/home/shido/chaste-output/nastya_lr_2d_bidomain/video/heart_70.vtu',\n",
        " '/home/shido/chaste-output/nastya_lr_2d_bidomain/video/heart_423.vtu',\n",
        " '/home/shido/chaste-output/nastya_lr_2d_bidomain/video/heart_329.vtu',\n",
        " '/home/shido/chaste-output/nastya_lr_2d_bidomain/video/heart_332.vtu',\n",
        " '/home/shido/chaste-output/nastya_lr_2d_bidomain/video/heart_25.vtu',\n",
        " '/home/shido/chaste-output/nastya_lr_2d_bidomain/video/heart_147.vtu',\n",
        " '/home/shido/chaste-output/nastya_lr_2d_bidomain/video/heart_57.vtu',\n",
        " '/home/shido/chaste-output/nastya_lr_2d_bidomain/video/heart_251.vtu',\n",
        " '/home/shido/chaste-output/nastya_lr_2d_bidomain/video/heart_125.vtu',\n",
        " '/home/shido/chaste-output/nastya_lr_2d_bidomain/video/heart_88.vtu',\n",
        " '/home/shido/chaste-output/nastya_lr_2d_bidomain/video/heart_50.vtu',\n",
        " '/home/shido/chaste-output/nastya_lr_2d_bidomain/video/heart_478.vtu',\n",
        " '/home/shido/chaste-output/nastya_lr_2d_bidomain/video/heart_356.vtu',\n",
        " '/home/shido/chaste-output/nastya_lr_2d_bidomain/video/heart_493.vtu',\n",
        " '/home/shido/chaste-output/nastya_lr_2d_bidomain/video/heart_484.vtu',\n",
        " '/home/shido/chaste-output/nastya_lr_2d_bidomain/video/heart_320.vtu',\n",
        " '/home/shido/chaste-output/nastya_lr_2d_bidomain/video/heart_451.vtu',\n",
        " '/home/shido/chaste-output/nastya_lr_2d_bidomain/video/heart_311.vtu',\n",
        " '/home/shido/chaste-output/nastya_lr_2d_bidomain/video/heart_100.vtu',\n",
        " '/home/shido/chaste-output/nastya_lr_2d_bidomain/video/heart_287.vtu',\n",
        " '/home/shido/chaste-output/nastya_lr_2d_bidomain/video/heart_234.vtu',\n",
        " '/home/shido/chaste-output/nastya_lr_2d_bidomain/video/heart_291.vtu',\n",
        " '/home/shido/chaste-output/nastya_lr_2d_bidomain/video/heart_469.vtu',\n",
        " '/home/shido/chaste-output/nastya_lr_2d_bidomain/video/heart_185.vtu',\n",
        " '/home/shido/chaste-output/nastya_lr_2d_bidomain/video/heart_301.vtu',\n",
        " '/home/shido/chaste-output/nastya_lr_2d_bidomain/video/heart_142.vtu',\n",
        " '/home/shido/chaste-output/nastya_lr_2d_bidomain/video/heart_87.vtu',\n",
        " '/home/shido/chaste-output/nastya_lr_2d_bidomain/video/heart_101.vtu',\n",
        " '/home/shido/chaste-output/nastya_lr_2d_bidomain/video/heart_433.vtu',\n",
        " '/home/shido/chaste-output/nastya_lr_2d_bidomain/video/heart_487.vtu',\n",
        " '/home/shido/chaste-output/nastya_lr_2d_bidomain/video/heart_115.vtu',\n",
        " '/home/shido/chaste-output/nastya_lr_2d_bidomain/video/heart_82.vtu',\n",
        " '/home/shido/chaste-output/nastya_lr_2d_bidomain/video/heart_309.vtu',\n",
        " '/home/shido/chaste-output/nastya_lr_2d_bidomain/video/heart_153.vtu',\n",
        " '/home/shido/chaste-output/nastya_lr_2d_bidomain/video/heart_7.vtu',\n",
        " '/home/shido/chaste-output/nastya_lr_2d_bidomain/video/heart_117.vtu',\n",
        " '/home/shido/chaste-output/nastya_lr_2d_bidomain/video/heart_253.vtu',\n",
        " '/home/shido/chaste-output/nastya_lr_2d_bidomain/video/heart_326.vtu',\n",
        " '/home/shido/chaste-output/nastya_lr_2d_bidomain/video/heart_283.vtu',\n",
        " '/home/shido/chaste-output/nastya_lr_2d_bidomain/video/heart_267.vtu',\n",
        " '/home/shido/chaste-output/nastya_lr_2d_bidomain/video/heart_435.vtu',\n",
        " '/home/shido/chaste-output/nastya_lr_2d_bidomain/video/heart_314.vtu',\n",
        " '/home/shido/chaste-output/nastya_lr_2d_bidomain/video/heart_52.vtu',\n",
        " '/home/shido/chaste-output/nastya_lr_2d_bidomain/video/heart_76.vtu',\n",
        " '/home/shido/chaste-output/nastya_lr_2d_bidomain/video/heart_396.vtu',\n",
        " '/home/shido/chaste-output/nastya_lr_2d_bidomain/video/heart_483.vtu',\n",
        " '/home/shido/chaste-output/nastya_lr_2d_bidomain/video/heart_295.vtu',\n",
        " '/home/shido/chaste-output/nastya_lr_2d_bidomain/video/heart_250.vtu',\n",
        " '/home/shido/chaste-output/nastya_lr_2d_bidomain/video/heart_413.vtu',\n",
        " '/home/shido/chaste-output/nastya_lr_2d_bidomain/video/heart_223.vtu',\n",
        " '/home/shido/chaste-output/nastya_lr_2d_bidomain/video/heart_222.vtu',\n",
        " '/home/shido/chaste-output/nastya_lr_2d_bidomain/video/heart_28.vtu',\n",
        " '/home/shido/chaste-output/nastya_lr_2d_bidomain/video/heart_303.vtu',\n",
        " '/home/shido/chaste-output/nastya_lr_2d_bidomain/video/heart_188.vtu',\n",
        " '/home/shido/chaste-output/nastya_lr_2d_bidomain/video/heart_405.vtu',\n",
        " '/home/shido/chaste-output/nastya_lr_2d_bidomain/video/heart_270.vtu',\n",
        " '/home/shido/chaste-output/nastya_lr_2d_bidomain/video/heart_93.vtu',\n",
        " '/home/shido/chaste-output/nastya_lr_2d_bidomain/video/heart_279.vtu',\n",
        " '/home/shido/chaste-output/nastya_lr_2d_bidomain/video/heart_113.vtu',\n",
        " '/home/shido/chaste-output/nastya_lr_2d_bidomain/video/heart_255.vtu',\n",
        " '/home/shido/chaste-output/nastya_lr_2d_bidomain/video/heart_436.vtu',\n",
        " '/home/shido/chaste-output/nastya_lr_2d_bidomain/video/heart_464.vtu',\n",
        " '/home/shido/chaste-output/nastya_lr_2d_bidomain/video/heart_201.vtu',\n",
        " '/home/shido/chaste-output/nastya_lr_2d_bidomain/video/heart_450.vtu',\n",
        " '/home/shido/chaste-output/nastya_lr_2d_bidomain/video/heart_407.vtu',\n",
        " '/home/shido/chaste-output/nastya_lr_2d_bidomain/video/heart_236.vtu',\n",
        " '/home/shido/chaste-output/nastya_lr_2d_bidomain/video/heart_289.vtu',\n",
        " '/home/shido/chaste-output/nastya_lr_2d_bidomain/video/heart_388.vtu',\n",
        " '/home/shido/chaste-output/nastya_lr_2d_bidomain/video/heart_480.vtu',\n",
        " '/home/shido/chaste-output/nastya_lr_2d_bidomain/video/heart_419.vtu',\n",
        " '/home/shido/chaste-output/nastya_lr_2d_bidomain/video/heart_74.vtu',\n",
        " '/home/shido/chaste-output/nastya_lr_2d_bidomain/video/heart_369.vtu',\n",
        " '/home/shido/chaste-output/nastya_lr_2d_bidomain/video/heart_345.vtu',\n",
        " '/home/shido/chaste-output/nastya_lr_2d_bidomain/video/heart_417.vtu',\n",
        " '/home/shido/chaste-output/nastya_lr_2d_bidomain/video/heart_438.vtu',\n",
        " '/home/shido/chaste-output/nastya_lr_2d_bidomain/video/heart_83.vtu',\n",
        " '/home/shido/chaste-output/nastya_lr_2d_bidomain/video/heart_440.vtu',\n",
        " '/home/shido/chaste-output/nastya_lr_2d_bidomain/video/heart_45.vtu',\n",
        " '/home/shido/chaste-output/nastya_lr_2d_bidomain/video/heart_144.vtu',\n",
        " '/home/shido/chaste-output/nastya_lr_2d_bidomain/video/heart_479.vtu',\n",
        " '/home/shido/chaste-output/nastya_lr_2d_bidomain/video/heart_26.vtu',\n",
        " '/home/shido/chaste-output/nastya_lr_2d_bidomain/video/heart_443.vtu',\n",
        " '/home/shido/chaste-output/nastya_lr_2d_bidomain/video/heart_30.vtu',\n",
        " '/home/shido/chaste-output/nastya_lr_2d_bidomain/video/heart_89.vtu',\n",
        " '/home/shido/chaste-output/nastya_lr_2d_bidomain/video/heart_276.vtu',\n",
        " '/home/shido/chaste-output/nastya_lr_2d_bidomain/video/heart_421.vtu',\n",
        " '/home/shido/chaste-output/nastya_lr_2d_bidomain/video/heart_41.vtu',\n",
        " '/home/shido/chaste-output/nastya_lr_2d_bidomain/video/heart_227.vtu',\n",
        " '/home/shido/chaste-output/nastya_lr_2d_bidomain/video/heart_10.vtu',\n",
        " '/home/shido/chaste-output/nastya_lr_2d_bidomain/video/heart_434.vtu',\n",
        " '/home/shido/chaste-output/nastya_lr_2d_bidomain/video/heart_486.vtu',\n",
        " '/home/shido/chaste-output/nastya_lr_2d_bidomain/video/heart_161.vtu',\n",
        " '/home/shido/chaste-output/nastya_lr_2d_bidomain/video/heart_415.vtu',\n",
        " '/home/shido/chaste-output/nastya_lr_2d_bidomain/video/heart_197.vtu',\n",
        " '/home/shido/chaste-output/nastya_lr_2d_bidomain/video/heart_196.vtu',\n",
        " '/home/shido/chaste-output/nastya_lr_2d_bidomain/video/heart_272.vtu',\n",
        " '/home/shido/chaste-output/nastya_lr_2d_bidomain/video/heart_116.vtu',\n",
        " '/home/shido/chaste-output/nastya_lr_2d_bidomain/video/heart_406.vtu',\n",
        " '/home/shido/chaste-output/nastya_lr_2d_bidomain/video/heart_221.vtu',\n",
        " '/home/shido/chaste-output/nastya_lr_2d_bidomain/video/heart_112.vtu',\n",
        " '/home/shido/chaste-output/nastya_lr_2d_bidomain/video/heart_370.vtu',\n",
        " '/home/shido/chaste-output/nastya_lr_2d_bidomain/video/heart_62.vtu',\n",
        " '/home/shido/chaste-output/nastya_lr_2d_bidomain/video/heart_418.vtu',\n",
        " '/home/shido/chaste-output/nastya_lr_2d_bidomain/video/heart_343.vtu',\n",
        " '/home/shido/chaste-output/nastya_lr_2d_bidomain/video/heart_426.vtu',\n",
        " '/home/shido/chaste-output/nastya_lr_2d_bidomain/video/heart_325.vtu',\n",
        " '/home/shido/chaste-output/nastya_lr_2d_bidomain/video/heart_364.vtu',\n",
        " '/home/shido/chaste-output/nastya_lr_2d_bidomain/video/heart_121.vtu',\n",
        " '/home/shido/chaste-output/nastya_lr_2d_bidomain/video/heart_500.vtu',\n",
        " '/home/shido/chaste-output/nastya_lr_2d_bidomain/video/heart_189.vtu',\n",
        " '/home/shido/chaste-output/nastya_lr_2d_bidomain/video/heart_410.vtu',\n",
        " '/home/shido/chaste-output/nastya_lr_2d_bidomain/video/heart_148.vtu',\n",
        " '/home/shido/chaste-output/nastya_lr_2d_bidomain/video/heart_282.vtu',\n",
        " '/home/shido/chaste-output/nastya_lr_2d_bidomain/video/heart_72.vtu',\n",
        " '/home/shido/chaste-output/nastya_lr_2d_bidomain/video/heart_137.vtu',\n",
        " '/home/shido/chaste-output/nastya_lr_2d_bidomain/video/heart_44.vtu',\n",
        " '/home/shido/chaste-output/nastya_lr_2d_bidomain/video/heart_380.vtu',\n",
        " '/home/shido/chaste-output/nastya_lr_2d_bidomain/video/heart_191.vtu',\n",
        " '/home/shido/chaste-output/nastya_lr_2d_bidomain/video/heart_404.vtu',\n",
        " '/home/shido/chaste-output/nastya_lr_2d_bidomain/video/heart_465.vtu',\n",
        " '/home/shido/chaste-output/nastya_lr_2d_bidomain/video/heart_490.vtu',\n",
        " '/home/shido/chaste-output/nastya_lr_2d_bidomain/video/heart_31.vtu',\n",
        " '/home/shido/chaste-output/nastya_lr_2d_bidomain/video/heart_226.vtu',\n",
        " '/home/shido/chaste-output/nastya_lr_2d_bidomain/video/heart_243.vtu',\n",
        " '/home/shido/chaste-output/nastya_lr_2d_bidomain/video/heart_392.vtu',\n",
        " '/home/shido/chaste-output/nastya_lr_2d_bidomain/video/heart_363.vtu',\n",
        " '/home/shido/chaste-output/nastya_lr_2d_bidomain/video/heart_34.vtu',\n",
        " '/home/shido/chaste-output/nastya_lr_2d_bidomain/video/heart_16.vtu',\n",
        " '/home/shido/chaste-output/nastya_lr_2d_bidomain/video/heart_384.vtu',\n",
        " '/home/shido/chaste-output/nastya_lr_2d_bidomain/video/heart_442.vtu',\n",
        " '/home/shido/chaste-output/nastya_lr_2d_bidomain/video/heart_60.vtu',\n",
        " '/home/shido/chaste-output/nastya_lr_2d_bidomain/video/heart_318.vtu',\n",
        " '/home/shido/chaste-output/nastya_lr_2d_bidomain/video/heart_133.vtu',\n",
        " '/home/shido/chaste-output/nastya_lr_2d_bidomain/video/heart_126.vtu',\n",
        " '/home/shido/chaste-output/nastya_lr_2d_bidomain/video/heart_347.vtu',\n",
        " '/home/shido/chaste-output/nastya_lr_2d_bidomain/video/heart_208.vtu',\n",
        " '/home/shido/chaste-output/nastya_lr_2d_bidomain/video/heart_400.vtu',\n",
        " '/home/shido/chaste-output/nastya_lr_2d_bidomain/video/heart_310.vtu',\n",
        " '/home/shido/chaste-output/nastya_lr_2d_bidomain/video/heart_290.vtu',\n",
        " '/home/shido/chaste-output/nastya_lr_2d_bidomain/video/heart_408.vtu',\n",
        " '/home/shido/chaste-output/nastya_lr_2d_bidomain/video/heart_491.vtu',\n",
        " '/home/shido/chaste-output/nastya_lr_2d_bidomain/video/heart_401.vtu',\n",
        " '/home/shido/chaste-output/nastya_lr_2d_bidomain/video/heart_420.vtu',\n",
        " '/home/shido/chaste-output/nastya_lr_2d_bidomain/video/heart_424.vtu',\n",
        " '/home/shido/chaste-output/nastya_lr_2d_bidomain/video/heart_256.vtu',\n",
        " '/home/shido/chaste-output/nastya_lr_2d_bidomain/video/heart_472.vtu',\n",
        " '/home/shido/chaste-output/nastya_lr_2d_bidomain/video/heart_293.vtu',\n",
        " '/home/shido/chaste-output/nastya_lr_2d_bidomain/video/heart_264.vtu',\n",
        " '/home/shido/chaste-output/nastya_lr_2d_bidomain/video/heart_496.vtu',\n",
        " '/home/shido/chaste-output/nastya_lr_2d_bidomain/video/heart_298.vtu',\n",
        " '/home/shido/chaste-output/nastya_lr_2d_bidomain/video/heart_431.vtu',\n",
        " '/home/shido/chaste-output/nastya_lr_2d_bidomain/video/heart_488.vtu',\n",
        " '/home/shido/chaste-output/nastya_lr_2d_bidomain/video/heart_368.vtu',\n",
        " '/home/shido/chaste-output/nastya_lr_2d_bidomain/video/heart_181.vtu',\n",
        " '/home/shido/chaste-output/nastya_lr_2d_bidomain/video/heart_328.vtu',\n",
        " '/home/shido/chaste-output/nastya_lr_2d_bidomain/video/heart_13.vtu',\n",
        " '/home/shido/chaste-output/nastya_lr_2d_bidomain/video/heart_416.vtu',\n",
        " '/home/shido/chaste-output/nastya_lr_2d_bidomain/video/heart_104.vtu',\n",
        " '/home/shido/chaste-output/nastya_lr_2d_bidomain/video/heart_56.vtu',\n",
        " '/home/shido/chaste-output/nastya_lr_2d_bidomain/video/heart_485.vtu',\n",
        " '/home/shido/chaste-output/nastya_lr_2d_bidomain/video/heart_12.vtu',\n",
        " '/home/shido/chaste-output/nastya_lr_2d_bidomain/video/heart_351.vtu',\n",
        " '/home/shido/chaste-output/nastya_lr_2d_bidomain/video/heart_124.vtu',\n",
        " '/home/shido/chaste-output/nastya_lr_2d_bidomain/video/heart_217.vtu',\n",
        " '/home/shido/chaste-output/nastya_lr_2d_bidomain/video/heart_305.vtu',\n",
        " '/home/shido/chaste-output/nastya_lr_2d_bidomain/video/heart_300.vtu',\n",
        " '/home/shido/chaste-output/nastya_lr_2d_bidomain/video/heart_330.vtu',\n",
        " '/home/shido/chaste-output/nastya_lr_2d_bidomain/video/heart_492.vtu',\n",
        " '/home/shido/chaste-output/nastya_lr_2d_bidomain/video/heart_108.vtu',\n",
        " '/home/shido/chaste-output/nastya_lr_2d_bidomain/video/heart_334.vtu',\n",
        " '/home/shido/chaste-output/nastya_lr_2d_bidomain/video/heart_19.vtu',\n",
        " '/home/shido/chaste-output/nastya_lr_2d_bidomain/video/heart_263.vtu',\n",
        " '/home/shido/chaste-output/nastya_lr_2d_bidomain/video/heart_180.vtu',\n",
        " '/home/shido/chaste-output/nastya_lr_2d_bidomain/video/heart_244.vtu',\n",
        " '/home/shido/chaste-output/nastya_lr_2d_bidomain/video/heart_86.vtu',\n",
        " '/home/shido/chaste-output/nastya_lr_2d_bidomain/video/heart_135.vtu',\n",
        " '/home/shido/chaste-output/nastya_lr_2d_bidomain/video/heart_192.vtu',\n",
        " '/home/shido/chaste-output/nastya_lr_2d_bidomain/video/heart_271.vtu',\n",
        " '/home/shido/chaste-output/nastya_lr_2d_bidomain/video/heart_302.vtu',\n",
        " '/home/shido/chaste-output/nastya_lr_2d_bidomain/video/heart_497.vtu',\n",
        " '/home/shido/chaste-output/nastya_lr_2d_bidomain/video/heart_39.vtu']"
       ]
      }
     ],
     "prompt_number": 3
    },
    {
     "cell_type": "code",
     "collapsed": false,
     "input": [
      "assert(os.path.exists(os.path.join(WAY_2D, FILE_2D_VTU)))\n",
      "assert(os.path.exists(os.path.join(WAY_3D, FILE_3D_VTU)))"
     ],
     "language": "python",
     "metadata": {},
     "outputs": [],
     "prompt_number": 4
    },
    {
     "cell_type": "code",
     "collapsed": false,
     "input": [
      "reader2 = vtkUnstructuredGridReader()\n",
      "reader2.SetFileName(FILE_MESH)\n",
      "reader2.Update()\n",
      "ug2 = reader2.GetOutput()\n",
      "points2 = ug2.GetPoints()\n",
      "coord_points_data2 = vtk_to_numpy(points2.GetData())\n",
      "coord_points_data2"
     ],
     "language": "python",
     "metadata": {},
     "outputs": [
      {
       "metadata": {},
       "output_type": "pyout",
       "prompt_number": 5,
       "text": [
        "array([[ 2.396570000000000089102059064316563308238983154296875 ,\n",
        "         2.834470000000000045048409447190351784229278564453125 ,\n",
        "         2.107549999999999812416717759333550930023193359375    ],\n",
        "       [ 2.418366265452414953784909812384285032749176025390625 ,\n",
        "         2.834470000000000045048409447190351784229278564453125 ,\n",
        "         2.08019948592150694111069242353551089763641357421875  ],\n",
        "       [ 2.440806543944991080508088998612947762012481689453125 ,\n",
        "         2.834470000000000045048409447190351784229278564453125 ,\n",
        "         2.053376548153261982321282630437053740024566650390625 ],\n",
        "       ..., \n",
        "       [ 4.09603913966717758654567660414613783359527587890625  ,\n",
        "         2.834470000000000045048409447190351784229278564453125 ,\n",
        "         1.0492115960424699405706405741511844098567962646484375],\n",
        "       [ 3.97081886471726885901034620474092662334442138671875  ,\n",
        "         2.834470000000000045048409447190351784229278564453125 ,\n",
        "         1.0454906148808469357192052484606392681598663330078125],\n",
        "       [ 4.04382200581471717981685287668369710445404052734375  ,\n",
        "         2.834470000000000045048409447190351784229278564453125 ,\n",
        "         1.04451127498114093583581052371300756931304931640625  ]])"
       ]
      }
     ],
     "prompt_number": 5
    },
    {
     "cell_type": "code",
     "collapsed": false,
     "input": [
      "vec1 = coord_points_data2[POINT_A] - coord_points_data2[POINT_O]\n",
      "vec2_ = coord_points_data2[POINT_B] - coord_points_data2[POINT_O]\n",
      "print vec1, vec2_\n"
     ],
     "language": "python",
     "metadata": {},
     "outputs": [
      {
       "output_type": "stream",
       "stream": "stdout",
       "text": [
        "[ 1.5629357831021390978776253177784383296966552734375  0.\n",
        "  2.8055342198547439380718060419894754886627197265625] [-2.288158263036873751872235516202636063098907470703125  0.\n",
        "  1.96304665218159701822742135846056044101715087890625 ]\n"
       ]
      }
     ],
     "prompt_number": 6
    },
    {
     "cell_type": "code",
     "collapsed": false,
     "input": [
      "vec3 = np.cross(vec1, vec2_)\n",
      "vec2 = np.cross(vec1, vec3)\n",
      "vec1_len = np.linalg.norm(vec1)\n",
      "vec2_len = np.linalg.norm(vec2)\n",
      "vec3_len = np.linalg.norm(vec3)\n",
      "L = np.matrix(np.vstack([vec1/vec1_len, vec2/vec2_len, vec3/vec3_len]).T)\n",
      "L_inv = np.linalg.inv(L)\n",
      "L"
     ],
     "language": "python",
     "metadata": {},
     "outputs": [
      {
       "metadata": {},
       "output_type": "pyout",
       "prompt_number": 7,
       "text": [
        "matrix([[ 0.48666709262240004374433510747621767222881317138671875 ,\n",
        "          0.87358751190619721160857125141774304211139678955078125 ,  0.                                                      ],\n",
        "        [ 0.                                                      ,\n",
        "          0.                                                      , -1.                                                      ],\n",
        "        [ 0.87358751190619721160857125141774304211139678955078125 ,\n",
        "         -0.486667092622400099255486338734044693410396575927734375,  0.                                                      ]])"
       ]
      }
     ],
     "prompt_number": 7
    },
    {
     "cell_type": "code",
     "collapsed": false,
     "input": [
      "reader = vtk.vtkXMLUnstructuredGridReader()\n",
      "reader.SetFileName(os.path.join(WAY_2D, FILE_2D_VTU))\n",
      "reader.Update()\n",
      "\n",
      "output = reader.GetOutput()\n",
      "\n",
      "points = output.GetPoints()\n",
      "coord_points_data = vtk_to_numpy(points.GetData())"
     ],
     "language": "python",
     "metadata": {},
     "outputs": [],
     "prompt_number": 8
    },
    {
     "cell_type": "code",
     "collapsed": false,
     "input": [
      "scalars = vtk_to_numpy(output.GetPointData().GetArray('V'))"
     ],
     "language": "python",
     "metadata": {},
     "outputs": [],
     "prompt_number": 9
    },
    {
     "cell_type": "code",
     "collapsed": false,
     "input": [
      "result = np.zeros_like(coord_points_data)\n",
      "print  L*np.matrix(coord_points_data[0]).T\n",
      "print np.reshape(coord_points_data2[POINT_O], (3,1))\n",
      "for i in tqdm(xrange(len(coord_points_data))):\n",
      "    point_transform = L*np.matrix(coord_points_data[i]).T + np.reshape(coord_points_data2[POINT_O], (3,1))\n",
      "    result[i,:] = point_transform[:].T"
     ],
     "language": "python",
     "metadata": {},
     "outputs": [
      {
       "output_type": "stream",
       "stream": "stderr",
       "text": [
        "\r",
        "  0%|          | 0/11612 [00:00<?, ?it/s]"
       ]
      },
      {
       "output_type": "stream",
       "stream": "stderr",
       "text": [
        "\r",
        "  9%|\u2589         | 1047/11612 [00:00<00:01, 10462.58it/s]"
       ]
      },
      {
       "output_type": "stream",
       "stream": "stderr",
       "text": [
        "\r",
        " 19%|\u2588\u258a        | 2161/11612 [00:00<00:00, 10655.80it/s]"
       ]
      },
      {
       "output_type": "stream",
       "stream": "stderr",
       "text": [
        "\r",
        " 28%|\u2588\u2588\u258a       | 3255/11612 [00:00<00:00, 10737.25it/s]"
       ]
      },
      {
       "output_type": "stream",
       "stream": "stderr",
       "text": [
        "\r",
        " 38%|\u2588\u2588\u2588\u258a      | 4445/11612 [00:00<00:00, 11061.13it/s]"
       ]
      },
      {
       "output_type": "stream",
       "stream": "stderr",
       "text": [
        "\r",
        " 49%|\u2588\u2588\u2588\u2588\u258a     | 5658/11612 [00:00<00:00, 11360.52it/s]"
       ]
      },
      {
       "output_type": "stream",
       "stream": "stderr",
       "text": [
        "\r",
        " 58%|\u2588\u2588\u2588\u2588\u2588\u258a    | 6767/11612 [00:00<00:00, 11275.62it/s]"
       ]
      },
      {
       "output_type": "stream",
       "stream": "stderr",
       "text": [
        "\r",
        " 68%|\u2588\u2588\u2588\u2588\u2588\u2588\u258a   | 7952/11612 [00:00<00:00, 11440.42it/s]"
       ]
      },
      {
       "output_type": "stream",
       "stream": "stderr",
       "text": [
        "\r",
        " 79%|\u2588\u2588\u2588\u2588\u2588\u2588\u2588\u2589  | 9168/11612 [00:00<00:00, 11646.58it/s]"
       ]
      },
      {
       "output_type": "stream",
       "stream": "stderr",
       "text": [
        "\r",
        " 89%|\u2588\u2588\u2588\u2588\u2588\u2588\u2588\u2588\u2589 | 10382/11612 [00:00<00:00, 11790.11it/s]"
       ]
      },
      {
       "output_type": "stream",
       "stream": "stderr",
       "text": [
        "\r",
        "100%|\u2588\u2588\u2588\u2588\u2588\u2588\u2588\u2588\u2588\u2588| 11612/11612 [00:00<00:00, 11616.19it/s]"
       ]
      },
      {
       "output_type": "stream",
       "stream": "stdout",
       "text": [
        "[[-1.7390665920719661219351337422267533838748931884765625]\n",
        " [ 0.                                                    ]\n",
        " [ 1.0789132061165662701540668422239832580089569091796875]]\n",
        "[[ 4.13563656252728772955151725909672677516937255859375 ]\n",
        " [ 2.834470000000000045048409447190351784229278564453125]\n",
        " [ 1.028636811441618892359883830067701637744903564453125]]\n"
       ]
      },
      {
       "output_type": "stream",
       "stream": "stderr",
       "text": [
        "\n"
       ]
      }
     ],
     "prompt_number": 10
    },
    {
     "cell_type": "code",
     "collapsed": false,
     "input": [
      "points = numpy_to_vtk(result, deep=True, array_type=vtk.VTK_FLOAT)\n",
      "vtkpoints = vtkPoints()\n",
      "for i in tqdm(xrange(len(coord_points_data2))):\n",
      "    vtkpoints.InsertPoint(i, result[i, 0], result[i, 1], result[i, 2])\n",
      "output.SetPoints(vtkpoints)"
     ],
     "language": "python",
     "metadata": {},
     "outputs": [
      {
       "output_type": "stream",
       "stream": "stderr",
       "text": [
        "\r",
        "  0%|          | 0/11612 [00:00<?, ?it/s]"
       ]
      },
      {
       "output_type": "stream",
       "stream": "stderr",
       "text": [
        "\r",
        "100%|\u2588\u2588\u2588\u2588\u2588\u2588\u2588\u2588\u2588\u2588| 11612/11612 [00:00<00:00, 205922.86it/s]"
       ]
      },
      {
       "output_type": "stream",
       "stream": "stderr",
       "text": [
        "\n"
       ]
      }
     ],
     "prompt_number": 11
    },
    {
     "cell_type": "code",
     "collapsed": false,
     "input": [
      "writer = vtk.vtkXMLUnstructuredGridWriter() # vtu\n",
      "\n",
      "writer.SetFileName(FILE_TURN_2D)\n",
      "writer.SetInputData(output)\n",
      "writer.Write()"
     ],
     "language": "python",
     "metadata": {},
     "outputs": [
      {
       "metadata": {},
       "output_type": "pyout",
       "prompt_number": 12,
       "text": [
        "1"
       ]
      }
     ],
     "prompt_number": 12
    },
    {
     "cell_type": "code",
     "collapsed": false,
     "input": [
      "reader3 = vtk.vtkXMLUnstructuredGridReader()\n",
      "reader3.SetFileName(os.path.join(WAY_3D, FILE_3D_VTU))\n",
      "reader3.Update()\n",
      "output3 = reader3.GetOutput()\n",
      "data = vtk_to_numpy(output3.GetCells().GetData())\n"
     ],
     "language": "python",
     "metadata": {},
     "outputs": [],
     "prompt_number": 13
    },
    {
     "cell_type": "code",
     "collapsed": false,
     "input": [
      "data"
     ],
     "language": "python",
     "metadata": {},
     "outputs": [
      {
       "metadata": {},
       "output_type": "pyout",
       "prompt_number": 14,
       "text": [
        "array([      4, 1688426, 1675494, ..., 1691071, 1673904, 1704019])"
       ]
      }
     ],
     "prompt_number": 14
    },
    {
     "cell_type": "code",
     "collapsed": false,
     "input": [
      "tetrahedron = []\n",
      "\n",
      "idx = 0\n",
      "\n",
      "while idx < len(data):\n",
      "    if data[idx] == 4:\n",
      "        tetrahedron.append(data[idx+1:idx+5])\n",
      "   \n",
      "    idx += data[idx] + 1\n",
      "    \n",
      "    \n",
      "tetrahedron = np.array(tetrahedron)\n",
      "tetrahedron"
     ],
     "language": "python",
     "metadata": {},
     "outputs": [
      {
       "metadata": {},
       "output_type": "pyout",
       "prompt_number": 15,
       "text": [
        "array([[1688426, 1675494, 1688429, 1688428],\n",
        "       [1688426, 1687186, 1688427, 1688431],\n",
        "       [1688427, 1685796, 1688428, 1688430],\n",
        "       ..., \n",
        "       [1673904, 1691071, 1699821, 1704019],\n",
        "       [1679382, 1673904, 1691071, 1679422],\n",
        "       [1679382, 1691071, 1673904, 1704019]])"
       ]
      }
     ],
     "prompt_number": 15
    },
    {
     "cell_type": "code",
     "collapsed": false,
     "input": [
      "boneLocator = vtk.vtkCellLocator()\n",
      "boneLocator.SetDataSet(output3)\n",
      "boneLocator.BuildLocator()\n",
      "\n"
     ],
     "language": "python",
     "metadata": {},
     "outputs": [],
     "prompt_number": 16
    },
    {
     "cell_type": "code",
     "collapsed": false,
     "input": [
      "points3 = output3.GetPoints()\n",
      "coord_points_data3 = vtk_to_numpy(points3.GetData())\n",
      "scalars3 = vtk_to_numpy(output3.GetPointData().GetArray('V'))\n",
      "scalars3"
     ],
     "language": "python",
     "metadata": {},
     "outputs": [
      {
       "metadata": {},
       "output_type": "pyout",
       "prompt_number": 17,
       "text": [
        "array([ -83.87937164306640625,  -83.8821563720703125 ,\n",
        "        -83.88165283203125   , ...,  102.29080963134765625,\n",
        "         95.75891876220703125,  117.055023193359375  ], dtype=float32)"
       ]
      }
     ],
     "prompt_number": 17
    },
    {
     "cell_type": "code",
     "collapsed": false,
     "input": [
      "cell = vtk.vtkGenericCell()\n"
     ],
     "language": "python",
     "metadata": {},
     "outputs": [],
     "prompt_number": 18
    },
    {
     "cell_type": "code",
     "collapsed": false,
     "input": [
      "interpolation = np.zeros(len(scalars))#3D\n",
      "for i in tqdm(xrange(len(scalars))):\n",
      "    pcoords = np.zeros(3)\n",
      "    weights  = np.zeros(4)\n",
      "    a = boneLocator.FindCell(result[i], 0.00001, cell, pcoords, weights)\n",
      "    points_scalars = scalars3[tetrahedron[a]]\n",
      "    interpolation[i] = np.dot(weights, points_scalars)\n",
      "    \n",
      "    \n",
      "interpolation"
     ],
     "language": "python",
     "metadata": {},
     "outputs": [
      {
       "output_type": "stream",
       "stream": "stderr",
       "text": [
        "\r",
        "  0%|          | 0/11612 [00:00<?, ?it/s]"
       ]
      },
      {
       "output_type": "stream",
       "stream": "stderr",
       "text": [
        "\r",
        " 12%|\u2588\u258f        | 1362/11612 [00:00<00:00, 13617.84it/s]"
       ]
      },
      {
       "output_type": "stream",
       "stream": "stderr",
       "text": [
        "\r",
        " 37%|\u2588\u2588\u2588\u258b      | 4340/11612 [00:00<00:00, 16266.05it/s]"
       ]
      },
      {
       "output_type": "stream",
       "stream": "stderr",
       "text": [
        "\r",
        " 63%|\u2588\u2588\u2588\u2588\u2588\u2588\u258e   | 7284/11612 [00:00<00:00, 18787.83it/s]"
       ]
      },
      {
       "output_type": "stream",
       "stream": "stderr",
       "text": [
        "\r",
        " 86%|\u2588\u2588\u2588\u2588\u2588\u2588\u2588\u2588\u258c | 9936/11612 [00:00<00:00, 20587.25it/s]"
       ]
      },
      {
       "output_type": "stream",
       "stream": "stderr",
       "text": [
        "\r",
        "100%|\u2588\u2588\u2588\u2588\u2588\u2588\u2588\u2588\u2588\u2588| 11612/11612 [00:00<00:00, 24820.82it/s]"
       ]
      },
      {
       "output_type": "stream",
       "stream": "stderr",
       "text": [
        "\n"
       ]
      },
      {
       "metadata": {},
       "output_type": "pyout",
       "prompt_number": 19,
       "text": [
        "array([-83.8963135935221799854843993671238422393798828125,\n",
        "       -83.9189445357036873929246212355792522430419921875,\n",
        "       -83.920600308621715157642029225826263427734375    , ...,\n",
        "       -87.2696377909640403913726913742721080780029296875,\n",
        "       -83.7446898670626893590451800264418125152587890625,\n",
        "       -85.5030964938972601885325275361537933349609375   ])"
       ]
      }
     ],
     "prompt_number": 19
    },
    {
     "cell_type": "code",
     "collapsed": false,
     "input": [
      "interpolation_ = np.zeros_like(interpolation)\n"
     ],
     "language": "python",
     "metadata": {},
     "outputs": [],
     "prompt_number": 20
    },
    {
     "cell_type": "code",
     "collapsed": false,
     "input": [
      "for i in tqdm(xrange(len(interpolation_))):\n",
      "    interpolation_[i] = interpolation[i] - scalars[i]"
     ],
     "language": "python",
     "metadata": {},
     "outputs": [
      {
       "output_type": "stream",
       "stream": "stderr",
       "text": [
        "\r",
        "  0%|          | 0/11612 [00:00<?, ?it/s]"
       ]
      },
      {
       "output_type": "stream",
       "stream": "stderr",
       "text": [
        "\r",
        "100%|\u2588\u2588\u2588\u2588\u2588\u2588\u2588\u2588\u2588\u2588| 11612/11612 [00:00<00:00, 213213.05it/s]"
       ]
      },
      {
       "output_type": "stream",
       "stream": "stderr",
       "text": [
        "\n"
       ]
      }
     ],
     "prompt_number": 21
    },
    {
     "cell_type": "raw",
     "metadata": {},
     "source": [
      "fo"
     ]
    },
    {
     "cell_type": "raw",
     "metadata": {},
     "source": []
    },
    {
     "cell_type": "code",
     "collapsed": false,
     "input": [
      "#boneLocator.FindCell?"
     ],
     "language": "python",
     "metadata": {},
     "outputs": [],
     "prompt_number": 22
    },
    {
     "cell_type": "code",
     "collapsed": false,
     "input": [
      "tetrahedron[a]"
     ],
     "language": "python",
     "metadata": {},
     "outputs": [
      {
       "metadata": {},
       "output_type": "pyout",
       "prompt_number": 23,
       "text": [
        "array([997977, 993880, 997931, 961084])"
       ]
      }
     ],
     "prompt_number": 23
    },
    {
     "cell_type": "code",
     "collapsed": false,
     "input": [],
     "language": "python",
     "metadata": {},
     "outputs": [],
     "prompt_number": 23
    },
    {
     "cell_type": "code",
     "collapsed": false,
     "input": [
      "np.array([2,5,7])[[0,2]]"
     ],
     "language": "python",
     "metadata": {},
     "outputs": [
      {
       "metadata": {},
       "output_type": "pyout",
       "prompt_number": 24,
       "text": [
        "array([2, 7])"
       ]
      }
     ],
     "prompt_number": 24
    },
    {
     "cell_type": "code",
     "collapsed": false,
     "input": [
      "scalar_3d = numpy_to_vtk(interpolation, deep=True, array_type=vtk.VTK_FLOAT)\n",
      "scalar_3d.SetName('V_3D')\n",
      "output.GetPointData().AddArray(scalar_3d)"
     ],
     "language": "python",
     "metadata": {},
     "outputs": [
      {
       "metadata": {},
       "output_type": "pyout",
       "prompt_number": 25,
       "text": [
        "1"
       ]
      }
     ],
     "prompt_number": 25
    },
    {
     "cell_type": "code",
     "collapsed": false,
     "input": [
      "difference_3d_2d = numpy_to_vtk(interpolation_, deep=True, array_type=vtk.VTK_FLOAT)\n",
      "difference_3d_2d.SetName('V_difference_3D_2D')\n",
      "output.GetPointData().AddArray(difference_3d_2d)"
     ],
     "language": "python",
     "metadata": {},
     "outputs": [
      {
       "metadata": {},
       "output_type": "pyout",
       "prompt_number": 26,
       "text": [
        "2"
       ]
      }
     ],
     "prompt_number": 26
    },
    {
     "cell_type": "code",
     "collapsed": false,
     "input": [],
     "language": "python",
     "metadata": {},
     "outputs": [],
     "prompt_number": 26
    },
    {
     "cell_type": "code",
     "collapsed": false,
     "input": [
      "writer2 = vtk.vtkXMLUnstructuredGridWriter() # vtu\n",
      "\n",
      "writer2.SetFileName(FILE_RESULT_DIFFERCE)\n",
      "writer2.SetInputData(output)\n",
      "writer2.Write()"
     ],
     "language": "python",
     "metadata": {},
     "outputs": [
      {
       "metadata": {},
       "output_type": "pyout",
       "prompt_number": 27,
       "text": [
        "1"
       ]
      }
     ],
     "prompt_number": 27
    },
    {
     "cell_type": "code",
     "collapsed": false,
     "input": [
      "for l in tqdm(xrange(1, min(len(VTU_FILES_2D), len(VTU_FILES_3D)))):\n",
      "    #\u0447\u0442\u0435\u043d\u0438\u0435 2d \u0441\u0435\u0442\u043a\u0438\n",
      "    reader = vtk.vtkXMLUnstructuredGridReader()\n",
      "    reader.SetFileName(os.path.join(WAY_2D,'heart_{ind}.vtu'.format(ind = l)))\n",
      "    reader.Update()\n",
      "    output = reader.GetOutput()    \n",
      "    scalars = vtk_to_numpy(output.GetPointData().GetArray('V'))\n",
      "    output.SetPoints(vtkpoints)\n",
      "    \n",
      "    #\u0447\u0442\u0435\u043d\u0438\u0435 3d \u0441\u0435\u0442\u043a\u0438\n",
      "    assert(os.path.exists(os.path.join(WAY_3D,'torso_{ind}.vtu'.format(ind = l))))\n",
      "    reader3 = vtk.vtkXMLUnstructuredGridReader()\n",
      "    reader3.SetFileName(os.path.join(WAY_3D,'torso_{ind}.vtu'.format(ind = l)))\n",
      "    reader3.Update()\n",
      "    output3 = reader3.GetOutput()\n",
      "    data = vtk_to_numpy(output3.GetCells().GetData())\n",
      "    scalars3 = vtk_to_numpy(output3.GetPointData().GetArray('V'))\n",
      "    \n",
      "    interpolation = np.zeros(len(scalars))#3D\n",
      "    for i in xrange(len(scalars)):\n",
      "        pcoords = np.zeros(3)\n",
      "        weights  = np.zeros(4)\n",
      "        a = boneLocator.FindCell(result[i], 0.00001, cell, pcoords, weights)\n",
      "        points_scalars = scalars3[tetrahedron[a]]\n",
      "        interpolation[i] = np.dot(weights, points_scalars)\n",
      "    interpolation_ = np.zeros_like(interpolation)\n",
      "    \n",
      "    for i in xrange(len(interpolation_)):\n",
      "        interpolation_[i] = interpolation[i] - scalars[i]\n",
      "        \n",
      "    scalar_3d = numpy_to_vtk(interpolation, deep=True, array_type=vtk.VTK_FLOAT)\n",
      "    scalar_3d.SetName('V_3D')\n",
      "    output.GetPointData().AddArray(scalar_3d)\n",
      "    \n",
      "    difference_3d_2d = numpy_to_vtk(interpolation_, deep=True, array_type=vtk.VTK_FLOAT)\n",
      "    difference_3d_2d.SetName('V_difference_3D_2D')\n",
      "    output.GetPointData().AddArray(difference_3d_2d)\n",
      "    \n",
      "    writer2 = vtk.vtkXMLUnstructuredGridWriter() # vtu\n",
      "    writer2.SetFileName(os.path.join(FOLDER_DIFFERENCE_RESULT, FILE_RESULT_DIFFERCE.format(ind = l)))\n",
      "    writer2.SetInputData(output)\n",
      "    writer2.Write()"
     ],
     "language": "python",
     "metadata": {},
     "outputs": [
      {
       "output_type": "stream",
       "stream": "stderr",
       "text": [
        "\r",
        "  0%|          | 0/285 [00:00<?, ?it/s]"
       ]
      },
      {
       "output_type": "stream",
       "stream": "stderr",
       "text": [
        "\r",
        "  0%|          | 1/285 [00:12<58:55, 12.45s/it]"
       ]
      },
      {
       "output_type": "stream",
       "stream": "stderr",
       "text": [
        "\r",
        "  1%|          | 2/285 [00:25<59:01, 12.51s/it]"
       ]
      },
      {
       "output_type": "stream",
       "stream": "stderr",
       "text": [
        "\r",
        "  1%|          | 3/285 [00:44<1:08:28, 14.57s/it]"
       ]
      },
      {
       "output_type": "stream",
       "stream": "stderr",
       "text": [
        "\r",
        "  1%|\u258f         | 4/285 [01:02<1:13:14, 15.64s/it]"
       ]
      },
      {
       "output_type": "stream",
       "stream": "stderr",
       "text": [
        "\r",
        "  2%|\u258f         | 5/285 [01:18<1:12:59, 15.64s/it]"
       ]
      },
      {
       "output_type": "stream",
       "stream": "stderr",
       "text": [
        "\r",
        "  2%|\u258f         | 6/285 [01:32<1:11:05, 15.29s/it]"
       ]
      },
      {
       "output_type": "stream",
       "stream": "stderr",
       "text": [
        "\r",
        "  2%|\u258f         | 7/285 [01:52<1:17:34, 16.74s/it]"
       ]
      },
      {
       "output_type": "stream",
       "stream": "stderr",
       "text": [
        "\r",
        "  3%|\u258e         | 8/285 [01:59<1:03:56, 13.85s/it]"
       ]
      },
      {
       "output_type": "stream",
       "stream": "stderr",
       "text": [
        "\r",
        "  3%|\u258e         | 9/285 [02:06<54:05, 11.76s/it]  "
       ]
      },
      {
       "output_type": "stream",
       "stream": "stderr",
       "text": [
        "\r",
        "  4%|\u258e         | 10/285 [02:14<47:55, 10.46s/it]"
       ]
      },
      {
       "output_type": "stream",
       "stream": "stderr",
       "text": [
        "\r",
        "  4%|\u258d         | 11/285 [02:21<43:19,  9.49s/it]"
       ]
      },
      {
       "output_type": "stream",
       "stream": "stderr",
       "text": [
        "\r",
        "  4%|\u258d         | 12/285 [02:29<40:41,  8.94s/it]"
       ]
      },
      {
       "output_type": "stream",
       "stream": "stderr",
       "text": [
        "\r",
        "  5%|\u258d         | 13/285 [02:36<39:01,  8.61s/it]"
       ]
      },
      {
       "output_type": "stream",
       "stream": "stderr",
       "text": [
        "\r",
        "  5%|\u258d         | 14/285 [02:46<39:50,  8.82s/it]"
       ]
      },
      {
       "output_type": "stream",
       "stream": "stderr",
       "text": [
        "\r",
        "  5%|\u258c         | 15/285 [02:53<37:28,  8.33s/it]"
       ]
      },
      {
       "output_type": "stream",
       "stream": "stderr",
       "text": [
        "\r",
        "  6%|\u258c         | 16/285 [03:00<36:12,  8.07s/it]"
       ]
      },
      {
       "output_type": "stream",
       "stream": "stderr",
       "text": [
        "\r",
        "  6%|\u258c         | 17/285 [03:08<35:47,  8.01s/it]"
       ]
      },
      {
       "output_type": "stream",
       "stream": "stderr",
       "text": [
        "\r",
        "  6%|\u258b         | 18/285 [03:16<34:51,  7.83s/it]"
       ]
      },
      {
       "output_type": "stream",
       "stream": "stderr",
       "text": [
        "\r",
        "  7%|\u258b         | 19/285 [03:29<42:04,  9.49s/it]"
       ]
      },
      {
       "output_type": "stream",
       "stream": "stderr",
       "text": [
        "\r",
        "  7%|\u258b         | 20/285 [03:41<45:25, 10.28s/it]"
       ]
      },
      {
       "output_type": "stream",
       "stream": "stderr",
       "text": [
        "\r",
        "  7%|\u258b         | 21/285 [03:48<41:00,  9.32s/it]"
       ]
      },
      {
       "output_type": "stream",
       "stream": "stderr",
       "text": [
        "\r",
        "  8%|\u258a         | 22/285 [03:56<38:16,  8.73s/it]"
       ]
      },
      {
       "output_type": "stream",
       "stream": "stderr",
       "text": [
        "\r",
        "  8%|\u258a         | 23/285 [04:03<36:03,  8.26s/it]"
       ]
      },
      {
       "output_type": "stream",
       "stream": "stderr",
       "text": [
        "\r",
        "  8%|\u258a         | 24/285 [04:10<34:12,  7.86s/it]"
       ]
      },
      {
       "output_type": "stream",
       "stream": "stderr",
       "text": [
        "\r",
        "  9%|\u2589         | 25/285 [04:17<32:58,  7.61s/it]"
       ]
      },
      {
       "output_type": "stream",
       "stream": "stderr",
       "text": [
        "\r",
        "  9%|\u2589         | 26/285 [04:24<32:11,  7.46s/it]"
       ]
      },
      {
       "output_type": "stream",
       "stream": "stderr",
       "text": [
        "\r",
        "  9%|\u2589         | 27/285 [04:31<31:51,  7.41s/it]"
       ]
      },
      {
       "output_type": "stream",
       "stream": "stderr",
       "text": [
        "\r",
        " 10%|\u2589         | 28/285 [04:38<31:12,  7.29s/it]"
       ]
      },
      {
       "output_type": "stream",
       "stream": "stderr",
       "text": [
        "\r",
        " 10%|\u2588         | 29/285 [04:47<32:36,  7.64s/it]"
       ]
      },
      {
       "output_type": "stream",
       "stream": "stderr",
       "text": [
        "\r",
        " 11%|\u2588         | 30/285 [04:54<31:43,  7.47s/it]"
       ]
      },
      {
       "output_type": "stream",
       "stream": "stderr",
       "text": [
        "\r",
        " 11%|\u2588         | 31/285 [05:01<30:47,  7.27s/it]"
       ]
      },
      {
       "output_type": "stream",
       "stream": "stderr",
       "text": [
        "\r",
        " 11%|\u2588         | 32/285 [05:07<30:16,  7.18s/it]"
       ]
      },
      {
       "output_type": "stream",
       "stream": "stderr",
       "text": [
        "\r",
        " 12%|\u2588\u258f        | 33/285 [05:14<29:49,  7.10s/it]"
       ]
      },
      {
       "output_type": "stream",
       "stream": "stderr",
       "text": [
        "\r",
        " 12%|\u2588\u258f        | 34/285 [05:22<29:46,  7.12s/it]"
       ]
      },
      {
       "output_type": "stream",
       "stream": "stderr",
       "text": [
        "\r",
        " 12%|\u2588\u258f        | 35/285 [05:29<29:59,  7.20s/it]"
       ]
      },
      {
       "output_type": "stream",
       "stream": "stderr",
       "text": [
        "\r",
        " 13%|\u2588\u258e        | 36/285 [05:36<29:53,  7.20s/it]"
       ]
      },
      {
       "output_type": "stream",
       "stream": "stderr",
       "text": [
        "\r",
        " 13%|\u2588\u258e        | 37/285 [05:43<29:23,  7.11s/it]"
       ]
      },
      {
       "output_type": "stream",
       "stream": "stderr",
       "text": [
        "\r",
        " 13%|\u2588\u258e        | 38/285 [05:52<31:31,  7.66s/it]"
       ]
      },
      {
       "output_type": "stream",
       "stream": "stderr",
       "text": [
        "\r",
        " 14%|\u2588\u258e        | 39/285 [05:59<30:26,  7.43s/it]"
       ]
      },
      {
       "output_type": "stream",
       "stream": "stderr",
       "text": [
        "\r",
        " 14%|\u2588\u258d        | 40/285 [06:06<29:58,  7.34s/it]"
       ]
      },
      {
       "output_type": "stream",
       "stream": "stderr",
       "text": [
        "\r",
        " 14%|\u2588\u258d        | 41/285 [06:13<29:06,  7.16s/it]"
       ]
      },
      {
       "output_type": "stream",
       "stream": "stderr",
       "text": [
        "\r",
        " 15%|\u2588\u258d        | 42/285 [06:20<29:27,  7.28s/it]"
       ]
      },
      {
       "output_type": "stream",
       "stream": "stderr",
       "text": [
        "\r",
        " 15%|\u2588\u258c        | 43/285 [06:28<29:55,  7.42s/it]"
       ]
      },
      {
       "output_type": "stream",
       "stream": "stderr",
       "text": [
        "\r",
        " 15%|\u2588\u258c        | 44/285 [06:36<30:17,  7.54s/it]"
       ]
      },
      {
       "output_type": "stream",
       "stream": "stderr",
       "text": [
        "\r",
        " 16%|\u2588\u258c        | 45/285 [06:44<30:16,  7.57s/it]"
       ]
      },
      {
       "output_type": "stream",
       "stream": "stderr",
       "text": [
        "\r",
        " 16%|\u2588\u258c        | 46/285 [07:01<41:51, 10.51s/it]"
       ]
      },
      {
       "output_type": "stream",
       "stream": "stderr",
       "text": [
        "\r",
        " 16%|\u2588\u258b        | 47/285 [07:09<38:20,  9.67s/it]"
       ]
      },
      {
       "output_type": "stream",
       "stream": "stderr",
       "text": [
        "\r",
        " 17%|\u2588\u258b        | 48/285 [07:16<35:14,  8.92s/it]"
       ]
      },
      {
       "output_type": "stream",
       "stream": "stderr",
       "text": [
        "\r",
        " 17%|\u2588\u258b        | 49/285 [07:23<32:30,  8.27s/it]"
       ]
      },
      {
       "output_type": "stream",
       "stream": "stderr",
       "text": [
        "\r",
        " 18%|\u2588\u258a        | 50/285 [07:29<30:51,  7.88s/it]"
       ]
      },
      {
       "output_type": "stream",
       "stream": "stderr",
       "text": [
        "\r",
        " 18%|\u2588\u258a        | 51/285 [07:36<29:29,  7.56s/it]"
       ]
      },
      {
       "output_type": "stream",
       "stream": "stderr",
       "text": [
        "\r",
        " 18%|\u2588\u258a        | 52/285 [07:43<28:38,  7.38s/it]"
       ]
      },
      {
       "output_type": "stream",
       "stream": "stderr",
       "text": [
        "\r",
        " 19%|\u2588\u258a        | 53/285 [07:50<27:55,  7.22s/it]"
       ]
      },
      {
       "output_type": "stream",
       "stream": "stderr",
       "text": [
        "\r",
        " 19%|\u2588\u2589        | 54/285 [07:57<27:29,  7.14s/it]"
       ]
      },
      {
       "output_type": "stream",
       "stream": "stderr",
       "text": [
        "\r",
        " 19%|\u2588\u2589        | 55/285 [08:04<27:04,  7.06s/it]"
       ]
      },
      {
       "output_type": "stream",
       "stream": "stderr",
       "text": [
        "\r",
        " 20%|\u2588\u2589        | 56/285 [08:11<26:40,  6.99s/it]"
       ]
      },
      {
       "output_type": "stream",
       "stream": "stderr",
       "text": [
        "\r",
        " 20%|\u2588\u2588        | 57/285 [08:18<26:23,  6.95s/it]"
       ]
      },
      {
       "output_type": "stream",
       "stream": "stderr",
       "text": [
        "\r",
        " 20%|\u2588\u2588        | 58/285 [08:26<27:44,  7.33s/it]"
       ]
      },
      {
       "output_type": "stream",
       "stream": "stderr",
       "text": [
        "\r",
        " 21%|\u2588\u2588        | 59/285 [08:33<27:04,  7.19s/it]"
       ]
      },
      {
       "output_type": "stream",
       "stream": "stderr",
       "text": [
        "\r",
        " 21%|\u2588\u2588        | 60/285 [08:39<26:29,  7.07s/it]"
       ]
      },
      {
       "output_type": "stream",
       "stream": "stderr",
       "text": [
        "\r",
        " 21%|\u2588\u2588\u258f       | 61/285 [08:48<27:56,  7.48s/it]"
       ]
      },
      {
       "output_type": "stream",
       "stream": "stderr",
       "text": [
        "\r",
        " 22%|\u2588\u2588\u258f       | 62/285 [08:55<27:05,  7.29s/it]"
       ]
      },
      {
       "output_type": "stream",
       "stream": "stderr",
       "text": [
        "\r",
        " 22%|\u2588\u2588\u258f       | 63/285 [09:01<26:20,  7.12s/it]"
       ]
      },
      {
       "output_type": "stream",
       "stream": "stderr",
       "text": [
        "\r",
        " 22%|\u2588\u2588\u258f       | 64/285 [09:08<25:54,  7.04s/it]"
       ]
      },
      {
       "output_type": "stream",
       "stream": "stderr",
       "text": [
        "\r",
        " 23%|\u2588\u2588\u258e       | 65/285 [09:15<25:42,  7.01s/it]"
       ]
      },
      {
       "output_type": "stream",
       "stream": "stderr",
       "text": [
        "\r",
        " 23%|\u2588\u2588\u258e       | 66/285 [09:22<25:34,  7.01s/it]"
       ]
      },
      {
       "output_type": "stream",
       "stream": "stderr",
       "text": [
        "\r",
        " 24%|\u2588\u2588\u258e       | 67/285 [09:29<25:16,  6.96s/it]"
       ]
      },
      {
       "output_type": "stream",
       "stream": "stderr",
       "text": [
        "\r",
        " 24%|\u2588\u2588\u258d       | 68/285 [09:36<25:12,  6.97s/it]"
       ]
      },
      {
       "output_type": "stream",
       "stream": "stderr",
       "text": [
        "\r",
        " 24%|\u2588\u2588\u258d       | 69/285 [09:43<24:58,  6.94s/it]"
       ]
      },
      {
       "output_type": "stream",
       "stream": "stderr",
       "text": [
        "\r",
        " 25%|\u2588\u2588\u258d       | 70/285 [09:50<24:52,  6.94s/it]"
       ]
      },
      {
       "output_type": "stream",
       "stream": "stderr",
       "text": [
        "\r",
        " 25%|\u2588\u2588\u258d       | 71/285 [09:57<24:40,  6.92s/it]"
       ]
      },
      {
       "output_type": "stream",
       "stream": "stderr",
       "text": [
        "\r",
        " 25%|\u2588\u2588\u258c       | 72/285 [10:04<24:31,  6.91s/it]"
       ]
      },
      {
       "output_type": "stream",
       "stream": "stderr",
       "text": [
        "\r",
        " 26%|\u2588\u2588\u258c       | 73/285 [10:11<24:25,  6.91s/it]"
       ]
      },
      {
       "output_type": "stream",
       "stream": "stderr",
       "text": [
        "\r",
        " 26%|\u2588\u2588\u258c       | 74/285 [10:18<24:21,  6.93s/it]"
       ]
      },
      {
       "output_type": "stream",
       "stream": "stderr",
       "text": [
        "\r",
        " 26%|\u2588\u2588\u258b       | 75/285 [10:24<24:11,  6.91s/it]"
       ]
      },
      {
       "output_type": "stream",
       "stream": "stderr",
       "text": [
        "\r",
        " 27%|\u2588\u2588\u258b       | 76/285 [10:31<24:03,  6.90s/it]"
       ]
      },
      {
       "output_type": "stream",
       "stream": "stderr",
       "text": [
        "\r",
        " 27%|\u2588\u2588\u258b       | 77/285 [10:38<23:55,  6.90s/it]"
       ]
      },
      {
       "output_type": "stream",
       "stream": "stderr",
       "text": [
        "\r",
        " 27%|\u2588\u2588\u258b       | 78/285 [10:46<24:52,  7.21s/it]"
       ]
      },
      {
       "output_type": "stream",
       "stream": "stderr",
       "text": [
        "\r",
        " 28%|\u2588\u2588\u258a       | 79/285 [10:54<25:00,  7.28s/it]"
       ]
      },
      {
       "output_type": "stream",
       "stream": "stderr",
       "text": [
        "\r",
        " 28%|\u2588\u2588\u258a       | 80/285 [11:01<24:40,  7.22s/it]"
       ]
      },
      {
       "output_type": "stream",
       "stream": "stderr",
       "text": [
        "\r",
        " 28%|\u2588\u2588\u258a       | 81/285 [11:08<24:13,  7.12s/it]"
       ]
      },
      {
       "output_type": "stream",
       "stream": "stderr",
       "text": [
        "\r",
        " 29%|\u2588\u2588\u2589       | 82/285 [11:18<27:09,  8.03s/it]"
       ]
      },
      {
       "output_type": "stream",
       "stream": "stderr",
       "text": [
        "\r",
        " 29%|\u2588\u2588\u2589       | 83/285 [11:30<31:16,  9.29s/it]"
       ]
      },
      {
       "output_type": "stream",
       "stream": "stderr",
       "text": [
        "\r",
        " 29%|\u2588\u2588\u2589       | 84/285 [11:37<28:38,  8.55s/it]"
       ]
      },
      {
       "output_type": "stream",
       "stream": "stderr",
       "text": [
        "\r",
        " 30%|\u2588\u2588\u2589       | 85/285 [11:44<26:46,  8.03s/it]"
       ]
      },
      {
       "output_type": "stream",
       "stream": "stderr",
       "text": [
        "\r",
        " 30%|\u2588\u2588\u2588       | 86/285 [11:51<26:05,  7.87s/it]"
       ]
      },
      {
       "output_type": "stream",
       "stream": "stderr",
       "text": [
        "\r",
        " 31%|\u2588\u2588\u2588       | 87/285 [11:58<24:56,  7.56s/it]"
       ]
      },
      {
       "output_type": "stream",
       "stream": "stderr",
       "text": [
        "\r",
        " 31%|\u2588\u2588\u2588       | 88/285 [12:05<24:14,  7.38s/it]"
       ]
      },
      {
       "output_type": "stream",
       "stream": "stderr",
       "text": [
        "\r",
        " 31%|\u2588\u2588\u2588       | 89/285 [12:12<23:38,  7.24s/it]"
       ]
      },
      {
       "output_type": "stream",
       "stream": "stderr",
       "text": [
        "\r",
        " 32%|\u2588\u2588\u2588\u258f      | 90/285 [12:19<23:12,  7.14s/it]"
       ]
      },
      {
       "output_type": "stream",
       "stream": "stderr",
       "text": [
        "\r",
        " 32%|\u2588\u2588\u2588\u258f      | 91/285 [12:25<22:43,  7.03s/it]"
       ]
      },
      {
       "output_type": "stream",
       "stream": "stderr",
       "text": [
        "\r",
        " 32%|\u2588\u2588\u2588\u258f      | 92/285 [12:32<22:26,  6.98s/it]"
       ]
      },
      {
       "output_type": "stream",
       "stream": "stderr",
       "text": [
        "\r",
        " 33%|\u2588\u2588\u2588\u258e      | 93/285 [12:39<22:21,  6.99s/it]"
       ]
      },
      {
       "output_type": "stream",
       "stream": "stderr",
       "text": [
        "\r",
        " 33%|\u2588\u2588\u2588\u258e      | 94/285 [12:46<22:08,  6.96s/it]"
       ]
      },
      {
       "output_type": "stream",
       "stream": "stderr",
       "text": [
        "\r",
        " 33%|\u2588\u2588\u2588\u258e      | 95/285 [12:53<21:59,  6.94s/it]"
       ]
      },
      {
       "output_type": "stream",
       "stream": "stderr",
       "text": [
        "\r",
        " 34%|\u2588\u2588\u2588\u258e      | 96/285 [13:00<21:54,  6.96s/it]"
       ]
      },
      {
       "output_type": "stream",
       "stream": "stderr",
       "text": [
        "\r",
        " 34%|\u2588\u2588\u2588\u258d      | 97/285 [13:07<21:44,  6.94s/it]"
       ]
      },
      {
       "output_type": "stream",
       "stream": "stderr",
       "text": [
        "\r",
        " 34%|\u2588\u2588\u2588\u258d      | 98/285 [13:14<21:33,  6.92s/it]"
       ]
      },
      {
       "output_type": "stream",
       "stream": "stderr",
       "text": [
        "\r",
        " 35%|\u2588\u2588\u2588\u258d      | 99/285 [13:21<21:26,  6.92s/it]"
       ]
      },
      {
       "output_type": "stream",
       "stream": "stderr",
       "text": [
        "\r",
        " 35%|\u2588\u2588\u2588\u258c      | 100/285 [13:29<22:13,  7.21s/it]"
       ]
      },
      {
       "output_type": "stream",
       "stream": "stderr",
       "text": [
        "\r",
        " 35%|\u2588\u2588\u2588\u258c      | 101/285 [13:36<21:51,  7.13s/it]"
       ]
      },
      {
       "output_type": "stream",
       "stream": "stderr",
       "text": [
        "\r",
        " 36%|\u2588\u2588\u2588\u258c      | 102/285 [13:43<21:32,  7.06s/it]"
       ]
      },
      {
       "output_type": "stream",
       "stream": "stderr",
       "text": [
        "\r",
        " 36%|\u2588\u2588\u2588\u258c      | 103/285 [13:50<21:20,  7.04s/it]"
       ]
      },
      {
       "output_type": "stream",
       "stream": "stderr",
       "text": [
        "\r",
        " 36%|\u2588\u2588\u2588\u258b      | 104/285 [13:56<21:08,  7.01s/it]"
       ]
      },
      {
       "output_type": "stream",
       "stream": "stderr",
       "text": [
        "\r",
        " 37%|\u2588\u2588\u2588\u258b      | 105/285 [14:03<20:56,  6.98s/it]"
       ]
      },
      {
       "output_type": "stream",
       "stream": "stderr",
       "text": [
        "\r",
        " 37%|\u2588\u2588\u2588\u258b      | 106/285 [14:10<20:46,  6.97s/it]"
       ]
      },
      {
       "output_type": "stream",
       "stream": "stderr",
       "text": [
        "\r",
        " 38%|\u2588\u2588\u2588\u258a      | 107/285 [14:17<20:38,  6.96s/it]"
       ]
      },
      {
       "output_type": "stream",
       "stream": "stderr",
       "text": [
        "\r",
        " 38%|\u2588\u2588\u2588\u258a      | 108/285 [14:24<20:27,  6.93s/it]"
       ]
      },
      {
       "output_type": "stream",
       "stream": "stderr",
       "text": [
        "\r",
        " 38%|\u2588\u2588\u2588\u258a      | 109/285 [14:31<20:16,  6.91s/it]"
       ]
      },
      {
       "output_type": "stream",
       "stream": "stderr",
       "text": [
        "\r",
        " 39%|\u2588\u2588\u2588\u258a      | 110/285 [14:38<20:08,  6.90s/it]"
       ]
      },
      {
       "output_type": "stream",
       "stream": "stderr",
       "text": [
        "\r",
        " 39%|\u2588\u2588\u2588\u2589      | 111/285 [14:46<21:23,  7.38s/it]"
       ]
      },
      {
       "output_type": "stream",
       "stream": "stderr",
       "text": [
        "\r",
        " 39%|\u2588\u2588\u2588\u2589      | 112/285 [14:53<21:00,  7.29s/it]"
       ]
      },
      {
       "output_type": "stream",
       "stream": "stderr",
       "text": [
        "\r",
        " 40%|\u2588\u2588\u2588\u2589      | 113/285 [15:01<20:42,  7.22s/it]"
       ]
      },
      {
       "output_type": "stream",
       "stream": "stderr",
       "text": [
        "\r",
        " 40%|\u2588\u2588\u2588\u2588      | 114/285 [15:07<20:18,  7.13s/it]"
       ]
      },
      {
       "output_type": "stream",
       "stream": "stderr",
       "text": [
        "\r",
        " 40%|\u2588\u2588\u2588\u2588      | 115/285 [15:14<20:05,  7.09s/it]"
       ]
      },
      {
       "output_type": "stream",
       "stream": "stderr",
       "text": [
        "\r",
        " 41%|\u2588\u2588\u2588\u2588      | 116/285 [15:22<19:59,  7.09s/it]"
       ]
      },
      {
       "output_type": "stream",
       "stream": "stderr",
       "text": [
        "\r",
        " 41%|\u2588\u2588\u2588\u2588      | 117/285 [15:30<20:47,  7.42s/it]"
       ]
      },
      {
       "output_type": "stream",
       "stream": "stderr",
       "text": [
        "\r",
        " 41%|\u2588\u2588\u2588\u2588\u258f     | 118/285 [15:37<20:16,  7.28s/it]"
       ]
      },
      {
       "output_type": "stream",
       "stream": "stderr",
       "text": [
        "\r",
        " 42%|\u2588\u2588\u2588\u2588\u258f     | 119/285 [15:44<19:59,  7.23s/it]"
       ]
      },
      {
       "output_type": "stream",
       "stream": "stderr",
       "text": [
        "\r",
        " 42%|\u2588\u2588\u2588\u2588\u258f     | 120/285 [15:51<20:09,  7.33s/it]"
       ]
      },
      {
       "output_type": "stream",
       "stream": "stderr",
       "text": [
        "\r",
        " 42%|\u2588\u2588\u2588\u2588\u258f     | 121/285 [15:58<19:41,  7.20s/it]"
       ]
      },
      {
       "output_type": "stream",
       "stream": "stderr",
       "text": [
        "\r",
        " 43%|\u2588\u2588\u2588\u2588\u258e     | 122/285 [16:05<19:20,  7.12s/it]"
       ]
      },
      {
       "output_type": "stream",
       "stream": "stderr",
       "text": [
        "\r",
        " 43%|\u2588\u2588\u2588\u2588\u258e     | 123/285 [16:12<19:11,  7.11s/it]"
       ]
      },
      {
       "output_type": "stream",
       "stream": "stderr",
       "text": [
        "\r",
        " 44%|\u2588\u2588\u2588\u2588\u258e     | 124/285 [16:21<20:26,  7.62s/it]"
       ]
      },
      {
       "output_type": "stream",
       "stream": "stderr",
       "text": [
        "\r",
        " 44%|\u2588\u2588\u2588\u2588\u258d     | 125/285 [16:29<20:35,  7.72s/it]"
       ]
      },
      {
       "output_type": "stream",
       "stream": "stderr",
       "text": [
        "\r",
        " 44%|\u2588\u2588\u2588\u2588\u258d     | 126/285 [16:36<19:53,  7.50s/it]"
       ]
      },
      {
       "output_type": "stream",
       "stream": "stderr",
       "text": [
        "\r",
        " 45%|\u2588\u2588\u2588\u2588\u258d     | 127/285 [16:43<19:40,  7.47s/it]"
       ]
      },
      {
       "output_type": "stream",
       "stream": "stderr",
       "text": [
        "\r",
        " 45%|\u2588\u2588\u2588\u2588\u258d     | 128/285 [16:51<19:18,  7.38s/it]"
       ]
      },
      {
       "output_type": "stream",
       "stream": "stderr",
       "text": [
        "\r",
        " 45%|\u2588\u2588\u2588\u2588\u258c     | 129/285 [16:58<19:16,  7.41s/it]"
       ]
      },
      {
       "output_type": "stream",
       "stream": "stderr",
       "text": [
        "\r",
        " 46%|\u2588\u2588\u2588\u2588\u258c     | 130/285 [17:05<18:31,  7.17s/it]"
       ]
      },
      {
       "output_type": "stream",
       "stream": "stderr",
       "text": [
        "\r",
        " 46%|\u2588\u2588\u2588\u2588\u258c     | 131/285 [17:11<18:05,  7.05s/it]"
       ]
      },
      {
       "output_type": "stream",
       "stream": "stderr",
       "text": [
        "\r",
        " 46%|\u2588\u2588\u2588\u2588\u258b     | 132/285 [17:18<17:58,  7.05s/it]"
       ]
      },
      {
       "output_type": "stream",
       "stream": "stderr",
       "text": [
        "\r",
        " 47%|\u2588\u2588\u2588\u2588\u258b     | 133/285 [17:28<19:37,  7.75s/it]"
       ]
      },
      {
       "output_type": "stream",
       "stream": "stderr",
       "text": [
        "\r",
        " 47%|\u2588\u2588\u2588\u2588\u258b     | 134/285 [17:35<19:07,  7.60s/it]"
       ]
      },
      {
       "output_type": "stream",
       "stream": "stderr",
       "text": [
        "\r",
        " 47%|\u2588\u2588\u2588\u2588\u258b     | 135/285 [17:42<18:16,  7.31s/it]"
       ]
      },
      {
       "output_type": "stream",
       "stream": "stderr",
       "text": [
        "\r",
        " 48%|\u2588\u2588\u2588\u2588\u258a     | 136/285 [17:48<17:42,  7.13s/it]"
       ]
      },
      {
       "output_type": "stream",
       "stream": "stderr",
       "text": [
        "\r",
        " 48%|\u2588\u2588\u2588\u2588\u258a     | 137/285 [17:55<17:22,  7.05s/it]"
       ]
      },
      {
       "output_type": "stream",
       "stream": "stderr",
       "text": [
        "\r",
        " 48%|\u2588\u2588\u2588\u2588\u258a     | 138/285 [18:02<17:21,  7.08s/it]"
       ]
      },
      {
       "output_type": "stream",
       "stream": "stderr",
       "text": [
        "\r",
        " 49%|\u2588\u2588\u2588\u2588\u2589     | 139/285 [18:09<17:04,  7.02s/it]"
       ]
      },
      {
       "output_type": "stream",
       "stream": "stderr",
       "text": [
        "\r",
        " 49%|\u2588\u2588\u2588\u2588\u2589     | 140/285 [18:16<16:44,  6.93s/it]"
       ]
      },
      {
       "output_type": "stream",
       "stream": "stderr",
       "text": [
        "\r",
        " 49%|\u2588\u2588\u2588\u2588\u2589     | 141/285 [18:23<16:32,  6.89s/it]"
       ]
      },
      {
       "output_type": "stream",
       "stream": "stderr",
       "text": [
        "\r",
        " 50%|\u2588\u2588\u2588\u2588\u2589     | 142/285 [18:31<17:35,  7.38s/it]"
       ]
      },
      {
       "output_type": "stream",
       "stream": "stderr",
       "text": [
        "\r",
        " 50%|\u2588\u2588\u2588\u2588\u2588     | 143/285 [18:38<17:00,  7.19s/it]"
       ]
      },
      {
       "output_type": "stream",
       "stream": "stderr",
       "text": [
        "\r",
        " 51%|\u2588\u2588\u2588\u2588\u2588     | 144/285 [18:46<17:05,  7.27s/it]"
       ]
      },
      {
       "output_type": "stream",
       "stream": "stderr",
       "text": [
        "\r",
        " 51%|\u2588\u2588\u2588\u2588\u2588     | 145/285 [18:52<16:41,  7.15s/it]"
       ]
      },
      {
       "output_type": "stream",
       "stream": "stderr",
       "text": [
        "\r",
        " 51%|\u2588\u2588\u2588\u2588\u2588     | 146/285 [18:59<16:23,  7.07s/it]"
       ]
      },
      {
       "output_type": "stream",
       "stream": "stderr",
       "text": [
        "\r",
        " 52%|\u2588\u2588\u2588\u2588\u2588\u258f    | 147/285 [19:06<16:06,  7.00s/it]"
       ]
      },
      {
       "output_type": "stream",
       "stream": "stderr",
       "text": [
        "\r",
        " 52%|\u2588\u2588\u2588\u2588\u2588\u258f    | 148/285 [19:13<15:58,  7.00s/it]"
       ]
      },
      {
       "output_type": "stream",
       "stream": "stderr",
       "text": [
        "\r",
        " 52%|\u2588\u2588\u2588\u2588\u2588\u258f    | 149/285 [19:20<15:47,  6.97s/it]"
       ]
      },
      {
       "output_type": "stream",
       "stream": "stderr",
       "text": [
        "\r",
        " 53%|\u2588\u2588\u2588\u2588\u2588\u258e    | 150/285 [19:27<15:56,  7.08s/it]"
       ]
      },
      {
       "output_type": "stream",
       "stream": "stderr",
       "text": [
        "\r",
        " 53%|\u2588\u2588\u2588\u2588\u2588\u258e    | 151/285 [19:34<15:40,  7.02s/it]"
       ]
      },
      {
       "output_type": "stream",
       "stream": "stderr",
       "text": [
        "\r",
        " 53%|\u2588\u2588\u2588\u2588\u2588\u258e    | 152/285 [19:41<15:23,  6.95s/it]"
       ]
      },
      {
       "output_type": "stream",
       "stream": "stderr",
       "text": [
        "\r",
        " 54%|\u2588\u2588\u2588\u2588\u2588\u258e    | 153/285 [19:48<15:10,  6.90s/it]"
       ]
      },
      {
       "output_type": "stream",
       "stream": "stderr",
       "text": [
        "\r",
        " 54%|\u2588\u2588\u2588\u2588\u2588\u258d    | 154/285 [19:55<15:03,  6.90s/it]"
       ]
      },
      {
       "output_type": "stream",
       "stream": "stderr",
       "text": [
        "\r",
        " 54%|\u2588\u2588\u2588\u2588\u2588\u258d    | 155/285 [20:02<14:58,  6.91s/it]"
       ]
      },
      {
       "output_type": "stream",
       "stream": "stderr",
       "text": [
        "\r",
        " 55%|\u2588\u2588\u2588\u2588\u2588\u258d    | 156/285 [20:08<14:44,  6.86s/it]"
       ]
      },
      {
       "output_type": "stream",
       "stream": "stderr",
       "text": [
        "\r",
        " 55%|\u2588\u2588\u2588\u2588\u2588\u258c    | 157/285 [20:15<14:37,  6.85s/it]"
       ]
      },
      {
       "output_type": "stream",
       "stream": "stderr",
       "text": [
        "\r",
        " 55%|\u2588\u2588\u2588\u2588\u2588\u258c    | 158/285 [20:22<14:27,  6.83s/it]"
       ]
      },
      {
       "output_type": "stream",
       "stream": "stderr",
       "text": [
        "\r",
        " 56%|\u2588\u2588\u2588\u2588\u2588\u258c    | 159/285 [20:29<14:23,  6.85s/it]"
       ]
      },
      {
       "output_type": "stream",
       "stream": "stderr",
       "text": [
        "\r",
        " 56%|\u2588\u2588\u2588\u2588\u2588\u258c    | 160/285 [20:36<14:16,  6.85s/it]"
       ]
      },
      {
       "output_type": "stream",
       "stream": "stderr",
       "text": [
        "\r",
        " 56%|\u2588\u2588\u2588\u2588\u2588\u258b    | 161/285 [20:43<14:08,  6.84s/it]"
       ]
      },
      {
       "output_type": "stream",
       "stream": "stderr",
       "text": [
        "\r",
        " 57%|\u2588\u2588\u2588\u2588\u2588\u258b    | 162/285 [20:50<14:03,  6.86s/it]"
       ]
      },
      {
       "output_type": "stream",
       "stream": "stderr",
       "text": [
        "\r",
        " 57%|\u2588\u2588\u2588\u2588\u2588\u258b    | 163/285 [20:57<14:09,  6.96s/it]"
       ]
      },
      {
       "output_type": "stream",
       "stream": "stderr",
       "text": [
        "\r",
        " 58%|\u2588\u2588\u2588\u2588\u2588\u258a    | 164/285 [21:04<13:57,  6.92s/it]"
       ]
      },
      {
       "output_type": "stream",
       "stream": "stderr",
       "text": [
        "\r",
        " 58%|\u2588\u2588\u2588\u2588\u2588\u258a    | 165/285 [21:11<13:55,  6.96s/it]"
       ]
      },
      {
       "output_type": "stream",
       "stream": "stderr",
       "text": [
        "\r",
        " 58%|\u2588\u2588\u2588\u2588\u2588\u258a    | 166/285 [21:18<13:46,  6.95s/it]"
       ]
      },
      {
       "output_type": "stream",
       "stream": "stderr",
       "text": [
        "\r",
        " 59%|\u2588\u2588\u2588\u2588\u2588\u258a    | 167/285 [21:25<13:51,  7.05s/it]"
       ]
      },
      {
       "output_type": "stream",
       "stream": "stderr",
       "text": [
        "\r",
        " 59%|\u2588\u2588\u2588\u2588\u2588\u2589    | 168/285 [21:32<13:48,  7.08s/it]"
       ]
      },
      {
       "output_type": "stream",
       "stream": "stderr",
       "text": [
        "\r",
        " 59%|\u2588\u2588\u2588\u2588\u2588\u2589    | 169/285 [21:39<13:35,  7.03s/it]"
       ]
      },
      {
       "output_type": "stream",
       "stream": "stderr",
       "text": [
        "\r",
        " 60%|\u2588\u2588\u2588\u2588\u2588\u2589    | 170/285 [21:46<13:27,  7.03s/it]"
       ]
      },
      {
       "output_type": "stream",
       "stream": "stderr",
       "text": [
        "\r",
        " 60%|\u2588\u2588\u2588\u2588\u2588\u2588    | 171/285 [21:53<13:16,  6.99s/it]"
       ]
      },
      {
       "output_type": "stream",
       "stream": "stderr",
       "text": [
        "\r",
        " 60%|\u2588\u2588\u2588\u2588\u2588\u2588    | 172/285 [22:00<13:02,  6.93s/it]"
       ]
      },
      {
       "output_type": "stream",
       "stream": "stderr",
       "text": [
        "\r",
        " 61%|\u2588\u2588\u2588\u2588\u2588\u2588    | 173/285 [22:07<13:01,  6.98s/it]"
       ]
      },
      {
       "output_type": "stream",
       "stream": "stderr",
       "text": [
        "\r",
        " 61%|\u2588\u2588\u2588\u2588\u2588\u2588    | 174/285 [22:14<12:53,  6.97s/it]"
       ]
      },
      {
       "output_type": "stream",
       "stream": "stderr",
       "text": [
        "\r",
        " 61%|\u2588\u2588\u2588\u2588\u2588\u2588\u258f   | 175/285 [22:21<12:46,  6.97s/it]"
       ]
      },
      {
       "output_type": "stream",
       "stream": "stderr",
       "text": [
        "\r",
        " 62%|\u2588\u2588\u2588\u2588\u2588\u2588\u258f   | 176/285 [22:28<12:58,  7.15s/it]"
       ]
      },
      {
       "output_type": "stream",
       "stream": "stderr",
       "text": [
        "\r",
        " 62%|\u2588\u2588\u2588\u2588\u2588\u2588\u258f   | 177/285 [22:36<13:14,  7.36s/it]"
       ]
      },
      {
       "output_type": "stream",
       "stream": "stderr",
       "text": [
        "\r",
        " 62%|\u2588\u2588\u2588\u2588\u2588\u2588\u258f   | 178/285 [22:43<12:51,  7.21s/it]"
       ]
      },
      {
       "output_type": "stream",
       "stream": "stderr",
       "text": [
        "\r",
        " 63%|\u2588\u2588\u2588\u2588\u2588\u2588\u258e   | 179/285 [22:50<12:35,  7.13s/it]"
       ]
      },
      {
       "output_type": "stream",
       "stream": "stderr",
       "text": [
        "\r",
        " 63%|\u2588\u2588\u2588\u2588\u2588\u2588\u258e   | 180/285 [22:57<12:18,  7.03s/it]"
       ]
      },
      {
       "output_type": "stream",
       "stream": "stderr",
       "text": [
        "\r",
        " 64%|\u2588\u2588\u2588\u2588\u2588\u2588\u258e   | 181/285 [23:04<12:13,  7.05s/it]"
       ]
      },
      {
       "output_type": "stream",
       "stream": "stderr",
       "text": [
        "\r",
        " 64%|\u2588\u2588\u2588\u2588\u2588\u2588\u258d   | 182/285 [23:10<11:57,  6.97s/it]"
       ]
      },
      {
       "output_type": "stream",
       "stream": "stderr",
       "text": [
        "\r",
        " 64%|\u2588\u2588\u2588\u2588\u2588\u2588\u258d   | 183/285 [23:17<11:49,  6.95s/it]"
       ]
      },
      {
       "output_type": "stream",
       "stream": "stderr",
       "text": [
        "\r",
        " 65%|\u2588\u2588\u2588\u2588\u2588\u2588\u258d   | 184/285 [23:24<11:41,  6.94s/it]"
       ]
      },
      {
       "output_type": "stream",
       "stream": "stderr",
       "text": [
        "\r",
        " 65%|\u2588\u2588\u2588\u2588\u2588\u2588\u258d   | 185/285 [23:31<11:39,  7.00s/it]"
       ]
      },
      {
       "output_type": "stream",
       "stream": "stderr",
       "text": [
        "\r",
        " 65%|\u2588\u2588\u2588\u2588\u2588\u2588\u258c   | 186/285 [23:39<11:43,  7.10s/it]"
       ]
      },
      {
       "output_type": "stream",
       "stream": "stderr",
       "text": [
        "\r",
        " 66%|\u2588\u2588\u2588\u2588\u2588\u2588\u258c   | 187/285 [23:46<11:30,  7.04s/it]"
       ]
      },
      {
       "output_type": "stream",
       "stream": "stderr",
       "text": [
        "\r",
        " 66%|\u2588\u2588\u2588\u2588\u2588\u2588\u258c   | 188/285 [23:53<11:16,  6.97s/it]"
       ]
      },
      {
       "output_type": "stream",
       "stream": "stderr",
       "text": [
        "\r",
        " 66%|\u2588\u2588\u2588\u2588\u2588\u2588\u258b   | 189/285 [23:59<11:08,  6.96s/it]"
       ]
      },
      {
       "output_type": "stream",
       "stream": "stderr",
       "text": [
        "\r",
        " 67%|\u2588\u2588\u2588\u2588\u2588\u2588\u258b   | 190/285 [24:06<10:56,  6.91s/it]"
       ]
      },
      {
       "output_type": "stream",
       "stream": "stderr",
       "text": [
        "\r",
        " 67%|\u2588\u2588\u2588\u2588\u2588\u2588\u258b   | 191/285 [24:13<10:47,  6.89s/it]"
       ]
      },
      {
       "output_type": "stream",
       "stream": "stderr",
       "text": [
        "\r",
        " 67%|\u2588\u2588\u2588\u2588\u2588\u2588\u258b   | 192/285 [24:20<10:40,  6.88s/it]"
       ]
      },
      {
       "output_type": "stream",
       "stream": "stderr",
       "text": [
        "\r",
        " 68%|\u2588\u2588\u2588\u2588\u2588\u2588\u258a   | 193/285 [24:27<10:32,  6.87s/it]"
       ]
      },
      {
       "output_type": "stream",
       "stream": "stderr",
       "text": [
        "\r",
        " 68%|\u2588\u2588\u2588\u2588\u2588\u2588\u258a   | 194/285 [24:34<10:26,  6.88s/it]"
       ]
      },
      {
       "output_type": "stream",
       "stream": "stderr",
       "text": [
        "\r",
        " 68%|\u2588\u2588\u2588\u2588\u2588\u2588\u258a   | 195/285 [24:50<14:25,  9.62s/it]"
       ]
      },
      {
       "output_type": "stream",
       "stream": "stderr",
       "text": [
        "\r",
        " 69%|\u2588\u2588\u2588\u2588\u2588\u2588\u2589   | 196/285 [24:56<13:00,  8.77s/it]"
       ]
      },
      {
       "output_type": "stream",
       "stream": "stderr",
       "text": [
        "\r",
        " 69%|\u2588\u2588\u2588\u2588\u2588\u2588\u2589   | 197/285 [25:03<12:00,  8.19s/it]"
       ]
      },
      {
       "output_type": "stream",
       "stream": "stderr",
       "text": [
        "\r",
        " 69%|\u2588\u2588\u2588\u2588\u2588\u2588\u2589   | 198/285 [25:11<11:26,  7.89s/it]"
       ]
      },
      {
       "output_type": "stream",
       "stream": "stderr",
       "text": [
        "\r",
        " 70%|\u2588\u2588\u2588\u2588\u2588\u2588\u2589   | 199/285 [25:18<10:58,  7.66s/it]"
       ]
      },
      {
       "output_type": "stream",
       "stream": "stderr",
       "text": [
        "\r",
        " 70%|\u2588\u2588\u2588\u2588\u2588\u2588\u2588   | 200/285 [25:25<10:32,  7.45s/it]"
       ]
      },
      {
       "output_type": "stream",
       "stream": "stderr",
       "text": [
        "\r",
        " 71%|\u2588\u2588\u2588\u2588\u2588\u2588\u2588   | 201/285 [25:32<10:12,  7.29s/it]"
       ]
      },
      {
       "output_type": "stream",
       "stream": "stderr",
       "text": [
        "\r",
        " 71%|\u2588\u2588\u2588\u2588\u2588\u2588\u2588   | 202/285 [25:38<09:56,  7.18s/it]"
       ]
      },
      {
       "output_type": "stream",
       "stream": "stderr",
       "text": [
        "\r",
        " 71%|\u2588\u2588\u2588\u2588\u2588\u2588\u2588   | 203/285 [25:46<09:48,  7.17s/it]"
       ]
      },
      {
       "output_type": "stream",
       "stream": "stderr",
       "text": [
        "\r",
        " 72%|\u2588\u2588\u2588\u2588\u2588\u2588\u2588\u258f  | 204/285 [25:52<09:33,  7.08s/it]"
       ]
      },
      {
       "output_type": "stream",
       "stream": "stderr",
       "text": [
        "\r",
        " 72%|\u2588\u2588\u2588\u2588\u2588\u2588\u2588\u258f  | 205/285 [25:59<09:21,  7.02s/it]"
       ]
      },
      {
       "output_type": "stream",
       "stream": "stderr",
       "text": [
        "\r",
        " 72%|\u2588\u2588\u2588\u2588\u2588\u2588\u2588\u258f  | 206/285 [26:06<09:09,  6.96s/it]"
       ]
      },
      {
       "output_type": "stream",
       "stream": "stderr",
       "text": [
        "\r",
        " 73%|\u2588\u2588\u2588\u2588\u2588\u2588\u2588\u258e  | 207/285 [26:13<09:03,  6.97s/it]"
       ]
      },
      {
       "output_type": "stream",
       "stream": "stderr",
       "text": [
        "\r",
        " 73%|\u2588\u2588\u2588\u2588\u2588\u2588\u2588\u258e  | 208/285 [26:21<09:27,  7.38s/it]"
       ]
      },
      {
       "output_type": "stream",
       "stream": "stderr",
       "text": [
        "\r",
        " 73%|\u2588\u2588\u2588\u2588\u2588\u2588\u2588\u258e  | 209/285 [26:28<09:11,  7.26s/it]"
       ]
      },
      {
       "output_type": "stream",
       "stream": "stderr",
       "text": [
        "\r",
        " 74%|\u2588\u2588\u2588\u2588\u2588\u2588\u2588\u258e  | 210/285 [26:35<08:58,  7.18s/it]"
       ]
      },
      {
       "output_type": "stream",
       "stream": "stderr",
       "text": [
        "\r",
        " 74%|\u2588\u2588\u2588\u2588\u2588\u2588\u2588\u258d  | 211/285 [26:42<08:45,  7.10s/it]"
       ]
      },
      {
       "output_type": "stream",
       "stream": "stderr",
       "text": [
        "\r",
        " 74%|\u2588\u2588\u2588\u2588\u2588\u2588\u2588\u258d  | 212/285 [26:50<08:42,  7.16s/it]"
       ]
      },
      {
       "output_type": "stream",
       "stream": "stderr",
       "text": [
        "\r",
        " 75%|\u2588\u2588\u2588\u2588\u2588\u2588\u2588\u258d  | 213/285 [26:57<08:33,  7.13s/it]"
       ]
      },
      {
       "output_type": "stream",
       "stream": "stderr",
       "text": [
        "\r",
        " 75%|\u2588\u2588\u2588\u2588\u2588\u2588\u2588\u258c  | 214/285 [27:03<08:18,  7.03s/it]"
       ]
      },
      {
       "output_type": "stream",
       "stream": "stderr",
       "text": [
        "\r",
        " 75%|\u2588\u2588\u2588\u2588\u2588\u2588\u2588\u258c  | 215/285 [27:10<08:08,  6.98s/it]"
       ]
      },
      {
       "output_type": "stream",
       "stream": "stderr",
       "text": [
        "\r",
        " 76%|\u2588\u2588\u2588\u2588\u2588\u2588\u2588\u258c  | 216/285 [27:17<08:00,  6.97s/it]"
       ]
      },
      {
       "output_type": "stream",
       "stream": "stderr",
       "text": [
        "\r",
        " 76%|\u2588\u2588\u2588\u2588\u2588\u2588\u2588\u258c  | 217/285 [27:24<07:54,  6.98s/it]"
       ]
      },
      {
       "output_type": "stream",
       "stream": "stderr",
       "text": [
        "\r",
        " 76%|\u2588\u2588\u2588\u2588\u2588\u2588\u2588\u258b  | 218/285 [27:38<09:56,  8.91s/it]"
       ]
      },
      {
       "output_type": "stream",
       "stream": "stderr",
       "text": [
        "\r",
        " 77%|\u2588\u2588\u2588\u2588\u2588\u2588\u2588\u258b  | 219/285 [27:52<11:34, 10.53s/it]"
       ]
      },
      {
       "output_type": "stream",
       "stream": "stderr",
       "text": [
        "\r",
        " 77%|\u2588\u2588\u2588\u2588\u2588\u2588\u2588\u258b  | 220/285 [28:02<11:09, 10.30s/it]"
       ]
      },
      {
       "output_type": "stream",
       "stream": "stderr",
       "text": [
        "\r",
        " 78%|\u2588\u2588\u2588\u2588\u2588\u2588\u2588\u258a  | 221/285 [28:11<10:32,  9.89s/it]"
       ]
      },
      {
       "output_type": "stream",
       "stream": "stderr",
       "text": [
        "\r",
        " 78%|\u2588\u2588\u2588\u2588\u2588\u2588\u2588\u258a  | 222/285 [28:19<09:51,  9.39s/it]"
       ]
      },
      {
       "output_type": "stream",
       "stream": "stderr",
       "text": [
        "\r",
        " 78%|\u2588\u2588\u2588\u2588\u2588\u2588\u2588\u258a  | 223/285 [28:26<08:58,  8.69s/it]"
       ]
      },
      {
       "output_type": "stream",
       "stream": "stderr",
       "text": [
        "\r",
        " 79%|\u2588\u2588\u2588\u2588\u2588\u2588\u2588\u258a  | 224/285 [28:33<08:18,  8.18s/it]"
       ]
      },
      {
       "output_type": "stream",
       "stream": "stderr",
       "text": [
        "\r",
        " 79%|\u2588\u2588\u2588\u2588\u2588\u2588\u2588\u2589  | 225/285 [28:40<07:55,  7.93s/it]"
       ]
      },
      {
       "output_type": "stream",
       "stream": "stderr",
       "text": [
        "\r",
        " 79%|\u2588\u2588\u2588\u2588\u2588\u2588\u2588\u2589  | 226/285 [28:47<07:28,  7.61s/it]"
       ]
      },
      {
       "output_type": "stream",
       "stream": "stderr",
       "text": [
        "\r",
        " 80%|\u2588\u2588\u2588\u2588\u2588\u2588\u2588\u2589  | 227/285 [28:54<07:09,  7.40s/it]"
       ]
      },
      {
       "output_type": "stream",
       "stream": "stderr",
       "text": [
        "\r",
        " 80%|\u2588\u2588\u2588\u2588\u2588\u2588\u2588\u2588  | 228/285 [29:01<06:51,  7.23s/it]"
       ]
      },
      {
       "output_type": "stream",
       "stream": "stderr",
       "text": [
        "\r",
        " 80%|\u2588\u2588\u2588\u2588\u2588\u2588\u2588\u2588  | 229/285 [29:08<06:39,  7.14s/it]"
       ]
      },
      {
       "output_type": "stream",
       "stream": "stderr",
       "text": [
        "\r",
        " 81%|\u2588\u2588\u2588\u2588\u2588\u2588\u2588\u2588  | 230/285 [29:15<06:27,  7.05s/it]"
       ]
      },
      {
       "output_type": "stream",
       "stream": "stderr",
       "text": [
        "\r",
        " 81%|\u2588\u2588\u2588\u2588\u2588\u2588\u2588\u2588  | 231/285 [29:22<06:29,  7.21s/it]"
       ]
      },
      {
       "output_type": "stream",
       "stream": "stderr",
       "text": [
        "\r",
        " 81%|\u2588\u2588\u2588\u2588\u2588\u2588\u2588\u2588\u258f | 232/285 [29:29<06:18,  7.14s/it]"
       ]
      },
      {
       "output_type": "stream",
       "stream": "stderr",
       "text": [
        "\r",
        " 82%|\u2588\u2588\u2588\u2588\u2588\u2588\u2588\u2588\u258f | 233/285 [29:36<06:08,  7.08s/it]"
       ]
      },
      {
       "output_type": "stream",
       "stream": "stderr",
       "text": [
        "\r",
        " 82%|\u2588\u2588\u2588\u2588\u2588\u2588\u2588\u2588\u258f | 234/285 [29:43<05:57,  7.01s/it]"
       ]
      },
      {
       "output_type": "stream",
       "stream": "stderr",
       "text": [
        "\r",
        " 82%|\u2588\u2588\u2588\u2588\u2588\u2588\u2588\u2588\u258f | 235/285 [29:50<05:50,  7.01s/it]"
       ]
      },
      {
       "output_type": "stream",
       "stream": "stderr",
       "text": [
        "\r",
        " 83%|\u2588\u2588\u2588\u2588\u2588\u2588\u2588\u2588\u258e | 236/285 [29:57<05:39,  6.93s/it]"
       ]
      },
      {
       "output_type": "stream",
       "stream": "stderr",
       "text": [
        "\r",
        " 83%|\u2588\u2588\u2588\u2588\u2588\u2588\u2588\u2588\u258e | 237/285 [30:04<05:32,  6.93s/it]"
       ]
      },
      {
       "output_type": "stream",
       "stream": "stderr",
       "text": [
        "\r",
        " 84%|\u2588\u2588\u2588\u2588\u2588\u2588\u2588\u2588\u258e | 238/285 [30:18<07:06,  9.06s/it]"
       ]
      },
      {
       "output_type": "stream",
       "stream": "stderr",
       "text": [
        "\r",
        " 84%|\u2588\u2588\u2588\u2588\u2588\u2588\u2588\u2588\u258d | 239/285 [30:30<07:44, 10.09s/it]"
       ]
      },
      {
       "output_type": "stream",
       "stream": "stderr",
       "text": [
        "\r",
        " 84%|\u2588\u2588\u2588\u2588\u2588\u2588\u2588\u2588\u258d | 240/285 [30:37<06:52,  9.18s/it]"
       ]
      },
      {
       "output_type": "stream",
       "stream": "stderr",
       "text": [
        "\r",
        " 85%|\u2588\u2588\u2588\u2588\u2588\u2588\u2588\u2588\u258d | 241/285 [30:45<06:18,  8.60s/it]"
       ]
      },
      {
       "output_type": "stream",
       "stream": "stderr",
       "text": [
        "\r",
        " 85%|\u2588\u2588\u2588\u2588\u2588\u2588\u2588\u2588\u258d | 242/285 [30:54<06:21,  8.88s/it]"
       ]
      },
      {
       "output_type": "stream",
       "stream": "stderr",
       "text": [
        "\r",
        " 85%|\u2588\u2588\u2588\u2588\u2588\u2588\u2588\u2588\u258c | 243/285 [31:01<05:47,  8.27s/it]"
       ]
      },
      {
       "output_type": "stream",
       "stream": "stderr",
       "text": [
        "\r",
        " 86%|\u2588\u2588\u2588\u2588\u2588\u2588\u2588\u2588\u258c | 244/285 [31:08<05:22,  7.86s/it]"
       ]
      },
      {
       "output_type": "stream",
       "stream": "stderr",
       "text": [
        "\r",
        " 86%|\u2588\u2588\u2588\u2588\u2588\u2588\u2588\u2588\u258c | 245/285 [31:15<05:01,  7.55s/it]"
       ]
      },
      {
       "output_type": "stream",
       "stream": "stderr",
       "text": [
        "\r",
        " 86%|\u2588\u2588\u2588\u2588\u2588\u2588\u2588\u2588\u258b | 246/285 [31:21<04:45,  7.32s/it]"
       ]
      },
      {
       "output_type": "stream",
       "stream": "stderr",
       "text": [
        "\r",
        " 87%|\u2588\u2588\u2588\u2588\u2588\u2588\u2588\u2588\u258b | 247/285 [31:28<04:33,  7.20s/it]"
       ]
      },
      {
       "output_type": "stream",
       "stream": "stderr",
       "text": [
        "\r",
        " 87%|\u2588\u2588\u2588\u2588\u2588\u2588\u2588\u2588\u258b | 248/285 [31:35<04:23,  7.12s/it]"
       ]
      },
      {
       "output_type": "stream",
       "stream": "stderr",
       "text": [
        "\r",
        " 87%|\u2588\u2588\u2588\u2588\u2588\u2588\u2588\u2588\u258b | 249/285 [31:42<04:15,  7.09s/it]"
       ]
      },
      {
       "output_type": "stream",
       "stream": "stderr",
       "text": [
        "\r",
        " 88%|\u2588\u2588\u2588\u2588\u2588\u2588\u2588\u2588\u258a | 250/285 [31:49<04:08,  7.09s/it]"
       ]
      },
      {
       "output_type": "stream",
       "stream": "stderr",
       "text": [
        "\r",
        " 88%|\u2588\u2588\u2588\u2588\u2588\u2588\u2588\u2588\u258a | 251/285 [31:56<03:59,  7.04s/it]"
       ]
      },
      {
       "output_type": "stream",
       "stream": "stderr",
       "text": [
        "\r",
        " 88%|\u2588\u2588\u2588\u2588\u2588\u2588\u2588\u2588\u258a | 252/285 [32:03<03:50,  6.97s/it]"
       ]
      },
      {
       "output_type": "stream",
       "stream": "stderr",
       "text": [
        "\r",
        " 89%|\u2588\u2588\u2588\u2588\u2588\u2588\u2588\u2588\u2589 | 253/285 [32:10<03:44,  7.01s/it]"
       ]
      },
      {
       "output_type": "stream",
       "stream": "stderr",
       "text": [
        "\r",
        " 89%|\u2588\u2588\u2588\u2588\u2588\u2588\u2588\u2588\u2589 | 254/285 [32:17<03:35,  6.94s/it]"
       ]
      },
      {
       "output_type": "stream",
       "stream": "stderr",
       "text": [
        "\r",
        " 89%|\u2588\u2588\u2588\u2588\u2588\u2588\u2588\u2588\u2589 | 255/285 [32:24<03:29,  6.99s/it]"
       ]
      },
      {
       "output_type": "stream",
       "stream": "stderr",
       "text": [
        "\r",
        " 90%|\u2588\u2588\u2588\u2588\u2588\u2588\u2588\u2588\u2589 | 256/285 [32:31<03:20,  6.92s/it]"
       ]
      },
      {
       "output_type": "stream",
       "stream": "stderr",
       "text": [
        "\r",
        " 90%|\u2588\u2588\u2588\u2588\u2588\u2588\u2588\u2588\u2588 | 257/285 [32:38<03:19,  7.11s/it]"
       ]
      },
      {
       "output_type": "stream",
       "stream": "stderr",
       "text": [
        "\r",
        " 91%|\u2588\u2588\u2588\u2588\u2588\u2588\u2588\u2588\u2588 | 258/285 [32:45<03:10,  7.05s/it]"
       ]
      },
      {
       "output_type": "stream",
       "stream": "stderr",
       "text": [
        "\r",
        " 91%|\u2588\u2588\u2588\u2588\u2588\u2588\u2588\u2588\u2588 | 259/285 [32:52<03:01,  6.99s/it]"
       ]
      },
      {
       "output_type": "stream",
       "stream": "stderr",
       "text": [
        "\r",
        " 91%|\u2588\u2588\u2588\u2588\u2588\u2588\u2588\u2588\u2588 | 260/285 [32:59<02:54,  6.97s/it]"
       ]
      },
      {
       "output_type": "stream",
       "stream": "stderr",
       "text": [
        "\r",
        " 92%|\u2588\u2588\u2588\u2588\u2588\u2588\u2588\u2588\u2588\u258f| 261/285 [33:08<03:03,  7.63s/it]"
       ]
      },
      {
       "output_type": "stream",
       "stream": "stderr",
       "text": [
        "\r",
        " 92%|\u2588\u2588\u2588\u2588\u2588\u2588\u2588\u2588\u2588\u258f| 262/285 [33:15<02:51,  7.45s/it]"
       ]
      },
      {
       "output_type": "stream",
       "stream": "stderr",
       "text": [
        "\r",
        " 92%|\u2588\u2588\u2588\u2588\u2588\u2588\u2588\u2588\u2588\u258f| 263/285 [33:22<02:41,  7.33s/it]"
       ]
      },
      {
       "output_type": "stream",
       "stream": "stderr",
       "text": [
        "\r",
        " 93%|\u2588\u2588\u2588\u2588\u2588\u2588\u2588\u2588\u2588\u258e| 264/285 [33:29<02:31,  7.22s/it]"
       ]
      },
      {
       "output_type": "stream",
       "stream": "stderr",
       "text": [
        "\r",
        " 93%|\u2588\u2588\u2588\u2588\u2588\u2588\u2588\u2588\u2588\u258e| 265/285 [33:36<02:22,  7.13s/it]"
       ]
      },
      {
       "output_type": "stream",
       "stream": "stderr",
       "text": [
        "\r",
        " 93%|\u2588\u2588\u2588\u2588\u2588\u2588\u2588\u2588\u2588\u258e| 266/285 [33:43<02:13,  7.04s/it]"
       ]
      },
      {
       "output_type": "stream",
       "stream": "stderr",
       "text": [
        "\r",
        " 94%|\u2588\u2588\u2588\u2588\u2588\u2588\u2588\u2588\u2588\u258e| 267/285 [33:50<02:06,  7.03s/it]"
       ]
      },
      {
       "output_type": "stream",
       "stream": "stderr",
       "text": [
        "\r",
        " 94%|\u2588\u2588\u2588\u2588\u2588\u2588\u2588\u2588\u2588\u258d| 268/285 [33:57<01:58,  6.97s/it]"
       ]
      },
      {
       "output_type": "stream",
       "stream": "stderr",
       "text": [
        "\r",
        " 94%|\u2588\u2588\u2588\u2588\u2588\u2588\u2588\u2588\u2588\u258d| 269/285 [34:04<01:51,  6.94s/it]"
       ]
      },
      {
       "output_type": "stream",
       "stream": "stderr",
       "text": [
        "\r",
        " 95%|\u2588\u2588\u2588\u2588\u2588\u2588\u2588\u2588\u2588\u258d| 270/285 [34:11<01:44,  6.97s/it]"
       ]
      },
      {
       "output_type": "stream",
       "stream": "stderr",
       "text": [
        "\r",
        " 95%|\u2588\u2588\u2588\u2588\u2588\u2588\u2588\u2588\u2588\u258c| 271/285 [34:18<01:37,  6.97s/it]"
       ]
      },
      {
       "output_type": "stream",
       "stream": "stderr",
       "text": [
        "\r",
        " 95%|\u2588\u2588\u2588\u2588\u2588\u2588\u2588\u2588\u2588\u258c| 272/285 [34:25<01:30,  6.99s/it]"
       ]
      },
      {
       "output_type": "stream",
       "stream": "stderr",
       "text": [
        "\r",
        " 96%|\u2588\u2588\u2588\u2588\u2588\u2588\u2588\u2588\u2588\u258c| 273/285 [34:33<01:27,  7.27s/it]"
       ]
      },
      {
       "output_type": "stream",
       "stream": "stderr",
       "text": [
        "\r",
        " 96%|\u2588\u2588\u2588\u2588\u2588\u2588\u2588\u2588\u2588\u258c| 274/285 [34:44<01:32,  8.41s/it]"
       ]
      },
      {
       "output_type": "stream",
       "stream": "stderr",
       "text": [
        "\r",
        " 96%|\u2588\u2588\u2588\u2588\u2588\u2588\u2588\u2588\u2588\u258b| 275/285 [34:54<01:28,  8.89s/it]"
       ]
      },
      {
       "output_type": "stream",
       "stream": "stderr",
       "text": [
        "\r",
        " 97%|\u2588\u2588\u2588\u2588\u2588\u2588\u2588\u2588\u2588\u258b| 276/285 [35:01<01:14,  8.32s/it]"
       ]
      },
      {
       "output_type": "stream",
       "stream": "stderr",
       "text": [
        "\r",
        " 97%|\u2588\u2588\u2588\u2588\u2588\u2588\u2588\u2588\u2588\u258b| 277/285 [35:08<01:04,  8.05s/it]"
       ]
      },
      {
       "output_type": "stream",
       "stream": "stderr",
       "text": [
        "\r",
        " 98%|\u2588\u2588\u2588\u2588\u2588\u2588\u2588\u2588\u2588\u258a| 278/285 [35:15<00:53,  7.70s/it]"
       ]
      },
      {
       "output_type": "stream",
       "stream": "stderr",
       "text": [
        "\r",
        " 98%|\u2588\u2588\u2588\u2588\u2588\u2588\u2588\u2588\u2588\u258a| 279/285 [35:23<00:47,  7.86s/it]"
       ]
      },
      {
       "output_type": "stream",
       "stream": "stderr",
       "text": [
        "\r",
        " 98%|\u2588\u2588\u2588\u2588\u2588\u2588\u2588\u2588\u2588\u258a| 280/285 [35:30<00:37,  7.55s/it]"
       ]
      },
      {
       "output_type": "stream",
       "stream": "stderr",
       "text": [
        "\r",
        " 99%|\u2588\u2588\u2588\u2588\u2588\u2588\u2588\u2588\u2588\u258a| 281/285 [35:37<00:29,  7.47s/it]"
       ]
      },
      {
       "output_type": "stream",
       "stream": "stderr",
       "text": [
        "\r",
        " 99%|\u2588\u2588\u2588\u2588\u2588\u2588\u2588\u2588\u2588\u2589| 282/285 [35:44<00:21,  7.28s/it]"
       ]
      },
      {
       "output_type": "stream",
       "stream": "stderr",
       "text": [
        "\r",
        " 99%|\u2588\u2588\u2588\u2588\u2588\u2588\u2588\u2588\u2588\u2589| 283/285 [35:53<00:15,  7.74s/it]"
       ]
      },
      {
       "output_type": "stream",
       "stream": "stderr",
       "text": [
        "\r",
        "100%|\u2588\u2588\u2588\u2588\u2588\u2588\u2588\u2588\u2588\u2589| 284/285 [36:00<00:07,  7.46s/it]"
       ]
      },
      {
       "output_type": "stream",
       "stream": "stderr",
       "text": [
        "\r",
        "100%|\u2588\u2588\u2588\u2588\u2588\u2588\u2588\u2588\u2588\u2588| 285/285 [36:09<00:00,  8.02s/it]"
       ]
      },
      {
       "output_type": "stream",
       "stream": "stderr",
       "text": [
        "\n"
       ]
      }
     ],
     "prompt_number": 28
    },
    {
     "cell_type": "code",
     "collapsed": false,
     "input": [
      "tqdm\n"
     ],
     "language": "python",
     "metadata": {},
     "outputs": [
      {
       "metadata": {},
       "output_type": "pyout",
       "prompt_number": 29,
       "text": [
        "tqdm._tqdm.tqdm"
       ]
      }
     ],
     "prompt_number": 29
    },
    {
     "cell_type": "code",
     "collapsed": false,
     "input": [
      "\n",
      "os.path.exists(os.path.join(WAY_3D,'torso_{ind}.vtu'.format(ind = i)))"
     ],
     "language": "python",
     "metadata": {},
     "outputs": [
      {
       "metadata": {},
       "output_type": "pyout",
       "prompt_number": 30,
       "text": [
        "False"
       ]
      }
     ],
     "prompt_number": 30
    },
    {
     "cell_type": "code",
     "collapsed": false,
     "input": [
      "FILE_MAP_DIFFERENCE_2D_3D = 'difference_map_3d_2d.vtu'\n",
      "#\u0441\u0440\u0430\u0432\u043d\u0435\u043d\u0438\u0435 \u043a\u0430\u0440\u0442 \u0430\u043a\u0442\u0438\u0432\u0430\u0446\u0438\u0438\n",
      "assert(os.path.exists(os.path.join(WAY_2D_MAP,FILE_MAP_2D)))\n",
      "#\u0447\u0442\u0435\u043d\u0438\u0435 2d \u0441\u0435\u0442\u043a\u0438\n",
      "reader = vtk.vtkXMLUnstructuredGridReader()\n",
      "reader.SetFileName(os.path.join(WAY_2D_MAP,FILE_MAP_2D))\n",
      "reader.Update()\n",
      "output = reader.GetOutput()   \n",
      "output.SetPoints(vtkpoints)\n",
      "activation_map = vtk_to_numpy(output.GetPointData().GetArray('activation_map'))\n",
      "repolarization_map = vtk_to_numpy(output.GetPointData().GetArray('repolarization_map'))\n",
      "APD90_map = vtk_to_numpy(output.GetPointData().GetArray('APD90_map'))\n",
      "\n",
      "\n",
      "\n",
      "#\u0447\u0442\u0435\u043d\u0438\u0435 3d \u0441\u0435\u0442\u043a\u0438\n",
      "assert(os.path.exists(FILE_MAP_3D))\n",
      "reader3 = vtk.vtkXMLUnstructuredGridReader()\n",
      "reader3.SetFileName(FILE_MAP_3D)\n",
      "reader3.Update()\n",
      "output3 = reader3.GetOutput()\n",
      "data = vtk_to_numpy(output3.GetCells().GetData())\n",
      "activation_map3 = vtk_to_numpy(output3.GetPointData().GetArray('activation_map'))\n",
      "repolarization_map3 = vtk_to_numpy(output3.GetPointData().GetArray('repolarization_map'))\n",
      "APD90_map3 = vtk_to_numpy(output3.GetPointData().GetArray('APD90_map'))\n",
      "\n",
      "\n",
      "interpolation_activation_map = np.zeros(len(activation_map))#3D\n",
      "interpolation_repolarization_map = np.zeros(len(activation_map))#3D\n",
      "interpolation_APD90_map = np.zeros(len(activation_map))#3D\n",
      "\n",
      "for i in xrange(len(activation_map)):\n",
      "    pcoords = np.zeros(3)\n",
      "    weights  = np.zeros(4)\n",
      "    a = boneLocator.FindCell(result[i], 0.00001, cell, pcoords, weights)\n",
      "    points_scalars = activation_map3[tetrahedron[a]]\n",
      "    interpolation_activation_map[i] = np.dot(weights, points_scalars)\n",
      "    \n",
      "   \n",
      "    points_scalars2 = repolarization_map3[tetrahedron[a]]\n",
      "    interpolation_repolarization_map[i] = np.dot(weights, points_scalars2)    \n",
      "    \n",
      "    points_scalars3 = APD90_map3[tetrahedron[a]]\n",
      "    interpolation_APD90_map[i] = np.dot(weights, points_scalars3)\n",
      "    \n",
      "interpolation_activation_map_ = np.zeros_like(interpolation_activation_map)\n",
      "interpolation_repolarization_map_ = np.zeros_like(interpolation_repolarization_map)\n",
      "interpolation_APD90_map_ = np.zeros_like(interpolation_APD90_map)\n",
      "    \n",
      "for i in xrange(len(interpolation_activation_map_)):\n",
      "    interpolation_activation_map_[i] = interpolation_activation_map[i] - activation_map[i]\n",
      "    interpolation_repolarization_map_[i] = interpolation_repolarization_map[i] - repolarization_map[i]\n",
      "    interpolation_APD90_map_[i] = interpolation_APD90_map[i] - APD90_map[i]\n",
      "    \n",
      "activation_map_3d = numpy_to_vtk(interpolation_activation_map, deep=True, array_type=vtk.VTK_FLOAT)\n",
      "activation_map_3d.SetName('activation_map_3D')\n",
      "output.GetPointData().AddArray(activation_map_3d)\n",
      "    \n",
      "difference_3d_2d_activation_map = numpy_to_vtk(interpolation_activation_map_, deep=True, array_type=vtk.VTK_FLOAT)\n",
      "difference_3d_2d_activation_map.SetName('activation_map_difference_3D_2D')\n",
      "output.GetPointData().AddArray(difference_3d_2d_activation_map)\n",
      "\n",
      "repolarization_map_3d = numpy_to_vtk(interpolation_repolarization_map, deep=True, array_type=vtk.VTK_FLOAT)\n",
      "repolarization_map_3d.SetName('repolarization_map_3D')\n",
      "output.GetPointData().AddArray(repolarization_map_3d)\n",
      "    \n",
      "difference_3d_2d_repolarization_map = numpy_to_vtk(interpolation_repolarization_map_, deep=True, array_type=vtk.VTK_FLOAT)\n",
      "difference_3d_2d_repolarization_map.SetName('repolarization_map_difference_3D_2D')\n",
      "output.GetPointData().AddArray(difference_3d_2d_repolarization_map)\n",
      "\n",
      "APD90_map_3d = numpy_to_vtk(interpolation_APD90_map, deep=True, array_type=vtk.VTK_FLOAT)\n",
      "APD90_map_3d.SetName('APD90_map_3D')\n",
      "output.GetPointData().AddArray(APD90_map_3d)\n",
      "    \n",
      "difference_3d_2d_APD90_map = numpy_to_vtk(interpolation_APD90_map_, deep=True, array_type=vtk.VTK_FLOAT)\n",
      "difference_3d_2d_APD90_map.SetName('APD90_map_difference_3D_2D')\n",
      "output.GetPointData().AddArray(difference_3d_2d_APD90_map)\n",
      "\n",
      "writer3 = vtk.vtkXMLUnstructuredGridWriter() # vtu\n",
      "writer3.SetFileName(os.path.join(FOLDER_DIFFERENCE_RESULT, FILE_MAP_DIFFERENCE_2D_3D))\n",
      "writer3.SetInputData(output)\n",
      "writer3.Write()"
     ],
     "language": "python",
     "metadata": {},
     "outputs": [
      {
       "metadata": {},
       "output_type": "pyout",
       "prompt_number": 32,
       "text": [
        "1"
       ]
      }
     ],
     "prompt_number": 32
    },
    {
     "cell_type": "code",
     "collapsed": false,
     "input": [],
     "language": "python",
     "metadata": {},
     "outputs": []
    }
   ],
   "metadata": {}
  }
 ]
}