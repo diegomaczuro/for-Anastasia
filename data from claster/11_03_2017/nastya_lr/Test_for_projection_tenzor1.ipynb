{
 "metadata": {
  "name": "",
  "signature": "sha256:32fb22aeb6915b83650274069a9a014e9362c3ae5988ed714df4bcf9d0d7a0f6"
 },
 "nbformat": 3,
 "nbformat_minor": 0,
 "worksheets": [
  {
   "cells": [
    {
     "cell_type": "code",
     "collapsed": false,
     "input": [
      "import numpy as np\n",
      "import pandas as pd\n",
      "from vtk import *\n",
      "from vtk.util import numpy_support\n",
      "import os\n",
      "from sklearn.neighbors import KDTree\n",
      "from vtk.util.numpy_support import vtk_to_numpy\n",
      "from vtk.util.numpy_support import numpy_to_vtk\n",
      "from tqdm import tqdm\n",
      "import glob\n",
      "import h5py\n",
      "from vtk.util.numpy_support import numpy_to_vtk\n",
      "import matplotlib.pylab as plt\n",
      "%matplotlib inline\n",
      "import unittest"
     ],
     "language": "python",
     "metadata": {},
     "outputs": [],
     "prompt_number": 4
    },
    {
     "cell_type": "code",
     "collapsed": false,
     "input": [
      "def project_tensor_on_plane(n, tensor):\n",
      "    \"\"\"   \n",
      "             n: plane normal vector\n",
      "        tensor: old tensor in 3D space\n",
      "         \n",
      "        return: Projection Tensor     \n",
      "    \n",
      "    \"\"\"\n",
      "    P = np.array([[1-n[0]**2, -n[0]*n[1], -n[0]*n[2]],\n",
      "                  [-n[0]*n[1], 1-n[1]**2, -n[1]*n[2]],\n",
      "                 [-n[0]*n[2], -n[1]*n[2], 1-n[2]**2]])    \n",
      "    \n",
      "    M2 = np.dot(P,tensor)\n",
      "    M_ = np.dot(M2,P.T)\n",
      "   \n",
      "    return M_"
     ],
     "language": "python",
     "metadata": {},
     "outputs": [],
     "prompt_number": 14
    },
    {
     "cell_type": "code",
     "collapsed": false,
     "input": [
      "normal_tenzor = np.array([1, 0, 0])\n",
      "tenzor = np.array([[1,0,0], [0, 1, 0], [0, 0, 2]])\n",
      "project_tensor_on_plane(normal_tenzor, tenzor)"
     ],
     "language": "python",
     "metadata": {},
     "outputs": [
      {
       "metadata": {},
       "output_type": "pyout",
       "prompt_number": 15,
       "text": [
        "array([[0, 0, 0],\n",
        "       [0, 1, 0],\n",
        "       [0, 0, 2]])"
       ]
      }
     ],
     "prompt_number": 15
    },
    {
     "cell_type": "code",
     "collapsed": false,
     "input": [
      "import sys\n",
      "\n",
      "class MyTest(unittest.TestCase):\n",
      "    def test_project_anisotropic_tensor_on_plane_OZ(self):\n",
      "        #@project_tensor_on_plane             \n",
      "        \n",
      "        normal_tenzor1 = np.array([[0,0,0], [0, 0, 0], [0, 0, 1]])\n",
      "        tenzor1 = np.array([[1,0,0], [0, 3, 0], [0, 0, 2]])\n",
      "        projection1 = project_tensor_on_plane(normal_tenzor1, tenzor1)\n",
      "        #self.assertEqual(np.all(np.array([1,1])-np.array([1,1])),0)\n",
      "        self.assertEqual(np.all(projection1-np.array([[1, 0, 0],\n",
      "                                                      [0, 3, 0],\n",
      "                                                      [0, 0, 0]])), 0)\n",
      "        \n",
      "        \n",
      "    def test_project_anisotropic_tensor_on_plane_OY(self):        \n",
      "        normal_tenzor2 = np.array([[0,0,0], [0, 1, 0], [0, 0, 0]])\n",
      "        tenzor2 = np.array([[1,0,0], [0, 1, 0], [0, 0, 2]])\n",
      "        projection2 = project_tensor_on_plane(normal_tenzor2, tenzor2)\n",
      "        #self.assertEqual(np.all(np.array([1,1])-np.array([1,1])),0)\n",
      "        self.assertEqual(np.all(projection2-np.array([[1, 0, 0],\n",
      "                                                      [0, 0, 0],\n",
      "                                                      [0, 0, 2]])), 0)\n",
      "        \n",
      "    def test_project_anisotropic_tensor_on_plane_OX(self):\n",
      "        \n",
      "        normal_tenzor3 = np.array([[-1,0,0], [0, 0, 0], [0, 0, 0]])\n",
      "        tenzor3 = np.array([[2,0,0], [0, 1, 0], [0, 0, 1]])\n",
      "        projection3 = project_tensor_on_plane(normal_tenzor3, tenzor3)\n",
      "        #self.assertEqual(np.all(np.array([1,1])-np.array([1,1])),0)\n",
      "        self.assertEqual(np.all(projection3-np.array([[0, 0, 0],\n",
      "                                                      [0, 1, 0],\n",
      "                                                      [0, 0, 1]])), 0)\n",
      "        \n",
      "        \n",
      "        \n",
      "    def test_project_anisotropic_tensor_on_turn_45_degrees_plane(self):\n",
      "        \n",
      "        normal_tenzor5 = np.array([[1,0,0], [0, 1, 0], [0, 0, 1]])\n",
      "        tenzor5 = np.array([[3,0,0], [0, 2, 0], [0, 0, 4]])\n",
      "        projection5 = project_tensor_on_plane(normal_tenzor5, tenzor5)\n",
      "        #self.assertEqual(np.all(np.array([1,1])-np.array([1,1])),0)\n",
      "        self.assertEqual(np.all(projection5-np.array([[0, 0, 0],\n",
      "                                                      [0, 2, 0],\n",
      "                                                      [0, 0, 4]])), 0)\n",
      "        \n",
      "        \n",
      "    def test_project_anisotropic_turn_tensor_on_turn_plane_OX(self):\n",
      "        \n",
      "        tenzor = np.array([[1,0,0], [0, 1, 0], [0, 0, 2]])\n",
      "        a_x = np.array([[0,0,0], [0, 1, 0], [0, 0, 2]]) \n",
      "        \n",
      "        n_x = np.array([1, 1, 1])\n",
      "        n_y = np.array([0, 1, -1])\n",
      "        n_z = np.cross(n_x, n_y)\n",
      "        \n",
      "        n_x = n_x/np.linalg.norm(n_x)\n",
      "        n_y = n_y/np.linalg.norm(n_y)\n",
      "        n_z = n_z/np.linalg.norm(n_z)\n",
      "        #\u043c\u0430\u0442\u0440\u0438\u0446\u0430 \u043f\u043e\u0432\u043e\u0440\u043e\u0442\u0430\n",
      "        L = np.column_stack((n_x, n_y, n_z))\n",
      "        \n",
      "        #\u0442\u0435\u043d\u0437\u043e\u0440\n",
      "        tenzor_ = np.dot(L, tenzor)\n",
      "        #\u043f\u043e\u0432\u043e\u0440\u043e\u0442 \u0442\u0435\u043d\u0437\u043e\u0440\u0430\n",
      "        tenzor_turn = np.dot(tenzor_, L.T)        \n",
      "        \n",
      "        #\u043d\u043e\u0440\u043c\u0430\u043b\u044c \u043a \u043f\u043b\u043e\u0441\u043a\u043e\u0441\u0442\u0438 OX\n",
      "        normal_x = np.array([1, 0, 0])\n",
      "        #\u043f\u043e\u0432\u043e\u0440\u043e\u0442 \u043d\u043e\u0440\u043c\u0430\u043b\u0438\n",
      "        normal_x_turn = np.dot(L, normal_x)\n",
      "\n",
      "        #\u043e\u0436\u0438\u0434\u0430\u0435\u043c\u044b\u0439 \u0440\u0435\u0437\u0443\u043b\u044c\u0442\u0430\u0442 \u043f\u0440\u043e\u0435\u043a\u0446\u0438\u0438 \u043d\u0430 \u043f\u043e\u0432\u043e\u0440\u043d\u0443\u0442\u0443\u044e \u043f\u043b\u043e\u0441\u043a\u043e\u0441\u0442\u044c OX \n",
      "        a_x_ = np.dot(L, a_x)\n",
      "        a_x_turn = np.dot(a_x_, L.T) \n",
      "\n",
      "        projection6 = project_tensor_on_plane(normal_x_turn, tenzor_turn)\n",
      "        self.assertEqual(np.all(projection6-a_x_turn), 0) \n",
      "        \n",
      "        \n",
      "    def test_project_anisotropic_turn_tensor_on_turn_plane_OY(self):\n",
      "        \n",
      "        tenzor = np.array([[1,0,0], [0, 1, 0], [0, 0, 2]])  \n",
      "        #\u043f\u0440\u043e\u0435\u043a\u0446\u0438\u044f \u0434\u0430\u043d\u043d\u043e\u0433\u043e \u0442\u0435\u043d\u0437\u043e\u0440\u0430\n",
      "        a_y = np.array([[1,0,0], [0, 0, 0], [0, 0, 2]])\n",
      "\n",
      "        \n",
      "        \n",
      "        n_x = np.array([1, 1, 1])\n",
      "        n_y = np.array([0, 1, -1])\n",
      "        n_z = np.cross(n_x, n_y)\n",
      "        \n",
      "        n_x = n_x/np.linalg.norm(n_x)\n",
      "        n_y = n_y/np.linalg.norm(n_y)\n",
      "        n_z = n_z/np.linalg.norm(n_z)\n",
      "        #\u043c\u0430\u0442\u0440\u0438\u0446\u0430 \u043f\u043e\u0432\u043e\u0440\u043e\u0442\u0430\n",
      "        L = np.column_stack((n_x, n_y, n_z))\n",
      "        \n",
      "        #\u0442\u0435\u043d\u0437\u043e\u0440\n",
      "        tenzor_ = np.dot(L, tenzor)\n",
      "        #\u043f\u043e\u0432\u043e\u0440\u043e\u0442 \u0442\u0435\u043d\u0437\u043e\u0440\u0430\n",
      "        tenzor_turn = np.dot(tenzor_, L.T)\n",
      "       \n",
      "        #\u043d\u043e\u0440\u043c\u0430\u043b\u044c \u043a \u043f\u043b\u043e\u0441\u043a\u043e\u0441\u0442\u0438 OY\n",
      "        normal_y = np.array([0, 1, 0])\n",
      "        #\u043f\u043e\u0432\u043e\u0440\u043e\u0442 \u043d\u043e\u0440\u043c\u0430\u043b\u0438\n",
      "        normal_y_turn = np.dot(L, normal_y)        \n",
      "\n",
      "        #\u043e\u0436\u0438\u0434\u0430\u0435\u043c\u044b\u0439 \u0440\u0435\u0437\u0443\u043b\u044c\u0442\u0430\u0442 \u043f\u0440\u043e\u0435\u043a\u0446\u0438\u0438 \u043d\u0430 \u043f\u043e\u0432\u043e\u0440\u043d\u0443\u0442\u0443\u044e \u043f\u043b\u043e\u0441\u043a\u043e\u0441\u0442\u044c OY \n",
      "        a_y_ = np.dot(L, a_y)\n",
      "        a_y_turn = np.dot(a_y_, L.T)        \n",
      "\n",
      "        projection7 = project_tensor_on_plane(normal_y_turn, tenzor_turn)\n",
      "        self.assertEqual(np.all(projection7-a_y_turn), 0)\n",
      "       \n",
      "        \n",
      "    def test_project_anisotropic_turn_tensor_on_turn_plane_OZ(self):\n",
      "        \n",
      "        tenzor = np.array([[1,0,0], [0, 1, 0], [0, 0, 2]])       \n",
      "        a_z = np.array([[1,0,0], [0, 1, 0], [0, 0, 0]])\n",
      "        \n",
      "        \n",
      "        n_x = np.array([1, 1, 1])\n",
      "        n_y = np.array([0, 1, -1])\n",
      "        n_z = np.cross(n_x, n_y)\n",
      "        \n",
      "        n_x = n_x/np.linalg.norm(n_x)\n",
      "        n_y = n_y/np.linalg.norm(n_y)\n",
      "        n_z = n_z/np.linalg.norm(n_z)\n",
      "        #\u043c\u0430\u0442\u0440\u0438\u0446\u0430 \u043f\u043e\u0432\u043e\u0440\u043e\u0442\u0430\n",
      "        L = np.column_stack((n_x, n_y, n_z))\n",
      "        \n",
      "        #\u0442\u0435\u043d\u0437\u043e\u0440\n",
      "        tenzor_ = np.dot(L, tenzor)\n",
      "        #\u043f\u043e\u0432\u043e\u0440\u043e\u0442 \u0442\u0435\u043d\u0437\u043e\u0440\u0430\n",
      "        tenzor_turn = np.dot(tenzor_, L.T) \n",
      "       \n",
      "        #\u043d\u043e\u0440\u043c\u0430\u043b\u044c \u043a \u043f\u043b\u043e\u0441\u043a\u043e\u0441\u0442\u0438 OZ\n",
      "        normal_z = np.array([0, 0, 1])\n",
      "        #\u043f\u043e\u0432\u043e\u0440\u043e\u0442 \u043d\u043e\u0440\u043c\u0430\u043b\u0438\n",
      "        normal_z_turn = np.dot(L, normal_z)        \n",
      "\n",
      "        #\u043e\u0436\u0438\u0434\u0430\u0435\u043c\u044b\u0439 \u0440\u0435\u0437\u0443\u043b\u044c\u0442\u0430\u0442 \u043f\u0440\u043e\u0435\u043a\u0446\u0438\u0438 \u043d\u0430 \u043f\u043e\u0432\u043e\u0440\u043d\u0443\u0442\u0443\u044e \u043f\u043b\u043e\u0441\u043a\u043e\u0441\u0442\u044c OZ \n",
      "        a_z_ = np.dot(L, a_z)\n",
      "        a_z_turn = np.dot(a_z_, L.T)        \n",
      "        \n",
      "        projection8 = project_tensor_on_plane(normal_z_turn, tenzor_turn)\n",
      "        self.assertEqual(np.all(projection8-a_z_turn), 0)\n",
      "\n",
      "        \n",
      "        \n",
      "        \n",
      "        \n",
      "suite = unittest.TestLoader().loadTestsFromTestCase( MyTest )\n",
      "unittest.TextTestRunner(verbosity=1,stream=sys.stderr).run( suite )\n"
     ],
     "language": "python",
     "metadata": {},
     "outputs": [
      {
       "output_type": "stream",
       "stream": "stderr",
       "text": [
        "."
       ]
      },
      {
       "output_type": "stream",
       "stream": "stderr",
       "text": [
        "."
       ]
      },
      {
       "output_type": "stream",
       "stream": "stderr",
       "text": [
        "."
       ]
      },
      {
       "output_type": "stream",
       "stream": "stderr",
       "text": [
        "."
       ]
      },
      {
       "output_type": "stream",
       "stream": "stderr",
       "text": [
        "."
       ]
      },
      {
       "output_type": "stream",
       "stream": "stderr",
       "text": [
        "."
       ]
      },
      {
       "output_type": "stream",
       "stream": "stderr",
       "text": [
        "."
       ]
      },
      {
       "output_type": "stream",
       "stream": "stderr",
       "text": [
        "\n",
        "----------------------------------------------------------------------\n",
        "Ran 7 tests in 0.008s\n",
        "\n",
        "OK\n"
       ]
      },
      {
       "metadata": {},
       "output_type": "pyout",
       "prompt_number": 18,
       "text": [
        "<unittest.runner.TextTestResult run=7 errors=0 failures=0>"
       ]
      }
     ],
     "prompt_number": 18
    },
    {
     "cell_type": "code",
     "collapsed": false,
     "input": [
      "np.all(np.array([1,1])-np.array([1,1]))"
     ],
     "language": "python",
     "metadata": {},
     "outputs": [
      {
       "metadata": {},
       "output_type": "pyout",
       "prompt_number": 24,
       "text": [
        "False"
       ]
      }
     ],
     "prompt_number": 24
    },
    {
     "cell_type": "code",
     "collapsed": false,
     "input": [
      "np.array([1,1])-np.array([1,1])"
     ],
     "language": "python",
     "metadata": {},
     "outputs": [
      {
       "metadata": {},
       "output_type": "pyout",
       "prompt_number": 25,
       "text": [
        "array([0, 0])"
       ]
      }
     ],
     "prompt_number": 25
    },
    {
     "cell_type": "code",
     "collapsed": false,
     "input": [
      "np.all(np.array([0, 0]))"
     ],
     "language": "python",
     "metadata": {},
     "outputs": [
      {
       "metadata": {},
       "output_type": "pyout",
       "prompt_number": 26,
       "text": [
        "False"
       ]
      }
     ],
     "prompt_number": 26
    },
    {
     "cell_type": "code",
     "collapsed": false,
     "input": [],
     "language": "python",
     "metadata": {},
     "outputs": []
    }
   ],
   "metadata": {}
  }
 ]
}