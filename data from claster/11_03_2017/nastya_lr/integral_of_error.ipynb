{
 "metadata": {
  "name": "",
  "signature": "sha256:d3fb1a5f470882a3e355c64e932b4a9437ea5d837e5e8b6dc82b13ee28c814b1"
 },
 "nbformat": 3,
 "nbformat_minor": 0,
 "worksheets": [
  {
   "cells": [
    {
     "cell_type": "code",
     "collapsed": false,
     "input": [
      "import numpy as np\n",
      "import pandas as pd\n",
      "from vtk import *\n",
      "from vtk.util import numpy_support\n",
      "import imp\n",
      "import h5py\n",
      "import matplotlib.pylab as plt\n",
      "from sklearn.neighbors import KDTree\n",
      "import os\n",
      "from tqdm import tqdm\n",
      "import matplotlib.pylab as plt\n",
      "%matplotlib inline"
     ],
     "language": "python",
     "metadata": {},
     "outputs": [],
     "prompt_number": 2
    },
    {
     "cell_type": "code",
     "collapsed": false,
     "input": [
      "FILE_CONFIG = 'config.py'\n",
      "FILE_MESH = 'init_mesh_1.vtu'\n",
      "FILE_H5 = 'results.h5'\n",
      "\n",
      "FOLDER_IN_MONODOMAIN_3D = '/home/shido/chaste-output/nastya_lr_3d_bidomain/'\n",
      "#FOLDER_IN_MONODOMAIN = '/home/shido/Documents/shido/for Anastasia/for-Anastasia/data from claster/11_03_2017/nastya_lr/nastya_lr_3d_monodomain'\n",
      "#FOLDER_IN_BIDOMAIN = '/home/shido/chaste-output/nastya_lr_2d_bidomain_2/'\n",
      "FOLDER_IN_BIDOMAIN_3D = '/home/shido/chaste-output/nastya_lr_3d_bidomain/'\n",
      "FOLDER_OUT = 'video'\n",
      "TEMPLATE_OUT = 'heart_{0}.vtu'\n",
      "\n",
      "FOLDER_IN_MONODOMAIN_2D = '/home/shido/chaste-output/nastya_lr_2d_bidomain/'\n",
      "#FOLDER_IN_MONODOMAIN = '/home/shido/Documents/shido/for Anastasia/for-Anastasia/data from claster/11_03_2017/nastya_lr/nastya_lr_3d_monodomain'\n",
      "#FOLDER_IN_BIDOMAIN = '/home/shido/chaste-output/nastya_lr_2d_bidomain_2/'\n",
      "FOLDER_IN_BIDOMAIN_2D = '/home/shido/chaste-output/nastya_lr_2d_bidomain/'\n",
      "\n",
      "\n",
      "if not os.path.exists(os.path.join(FOLDER_IN_BIDOMAIN_3D, FOLDER_OUT)):\n",
      "    os.makedirs(os.path.join(FOLDER_IN_BIDOMAIN_3D, FOLDER_OUT))\n",
      "    \n",
      "os.path.exists(os.path.join(FOLDER_IN_BIDOMAIN_3D, FILE_H5))"
     ],
     "language": "python",
     "metadata": {},
     "outputs": [
      {
       "metadata": {},
       "output_type": "pyout",
       "prompt_number": 5,
       "text": [
        "True"
       ]
      }
     ],
     "prompt_number": 5
    },
    {
     "cell_type": "code",
     "collapsed": false,
     "input": [],
     "language": "python",
     "metadata": {},
     "outputs": []
    }
   ],
   "metadata": {}
  }
 ]
}