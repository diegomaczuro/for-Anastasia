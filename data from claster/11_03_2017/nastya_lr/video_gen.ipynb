{
 "metadata": {
  "kernelspec": {
   "display_name": "Python 2",
   "language": "python",
   "name": "python2"
  },
  "language_info": {
   "codemirror_mode": {
    "name": "ipython",
    "version": 2
   },
   "file_extension": ".py",
   "mimetype": "text/x-python",
   "name": "python",
   "nbconvert_exporter": "python",
   "pygments_lexer": "ipython2",
   "version": "2.7.12"
  },
  "name": "",
  "signature": "sha256:adfdd924a6ab92d557c01e77db04645b411392f0ea39c2b66d7a0d228b1f91e4"
 },
 "nbformat": 3,
 "nbformat_minor": 0,
 "worksheets": [
  {
   "cells": [
    {
     "cell_type": "code",
     "collapsed": true,
     "input": [
      "import numpy as np\n",
      "import pandas as pd\n",
      "from vtk import *\n",
      "from vtk.util import numpy_support\n",
      "import imp\n",
      "import h5py\n",
      "import matplotlib.pylab as plt\n",
      "from sklearn.neighbors import KDTree\n",
      "import os"
     ],
     "language": "python",
     "metadata": {},
     "outputs": [],
     "prompt_number": 1
    },
    {
     "cell_type": "code",
     "collapsed": true,
     "input": [
      "from tqdm import tqdm"
     ],
     "language": "python",
     "metadata": {},
     "outputs": [],
     "prompt_number": 2
    },
    {
     "cell_type": "code",
     "collapsed": true,
     "input": [
      "import matplotlib.pylab as plt\n",
      "%matplotlib inline"
     ],
     "language": "python",
     "metadata": {},
     "outputs": [],
     "prompt_number": 3
    },
    {
     "cell_type": "code",
     "collapsed": false,
     "input": [],
     "language": "python",
     "metadata": {},
     "outputs": [],
     "prompt_number": 3
    },
    {
     "cell_type": "code",
     "collapsed": false,
     "input": [
      "FILE_CONFIG = 'config.py'\n",
      "FILE_MESH = 'init_mesh_1.vtu'\n",
      "FILE_H5 = 'results.h5'\n",
      "\n",
      "FOLDER_IN_MONODOMAIN = '/home/shido/chaste-output/nastya_lr_3d_bidomain/'\n",
      "#FOLDER_IN_MONODOMAIN = '/home/shido/Documents/shido/for Anastasia/for-Anastasia/data from claster/11_03_2017/nastya_lr/nastya_lr_3d_monodomain'\n",
      "FOLDER_IN_BIDOMAIN = '/home/shido/chaste-output/nastya_lr_2d_bidomain_2/'\n",
      "FOLDER_OUT = 'video'\n",
      "TEMPLATE_OUT = 'heart_{0}.vtu'\n",
      "\n",
      "if not os.path.exists(os.path.join(FOLDER_IN_MONODOMAIN, FOLDER_OUT)):\n",
      "    os.makedirs(os.path.join(FOLDER_IN_MONODOMAIN, FOLDER_OUT))\n",
      "    \n",
      "os.path.exists(os.path.join(FOLDER_IN_MONODOMAIN, FILE_H5))"
     ],
     "language": "python",
     "metadata": {},
     "outputs": [
      {
       "metadata": {},
       "output_type": "pyout",
       "prompt_number": 36,
       "text": [
        "True"
       ]
      }
     ],
     "prompt_number": 36
    },
    {
     "cell_type": "code",
     "collapsed": false,
     "input": [
      "reader = vtkXMLUnstructuredGridReader()\n",
      "reader.SetFileName(os.path.join(FOLDER_IN_MONODOMAIN, FILE_MESH))\n",
      "reader.Update()\n",
      "data_torso = reader.GetOutput()\n",
      "print data_torso"
     ],
     "language": "python",
     "metadata": {},
     "outputs": [
      {
       "output_type": "stream",
       "stream": "stdout",
       "text": [
        "vtkUnstructuredGrid (0x5f64cf0)\n",
        "  Debug: Off\n",
        "  Modified Time: 19730\n",
        "  Reference Count: 2\n",
        "  Registered Events: (none)\n",
        "  Information: 0x4c55950\n",
        "  Data Released: False\n",
        "  Global Release Data: Off\n",
        "  UpdateTime: 19763\n",
        "  Field Data:\n",
        "    Debug: Off\n",
        "    Modified Time: 19707\n",
        "    Reference Count: 1\n",
        "    Registered Events: (none)\n",
        "    Number Of Arrays: 0\n",
        "    Number Of Components: 0\n",
        "    Number Of Tuples: 0\n",
        "  Number Of Points: 40419\n",
        "  Number Of Cells: 157815\n",
        "  Cell Data:\n",
        "    Debug: Off\n",
        "    Modified Time: 19715\n",
        "    Reference Count: 1\n",
        "    Registered Events: (none)\n",
        "    Number Of Arrays: 0\n",
        "    Number Of Components: 0\n",
        "    Number Of Tuples: 0\n",
        "    Copy Tuple Flags: ( 1 1 1 1 1 0 1 1 )\n",
        "    Interpolate Flags: ( 1 1 1 1 1 0 0 1 )\n",
        "    Pass Through Flags: ( 1 1 1 1 1 1 1 1 )\n",
        "    Scalars: (none)\n",
        "    Vectors: (none)\n",
        "    Normals: (none)\n",
        "    TCoords: (none)\n",
        "    Tensors: (none)\n",
        "    GlobalIds: (none)\n",
        "    PedigreeIds: (none)\n",
        "    EdgeFlag: (none)\n",
        "  Point Data:\n",
        "    Debug: Off\n",
        "    Modified Time: 19717\n",
        "    Reference Count: 1\n",
        "    Registered Events: (none)\n",
        "    Number Of Arrays: 0\n",
        "    Number Of Components: 0\n",
        "    Number Of Tuples: 0\n",
        "    Copy Tuple Flags: ( 1 1 1 1 1 0 1 1 )\n",
        "    Interpolate Flags: ( 1 1 1 1 1 0 0 1 )\n",
        "    Pass Through Flags: ( 1 1 1 1 1 1 1 1 )\n",
        "    Scalars: (none)\n",
        "    Vectors: (none)\n",
        "    Normals: (none)\n",
        "    TCoords: (none)\n",
        "    Tensors: (none)\n",
        "    GlobalIds: (none)\n",
        "    PedigreeIds: (none)\n",
        "    EdgeFlag: (none)\n",
        "  Bounds: \n",
        "    Xmin,Xmax: (1.69607, 6.30452)\n",
        "    Ymin,Ymax: (1.02479, 5.2314)\n",
        "    Zmin,Zmax: (5.26725, 5.44522)\n",
        "  Compute Time: 19776\n",
        "  Number Of Points: 40419\n",
        "  Point Coordinates: 0x5a973a0\n",
        "  Locator: 0\n",
        "  Number Of Pieces: 1\n",
        "  Piece: 0\n",
        "  Ghost Level: 0\n",
        "\n",
        "\n"
       ]
      }
     ],
     "prompt_number": 37
    },
    {
     "cell_type": "code",
     "collapsed": false,
     "input": [
      "fl = h5py.File(os.path.join(FOLDER_IN_MONODOMAIN, FILE_H5),'r')\n",
      "time = len(fl['Data'])\n",
      "fl['Data']"
     ],
     "language": "python",
     "metadata": {},
     "outputs": [
      {
       "metadata": {},
       "output_type": "pyout",
       "prompt_number": 38,
       "text": [
        "<HDF5 dataset \"Data\": shape (3, 40419, 2), type \"<f8\">"
       ]
      }
     ],
     "prompt_number": 38
    },
    {
     "cell_type": "code",
     "collapsed": false,
     "input": [
      "for i in tqdm(xrange(time)):\n",
      "    data_V = numpy_support.numpy_to_vtk(num_array=fl['Data'][i,:,0], deep=True, array_type=vtk.VTK_FLOAT)\n",
      "    data_V.SetName('V')\n",
      "    data_torso.GetPointData().AddArray(data_V)\n",
      "    \n",
      "    #data_phi_e = numpy_support.numpy_to_vtk(num_array=fl['Data'][i,:,1], deep=True, array_type=vtk.VTK_FLOAT)\n",
      "    #data_phi_e.SetName('phi_e')\n",
      "    #data_torso.GetPointData().AddArray(data_phi_e)\n",
      "\n",
      "    writer = vtkXMLUnstructuredGridWriter()\n",
      "    writer.SetFileName(os.path.join(FOLDER_IN_MONODOMAIN,FOLDER_OUT,TEMPLATE_OUT.format(i)))\n",
      "    writer.SetInputData(data_torso)\n",
      "\n",
      "    writer.Write()"
     ],
     "language": "python",
     "metadata": {},
     "outputs": [
      {
       "output_type": "stream",
       "stream": "stderr",
       "text": [
        "\r",
        "  0%|          | 0/3 [00:00<?, ?it/s]"
       ]
      },
      {
       "output_type": "stream",
       "stream": "stderr",
       "text": [
        "\r",
        " 33%|\u2588\u2588\u2588\u258e      | 1/3 [00:00<00:01,  1.85it/s]"
       ]
      },
      {
       "output_type": "stream",
       "stream": "stderr",
       "text": [
        "\r",
        " 67%|\u2588\u2588\u2588\u2588\u2588\u2588\u258b   | 2/3 [00:01<00:00,  1.83it/s]"
       ]
      },
      {
       "output_type": "stream",
       "stream": "stderr",
       "text": [
        "\r",
        "100%|\u2588\u2588\u2588\u2588\u2588\u2588\u2588\u2588\u2588\u2588| 3/3 [00:01<00:00,  1.81it/s]"
       ]
      },
      {
       "output_type": "stream",
       "stream": "stderr",
       "text": [
        "\n"
       ]
      }
     ],
     "prompt_number": 39
    },
    {
     "cell_type": "code",
     "collapsed": true,
     "input": [
      "fl['Data'][0, :, 0]"
     ],
     "language": "python",
     "metadata": {},
     "outputs": [
      {
       "metadata": {},
       "output_type": "pyout",
       "prompt_number": 40,
       "text": [
        "array([-83.853, -83.853, -83.853, ..., -83.853, -83.853, -83.853])"
       ]
      }
     ],
     "prompt_number": 40
    },
    {
     "cell_type": "code",
     "collapsed": false,
     "input": [
      "fl2 = h5py.File(os.path.join(FOLDER_IN_MONODOMAIN, FILE_H5),'r')\n",
      "time = len(fl['Data'])\n",
      "fl2['Data']"
     ],
     "language": "python",
     "metadata": {},
     "outputs": [
      {
       "metadata": {},
       "output_type": "pyout",
       "prompt_number": 41,
       "text": [
        "<HDF5 dataset \"Data\": shape (3, 40419, 2), type \"<f8\">"
       ]
      }
     ],
     "prompt_number": 41
    },
    {
     "cell_type": "code",
     "collapsed": true,
     "input": [
      "max_V_monodomain = np.zeros(time)\n",
      "min_V_monodomain = np.zeros(time)\n",
      "max_V_bidomain = np.zeros(time)\n",
      "min_V_bidomain = np.zeros(time)\n",
      "\n",
      "for i in tqdm(xrange(time)):\n",
      "    max_V_monodomain[i]= max(fl2['Data'][i, :, 0])\n",
      "    min_V_monodomain[i]= min(fl2['Data'][i, :, 0])\n",
      "    max_V_bidomain[i]= max(fl['Data'][i, :, 0])\n",
      "    min_V_bidomain[i]= min(fl['Data'][i, :, 0])"
     ],
     "language": "python",
     "metadata": {},
     "outputs": [
      {
       "output_type": "stream",
       "stream": "stderr",
       "text": [
        "\r",
        "  0%|          | 0/3 [00:00<?, ?it/s]"
       ]
      },
      {
       "output_type": "stream",
       "stream": "stderr",
       "text": [
        "\r",
        " 67%|\u2588\u2588\u2588\u2588\u2588\u2588\u258b   | 2/3 [00:00<00:00, 18.28it/s]"
       ]
      },
      {
       "output_type": "stream",
       "stream": "stderr",
       "text": [
        "\r",
        "100%|\u2588\u2588\u2588\u2588\u2588\u2588\u2588\u2588\u2588\u2588| 3/3 [00:00<00:00, 18.48it/s]"
       ]
      },
      {
       "output_type": "stream",
       "stream": "stderr",
       "text": [
        "\n"
       ]
      }
     ],
     "prompt_number": 42
    },
    {
     "cell_type": "code",
     "collapsed": false,
     "input": [
      "plt.subplot(111)\n",
      "plt.plot(max_V_monodomain, label=\"max_monodomain\")\n",
      "plt.plot(min_V_monodomain, label=\"min_momodomain\")\n",
      "plt.plot(max_V_bidomain, label=\"max_bidomain\")\n",
      "plt.plot(min_V_bidomain, label=\"min_bidomain\")\n",
      "# Place a legend to the right of this  smaller subplot.\n",
      "plt.legend(bbox_to_anchor=(1.05, 1), loc=2, borderaxespad=0.)\n",
      "\n",
      "plt.show()"
     ],
     "language": "python",
     "metadata": {},
     "outputs": [
      {
       "metadata": {},
       "output_type": "display_data",
       "png": "[encoded data removed]",
       "text": [
        "<matplotlib.figure.Figure at 0x7f2cdd2af1d0>"
       ]
      }
     ],
     "prompt_number": 43
    },
    {
     "cell_type": "code",
     "collapsed": true,
     "input": [],
     "language": "python",
     "metadata": {},
     "outputs": [],
     "prompt_number": 47
    },
    {
     "cell_type": "code",
     "collapsed": false,
     "input": [],
     "language": "python",
     "metadata": {},
     "outputs": []
    }
   ],
   "metadata": {}
  }
 ]
}