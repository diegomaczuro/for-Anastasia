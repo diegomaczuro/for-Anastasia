{
 "metadata": {
  "name": "",
  "signature": "sha256:1e19fe720c1c1a5a77b238688135e50f9220fcc286c30def0638b9a400efa0bd"
 },
 "nbformat": 3,
 "nbformat_minor": 0,
 "worksheets": [
  {
   "cells": [
    {
     "cell_type": "code",
     "collapsed": false,
     "input": [
      "from vtk import *\n",
      "import numpy as np\n",
      "import pandas as pd\n",
      "from sklearn.neighbors import KDTree\n",
      "from vtk.util.numpy_support import vtk_to_numpy\n",
      "from tqdm import tqdm\n",
      "import warnings\n",
      "from vtk.util.numpy_support import numpy_to_vtk"
     ],
     "language": "python",
     "metadata": {},
     "outputs": [],
     "prompt_number": 1
    },
    {
     "cell_type": "code",
     "collapsed": false,
     "input": [
      "FILE_MESH = 'slice_mesh2.vtk'\n",
      "POINT_O = 62\n",
      "POINT_A = 6571\n",
      "POINT_B = 785\n",
      "\n",
      "np.set_printoptions(precision=418)"
     ],
     "language": "python",
     "metadata": {},
     "outputs": [],
     "prompt_number": 46
    },
    {
     "cell_type": "code",
     "collapsed": false,
     "input": [
      "reader2 = vtkUnstructuredGridReader()\n",
      "reader2.SetFileName(FILE_MESH)\n",
      "reader2.Update()\n",
      "ug2 = reader2.GetOutput()"
     ],
     "language": "python",
     "metadata": {},
     "outputs": [],
     "prompt_number": 47
    },
    {
     "cell_type": "code",
     "collapsed": false,
     "input": [
      "points2 = ug2.GetPoints()\n",
      "coord_points_data2 = vtk_to_numpy(points2.GetData())\n",
      "coord_points_data2"
     ],
     "language": "python",
     "metadata": {},
     "outputs": [
      {
       "metadata": {},
       "output_type": "pyout",
       "prompt_number": 48,
       "text": [
        "array([[ 2.396570000000000089102059064316563308238983154296875 ,\n",
        "         2.834470000000000045048409447190351784229278564453125 ,\n",
        "         2.107549999999999812416717759333550930023193359375    ],\n",
        "       [ 2.418366265452414953784909812384285032749176025390625 ,\n",
        "         2.834470000000000045048409447190351784229278564453125 ,\n",
        "         2.08019948592150694111069242353551089763641357421875  ],\n",
        "       [ 2.440806543944991080508088998612947762012481689453125 ,\n",
        "         2.834470000000000045048409447190351784229278564453125 ,\n",
        "         2.053376548153261982321282630437053740024566650390625 ],\n",
        "       ..., \n",
        "       [ 4.09603913966717758654567660414613783359527587890625  ,\n",
        "         2.834470000000000045048409447190351784229278564453125 ,\n",
        "         1.0492115960424699405706405741511844098567962646484375],\n",
        "       [ 3.97081886471726885901034620474092662334442138671875  ,\n",
        "         2.834470000000000045048409447190351784229278564453125 ,\n",
        "         1.0454906148808469357192052484606392681598663330078125],\n",
        "       [ 4.04382200581471717981685287668369710445404052734375  ,\n",
        "         2.834470000000000045048409447190351784229278564453125 ,\n",
        "         1.04451127498114093583581052371300756931304931640625  ]])"
       ]
      }
     ],
     "prompt_number": 48
    },
    {
     "cell_type": "code",
     "collapsed": false,
     "input": [
      "coord_points_data2.dtype"
     ],
     "language": "python",
     "metadata": {},
     "outputs": [
      {
       "metadata": {},
       "output_type": "pyout",
       "prompt_number": 49,
       "text": [
        "dtype('float64')"
       ]
      }
     ],
     "prompt_number": 49
    },
    {
     "cell_type": "code",
     "collapsed": false,
     "input": [
      "vec1 = coord_points_data2[POINT_A] - coord_points_data2[POINT_O]\n",
      "vec2_ = coord_points_data2[POINT_B] - coord_points_data2[POINT_O]\n",
      "print vec1, vec2_"
     ],
     "language": "python",
     "metadata": {},
     "outputs": [
      {
       "output_type": "stream",
       "stream": "stdout",
       "text": [
        "[ 1.5629357831021390978776253177784383296966552734375  0.\n",
        "  2.8055342198547439380718060419894754886627197265625] [-2.288158263036873751872235516202636063098907470703125  0.\n",
        "  1.96304665218159701822742135846056044101715087890625 ]\n"
       ]
      }
     ],
     "prompt_number": 50
    },
    {
     "cell_type": "code",
     "collapsed": false,
     "input": [
      "vec3 = np.cross(vec1, vec2_)\n",
      "print vec3"
     ],
     "language": "python",
     "metadata": {},
     "outputs": [
      {
       "output_type": "stream",
       "stream": "stdout",
       "text": [
        "[ 0.                                                 -9.487622163986817014347252552397549152374267578125\n",
        "  0.                                                ]\n"
       ]
      }
     ],
     "prompt_number": 69
    },
    {
     "cell_type": "code",
     "collapsed": false,
     "input": [
      "vec2 = np.cross(vec1, vec3)\n",
      "print vec2"
     ],
     "language": "python",
     "metadata": {},
     "outputs": [
      {
       "output_type": "stream",
       "stream": "stdout",
       "text": [
        "[ 26.61784864611733070205445983447134494781494140625     0.\n",
        " -14.8285441766479468839179389760829508304595947265625]\n"
       ]
      }
     ],
     "prompt_number": 70
    },
    {
     "cell_type": "code",
     "collapsed": false,
     "input": [
      "print np.dot(vec1,vec2_),  np.dot(vec1,vec2)"
     ],
     "language": "python",
     "metadata": {},
     "outputs": [
      {
       "output_type": "stream",
       "stream": "stdout",
       "text": [
        "1.93115013117 0.0\n"
       ]
      }
     ],
     "prompt_number": 71
    },
    {
     "cell_type": "code",
     "collapsed": false,
     "input": [
      "vec1_len = np.linalg.norm(vec1)\n",
      "vec2_len = np.linalg.norm(vec2)\n",
      "vec3_len = np.linalg.norm(vec3)"
     ],
     "language": "python",
     "metadata": {},
     "outputs": [],
     "prompt_number": 72
    },
    {
     "cell_type": "code",
     "collapsed": false,
     "input": [
      "print np.dot(vec1/vec1_len,vec2/vec2_len),  np.dot(vec1/vec1_len,vec3/vec3_len),  np.dot(vec2/vec2_len,vec3/vec3_len)"
     ],
     "language": "python",
     "metadata": {},
     "outputs": [
      {
       "output_type": "stream",
       "stream": "stdout",
       "text": [
        "0.0 0.0 0.0\n"
       ]
      }
     ],
     "prompt_number": 73
    },
    {
     "cell_type": "code",
     "collapsed": false,
     "input": [
      "L = np.matrix(np.vstack([vec1/vec1_len, vec2/vec2_len, vec3/vec3_len]).T)\n",
      "print L"
     ],
     "language": "python",
     "metadata": {},
     "outputs": [
      {
       "output_type": "stream",
       "stream": "stdout",
       "text": [
        "[[ 0.48666709262240004374433510747621767222881317138671875\n",
        "   0.87358751190619721160857125141774304211139678955078125   0.                                                      ]\n",
        " [ 0.                                                        0.                                                       -1.                                                      ]\n",
        " [ 0.87358751190619721160857125141774304211139678955078125\n",
        "  -0.486667092622400099255486338734044693410396575927734375  0.                                                      ]]\n"
       ]
      }
     ],
     "prompt_number": 74
    },
    {
     "cell_type": "code",
     "collapsed": false,
     "input": [
      "L_inv = np.linalg.inv(L)\n",
      "print L_inv"
     ],
     "language": "python",
     "metadata": {},
     "outputs": [
      {
       "output_type": "stream",
       "stream": "stdout",
       "text": [
        "[[ 0.486667092622400099255486338734044693410396575927734375  0.\n",
        "   0.87358751190619721160857125141774304211139678955078125 ]\n",
        " [ 0.87358751190619721160857125141774304211139678955078125   0.\n",
        "  -0.486667092622400099255486338734044693410396575927734375]\n",
        " [ 0.                                                       -1.                                                        0.                                                      ]]\n"
       ]
      }
     ],
     "prompt_number": 88
    },
    {
     "cell_type": "code",
     "collapsed": false,
     "input": [
      "L*(L_inv*np.matrix(coord_points_data2[10]).T)"
     ],
     "language": "python",
     "metadata": {},
     "outputs": [
      {
       "metadata": {},
       "output_type": "pyout",
       "prompt_number": 91,
       "text": [
        "matrix([[ 2.620290647499789571384098962880671024322509765625   ],\n",
        "        [ 2.834470000000000045048409447190351784229278564453125],\n",
        "        [ 1.847038307536098766803434045868925750255584716796875]])"
       ]
      }
     ],
     "prompt_number": 91
    },
    {
     "cell_type": "code",
     "collapsed": false,
     "input": [
      "np.matrix(coord_points_data2[10]).T"
     ],
     "language": "python",
     "metadata": {},
     "outputs": [
      {
       "metadata": {},
       "output_type": "pyout",
       "prompt_number": 97,
       "text": [
        "matrix([[ 2.620290647499790015473308812943287193775177001953125 ],\n",
        "        [ 2.834470000000000045048409447190351784229278564453125 ],\n",
        "        [ 1.8470383075360989888480389709002338349819183349609375]])"
       ]
      }
     ],
     "prompt_number": 97
    },
    {
     "cell_type": "code",
     "collapsed": false,
     "input": [
      "L_inv*np.matrix(coord_points_data2[10] - coord_points_data2[POINT_O]).T"
     ],
     "language": "python",
     "metadata": {},
     "outputs": [
      {
       "metadata": {},
       "output_type": "pyout",
       "prompt_number": 108,
       "text": [
        "matrix([[-0.022523664070176696583303055376745760440826416015625],\n",
        "        [-1.722076344288214766464761851239018142223358154296875],\n",
        "        [ 0.                                                   ]])"
       ]
      }
     ],
     "prompt_number": 108
    },
    {
     "cell_type": "code",
     "collapsed": false,
     "input": [
      "L_inv*np.matrix(coord_points_data2[100] - coord_points_data2[POINT_O]).T"
     ],
     "language": "python",
     "metadata": {},
     "outputs": [
      {
       "metadata": {},
       "output_type": "pyout",
       "prompt_number": 109,
       "text": [
        "matrix([[ 1.149873206224121258145487445290200412273406982421875   ],\n",
        "        [ 0.476393499843696222040279053544509224593639373779296875],\n",
        "        [ 0.                                                      ]])"
       ]
      }
     ],
     "prompt_number": 109
    },
    {
     "cell_type": "code",
     "collapsed": false,
     "input": [
      "L_inv*np.matrix(coord_points_data2[1000] - coord_points_data2[POINT_O]).T"
     ],
     "language": "python",
     "metadata": {},
     "outputs": [
      {
       "metadata": {},
       "output_type": "pyout",
       "prompt_number": 110,
       "text": [
        "matrix([[ 4.19993847461014002675483425264246761798858642578125],\n",
        "        [-4.7096439274260522012127694324590265750885009765625 ],\n",
        "        [ 0.                                                  ]])"
       ]
      }
     ],
     "prompt_number": 110
    },
    {
     "cell_type": "code",
     "collapsed": false,
     "input": [
      "test_1 = coord_points_data2[10]\n",
      "test_2 = L*(L_inv*np.matrix(coord_points_data2[10] - coord_points_data2[POINT_O]).T) + np.matrix(coord_points_data2[POINT_O]).T"
     ],
     "language": "python",
     "metadata": {},
     "outputs": [],
     "prompt_number": 117
    },
    {
     "cell_type": "code",
     "collapsed": false,
     "input": [
      "np.linalg.norm(test_1-test_2)"
     ],
     "language": "python",
     "metadata": {},
     "outputs": [
      {
       "metadata": {},
       "output_type": "pyout",
       "prompt_number": 118,
       "text": [
        "1.7993406145468158"
       ]
      }
     ],
     "prompt_number": 118
    },
    {
     "cell_type": "code",
     "collapsed": false,
     "input": [
      "print test_1"
     ],
     "language": "python",
     "metadata": {},
     "outputs": [
      {
       "output_type": "stream",
       "stream": "stdout",
       "text": [
        "[ 2.620290647499790015473308812943287193775177001953125\n",
        "  2.834470000000000045048409447190351784229278564453125\n",
        "  1.8470383075360989888480389709002338349819183349609375]\n"
       ]
      }
     ],
     "prompt_number": 120
    },
    {
     "cell_type": "code",
     "collapsed": false,
     "input": [
      "print test_2"
     ],
     "language": "python",
     "metadata": {},
     "outputs": [
      {
       "output_type": "stream",
       "stream": "stdout",
       "text": [
        "[[ 2.620290647499789571384098962880671024322509765625    ]\n",
        " [ 2.834470000000000045048409447190351784229278564453125 ]\n",
        " [ 1.8470383075360989888480389709002338349819183349609375]]\n"
       ]
      }
     ],
     "prompt_number": 121
    },
    {
     "cell_type": "code",
     "collapsed": false,
     "input": [
      "print np.matrix(test_1).T - test_2"
     ],
     "language": "python",
     "metadata": {},
     "outputs": [
      {
       "output_type": "stream",
       "stream": "stdout",
       "text": [
        "[[   4.4408920985006261616945266723632812500000000000000000000000000000000000000000000000000000000000000000000000000000000000000000000000000000000000000000000000000000000000000000000000000000000000000000000000000000000000000000000000000000000000000000000000000000000000000000000000000000000000000000000000000000000000000000000000000000000000000000000000000000000000000000000000000000000000000000000000000000000000000000000000e-16]\n",
        " [   0.0000000000000000000000000000000000000000000000000000000000000000000000000000000000000000000000000000000000000000000000000000000000000000000000000000000000000000000000000000000000000000000000000000000000000000000000000000000000000000000000000000000000000000000000000000000000000000000000000000000000000000000000000000000000000000000000000000000000000000000000000000000000000000000000000000000000000000000000000000000000e+00]\n",
        " [   0.0000000000000000000000000000000000000000000000000000000000000000000000000000000000000000000000000000000000000000000000000000000000000000000000000000000000000000000000000000000000000000000000000000000000000000000000000000000000000000000000000000000000000000000000000000000000000000000000000000000000000000000000000000000000000000000000000000000000000000000000000000000000000000000000000000000000000000000000000000000000e+00]]\n"
       ]
      }
     ],
     "prompt_number": 127
    },
    {
     "cell_type": "code",
     "collapsed": false,
     "input": [
      "print np.linalg.norm(np.matrix(test_1).T - test_2)"
     ],
     "language": "python",
     "metadata": {},
     "outputs": [
      {
       "output_type": "stream",
       "stream": "stdout",
       "text": [
        "4.4408920985e-16\n"
       ]
      }
     ],
     "prompt_number": 128
    },
    {
     "cell_type": "code",
     "collapsed": false,
     "input": [],
     "language": "python",
     "metadata": {},
     "outputs": []
    }
   ],
   "metadata": {}
  }
 ]
}