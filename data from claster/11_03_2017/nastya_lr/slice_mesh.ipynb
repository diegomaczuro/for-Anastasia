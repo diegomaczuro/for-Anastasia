{
 "metadata": {
  "name": "",
  "signature": "sha256:584d447ee103b3de209e9cc08dff9a0bcae8e7dbc3c2c1af8980c5bbace6d497"
 },
 "nbformat": 3,
 "nbformat_minor": 0,
 "worksheets": [
  {
   "cells": [
    {
     "cell_type": "code",
     "collapsed": false,
     "input": [
      "from vtk import *\n",
      "import numpy as np\n",
      "import pandas as pd\n",
      "from sklearn.neighbors import KDTree\n",
      "from vtk.util.numpy_support import vtk_to_numpy\n",
      "from tqdm import tqdm\n",
      "import warnings\n",
      "from vtk.util.numpy_support import numpy_to_vtk"
     ],
     "language": "python",
     "metadata": {},
     "outputs": [],
     "prompt_number": 1
    },
    {
     "cell_type": "code",
     "collapsed": false,
     "input": [
      "df=pd.read_csv('slice1.csv', sep=',',header=None)\n",
      "points = df.values[1:]"
     ],
     "language": "python",
     "metadata": {},
     "outputs": [],
     "prompt_number": 2
    },
    {
     "cell_type": "code",
     "collapsed": false,
     "input": [
      "warnings.filterwarnings(\"ignore\")"
     ],
     "language": "python",
     "metadata": {},
     "outputs": [],
     "prompt_number": 3
    },
    {
     "cell_type": "code",
     "collapsed": false,
     "input": [
      "tree = KDTree(points, leaf_size=4, metric='euclidean')\n",
      "dist, ind = tree.query(points[0], k=4)"
     ],
     "language": "python",
     "metadata": {},
     "outputs": [],
     "prompt_number": 4
    },
    {
     "cell_type": "code",
     "collapsed": false,
     "input": [
      "print ind[0], dist"
     ],
     "language": "python",
     "metadata": {},
     "outputs": [
      {
       "output_type": "stream",
       "stream": "stdout",
       "text": [
        "[0 3 7 1] [[ 0.          0.00354401  0.00364005  0.02156687]]\n"
       ]
      }
     ],
     "prompt_number": 5
    },
    {
     "cell_type": "code",
     "collapsed": false,
     "input": [
      "dist, ind = tree.query(points[ind[0][1]], k=3)\n",
      "ind"
     ],
     "language": "python",
     "metadata": {},
     "outputs": [
      {
       "metadata": {},
       "output_type": "pyout",
       "prompt_number": 6,
       "text": [
        "array([[3, 7, 0]])"
       ]
      }
     ],
     "prompt_number": 6
    },
    {
     "cell_type": "code",
     "collapsed": false,
     "input": [
      "file_name = 'slice_mesh2.geo'\n",
      "size_cell = 0.01\n",
      "file_slice_name = 'slice2.vtk'"
     ],
     "language": "python",
     "metadata": {},
     "outputs": [],
     "prompt_number": 7
    },
    {
     "cell_type": "code",
     "collapsed": false,
     "input": [
      "reader = vtk.vtkPolyDataReader()\n",
      "reader.SetFileName(file_slice_name)\n",
      "reader.Update()\n",
      "ug = reader.GetOutput()\n",
      "point = ug.GetPoints()\n",
      "points = vtk_to_numpy(point.GetData())\n",
      "line = ug.GetLines()\n",
      "lines = vtk_to_numpy(line.GetData())\n",
      "print points, lines"
     ],
     "language": "python",
     "metadata": {},
     "outputs": [
      {
       "output_type": "stream",
       "stream": "stdout",
       "text": [
        "[[ 2.39656663  2.83446908  2.10755157]\n",
        " [ 2.39928412  2.83446908  2.10409832]\n",
        " [ 2.40857339  2.83446908  2.0924809 ]\n",
        " ..., \n",
        " [ 6.01419592  2.83446908  6.88357878]\n",
        " [ 5.9711504   2.83446908  6.91949129]\n",
        " [ 5.96799088  2.83446908  6.92203283]] [   2    0    1 ...,    2 2875 2874]\n"
       ]
      }
     ],
     "prompt_number": 8
    },
    {
     "cell_type": "code",
     "collapsed": false,
     "input": [
      "lines2 = lines.reshape(-1, 3) \n",
      "print lines2"
     ],
     "language": "python",
     "metadata": {},
     "outputs": [
      {
       "output_type": "stream",
       "stream": "stdout",
       "text": [
        "[[   2    0    1]\n",
        " [   2    2    3]\n",
        " [   2    3    4]\n",
        " ..., \n",
        " [   2 2858 2860]\n",
        " [   2 2872 2871]\n",
        " [   2 2875 2874]]\n"
       ]
      }
     ],
     "prompt_number": 9
    },
    {
     "cell_type": "code",
     "collapsed": false,
     "input": [
      "line_ = lines2[:,1:]\n",
      "print line_"
     ],
     "language": "python",
     "metadata": {},
     "outputs": [
      {
       "output_type": "stream",
       "stream": "stdout",
       "text": [
        "[[   0    1]\n",
        " [   2    3]\n",
        " [   3    4]\n",
        " ..., \n",
        " [2858 2860]\n",
        " [2872 2871]\n",
        " [2875 2874]]\n"
       ]
      }
     ],
     "prompt_number": 10
    },
    {
     "cell_type": "code",
     "collapsed": false,
     "input": [
      "line_[0:,0:1].ravel()"
     ],
     "language": "python",
     "metadata": {},
     "outputs": [
      {
       "metadata": {},
       "output_type": "pyout",
       "prompt_number": 11,
       "text": [
        "array([   0,    2,    3, ..., 2858, 2872, 2875])"
       ]
      }
     ],
     "prompt_number": 11
    },
    {
     "cell_type": "code",
     "collapsed": false,
     "input": [
      "print len(points), len(line_)"
     ],
     "language": "python",
     "metadata": {},
     "outputs": [
      {
       "output_type": "stream",
       "stream": "stdout",
       "text": [
        "2878 5756\n"
       ]
      }
     ],
     "prompt_number": 12
    },
    {
     "cell_type": "raw",
     "metadata": {},
     "source": []
    },
    {
     "cell_type": "code",
     "collapsed": false,
     "input": [
      "with open(file_name, \"w\") as out_mesh:\n",
      "\n",
      "                str_ =  '''Mesh.CharacteristicLengthFromCurvature = 1;\n",
      "Mesh.Lloyd = 1;\n",
      "Mesh.CharacteristicLengthMin = 3;\n",
      "Mesh.CharacteristicLengthMax = 6;\n",
      "Mesh.Optimize = 1;\n",
      "Mesh.OptimizeNetgen = 1;\n",
      "\n",
      "/*Remeshing using discrete parametrization (0=harmonic_circle, 1=conformal_spectral, 2=rbf, 3=harmonic_plane, 4=convex_circle, 5=convex_plane, 6=harmonic square, 7=conformal_fe*/\n",
      "/*Default value: 4*/\n",
      "Mesh.RemeshParametrization = 7;\n",
      "\n",
      "Mesh.SurfaceFaces = 1;\n",
      "Mesh.CharacteristicLengthFactor = 0.4;\n",
      "Mesh.RemeshAlgorithm = 1;\n",
      "'''\n",
      "                next_index = 0\n",
      "                index = 0\n",
      "                out_mesh.write(str_)\n",
      "                #\u0442\u043e\u0447\u043a\u0438 \u0432\u043d\u0435\u0448\u043d\u0435\u0439 \u043f\u043e\u0432\u0435\u0440\u0445\u043d\u043e\u0441\u0442\u044c\n",
      "                next_ = 0\n",
      "                line_help = line_[0:,0:1].ravel()\n",
      "               \n",
      "                for i in xrange(len(points)): \n",
      "                    point = points[line_[next_][0]]\n",
      "                    str_points = 'Point(' + str(i) + ') = {' + str(point[0]) + ', ' + str(point[1]) + ', ' + str(point[2]) + \\\n",
      "                                     ', ' + str(size_cell) + '};\\n'\n",
      "                    out_mesh.write(str_points)                    \n",
      "                    index += 1\n",
      "                    next_ = np.where(line_help == line_[next_][1])[0][0]\n",
      "                \n",
      "                spline = ''\n",
      "                for i in xrange(len(points)):\n",
      "                    spline = spline + str(i) + ','\n",
      "                \n",
      "                spline = spline + '0'                \n",
      "                out_mesh.write('Spline ('+ str(index)+ ') = {' + spline + '};')\n",
      "                index += 1\n",
      "                out_mesh.write('Line Loop('+str(index)+') = {'+ str(index-1)+'};\\n')\n",
      "                index += 1\n",
      "                out_mesh.write('Plane Surface('+ str(index)+') = {'+ str(index-1) +'};\\n')\n",
      "                index += 1\n",
      "                out_mesh.write('Surface Loop('+ str(index)+') = {'+ str(index-1) +'};\\n')\n",
      "                index += 1\n",
      "                out_mesh.write('Volume('+ str(index)+') = {'+ str(index-1) +'};\\n')"
     ],
     "language": "python",
     "metadata": {},
     "outputs": [],
     "prompt_number": 13
    },
    {
     "cell_type": "code",
     "collapsed": false,
     "input": [
      "with open('example.geo', \"w\") as out_mesh:\n",
      "\n",
      "                str_ =  '''Mesh.CharacteristicLengthFromCurvature = 1;\n",
      "Mesh.Lloyd = 1;\n",
      "Mesh.CharacteristicLengthMin = 3;\n",
      "Mesh.CharacteristicLengthMax = 6;\n",
      "Mesh.Optimize = 1;\n",
      "Mesh.OptimizeNetgen = 1;\n",
      "\n",
      "/*Remeshing using discrete parametrization (0=harmonic_circle, 1=conformal_spectral, 2=rbf, 3=harmonic_plane, 4=convex_circle, 5=convex_plane, 6=harmonic square, 7=conformal_fe*/\n",
      "/*Default value: 4*/\n",
      "Mesh.RemeshParametrization = 7;\n",
      "\n",
      "Mesh.SurfaceFaces = 1;\n",
      "Mesh.CharacteristicLengthFactor = 0.4;\n",
      "Mesh.RemeshAlgorithm = 1;\n",
      "'''\n",
      "                \n",
      "                out_mesh.write('Point(0) = {0,0,0,0.01};\\n')   \n",
      "                out_mesh.write('Point(1) = {0,1,0,0.01};\\n') \n",
      "                out_mesh.write('Point(2) = {0,1,1,0.01};\\n')    \n",
      "                out_mesh.write('Point(3) = {0,0.5,1.5,0.01};\\n') \n",
      "                out_mesh.write('Point(4) = {0,0,1,0.01};\\n')\n",
      "                \n",
      "                \n",
      "                \n",
      "                #out_mesh.write('Line(5) = {0,1};\\n')\n",
      "                #out_mesh.write('Line(6) = {1,2};\\n')\n",
      "                #out_mesh.write('Line(7) = {2,3};\\n')     \n",
      "                #out_mesh.write('Line(8) = {3,4};\\n')\n",
      "                #out_mesh.write('Line(9) = {4,0};\\n') \n",
      "                out_mesh.write('Spline (5) = {0,1,2,3,4,0};')\n",
      "                \n",
      "               \n",
      "                out_mesh.write('Line Loop(6) = {5};\\n')\n",
      "               \n",
      "                \n",
      "               \n",
      "                #out_mesh.write('Ruled Surface(7) = {6};\\n')\n",
      "              \n",
      "                out_mesh.write('Plane Surface(7) = {6};\\n')\n",
      "                \n",
      "                \n",
      "                out_mesh.write('Surface Loop(8) = {7};\\n')\n",
      "                out_mesh.write('Volume(9) = {8};\\n')"
     ],
     "language": "python",
     "metadata": {},
     "outputs": [],
     "prompt_number": 14
    },
    {
     "cell_type": "code",
     "collapsed": false,
     "input": [
      "FILE_MESH = 'slice_mesh2.vtk'\n",
      "reader2 = vtkUnstructuredGridReader()\n",
      "reader2.SetFileName(FILE_MESH)\n",
      "reader2.Update()\n",
      "ug2 = reader2.GetOutput()"
     ],
     "language": "python",
     "metadata": {},
     "outputs": [],
     "prompt_number": 15
    },
    {
     "cell_type": "code",
     "collapsed": false,
     "input": [
      "data = vtk_to_numpy(ug2.GetCells().GetData())\n",
      "data"
     ],
     "language": "python",
     "metadata": {},
     "outputs": [
      {
       "metadata": {},
       "output_type": "pyout",
       "prompt_number": 16,
       "text": [
        "array([    3,   650,   815, ..., 11282, 11313, 11354])"
       ]
      }
     ],
     "prompt_number": 16
    },
    {
     "cell_type": "code",
     "collapsed": false,
     "input": [
      "points2 = ug2.GetPoints()\n",
      "coord_points_data2 = vtk_to_numpy(points2.GetData())\n",
      "coord_points_data2"
     ],
     "language": "python",
     "metadata": {},
     "outputs": [
      {
       "metadata": {},
       "output_type": "pyout",
       "prompt_number": 17,
       "text": [
        "array([[ 2.39657   ,  2.83447   ,  2.10755   ],\n",
        "       [ 2.41836627,  2.83447   ,  2.08019949],\n",
        "       [ 2.44080654,  2.83447   ,  2.05337655],\n",
        "       ..., \n",
        "       [ 4.09603914,  2.83447   ,  1.0492116 ],\n",
        "       [ 3.97081886,  2.83447   ,  1.04549061],\n",
        "       [ 4.04382201,  2.83447   ,  1.04451127]])"
       ]
      }
     ],
     "prompt_number": 17
    },
    {
     "cell_type": "code",
     "collapsed": false,
     "input": [
      "data[0:10]"
     ],
     "language": "python",
     "metadata": {},
     "outputs": [
      {
       "metadata": {},
       "output_type": "pyout",
       "prompt_number": 18,
       "text": [
        "array([  3, 650, 815, 649,   3, 650, 819, 815,   3, 650])"
       ]
      }
     ],
     "prompt_number": 18
    },
    {
     "cell_type": "code",
     "collapsed": false,
     "input": [
      "triangle = []\n",
      "point = []\n",
      "idx = 0\n",
      "\n",
      "while idx < len(data):\n",
      "    if data[idx] == 3:        \n",
      "        triangle.append(data[idx+1:idx+4])\n",
      "    if data[idx] == 1:\n",
      "        point.append(data[idx+1])\n",
      "    idx += data[idx] + 1"
     ],
     "language": "python",
     "metadata": {},
     "outputs": [],
     "prompt_number": 19
    },
    {
     "cell_type": "code",
     "collapsed": false,
     "input": [
      "triangle"
     ],
     "language": "python",
     "metadata": {},
     "outputs": [
      {
       "metadata": {},
       "output_type": "pyout",
       "prompt_number": 20,
       "text": [
        "[array([650, 815, 649]),\n",
        " array([650, 819, 815]),\n",
        " array([650, 651, 819]),\n",
        " array([651, 817, 819]),\n",
        " array([651, 652, 817]),\n",
        " array([649, 816, 648]),\n",
        " array([649, 815, 816]),\n",
        " array([652, 818, 817]),\n",
        " array([652, 653, 818]),\n",
        " array([653, 824, 818]),\n",
        " array([653, 654, 824]),\n",
        " array([654, 821, 824]),\n",
        " array([654, 655, 821]),\n",
        " array([655, 820, 821]),\n",
        " array([655, 656, 820]),\n",
        " array([648, 826, 647]),\n",
        " array([648, 816, 826]),\n",
        " array([656, 822, 820]),\n",
        " array([656, 657, 822]),\n",
        " array([657, 823, 822]),\n",
        " array([657, 658, 823]),\n",
        " array([658, 825, 823]),\n",
        " array([658, 659, 825]),\n",
        " array([815, 828, 816]),\n",
        " array([815, 819, 828]),\n",
        " array([647, 827, 646]),\n",
        " array([647, 826, 827]),\n",
        " array([659, 829, 825]),\n",
        " array([659, 660, 829]),\n",
        " array([816, 837, 826]),\n",
        " array([816, 828, 837]),\n",
        " array([817, 833, 819]),\n",
        " array([817, 830, 833]),\n",
        " array([817, 818, 830]),\n",
        " array([818, 831, 830]),\n",
        " array([818, 824, 831]),\n",
        " array([819, 838, 828]),\n",
        " array([819, 833, 838]),\n",
        " array([820, 834, 821]),\n",
        " array([820, 832, 834]),\n",
        " array([820, 822, 832]),\n",
        " array([660, 836, 829]),\n",
        " array([660, 661, 836]),\n",
        " array([821, 839, 824]),\n",
        " array([821, 834, 839]),\n",
        " array([822, 835, 832]),\n",
        " array([822, 823, 835]),\n",
        " array([823, 840, 835]),\n",
        " array([823, 825, 840]),\n",
        " array([646, 843, 645]),\n",
        " array([646, 844, 843]),\n",
        " array([646, 827, 844]),\n",
        " array([824, 845, 831]),\n",
        " array([824, 839, 845]),\n",
        " array([661, 841, 836]),\n",
        " array([661, 662, 841]),\n",
        " array([825, 842, 840]),\n",
        " array([825, 829, 842]),\n",
        " array([826, 847, 827]),\n",
        " array([826, 837, 847]),\n",
        " array([827, 847, 844]),\n",
        " array([828, 851, 837]),\n",
        " array([828, 838, 851]),\n",
        " array([662, 848, 841]),\n",
        " array([662, 663, 848]),\n",
        " array([829, 857, 842]),\n",
        " array([829, 858, 857]),\n",
        " array([829, 836, 858]),\n",
        " array([830, 852, 833]),\n",
        " array([830, 849, 852]),\n",
        " array([830, 831, 849]),\n",
        " array([831, 845, 849]),\n",
        " array([832, 850, 834]),\n",
        " array([832, 859, 850]),\n",
        " array([832, 835, 859]),\n",
        " array([645, 853, 644]),\n",
        " array([645, 843, 853]),\n",
        " array([833, 855, 838]),\n",
        " array([833, 852, 855]),\n",
        " array([834, 861, 839]),\n",
        " array([834, 850, 861]),\n",
        " array([835, 846, 859]),\n",
        " array([835, 840, 846]),\n",
        " array([836, 856, 858]),\n",
        " array([836, 841, 856]),\n",
        " array([837, 851, 847]),\n",
        " array([838, 855, 851]),\n",
        " array([839, 861, 845]),\n",
        " array([840, 864, 846]),\n",
        " array([840, 842, 864]),\n",
        " array([841, 848, 856]),\n",
        " array([842, 857, 864]),\n",
        " array([271, 854, 270]),\n",
        " array([271, 865, 854]),\n",
        " array([271, 272, 865]),\n",
        " array([272, 860, 865]),\n",
        " array([272, 273, 860]),\n",
        " array([843, 868, 853]),\n",
        " array([843, 844, 868]),\n",
        " array([270, 863, 269]),\n",
        " array([270, 870, 863]),\n",
        " array([270, 854, 870]),\n",
        " array([273, 867, 860]),\n",
        " array([273, 274, 867]),\n",
        " array([663, 874, 848]),\n",
        " array([663, 869, 874]),\n",
        " array([663, 664, 869]),\n",
        " array([844, 862, 868]),\n",
        " array([844, 847, 862]),\n",
        " array([269, 872, 268]),\n",
        " array([269, 863, 872]),\n",
        " array([274, 875, 867]),\n",
        " array([274, 275, 875]),\n",
        " array([644, 884, 643]),\n",
        " array([644, 880, 884]),\n",
        " array([644, 853, 880]),\n",
        " array([845, 877, 849]),\n",
        " array([845, 866, 877]),\n",
        " array([845, 861, 866]),\n",
        " array([846, 871, 859]),\n",
        " array([846, 864, 871]),\n",
        " array([847, 873, 862]),\n",
        " array([847, 851, 873]),\n",
        " array([848, 879, 856]),\n",
        " array([848, 874, 879]),\n",
        " array([849, 876, 852]),\n",
        " array([849, 877, 876]),\n",
        " array([268, 894, 267]),\n",
        " array([268, 872, 894]),\n",
        " array([850, 878, 861]),\n",
        " array([850, 859, 878]),\n",
        " array([851, 886, 873]),\n",
        " array([851, 889, 886]),\n",
        " array([851, 855, 889]),\n",
        " array([852, 881, 855]),\n",
        " array([852, 876, 881]),\n",
        " array([853, 868, 880]),\n",
        " array([854, 865, 870]),\n",
        " array([275, 899, 875]),\n",
        " array([855, 881, 889]),\n",
        " array([856, 888, 858]),\n",
        " array([856, 879, 888]),\n",
        " array([664, 890, 869]),\n",
        " array([664, 665, 890]),\n",
        " array([857, 882, 864]),\n",
        " array([857, 858, 882]),\n",
        " array([267, 883, 266]),\n",
        " array([267, 894, 883]),\n",
        " array([858, 888, 882]),\n",
        " array([859, 906, 878]),\n",
        " array([859, 887, 906]),\n",
        " array([859, 871, 887]),\n",
        " array([860, 885, 865]),\n",
        " array([860, 867, 885]),\n",
        " array([861, 897, 866]),\n",
        " array([861, 900, 897]),\n",
        " array([861, 878, 900]),\n",
        " array([643, 895, 642]),\n",
        " array([643, 884, 895]),\n",
        " array([276, 277, 893]),\n",
        " array([862, 892, 868]),\n",
        " array([862, 896, 892]),\n",
        " array([862, 873, 896]),\n",
        " array([863, 898, 872]),\n",
        " array([863, 870, 898]),\n",
        " array([266, 891, 265]),\n",
        " array([266, 883, 891]),\n",
        " array([864, 910, 871]),\n",
        " array([864, 913, 910]),\n",
        " array([864, 882, 913]),\n",
        " array([865, 905, 870]),\n",
        " array([865, 921, 905]),\n",
        " array([865, 885, 921]),\n",
        " array([866, 897, 877]),\n",
        " array([867, 908, 885]),\n",
        " array([867, 901, 908]),\n",
        " array([867, 875, 901]),\n",
        " array([868, 907, 880]),\n",
        " array([868, 892, 907]),\n",
        " array([869, 912, 874]),\n",
        " array([869, 890, 912]),\n",
        " array([870, 904, 898]),\n",
        " array([870, 905, 904]),\n",
        " array([871, 910, 887]),\n",
        " array([872, 909, 894]),\n",
        " array([872, 898, 909]),\n",
        " array([873, 903, 896]),\n",
        " array([873, 886, 903]),\n",
        " array([874, 920, 879]),\n",
        " array([874, 912, 920]),\n",
        " array([875, 914, 901]),\n",
        " array([875, 899, 914]),\n",
        " array([876, 916, 881]),\n",
        " array([876, 902, 916]),\n",
        " array([876, 877, 902]),\n",
        " array([665, 923, 890]),\n",
        " array([665, 930, 923]),\n",
        " array([665, 666, 930]),\n",
        " array([265, 932, 264]),\n",
        " array([265, 915, 932]),\n",
        " array([265, 891, 915]),\n",
        " array([877, 919, 902]),\n",
        " array([877, 897, 919]),\n",
        " array([878, 929, 900]),\n",
        " array([878, 906, 929]),\n",
        " array([879, 911, 888]),\n",
        " array([879, 920, 911]),\n",
        " array([880, 917, 884]),\n",
        " array([880, 907, 917]),\n",
        " array([881, 927, 889]),\n",
        " array([881, 916, 927]),\n",
        " array([882, 925, 913]),\n",
        " array([882, 888, 925]),\n",
        " array([883, 918, 891]),\n",
        " array([883, 894, 918]),\n",
        " array([884, 922, 895]),\n",
        " array([884, 917, 922]),\n",
        " array([277, 924, 893]),\n",
        " array([277, 934, 924]),\n",
        " array([277, 278, 934]),\n",
        " array([642, 926, 641]),\n",
        " array([642, 895, 926]),\n",
        " array([885, 942, 921]),\n",
        " array([885, 908, 942]),\n",
        " array([886, 938, 903]),\n",
        " array([886, 889, 938]),\n",
        " array([887, 947, 906]),\n",
        " array([887, 910, 947]),\n",
        " array([888, 936, 925]),\n",
        " array([888, 911, 936]),\n",
        " array([889, 927, 938]),\n",
        " array([890, 943, 912]),\n",
        " array([890, 923, 943]),\n",
        " array([891, 918, 915]),\n",
        " array([892, 928, 907]),\n",
        " array([892, 896, 928]),\n",
        " array([893, 924, 899]),\n",
        " array([894, 945, 918]),\n",
        " array([894, 941, 945]),\n",
        " array([894, 909, 941]),\n",
        " array([264, 931, 263]),\n",
        " array([264, 932, 931]),\n",
        " array([895, 922, 926]),\n",
        " array([896, 952, 928]),\n",
        " array([896, 937, 952]),\n",
        " array([896, 903, 937]),\n",
        " array([897, 935, 919]),\n",
        " array([897, 900, 935]),\n",
        " array([898, 939, 909]),\n",
        " array([898, 940, 939]),\n",
        " array([898, 904, 940]),\n",
        " array([899, 954, 914]),\n",
        " array([899, 951, 954]),\n",
        " array([899, 924, 951]),\n",
        " array([900, 929, 935]),\n",
        " array([901, 946, 908]),\n",
        " array([901, 914, 946]),\n",
        " array([902, 933, 916]),\n",
        " array([902, 919, 933]),\n",
        " array([903, 938, 937]),\n",
        " array([904, 944, 940]),\n",
        " array([904, 905, 944]),\n",
        " array([905, 921, 944]),\n",
        " array([906, 957, 929]),\n",
        " array([906, 947, 957]),\n",
        " array([907, 949, 917]),\n",
        " array([907, 928, 949]),\n",
        " array([908, 946, 942]),\n",
        " array([909, 939, 941]),\n",
        " array([910, 950, 947]),\n",
        " array([910, 913, 950]),\n",
        " array([666, 667, 930]),\n",
        " array([911, 948, 936]),\n",
        " array([911, 920, 948]),\n",
        " array([263, 959, 262]),\n",
        " array([263, 931, 959]),\n",
        " array([912, 963, 920]),\n",
        " array([912, 943, 963]),\n",
        " array([278, 974, 934]),\n",
        " array([278, 279, 974]),\n",
        " array([913, 956, 950]),\n",
        " array([913, 925, 956]),\n",
        " array([914, 954, 946]),\n",
        " array([915, 960, 932]),\n",
        " array([915, 955, 960]),\n",
        " array([915, 918, 955]),\n",
        " array([641, 967, 640]),\n",
        " array([641, 926, 967]),\n",
        " array([916, 972, 927]),\n",
        " array([916, 961, 972]),\n",
        " array([916, 933, 961]),\n",
        " array([917, 970, 922]),\n",
        " array([917, 949, 970]),\n",
        " array([918, 945, 955]),\n",
        " array([919, 958, 933]),\n",
        " array([919, 935, 958]),\n",
        " array([920, 964, 948]),\n",
        " array([920, 963, 964]),\n",
        " array([921, 975, 944]),\n",
        " array([921, 942, 975]),\n",
        " array([922, 953, 926]),\n",
        " array([922, 970, 953]),\n",
        " array([923, 966, 943]),\n",
        " array([923, 930, 966]),\n",
        " array([924, 968, 951]),\n",
        " array([924, 934, 968]),\n",
        " array([925, 965, 956]),\n",
        " array([925, 936, 965]),\n",
        " array([926, 953, 967]),\n",
        " array([927, 962, 938]),\n",
        " array([927, 972, 962]),\n",
        " array([928, 976, 949]),\n",
        " array([928, 952, 976]),\n",
        " array([929, 971, 935]),\n",
        " array([929, 957, 971]),\n",
        " array([930, 984, 966]),\n",
        " array([930, 667, 984]),\n",
        " array([262, 973, 261]),\n",
        " array([262, 959, 973]),\n",
        " array([931, 969, 959]),\n",
        " array([931, 932, 969]),\n",
        " array([932, 994, 969]),\n",
        " array([932, 960, 994]),\n",
        " array([933, 986, 961]),\n",
        " array([933, 958, 986]),\n",
        " array([934, 974, 968]),\n",
        " array([935, 983, 958]),\n",
        " array([935, 971, 983]),\n",
        " array([936, 981, 965]),\n",
        " array([936, 948, 981]),\n",
        " array([937, 979, 952]),\n",
        " array([937, 938, 979]),\n",
        " array([ 938, 1002,  979]),\n",
        " array([ 938,  987, 1002]),\n",
        " array([938, 962, 987]),\n",
        " array([939, 988, 941]),\n",
        " array([939, 978, 988]),\n",
        " array([939, 940, 978]),\n",
        " array([940, 991, 978]),\n",
        " array([940, 944, 991]),\n",
        " array([941, 980, 945]),\n",
        " array([941, 988, 980]),\n",
        " array([942, 989, 975]),\n",
        " array([942, 977, 989]),\n",
        " array([942, 946, 977]),\n",
        " array([ 943, 1000,  963]),\n",
        " array([ 943,  966, 1000]),\n",
        " array([944, 975, 991]),\n",
        " array([ 667, 1005,  984]),\n",
        " array([ 667,  668, 1005]),\n",
        " array([945, 982, 955]),\n",
        " array([945, 980, 982]),\n",
        " array([946, 997, 977]),\n",
        " array([946, 993, 997]),\n",
        " array([946, 954, 993]),\n",
        " array([ 947, 1010,  957]),\n",
        " array([ 947,  985, 1010]),\n",
        " array([947, 950, 985]),\n",
        " array([ 948, 1001,  981]),\n",
        " array([ 948,  964, 1001]),\n",
        " array([949, 999, 970]),\n",
        " array([949, 976, 999]),\n",
        " array([950, 990, 985]),\n",
        " array([950, 956, 990]),\n",
        " array([951, 995, 954]),\n",
        " array([951, 968, 995]),\n",
        " array([ 952, 1006,  976]),\n",
        " array([ 952,  979, 1006]),\n",
        " array([279, 280, 974]),\n",
        " array([953, 992, 967]),\n",
        " array([953, 970, 992]),\n",
        " array([954, 995, 993]),\n",
        " array([640, 996, 639]),\n",
        " array([640, 967, 996]),\n",
        " array([ 955, 1011,  960]),\n",
        " array([ 955,  982, 1011]),\n",
        " array([ 261, 1015,  260]),\n",
        " array([ 261,  973, 1015]),\n",
        " array([ 956, 1009,  990]),\n",
        " array([ 956,  965, 1009]),\n",
        " array([ 957, 1003,  971]),\n",
        " array([ 957, 1010, 1003]),\n",
        " array([958, 998, 986]),\n",
        " array([958, 983, 998]),\n",
        " array([ 959, 1007,  973]),\n",
        " array([ 959, 1008, 1007]),\n",
        " array([ 959,  969, 1008]),\n",
        " array([ 960, 1011,  994]),\n",
        " array([ 961, 1014,  972]),\n",
        " array([ 961,  986, 1014]),\n",
        " array([ 962, 1013,  987]),\n",
        " array([ 962,  972, 1013]),\n",
        " array([ 963, 1004,  964]),\n",
        " array([ 963, 1000, 1004]),\n",
        " array([ 964, 1004, 1001]),\n",
        " array([ 965, 1019, 1009]),\n",
        " array([ 965,  981, 1019]),\n",
        " array([ 966, 1029, 1000]),\n",
        " array([ 966,  984, 1029]),\n",
        " array([ 967, 1024,  996]),\n",
        " array([ 967, 1012, 1024]),\n",
        " array([ 967,  992, 1012]),\n",
        " array([ 968, 1020,  995]),\n",
        " array([ 968,  974, 1020]),\n",
        " array([ 969,  994, 1008]),\n",
        " array([ 970, 1031,  992]),\n",
        " array([ 970, 1018, 1031]),\n",
        " array([ 970,  999, 1018]),\n",
        " array([ 971, 1022,  983]),\n",
        " array([ 971, 1003, 1022]),\n",
        " array([ 972, 1033, 1013]),\n",
        " array([ 972, 1014, 1033]),\n",
        " array([ 973, 1007, 1015]),\n",
        " array([ 974, 1027, 1020]),\n",
        " array([ 974,  280, 1027]),\n",
        " array([ 975, 1023,  991]),\n",
        " array([ 975, 1034, 1023]),\n",
        " array([ 975,  989, 1034]),\n",
        " array([ 976, 1030,  999]),\n",
        " array([ 976, 1006, 1030]),\n",
        " array([ 977, 1028,  989]),\n",
        " array([ 977,  997, 1028]),\n",
        " array([ 978, 1037,  988]),\n",
        " array([ 978,  991, 1037]),\n",
        " array([ 979, 1025, 1006]),\n",
        " array([ 979, 1002, 1025]),\n",
        " array([ 980, 1017,  982]),\n",
        " array([ 980, 1016, 1017]),\n",
        " array([ 980,  988, 1016]),\n",
        " array([ 981, 1001, 1019]),\n",
        " array([ 982, 1017, 1011]),\n",
        " array([ 983, 1044,  998]),\n",
        " array([ 983, 1022, 1044]),\n",
        " array([ 984, 1045, 1029]),\n",
        " array([ 984, 1005, 1045]),\n",
        " array([ 985, 1021, 1010]),\n",
        " array([ 985,  990, 1021]),\n",
        " array([ 260, 1058,  259]),\n",
        " array([ 260, 1015, 1058]),\n",
        " array([ 986, 1043, 1014]),\n",
        " array([ 986, 1026, 1043]),\n",
        " array([ 986,  998, 1026]),\n",
        " array([ 987, 1032, 1002]),\n",
        " array([ 987, 1013, 1032]),\n",
        " array([ 988, 1035, 1016]),\n",
        " array([ 988, 1037, 1035]),\n",
        " array([ 668, 1056, 1005]),\n",
        " array([ 668,  669, 1056]),\n",
        " array([ 989, 1028, 1034]),\n",
        " array([ 990, 1040, 1021]),\n",
        " array([ 990, 1009, 1040]),\n",
        " array([ 991, 1065, 1037]),\n",
        " array([ 991, 1023, 1065]),\n",
        " array([ 992, 1053, 1012]),\n",
        " array([ 992, 1031, 1053]),\n",
        " array([ 993, 1041,  997]),\n",
        " array([ 993, 1036, 1041]),\n",
        " array([ 993,  995, 1036]),\n",
        " array([ 994, 1050, 1008]),\n",
        " array([ 994, 1042, 1050]),\n",
        " array([ 994, 1011, 1042]),\n",
        " array([ 995, 1038, 1036]),\n",
        " array([ 995, 1020, 1038]),\n",
        " array([ 996, 1047,  639]),\n",
        " array([ 996, 1024, 1047]),\n",
        " array([ 997, 1041, 1028]),\n",
        " array([ 998, 1044, 1026]),\n",
        " array([ 999, 1049, 1018]),\n",
        " array([ 999, 1030, 1049]),\n",
        " array([1000, 1039, 1004]),\n",
        " array([1000, 1029, 1039]),\n",
        " array([ 639, 1047,  638]),\n",
        " array([1001, 1054, 1019]),\n",
        " array([1001, 1046, 1054]),\n",
        " array([1001, 1004, 1046]),\n",
        " array([1002, 1051, 1025]),\n",
        " array([1002, 1032, 1051]),\n",
        " array([1003, 1057, 1022]),\n",
        " array([1003, 1074, 1057]),\n",
        " array([1003, 1010, 1074]),\n",
        " array([1004, 1039, 1046]),\n",
        " array([1005, 1056, 1045]),\n",
        " array([1006, 1060, 1030]),\n",
        " array([1006, 1025, 1060]),\n",
        " array([1007, 1048, 1015]),\n",
        " array([1007, 1008, 1048]),\n",
        " array([1008, 1050, 1048]),\n",
        " array([ 280, 1063, 1027]),\n",
        " array([ 280,  281, 1063]),\n",
        " array([1009, 1068, 1040]),\n",
        " array([1009, 1019, 1068]),\n",
        " array([1010, 1052, 1074]),\n",
        " array([1010, 1021, 1052]),\n",
        " array([1011, 1055, 1042]),\n",
        " array([1011, 1017, 1055]),\n",
        " array([1012, 1053, 1024]),\n",
        " array([1013, 1059, 1032]),\n",
        " array([1013, 1033, 1059]),\n",
        " array([1014, 1067, 1033]),\n",
        " array([1014, 1043, 1067]),\n",
        " array([1015, 1081, 1058]),\n",
        " array([1015, 1048, 1081]),\n",
        " array([ 259, 1071,  258]),\n",
        " array([ 259, 1058, 1071]),\n",
        " array([1016, 1072, 1017]),\n",
        " array([1016, 1035, 1072]),\n",
        " array([1017, 1072, 1055]),\n",
        " array([1018, 1069, 1031]),\n",
        " array([1018, 1049, 1069]),\n",
        " array([1019, 1070, 1068]),\n",
        " array([1019, 1054, 1070]),\n",
        " array([1020, 1064, 1038]),\n",
        " array([1020, 1062, 1064]),\n",
        " array([1020, 1027, 1062]),\n",
        " array([1021, 1061, 1052]),\n",
        " array([1021, 1040, 1061]),\n",
        " array([1022, 1095, 1044]),\n",
        " array([1022, 1057, 1095]),\n",
        " array([1023, 1075, 1065]),\n",
        " array([1023, 1034, 1075]),\n",
        " array([1024, 1076, 1047]),\n",
        " array([1024, 1053, 1076]),\n",
        " array([1025, 1073, 1060]),\n",
        " array([1025, 1051, 1073]),\n",
        " array([1026, 1066, 1043]),\n",
        " array([1026, 1044, 1066]),\n",
        " array([1027, 1063, 1062]),\n",
        " array([1028, 1079, 1034]),\n",
        " array([1028, 1091, 1079]),\n",
        " array([1028, 1041, 1091]),\n",
        " array([1029, 1089, 1039]),\n",
        " array([1029, 1088, 1089]),\n",
        " array([1029, 1045, 1088]),\n",
        " array([1030, 1078, 1049]),\n",
        " array([1030, 1060, 1078]),\n",
        " array([1031, 1080, 1053]),\n",
        " array([1031, 1069, 1080]),\n",
        " array([1032, 1083, 1051]),\n",
        " array([1032, 1059, 1083]),\n",
        " array([1033, 1092, 1059]),\n",
        " array([1033, 1067, 1092]),\n",
        " array([1034, 1100, 1075]),\n",
        " array([1034, 1079, 1100]),\n",
        " array([1035, 1094, 1072]),\n",
        " array([1035, 1037, 1094]),\n",
        " array([1036, 1082, 1041]),\n",
        " array([1036, 1077, 1082]),\n",
        " array([1036, 1038, 1077]),\n",
        " array([1037, 1105, 1094]),\n",
        " array([1037, 1065, 1105]),\n",
        " array([ 669, 1086, 1056]),\n",
        " array([ 669,  670, 1086]),\n",
        " array([1038, 1064, 1077]),\n",
        " array([1039, 1097, 1046]),\n",
        " array([1039, 1089, 1097]),\n",
        " array([1040, 1096, 1061]),\n",
        " array([1040, 1068, 1096]),\n",
        " array([1041, 1082, 1091]),\n",
        " array([1042, 1085, 1050]),\n",
        " array([1042, 1084, 1085]),\n",
        " array([1042, 1055, 1084]),\n",
        " array([1043, 1101, 1067]),\n",
        " array([1043, 1066, 1101]),\n",
        " array([1044, 1112, 1066]),\n",
        " array([1044, 1095, 1112]),\n",
        " array([1045, 1107, 1088]),\n",
        " array([1045, 1056, 1107]),\n",
        " array([1046, 1090, 1054]),\n",
        " array([1046, 1097, 1090]),\n",
        " array([1047, 1087,  638]),\n",
        " array([1047, 1093, 1087]),\n",
        " array([1047, 1076, 1093]),\n",
        " array([1048, 1108, 1081]),\n",
        " array([1048, 1050, 1108]),\n",
        " array([1049, 1102, 1069]),\n",
        " array([1049, 1078, 1102]),\n",
        " array([1050, 1125, 1108]),\n",
        " array([1050, 1085, 1125]),\n",
        " array([1051, 1104, 1073]),\n",
        " array([1051, 1083, 1104]),\n",
        " array([1052, 1098, 1074]),\n",
        " array([1052, 1061, 1098]),\n",
        " array([1053, 1109, 1076]),\n",
        " array([1053, 1118, 1109]),\n",
        " array([1053, 1080, 1118]),\n",
        " array([ 258, 1128,  257]),\n",
        " array([ 258, 1071, 1128]),\n",
        " array([1054, 1099, 1070]),\n",
        " array([1054, 1090, 1099]),\n",
        " array([ 638, 1087,  637]),\n",
        " array([1055, 1113, 1084]),\n",
        " array([1055, 1072, 1113]),\n",
        " array([1056, 1121, 1107]),\n",
        " array([1056, 1086, 1121]),\n",
        " array([1057, 1103, 1095]),\n",
        " array([1057, 1074, 1103]),\n",
        " array([1058, 1116, 1071]),\n",
        " array([1058, 1119, 1116]),\n",
        " array([1058, 1081, 1119]),\n",
        " array([1059, 1110, 1083]),\n",
        " array([1059, 1092, 1110]),\n",
        " array([1060, 1120, 1078]),\n",
        " array([1060, 1123, 1120]),\n",
        " array([1060, 1073, 1123]),\n",
        " array([1061, 1096, 1098]),\n",
        " array([ 281,  282, 1063]),\n",
        " array([1062, 1111, 1064]),\n",
        " array([1062, 1106, 1111]),\n",
        " array([1062, 1063, 1106]),\n",
        " array([1063,  282, 1106]),\n",
        " array([1064, 1111, 1077]),\n",
        " array([1065, 1122, 1105]),\n",
        " array([1065, 1075, 1122]),\n",
        " array([1066, 1112, 1101]),\n",
        " array([1067, 1114, 1092]),\n",
        " array([1067, 1101, 1114]),\n",
        " array([1068, 1135, 1096]),\n",
        " array([1068, 1115, 1135]),\n",
        " array([1068, 1070, 1115]),\n",
        " array([1069, 1117, 1080]),\n",
        " array([1069, 1102, 1117]),\n",
        " array([1070, 1099, 1115]),\n",
        " array([1071, 1116, 1128]),\n",
        " array([1072, 1130, 1113]),\n",
        " array([1072, 1126, 1130]),\n",
        " array([1072, 1094, 1126]),\n",
        " array([1073, 1104, 1123]),\n",
        " array([1074, 1139, 1103]),\n",
        " array([1074, 1140, 1139]),\n",
        " array([1074, 1098, 1140]),\n",
        " array([1075, 1138, 1122]),\n",
        " array([1075, 1100, 1138]),\n",
        " array([1076, 1127, 1093]),\n",
        " array([1076, 1109, 1127]),\n",
        " array([1077, 1131, 1082]),\n",
        " array([1077, 1111, 1131]),\n",
        " array([1078, 1137, 1102]),\n",
        " array([1078, 1120, 1137]),\n",
        " array([1079, 1134, 1100]),\n",
        " array([1079, 1091, 1134]),\n",
        " array([1080, 1117, 1118]),\n",
        " array([1081, 1133, 1119]),\n",
        " array([1081, 1108, 1133]),\n",
        " array([1082, 1124, 1091]),\n",
        " array([1082, 1131, 1124]),\n",
        " array([1083, 1132, 1104]),\n",
        " array([1083, 1110, 1132]),\n",
        " array([1084, 1129, 1085]),\n",
        " array([1084, 1113, 1129]),\n",
        " array([1085, 1129, 1125]),\n",
        " array([1086, 1141, 1121]),\n",
        " array([1086,  670, 1141]),\n",
        " array([1087, 1136,  637]),\n",
        " array([1087, 1093, 1136]),\n",
        " array([1088, 1147, 1089]),\n",
        " array([1088, 1107, 1147]),\n",
        " array([1089, 1152, 1097]),\n",
        " array([1089, 1147, 1152]),\n",
        " array([ 257, 1155,  256]),\n",
        " array([ 257, 1128, 1155]),\n",
        " array([1090, 1148, 1099]),\n",
        " array([1090, 1145, 1148]),\n",
        " array([1090, 1097, 1145]),\n",
        " array([1091, 1143, 1134]),\n",
        " array([1091, 1124, 1143]),\n",
        " array([1092, 1142, 1110]),\n",
        " array([1092, 1114, 1142]),\n",
        " array([1093, 1127, 1136]),\n",
        " array([1094, 1161, 1126]),\n",
        " array([1094, 1165, 1161]),\n",
        " array([1094, 1105, 1165]),\n",
        " array([ 670,  671, 1141]),\n",
        " array([1095, 1144, 1112]),\n",
        " array([1095, 1150, 1144]),\n",
        " array([1095, 1103, 1150]),\n",
        " array([1096, 1157, 1098]),\n",
        " array([1096, 1135, 1157]),\n",
        " array([1097, 1152, 1145]),\n",
        " array([1098, 1157, 1140]),\n",
        " array([1099, 1148, 1115]),\n",
        " array([1100, 1164, 1138]),\n",
        " array([1100, 1134, 1164]),\n",
        " array([1101, 1159, 1114]),\n",
        " array([1101, 1112, 1159]),\n",
        " array([1102, 1149, 1117]),\n",
        " array([1102, 1137, 1149]),\n",
        " array([1103, 1153, 1150]),\n",
        " array([1103, 1139, 1153]),\n",
        " array([1104, 1146, 1123]),\n",
        " array([1104, 1132, 1146]),\n",
        " array([1105, 1151, 1165]),\n",
        " array([1105, 1122, 1151]),\n",
        " array([1106, 1182, 1111]),\n",
        " array([1106, 1154, 1182]),\n",
        " array([1106,  282, 1154]),\n",
        " array([1107, 1170, 1147]),\n",
        " array([1107, 1121, 1170]),\n",
        " array([1108, 1166, 1133]),\n",
        " array([1108, 1176, 1166]),\n",
        " array([1108, 1125, 1176]),\n",
        " array([1109, 1179, 1127]),\n",
        " array([1109, 1174, 1179]),\n",
        " array([1109, 1118, 1174]),\n",
        " array([1110, 1162, 1132]),\n",
        " array([1110, 1142, 1162]),\n",
        " array([1111, 1169, 1131]),\n",
        " array([1111, 1182, 1169]),\n",
        " array([1112, 1183, 1159]),\n",
        " array([1112, 1144, 1183]),\n",
        " array([1113, 1175, 1129]),\n",
        " array([1113, 1158, 1175]),\n",
        " array([1113, 1130, 1158]),\n",
        " array([1114, 1163, 1142]),\n",
        " array([1114, 1159, 1163]),\n",
        " array([1115, 1178, 1135]),\n",
        " array([1115, 1148, 1178]),\n",
        " array([1116, 1190, 1128]),\n",
        " array([1116, 1156, 1190]),\n",
        " array([1116, 1119, 1156]),\n",
        " array([1117, 1172, 1118]),\n",
        " array([1117, 1149, 1172]),\n",
        " array([1118, 1172, 1174]),\n",
        " array([ 637, 1136,  636]),\n",
        " array([1119, 1171, 1156]),\n",
        " array([1119, 1133, 1171]),\n",
        " array([1120, 1185, 1137]),\n",
        " array([1120, 1160, 1185]),\n",
        " array([1120, 1123, 1160]),\n",
        " array([1121, 1167, 1170]),\n",
        " array([1121, 1141, 1167]),\n",
        " array([1122, 1203, 1151]),\n",
        " array([1122, 1138, 1203]),\n",
        " array([1123, 1187, 1160]),\n",
        " array([1123, 1146, 1187]),\n",
        " array([1124, 1173, 1143]),\n",
        " array([1124, 1131, 1173]),\n",
        " array([1125, 1180, 1176]),\n",
        " array([1125, 1129, 1180]),\n",
        " array([1126, 1186, 1130]),\n",
        " array([1126, 1161, 1186]),\n",
        " array([1127, 1168, 1136]),\n",
        " array([1127, 1179, 1168]),\n",
        " array([1128, 1202, 1155]),\n",
        " array([1128, 1190, 1202]),\n",
        " array([1129, 1175, 1180]),\n",
        " array([ 282,  283, 1154]),\n",
        " array([1130, 1186, 1158]),\n",
        " array([1131, 1177, 1173]),\n",
        " array([1131, 1169, 1177]),\n",
        " array([1132, 1181, 1146]),\n",
        " array([1132, 1162, 1181]),\n",
        " array([ 256, 1184,  255]),\n",
        " array([ 256, 1155, 1184]),\n",
        " array([1133, 1166, 1171]),\n",
        " array([1134, 1199, 1164]),\n",
        " array([1134, 1194, 1199]),\n",
        " array([1134, 1143, 1194]),\n",
        " array([1135, 1197, 1157]),\n",
        " array([1135, 1178, 1197]),\n",
        " array([1136, 1188,  636]),\n",
        " array([1136, 1168, 1188]),\n",
        " array([1137, 1189, 1149]),\n",
        " array([1137, 1185, 1189]),\n",
        " array([1138, 1192, 1203]),\n",
        " array([1138, 1164, 1192]),\n",
        " array([1139, 1193, 1153]),\n",
        " array([1139, 1140, 1193]),\n",
        " array([1140, 1206, 1193]),\n",
        " array([1140, 1157, 1206]),\n",
        " array([1141, 1208, 1167]),\n",
        " array([1141,  671, 1208]),\n",
        " array([1142, 1210, 1162]),\n",
        " array([1142, 1163, 1210]),\n",
        " array([1143, 1173, 1194]),\n",
        " array([1144, 1212, 1183]),\n",
        " array([1144, 1150, 1212]),\n",
        " array([1145, 1198, 1148]),\n",
        " array([1145, 1191, 1198]),\n",
        " array([1145, 1152, 1191]),\n",
        " array([1146, 1181, 1187]),\n",
        " array([1147, 1218, 1152]),\n",
        " array([1147, 1227, 1218]),\n",
        " array([1147, 1170, 1227]),\n",
        " array([1148, 1213, 1178]),\n",
        " array([1148, 1198, 1213]),\n",
        " array([1149, 1205, 1172]),\n",
        " array([1149, 1189, 1205]),\n",
        " array([1150, 1209, 1212]),\n",
        " array([1150, 1153, 1209]),\n",
        " array([1151, 1195, 1165]),\n",
        " array([1151, 1203, 1195]),\n",
        " array([1152, 1218, 1191]),\n",
        " array([ 671,  672, 1208]),\n",
        " array([1153, 1193, 1209]),\n",
        " array([1154, 1200, 1182]),\n",
        " array([1154,  283, 1200]),\n",
        " array([1155, 1221, 1184]),\n",
        " array([1155, 1202, 1221]),\n",
        " array([1156, 1196, 1190]),\n",
        " array([1156, 1171, 1196]),\n",
        " array([1157, 1234, 1206]),\n",
        " array([1157, 1197, 1234]),\n",
        " array([1158, 1215, 1175]),\n",
        " array([1158, 1186, 1215]),\n",
        " array([1159, 1204, 1163]),\n",
        " array([1159, 1236, 1204]),\n",
        " array([1159, 1183, 1236]),\n",
        " array([1160, 1201, 1185]),\n",
        " array([1160, 1187, 1201]),\n",
        " array([1161, 1207, 1186]),\n",
        " array([1161, 1165, 1207]),\n",
        " array([1162, 1216, 1181]),\n",
        " array([1162, 1210, 1216]),\n",
        " array([1163, 1204, 1210]),\n",
        " array([1164, 1225, 1192]),\n",
        " array([1164, 1199, 1225]),\n",
        " array([1165, 1232, 1207]),\n",
        " array([1165, 1195, 1232]),\n",
        " array([1166, 1214, 1171]),\n",
        " array([1166, 1223, 1214]),\n",
        " array([1166, 1176, 1223]),\n",
        " array([1167, 1217, 1170]),\n",
        " array([1167, 1208, 1217]),\n",
        " array([1168, 1231, 1188]),\n",
        " array([1168, 1179, 1231]),\n",
        " array([1169, 1220, 1177]),\n",
        " array([1169, 1211, 1220]),\n",
        " array([1169, 1182, 1211]),\n",
        " array([1170, 1224, 1227]),\n",
        " array([1170, 1217, 1224]),\n",
        " array([1171, 1214, 1196]),\n",
        " array([1172, 1222, 1174]),\n",
        " array([1172, 1205, 1222]),\n",
        " array([1173, 1219, 1194]),\n",
        " array([1173, 1177, 1219]),\n",
        " array([1174, 1230, 1179]),\n",
        " array([1174, 1222, 1230]),\n",
        " array([ 255, 1228,  254]),\n",
        " array([ 255, 1184, 1228]),\n",
        " array([1175, 1238, 1180]),\n",
        " array([1175, 1215, 1238]),\n",
        " array([1176, 1226, 1223]),\n",
        " array([1176, 1180, 1226]),\n",
        " array([1177, 1220, 1219]),\n",
        " array([1178, 1235, 1197]),\n",
        " array([1178, 1213, 1235]),\n",
        " array([ 636, 1188,  635]),\n",
        " array([1179, 1230, 1231]),\n",
        " array([1180, 1238, 1226]),\n",
        " array([1181, 1237, 1187]),\n",
        " array([1181, 1216, 1237]),\n",
        " array([1182, 1243, 1211]),\n",
        " array([1182, 1249, 1243]),\n",
        " array([1182, 1200, 1249]),\n",
        " array([1183, 1233, 1236]),\n",
        " array([1183, 1212, 1233]),\n",
        " array([1184, 1221, 1228]),\n",
        " array([1185, 1229, 1189]),\n",
        " array([1185, 1247, 1229]),\n",
        " array([1185, 1201, 1247]),\n",
        " array([1186, 1246, 1215]),\n",
        " array([1186, 1239, 1246]),\n",
        " array([1186, 1207, 1239]),\n",
        " array([1187, 1257, 1201]),\n",
        " array([1187, 1237, 1257]),\n",
        " array([1188, 1231,  635]),\n",
        " array([1189, 1240, 1205]),\n",
        " array([1189, 1229, 1240]),\n",
        " array([ 283,  284, 1200]),\n",
        " array([1190, 1248, 1202]),\n",
        " array([1190, 1256, 1248]),\n",
        " array([1190, 1242, 1256]),\n",
        " array([1190, 1196, 1242]),\n",
        " array([1191, 1241, 1198]),\n",
        " array([1191, 1218, 1241]),\n",
        " array([1192, 1261, 1203]),\n",
        " array([1192, 1225, 1261]),\n",
        " array([1193, 1253, 1209]),\n",
        " array([1193, 1274, 1253]),\n",
        " array([1193, 1206, 1274]),\n",
        " array([1194, 1254, 1199]),\n",
        " array([1194, 1262, 1254]),\n",
        " array([1194, 1219, 1262]),\n",
        " array([1195, 1245, 1232]),\n",
        " array([1195, 1203, 1245]),\n",
        " array([1196, 1265, 1242]),\n",
        " array([1196, 1214, 1265]),\n",
        " array([1197, 1251, 1234]),\n",
        " array([1197, 1235, 1251]),\n",
        " array([1198, 1263, 1213]),\n",
        " array([1198, 1241, 1263]),\n",
        " array([1199, 1250, 1225]),\n",
        " array([1199, 1254, 1250]),\n",
        " array([1200,  284, 1249]),\n",
        " array([1201, 1257, 1247]),\n",
        " array([1202, 1273, 1221]),\n",
        " array([1202, 1248, 1273]),\n",
        " array([1203, 1285, 1245]),\n",
        " array([1203, 1261, 1285]),\n",
        " array([1204, 1244, 1210]),\n",
        " array([1204, 1236, 1244]),\n",
        " array([1205, 1272, 1222]),\n",
        " array([1205, 1240, 1272]),\n",
        " array([1206, 1260, 1274]),\n",
        " array([1206, 1234, 1260]),\n",
        " array([1207, 1279, 1239]),\n",
        " array([1207, 1232, 1279]),\n",
        " array([1208, 1252, 1217]),\n",
        " array([1208, 1281, 1252]),\n",
        " array([1208, 1259, 1281]),\n",
        " array([1208,  672, 1259]),\n",
        " array([1209, 1287, 1212]),\n",
        " array([1209, 1253, 1287]),\n",
        " array([1210, 1255, 1216]),\n",
        " array([1210, 1289, 1255]),\n",
        " array([1210, 1244, 1289]),\n",
        " array([1211, 1258, 1220]),\n",
        " array([1211, 1243, 1258]),\n",
        " array([1212, 1280, 1233]),\n",
        " array([1212, 1287, 1280]),\n",
        " array([1213, 1268, 1235]),\n",
        " array([1213, 1263, 1268]),\n",
        " array([1214, 1271, 1265]),\n",
        " array([1214, 1223, 1271]),\n",
        " array([1215, 1278, 1238]),\n",
        " array([1215, 1246, 1278]),\n",
        " array([1216, 1266, 1237]),\n",
        " array([1216, 1255, 1266]),\n",
        " array([ 672,  673, 1259]),\n",
        " array([1217, 1269, 1224]),\n",
        " array([1217, 1252, 1269]),\n",
        " array([1218, 1264, 1241]),\n",
        " array([1218, 1286, 1264]),\n",
        " array([1218, 1227, 1286]),\n",
        " array([1219, 1270, 1262]),\n",
        " array([1219, 1220, 1270]),\n",
        " array([ 254, 1288,  253]),\n",
        " array([ 254, 1282, 1288]),\n",
        " array([ 254, 1228, 1282]),\n",
        " array([1220, 1258, 1270]),\n",
        " array([1221, 1276, 1228]),\n",
        " array([1221, 1273, 1276]),\n",
        " array([1222, 1275, 1230]),\n",
        " array([1222, 1272, 1275]),\n",
        " array([1223, 1277, 1271]),\n",
        " array([1223, 1226, 1277]),\n",
        " array([1224, 1269, 1227]),\n",
        " array([1225, 1250, 1261]),\n",
        " array([1226, 1284, 1277]),\n",
        " array([1226, 1238, 1284]),\n",
        " array([1227, 1310, 1286]),\n",
        " array([1227, 1269, 1310]),\n",
        " array([1228, 1276, 1282]),\n",
        " array([1229, 1267, 1240]),\n",
        " array([1229, 1247, 1267]),\n",
        " array([1230, 1296, 1231]),\n",
        " array([1230, 1275, 1296]),\n",
        " array([1231,  634,  635]),\n",
        " array([1231, 1296,  634]),\n",
        " array([1232, 1302, 1279]),\n",
        " array([1232, 1245, 1302]),\n",
        " array([1233, 1280, 1236]),\n",
        " array([1234, 1291, 1260]),\n",
        " array([1234, 1251, 1291]),\n",
        " array([1235, 1283, 1251]),\n",
        " array([1235, 1268, 1283]),\n",
        " array([1236, 1301, 1244]),\n",
        " array([1236, 1280, 1301]),\n",
        " array([1237, 1298, 1257]),\n",
        " array([1237, 1266, 1298]),\n",
        " array([1238, 1309, 1284]),\n",
        " array([1238, 1278, 1309]),\n",
        " array([1239, 1290, 1246]),\n",
        " array([1239, 1279, 1290]),\n",
        " array([1240, 1292, 1272]),\n",
        " array([1240, 1267, 1292]),\n",
        " array([ 284,  285, 1249]),\n",
        " array([1241, 1293, 1263]),\n",
        " array([1241, 1304, 1293]),\n",
        " array([1241, 1264, 1304]),\n",
        " array([1242, 1299, 1256]),\n",
        " array([1242, 1265, 1299]),\n",
        " array([1243, 1294, 1258]),\n",
        " array([1243, 1249, 1294]),\n",
        " array([1244, 1328, 1289]),\n",
        " array([1244, 1301, 1328]),\n",
        " array([1245, 1285, 1302]),\n",
        " array([1246, 1308, 1278]),\n",
        " array([1246, 1290, 1308]),\n",
        " array([1247, 1305, 1267]),\n",
        " array([1247, 1295, 1305]),\n",
        " array([1247, 1257, 1295]),\n",
        " array([1248, 1306, 1273]),\n",
        " array([1248, 1256, 1306]),\n",
        " array([1249,  285, 1294]),\n",
        " array([1250, 1307, 1261]),\n",
        " array([1250, 1254, 1307]),\n",
        " array([1251, 1313, 1291]),\n",
        " array([1251, 1283, 1313]),\n",
        " array([1252, 1303, 1269]),\n",
        " ...]"
       ]
      }
     ],
     "prompt_number": 20
    },
    {
     "cell_type": "code",
     "collapsed": false,
     "input": [
      "print len(point), len(coord_points_data2), len(triangle)"
     ],
     "language": "python",
     "metadata": {},
     "outputs": [
      {
       "output_type": "stream",
       "stream": "stdout",
       "text": [
        "0 11612 22407\n"
       ]
      }
     ],
     "prompt_number": 21
    },
    {
     "cell_type": "code",
     "collapsed": false,
     "input": [
      " "
     ],
     "language": "python",
     "metadata": {},
     "outputs": [],
     "prompt_number": 21
    },
    {
     "cell_type": "code",
     "collapsed": false,
     "input": [
      "file_data = './full_vector_field.vtk'"
     ],
     "language": "python",
     "metadata": {},
     "outputs": [],
     "prompt_number": 22
    },
    {
     "cell_type": "code",
     "collapsed": false,
     "input": [
      "reader3 = vtkUnstructuredGridReader()\n",
      "reader3.SetFileName(file_data)\n",
      "reader3.Update()\n",
      "ug3 = reader3.GetOutput()\n",
      "points3 = ug3.GetPoints()\n",
      "coords_vectors_data3 = vtk_to_numpy(ug3.GetPointData().GetArray('DTMRIFiberOrientation'))\n",
      "coord_points_data3 = vtk_to_numpy(points3.GetData())\n",
      "#\u043f\u043e\u0441\u0442\u0440\u043e\u0435\u043d\u0438\u0435 \u0434\u0435\u0440\u0435\u0432\u0430\n",
      "tree = KDTree(coord_points_data3, leaf_size=5, metric='euclidean')"
     ],
     "language": "python",
     "metadata": {},
     "outputs": [],
     "prompt_number": 23
    },
    {
     "cell_type": "raw",
     "metadata": {},
     "source": []
    },
    {
     "cell_type": "code",
     "collapsed": false,
     "input": [
      "index_for_plane = triangle[0]\n",
      "index_for_plane"
     ],
     "language": "python",
     "metadata": {},
     "outputs": [
      {
       "metadata": {},
       "output_type": "pyout",
       "prompt_number": 24,
       "text": [
        "array([650, 815, 649])"
       ]
      }
     ],
     "prompt_number": 24
    },
    {
     "cell_type": "code",
     "collapsed": false,
     "input": [
      "point_for_plane = np.array([coord_points_data2[index_for_plane[0]], coord_points_data2[index_for_plane[1]], \n",
      "                            coord_points_data2[index_for_plane[2]]])\n",
      "point_for_plane"
     ],
     "language": "python",
     "metadata": {},
     "outputs": [
      {
       "metadata": {},
       "output_type": "pyout",
       "prompt_number": 25,
       "text": [
        "array([[ 2.52730968,  2.83447   ,  7.19265632],\n",
        "       [ 2.54492846,  2.83447   ,  7.16861774],\n",
        "       [ 2.5621747 ,  2.83447   ,  7.19120307]])"
       ]
      }
     ],
     "prompt_number": 25
    },
    {
     "cell_type": "code",
     "collapsed": false,
     "input": [
      "plane = vtkPlane()"
     ],
     "language": "python",
     "metadata": {},
     "outputs": [],
     "prompt_number": 26
    },
    {
     "cell_type": "code",
     "collapsed": false,
     "input": [],
     "language": "python",
     "metadata": {},
     "outputs": [],
     "prompt_number": 26
    },
    {
     "cell_type": "code",
     "collapsed": false,
     "input": [
      "vector1 = point_for_plane[1] - point_for_plane[0]\n",
      "vector2 = point_for_plane[2] - point_for_plane[0]\n",
      "print vector1, vector2"
     ],
     "language": "python",
     "metadata": {},
     "outputs": [
      {
       "output_type": "stream",
       "stream": "stdout",
       "text": [
        "[ 0.01761878  0.         -0.02403858] [  3.48650235e-02  -8.88178420e-16  -1.45324431e-03]\n"
       ]
      }
     ],
     "prompt_number": 27
    },
    {
     "cell_type": "code",
     "collapsed": false,
     "input": [
      "normal_ = np.cross(vector1, vector2)\n",
      "normal_"
     ],
     "language": "python",
     "metadata": {},
     "outputs": [
      {
       "metadata": {},
       "output_type": "pyout",
       "prompt_number": 28,
       "text": [
        "array([ -2.13505465e-17,  -8.12501203e-04,  -1.56486208e-17])"
       ]
      }
     ],
     "prompt_number": 28
    },
    {
     "cell_type": "code",
     "collapsed": false,
     "input": [
      "normal = normal_/np.linalg.norm(normal_)\n",
      "normal"
     ],
     "language": "python",
     "metadata": {},
     "outputs": [
      {
       "metadata": {},
       "output_type": "pyout",
       "prompt_number": 29,
       "text": [
        "array([ -2.62775567e-14,  -1.00000000e+00,  -1.92598124e-14])"
       ]
      }
     ],
     "prompt_number": 29
    },
    {
     "cell_type": "code",
     "collapsed": false,
     "input": [
      "plane.SetOrigin(coord_points_data2[0])\n",
      "plane.SetNormal(normal)"
     ],
     "language": "python",
     "metadata": {},
     "outputs": [],
     "prompt_number": 30
    },
    {
     "cell_type": "code",
     "collapsed": false,
     "input": [
      "n = np.zeros((3))\n",
      "plane.ProjectVector([3,3,3],n)\n",
      "print n"
     ],
     "language": "python",
     "metadata": {},
     "outputs": [
      {
       "output_type": "stream",
       "stream": "stdout",
       "text": [
        "[  3.00000000e+00  -1.36779477e-13   3.00000000e+00]\n"
       ]
      }
     ],
     "prompt_number": 31
    },
    {
     "cell_type": "code",
     "collapsed": false,
     "input": [
      "plane.ProjectVector?"
     ],
     "language": "python",
     "metadata": {},
     "outputs": [],
     "prompt_number": 32
    },
    {
     "cell_type": "code",
     "collapsed": false,
     "input": [
      "vectors_array = np.zeros((len(coord_points_data2), 3))\n"
     ],
     "language": "python",
     "metadata": {},
     "outputs": [],
     "prompt_number": 33
    },
    {
     "cell_type": "code",
     "collapsed": false,
     "input": [
      "dist, ind = tree.query(coord_points_data2, k=1)\n",
      "#for i in xrange(len(coord_points_data2)):\n",
      "    #dist, ind = tree.query(coord_points_data2[i], k=1)\n",
      "ind\n"
     ],
     "language": "python",
     "metadata": {},
     "outputs": [
      {
       "metadata": {},
       "output_type": "pyout",
       "prompt_number": 34,
       "text": [
        "array([[336366],\n",
        "       [345034],\n",
        "       [345034],\n",
        "       ..., \n",
        "       [801594],\n",
        "       [765997],\n",
        "       [787711]])"
       ]
      }
     ],
     "prompt_number": 34
    },
    {
     "cell_type": "code",
     "collapsed": false,
     "input": [
      "coord_points_data2"
     ],
     "language": "python",
     "metadata": {},
     "outputs": [
      {
       "metadata": {},
       "output_type": "pyout",
       "prompt_number": 35,
       "text": [
        "array([[ 2.39657   ,  2.83447   ,  2.10755   ],\n",
        "       [ 2.41836627,  2.83447   ,  2.08019949],\n",
        "       [ 2.44080654,  2.83447   ,  2.05337655],\n",
        "       ..., \n",
        "       [ 4.09603914,  2.83447   ,  1.0492116 ],\n",
        "       [ 3.97081886,  2.83447   ,  1.04549061],\n",
        "       [ 4.04382201,  2.83447   ,  1.04451127]])"
       ]
      }
     ],
     "prompt_number": 35
    },
    {
     "cell_type": "code",
     "collapsed": false,
     "input": [
      "for i in tqdm(xrange(len(coord_points_data2))):    \n",
      "    #p1 = coord_points_data2[i]\n",
      "    #p2 = coord_points_data2[i] + coords_vectors_data3[i]\n",
      "    \n",
      "    \n",
      "    n = np.zeros((3))    \n",
      "    index = ind[i][0]\n",
      "    plane.ProjectVector(coords_vectors_data3[index],n)\n",
      "    vectors_array[i] = n / np.linalg.norm(n) # + coords_vectors_data3[index][0]#n[0]\n",
      "    #vectors_array[i][1] = n[1]+ coords_vectors_data3[index][1]#n[1]\n",
      "    #vectors_array[i][2] = n[2]+ coords_vectors_data3[index][2]#n[2]\n",
      "n"
     ],
     "language": "python",
     "metadata": {},
     "outputs": [
      {
       "output_type": "stream",
       "stream": "stderr",
       "text": [
        "\r",
        "  0%|          | 0/11612 [00:00<?, ?it/s]"
       ]
      },
      {
       "output_type": "stream",
       "stream": "stderr",
       "text": [
        "\r",
        " 20%|\u2588\u2589        | 2309/11612 [00:00<00:00, 23080.56it/s]"
       ]
      },
      {
       "output_type": "stream",
       "stream": "stderr",
       "text": [
        "\r",
        " 41%|\u2588\u2588\u2588\u2588      | 4770/11612 [00:00<00:00, 23518.57it/s]"
       ]
      },
      {
       "output_type": "stream",
       "stream": "stderr",
       "text": [
        "\r",
        " 65%|\u2588\u2588\u2588\u2588\u2588\u2588\u258d   | 7504/11612 [00:00<00:00, 24547.32it/s]"
       ]
      },
      {
       "output_type": "stream",
       "stream": "stderr",
       "text": [
        "\r",
        " 88%|\u2588\u2588\u2588\u2588\u2588\u2588\u2588\u2588\u258a | 10235/11612 [00:00<00:00, 25313.27it/s]"
       ]
      },
      {
       "output_type": "stream",
       "stream": "stderr",
       "text": [
        "\r",
        "100%|\u2588\u2588\u2588\u2588\u2588\u2588\u2588\u2588\u2588\u2588| 11612/11612 [00:00<00:00, 25777.36it/s]"
       ]
      },
      {
       "output_type": "stream",
       "stream": "stderr",
       "text": [
        "\n"
       ]
      },
      {
       "metadata": {},
       "output_type": "pyout",
       "prompt_number": 36,
       "text": [
        "array([ -8.06487024e-01,   2.38697950e-14,  -1.36996269e-01])"
       ]
      }
     ],
     "prompt_number": 36
    },
    {
     "cell_type": "code",
     "collapsed": false,
     "input": [
      "np.linalg.norm(vectors_array[0])"
     ],
     "language": "python",
     "metadata": {},
     "outputs": [
      {
       "metadata": {},
       "output_type": "pyout",
       "prompt_number": 37,
       "text": [
        "0.99999999999999989"
       ]
      }
     ],
     "prompt_number": 37
    },
    {
     "cell_type": "code",
     "collapsed": false,
     "input": [
      "vectors_array"
     ],
     "language": "python",
     "metadata": {},
     "outputs": [
      {
       "metadata": {},
       "output_type": "pyout",
       "prompt_number": 38,
       "text": [
        "array([[ -9.99996048e-01,   2.63439270e-14,  -2.81129618e-03],\n",
        "       [ -9.07221850e-01,   1.57374514e-14,   4.20652486e-01],\n",
        "       [ -9.07221850e-01,   1.57374514e-14,   4.20652486e-01],\n",
        "       ..., \n",
        "       [ -9.90221391e-01,   2.87047253e-14,  -1.39504830e-01],\n",
        "       [ -9.98614738e-01,   2.51406771e-14,   5.26175300e-02],\n",
        "       [ -9.85877354e-01,   2.91792548e-14,  -1.67468931e-01]])"
       ]
      }
     ],
     "prompt_number": 38
    },
    {
     "cell_type": "code",
     "collapsed": false,
     "input": [],
     "language": "python",
     "metadata": {},
     "outputs": [],
     "prompt_number": 38
    },
    {
     "cell_type": "code",
     "collapsed": false,
     "input": [
      "#\u043f\u043e\u043c\u0435\u0447\u0435\u043d\u043d\u044b\u0435 \u0442\u043e\u0447\u043a\u0438, \u043c\u0435\u0436\u0434\u0443 \u043a\u043e\u0442\u043e\u0440\u044b\u043c\u0438 \u0438\u0449\u0435\u0442\u0441\u044f \u044d\u043f\u0438\u043a\u0430\u0440\u0434 \u0438 \u044d\u043d\u0434\u043e\u043a\u0430\u0440\u0434, \u0432\u044b\u0441\u0442\u0430\u0432\u043b\u044f\u044e\u0442\u0441\u044f \u0432\u0440\u0443\u0447\u043d\u0443\u044e\n",
      "top_point_left = 910 \n",
      "top_point_right = 2509\n",
      "point_bottom = 1983"
     ],
     "language": "python",
     "metadata": {},
     "outputs": [],
     "prompt_number": 39
    },
    {
     "cell_type": "code",
     "collapsed": false,
     "input": [
      "line_endocard = []\n",
      "next_ = top_point_left\n",
      "\n",
      "print np.where(line_help == next_)[0][1]\n",
      "print line_[np.where(line_help == next_)[0][0]][1]\n",
      "while next_ != top_point_right:   \n",
      "    next_ = line_[np.where(line_help == next_)[0][0]][1]\n",
      "    if not(next_ in line_endocard):\n",
      "        line_endocard.append(next_)\n",
      "    \n",
      "if not(point_bottom in line_endocard):    \n",
      "    line_endocard = []\n",
      "    next_ = top_point_left\n",
      "    while next_ != top_point_right:   \n",
      "        next_ = line_[np.where(line_help == next_)[0][1]][1]\n",
      "        if not(next_ in line_endocard):\n",
      "            line_endocard.append(next_)"
     ],
     "language": "python",
     "metadata": {},
     "outputs": [
      {
       "output_type": "stream",
       "stream": "stdout",
       "text": [
        "3965\n",
        "911\n"
       ]
      }
     ],
     "prompt_number": 40
    },
    {
     "cell_type": "code",
     "collapsed": false,
     "input": [
      "one_color_point = np.array([3.49237, 2.83447,1.45025])#\u0430\u043a\u0442\u0438\u0432\u0430\u0446\u0438\u044f \u043e\u0434\u043d\u043e\u0439 \u0442\u043e\u0447\u043a\u0438\n",
      "colorize_points = np.zeros(len(coord_points_data2))\n",
      "tree2 = KDTree(coord_points_data2, leaf_size=5, metric='euclidean')"
     ],
     "language": "python",
     "metadata": {},
     "outputs": [],
     "prompt_number": 41
    },
    {
     "cell_type": "code",
     "collapsed": false,
     "input": [
      "#\u0430\u043a\u0442\u0438\u0432\u0430\u0446\u0438\u044f \u044d\u043d\u0434\u043e\u043a\u0430\u0440\u0434\u0430\n",
      "#for i in xrange(len(line_endocard)):\n",
      "#    dist, ind = tree2.query([points[line_endocard[i]][0],points[line_endocard[i]][1], points[line_endocard[i]][2]], k=1)\n",
      "#    colorize_points[ind[0][0]] = 1"
     ],
     "language": "python",
     "metadata": {},
     "outputs": [],
     "prompt_number": 42
    },
    {
     "cell_type": "code",
     "collapsed": false,
     "input": [
      "#\u0430\u043a\u0442\u0438\u0432\u0430\u0446\u0438\u044f \u043e\u0434\u043d\u043e\u0439 \u0442\u043e\u0447\u043a\u0438\n",
      "\n",
      "dist, ind = tree2.query([one_color_point[0], one_color_point[1], one_color_point[2]], k=1)\n",
      "colorize_points[ind[0][0]] = 1"
     ],
     "language": "python",
     "metadata": {},
     "outputs": [],
     "prompt_number": 43
    },
    {
     "cell_type": "code",
     "collapsed": false,
     "input": [
      "color_points_vtk = numpy_to_vtk(colorize_points, deep=True, array_type=vtk.VTK_FLOAT)\n",
      "color_points_vtk.SetName('Color')\n",
      "ug2.GetPointData().AddArray(color_points_vtk)"
     ],
     "language": "python",
     "metadata": {},
     "outputs": [
      {
       "metadata": {},
       "output_type": "pyout",
       "prompt_number": 44,
       "text": [
        "0"
       ]
      }
     ],
     "prompt_number": 44
    },
    {
     "cell_type": "code",
     "collapsed": false,
     "input": [
      "vectors_array[0]\n"
     ],
     "language": "python",
     "metadata": {},
     "outputs": [
      {
       "metadata": {},
       "output_type": "pyout",
       "prompt_number": 45,
       "text": [
        "array([ -9.99996048e-01,   2.63439270e-14,  -2.81129618e-03])"
       ]
      }
     ],
     "prompt_number": 45
    },
    {
     "cell_type": "code",
     "collapsed": false,
     "input": [
      "vectors = numpy_to_vtk(vectors_array, deep=True, array_type=vtk.VTK_FLOAT)\n",
      "vectors.SetName('Fibers')\n",
      "ug2.GetPointData().AddArray(vectors)\n",
      "writer = vtk.vtkXMLUnstructuredGridWriter() # vtu\n",
      "\n",
      "writer.SetFileName(\"slice_mesh_with_fibers3.vtu\")\n",
      "writer.SetInputData(ug2)\n",
      "writer.Write()\n"
     ],
     "language": "python",
     "metadata": {},
     "outputs": [
      {
       "metadata": {},
       "output_type": "pyout",
       "prompt_number": 46,
       "text": [
        "1"
       ]
      }
     ],
     "prompt_number": 46
    },
    {
     "cell_type": "code",
     "collapsed": false,
     "input": [],
     "language": "python",
     "metadata": {},
     "outputs": [],
     "prompt_number": 46
    },
    {
     "cell_type": "code",
     "collapsed": false,
     "input": [
      "#v1_ = np.array([2.28347667396881-5.58169581892151, 2.83265672608904-2.82664284301487, 7.08886982240976-6.9975506830187])\n",
      "#v2_ = np.array([3.91766281660601-3.70967378255743, 2.83037072070481-2.82926307653237, 7.04590624201808-1.07629833359958])\n",
      "#v1 = v1_/np.linalg.norm(v1_)\n",
      "#v2 = v2_/np.linalg.norm(v2_)\n",
      "#v3 = np.cross(v1, v2)\n",
      "#v1 = np.cross(v2, v3)\n",
      "#v2 = np.cross(v1, v3)\n"
     ],
     "language": "python",
     "metadata": {},
     "outputs": [],
     "prompt_number": 47
    },
    {
     "cell_type": "code",
     "collapsed": false,
     "input": [
      "#transition_matrix_ = np.matrix([[v1[0], v2[0], v3[0]], [v1[1], v2[1], v3[1]], [v1[2], v2[2], v3[2]]])\n",
      "#transition_matrix = np.linalg.inv(transition_matrix_)\n",
      "#print 'L^(-1) = ', transition_matrix_\n",
      "#print 'L = ', transition_matrix"
     ],
     "language": "python",
     "metadata": {},
     "outputs": [],
     "prompt_number": 48
    },
    {
     "cell_type": "code",
     "collapsed": false,
     "input": [
      "v3 = np.cross(vector1, vector2)\n",
      "v1 = np.cross(v2, v3)\n",
      "v1 = v1/np.linalg.norm(v1)\n",
      "v2 = v2/np.linalg.norm(v2)\n",
      "v3 = v3/np.linalg.norm(v3)\n",
      "print vector1,vector2, v3"
     ],
     "language": "python",
     "metadata": {},
     "outputs": [
      {
       "ename": "NameError",
       "evalue": "name 'v2' is not defined",
       "output_type": "pyerr",
       "traceback": [
        "\u001b[0;31m---------------------------------------------------------------------------\u001b[0m\n\u001b[0;31mNameError\u001b[0m                                 Traceback (most recent call last)",
        "\u001b[0;32m<ipython-input-49-a7344c9c3cba>\u001b[0m in \u001b[0;36m<module>\u001b[0;34m()\u001b[0m\n\u001b[1;32m      1\u001b[0m \u001b[0mv3\u001b[0m \u001b[0;34m=\u001b[0m \u001b[0mnp\u001b[0m\u001b[0;34m.\u001b[0m\u001b[0mcross\u001b[0m\u001b[0;34m(\u001b[0m\u001b[0mvector1\u001b[0m\u001b[0;34m,\u001b[0m \u001b[0mvector2\u001b[0m\u001b[0;34m)\u001b[0m\u001b[0;34m\u001b[0m\u001b[0m\n\u001b[0;32m----> 2\u001b[0;31m \u001b[0mv1\u001b[0m \u001b[0;34m=\u001b[0m \u001b[0mnp\u001b[0m\u001b[0;34m.\u001b[0m\u001b[0mcross\u001b[0m\u001b[0;34m(\u001b[0m\u001b[0mv2\u001b[0m\u001b[0;34m,\u001b[0m \u001b[0mv3\u001b[0m\u001b[0;34m)\u001b[0m\u001b[0;34m\u001b[0m\u001b[0m\n\u001b[0m\u001b[1;32m      3\u001b[0m \u001b[0mv1\u001b[0m \u001b[0;34m=\u001b[0m \u001b[0mv1\u001b[0m\u001b[0;34m/\u001b[0m\u001b[0mnp\u001b[0m\u001b[0;34m.\u001b[0m\u001b[0mlinalg\u001b[0m\u001b[0;34m.\u001b[0m\u001b[0mnorm\u001b[0m\u001b[0;34m(\u001b[0m\u001b[0mv1\u001b[0m\u001b[0;34m)\u001b[0m\u001b[0;34m\u001b[0m\u001b[0m\n\u001b[1;32m      4\u001b[0m \u001b[0mv2\u001b[0m \u001b[0;34m=\u001b[0m \u001b[0mv2\u001b[0m\u001b[0;34m/\u001b[0m\u001b[0mnp\u001b[0m\u001b[0;34m.\u001b[0m\u001b[0mlinalg\u001b[0m\u001b[0;34m.\u001b[0m\u001b[0mnorm\u001b[0m\u001b[0;34m(\u001b[0m\u001b[0mv2\u001b[0m\u001b[0;34m)\u001b[0m\u001b[0;34m\u001b[0m\u001b[0m\n\u001b[1;32m      5\u001b[0m \u001b[0mv3\u001b[0m \u001b[0;34m=\u001b[0m \u001b[0mv3\u001b[0m\u001b[0;34m/\u001b[0m\u001b[0mnp\u001b[0m\u001b[0;34m.\u001b[0m\u001b[0mlinalg\u001b[0m\u001b[0;34m.\u001b[0m\u001b[0mnorm\u001b[0m\u001b[0;34m(\u001b[0m\u001b[0mv3\u001b[0m\u001b[0;34m)\u001b[0m\u001b[0;34m\u001b[0m\u001b[0m\n",
        "\u001b[0;31mNameError\u001b[0m: name 'v2' is not defined"
       ]
      }
     ],
     "prompt_number": 49
    },
    {
     "cell_type": "code",
     "collapsed": false,
     "input": [],
     "language": "python",
     "metadata": {},
     "outputs": [],
     "prompt_number": 121
    },
    {
     "cell_type": "code",
     "collapsed": false,
     "input": [
      "transition_matrix_ = np.matrix([[v1[0], v2[0], v3[0]], [v1[1], v2[1], v3[1]], [v1[2], v2[2], v3[2]]])\n",
      "transition_matrix = np.linalg.inv(transition_matrix_)\n",
      "print 'L^(-1) = ', transition_matrix_\n",
      "print 'L = ', transition_matrix"
     ],
     "language": "python",
     "metadata": {},
     "outputs": [
      {
       "output_type": "stream",
       "stream": "stdout",
       "text": [
        "L^(-1) =  [[ -4.16458496e-02   9.99132435e-01  -2.62775567e-14]\n",
        " [  2.03374545e-14  -2.54526680e-14  -1.00000000e+00]\n",
        " [ -9.99132435e-01  -4.16458496e-02  -1.92598124e-14]]\n",
        "L =  [[ -4.16458496e-02   2.03374545e-14  -9.99132435e-01]\n",
        " [  9.99132435e-01  -2.54526680e-14  -4.16458496e-02]\n",
        " [ -2.62775567e-14  -1.00000000e+00  -1.92598124e-14]]\n"
       ]
      }
     ],
     "prompt_number": 122
    },
    {
     "cell_type": "code",
     "collapsed": false,
     "input": [
      "print vectors_array\n",
      "\n",
      "for i in xrange(len(vectors_array)):\n",
      "    vec = np.array([vectors_array[i, 0], vectors_array[i, 1], vectors_array[i, 2]])\n",
      "    vec2 = transition_matrix_.dot(vec)\n",
      "    vectors_array[i, 0] = vec[0]\n",
      "    vectors_array[i, 1] = vec[1]\n",
      "    vectors_array[i, 2] = vec[2]\n",
      "print vectors_array"
     ],
     "language": "python",
     "metadata": {},
     "outputs": [
      {
       "output_type": "stream",
       "stream": "stdout",
       "text": [
        "[[ -9.99996048e-01   2.63439270e-14  -2.81129618e-03]\n",
        " [ -9.07221850e-01   1.57374514e-14   4.20652486e-01]\n",
        " [ -9.07221850e-01   1.57374514e-14   4.20652486e-01]\n",
        " ..., \n",
        " [ -9.90221391e-01   2.87047253e-14  -1.39504830e-01]\n",
        " [ -9.98614738e-01   2.51406771e-14   5.26175300e-02]\n",
        " [ -9.85877354e-01   2.91792548e-14  -1.67468931e-01]]\n",
        "[[ -9.99996048e-01   2.63439270e-14  -2.81129618e-03]\n",
        " [ -9.07221850e-01   1.57374514e-14   4.20652486e-01]\n",
        " [ -9.07221850e-01   1.57374514e-14   4.20652486e-01]\n",
        " ..., \n",
        " [ -9.90221391e-01   2.87047253e-14  -1.39504830e-01]\n",
        " [ -9.98614738e-01   2.51406771e-14   5.26175300e-02]\n",
        " [ -9.85877354e-01   2.91792548e-14  -1.67468931e-01]]"
       ]
      },
      {
       "output_type": "stream",
       "stream": "stdout",
       "text": [
        "\n"
       ]
      }
     ],
     "prompt_number": 123
    },
    {
     "cell_type": "code",
     "collapsed": false,
     "input": [
      "vectors = numpy_to_vtk(vectors_array, deep=True, array_type=vtk.VTK_FLOAT)\n",
      "vectors.SetName('Fibers')\n",
      "ug2.GetPointData().AddArray(vectors)"
     ],
     "language": "python",
     "metadata": {},
     "outputs": [
      {
       "metadata": {},
       "output_type": "pyout",
       "prompt_number": 124,
       "text": [
        "1"
       ]
      }
     ],
     "prompt_number": 124
    },
    {
     "cell_type": "code",
     "collapsed": false,
     "input": [],
     "language": "python",
     "metadata": {},
     "outputs": [],
     "prompt_number": 124
    },
    {
     "cell_type": "code",
     "collapsed": false,
     "input": [
      "point_ = np.array([coord_points_data2[0, 0], coord_points_data2[0, 1], coord_points_data2[0, 2]])\n",
      "point = transition_matrix_.dot(point_)\n",
      "print point_, point"
     ],
     "language": "python",
     "metadata": {},
     "outputs": [
      {
       "output_type": "stream",
       "stream": "stdout",
       "text": [
        "[ 2.39657  2.83447  2.10755] [[ 2.73220372 -2.10755    -2.51253473]]\n"
       ]
      }
     ],
     "prompt_number": 125
    },
    {
     "cell_type": "code",
     "collapsed": false,
     "input": [
      "points2 = ug2.GetPoints()\n",
      "coord_points_data2 = vtk_to_numpy(points2.GetData())\n",
      "print coord_points_data2\n",
      "for i in xrange(len(coord_points_data2)):\n",
      "    point_ = np.array([coord_points_data2[i, 0], coord_points_data2[i, 1], coord_points_data2[i, 2]])\n",
      "    point = transition_matrix_.dot(point_)\n",
      "    coord_points_data2[i, 0] = point[0, 0]\n",
      "    coord_points_data2[i, 1] = point[0, 1]\n",
      "    coord_points_data2[i, 2] = point[0, 2]\n",
      "\n",
      "print coord_points_data2\n"
     ],
     "language": "python",
     "metadata": {},
     "outputs": [
      {
       "output_type": "stream",
       "stream": "stdout",
       "text": [
        "[[ 2.39657     2.83447     2.10755   ]\n",
        " [ 2.41836627  2.83447     2.08019949]\n",
        " [ 2.44080654  2.83447     2.05337655]\n",
        " ..., \n",
        " [ 4.09603914  2.83447     1.0492116 ]\n",
        " [ 3.97081886  2.83447     1.04549061]\n",
        " [ 4.04382201  2.83447     1.04451127]]\n",
        "[[ 2.73220372 -2.10755    -2.51253473]\n",
        " [ 2.731296   -2.08019949 -2.53431209]\n",
        " [ 2.73036145 -2.05337655 -2.5567329 ]\n",
        " ..., \n",
        " [ 2.66142788 -1.0492116  -4.21052947]\n",
        " [ 2.66664279 -1.04549061 -4.08541783]\n",
        " [ 2.66360251 -1.04451127 -4.15835764]]"
       ]
      },
      {
       "output_type": "stream",
       "stream": "stdout",
       "text": [
        "\n"
       ]
      }
     ],
     "prompt_number": 126
    },
    {
     "cell_type": "code",
     "collapsed": false,
     "input": [
      "\n",
      "points = numpy_to_vtk(coord_points_data2, deep=True, array_type=vtk.VTK_FLOAT)\n",
      "vtkpoints = vtkPoints()\n",
      "for i in tqdm(xrange(len(coord_points_data2))):\n",
      "    vtkpoints.InsertPoint(i, coord_points_data2[i, 0], coord_points_data2[i, 1], coord_points_data2[i, 2])\n",
      "ug2.SetPoints(vtkpoints)"
     ],
     "language": "python",
     "metadata": {},
     "outputs": [
      {
       "output_type": "stream",
       "stream": "stderr",
       "text": [
        "\r",
        "  0%|          | 0/11612 [00:00<?, ?it/s]"
       ]
      },
      {
       "output_type": "stream",
       "stream": "stderr",
       "text": [
        "\r",
        "100%|\u2588\u2588\u2588\u2588\u2588\u2588\u2588\u2588\u2588\u2588| 11612/11612 [00:00<00:00, 229182.49it/s]"
       ]
      },
      {
       "output_type": "stream",
       "stream": "stderr",
       "text": [
        "\n"
       ]
      }
     ],
     "prompt_number": 127
    },
    {
     "cell_type": "code",
     "collapsed": false,
     "input": [
      "Z_ = coord_points_data2[:,2:]\n",
      "Z_shift = np.average(Z_)\n",
      "Z_shift"
     ],
     "language": "python",
     "metadata": {},
     "outputs": [
      {
       "metadata": {},
       "output_type": "pyout",
       "prompt_number": 128,
       "text": [
        "-3.9949921559364978"
       ]
      }
     ],
     "prompt_number": 128
    },
    {
     "cell_type": "code",
     "collapsed": false,
     "input": [
      "vectors = numpy_to_vtk(vectors_array, deep=True, array_type=vtk.VTK_FLOAT)\n",
      "vectors.SetName('Fibers')\n",
      "ug2.GetPointData().AddArray(vectors)\n",
      "writer = vtk.vtkXMLUnstructuredGridWriter() # vtu\n",
      "\n",
      "writer.SetFileName(\"slice_mesh_with_fibers3.vtu\")\n",
      "writer.SetInputData(ug2)\n",
      "writer.Write()"
     ],
     "language": "python",
     "metadata": {},
     "outputs": [
      {
       "metadata": {},
       "output_type": "pyout",
       "prompt_number": 129,
       "text": [
        "1"
       ]
      }
     ],
     "prompt_number": 129
    },
    {
     "cell_type": "code",
     "collapsed": false,
     "input": [],
     "language": "python",
     "metadata": {},
     "outputs": [],
     "prompt_number": 56
    },
    {
     "cell_type": "code",
     "collapsed": false,
     "input": [],
     "language": "python",
     "metadata": {},
     "outputs": []
    }
   ],
   "metadata": {}
  }
 ]
}