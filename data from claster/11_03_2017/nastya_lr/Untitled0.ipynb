{
 "metadata": {
  "name": "",
  "signature": "sha256:65bb308cf41388f1c3e41b41efbf14a75afc6a6b603f90f75ed57853ac2ecc42"
 },
 "nbformat": 3,
 "nbformat_minor": 0,
 "worksheets": [
  {
   "cells": [
    {
     "cell_type": "code",
     "collapsed": false,
     "input": [
      "import numpy as np\n",
      "import pandas as pd\n",
      "from vtk import *\n",
      "from vtk.util import numpy_support\n",
      "\n",
      "import os\n",
      "from sklearn.neighbors import KDTree\n",
      "from vtk.util.numpy_support import vtk_to_numpy\n",
      "from vtk.util.numpy_support import numpy_to_vtk\n",
      "from tqdm import tqdm\n",
      "import glob\n",
      "import h5py\n",
      "\n",
      "WAY_2D_MAP = '/home/shido/chaste-output/nastya_lr_2d_bidomain_2'\n",
      "WAY_3D_MAP = '/home/shido/chaste-output/nastya_lr_3d_bidomain_endocard'\n",
      "FILE_MAP_2D = 'out.vtu'\n",
      "FILE_MAP_3D = 'out.vtu'\n",
      "os.path.exists(os.path.join(WAY_2D_MAP,FILE_MAP_2D))"
     ],
     "language": "python",
     "metadata": {},
     "outputs": [
      {
       "metadata": {},
       "output_type": "pyout",
       "prompt_number": 3,
       "text": [
        "True"
       ]
      }
     ],
     "prompt_number": 3
    },
    {
     "cell_type": "code",
     "collapsed": false,
     "input": [
      "FILE_MAP_DIFFERENCE_2D_3D = 'difference_map_3d_2d.vtu'\n",
      "#\u0441\u0440\u0430\u0432\u043d\u0435\u043d\u0438\u0435 \u043a\u0430\u0440\u0442 \u0430\u043a\u0442\u0438\u0432\u0430\u0446\u0438\u0438\n",
      "\n",
      "assert(os.path.exists(os.path.join(WAY_2D_MAP,FILE_MAP_2D)))\n",
      "#\u0447\u0442\u0435\u043d\u0438\u0435 2d \u0441\u0435\u0442\u043a\u0438\n",
      "reader = vtk.vtkXMLUnstructuredGridReader()\n",
      "reader.SetFileName(os.path.join(WAY_2D_MAP,FILE_MAP_2D))\n",
      "reader.Update()\n",
      "output = reader.GetOutput()   \n",
      "output.SetPoints(vtkpoints)\n",
      "activation_map = vtk_to_numpy(output.GetPointData().GetArray('activation_map'))\n",
      "repolarization_map = vtk_to_numpy(output.GetPointData().GetArray('repolarization_map'))\n",
      "APD90_map = vtk_to_numpy(output.GetPointData().GetArray('APD90_map'))\n",
      "\n",
      "\n",
      "\n",
      "#\u0447\u0442\u0435\u043d\u0438\u0435 3d \u0441\u0435\u0442\u043a\u0438\n",
      "assert(os.path.exists(FILE_MAP_3D))\n",
      "reader3 = vtk.vtkXMLUnstructuredGridReader()\n",
      "reader3.SetFileName(FILE_MAP_3D)\n",
      "reader3.Update()\n",
      "output3 = reader3.GetOutput()\n",
      "data = vtk_to_numpy(output3.GetCells().GetData())\n",
      "activation_map3 = vtk_to_numpy(output3.GetPointData().GetArray('activation_map'))\n",
      "repolarization_map3 = vtk_to_numpy(output3.GetPointData().GetArray('repolarization_map'))\n",
      "APD90_map3 = vtk_to_numpy(output3.GetPointData().GetArray('APD90_map'))\n",
      "\n",
      "\n",
      "interpolation_activation_map = np.zeros(len(activation_map))#3D\n",
      "interpolation_repolarization_map = np.zeros(len(activation_map))#3D\n",
      "interpolation_APD90_map = np.zeros(len(activation_map))#3D\n",
      "\n",
      "interpolation_activation_map_ = np.zeros_like(interpolation_activation_map)\n",
      "interpolation_repolarization_map_ = np.zeros_like(interpolation_repolarization_map)\n",
      "interpolation_APD90_map_ = np.zeros_like(interpolation_APD90_map)\n",
      "\n",
      "for i in tqdm(xrange(len(activation_map))):\n",
      "    pcoords = np.zeros(3)\n",
      "    weights  = np.zeros(4)\n",
      "    a = boneLocator.FindCell(result[i], 0.00001, cell, pcoords, weights)\n",
      "    points_scalars = activation_map3[tetrahedron[a]]\n",
      "    interpolation_activation_map[i] = np.dot(weights, points_scalars)\n",
      "    \n",
      "   \n",
      "    points_scalars2 = repolarization_map3[tetrahedron[a]]\n",
      "    interpolation_repolarization_map[i] = np.dot(weights, points_scalars2)    \n",
      "    \n",
      "    points_scalars3 = APD90_map3[tetrahedron[a]]\n",
      "    interpolation_APD90_map[i] = np.dot(weights, points_scalars3)\n",
      "    \n",
      "    interpolation_activation_map_[i] = interpolation_activation_map[i] - activation_map[i]\n",
      "    interpolation_repolarization_map_[i] = interpolation_repolarization_map[i] - repolarization_map[i]\n",
      "    interpolation_APD90_map_[i] = interpolation_APD90_map[i] - APD90_map[i]\n",
      "\n",
      "    \n",
      "#for i in xrange(len(interpolation_activation_map_)):\n",
      "    \n",
      "    \n",
      "activation_map_3d = numpy_to_vtk(interpolation_activation_map, deep=True, array_type=vtk.VTK_FLOAT)\n",
      "activation_map_3d.SetName('activation_map_3D')\n",
      "output.GetPointData().AddArray(activation_map_3d)\n",
      "    \n",
      "difference_3d_2d_activation_map = numpy_to_vtk(interpolation_activation_map_, deep=True, array_type=vtk.VTK_FLOAT)\n",
      "difference_3d_2d_activation_map.SetName('activation_map_difference_3D_2D')\n",
      "output.GetPointData().AddArray(difference_3d_2d_activation_map)\n",
      "\n",
      "repolarization_map_3d = numpy_to_vtk(interpolation_repolarization_map, deep=True, array_type=vtk.VTK_FLOAT)\n",
      "repolarization_map_3d.SetName('repolarization_map_3D')\n",
      "output.GetPointData().AddArray(repolarization_map_3d)\n",
      "    \n",
      "difference_3d_2d_repolarization_map = numpy_to_vtk(interpolation_repolarization_map_, deep=True, array_type=vtk.VTK_FLOAT)\n",
      "difference_3d_2d_repolarization_map.SetName('repolarization_map_difference_3D_2D')\n",
      "output.GetPointData().AddArray(difference_3d_2d_repolarization_map)\n",
      "\n",
      "APD90_map_3d = numpy_to_vtk(interpolation_APD90_map, deep=True, array_type=vtk.VTK_FLOAT)\n",
      "APD90_map_3d.SetName('APD90_map_3D')\n",
      "output.GetPointData().AddArray(APD90_map_3d)\n",
      "    \n",
      "difference_3d_2d_APD90_map = numpy_to_vtk(interpolation_APD90_map_, deep=True, array_type=vtk.VTK_FLOAT)\n",
      "difference_3d_2d_APD90_map.SetName('APD90_map_difference_3D_2D')\n",
      "output.GetPointData().AddArray(difference_3d_2d_APD90_map)\n",
      "\n",
      "writer3 = vtk.vtkXMLUnstructuredGridWriter() # vtu\n",
      "writer3.SetFileName(os.path.join(FOLDER_DIFFERENCE_RESULT, FILE_MAP_DIFFERENCE_2D_3D))\n",
      "writer3.SetInputData(output)\n",
      "writer3.Write()"
     ],
     "language": "python",
     "metadata": {},
     "outputs": [
      {
       "ename": "NameError",
       "evalue": "name 'vtkpoints' is not defined",
       "output_type": "pyerr",
       "traceback": [
        "\u001b[0;31m---------------------------------------------------------------------------\u001b[0m\n\u001b[0;31mNameError\u001b[0m                                 Traceback (most recent call last)",
        "\u001b[0;32m<ipython-input-5-de9fc5e7de51>\u001b[0m in \u001b[0;36m<module>\u001b[0;34m()\u001b[0m\n\u001b[1;32m      8\u001b[0m \u001b[0mreader\u001b[0m\u001b[0;34m.\u001b[0m\u001b[0mUpdate\u001b[0m\u001b[0;34m(\u001b[0m\u001b[0;34m)\u001b[0m\u001b[0;34m\u001b[0m\u001b[0m\n\u001b[1;32m      9\u001b[0m \u001b[0moutput\u001b[0m \u001b[0;34m=\u001b[0m \u001b[0mreader\u001b[0m\u001b[0;34m.\u001b[0m\u001b[0mGetOutput\u001b[0m\u001b[0;34m(\u001b[0m\u001b[0;34m)\u001b[0m\u001b[0;34m\u001b[0m\u001b[0m\n\u001b[0;32m---> 10\u001b[0;31m \u001b[0moutput\u001b[0m\u001b[0;34m.\u001b[0m\u001b[0mSetPoints\u001b[0m\u001b[0;34m(\u001b[0m\u001b[0mvtkpoints\u001b[0m\u001b[0;34m)\u001b[0m\u001b[0;34m\u001b[0m\u001b[0m\n\u001b[0m\u001b[1;32m     11\u001b[0m \u001b[0mactivation_map\u001b[0m \u001b[0;34m=\u001b[0m \u001b[0mvtk_to_numpy\u001b[0m\u001b[0;34m(\u001b[0m\u001b[0moutput\u001b[0m\u001b[0;34m.\u001b[0m\u001b[0mGetPointData\u001b[0m\u001b[0;34m(\u001b[0m\u001b[0;34m)\u001b[0m\u001b[0;34m.\u001b[0m\u001b[0mGetArray\u001b[0m\u001b[0;34m(\u001b[0m\u001b[0;34m'activation_map'\u001b[0m\u001b[0;34m)\u001b[0m\u001b[0;34m)\u001b[0m\u001b[0;34m\u001b[0m\u001b[0m\n\u001b[1;32m     12\u001b[0m \u001b[0mrepolarization_map\u001b[0m \u001b[0;34m=\u001b[0m \u001b[0mvtk_to_numpy\u001b[0m\u001b[0;34m(\u001b[0m\u001b[0moutput\u001b[0m\u001b[0;34m.\u001b[0m\u001b[0mGetPointData\u001b[0m\u001b[0;34m(\u001b[0m\u001b[0;34m)\u001b[0m\u001b[0;34m.\u001b[0m\u001b[0mGetArray\u001b[0m\u001b[0;34m(\u001b[0m\u001b[0;34m'repolarization_map'\u001b[0m\u001b[0;34m)\u001b[0m\u001b[0;34m)\u001b[0m\u001b[0;34m\u001b[0m\u001b[0m\n",
        "\u001b[0;31mNameError\u001b[0m: name 'vtkpoints' is not defined"
       ]
      }
     ],
     "prompt_number": 5
    },
    {
     "cell_type": "code",
     "collapsed": false,
     "input": [],
     "language": "python",
     "metadata": {},
     "outputs": []
    }
   ],
   "metadata": {}
  }
 ]
}