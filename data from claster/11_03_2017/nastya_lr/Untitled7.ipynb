{
 "metadata": {
  "name": "",
  "signature": "sha256:225b19d37ae5c31b4f3e41683012b5d37012f32ad937417669aa39b7e9dc80bd"
 },
 "nbformat": 3,
 "nbformat_minor": 0,
 "worksheets": [
  {
   "cells": [
    {
     "cell_type": "code",
     "collapsed": false,
     "input": [
      "import numpy as np\n",
      "import pandas as pd\n",
      "from vtk import *\n",
      "from vtk.util import numpy_support\n",
      "import os\n",
      "from sklearn.neighbors import KDTree\n",
      "from vtk.util.numpy_support import vtk_to_numpy\n",
      "from vtk.util.numpy_support import numpy_to_vtk\n",
      "from tqdm import tqdm\n",
      "import glob\n",
      "import h5py\n",
      "from vtk.util.numpy_support import numpy_to_vtk\n",
      "import matplotlib.pylab as plt\n",
      "%matplotlib inline\n",
      "import unittest\n",
      "from matplotlib.patches import Ellipse\n",
      "from numpy.linalg import norm\n",
      "import numpy.random as rnd"
     ],
     "language": "python",
     "metadata": {},
     "outputs": [],
     "prompt_number": 1
    },
    {
     "cell_type": "code",
     "collapsed": false,
     "input": [
      "WAY_3D = '/home/shido/chaste-output/benson2008_3d_bidomain_endocardial_slice'\n",
      "WAY_2D = '/home/shido/chaste-output/benson2008_2d_bidomain_endocardial_all_currents'\n",
      "WAY = '/home/shido/Documents/shido/for Anastasia/for-Anastasia/data from claster/11_03_2017/nastya_lr'\n",
      "WAY_RESULT = '/home/shido/Documents/shido/for Anastasia/for-Anastasia/for theses on  autumn school/result_benson2008'\n",
      "WAY_DTMRI = '/home/shido/Documents/shido/for Anastasia/for-Anastasia/DTI080803'\n",
      "file_data = './result_full_vector_field.vtu'\n",
      "FILE_MESH_INIT = 'init_mesh_1.vtu'\n",
      "FILE_MESH = 'slice_mesh2.vtk'\n",
      "POINT_O = 62\n",
      "POINT_A = 6571\n",
      "POINT_B = 785"
     ],
     "language": "python",
     "metadata": {},
     "outputs": [],
     "prompt_number": 2
    },
    {
     "cell_type": "code",
     "collapsed": false,
     "input": [
      "assert(os.path.exists(FILE_MESH))\n",
      "assert(os.path.exists(os.path.join(WAY_DTMRI,file_data)))"
     ],
     "language": "python",
     "metadata": {},
     "outputs": [],
     "prompt_number": 3
    },
    {
     "cell_type": "code",
     "collapsed": false,
     "input": [
      "#\u0427\u0442\u0435\u043d\u0438\u0435 \u043f\u043b\u043e\u0441\u043a\u043e\u0439 \u0441\u0435\u0442\u043a\u0438\n",
      "reader = vtkUnstructuredGridReader()\n",
      "reader.SetFileName(FILE_MESH)\n",
      "reader.Update()\n",
      "ug = reader.GetOutput()"
     ],
     "language": "python",
     "metadata": {},
     "outputs": [],
     "prompt_number": 4
    },
    {
     "cell_type": "code",
     "collapsed": false,
     "input": [
      "points = ug.GetPoints()\n",
      "coord_points_data = vtk_to_numpy(points.GetData())\n",
      "coord_points_data"
     ],
     "language": "python",
     "metadata": {},
     "outputs": [
      {
       "metadata": {},
       "output_type": "pyout",
       "prompt_number": 5,
       "text": [
        "array([[ 2.39657   ,  2.83447   ,  2.10755   ],\n",
        "       [ 2.41836627,  2.83447   ,  2.08019949],\n",
        "       [ 2.44080654,  2.83447   ,  2.05337655],\n",
        "       ..., \n",
        "       [ 4.09603914,  2.83447   ,  1.0492116 ],\n",
        "       [ 3.97081886,  2.83447   ,  1.04549061],\n",
        "       [ 4.04382201,  2.83447   ,  1.04451127]])"
       ]
      }
     ],
     "prompt_number": 5
    },
    {
     "cell_type": "code",
     "collapsed": false,
     "input": [
      "#\u043f\u043e\u0432\u043e\u0440\u043e\u0442 \u043f\u043b\u043e\u0441\u043a\u043e\u0439 \u0441\u0435\u0442\u043a\u0438 \u0434\u043e \u0442\u0440\u0435\u0445\u043c\u0435\u0440\u043d\u043e\u0439 \u0441\u0435\u0442\u043a\u0438\n",
      "vec1 = coord_points_data[POINT_A] - coord_points_data[POINT_O]\n",
      "vec2_ = coord_points_data[POINT_B] - coord_points_data[POINT_O]\n",
      "vec3 = np.cross(vec1, vec2_)\n",
      "vec2 = np.cross(vec1, vec3)\n",
      "vec1_len = np.linalg.norm(vec1)\n",
      "vec2_len = np.linalg.norm(vec2)\n",
      "vec3_len = np.linalg.norm(vec3)\n",
      "print vec1/vec1_len, vec2/vec2_len, vec3/vec3_len, vec1_len\n",
      "#\u043c\u0430\u0442\u0440\u0438\u0446\u0430 \u043f\u043e\u0432\u043e\u0440\u043e\u0442\u0430\n",
      "L = np.matrix(np.vstack([vec1/vec1_len, vec2/vec2_len, vec3/vec3_len]).T)\n",
      "L_inv = np.linalg.inv(L)\n",
      "\n",
      "\n",
      "    \n",
      "#points = numpy_to_vtk(res, deep=True, array_type=vtk.VTK_FLOAT)\n",
      "#vtkpoints = vtkPoints()\n",
      "#for i in tqdm(xrange(len(coord_points_data))):\n",
      "    #vtkpoints.InsertPoint(i, res[i, 0], res[i, 1], res[i, 2])\n",
      "#output.SetPoints(vtkpoints)"
     ],
     "language": "python",
     "metadata": {},
     "outputs": [
      {
       "output_type": "stream",
       "stream": "stdout",
       "text": [
        "[ 0.48666709  0.          0.87358751] [ 0.87358751  0.         -0.48666709] [ 0. -1.  0.] 3.21150907221\n"
       ]
      }
     ],
     "prompt_number": 6
    },
    {
     "cell_type": "code",
     "collapsed": false,
     "input": [
      "#\u0447\u0442\u0435\u043d\u0438\u0435 \u0434\u0430\u043d\u043d\u044b\u0445 \u0414\u0422 \u041c\u0420\u0422\n",
      "reader2 = vtkXMLUnstructuredGridReader()\n",
      "reader2.SetFileName(os.path.join(WAY_DTMRI,file_data))\n",
      "reader2.Update()\n",
      "ug2 = reader2.GetOutput()\n",
      "points2 = ug2.GetPoints()\n",
      "#coords_vectors_data2 = vtk_to_numpy(ug2.GetPointData().GetArray('DTMRIFiberOrientation'))\n",
      "coord_points_data2 = vtk_to_numpy(points2.GetData())\n",
      "coords_tenzors_data2 = vtk_to_numpy(ug2.GetFieldData().GetArray('tensors'))\n",
      "eigenvalues =vtk_to_numpy(ug2.GetPointData().GetArray('eigenvalues')) \n",
      "#\u043f\u043e\u0441\u0442\u0440\u043e\u0435\u043d\u0438\u0435 \u0434\u0435\u0440\u0435\u0432\u0430\n",
      "tree = KDTree(coord_points_data2, leaf_size=5, metric='euclidean')"
     ],
     "language": "python",
     "metadata": {},
     "outputs": [],
     "prompt_number": 7
    },
    {
     "cell_type": "code",
     "collapsed": false,
     "input": [
      "def project_tensor_on_plane(n, tensor):\n",
      "    \"\"\"   \n",
      "             n: plane normal vector\n",
      "        tensor: old tensor in 3D space\n",
      "         \n",
      "        return: Projection Tensor     \n",
      "    \n",
      "    \"\"\"\n",
      "    P = np.array([[1-n[0]**2, -n[0]*n[1], -n[0]*n[2]],\n",
      "                  [-n[0]*n[1], 1-n[1]**2, -n[1]*n[2]],\n",
      "                 [-n[0]*n[2], -n[1]*n[2], 1-n[2]**2]])    \n",
      "    \n",
      "    M2 = np.dot(P,tensor)\n",
      "    M_ = np.dot(M2,P.T)\n",
      "   \n",
      "    return M_"
     ],
     "language": "python",
     "metadata": {},
     "outputs": [],
     "prompt_number": 8
    },
    {
     "cell_type": "code",
     "collapsed": false,
     "input": [
      "import sys\n",
      "\n",
      "class MyTest(unittest.TestCase):\n",
      "    def test_project_anisotropic_tensor_on_plane_OZ(self):\n",
      "        #@project_tensor_on_plane             \n",
      "        \n",
      "        normal_tenzor1 = np.array([[0,0,0], [0, 0, 0], [0, 0, 1]])\n",
      "        tenzor1 = np.array([[1,0,0], [0, 3, 0], [0, 0, 2]])\n",
      "        projection1 = project_tensor_on_plane(normal_tenzor1, tenzor1)\n",
      "        #self.assertEqual(np.all(np.array([1,1])-np.array([1,1])),0)\n",
      "        self.assertEqual(np.all(projection1-np.array([[1, 0, 0],\n",
      "                                                      [0, 3, 0],\n",
      "                                                      [0, 0, 0]])), 0)\n",
      "        \n",
      "        \n",
      "    def test_project_anisotropic_tensor_on_plane_OY(self):        \n",
      "        normal_tenzor2 = np.array([[0,0,0], [0, 1, 0], [0, 0, 0]])\n",
      "        tenzor2 = np.array([[1,0,0], [0, 1, 0], [0, 0, 2]])\n",
      "        projection2 = project_tensor_on_plane(normal_tenzor2, tenzor2)\n",
      "        #self.assertEqual(np.all(np.array([1,1])-np.array([1,1])),0)\n",
      "        self.assertEqual(np.all(projection2-np.array([[1, 0, 0],\n",
      "                                                      [0, 0, 0],\n",
      "                                                      [0, 0, 2]])), 0)\n",
      "        \n",
      "    def test_project_anisotropic_tensor_on_plane_OX(self):\n",
      "        \n",
      "        normal_tenzor3 = np.array([[-1,0,0], [0, 0, 0], [0, 0, 0]])\n",
      "        tenzor3 = np.array([[2,0,0], [0, 1, 0], [0, 0, 1]])\n",
      "        projection3 = project_tensor_on_plane(normal_tenzor3, tenzor3)\n",
      "        #self.assertEqual(np.all(np.array([1,1])-np.array([1,1])),0)\n",
      "        self.assertEqual(np.all(projection3-np.array([[0, 0, 0],\n",
      "                                                      [0, 1, 0],\n",
      "                                                      [0, 0, 1]])), 0)\n",
      "        \n",
      "        \n",
      "        \n",
      "    def test_project_anisotropic_tensor_on_turn_45_degrees_plane(self):\n",
      "        \n",
      "        normal_tenzor5 = np.array([[1,0,0], [0, 1, 0], [0, 0, 1]])\n",
      "        tenzor5 = np.array([[3,0,0], [0, 2, 0], [0, 0, 4]])\n",
      "        projection5 = project_tensor_on_plane(normal_tenzor5, tenzor5)\n",
      "        #self.assertEqual(np.all(np.array([1,1])-np.array([1,1])),0)\n",
      "        self.assertEqual(np.all(projection5-np.array([[0, 0, 0],\n",
      "                                                      [0, 2, 0],\n",
      "                                                      [0, 0, 4]])), 0)\n",
      "        \n",
      "        \n",
      "    def test_project_anisotropic_turn_tensor_on_turn_plane_OX(self):\n",
      "        \n",
      "        tenzor = np.array([[1,0,0], [0, 1, 0], [0, 0, 2]])\n",
      "        a_x = np.array([[0,0,0], [0, 1, 0], [0, 0, 2]]) \n",
      "        \n",
      "        n_x = np.array([1, 1, 1])\n",
      "        n_y = np.array([0, 1, -1])\n",
      "        n_z = np.cross(n_x, n_y)\n",
      "        \n",
      "        n_x = n_x/np.linalg.norm(n_x)\n",
      "        n_y = n_y/np.linalg.norm(n_y)\n",
      "        n_z = n_z/np.linalg.norm(n_z)\n",
      "        #\u043c\u0430\u0442\u0440\u0438\u0446\u0430 \u043f\u043e\u0432\u043e\u0440\u043e\u0442\u0430\n",
      "        L = np.column_stack((n_x, n_y, n_z))\n",
      "        \n",
      "        #\u0442\u0435\u043d\u0437\u043e\u0440\n",
      "        tenzor_ = np.dot(L, tenzor)\n",
      "        #\u043f\u043e\u0432\u043e\u0440\u043e\u0442 \u0442\u0435\u043d\u0437\u043e\u0440\u0430\n",
      "        tenzor_turn = np.dot(tenzor_, L.T)        \n",
      "        \n",
      "        #\u043d\u043e\u0440\u043c\u0430\u043b\u044c \u043a \u043f\u043b\u043e\u0441\u043a\u043e\u0441\u0442\u0438 OX\n",
      "        normal_x = np.array([1, 0, 0])\n",
      "        #\u043f\u043e\u0432\u043e\u0440\u043e\u0442 \u043d\u043e\u0440\u043c\u0430\u043b\u0438\n",
      "        normal_x_turn = np.dot(L, normal_x)\n",
      "\n",
      "        #\u043e\u0436\u0438\u0434\u0430\u0435\u043c\u044b\u0439 \u0440\u0435\u0437\u0443\u043b\u044c\u0442\u0430\u0442 \u043f\u0440\u043e\u0435\u043a\u0446\u0438\u0438 \u043d\u0430 \u043f\u043e\u0432\u043e\u0440\u043d\u0443\u0442\u0443\u044e \u043f\u043b\u043e\u0441\u043a\u043e\u0441\u0442\u044c OX \n",
      "        a_x_ = np.dot(L, a_x)\n",
      "        a_x_turn = np.dot(a_x_, L.T) \n",
      "\n",
      "        projection6 = project_tensor_on_plane(normal_x_turn, tenzor_turn)\n",
      "        self.assertEqual(np.all(projection6-a_x_turn), 0) \n",
      "        \n",
      "        \n",
      "    def test_project_anisotropic_turn_tensor_on_turn_plane_OY(self):\n",
      "        \n",
      "        tenzor = np.array([[1,0,0], [0, 1, 0], [0, 0, 2]])        \n",
      "        a_y = np.array([[1,0,0], [0, 0, 0], [0, 0, 2]])\n",
      "\n",
      "        \n",
      "        \n",
      "        n_x = np.array([1, 1, 1])\n",
      "        n_y = np.array([0, 1, -1])\n",
      "        n_z = np.cross(n_x, n_y)\n",
      "        \n",
      "        n_x = n_x/np.linalg.norm(n_x)\n",
      "        n_y = n_y/np.linalg.norm(n_y)\n",
      "        n_z = n_z/np.linalg.norm(n_z)\n",
      "        #\u043c\u0430\u0442\u0440\u0438\u0446\u0430 \u043f\u043e\u0432\u043e\u0440\u043e\u0442\u0430\n",
      "        L = np.column_stack((n_x, n_y, n_z))\n",
      "        \n",
      "        #\u0442\u0435\u043d\u0437\u043e\u0440\n",
      "        tenzor_ = np.dot(L, tenzor)\n",
      "        #\u043f\u043e\u0432\u043e\u0440\u043e\u0442 \u0442\u0435\u043d\u0437\u043e\u0440\u0430\n",
      "        tenzor_turn = np.dot(tenzor_, L.T)\n",
      "       \n",
      "        #\u043d\u043e\u0440\u043c\u0430\u043b\u044c \u043a \u043f\u043b\u043e\u0441\u043a\u043e\u0441\u0442\u0438 OY\n",
      "        normal_y = np.array([0, 1, 0])\n",
      "        #\u043f\u043e\u0432\u043e\u0440\u043e\u0442 \u043d\u043e\u0440\u043c\u0430\u043b\u0438\n",
      "        normal_y_turn = np.dot(L, normal_y)        \n",
      "\n",
      "        #\u043e\u0436\u0438\u0434\u0430\u0435\u043c\u044b\u0439 \u0440\u0435\u0437\u0443\u043b\u044c\u0442\u0430\u0442 \u043f\u0440\u043e\u0435\u043a\u0446\u0438\u0438 \u043d\u0430 \u043f\u043e\u0432\u043e\u0440\u043d\u0443\u0442\u0443\u044e \u043f\u043b\u043e\u0441\u043a\u043e\u0441\u0442\u044c OY \n",
      "        a_y_ = np.dot(L, a_y)\n",
      "        a_y_turn = np.dot(a_y_, L.T)        \n",
      "\n",
      "        projection7 = project_tensor_on_plane(normal_y_turn, tenzor_turn)\n",
      "        self.assertEqual(np.all(projection7-a_y_turn), 0)\n",
      "       \n",
      "        \n",
      "    def test_project_anisotropic_turn_tensor_on_turn_plane_OZ(self):\n",
      "        \n",
      "        tenzor = np.array([[1,0,0], [0, 1, 0], [0, 0, 2]])       \n",
      "        a_z = np.array([[1,0,0], [0, 1, 0], [0, 0, 0]])\n",
      "        \n",
      "        \n",
      "        n_x = np.array([1, 1, 1])\n",
      "        n_y = np.array([0, 1, -1])\n",
      "        n_z = np.cross(n_x, n_y)\n",
      "        \n",
      "        n_x = n_x/np.linalg.norm(n_x)\n",
      "        n_y = n_y/np.linalg.norm(n_y)\n",
      "        n_z = n_z/np.linalg.norm(n_z)\n",
      "        #\u043c\u0430\u0442\u0440\u0438\u0446\u0430 \u043f\u043e\u0432\u043e\u0440\u043e\u0442\u0430\n",
      "        L = np.column_stack((n_x, n_y, n_z))\n",
      "        \n",
      "        #\u0442\u0435\u043d\u0437\u043e\u0440\n",
      "        tenzor_ = np.dot(L, tenzor)\n",
      "        #\u043f\u043e\u0432\u043e\u0440\u043e\u0442 \u0442\u0435\u043d\u0437\u043e\u0440\u0430\n",
      "        tenzor_turn = np.dot(tenzor_, L.T) \n",
      "       \n",
      "        #\u043d\u043e\u0440\u043c\u0430\u043b\u044c \u043a \u043f\u043b\u043e\u0441\u043a\u043e\u0441\u0442\u0438 OZ\n",
      "        normal_z = np.array([0, 0, 1])\n",
      "        #\u043f\u043e\u0432\u043e\u0440\u043e\u0442 \u043d\u043e\u0440\u043c\u0430\u043b\u0438\n",
      "        normal_z_turn = np.dot(L, normal_z)        \n",
      "\n",
      "        #\u043e\u0436\u0438\u0434\u0430\u0435\u043c\u044b\u0439 \u0440\u0435\u0437\u0443\u043b\u044c\u0442\u0430\u0442 \u043f\u0440\u043e\u0435\u043a\u0446\u0438\u0438 \u043d\u0430 \u043f\u043e\u0432\u043e\u0440\u043d\u0443\u0442\u0443\u044e \u043f\u043b\u043e\u0441\u043a\u043e\u0441\u0442\u044c OZ \n",
      "        a_z_ = np.dot(L, a_z)\n",
      "        a_z_turn = np.dot(a_z_, L.T)        \n",
      "        \n",
      "        projection8 = project_tensor_on_plane(normal_z_turn, tenzor_turn)\n",
      "        self.assertEqual(np.all(projection8-a_z_turn), 0)\n",
      "\n",
      "        \n",
      "        \n",
      "        \n",
      "        \n",
      "suite = unittest.TestLoader().loadTestsFromTestCase( MyTest )\n",
      "unittest.TextTestRunner(verbosity=1,stream=sys.stderr).run( suite )\n"
     ],
     "language": "python",
     "metadata": {},
     "outputs": [
      {
       "output_type": "stream",
       "stream": "stderr",
       "text": [
        "."
       ]
      },
      {
       "output_type": "stream",
       "stream": "stderr",
       "text": [
        "."
       ]
      },
      {
       "output_type": "stream",
       "stream": "stderr",
       "text": [
        "."
       ]
      },
      {
       "output_type": "stream",
       "stream": "stderr",
       "text": [
        "."
       ]
      },
      {
       "output_type": "stream",
       "stream": "stderr",
       "text": [
        "."
       ]
      },
      {
       "output_type": "stream",
       "stream": "stderr",
       "text": [
        "."
       ]
      },
      {
       "output_type": "stream",
       "stream": "stderr",
       "text": [
        "."
       ]
      },
      {
       "output_type": "stream",
       "stream": "stderr",
       "text": [
        "\n",
        "----------------------------------------------------------------------\n",
        "Ran 7 tests in 0.012s\n",
        "\n",
        "OK\n"
       ]
      },
      {
       "metadata": {},
       "output_type": "pyout",
       "prompt_number": 9,
       "text": [
        "<unittest.runner.TextTestResult run=7 errors=0 failures=0>"
       ]
      }
     ],
     "prompt_number": 9
    },
    {
     "cell_type": "code",
     "collapsed": false,
     "input": [],
     "language": "python",
     "metadata": {},
     "outputs": [],
     "prompt_number": 9
    },
    {
     "cell_type": "code",
     "collapsed": false,
     "input": [
      "eigenvalues[0][0]"
     ],
     "language": "python",
     "metadata": {},
     "outputs": [
      {
       "metadata": {},
       "output_type": "pyout",
       "prompt_number": 10,
       "text": [
        "1.9629955e-05"
       ]
      }
     ],
     "prompt_number": 10
    },
    {
     "cell_type": "code",
     "collapsed": false,
     "input": [
      "coords_tenzors_data2[0]"
     ],
     "language": "python",
     "metadata": {},
     "outputs": [
      {
       "metadata": {},
       "output_type": "pyout",
       "prompt_number": 11,
       "text": [
        "array([-0.72031754,  0.15601633, -0.67587095,  0.51613897,  0.77150851,\n",
        "       -0.37198818,  0.46340397, -0.61679292, -0.63625723], dtype=float32)"
       ]
      }
     ],
     "prompt_number": 11
    },
    {
     "cell_type": "code",
     "collapsed": false,
     "input": [
      "N = 10000\n"
     ],
     "language": "python",
     "metadata": {},
     "outputs": [],
     "prompt_number": 65
    },
    {
     "cell_type": "code",
     "collapsed": false,
     "input": [
      "u = coords_tenzors_data2[N].reshape(3,3)[:,0]"
     ],
     "language": "python",
     "metadata": {},
     "outputs": [],
     "prompt_number": 66
    },
    {
     "cell_type": "code",
     "collapsed": false,
     "input": [
      "u"
     ],
     "language": "python",
     "metadata": {},
     "outputs": [
      {
       "metadata": {},
       "output_type": "pyout",
       "prompt_number": 67,
       "text": [
        "array([-0.0511463 , -0.92644584,  0.37293726], dtype=float32)"
       ]
      }
     ],
     "prompt_number": 67
    },
    {
     "cell_type": "code",
     "collapsed": false,
     "input": [
      "v = coords_tenzors_data2[N].reshape(3,3)[:,1]\n",
      "v"
     ],
     "language": "python",
     "metadata": {},
     "outputs": [
      {
       "metadata": {},
       "output_type": "pyout",
       "prompt_number": 68,
       "text": [
        "array([-0.75354427, -0.20926604, -0.62320042], dtype=float32)"
       ]
      }
     ],
     "prompt_number": 68
    },
    {
     "cell_type": "code",
     "collapsed": false,
     "input": [],
     "language": "python",
     "metadata": {},
     "outputs": [],
     "prompt_number": 68
    },
    {
     "cell_type": "code",
     "collapsed": false,
     "input": [
      "def angle_(u, v):\n",
      "    c = np.dot(u,v)/norm(u)/norm(v) # -> cosine of the angle\n",
      "    angle = np.arccos(np.clip(c, -1, 1)) \n",
      "    angle2 = np.degrees(angle)\n",
      "    return angle2"
     ],
     "language": "python",
     "metadata": {},
     "outputs": [],
     "prompt_number": 69
    },
    {
     "cell_type": "code",
     "collapsed": false,
     "input": [
      "ells2 = [Ellipse(xy=[0,0], width=10**6*eigenvalues[N][0], height=10**6*eigenvalues[N][1], angle = angle_(u, v))]#angle=rnd.rand()*360)]"
     ],
     "language": "python",
     "metadata": {},
     "outputs": [],
     "prompt_number": 70
    },
    {
     "cell_type": "code",
     "collapsed": false,
     "input": [
      "fig = plt.figure(0)\n",
      "ax = fig.add_subplot(111, aspect='equal')\n",
      "for e in ells2:\n",
      "    ax.add_artist(e)\n",
      "    e.set_clip_box(ax.bbox)\n",
      "    e.set_alpha(rnd.rand())\n",
      "    e.set_facecolor(rnd.rand(3))\n",
      "\n",
      "ax.set_xlim(-10, 10)\n",
      "ax.set_ylim(-10, 10)\n",
      "\n",
      "plt.show()"
     ],
     "language": "python",
     "metadata": {},
     "outputs": [
      {
       "metadata": {},
       "output_type": "display_data",
       "png": "[encoded data removed]",
       "text": [
        "<matplotlib.figure.Figure at 0x7efb5d732690>"
       ]
      }
     ],
     "prompt_number": 71
    },
    {
     "cell_type": "code",
     "collapsed": false,
     "input": [
      "eigenvalues[0][0]"
     ],
     "language": "python",
     "metadata": {},
     "outputs": [
      {
       "metadata": {},
       "output_type": "pyout",
       "prompt_number": 72,
       "text": [
        "1.9629955e-05"
       ]
      }
     ],
     "prompt_number": 72
    },
    {
     "cell_type": "code",
     "collapsed": false,
     "input": [
      "tenzor_ = coords_tenzors_data2[N].reshape(3,3) \n",
      "eig_matrix = np.matrix([[eigenvalues[N][0], 0, 0],\n",
      "                       [0, eigenvalues[N][1], 0],\n",
      "                       [0, 0, eigenvalues[N][2]]])"
     ],
     "language": "python",
     "metadata": {},
     "outputs": [],
     "prompt_number": 73
    },
    {
     "cell_type": "code",
     "collapsed": false,
     "input": [
      "T_ = np.dot(tenzor_, eig_matrix)\n",
      "T =  np.dot(T_, tenzor_.T)\n",
      "T"
     ],
     "language": "python",
     "metadata": {},
     "outputs": [
      {
       "metadata": {},
       "output_type": "pyout",
       "prompt_number": 74,
       "text": [
        "matrix([[  1.06540366e-05,   4.99648993e-07,   5.18721171e-07],\n",
        "        [  4.99648993e-07,   1.51239589e-05,  -1.91447108e-06],\n",
        "        [  5.18721171e-07,  -1.91447108e-06,   1.12374419e-05]])"
       ]
      }
     ],
     "prompt_number": 74
    },
    {
     "cell_type": "code",
     "collapsed": false,
     "input": [
      "np.linalg.eig(T)"
     ],
     "language": "python",
     "metadata": {},
     "outputs": [
      {
       "metadata": {},
       "output_type": "pyout",
       "prompt_number": 75,
       "text": [
        "(array([  9.87144178e-06,   1.12217895e-05,   1.59222061e-05]),\n",
        " matrix([[-0.65540463,  0.75354418, -0.05114628],\n",
        "         [ 0.31289908,  0.20926609, -0.92644583],\n",
        "         [ 0.68741468,  0.62320051,  0.37293725]]))"
       ]
      }
     ],
     "prompt_number": 75
    },
    {
     "cell_type": "code",
     "collapsed": false,
     "input": [
      "eig1 = np.linalg.eig(T)[0]\n",
      "eigv1 = np.linalg.eig(T)[1]\n",
      "print eig1[0]\n",
      "print eigv1[0]\n",
      "v1 = np.array([eigv1[0,0], eigv1[0,1], eigv1[0,2]])\n",
      "print v1\n",
      "u1 = np.array([eigv1[1,0], eigv1[1,1], eigv1[1,2]])\n",
      "print u1"
     ],
     "language": "python",
     "metadata": {},
     "outputs": [
      {
       "output_type": "stream",
       "stream": "stdout",
       "text": [
        "9.87144178417e-06\n",
        "[[-0.65540463  0.75354418 -0.05114628]]\n",
        "[-0.65540463  0.75354418 -0.05114628]\n",
        "[ 0.31289908  0.20926609 -0.92644583]\n"
       ]
      }
     ],
     "prompt_number": 76
    },
    {
     "cell_type": "code",
     "collapsed": false,
     "input": [
      "ells3 = [Ellipse(xy=[0,0], width=10**6*eig1[0], height=10**6*eig1[1], angle = angle_(v1, u1))]#angle=rnd.rand()*360)]"
     ],
     "language": "python",
     "metadata": {},
     "outputs": [],
     "prompt_number": 77
    },
    {
     "cell_type": "code",
     "collapsed": false,
     "input": [
      "print angle_(v1, u1)"
     ],
     "language": "python",
     "metadata": {},
     "outputs": [
      {
       "output_type": "stream",
       "stream": "stdout",
       "text": [
        "90.0\n"
       ]
      }
     ],
     "prompt_number": 78
    },
    {
     "cell_type": "code",
     "collapsed": false,
     "input": [
      "fig = plt.figure(0)\n",
      "ax = fig.add_subplot(111, aspect='equal')\n",
      "for e in ells3:\n",
      "    ax.add_artist(e)\n",
      "    e.set_clip_box(ax.bbox)\n",
      "    e.set_alpha(rnd.rand())\n",
      "    e.set_facecolor(rnd.rand(3))\n",
      "\n",
      "ax.set_xlim(-10, 10)\n",
      "ax.set_ylim(-10, 10)\n",
      "\n",
      "plt.show()"
     ],
     "language": "python",
     "metadata": {},
     "outputs": [
      {
       "metadata": {},
       "output_type": "display_data",
       "png": "[encoded data removed]",
       "text": [
        "<matplotlib.figure.Figure at 0x7efb5d653690>"
       ]
      }
     ],
     "prompt_number": 79
    },
    {
     "cell_type": "code",
     "collapsed": false,
     "input": [
      "n = vec3/vec3_len\n",
      "n"
     ],
     "language": "python",
     "metadata": {},
     "outputs": [
      {
       "metadata": {},
       "output_type": "pyout",
       "prompt_number": 80,
       "text": [
        "array([ 0., -1.,  0.])"
       ]
      }
     ],
     "prompt_number": 80
    },
    {
     "cell_type": "code",
     "collapsed": false,
     "input": [
      "projecting  = project_tensor_on_plane(n, T)\n",
      "projecting"
     ],
     "language": "python",
     "metadata": {},
     "outputs": [
      {
       "metadata": {},
       "output_type": "pyout",
       "prompt_number": 81,
       "text": [
        "matrix([[  1.06540366e-05,   0.00000000e+00,   5.18721171e-07],\n",
        "        [  0.00000000e+00,   0.00000000e+00,   0.00000000e+00],\n",
        "        [  5.18721171e-07,   0.00000000e+00,   1.12374419e-05]])"
       ]
      }
     ],
     "prompt_number": 81
    },
    {
     "cell_type": "code",
     "collapsed": false,
     "input": [
      "np.linalg.eig(projecting)"
     ],
     "language": "python",
     "metadata": {},
     "outputs": [
      {
       "metadata": {},
       "output_type": "pyout",
       "prompt_number": 82,
       "text": [
        "(array([  1.03506240e-05,   1.15408544e-05,   0.00000000e+00]),\n",
        " matrix([[-0.86318064, -0.50489522,  0.        ],\n",
        "         [ 0.        ,  0.        ,  1.        ],\n",
        "         [ 0.50489522, -0.86318064,  0.        ]]))"
       ]
      }
     ],
     "prompt_number": 82
    },
    {
     "cell_type": "code",
     "collapsed": false,
     "input": [
      "eig2 = np.linalg.eig(projecting)[0]\n",
      "eigv2 = np.linalg.eig(projecting)[1]\n",
      "print eig2[0]\n",
      "print eigv2[0]\n",
      "v2 = np.array([eigv2[0,0], eigv2[0,1], eigv2[0,2]])\n",
      "print v2\n",
      "u2 = np.array([eigv2[1,0], eigv2[1,1], eigv2[1,2]])\n",
      "print u2"
     ],
     "language": "python",
     "metadata": {},
     "outputs": [
      {
       "output_type": "stream",
       "stream": "stdout",
       "text": [
        "1.03506240379e-05\n",
        "[[-0.86318064 -0.50489522  0.        ]]\n",
        "[-0.86318064 -0.50489522  0.        ]\n",
        "[ 0.  0.  1.]\n"
       ]
      }
     ],
     "prompt_number": 83
    },
    {
     "cell_type": "code",
     "collapsed": false,
     "input": [
      "ells4 = [Ellipse(xy=[0,0], width=10**6*eig2[0], height=10**6*eig2[1], angle = angle_(v2, u2))]#angle=rnd.rand()*360)]"
     ],
     "language": "python",
     "metadata": {},
     "outputs": [],
     "prompt_number": 84
    },
    {
     "cell_type": "code",
     "collapsed": false,
     "input": [
      "angle_(v2, u2)"
     ],
     "language": "python",
     "metadata": {},
     "outputs": [
      {
       "metadata": {},
       "output_type": "pyout",
       "prompt_number": 85,
       "text": [
        "90.0"
       ]
      }
     ],
     "prompt_number": 85
    },
    {
     "cell_type": "code",
     "collapsed": false,
     "input": [
      "fig = plt.figure(0)\n",
      "ax = fig.add_subplot(111, aspect='equal')\n",
      "for e in ells4:\n",
      "    ax.add_artist(e)\n",
      "    e.set_clip_box(ax.bbox)\n",
      "    e.set_alpha(rnd.rand())\n",
      "    e.set_facecolor(rnd.rand(3))\n",
      "\n",
      "ax.set_xlim(-10, 10)\n",
      "ax.set_ylim(-10, 10)\n",
      "\n",
      "plt.show()"
     ],
     "language": "python",
     "metadata": {},
     "outputs": [
      {
       "metadata": {},
       "output_type": "display_data",
       "png": "[encoded data removed]",
       "text": [
        "<matplotlib.figure.Figure at 0x7efb5d5f6490>"
       ]
      }
     ],
     "prompt_number": 86
    },
    {
     "cell_type": "code",
     "collapsed": false,
     "input": [
      "pr_on_plane_ = np.dot(L_inv, projecting)\n",
      "pr_on_plane = np.dot(pr_on_plane_, L_inv.T)\n",
      "pr_on_plane"
     ],
     "language": "python",
     "metadata": {},
     "outputs": [
      {
       "metadata": {},
       "output_type": "pyout",
       "prompt_number": 87,
       "text": [
        "matrix([[  1.15403301e-05,   2.49756966e-08,   0.00000000e+00],\n",
        "        [  2.49756966e-08,   1.03511484e-05,   0.00000000e+00],\n",
        "        [  0.00000000e+00,   0.00000000e+00,   0.00000000e+00]])"
       ]
      }
     ],
     "prompt_number": 87
    },
    {
     "cell_type": "code",
     "collapsed": false,
     "input": [
      "np.linalg.eig(pr_on_plane)"
     ],
     "language": "python",
     "metadata": {},
     "outputs": [
      {
       "metadata": {},
       "output_type": "pyout",
       "prompt_number": 88,
       "text": [
        "(array([  1.15408544e-05,   1.03506240e-05,   0.00000000e+00]),\n",
        " matrix([[ 0.99977972, -0.02098854,  0.        ],\n",
        "         [ 0.02098854,  0.99977972,  0.        ],\n",
        "         [ 0.        ,  0.        ,  1.        ]]))"
       ]
      }
     ],
     "prompt_number": 88
    },
    {
     "cell_type": "code",
     "collapsed": false,
     "input": [
      "eig3 = np.linalg.eig(pr_on_plane)[0]\n",
      "eigv3 = np.linalg.eig(pr_on_plane)[1]\n",
      "print eig3\n",
      "print eigv3[0]\n",
      "v3 = np.array([eigv3[0,0], eigv3[0,1], eigv3[0,2]])\n",
      "print v3\n",
      "u3 = np.array([eigv3[1,0], eigv3[1,1], eigv3[1,2]])\n",
      "print u3"
     ],
     "language": "python",
     "metadata": {},
     "outputs": [
      {
       "output_type": "stream",
       "stream": "stdout",
       "text": [
        "[  1.15408544e-05   1.03506240e-05   0.00000000e+00]\n",
        "[[ 0.99977972 -0.02098854  0.        ]]\n",
        "[ 0.99977972 -0.02098854  0.        ]\n",
        "[ 0.02098854  0.99977972  0.        ]\n"
       ]
      }
     ],
     "prompt_number": 89
    },
    {
     "cell_type": "code",
     "collapsed": false,
     "input": [
      "ells5 = [Ellipse(xy=[0,0], width=10**6*eig3[0], height=10**6*eig3[1], angle = angle_(v3, u3))]#angle=rnd.rand()*360)]"
     ],
     "language": "python",
     "metadata": {},
     "outputs": [],
     "prompt_number": 93
    },
    {
     "cell_type": "code",
     "collapsed": false,
     "input": [
      "angle_(v3, u3)"
     ],
     "language": "python",
     "metadata": {},
     "outputs": [
      {
       "metadata": {},
       "output_type": "pyout",
       "prompt_number": 94,
       "text": [
        "89.999999999999957"
       ]
      }
     ],
     "prompt_number": 94
    },
    {
     "cell_type": "code",
     "collapsed": false,
     "input": [
      "fig = plt.figure(0)\n",
      "ax = fig.add_subplot(111, aspect='equal')\n",
      "for e in ells5:\n",
      "    ax.add_artist(e)\n",
      "    e.set_clip_box(ax.bbox)\n",
      "    e.set_alpha(rnd.rand())\n",
      "    e.set_facecolor(rnd.rand(3))\n",
      "\n",
      "ax.set_xlim(-10, 10)\n",
      "ax.set_ylim(-10, 10)\n",
      "\n",
      "plt.show()"
     ],
     "language": "python",
     "metadata": {},
     "outputs": [
      {
       "metadata": {},
       "output_type": "display_data",
       "png": "[encoded data removed]",
       "text": [
        "<matplotlib.figure.Figure at 0x7efb5d693490>"
       ]
      }
     ],
     "prompt_number": 95
    },
    {
     "cell_type": "code",
     "collapsed": false,
     "input": [],
     "language": "python",
     "metadata": {},
     "outputs": []
    }
   ],
   "metadata": {}
  }
 ]
}