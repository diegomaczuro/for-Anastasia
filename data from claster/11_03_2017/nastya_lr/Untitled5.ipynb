{
 "metadata": {
  "name": "",
  "signature": "sha256:efb03d867a5a0381086a34297f2898a6d110025fcec98836d09c61e009caa6cb"
 },
 "nbformat": 3,
 "nbformat_minor": 0,
 "worksheets": [
  {
   "cells": [
    {
     "cell_type": "code",
     "collapsed": false,
     "input": [
      "import numpy as np\n",
      "import nibabel as nib\n",
      "import dipy.reconst.dti as dti\n",
      "from dipy.data import fetch_stanford_hardi\n",
      "import matplotlib.pylab as plt\n",
      "%matplotlib inline"
     ],
     "language": "python",
     "metadata": {},
     "outputs": [],
     "prompt_number": 19
    },
    {
     "cell_type": "code",
     "collapsed": false,
     "input": [
      "fetch_stanford_hardi()"
     ],
     "language": "python",
     "metadata": {},
     "outputs": [
      {
       "output_type": "stream",
       "stream": "stdout",
       "text": [
        "Creating new folder /home/shido/.dipy/stanford_hardi\n",
        "Downloading \"HARDI150.bval\" to /home/shido/.dipy/stanford_hardi\n",
        "Downloading \"HARDI150.nii.gz\" to /home/shido/.dipy/stanford_hardi"
       ]
      },
      {
       "output_type": "stream",
       "stream": "stdout",
       "text": [
        "\n",
        "Downloading \"HARDI150.bvec\" to /home/shido/.dipy/stanford_hardi"
       ]
      },
      {
       "output_type": "stream",
       "stream": "stdout",
       "text": [
        "\n",
        "Files successfully downloaded to /home/shido/.dipy/stanford_hardi"
       ]
      },
      {
       "output_type": "stream",
       "stream": "stdout",
       "text": [
        "\n"
       ]
      },
      {
       "metadata": {},
       "output_type": "pyout",
       "prompt_number": 4,
       "text": [
        "({'HARDI150.bval': ('https://stacks.stanford.edu/file/druid:yx282xq2090/dwi.bvals',\n",
        "   '4e08ee9e2b1d2ec3fddb68c70ae23c36'),\n",
        "  'HARDI150.bvec': ('https://stacks.stanford.edu/file/druid:yx282xq2090/dwi.bvecs',\n",
        "   '4c63a586f29afc6a48a5809524a76cb4'),\n",
        "  'HARDI150.nii.gz': ('https://stacks.stanford.edu/file/druid:yx282xq2090/dwi.nii.gz',\n",
        "   '0b18513b46132b4d1051ed3364f2acbc')},\n",
        " '/home/shido/.dipy/stanford_hardi')"
       ]
      }
     ],
     "prompt_number": 4
    },
    {
     "cell_type": "code",
     "collapsed": false,
     "input": [
      "from dipy.data import read_stanford_hardi\n",
      "\n",
      "img, gtab = read_stanford_hardi()"
     ],
     "language": "python",
     "metadata": {},
     "outputs": [
      {
       "output_type": "stream",
       "stream": "stdout",
       "text": [
        "Dataset is already in place. If you want to fetch it again please first remove the folder /home/shido/.dipy/stanford_hardi \n"
       ]
      }
     ],
     "prompt_number": 5
    },
    {
     "cell_type": "code",
     "collapsed": false,
     "input": [
      "print gtab"
     ],
     "language": "python",
     "metadata": {},
     "outputs": [
      {
       "output_type": "stream",
       "stream": "stdout",
       "text": [
        "<dipy.core.gradients.GradientTable object at 0x7efbc97d2e50>\n"
       ]
      }
     ],
     "prompt_number": 23
    },
    {
     "cell_type": "code",
     "collapsed": false,
     "input": [
      "data = img.get_data()\n",
      "print('data.shape (%d, %d, %d, %d)' % data.shape)"
     ],
     "language": "python",
     "metadata": {},
     "outputs": [
      {
       "output_type": "stream",
       "stream": "stdout",
       "text": [
        "data.shape (81, 106, 76, 160)\n"
       ]
      }
     ],
     "prompt_number": 6
    },
    {
     "cell_type": "code",
     "collapsed": false,
     "input": [
      "from dipy.segment.mask import median_otsu\n",
      "\n",
      "maskdata, mask = median_otsu(data, 3, 1, True,\n",
      "                             vol_idx=range(10, 50), dilate=2)\n",
      "print('maskdata.shape (%d, %d, %d, %d)' % maskdata.shape)"
     ],
     "language": "python",
     "metadata": {},
     "outputs": [
      {
       "output_type": "stream",
       "stream": "stdout",
       "text": [
        "maskdata.shape (71, 87, 62, 160)\n"
       ]
      }
     ],
     "prompt_number": 7
    },
    {
     "cell_type": "code",
     "collapsed": false,
     "input": [
      "tenmodel = dti.TensorModel(gtab)"
     ],
     "language": "python",
     "metadata": {},
     "outputs": [],
     "prompt_number": 8
    },
    {
     "cell_type": "code",
     "collapsed": false,
     "input": [
      "tenfit = tenmodel.fit(maskdata)"
     ],
     "language": "python",
     "metadata": {},
     "outputs": [],
     "prompt_number": 9
    },
    {
     "cell_type": "code",
     "collapsed": false,
     "input": [
      "print('Computing anisotropy measures (FA, MD, RGB)')\n",
      "from dipy.reconst.dti import fractional_anisotropy, color_fa, lower_triangular\n",
      "\n",
      "FA = fractional_anisotropy(tenfit.evals)"
     ],
     "language": "python",
     "metadata": {},
     "outputs": [
      {
       "output_type": "stream",
       "stream": "stdout",
       "text": [
        "Computing anisotropy measures (FA, MD, RGB)\n"
       ]
      }
     ],
     "prompt_number": 10
    },
    {
     "cell_type": "code",
     "collapsed": false,
     "input": [
      "FA[np.isnan(FA)] = 0"
     ],
     "language": "python",
     "metadata": {},
     "outputs": [],
     "prompt_number": 11
    },
    {
     "cell_type": "code",
     "collapsed": false,
     "input": [
      "fa_img = nib.Nifti1Image(FA.astype(np.float32), img.affine)\n",
      "nib.save(fa_img, 'tensor_fa.nii.gz')"
     ],
     "language": "python",
     "metadata": {},
     "outputs": [],
     "prompt_number": 12
    },
    {
     "cell_type": "code",
     "collapsed": false,
     "input": [
      "evecs_img = nib.Nifti1Image(tenfit.evecs.astype(np.float32), img.affine)\n",
      "nib.save(evecs_img, 'tensor_evecs.nii.gz')"
     ],
     "language": "python",
     "metadata": {},
     "outputs": [],
     "prompt_number": 13
    },
    {
     "cell_type": "code",
     "collapsed": false,
     "input": [
      "MD1 = dti.mean_diffusivity(tenfit.evals)\n",
      "nib.save(nib.Nifti1Image(MD1.astype(np.float32), img.affine), 'tensors_md.nii.gz')"
     ],
     "language": "python",
     "metadata": {},
     "outputs": [],
     "prompt_number": 14
    },
    {
     "cell_type": "code",
     "collapsed": false,
     "input": [
      "MD2 = tenfit.md"
     ],
     "language": "python",
     "metadata": {},
     "outputs": [],
     "prompt_number": 15
    },
    {
     "cell_type": "code",
     "collapsed": false,
     "input": [
      "FA = np.clip(FA, 0, 1)\n",
      "RGB = color_fa(FA, tenfit.evecs)\n",
      "nib.save(nib.Nifti1Image(np.array(255 * RGB, 'uint8'), img.affine), 'tensor_rgb.nii.gz')"
     ],
     "language": "python",
     "metadata": {},
     "outputs": [],
     "prompt_number": 16
    },
    {
     "cell_type": "code",
     "collapsed": false,
     "input": [
      "\n",
      "\n",
      "print('Computing tensor ellipsoids in a part of the splenium of the CC')\n",
      "\n",
      "from dipy.data import get_sphere\n",
      "sphere = get_sphere('symmetric724')\n",
      "\n",
      "from dipy.viz import fvtk\n",
      "ren = fvtk.ren()\n",
      "\n",
      "evals = tenfit.evals[13:43, 44:74, 28:29]\n",
      "evecs = tenfit.evecs[13:43, 44:74, 28:29]\n",
      "\n"
     ],
     "language": "python",
     "metadata": {},
     "outputs": [
      {
       "output_type": "stream",
       "stream": "stdout",
       "text": [
        "Computing tensor ellipsoids in a part of the splenium of the CC\n"
       ]
      }
     ],
     "prompt_number": 17
    },
    {
     "cell_type": "code",
     "collapsed": false,
     "input": [
      "cfa = RGB[13:43, 44:74, 28:29]\n",
      "cfa /= cfa.max()\n",
      "\n",
      "fvtk.add(ren, fvtk.tensor(evals, evecs, cfa, sphere))\n",
      "\n",
      "print('Saving illustration as tensor_ellipsoids.png')\n",
      "fvtk.record(ren, n_frames=1, out_path='tensor_ellipsoids.png', size=(600, 600))"
     ],
     "language": "python",
     "metadata": {},
     "outputs": [
      {
       "output_type": "stream",
       "stream": "stdout",
       "text": [
        "Saving illustration as tensor_ellipsoids.png\n"
       ]
      }
     ],
     "prompt_number": 20
    },
    {
     "cell_type": "code",
     "collapsed": false,
     "input": [],
     "language": "python",
     "metadata": {},
     "outputs": []
    }
   ],
   "metadata": {}
  }
 ]
}