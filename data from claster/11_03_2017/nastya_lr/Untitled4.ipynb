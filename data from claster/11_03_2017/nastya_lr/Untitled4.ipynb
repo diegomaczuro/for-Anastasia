{
 "metadata": {
  "name": "",
  "signature": "sha256:0e13e5fb29aa117916db4c3cc23b535df5b82b79f691ad147e9ee624d88b9f0b"
 },
 "nbformat": 3,
 "nbformat_minor": 0,
 "worksheets": [
  {
   "cells": [
    {
     "cell_type": "code",
     "collapsed": false,
     "input": [
      "import numpy as np\n",
      "tenzor = np.array([[1,0,0], [0, 1, 0], [0, 0, 2]])\n",
      "a_x = np.array([[0,0,0], [0, 1, 0], [0, 0, 2]])\n",
      "a_y = np.array([[1,0,0], [0, 0, 0], [0, 0, 2]])\n",
      "a_z = np.array([[1,0,0], [0, 1, 0], [0, 0, 0]])\n",
      "\n",
      "n_x_ = np.array([1, 1, 1])\n",
      "n_y_ = np.array([0, 1, -1])\n",
      "n_z_ = np.cross(n_x, n_y)\n",
      "\n",
      "n_x = n_x_/np.linalg.norm(n_x_)\n",
      "n_y = n_y_/np.linalg.norm(n_y_)\n",
      "n_z = n_z_/np.linalg.norm(n_z_)\n",
      "\n",
      "\n",
      "\n",
      "L = np.array([[1./3**0.5,          0,  -2./6**0.5],\n",
      "              [1./3**0.5,  1./2**0.5,  1./6**0.5],\n",
      "              [1./3**0.5, -1./2**0.5,  1./6**0.5]])\n",
      "               \n",
      "L2 = np.array([n_x, n_y, n_y]).T\n",
      "\n",
      "print n_x, n_y, n_z, L, L2\n",
      "\n",
      "\n",
      "\n",
      "a_x_ = np.dot(L, a_x)\n",
      "a_x_ = np.dot(a_x_, L.T)\n",
      "#a_x_"
     ],
     "language": "python",
     "metadata": {},
     "outputs": [
      {
       "output_type": "stream",
       "stream": "stdout",
       "text": [
        "[ 0.57735027  0.57735027  0.57735027] [ 0.          0.70710678 -0.70710678] [-0.81649658  0.40824829  0.40824829] [[ 0.57735027  0.         -0.81649658]\n",
        " [ 0.57735027  0.70710678  0.40824829]\n",
        " [ 0.57735027 -0.70710678  0.40824829]] [[ 0.57735027  0.          0.        ]\n",
        " [ 0.57735027  0.70710678  0.70710678]\n",
        " [ 0.57735027 -0.70710678 -0.70710678]]\n"
       ]
      }
     ],
     "prompt_number": 143
    },
    {
     "cell_type": "code",
     "collapsed": false,
     "input": [
      "np.linalg.det(L)"
     ],
     "language": "python",
     "metadata": {},
     "outputs": [
      {
       "metadata": {},
       "output_type": "pyout",
       "prompt_number": 125,
       "text": [
        "1.0000000000000002"
       ]
      }
     ],
     "prompt_number": 125
    },
    {
     "cell_type": "code",
     "collapsed": false,
     "input": [
      "a_y_ = np.dot(L, a_y)\n",
      "a_y_ = np.dot(a_y_, L.T)\n",
      "a_y_"
     ],
     "language": "python",
     "metadata": {},
     "outputs": [
      {
       "metadata": {},
       "output_type": "pyout",
       "prompt_number": 126,
       "text": [
        "array([[ 1.66666667, -0.33333333, -0.33333333],\n",
        "       [-0.33333333,  0.66666667,  0.66666667],\n",
        "       [-0.33333333,  0.66666667,  0.66666667]])"
       ]
      }
     ],
     "prompt_number": 126
    },
    {
     "cell_type": "code",
     "collapsed": false,
     "input": [
      "a_z_ = np.dot(L, a_z)\n",
      "a_z_ = np.dot(a_z_, L.T)\n",
      "a_z_"
     ],
     "language": "python",
     "metadata": {},
     "outputs": [
      {
       "metadata": {},
       "output_type": "pyout",
       "prompt_number": 127,
       "text": [
        "array([[ 0.33333333,  0.33333333,  0.33333333],\n",
        "       [ 0.33333333,  0.83333333, -0.16666667],\n",
        "       [ 0.33333333, -0.16666667,  0.83333333]])"
       ]
      }
     ],
     "prompt_number": 127
    },
    {
     "cell_type": "code",
     "collapsed": false,
     "input": [
      "tenzor_ = np.dot(L, tenzor)\n",
      "tenzor_ = np.dot(tenzor_, L.T)\n",
      "tenzor_"
     ],
     "language": "python",
     "metadata": {},
     "outputs": [
      {
       "metadata": {},
       "output_type": "pyout",
       "prompt_number": 128,
       "text": [
        "array([[ 1.66666667, -0.33333333, -0.33333333],\n",
        "       [-0.33333333,  1.16666667,  0.16666667],\n",
        "       [-0.33333333,  0.16666667,  1.16666667]])"
       ]
      }
     ],
     "prompt_number": 128
    },
    {
     "cell_type": "code",
     "collapsed": false,
     "input": [
      "np.linalg.eig(a_x_)"
     ],
     "language": "python",
     "metadata": {},
     "outputs": [
      {
       "metadata": {},
       "output_type": "pyout",
       "prompt_number": 129,
       "text": [
        "(array([ 2.,  0.,  1.]),\n",
        " array([[  8.16496581e-01,  -5.77350269e-01,   3.70074342e-17],\n",
        "        [ -4.08248290e-01,  -5.77350269e-01,  -7.07106781e-01],\n",
        "        [ -4.08248290e-01,  -5.77350269e-01,   7.07106781e-01]]))"
       ]
      }
     ],
     "prompt_number": 129
    },
    {
     "cell_type": "code",
     "collapsed": false,
     "input": [],
     "language": "python",
     "metadata": {},
     "outputs": [],
     "prompt_number": 129
    },
    {
     "cell_type": "code",
     "collapsed": false,
     "input": [
      "def project_tensor_on_plane(n, tensor):\n",
      "    \"\"\"   \n",
      "             n: plane normal tenzor\n",
      "        tensor: old tensor in 3D space\n",
      "         \n",
      "        return: Projection Tensor     \n",
      "    \n",
      "    \"\"\"\n",
      "    P = np.array([[1-n[0][0]**2, -n[0][0]*n[1][1], -n[0][0]*n[2][2]],\n",
      "                  [-n[0][0]*n[1][1], 1-n[1][1]**2, -n[1][1]*n[2][2]],\n",
      "                 [-n[0][0]*n[2][2], -n[1][1]*n[2][2], 1-n[2][2]**2]])\n",
      "    \n",
      "    #M = np.array([[tensor[0][0],0,0],\n",
      "                  #[0,tensor[1][1],0],\n",
      "                  #[0,0,tensor[2][2]]])\n",
      "    \n",
      "    M2 = np.dot(P,tensor)\n",
      "    M_ = np.dot(M2,P.T)\n",
      "   \n",
      "    return M_"
     ],
     "language": "python",
     "metadata": {},
     "outputs": [],
     "prompt_number": 146
    },
    {
     "cell_type": "code",
     "collapsed": false,
     "input": [
      "norm = np.array([[1,0,0],[0,0,0],[0,0,0]])\n",
      "norm_ = np.dot(L, norm)\n",
      "norm_ = np.dot(norm_, L.T)\n",
      "norm_"
     ],
     "language": "python",
     "metadata": {},
     "outputs": [
      {
       "metadata": {},
       "output_type": "pyout",
       "prompt_number": 147,
       "text": [
        "array([[ 0.33333333,  0.33333333,  0.33333333],\n",
        "       [ 0.33333333,  0.33333333,  0.33333333],\n",
        "       [ 0.33333333,  0.33333333,  0.33333333]])"
       ]
      }
     ],
     "prompt_number": 147
    },
    {
     "cell_type": "code",
     "collapsed": false,
     "input": [
      "projectioning_x = project_tensor_on_plane(norm_, tenzor_)\n",
      "projectioning_x"
     ],
     "language": "python",
     "metadata": {},
     "outputs": [
      {
       "metadata": {},
       "output_type": "pyout",
       "prompt_number": 148,
       "text": [
        "array([[ 1.48148148, -0.51851852, -0.51851852],\n",
        "       [-0.51851852,  0.98148148, -0.01851852],\n",
        "       [-0.51851852, -0.01851852,  0.98148148]])"
       ]
      }
     ],
     "prompt_number": 148
    },
    {
     "cell_type": "code",
     "collapsed": false,
     "input": [
      "a_x_"
     ],
     "language": "python",
     "metadata": {},
     "outputs": [
      {
       "metadata": {},
       "output_type": "pyout",
       "prompt_number": 149,
       "text": [
        "array([[ 1.33333333, -0.66666667, -0.66666667],\n",
        "       [-0.66666667,  0.83333333, -0.16666667],\n",
        "       [-0.66666667, -0.16666667,  0.83333333]])"
       ]
      }
     ],
     "prompt_number": 149
    },
    {
     "cell_type": "code",
     "collapsed": false,
     "input": [
      "projectioning_x - a_x_"
     ],
     "language": "python",
     "metadata": {},
     "outputs": [
      {
       "metadata": {},
       "output_type": "pyout",
       "prompt_number": 150,
       "text": [
        "array([[ 0.14814815,  0.14814815,  0.14814815],\n",
        "       [ 0.14814815,  0.14814815,  0.14814815],\n",
        "       [ 0.14814815,  0.14814815,  0.14814815]])"
       ]
      }
     ],
     "prompt_number": 150
    },
    {
     "cell_type": "code",
     "collapsed": false,
     "input": [],
     "language": "python",
     "metadata": {},
     "outputs": [],
     "prompt_number": 134
    },
    {
     "cell_type": "code",
     "collapsed": false,
     "input": [
      "n = np.array([1, 0, 0])\n",
      "n = np.dot(L, n)\n",
      "n = np.dot(n, L.T)\n",
      "\n",
      "P = np.array([[1-n[0]**2, -n[0]*n[1], -n[0]*n[2]],\n",
      "                  [-n[0]*n[1], 1-n[1]**2, -n[1]*n[2]],\n",
      "                 [-n[0]*n[2], -n[1]*n[2], 1-n[2]**2]])\n",
      "P    "
     ],
     "language": "python",
     "metadata": {},
     "outputs": [
      {
       "metadata": {},
       "output_type": "pyout",
       "prompt_number": 162,
       "text": [
        "array([[ 0.98093635,  0.13493475,  0.02220009],\n",
        "       [ 0.13493475,  0.04491621, -0.15713484],\n",
        "       [ 0.02220009, -0.15713484,  0.97414744]])"
       ]
      }
     ],
     "prompt_number": 162
    },
    {
     "cell_type": "code",
     "collapsed": false,
     "input": [],
     "language": "python",
     "metadata": {},
     "outputs": [],
     "prompt_number": 162
    },
    {
     "cell_type": "code",
     "collapsed": false,
     "input": [],
     "language": "python",
     "metadata": {},
     "outputs": [],
     "prompt_number": 162
    },
    {
     "cell_type": "code",
     "collapsed": false,
     "input": [
      "tenzor_"
     ],
     "language": "python",
     "metadata": {},
     "outputs": [
      {
       "metadata": {},
       "output_type": "pyout",
       "prompt_number": 163,
       "text": [
        "array([[ 1.66666667, -0.33333333, -0.33333333],\n",
        "       [-0.33333333,  1.16666667,  0.16666667],\n",
        "       [-0.33333333,  0.16666667,  1.16666667]])"
       ]
      }
     ],
     "prompt_number": 163
    },
    {
     "cell_type": "code",
     "collapsed": false,
     "input": [
      "M2 = np.dot(P,tenzor_)\n",
      "M_ = np.dot(M2,P.T)\n",
      "np.linalg.det(M_)"
     ],
     "language": "python",
     "metadata": {},
     "outputs": [
      {
       "metadata": {},
       "output_type": "pyout",
       "prompt_number": 167,
       "text": [
        "1.4537893135960916e-17"
       ]
      }
     ],
     "prompt_number": 167
    },
    {
     "cell_type": "code",
     "collapsed": false,
     "input": [
      "a_x_"
     ],
     "language": "python",
     "metadata": {},
     "outputs": [
      {
       "metadata": {},
       "output_type": "pyout",
       "prompt_number": 166,
       "text": [
        "array([[ 1.33333333, -0.66666667, -0.66666667],\n",
        "       [-0.66666667,  0.83333333, -0.16666667],\n",
        "       [-0.66666667, -0.16666667,  0.83333333]])"
       ]
      }
     ],
     "prompt_number": 166
    },
    {
     "cell_type": "code",
     "collapsed": false,
     "input": [],
     "language": "python",
     "metadata": {},
     "outputs": []
    }
   ],
   "metadata": {}
  }
 ]
}