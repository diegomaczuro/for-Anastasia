{
 "metadata": {
  "name": "",
  "signature": "sha256:4a995c9d9a69ecff47fd0e9936fed943e13700a10b918ad6c15f1cf0ad5bf723"
 },
 "nbformat": 3,
 "nbformat_minor": 0,
 "worksheets": [
  {
   "cells": [
    {
     "cell_type": "code",
     "collapsed": false,
     "input": [
      "# -*- coding: utf_8 -*-\n",
      "import matplotlib.pylab as plt\n",
      "%matplotlib inline\n",
      "import numpy as np\n",
      "import pandas as pd\n",
      "import vtk\n",
      "from vtk import *\n",
      "from vtk.util import numpy_support\n",
      "import matplotlib.pylab as plt\n",
      "import os\n",
      "import imp\n",
      "import h5py\n",
      "from sklearn.neighbors import KDTree\n",
      "from tqdm import tqdm\n"
     ],
     "language": "python",
     "metadata": {},
     "outputs": [],
     "prompt_number": 1
    },
    {
     "cell_type": "code",
     "collapsed": false,
     "input": [
      "way_2d = '/home/shido/chaste-output/nastya_lr'\n",
      "FILE_H5 = 'results.h5'\n",
      "FILE_MESH = 'init_mesh_1.vtu'\n",
      "FILE_OUT = 'out.vtu'\n",
      "os.path.exists(os.path.join(way_2d, FILE_H5))"
     ],
     "language": "python",
     "metadata": {},
     "outputs": [
      {
       "metadata": {},
       "output_type": "pyout",
       "prompt_number": 2,
       "text": [
        "True"
       ]
      }
     ],
     "prompt_number": 2
    },
    {
     "cell_type": "code",
     "collapsed": false,
     "input": [
      "fl = h5py.File(os.path.join(way_2d, FILE_H5), 'r')\n",
      "fl.items()\n",
      "data = fl['Data']"
     ],
     "language": "python",
     "metadata": {},
     "outputs": [],
     "prompt_number": 3
    },
    {
     "cell_type": "code",
     "collapsed": false,
     "input": [
      "len(data[0])"
     ],
     "language": "python",
     "metadata": {},
     "outputs": [
      {
       "metadata": {},
       "output_type": "pyout",
       "prompt_number": 4,
       "text": [
        "11612"
       ]
      }
     ],
     "prompt_number": 4
    },
    {
     "cell_type": "code",
     "collapsed": false,
     "input": [
      "data"
     ],
     "language": "python",
     "metadata": {},
     "outputs": [
      {
       "metadata": {},
       "output_type": "pyout",
       "prompt_number": 5,
       "text": [
        "<HDF5 dataset \"Data\": shape (16, 11612, 2), type \"<f8\">"
       ]
      }
     ],
     "prompt_number": 5
    },
    {
     "cell_type": "code",
     "collapsed": false,
     "input": [
      "plt.plot(data[:,1,0])"
     ],
     "language": "python",
     "metadata": {},
     "outputs": [
      {
       "metadata": {},
       "output_type": "pyout",
       "prompt_number": 8,
       "text": [
        "[<matplotlib.lines.Line2D at 0x7f0f251d8610>]"
       ]
      },
      {
       "metadata": {},
       "output_type": "display_data",
       "png": "[encoded data removed]",
       "text": [
        "<matplotlib.figure.Figure at 0x7f0f252abd90>"
       ]
      }
     ],
     "prompt_number": 8
    },
    {
     "cell_type": "code",
     "collapsed": false,
     "input": [
      "arr = data[:,123,0]\n",
      "plt.plot(arr)"
     ],
     "language": "python",
     "metadata": {},
     "outputs": []
    },
    {
     "cell_type": "code",
     "collapsed": false,
     "input": [
      "arr = data[:,123,0]\n",
      "plt.plot(arr)"
     ],
     "language": "python",
     "metadata": {},
     "outputs": []
    },
    {
     "cell_type": "code",
     "collapsed": false,
     "input": [
      "arr = data[:,123,0]\n",
      "plt.plot(arr)"
     ],
     "language": "python",
     "metadata": {},
     "outputs": []
    },
    {
     "cell_type": "code",
     "collapsed": false,
     "input": [
      "    def _set_apd_treshold(apd_foot, apd_treshold):\n",
      "        \"\"\"\n",
      "        Set foot and overshoot values for find APD90 threshold.\n",
      "        :param apd_foot: foot level APD\n",
      "        :param apd_treshold: Overshoot maximum\n",
      "        :return:\n",
      "        \"\"\"\n",
      "        _apd_foot = apd_foot\n",
      "        _apd_overshoot = apd_treshold\n",
      "        return _apd_foot + np.abs(_apd_overshoot - _apd_foot) * 0.1"
     ],
     "language": "python",
     "metadata": {},
     "outputs": []
    },
    {
     "cell_type": "code",
     "collapsed": false,
     "input": [
      "_apd_treshold = _set_apd_treshold(-85.9654923732, 32.7753037234)"
     ],
     "language": "python",
     "metadata": {},
     "outputs": []
    },
    {
     "cell_type": "code",
     "collapsed": false,
     "input": [
      "_apd_treshold"
     ],
     "language": "python",
     "metadata": {},
     "outputs": []
    },
    {
     "cell_type": "code",
     "collapsed": false,
     "input": [
      "reader = vtk.vtkXMLUnstructuredGridReader()\n",
      "reader.SetFileName(os.path.join(way_2d, FILE_MESH))\n",
      "reader.Update()\n",
      "\n",
      "data_heart = reader.GetOutput()\n",
      "points = numpy_support.vtk_to_numpy(data_heart.GetPoints().GetData())\n",
      "cells = numpy_support.vtk_to_numpy(data_heart.GetCells().GetData())"
     ],
     "language": "python",
     "metadata": {},
     "outputs": []
    },
    {
     "cell_type": "code",
     "collapsed": false,
     "input": [
      "arr_number = data_heart.GetPointData().GetNumberOfArrays()\n",
      "activation_map = np.zeros(len(points))\n",
      "repolarization_map = np.zeros(len(points))\n",
      "activation_map[:] = np.nan\n",
      "repolarization_map[:] = np.nan\n",
      "time = 0"
     ],
     "language": "python",
     "metadata": {},
     "outputs": []
    },
    {
     "cell_type": "code",
     "collapsed": false,
     "input": [
      "for i in tqdm(xrange(len(data[0]))):\n",
      "    for_point = data[:, i, 0]\n",
      "    act_ = np.where(for_point > _apd_treshold)[0][0]\n",
      "    rep_ = np.where(for_point > _apd_treshold)[0][-1]\n",
      "    apd_90 = rep_ - act_\n",
      "    activation_map[i] = act_\n",
      "    repolarization_map[i] = rep_"
     ],
     "language": "python",
     "metadata": {},
     "outputs": []
    },
    {
     "cell_type": "code",
     "collapsed": false,
     "input": [
      "early_point = np.argmin(activation_map)\n",
      "late_point = np.argmax(activation_map)\n",
      "\n",
      "#if file_out is not None and os.path.exists(os.path.dirname(file_out)):\n",
      "array_for_write = numpy_support.numpy_to_vtk(activation_map, deep=True, array_type=vtk.VTK_FLOAT)\n",
      "array_for_write.SetName(\"activation_map\")\n",
      "data_heart.GetPointData().AddArray(array_for_write)\n",
      "\n",
      "array_for_write2 = numpy_support.numpy_to_vtk(repolarization_map, deep=True, array_type=vtk.VTK_FLOAT)\n",
      "array_for_write2.SetName(\"repolarization_map\")\n",
      "data_heart.GetPointData().AddArray(array_for_write2)\n",
      "\n",
      "array_for_write3 = numpy_support.numpy_to_vtk(repolarization_map - activation_map, deep=True,\n",
      "                                                          array_type=vtk.VTK_FLOAT)\n",
      "array_for_write3.SetName(\"APD90_map\")\n",
      "data_heart.GetPointData().AddArray(array_for_write3)\n",
      "\n",
      "writer = vtk.vtkXMLUnstructuredGridWriter()\n",
      "writer.SetFileName(os.path.join(way_2d, FILE_OUT))\n",
      "writer.SetInputData(data_heart)\n",
      "\n",
      "writer.Write()"
     ],
     "language": "python",
     "metadata": {},
     "outputs": []
    },
    {
     "cell_type": "code",
     "collapsed": false,
     "input": [
      "print early_point , late_point"
     ],
     "language": "python",
     "metadata": {},
     "outputs": []
    }
   ],
   "metadata": {}
  }
 ]
}