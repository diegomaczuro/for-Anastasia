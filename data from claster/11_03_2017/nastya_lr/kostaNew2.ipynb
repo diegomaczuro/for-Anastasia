{
 "metadata": {
  "name": "",
  "signature": "sha256:31d8c9294c80b2d03af6a292136103fdfc9246c9e6f64da95aba22520665cd9a"
 },
 "nbformat": 3,
 "nbformat_minor": 0,
 "worksheets": [
  {
   "cells": [
    {
     "cell_type": "code",
     "collapsed": false,
     "input": [
      "from vtk import *\n",
      "import numpy as np\n",
      "import pandas as pd\n",
      "from sklearn.neighbors import KDTree\n",
      "from vtk.util.numpy_support import vtk_to_numpy"
     ],
     "language": "python",
     "metadata": {},
     "outputs": [],
     "prompt_number": 1
    },
    {
     "cell_type": "code",
     "collapsed": false,
     "input": [
      "FILE_IN = '/home/shido/chaste-output/nastya_lr/video/heart_6.vtu'"
     ],
     "language": "python",
     "metadata": {},
     "outputs": [],
     "prompt_number": 10
    },
    {
     "cell_type": "code",
     "collapsed": false,
     "input": [
      "reader = vtk.vtkXMLUnstructuredGridReader()\n",
      "reader.SetFileName(FILE_IN)\n",
      "reader.Update()\n",
      "\n",
      "output = reader.GetOutput()\n"
     ],
     "language": "python",
     "metadata": {},
     "outputs": [],
     "prompt_number": 21
    },
    {
     "cell_type": "code",
     "collapsed": false,
     "input": [],
     "language": "python",
     "metadata": {},
     "outputs": [],
     "prompt_number": 21
    },
    {
     "cell_type": "code",
     "collapsed": false,
     "input": [
      "vtk_to_numpy(output.GetPointData().GetArray('V'))"
     ],
     "language": "python",
     "metadata": {},
     "outputs": [
      {
       "metadata": {},
       "output_type": "pyout",
       "prompt_number": 22,
       "text": [
        "array([-83.87217712, -83.87217712, -83.87217712, ..., -83.87217712,\n",
        "       -83.87217712, -83.87217712], dtype=float32)"
       ]
      }
     ],
     "prompt_number": 22
    },
    {
     "cell_type": "code",
     "collapsed": false,
     "input": [
      "_.GetArrayName"
     ],
     "language": "python",
     "metadata": {},
     "outputs": []
    }
   ],
   "metadata": {}
  }
 ]
}