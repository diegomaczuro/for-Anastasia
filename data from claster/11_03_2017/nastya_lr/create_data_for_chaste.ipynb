{
 "metadata": {
  "name": "",
  "signature": "sha256:2326c1c84ae47dfa83e075aa4a25eaa9a0f4c44909a7b9a2cb7c9581b00feee3"
 },
 "nbformat": 3,
 "nbformat_minor": 0,
 "worksheets": [
  {
   "cells": [
    {
     "cell_type": "code",
     "collapsed": false,
     "input": [
      "import numpy as np\n",
      "import pandas as pd\n",
      "from vtk import *\n",
      "from vtk.util import numpy_support\n",
      "import os\n",
      "\n",
      "from tqdm import tqdm"
     ],
     "language": "python",
     "metadata": {},
     "outputs": [],
     "prompt_number": 1
    },
    {
     "cell_type": "code",
     "collapsed": false,
     "input": [
      "CHASTE_FILE = './chaste/'\n",
      "way = '/home/shido/chaste-source/heart/test/nastya2'\n",
      "\n",
      "if not os.path.exists(CHASTE_FILE):\n",
      "    os.makedirs(CHASTE_FILE) \n",
      "FILE_VTK = './slice_mesh_with_fibers3.vtu'\n",
      "CHASTE_NODE = './chaste/data.node'\n",
      "CHASTE_ELE = './chaste/data.ele'\n",
      "CHASTE_FACE = './chaste/data.face'\n",
      "CHASTE_AXI = './chaste/data.axi'\n",
      "CHASTE_CSV = './chaste/data.csv'\n",
      "CHASTE_ORTHO = './chaste/data.ortho'\n",
      "CHASTE_EDGE = './chaste/data.edge'"
     ],
     "language": "python",
     "metadata": {},
     "outputs": [],
     "prompt_number": 2
    },
    {
     "cell_type": "code",
     "collapsed": false,
     "input": [
      "reader = vtkXMLUnstructuredGridReader()\n",
      "reader.SetFileName(FILE_VTK)\n",
      "reader.Update()\n",
      "assert(os.path.exists(FILE_VTK))"
     ],
     "language": "python",
     "metadata": {},
     "outputs": [],
     "prompt_number": 3
    },
    {
     "cell_type": "code",
     "collapsed": false,
     "input": [
      "data = reader.GetOutput()\n",
      "points = data.GetPoints()\n",
      "cells = data.GetCells()\n",
      "print data, points, cells"
     ],
     "language": "python",
     "metadata": {},
     "outputs": [
      {
       "output_type": "stream",
       "stream": "stdout",
       "text": [
        "vtkUnstructuredGrid (0x389d9f0)\n",
        "  Debug: Off\n",
        "  Modified Time: 295\n",
        "  Reference Count: 2\n",
        "  Registered Events: (none)\n",
        "  Information: 0x2f49eb0\n",
        "  Data Released: False\n",
        "  Global Release Data: Off\n",
        "  UpdateTime: 323\n",
        "  Field Data:\n",
        "    Debug: Off\n",
        "    Modified Time: 250\n",
        "    Reference Count: 1\n",
        "    Registered Events: (none)\n",
        "    Number Of Arrays: 0\n",
        "    Number Of Components: 0\n",
        "    Number Of Tuples: 0\n",
        "  Number Of Points: 11612\n",
        "  Number Of Cells: 22407\n",
        "  Cell Data:\n",
        "    Debug: Off\n",
        "    Modified Time: 258\n",
        "    Reference Count: 1\n",
        "    Registered Events: (none)\n",
        "    Number Of Arrays: 0\n",
        "    Number Of Components: 0\n",
        "    Number Of Tuples: 0\n",
        "    Copy Tuple Flags: ( 1 1 1 1 1 0 1 1 )\n",
        "    Interpolate Flags: ( 1 1 1 1 1 0 0 1 )\n",
        "    Pass Through Flags: ( 1 1 1 1 1 1 1 1 )\n",
        "    Scalars: (none)\n",
        "    Vectors: (none)\n",
        "    Normals: (none)\n",
        "    TCoords: (none)\n",
        "    Tensors: (none)\n",
        "    GlobalIds: (none)\n",
        "    PedigreeIds: (none)\n",
        "    EdgeFlag: (none)\n",
        "  Point Data:\n",
        "    Debug: Off\n",
        "    Modified Time: 295\n",
        "    Reference Count: 1\n",
        "    Registered Events: (none)\n",
        "    Number Of Arrays: 2\n",
        "    Array 0 name = Color\n",
        "    Array 1 name = Fibers\n",
        "    Number Of Components: 4\n",
        "    Number Of Tuples: 11612\n",
        "    Copy Tuple Flags: ( 1 1 1 1 1 0 1 1 )\n",
        "    Interpolate Flags: ( 1 1 1 1 1 0 0 1 )\n",
        "    Pass Through Flags: ( 1 1 1 1 1 1 1 1 )\n",
        "    Scalars: (none)\n",
        "    Vectors: (none)\n",
        "    Normals: (none)\n",
        "    TCoords: (none)\n",
        "    Tensors: (none)\n",
        "    GlobalIds: (none)\n",
        "    PedigreeIds: (none)\n",
        "    EdgeFlag: (none)\n",
        "  Bounds: \n",
        "    Xmin,Xmax: (-0.248745, 6.05461)\n",
        "    Ymin,Ymax: (-4.80713, 0.477896)\n",
        "    Zmin,Zmax: (-8.88178e-16, 8.88178e-16)\n",
        "  Compute Time: 335\n",
        "  Number Of Points: 11612\n",
        "  Point Coordinates: 0x31d3150\n",
        "  Locator: 0\n",
        "  Number Of Pieces: 1\n",
        "  Piece: 0\n",
        "  Ghost Level: 0\n",
        "\n",
        " vtkPoints (0x31d3150)\n",
        "  Debug: Off\n",
        "  Modified Time: 281\n",
        "  Reference Count: 2\n",
        "  Registered Events: (none)\n",
        "  Data: 0x3c8fdb0\n",
        "  Data Array Name: Points\n",
        "  Number Of Points: 11612\n",
        "  Bounds: \n",
        "    Xmin,Xmax: (-0.248745, 6.05461)\n",
        "    Ymin,Ymax: (-4.80713, 0.477896)\n",
        "    Zmin,Zmax: (-8.88178e-16, 8.88178e-16)\n",
        "\n",
        " vtkCellArray (0x31d34b0)\n",
        "  Debug: Off\n",
        "  Modified Time: 284\n",
        "  Reference Count: 2\n",
        "  Registered Events: (none)\n",
        "  Number Of Cells: 22407\n",
        "  Insert Location: 0\n",
        "  Traversal Location: 0\n",
        "\n",
        "\n"
       ]
      }
     ],
     "prompt_number": 4
    },
    {
     "cell_type": "code",
     "collapsed": false,
     "input": [
      "points_array = numpy_support.vtk_to_numpy(points.GetData())\n",
      "cells_array = numpy_support.vtk_to_numpy(cells.GetData())\n",
      "scalars_array = numpy_support.vtk_to_numpy(reader.GetOutput().GetPointData().GetAbstractArray('Color'))\n",
      "\n",
      "print points_array\n",
      "print cells_array[0:10]\n",
      "print scalars_array"
     ],
     "language": "python",
     "metadata": {},
     "outputs": [
      {
       "output_type": "stream",
       "stream": "stdout",
       "text": [
        "[[  9.61786211e-02  -2.04429841e+00   0.00000000e+00]\n",
        " [  8.28930810e-02  -2.01194692e+00   0.00000000e+00]\n",
        " [  7.03818426e-02  -1.97928941e+00   0.00000000e+00]\n",
        " ..., \n",
        " [ -1.29688776e-03  -4.46048863e-02   0.00000000e+00]\n",
        " [ -6.54880777e-02  -1.52184874e-01   0.00000000e+00]\n",
        " [ -3.08153909e-02  -8.79336298e-02   0.00000000e+00]]\n",
        "[  3 650 815 649   3 650 819 815   3 650]\n",
        "[ 0.  0.  0. ...,  0.  0.  0.]\n"
       ]
      }
     ],
     "prompt_number": 5
    },
    {
     "cell_type": "code",
     "collapsed": false,
     "input": [
      "vectors = numpy_support.vtk_to_numpy(data.GetPointData().GetAbstractArray('Fibers'))\n",
      "vectors"
     ],
     "language": "python",
     "metadata": {},
     "outputs": [
      {
       "metadata": {},
       "output_type": "pyout",
       "prompt_number": 6,
       "text": [
        "array([[ -4.89121079e-01,  -8.72215867e-01,  -2.63439274e-14],\n",
        "       [ -7.40382597e-02,  -9.97255385e-01,  -1.57374520e-14],\n",
        "       [ -7.40382597e-02,  -9.97255385e-01,  -1.57374520e-14],\n",
        "       ..., \n",
        "       [ -6.03777826e-01,  -7.97152638e-01,  -2.87047269e-14],\n",
        "       [ -4.40026909e-01,  -8.97984564e-01,  -2.51406765e-14],\n",
        "       [ -6.26092851e-01,  -7.79748499e-01,  -2.91792550e-14]], dtype=float32)"
       ]
      }
     ],
     "prompt_number": 6
    },
    {
     "cell_type": "code",
     "collapsed": false,
     "input": [
      "with open(os.path.join(way, CHASTE_NODE), 'w') as fl:\n",
      "    fl.write(\"{count} 2 0 0\\n\".format(count = len(points_array)))\n",
      "    for i in tqdm(xrange(len(points_array))):\n",
      "        fl.write(\"{n} {x} {y}\\n\".format(n=i, x=points_array[i][0], \n",
      "                                            y=points_array[i][1] #points_array[i][1], \n",
      "                                             ))#points_array[i][2]))"
     ],
     "language": "python",
     "metadata": {},
     "outputs": [
      {
       "output_type": "stream",
       "stream": "stderr",
       "text": [
        "\r",
        "  0%|          | 0/11612 [00:00<?, ?it/s]"
       ]
      },
      {
       "output_type": "stream",
       "stream": "stderr",
       "text": [
        "\r",
        " 58%|\u2588\u2588\u2588\u2588\u2588\u258a    | 6698/11612 [00:00<00:00, 66863.53it/s]"
       ]
      },
      {
       "output_type": "stream",
       "stream": "stderr",
       "text": [
        "\r",
        "100%|\u2588\u2588\u2588\u2588\u2588\u2588\u2588\u2588\u2588\u2588| 11612/11612 [00:00<00:00, 71738.80it/s]"
       ]
      },
      {
       "output_type": "stream",
       "stream": "stderr",
       "text": [
        "\n"
       ]
      }
     ],
     "prompt_number": 7
    },
    {
     "cell_type": "code",
     "collapsed": false,
     "input": [
      "j = 0\n",
      "lst = []\n",
      "\n",
      "while j < len(cells_array):\n",
      "    if cells_array[j] == 3:\n",
      "        lst.append([cells_array[j+1], cells_array[j+2], cells_array[j+3]])\n",
      "    j += cells_array[j] + 1"
     ],
     "language": "python",
     "metadata": {},
     "outputs": [],
     "prompt_number": 8
    },
    {
     "cell_type": "code",
     "collapsed": false,
     "input": [
      "count_torso = 0\n",
      "\n",
      "with open(os.path.join(way,CHASTE_ELE), 'w') as fl:\n",
      "    fl.write(\"{count} 3 1\\n\".format(count = len(lst)))\n",
      "    for i in tqdm(xrange(len(lst))):\n",
      "        fl.write(\"{n} {p1} {p2} {p3} {is_torso}\\n\".format(n=i, \n",
      "                                                      p1=lst[i][0], \n",
      "                                                      p2=lst[i][1],  \n",
      "                                                      p3=lst[i][2],                                                     \n",
      "                                                      is_torso=0))"
     ],
     "language": "python",
     "metadata": {},
     "outputs": [
      {
       "output_type": "stream",
       "stream": "stderr",
       "text": [
        "\r",
        "  0%|          | 0/22407 [00:00<?, ?it/s]"
       ]
      },
      {
       "output_type": "stream",
       "stream": "stderr",
       "text": [
        "\r",
        " 47%|\u2588\u2588\u2588\u2588\u258b     | 10441/22407 [00:00<00:00, 104401.64it/s]"
       ]
      },
      {
       "output_type": "stream",
       "stream": "stderr",
       "text": [
        "\r",
        " 94%|\u2588\u2588\u2588\u2588\u2588\u2588\u2588\u2588\u2588\u258d| 21153/22407 [00:00<00:00, 105202.21it/s]"
       ]
      },
      {
       "output_type": "stream",
       "stream": "stderr",
       "text": [
        "\r",
        "100%|\u2588\u2588\u2588\u2588\u2588\u2588\u2588\u2588\u2588\u2588| 22407/22407 [00:00<00:00, 105874.67it/s]"
       ]
      },
      {
       "output_type": "stream",
       "stream": "stderr",
       "text": [
        "\n"
       ]
      }
     ],
     "prompt_number": 9
    },
    {
     "cell_type": "code",
     "collapsed": false,
     "input": [
      "with open(os.path.join(way,CHASTE_ORTHO), 'w') as fl:\n",
      "    fl.write(\"{count}\\n\".format(count = len(lst)))\n",
      "    for i in tqdm(xrange(len(lst))):\n",
      "        vec1 = np.zeros(3) if np.linalg.norm(vectors[lst[i][0]]) < 0.000001 else vectors[lst[i][0]] / np.linalg.norm(vectors[lst[i][0]])\n",
      "        vec2 = np.zeros(3) if np.linalg.norm(vectors[lst[i][1]]) < 0.000001 else vectors[lst[i][1]] / np.linalg.norm(vectors[lst[i][1]])\n",
      "        vec3 = np.zeros(3) if np.linalg.norm(vectors[lst[i][2]]) < 0.000001 else vectors[lst[i][2]] / np.linalg.norm(vectors[lst[i][2]])\n",
      "        \n",
      "        tmp = (vec1 + vec2 + vec3)[[0,1]]\n",
      "        tmp = np.array([1.0, 0.0]) if np.linalg.norm(tmp) < 0.000001 else  tmp / np.linalg.norm(tmp)       \n",
      "        \n",
      "        fl.write(\"{p1} {p2} {p3} {p4} \\n\".format(p1=tmp[0], \n",
      "                                           p2=tmp[1],#tmp[1],  \n",
      "                                           p3=tmp[1],\n",
      "                                           p4 =-tmp[0]))#tmp[2]))"
     ],
     "language": "python",
     "metadata": {},
     "outputs": [
      {
       "output_type": "stream",
       "stream": "stderr",
       "text": [
        "\r",
        "  0%|          | 0/22407 [00:00<?, ?it/s]"
       ]
      },
      {
       "output_type": "stream",
       "stream": "stderr",
       "text": [
        "\r",
        "  0%|          | 111/22407 [00:00<00:20, 1108.32it/s]"
       ]
      },
      {
       "output_type": "stream",
       "stream": "stderr",
       "text": [
        "\r",
        "  2%|\u258f         | 482/22407 [00:00<00:15, 1403.45it/s]"
       ]
      },
      {
       "output_type": "stream",
       "stream": "stderr",
       "text": [
        "\r",
        "  4%|\u258d         | 912/22407 [00:00<00:12, 1758.46it/s]"
       ]
      },
      {
       "output_type": "stream",
       "stream": "stderr",
       "text": [
        "\r",
        "  6%|\u258c         | 1350/22407 [00:00<00:09, 2142.96it/s]"
       ]
      },
      {
       "output_type": "stream",
       "stream": "stderr",
       "text": [
        "\r",
        "  8%|\u258a         | 1785/22407 [00:00<00:08, 2526.59it/s]"
       ]
      },
      {
       "output_type": "stream",
       "stream": "stderr",
       "text": [
        "\r",
        " 10%|\u2589         | 2167/22407 [00:00<00:07, 2811.34it/s]"
       ]
      },
      {
       "output_type": "stream",
       "stream": "stderr",
       "text": [
        "\r",
        " 11%|\u2588\u258f        | 2555/22407 [00:00<00:06, 3063.63it/s]"
       ]
      },
      {
       "output_type": "stream",
       "stream": "stderr",
       "text": [
        "\r",
        " 13%|\u2588\u258e        | 2944/22407 [00:00<00:05, 3271.79it/s]"
       ]
      },
      {
       "output_type": "stream",
       "stream": "stderr",
       "text": [
        "\r",
        " 15%|\u2588\u258c        | 3377/22407 [00:00<00:05, 3528.94it/s]"
       ]
      },
      {
       "output_type": "stream",
       "stream": "stderr",
       "text": [
        "\r",
        " 17%|\u2588\u258b        | 3804/22407 [00:01<00:04, 3722.73it/s]"
       ]
      },
      {
       "output_type": "stream",
       "stream": "stderr",
       "text": [
        "\r",
        " 19%|\u2588\u2589        | 4232/22407 [00:01<00:04, 3872.32it/s]"
       ]
      },
      {
       "output_type": "stream",
       "stream": "stderr",
       "text": [
        "\r",
        " 21%|\u2588\u2588        | 4678/22407 [00:01<00:04, 4031.28it/s]"
       ]
      },
      {
       "output_type": "stream",
       "stream": "stderr",
       "text": [
        "\r",
        " 23%|\u2588\u2588\u258e       | 5122/22407 [00:01<00:04, 4145.48it/s]"
       ]
      },
      {
       "output_type": "stream",
       "stream": "stderr",
       "text": [
        "\r",
        " 25%|\u2588\u2588\u258d       | 5569/22407 [00:01<00:03, 4237.54it/s]"
       ]
      },
      {
       "output_type": "stream",
       "stream": "stderr",
       "text": [
        "\r",
        " 27%|\u2588\u2588\u258b       | 6014/22407 [00:01<00:03, 4298.30it/s]"
       ]
      },
      {
       "output_type": "stream",
       "stream": "stderr",
       "text": [
        "\r",
        " 29%|\u2588\u2588\u2589       | 6451/22407 [00:01<00:03, 4319.01it/s]"
       ]
      },
      {
       "output_type": "stream",
       "stream": "stderr",
       "text": [
        "\r",
        " 31%|\u2588\u2588\u2588       | 6888/22407 [00:01<00:03, 4254.10it/s]"
       ]
      },
      {
       "output_type": "stream",
       "stream": "stderr",
       "text": [
        "\r",
        " 33%|\u2588\u2588\u2588\u258e      | 7333/22407 [00:01<00:03, 4310.43it/s]"
       ]
      },
      {
       "output_type": "stream",
       "stream": "stderr",
       "text": [
        "\r",
        " 35%|\u2588\u2588\u2588\u258d      | 7767/22407 [00:01<00:03, 4302.94it/s]"
       ]
      },
      {
       "output_type": "stream",
       "stream": "stderr",
       "text": [
        "\r",
        " 37%|\u2588\u2588\u2588\u258b      | 8212/22407 [00:02<00:03, 4343.54it/s]"
       ]
      },
      {
       "output_type": "stream",
       "stream": "stderr",
       "text": [
        "\r",
        " 39%|\u2588\u2588\u2588\u258a      | 8648/22407 [00:02<00:03, 4347.75it/s]"
       ]
      },
      {
       "output_type": "stream",
       "stream": "stderr",
       "text": [
        "\r",
        " 41%|\u2588\u2588\u2588\u2588      | 9084/22407 [00:02<00:03, 4259.74it/s]"
       ]
      },
      {
       "output_type": "stream",
       "stream": "stderr",
       "text": [
        "\r",
        " 42%|\u2588\u2588\u2588\u2588\u258f     | 9512/22407 [00:02<00:03, 4141.81it/s]"
       ]
      },
      {
       "output_type": "stream",
       "stream": "stderr",
       "text": [
        "\r",
        " 44%|\u2588\u2588\u2588\u2588\u258d     | 9933/22407 [00:02<00:02, 4160.71it/s]"
       ]
      },
      {
       "output_type": "stream",
       "stream": "stderr",
       "text": [
        "\r",
        " 46%|\u2588\u2588\u2588\u2588\u258b     | 10367/22407 [00:02<00:02, 4212.50it/s]"
       ]
      },
      {
       "output_type": "stream",
       "stream": "stderr",
       "text": [
        "\r",
        " 48%|\u2588\u2588\u2588\u2588\u258a     | 10811/22407 [00:02<00:02, 4275.49it/s]"
       ]
      },
      {
       "output_type": "stream",
       "stream": "stderr",
       "text": [
        "\r",
        " 50%|\u2588\u2588\u2588\u2588\u2588     | 11262/22407 [00:02<00:02, 4341.19it/s]"
       ]
      },
      {
       "output_type": "stream",
       "stream": "stderr",
       "text": [
        "\r",
        " 52%|\u2588\u2588\u2588\u2588\u2588\u258f    | 11706/22407 [00:02<00:02, 4370.11it/s]"
       ]
      },
      {
       "output_type": "stream",
       "stream": "stderr",
       "text": [
        "\r",
        " 54%|\u2588\u2588\u2588\u2588\u2588\u258d    | 12144/22407 [00:02<00:02, 4362.30it/s]"
       ]
      },
      {
       "output_type": "stream",
       "stream": "stderr",
       "text": [
        "\r",
        " 56%|\u2588\u2588\u2588\u2588\u2588\u258c    | 12584/22407 [00:03<00:02, 4372.51it/s]"
       ]
      },
      {
       "output_type": "stream",
       "stream": "stderr",
       "text": [
        "\r",
        " 58%|\u2588\u2588\u2588\u2588\u2588\u258a    | 13022/22407 [00:03<00:02, 4347.48it/s]"
       ]
      },
      {
       "output_type": "stream",
       "stream": "stderr",
       "text": [
        "\r",
        " 60%|\u2588\u2588\u2588\u2588\u2588\u2588    | 13458/22407 [00:03<00:02, 4239.04it/s]"
       ]
      },
      {
       "output_type": "stream",
       "stream": "stderr",
       "text": [
        "\r",
        " 62%|\u2588\u2588\u2588\u2588\u2588\u2588\u258f   | 13899/22407 [00:03<00:01, 4286.56it/s]"
       ]
      },
      {
       "output_type": "stream",
       "stream": "stderr",
       "text": [
        "\r",
        " 64%|\u2588\u2588\u2588\u2588\u2588\u2588\u258d   | 14330/22407 [00:03<00:01, 4291.85it/s]"
       ]
      },
      {
       "output_type": "stream",
       "stream": "stderr",
       "text": [
        "\r",
        " 66%|\u2588\u2588\u2588\u2588\u2588\u2588\u258c   | 14772/22407 [00:03<00:01, 4328.25it/s]"
       ]
      },
      {
       "output_type": "stream",
       "stream": "stderr",
       "text": [
        "\r",
        " 68%|\u2588\u2588\u2588\u2588\u2588\u2588\u258a   | 15206/22407 [00:03<00:01, 4305.74it/s]"
       ]
      },
      {
       "output_type": "stream",
       "stream": "stderr",
       "text": [
        "\r",
        " 70%|\u2588\u2588\u2588\u2588\u2588\u2588\u2589   | 15637/22407 [00:03<00:01, 4303.89it/s]"
       ]
      },
      {
       "output_type": "stream",
       "stream": "stderr",
       "text": [
        "\r",
        " 72%|\u2588\u2588\u2588\u2588\u2588\u2588\u2588\u258f  | 16068/22407 [00:03<00:01, 4299.77it/s]"
       ]
      },
      {
       "output_type": "stream",
       "stream": "stderr",
       "text": [
        "\r",
        " 74%|\u2588\u2588\u2588\u2588\u2588\u2588\u2588\u258e  | 16499/22407 [00:03<00:01, 4294.67it/s]"
       ]
      },
      {
       "output_type": "stream",
       "stream": "stderr",
       "text": [
        "\r",
        " 76%|\u2588\u2588\u2588\u2588\u2588\u2588\u2588\u258c  | 16929/22407 [00:04<00:01, 4289.64it/s]"
       ]
      },
      {
       "output_type": "stream",
       "stream": "stderr",
       "text": [
        "\r",
        " 77%|\u2588\u2588\u2588\u2588\u2588\u2588\u2588\u258b  | 17363/22407 [00:04<00:01, 4302.92it/s]"
       ]
      },
      {
       "output_type": "stream",
       "stream": "stderr",
       "text": [
        "\r",
        " 79%|\u2588\u2588\u2588\u2588\u2588\u2588\u2588\u2589  | 17794/22407 [00:04<00:01, 4299.35it/s]"
       ]
      },
      {
       "output_type": "stream",
       "stream": "stderr",
       "text": [
        "\r",
        " 81%|\u2588\u2588\u2588\u2588\u2588\u2588\u2588\u2588\u258f | 18234/22407 [00:04<00:00, 4327.35it/s]"
       ]
      },
      {
       "output_type": "stream",
       "stream": "stderr",
       "text": [
        "\r",
        " 83%|\u2588\u2588\u2588\u2588\u2588\u2588\u2588\u2588\u258e | 18667/22407 [00:04<00:00, 4320.12it/s]"
       ]
      },
      {
       "output_type": "stream",
       "stream": "stderr",
       "text": [
        "\r",
        " 85%|\u2588\u2588\u2588\u2588\u2588\u2588\u2588\u2588\u258c | 19100/22407 [00:04<00:00, 4301.89it/s]"
       ]
      },
      {
       "output_type": "stream",
       "stream": "stderr",
       "text": [
        "\r",
        " 87%|\u2588\u2588\u2588\u2588\u2588\u2588\u2588\u2588\u258b | 19531/22407 [00:04<00:00, 4150.22it/s]"
       ]
      },
      {
       "output_type": "stream",
       "stream": "stderr",
       "text": [
        "\r",
        " 89%|\u2588\u2588\u2588\u2588\u2588\u2588\u2588\u2588\u2589 | 19952/22407 [00:04<00:00, 4166.55it/s]"
       ]
      },
      {
       "output_type": "stream",
       "stream": "stderr",
       "text": [
        "\r",
        " 91%|\u2588\u2588\u2588\u2588\u2588\u2588\u2588\u2588\u2588 | 20401/22407 [00:04<00:00, 4258.55it/s]"
       ]
      },
      {
       "output_type": "stream",
       "stream": "stderr",
       "text": [
        "\r",
        " 93%|\u2588\u2588\u2588\u2588\u2588\u2588\u2588\u2588\u2588\u258e| 20838/22407 [00:04<00:00, 4289.27it/s]"
       ]
      },
      {
       "output_type": "stream",
       "stream": "stderr",
       "text": [
        "\r",
        " 95%|\u2588\u2588\u2588\u2588\u2588\u2588\u2588\u2588\u2588\u258d| 21278/22407 [00:05<00:00, 4320.64it/s]"
       ]
      },
      {
       "output_type": "stream",
       "stream": "stderr",
       "text": [
        "\r",
        " 97%|\u2588\u2588\u2588\u2588\u2588\u2588\u2588\u2588\u2588\u258b| 21725/22407 [00:05<00:00, 4361.83it/s]"
       ]
      },
      {
       "output_type": "stream",
       "stream": "stderr",
       "text": [
        "\r",
        " 99%|\u2588\u2588\u2588\u2588\u2588\u2588\u2588\u2588\u2588\u2589| 22162/22407 [00:05<00:00, 4356.05it/s]"
       ]
      },
      {
       "output_type": "stream",
       "stream": "stderr",
       "text": [
        "\r",
        "100%|\u2588\u2588\u2588\u2588\u2588\u2588\u2588\u2588\u2588\u2588| 22407/22407 [00:05<00:00, 4207.18it/s]"
       ]
      },
      {
       "output_type": "stream",
       "stream": "stderr",
       "text": [
        "\n"
       ]
      }
     ],
     "prompt_number": 10
    },
    {
     "cell_type": "code",
     "collapsed": false,
     "input": [
      " tmp"
     ],
     "language": "python",
     "metadata": {},
     "outputs": [
      {
       "metadata": {},
       "output_type": "pyout",
       "prompt_number": 11,
       "text": [
        "array([-0.47169703, -0.88176072], dtype=float32)"
       ]
      }
     ],
     "prompt_number": 11
    },
    {
     "cell_type": "code",
     "collapsed": false,
     "input": [
      "heart_size = len(np.where(scalars_array > 0.00001)[0])"
     ],
     "language": "python",
     "metadata": {},
     "outputs": [],
     "prompt_number": 12
    },
    {
     "cell_type": "code",
     "collapsed": false,
     "input": [
      "csv = np.zeros((heart_size, 9))\n",
      "idx = 0\n",
      "\n",
      "for i in tqdm(xrange(len(scalars_array))):\n",
      "    if scalars_array[i] > 0.00001:\n",
      "        csv[idx, 0] = i                      # index,    dimensionless\n",
      "        csv[idx, 1] = x = points_array[i, 0] # x,        cm\n",
      "        csv[idx, 2] = y = points_array[i, 1] # y,        cm\n",
      "        csv[idx, 3] = z = 0#points_array[i, 2] # z,        cm\n",
      "        csv[idx, 4] = 0.392       # g_Ks      dimensionless\n",
      "        csv[idx, 5] = -19000             # amplitude nA \n",
      "        csv[idx, 6] = 3                  # duration  ms\n",
      "        csv[idx, 7] = 0                  # time      ms\n",
      "        \n",
      "        csv[idx, 8] = 1                      # model     categorial(1,2,3)\n",
      "        idx += 1\n",
      "    \n",
      "np.savetxt(os.path.join(way,CHASTE_CSV), csv)"
     ],
     "language": "python",
     "metadata": {},
     "outputs": [
      {
       "output_type": "stream",
       "stream": "stderr",
       "text": [
        "\r",
        "  0%|          | 0/11612 [00:00<?, ?it/s]"
       ]
      },
      {
       "output_type": "stream",
       "stream": "stderr",
       "text": [
        "\r",
        " 48%|\u2588\u2588\u2588\u2588\u258a     | 5604/11612 [00:00<00:00, 56033.91it/s]"
       ]
      },
      {
       "output_type": "stream",
       "stream": "stderr",
       "text": [
        "\r",
        "100%|\u2588\u2588\u2588\u2588\u2588\u2588\u2588\u2588\u2588\u2588| 11612/11612 [00:00<00:00, 71657.84it/s]"
       ]
      },
      {
       "output_type": "stream",
       "stream": "stderr",
       "text": [
        "\n"
       ]
      }
     ],
     "prompt_number": 13
    },
    {
     "cell_type": "code",
     "collapsed": false,
     "input": [
      "help_ = np.zeros((len(points_array), len(points_array)))\n",
      "for i in tqdm(xrange(len(lst))):\n",
      "    point1 = lst[i][0]\n",
      "    point2 = lst[i][1]\n",
      "    point3 = lst[i][2]\n",
      "    help_[point1][point2] += 1 \n",
      "    help_[point2][point3] += 1 \n",
      "    help_[point3][point1] += 1 \n",
      "    help_[point2][point1] += 1 \n",
      "    help_[point3][point2] += 1 \n",
      "    help_[point1][point3] += 1 \n",
      "    \n"
     ],
     "language": "python",
     "metadata": {},
     "outputs": [
      {
       "output_type": "stream",
       "stream": "stderr",
       "text": [
        "\r",
        "  0%|          | 0/22407 [00:00<?, ?it/s]"
       ]
      },
      {
       "output_type": "stream",
       "stream": "stderr",
       "text": [
        "\r",
        "  5%|\u258d         | 1035/22407 [00:00<00:02, 8755.69it/s]"
       ]
      },
      {
       "output_type": "stream",
       "stream": "stderr",
       "text": [
        "\r",
        "  6%|\u258b         | 1424/22407 [00:00<00:03, 5334.34it/s]"
       ]
      },
      {
       "output_type": "stream",
       "stream": "stderr",
       "text": [
        "\r",
        "  8%|\u258a         | 1692/22407 [00:00<00:08, 2404.94it/s]"
       ]
      },
      {
       "output_type": "stream",
       "stream": "stderr",
       "text": [
        "\r",
        " 16%|\u2588\u258c        | 3628/22407 [00:00<00:05, 3261.94it/s]"
       ]
      },
      {
       "output_type": "stream",
       "stream": "stderr",
       "text": [
        "\r",
        " 25%|\u2588\u2588\u258c       | 5695/22407 [00:00<00:03, 4361.74it/s]"
       ]
      },
      {
       "output_type": "stream",
       "stream": "stderr",
       "text": [
        "\r",
        " 35%|\u2588\u2588\u2588\u258c      | 7933/22407 [00:00<00:02, 5669.38it/s]"
       ]
      },
      {
       "output_type": "stream",
       "stream": "stderr",
       "text": [
        "\r",
        " 45%|\u2588\u2588\u2588\u2588\u258d     | 10039/22407 [00:00<00:01, 7256.42it/s]"
       ]
      },
      {
       "output_type": "stream",
       "stream": "stderr",
       "text": [
        "\r",
        " 54%|\u2588\u2588\u2588\u2588\u2588\u258d    | 12103/22407 [00:01<00:01, 9008.89it/s]"
       ]
      },
      {
       "output_type": "stream",
       "stream": "stderr",
       "text": [
        "\r",
        " 63%|\u2588\u2588\u2588\u2588\u2588\u2588\u258e   | 14109/22407 [00:01<00:00, 10792.31it/s]"
       ]
      },
      {
       "output_type": "stream",
       "stream": "stderr",
       "text": [
        "\r",
        " 72%|\u2588\u2588\u2588\u2588\u2588\u2588\u2588\u258f  | 16239/22407 [00:01<00:00, 12643.06it/s]"
       ]
      },
      {
       "output_type": "stream",
       "stream": "stderr",
       "text": [
        "\r",
        " 81%|\u2588\u2588\u2588\u2588\u2588\u2588\u2588\u2588  | 18137/22407 [00:01<00:00, 13925.83it/s]"
       ]
      },
      {
       "output_type": "stream",
       "stream": "stderr",
       "text": [
        "\r",
        " 89%|\u2588\u2588\u2588\u2588\u2588\u2588\u2588\u2588\u2589 | 20013/22407 [00:01<00:00, 14910.37it/s]"
       ]
      },
      {
       "output_type": "stream",
       "stream": "stderr",
       "text": [
        "\r",
        " 98%|\u2588\u2588\u2588\u2588\u2588\u2588\u2588\u2588\u2588\u258a| 21862/22407 [00:01<00:00, 15103.20it/s]"
       ]
      },
      {
       "output_type": "stream",
       "stream": "stderr",
       "text": [
        "\r",
        "100%|\u2588\u2588\u2588\u2588\u2588\u2588\u2588\u2588\u2588\u2588| 22407/22407 [00:01<00:00, 14094.60it/s]"
       ]
      },
      {
       "output_type": "stream",
       "stream": "stderr",
       "text": [
        "\n"
       ]
      }
     ],
     "prompt_number": 14
    },
    {
     "cell_type": "code",
     "collapsed": false,
     "input": [
      "ind = 0   \n",
      "\n",
      "for i in tqdm(xrange(len(points_array))):\n",
      "    for j in xrange(i,len(points_array)):\n",
      "        if help_[i][j] == 1:\n",
      "            ind += 1\n",
      "            \n",
      "ind"
     ],
     "language": "python",
     "metadata": {},
     "outputs": [
      {
       "output_type": "stream",
       "stream": "stderr",
       "text": [
        "\r",
        "  0%|          | 0/11612 [00:00<?, ?it/s]"
       ]
      },
      {
       "output_type": "stream",
       "stream": "stderr",
       "text": [
        "\r",
        "  0%|          | 5/11612 [00:00<03:53, 49.73it/s]"
       ]
      },
      {
       "output_type": "stream",
       "stream": "stderr",
       "text": [
        "\r",
        "  0%|          | 11/11612 [00:00<03:48, 50.75it/s]"
       ]
      },
      {
       "output_type": "stream",
       "stream": "stderr",
       "text": [
        "\r",
        "  0%|          | 17/11612 [00:00<03:44, 51.56it/s]"
       ]
      },
      {
       "output_type": "stream",
       "stream": "stderr",
       "text": [
        "\r",
        "  0%|          | 23/11612 [00:00<03:43, 51.96it/s]"
       ]
      },
      {
       "output_type": "stream",
       "stream": "stderr",
       "text": [
        "\r",
        "  0%|          | 29/11612 [00:00<03:40, 52.65it/s]"
       ]
      },
      {
       "output_type": "stream",
       "stream": "stderr",
       "text": [
        "\r",
        "  0%|          | 35/11612 [00:00<03:37, 53.15it/s]"
       ]
      },
      {
       "output_type": "stream",
       "stream": "stderr",
       "text": [
        "\r",
        "  0%|          | 41/11612 [00:00<03:34, 54.04it/s]"
       ]
      },
      {
       "output_type": "stream",
       "stream": "stderr",
       "text": [
        "\r",
        "  0%|          | 47/11612 [00:00<03:32, 54.46it/s]"
       ]
      },
      {
       "output_type": "stream",
       "stream": "stderr",
       "text": [
        "\r",
        "  0%|          | 53/11612 [00:00<03:35, 53.72it/s]"
       ]
      },
      {
       "output_type": "stream",
       "stream": "stderr",
       "text": [
        "\r",
        "  1%|          | 59/11612 [00:01<03:33, 54.14it/s]"
       ]
      },
      {
       "output_type": "stream",
       "stream": "stderr",
       "text": [
        "\r",
        "  1%|          | 65/11612 [00:01<03:32, 54.45it/s]"
       ]
      },
      {
       "output_type": "stream",
       "stream": "stderr",
       "text": [
        "\r",
        "  1%|          | 71/11612 [00:01<03:31, 54.52it/s]"
       ]
      },
      {
       "output_type": "stream",
       "stream": "stderr",
       "text": [
        "\r",
        "  1%|          | 77/11612 [00:01<03:29, 55.06it/s]"
       ]
      },
      {
       "output_type": "stream",
       "stream": "stderr",
       "text": [
        "\r",
        "  1%|          | 83/11612 [00:01<03:29, 54.96it/s]"
       ]
      },
      {
       "output_type": "stream",
       "stream": "stderr",
       "text": [
        "\r",
        "  1%|          | 89/11612 [00:01<03:28, 55.27it/s]"
       ]
      },
      {
       "output_type": "stream",
       "stream": "stderr",
       "text": [
        "\r",
        "  1%|          | 95/11612 [00:01<03:27, 55.58it/s]"
       ]
      },
      {
       "output_type": "stream",
       "stream": "stderr",
       "text": [
        "\r",
        "  1%|          | 101/11612 [00:01<03:31, 54.41it/s]"
       ]
      },
      {
       "output_type": "stream",
       "stream": "stderr",
       "text": [
        "\r",
        "  1%|          | 107/11612 [00:01<03:31, 54.34it/s]"
       ]
      },
      {
       "output_type": "stream",
       "stream": "stderr",
       "text": [
        "\r",
        "  1%|          | 113/11612 [00:02<03:33, 53.86it/s]"
       ]
      },
      {
       "output_type": "stream",
       "stream": "stderr",
       "text": [
        "\r",
        "  1%|          | 119/11612 [00:02<03:30, 54.52it/s]"
       ]
      },
      {
       "output_type": "stream",
       "stream": "stderr",
       "text": [
        "\r",
        "  1%|          | 125/11612 [00:02<03:27, 55.24it/s]"
       ]
      },
      {
       "output_type": "stream",
       "stream": "stderr",
       "text": [
        "\r",
        "  1%|          | 131/11612 [00:02<03:26, 55.54it/s]"
       ]
      },
      {
       "output_type": "stream",
       "stream": "stderr",
       "text": [
        "\r",
        "  1%|          | 137/11612 [00:02<03:25, 55.75it/s]"
       ]
      },
      {
       "output_type": "stream",
       "stream": "stderr",
       "text": [
        "\r",
        "  1%|          | 143/11612 [00:02<03:29, 54.74it/s]"
       ]
      },
      {
       "output_type": "stream",
       "stream": "stderr",
       "text": [
        "\r",
        "  1%|\u258f         | 149/11612 [00:02<03:26, 55.38it/s]"
       ]
      },
      {
       "output_type": "stream",
       "stream": "stderr",
       "text": [
        "\r",
        "  1%|\u258f         | 155/11612 [00:02<03:25, 55.82it/s]"
       ]
      },
      {
       "output_type": "stream",
       "stream": "stderr",
       "text": [
        "\r",
        "  1%|\u258f         | 161/11612 [00:02<03:24, 56.13it/s]"
       ]
      },
      {
       "output_type": "stream",
       "stream": "stderr",
       "text": [
        "\r",
        "  1%|\u258f         | 167/11612 [00:03<03:23, 56.34it/s]"
       ]
      },
      {
       "output_type": "stream",
       "stream": "stderr",
       "text": [
        "\r",
        "  1%|\u258f         | 173/11612 [00:03<03:22, 56.45it/s]"
       ]
      },
      {
       "output_type": "stream",
       "stream": "stderr",
       "text": [
        "\r",
        "  2%|\u258f         | 179/11612 [00:03<03:22, 56.48it/s]"
       ]
      },
      {
       "output_type": "stream",
       "stream": "stderr",
       "text": [
        "\r",
        "  2%|\u258f         | 185/11612 [00:03<03:21, 56.79it/s]"
       ]
      },
      {
       "output_type": "stream",
       "stream": "stderr",
       "text": [
        "\r",
        "  2%|\u258f         | 191/11612 [00:03<03:20, 56.85it/s]"
       ]
      },
      {
       "output_type": "stream",
       "stream": "stderr",
       "text": [
        "\r",
        "  2%|\u258f         | 197/11612 [00:03<03:22, 56.44it/s]"
       ]
      },
      {
       "output_type": "stream",
       "stream": "stderr",
       "text": [
        "\r",
        "  2%|\u258f         | 203/11612 [00:03<03:22, 56.21it/s]"
       ]
      },
      {
       "output_type": "stream",
       "stream": "stderr",
       "text": [
        "\r",
        "  2%|\u258f         | 209/11612 [00:03<03:24, 55.72it/s]"
       ]
      },
      {
       "output_type": "stream",
       "stream": "stderr",
       "text": [
        "\r",
        "  2%|\u258f         | 215/11612 [00:03<03:23, 56.07it/s]"
       ]
      },
      {
       "output_type": "stream",
       "stream": "stderr",
       "text": [
        "\r",
        "  2%|\u258f         | 221/11612 [00:04<03:22, 56.18it/s]"
       ]
      },
      {
       "output_type": "stream",
       "stream": "stderr",
       "text": [
        "\r",
        "  2%|\u258f         | 227/11612 [00:04<03:32, 53.47it/s]"
       ]
      },
      {
       "output_type": "stream",
       "stream": "stderr",
       "text": [
        "\r",
        "  2%|\u258f         | 233/11612 [00:04<03:29, 54.25it/s]"
       ]
      },
      {
       "output_type": "stream",
       "stream": "stderr",
       "text": [
        "\r",
        "  2%|\u258f         | 239/11612 [00:04<03:28, 54.56it/s]"
       ]
      },
      {
       "output_type": "stream",
       "stream": "stderr",
       "text": [
        "\r",
        "  2%|\u258f         | 245/11612 [00:04<03:26, 54.94it/s]"
       ]
      },
      {
       "output_type": "stream",
       "stream": "stderr",
       "text": [
        "\r",
        "  2%|\u258f         | 251/11612 [00:04<03:25, 55.25it/s]"
       ]
      },
      {
       "output_type": "stream",
       "stream": "stderr",
       "text": [
        "\r",
        "  2%|\u258f         | 257/11612 [00:04<03:24, 55.60it/s]"
       ]
      },
      {
       "output_type": "stream",
       "stream": "stderr",
       "text": [
        "\r",
        "  2%|\u258f         | 263/11612 [00:04<03:22, 55.99it/s]"
       ]
      },
      {
       "output_type": "stream",
       "stream": "stderr",
       "text": [
        "\r",
        "  2%|\u258f         | 269/11612 [00:04<03:21, 56.28it/s]"
       ]
      },
      {
       "output_type": "stream",
       "stream": "stderr",
       "text": [
        "\r",
        "  2%|\u258f         | 275/11612 [00:04<03:20, 56.45it/s]"
       ]
      },
      {
       "output_type": "stream",
       "stream": "stderr",
       "text": [
        "\r",
        "  2%|\u258f         | 281/11612 [00:05<03:20, 56.49it/s]"
       ]
      },
      {
       "output_type": "stream",
       "stream": "stderr",
       "text": [
        "\r",
        "  2%|\u258f         | 287/11612 [00:05<03:20, 56.36it/s]"
       ]
      },
      {
       "output_type": "stream",
       "stream": "stderr",
       "text": [
        "\r",
        "  3%|\u258e         | 293/11612 [00:05<03:19, 56.72it/s]"
       ]
      },
      {
       "output_type": "stream",
       "stream": "stderr",
       "text": [
        "\r",
        "  3%|\u258e         | 299/11612 [00:05<03:19, 56.72it/s]"
       ]
      },
      {
       "output_type": "stream",
       "stream": "stderr",
       "text": [
        "\r",
        "  3%|\u258e         | 305/11612 [00:05<03:18, 56.86it/s]"
       ]
      },
      {
       "output_type": "stream",
       "stream": "stderr",
       "text": [
        "\r",
        "  3%|\u258e         | 311/11612 [00:05<03:17, 57.08it/s]"
       ]
      },
      {
       "output_type": "stream",
       "stream": "stderr",
       "text": [
        "\r",
        "  3%|\u258e         | 317/11612 [00:05<03:17, 57.15it/s]"
       ]
      },
      {
       "output_type": "stream",
       "stream": "stderr",
       "text": [
        "\r",
        "  3%|\u258e         | 323/11612 [00:05<03:17, 57.25it/s]"
       ]
      },
      {
       "output_type": "stream",
       "stream": "stderr",
       "text": [
        "\r",
        "  3%|\u258e         | 329/11612 [00:05<03:16, 57.37it/s]"
       ]
      },
      {
       "output_type": "stream",
       "stream": "stderr",
       "text": [
        "\r",
        "  3%|\u258e         | 335/11612 [00:06<03:18, 56.78it/s]"
       ]
      },
      {
       "output_type": "stream",
       "stream": "stderr",
       "text": [
        "\r",
        "  3%|\u258e         | 341/11612 [00:06<03:17, 56.92it/s]"
       ]
      },
      {
       "output_type": "stream",
       "stream": "stderr",
       "text": [
        "\r",
        "  3%|\u258e         | 347/11612 [00:06<03:17, 57.09it/s]"
       ]
      },
      {
       "output_type": "stream",
       "stream": "stderr",
       "text": [
        "\r",
        "  3%|\u258e         | 353/11612 [00:06<03:16, 57.22it/s]"
       ]
      },
      {
       "output_type": "stream",
       "stream": "stderr",
       "text": [
        "\r",
        "  3%|\u258e         | 359/11612 [00:06<03:17, 56.99it/s]"
       ]
      },
      {
       "output_type": "stream",
       "stream": "stderr",
       "text": [
        "\r",
        "  3%|\u258e         | 365/11612 [00:06<03:17, 57.07it/s]"
       ]
      },
      {
       "output_type": "stream",
       "stream": "stderr",
       "text": [
        "\r",
        "  3%|\u258e         | 371/11612 [00:06<03:16, 57.33it/s]"
       ]
      },
      {
       "output_type": "stream",
       "stream": "stderr",
       "text": [
        "\r",
        "  3%|\u258e         | 377/11612 [00:06<03:15, 57.40it/s]"
       ]
      },
      {
       "output_type": "stream",
       "stream": "stderr",
       "text": [
        "\r",
        "  3%|\u258e         | 383/11612 [00:06<03:15, 57.51it/s]"
       ]
      },
      {
       "output_type": "stream",
       "stream": "stderr",
       "text": [
        "\r",
        "  3%|\u258e         | 389/11612 [00:06<03:15, 57.43it/s]"
       ]
      },
      {
       "output_type": "stream",
       "stream": "stderr",
       "text": [
        "\r",
        "  3%|\u258e         | 395/11612 [00:07<03:15, 57.40it/s]"
       ]
      },
      {
       "output_type": "stream",
       "stream": "stderr",
       "text": [
        "\r",
        "  3%|\u258e         | 401/11612 [00:07<03:16, 57.17it/s]"
       ]
      },
      {
       "output_type": "stream",
       "stream": "stderr",
       "text": [
        "\r",
        "  4%|\u258e         | 407/11612 [00:07<03:15, 57.33it/s]"
       ]
      },
      {
       "output_type": "stream",
       "stream": "stderr",
       "text": [
        "\r",
        "  4%|\u258e         | 413/11612 [00:07<03:15, 57.37it/s]"
       ]
      },
      {
       "output_type": "stream",
       "stream": "stderr",
       "text": [
        "\r",
        "  4%|\u258e         | 419/11612 [00:07<03:14, 57.68it/s]"
       ]
      },
      {
       "output_type": "stream",
       "stream": "stderr",
       "text": [
        "\r",
        "  4%|\u258e         | 425/11612 [00:07<03:15, 57.36it/s]"
       ]
      },
      {
       "output_type": "stream",
       "stream": "stderr",
       "text": [
        "\r",
        "  4%|\u258e         | 431/11612 [00:07<03:15, 57.15it/s]"
       ]
      },
      {
       "output_type": "stream",
       "stream": "stderr",
       "text": [
        "\r",
        "  4%|\u258d         | 437/11612 [00:07<03:19, 56.14it/s]"
       ]
      },
      {
       "output_type": "stream",
       "stream": "stderr",
       "text": [
        "\r",
        "  4%|\u258d         | 443/11612 [00:07<03:18, 56.15it/s]"
       ]
      },
      {
       "output_type": "stream",
       "stream": "stderr",
       "text": [
        "\r",
        "  4%|\u258d         | 449/11612 [00:08<03:16, 56.77it/s]"
       ]
      },
      {
       "output_type": "stream",
       "stream": "stderr",
       "text": [
        "\r",
        "  4%|\u258d         | 455/11612 [00:08<03:15, 57.13it/s]"
       ]
      },
      {
       "output_type": "stream",
       "stream": "stderr",
       "text": [
        "\r",
        "  4%|\u258d         | 461/11612 [00:08<03:19, 55.78it/s]"
       ]
      },
      {
       "output_type": "stream",
       "stream": "stderr",
       "text": [
        "\r",
        "  4%|\u258d         | 467/11612 [00:08<03:18, 56.26it/s]"
       ]
      },
      {
       "output_type": "stream",
       "stream": "stderr",
       "text": [
        "\r",
        "  4%|\u258d         | 473/11612 [00:08<03:22, 55.01it/s]"
       ]
      },
      {
       "output_type": "stream",
       "stream": "stderr",
       "text": [
        "\r",
        "  4%|\u258d         | 479/11612 [00:08<03:19, 55.79it/s]"
       ]
      },
      {
       "output_type": "stream",
       "stream": "stderr",
       "text": [
        "\r",
        "  4%|\u258d         | 485/11612 [00:08<03:16, 56.60it/s]"
       ]
      },
      {
       "output_type": "stream",
       "stream": "stderr",
       "text": [
        "\r",
        "  4%|\u258d         | 491/11612 [00:08<03:14, 57.29it/s]"
       ]
      },
      {
       "output_type": "stream",
       "stream": "stderr",
       "text": [
        "\r",
        "  4%|\u258d         | 497/11612 [00:08<03:12, 57.77it/s]"
       ]
      },
      {
       "output_type": "stream",
       "stream": "stderr",
       "text": [
        "\r",
        "  4%|\u258d         | 503/11612 [00:08<03:12, 57.78it/s]"
       ]
      },
      {
       "output_type": "stream",
       "stream": "stderr",
       "text": [
        "\r",
        "  4%|\u258d         | 509/11612 [00:09<03:11, 57.94it/s]"
       ]
      },
      {
       "output_type": "stream",
       "stream": "stderr",
       "text": [
        "\r",
        "  4%|\u258d         | 515/11612 [00:09<03:11, 57.94it/s]"
       ]
      },
      {
       "output_type": "stream",
       "stream": "stderr",
       "text": [
        "\r",
        "  4%|\u258d         | 521/11612 [00:09<03:10, 58.17it/s]"
       ]
      },
      {
       "output_type": "stream",
       "stream": "stderr",
       "text": [
        "\r",
        "  5%|\u258d         | 527/11612 [00:09<03:10, 58.17it/s]"
       ]
      },
      {
       "output_type": "stream",
       "stream": "stderr",
       "text": [
        "\r",
        "  5%|\u258d         | 533/11612 [00:09<03:10, 58.03it/s]"
       ]
      },
      {
       "output_type": "stream",
       "stream": "stderr",
       "text": [
        "\r",
        "  5%|\u258d         | 539/11612 [00:09<03:10, 58.17it/s]"
       ]
      },
      {
       "output_type": "stream",
       "stream": "stderr",
       "text": [
        "\r",
        "  5%|\u258d         | 545/11612 [00:09<03:09, 58.29it/s]"
       ]
      },
      {
       "output_type": "stream",
       "stream": "stderr",
       "text": [
        "\r",
        "  5%|\u258d         | 551/11612 [00:09<03:09, 58.34it/s]"
       ]
      },
      {
       "output_type": "stream",
       "stream": "stderr",
       "text": [
        "\r",
        "  5%|\u258d         | 557/11612 [00:09<03:09, 58.39it/s]"
       ]
      },
      {
       "output_type": "stream",
       "stream": "stderr",
       "text": [
        "\r",
        "  5%|\u258d         | 563/11612 [00:10<03:09, 58.41it/s]"
       ]
      },
      {
       "output_type": "stream",
       "stream": "stderr",
       "text": [
        "\r",
        "  5%|\u258d         | 569/11612 [00:10<03:09, 58.40it/s]"
       ]
      },
      {
       "output_type": "stream",
       "stream": "stderr",
       "text": [
        "\r",
        "  5%|\u258d         | 575/11612 [00:10<03:12, 57.32it/s]"
       ]
      },
      {
       "output_type": "stream",
       "stream": "stderr",
       "text": [
        "\r",
        "  5%|\u258c         | 581/11612 [00:10<03:10, 57.83it/s]"
       ]
      },
      {
       "output_type": "stream",
       "stream": "stderr",
       "text": [
        "\r",
        "  5%|\u258c         | 587/11612 [00:10<03:09, 58.11it/s]"
       ]
      },
      {
       "output_type": "stream",
       "stream": "stderr",
       "text": [
        "\r",
        "  5%|\u258c         | 593/11612 [00:10<03:09, 58.14it/s]"
       ]
      },
      {
       "output_type": "stream",
       "stream": "stderr",
       "text": [
        "\r",
        "  5%|\u258c         | 599/11612 [00:10<03:08, 58.29it/s]"
       ]
      },
      {
       "output_type": "stream",
       "stream": "stderr",
       "text": [
        "\r",
        "  5%|\u258c         | 605/11612 [00:10<03:08, 58.34it/s]"
       ]
      },
      {
       "output_type": "stream",
       "stream": "stderr",
       "text": [
        "\r",
        "  5%|\u258c         | 611/11612 [00:10<03:08, 58.51it/s]"
       ]
      },
      {
       "output_type": "stream",
       "stream": "stderr",
       "text": [
        "\r",
        "  5%|\u258c         | 617/11612 [00:10<03:07, 58.53it/s]"
       ]
      },
      {
       "output_type": "stream",
       "stream": "stderr",
       "text": [
        "\r",
        "  5%|\u258c         | 623/11612 [00:11<03:08, 58.36it/s]"
       ]
      },
      {
       "output_type": "stream",
       "stream": "stderr",
       "text": [
        "\r",
        "  5%|\u258c         | 629/11612 [00:11<03:08, 58.35it/s]"
       ]
      },
      {
       "output_type": "stream",
       "stream": "stderr",
       "text": [
        "\r",
        "  5%|\u258c         | 635/11612 [00:11<03:09, 57.94it/s]"
       ]
      },
      {
       "output_type": "stream",
       "stream": "stderr",
       "text": [
        "\r",
        "  6%|\u258c         | 641/11612 [00:11<03:08, 58.34it/s]"
       ]
      },
      {
       "output_type": "stream",
       "stream": "stderr",
       "text": [
        "\r",
        "  6%|\u258c         | 647/11612 [00:11<03:07, 58.52it/s]"
       ]
      },
      {
       "output_type": "stream",
       "stream": "stderr",
       "text": [
        "\r",
        "  6%|\u258c         | 653/11612 [00:11<03:06, 58.65it/s]"
       ]
      },
      {
       "output_type": "stream",
       "stream": "stderr",
       "text": [
        "\r",
        "  6%|\u258c         | 659/11612 [00:11<03:06, 58.57it/s]"
       ]
      },
      {
       "output_type": "stream",
       "stream": "stderr",
       "text": [
        "\r",
        "  6%|\u258c         | 665/11612 [00:11<03:05, 58.91it/s]"
       ]
      },
      {
       "output_type": "stream",
       "stream": "stderr",
       "text": [
        "\r",
        "  6%|\u258c         | 671/11612 [00:11<03:05, 58.92it/s]"
       ]
      },
      {
       "output_type": "stream",
       "stream": "stderr",
       "text": [
        "\r",
        "  6%|\u258c         | 677/11612 [00:11<03:04, 59.12it/s]"
       ]
      },
      {
       "output_type": "stream",
       "stream": "stderr",
       "text": [
        "\r",
        "  6%|\u258c         | 683/11612 [00:12<03:04, 59.21it/s]"
       ]
      },
      {
       "output_type": "stream",
       "stream": "stderr",
       "text": [
        "\r",
        "  6%|\u258c         | 689/11612 [00:12<03:03, 59.39it/s]"
       ]
      },
      {
       "output_type": "stream",
       "stream": "stderr",
       "text": [
        "\r",
        "  6%|\u258c         | 695/11612 [00:12<03:07, 58.27it/s]"
       ]
      },
      {
       "output_type": "stream",
       "stream": "stderr",
       "text": [
        "\r",
        "  6%|\u258c         | 701/11612 [00:12<03:05, 58.77it/s]"
       ]
      },
      {
       "output_type": "stream",
       "stream": "stderr",
       "text": [
        "\r",
        "  6%|\u258c         | 707/11612 [00:12<03:05, 58.86it/s]"
       ]
      },
      {
       "output_type": "stream",
       "stream": "stderr",
       "text": [
        "\r",
        "  6%|\u258c         | 713/11612 [00:12<03:04, 59.01it/s]"
       ]
      },
      {
       "output_type": "stream",
       "stream": "stderr",
       "text": [
        "\r",
        "  6%|\u258c         | 719/11612 [00:12<03:04, 59.12it/s]"
       ]
      },
      {
       "output_type": "stream",
       "stream": "stderr",
       "text": [
        "\r",
        "  6%|\u258c         | 725/11612 [00:12<03:03, 59.33it/s]"
       ]
      },
      {
       "output_type": "stream",
       "stream": "stderr",
       "text": [
        "\r",
        "  6%|\u258b         | 731/11612 [00:12<03:03, 59.43it/s]"
       ]
      },
      {
       "output_type": "stream",
       "stream": "stderr",
       "text": [
        "\r",
        "  6%|\u258b         | 737/11612 [00:12<03:02, 59.60it/s]"
       ]
      },
      {
       "output_type": "stream",
       "stream": "stderr",
       "text": [
        "\r",
        "  6%|\u258b         | 743/11612 [00:13<03:02, 59.62it/s]"
       ]
      },
      {
       "output_type": "stream",
       "stream": "stderr",
       "text": [
        "\r",
        "  6%|\u258b         | 749/11612 [00:13<03:01, 59.71it/s]"
       ]
      },
      {
       "output_type": "stream",
       "stream": "stderr",
       "text": [
        "\r",
        "  7%|\u258b         | 755/11612 [00:13<03:02, 59.60it/s]"
       ]
      },
      {
       "output_type": "stream",
       "stream": "stderr",
       "text": [
        "\r",
        "  7%|\u258b         | 762/11612 [00:13<03:01, 59.82it/s]"
       ]
      },
      {
       "output_type": "stream",
       "stream": "stderr",
       "text": [
        "\r",
        "  7%|\u258b         | 768/11612 [00:13<03:01, 59.75it/s]"
       ]
      },
      {
       "output_type": "stream",
       "stream": "stderr",
       "text": [
        "\r",
        "  7%|\u258b         | 774/11612 [00:13<03:01, 59.79it/s]"
       ]
      },
      {
       "output_type": "stream",
       "stream": "stderr",
       "text": [
        "\r",
        "  7%|\u258b         | 780/11612 [00:13<03:01, 59.69it/s]"
       ]
      },
      {
       "output_type": "stream",
       "stream": "stderr",
       "text": [
        "\r",
        "  7%|\u258b         | 786/11612 [00:13<03:01, 59.57it/s]"
       ]
      },
      {
       "output_type": "stream",
       "stream": "stderr",
       "text": [
        "\r",
        "  7%|\u258b         | 793/11612 [00:13<03:00, 59.80it/s]"
       ]
      },
      {
       "output_type": "stream",
       "stream": "stderr",
       "text": [
        "\r",
        "  7%|\u258b         | 799/11612 [00:14<03:01, 59.70it/s]"
       ]
      },
      {
       "output_type": "stream",
       "stream": "stderr",
       "text": [
        "\r",
        "  7%|\u258b         | 805/11612 [00:14<03:01, 59.64it/s]"
       ]
      },
      {
       "output_type": "stream",
       "stream": "stderr",
       "text": [
        "\r",
        "  7%|\u258b         | 811/11612 [00:14<03:01, 59.43it/s]"
       ]
      },
      {
       "output_type": "stream",
       "stream": "stderr",
       "text": [
        "\r",
        "  7%|\u258b         | 817/11612 [00:14<03:01, 59.49it/s]"
       ]
      },
      {
       "output_type": "stream",
       "stream": "stderr",
       "text": [
        "\r",
        "  7%|\u258b         | 823/11612 [00:14<03:01, 59.46it/s]"
       ]
      },
      {
       "output_type": "stream",
       "stream": "stderr",
       "text": [
        "\r",
        "  7%|\u258b         | 829/11612 [00:14<03:01, 59.53it/s]"
       ]
      },
      {
       "output_type": "stream",
       "stream": "stderr",
       "text": [
        "\r",
        "  7%|\u258b         | 836/11612 [00:14<03:00, 59.71it/s]"
       ]
      },
      {
       "output_type": "stream",
       "stream": "stderr",
       "text": [
        "\r",
        "  7%|\u258b         | 842/11612 [00:14<03:00, 59.55it/s]"
       ]
      },
      {
       "output_type": "stream",
       "stream": "stderr",
       "text": [
        "\r",
        "  7%|\u258b         | 848/11612 [00:14<03:00, 59.63it/s]"
       ]
      },
      {
       "output_type": "stream",
       "stream": "stderr",
       "text": [
        "\r",
        "  7%|\u258b         | 855/11612 [00:14<02:59, 59.91it/s]"
       ]
      },
      {
       "output_type": "stream",
       "stream": "stderr",
       "text": [
        "\r",
        "  7%|\u258b         | 861/11612 [00:15<02:59, 59.91it/s]"
       ]
      },
      {
       "output_type": "stream",
       "stream": "stderr",
       "text": [
        "\r",
        "  7%|\u258b         | 868/11612 [00:15<02:59, 59.91it/s]"
       ]
      },
      {
       "output_type": "stream",
       "stream": "stderr",
       "text": [
        "\r",
        "  8%|\u258a         | 875/11612 [00:15<02:58, 60.17it/s]"
       ]
      },
      {
       "output_type": "stream",
       "stream": "stderr",
       "text": [
        "\r",
        "  8%|\u258a         | 882/11612 [00:15<02:58, 60.27it/s]"
       ]
      },
      {
       "output_type": "stream",
       "stream": "stderr",
       "text": [
        "\r",
        "  8%|\u258a         | 889/11612 [00:15<02:57, 60.36it/s]"
       ]
      },
      {
       "output_type": "stream",
       "stream": "stderr",
       "text": [
        "\r",
        "  8%|\u258a         | 896/11612 [00:15<02:57, 60.42it/s]"
       ]
      },
      {
       "output_type": "stream",
       "stream": "stderr",
       "text": [
        "\r",
        "  8%|\u258a         | 903/11612 [00:15<02:57, 60.37it/s]"
       ]
      },
      {
       "output_type": "stream",
       "stream": "stderr",
       "text": [
        "\r",
        "  8%|\u258a         | 910/11612 [00:15<02:57, 60.34it/s]"
       ]
      },
      {
       "output_type": "stream",
       "stream": "stderr",
       "text": [
        "\r",
        "  8%|\u258a         | 917/11612 [00:15<02:57, 60.38it/s]"
       ]
      },
      {
       "output_type": "stream",
       "stream": "stderr",
       "text": [
        "\r",
        "  8%|\u258a         | 924/11612 [00:16<02:56, 60.45it/s]"
       ]
      },
      {
       "output_type": "stream",
       "stream": "stderr",
       "text": [
        "\r",
        "  8%|\u258a         | 931/11612 [00:16<02:56, 60.45it/s]"
       ]
      },
      {
       "output_type": "stream",
       "stream": "stderr",
       "text": [
        "\r",
        "  8%|\u258a         | 938/11612 [00:16<02:59, 59.39it/s]"
       ]
      },
      {
       "output_type": "stream",
       "stream": "stderr",
       "text": [
        "\r",
        "  8%|\u258a         | 945/11612 [00:16<02:58, 59.68it/s]"
       ]
      },
      {
       "output_type": "stream",
       "stream": "stderr",
       "text": [
        "\r",
        "  8%|\u258a         | 952/11612 [00:16<02:57, 60.13it/s]"
       ]
      },
      {
       "output_type": "stream",
       "stream": "stderr",
       "text": [
        "\r",
        "  8%|\u258a         | 959/11612 [00:16<02:57, 60.01it/s]"
       ]
      },
      {
       "output_type": "stream",
       "stream": "stderr",
       "text": [
        "\r",
        "  8%|\u258a         | 966/11612 [00:16<02:56, 60.15it/s]"
       ]
      },
      {
       "output_type": "stream",
       "stream": "stderr",
       "text": [
        "\r",
        "  8%|\u258a         | 973/11612 [00:16<02:56, 60.40it/s]"
       ]
      },
      {
       "output_type": "stream",
       "stream": "stderr",
       "text": [
        "\r",
        "  8%|\u258a         | 980/11612 [00:17<02:55, 60.62it/s]"
       ]
      },
      {
       "output_type": "stream",
       "stream": "stderr",
       "text": [
        "\r",
        "  8%|\u258a         | 987/11612 [00:17<02:54, 60.73it/s]"
       ]
      },
      {
       "output_type": "stream",
       "stream": "stderr",
       "text": [
        "\r",
        "  9%|\u258a         | 994/11612 [00:17<02:54, 60.75it/s]"
       ]
      },
      {
       "output_type": "stream",
       "stream": "stderr",
       "text": [
        "\r",
        "  9%|\u258a         | 1001/11612 [00:17<02:56, 60.23it/s]"
       ]
      },
      {
       "output_type": "stream",
       "stream": "stderr",
       "text": [
        "\r",
        "  9%|\u258a         | 1008/11612 [00:17<02:55, 60.35it/s]"
       ]
      },
      {
       "output_type": "stream",
       "stream": "stderr",
       "text": [
        "\r",
        "  9%|\u258a         | 1015/11612 [00:17<02:54, 60.62it/s]"
       ]
      },
      {
       "output_type": "stream",
       "stream": "stderr",
       "text": [
        "\r",
        "  9%|\u2589         | 1022/11612 [00:17<02:53, 60.89it/s]"
       ]
      },
      {
       "output_type": "stream",
       "stream": "stderr",
       "text": [
        "\r",
        "  9%|\u2589         | 1029/11612 [00:17<02:53, 61.03it/s]"
       ]
      },
      {
       "output_type": "stream",
       "stream": "stderr",
       "text": [
        "\r",
        "  9%|\u2589         | 1036/11612 [00:17<02:53, 60.97it/s]"
       ]
      },
      {
       "output_type": "stream",
       "stream": "stderr",
       "text": [
        "\r",
        "  9%|\u2589         | 1043/11612 [00:18<02:53, 60.78it/s]"
       ]
      },
      {
       "output_type": "stream",
       "stream": "stderr",
       "text": [
        "\r",
        "  9%|\u2589         | 1050/11612 [00:18<02:53, 61.02it/s]"
       ]
      },
      {
       "output_type": "stream",
       "stream": "stderr",
       "text": [
        "\r",
        "  9%|\u2589         | 1057/11612 [00:18<02:52, 61.11it/s]"
       ]
      },
      {
       "output_type": "stream",
       "stream": "stderr",
       "text": [
        "\r",
        "  9%|\u2589         | 1064/11612 [00:18<02:52, 61.06it/s]"
       ]
      },
      {
       "output_type": "stream",
       "stream": "stderr",
       "text": [
        "\r",
        "  9%|\u2589         | 1071/11612 [00:18<02:52, 61.27it/s]"
       ]
      },
      {
       "output_type": "stream",
       "stream": "stderr",
       "text": [
        "\r",
        "  9%|\u2589         | 1078/11612 [00:18<02:51, 61.45it/s]"
       ]
      },
      {
       "output_type": "stream",
       "stream": "stderr",
       "text": [
        "\r",
        "  9%|\u2589         | 1085/11612 [00:18<02:51, 61.33it/s]"
       ]
      },
      {
       "output_type": "stream",
       "stream": "stderr",
       "text": [
        "\r",
        "  9%|\u2589         | 1092/11612 [00:18<02:51, 61.43it/s]"
       ]
      },
      {
       "output_type": "stream",
       "stream": "stderr",
       "text": [
        "\r",
        "  9%|\u2589         | 1099/11612 [00:18<02:51, 61.45it/s]"
       ]
      },
      {
       "output_type": "stream",
       "stream": "stderr",
       "text": [
        "\r",
        " 10%|\u2589         | 1106/11612 [00:19<02:50, 61.62it/s]"
       ]
      },
      {
       "output_type": "stream",
       "stream": "stderr",
       "text": [
        "\r",
        " 10%|\u2589         | 1113/11612 [00:19<02:50, 61.45it/s]"
       ]
      },
      {
       "output_type": "stream",
       "stream": "stderr",
       "text": [
        "\r",
        " 10%|\u2589         | 1120/11612 [00:19<02:50, 61.53it/s]"
       ]
      },
      {
       "output_type": "stream",
       "stream": "stderr",
       "text": [
        "\r",
        " 10%|\u2589         | 1127/11612 [00:19<02:54, 60.25it/s]"
       ]
      },
      {
       "output_type": "stream",
       "stream": "stderr",
       "text": [
        "\r",
        " 10%|\u2589         | 1134/11612 [00:19<02:52, 60.65it/s]"
       ]
      },
      {
       "output_type": "stream",
       "stream": "stderr",
       "text": [
        "\r",
        " 10%|\u2589         | 1141/11612 [00:19<02:51, 61.02it/s]"
       ]
      },
      {
       "output_type": "stream",
       "stream": "stderr",
       "text": [
        "\r",
        " 10%|\u2589         | 1148/11612 [00:19<02:51, 61.14it/s]"
       ]
      },
      {
       "output_type": "stream",
       "stream": "stderr",
       "text": [
        "\r",
        " 10%|\u2589         | 1155/11612 [00:19<02:50, 61.49it/s]"
       ]
      },
      {
       "output_type": "stream",
       "stream": "stderr",
       "text": [
        "\r",
        " 10%|\u2588         | 1162/11612 [00:20<02:49, 61.82it/s]"
       ]
      },
      {
       "output_type": "stream",
       "stream": "stderr",
       "text": [
        "\r",
        " 10%|\u2588         | 1169/11612 [00:20<02:48, 61.82it/s]"
       ]
      },
      {
       "output_type": "stream",
       "stream": "stderr",
       "text": [
        "\r",
        " 10%|\u2588         | 1176/11612 [00:20<02:49, 61.64it/s]"
       ]
      },
      {
       "output_type": "stream",
       "stream": "stderr",
       "text": [
        "\r",
        " 10%|\u2588         | 1183/11612 [00:20<02:48, 62.02it/s]"
       ]
      },
      {
       "output_type": "stream",
       "stream": "stderr",
       "text": [
        "\r",
        " 10%|\u2588         | 1190/11612 [00:20<02:48, 61.89it/s]"
       ]
      },
      {
       "output_type": "stream",
       "stream": "stderr",
       "text": [
        "\r",
        " 10%|\u2588         | 1197/11612 [00:20<02:48, 61.98it/s]"
       ]
      },
      {
       "output_type": "stream",
       "stream": "stderr",
       "text": [
        "\r",
        " 10%|\u2588         | 1204/11612 [00:20<02:47, 62.02it/s]"
       ]
      },
      {
       "output_type": "stream",
       "stream": "stderr",
       "text": [
        "\r",
        " 10%|\u2588         | 1211/11612 [00:20<02:47, 62.15it/s]"
       ]
      },
      {
       "output_type": "stream",
       "stream": "stderr",
       "text": [
        "\r",
        " 10%|\u2588         | 1218/11612 [00:20<02:47, 62.12it/s]"
       ]
      },
      {
       "output_type": "stream",
       "stream": "stderr",
       "text": [
        "\r",
        " 11%|\u2588         | 1225/11612 [00:21<02:47, 62.16it/s]"
       ]
      },
      {
       "output_type": "stream",
       "stream": "stderr",
       "text": [
        "\r",
        " 11%|\u2588         | 1232/11612 [00:21<02:46, 62.19it/s]"
       ]
      },
      {
       "output_type": "stream",
       "stream": "stderr",
       "text": [
        "\r",
        " 11%|\u2588         | 1239/11612 [00:21<02:46, 62.13it/s]"
       ]
      },
      {
       "output_type": "stream",
       "stream": "stderr",
       "text": [
        "\r",
        " 11%|\u2588         | 1246/11612 [00:21<02:46, 62.25it/s]"
       ]
      },
      {
       "output_type": "stream",
       "stream": "stderr",
       "text": [
        "\r",
        " 11%|\u2588         | 1253/11612 [00:21<02:51, 60.29it/s]"
       ]
      },
      {
       "output_type": "stream",
       "stream": "stderr",
       "text": [
        "\r",
        " 11%|\u2588         | 1260/11612 [00:21<02:49, 60.98it/s]"
       ]
      },
      {
       "output_type": "stream",
       "stream": "stderr",
       "text": [
        "\r",
        " 11%|\u2588         | 1267/11612 [00:21<02:48, 61.51it/s]"
       ]
      },
      {
       "output_type": "stream",
       "stream": "stderr",
       "text": [
        "\r",
        " 11%|\u2588         | 1274/11612 [00:21<02:47, 61.73it/s]"
       ]
      },
      {
       "output_type": "stream",
       "stream": "stderr",
       "text": [
        "\r",
        " 11%|\u2588         | 1281/11612 [00:21<02:47, 61.86it/s]"
       ]
      },
      {
       "output_type": "stream",
       "stream": "stderr",
       "text": [
        "\r",
        " 11%|\u2588         | 1288/11612 [00:22<02:45, 62.24it/s]"
       ]
      },
      {
       "output_type": "stream",
       "stream": "stderr",
       "text": [
        "\r",
        " 11%|\u2588         | 1295/11612 [00:22<02:45, 62.42it/s]"
       ]
      },
      {
       "output_type": "stream",
       "stream": "stderr",
       "text": [
        "\r",
        " 11%|\u2588         | 1302/11612 [00:22<02:45, 62.42it/s]"
       ]
      },
      {
       "output_type": "stream",
       "stream": "stderr",
       "text": [
        "\r",
        " 11%|\u2588\u258f        | 1309/11612 [00:22<02:44, 62.63it/s]"
       ]
      },
      {
       "output_type": "stream",
       "stream": "stderr",
       "text": [
        "\r",
        " 11%|\u2588\u258f        | 1316/11612 [00:22<02:44, 62.51it/s]"
       ]
      },
      {
       "output_type": "stream",
       "stream": "stderr",
       "text": [
        "\r",
        " 11%|\u2588\u258f        | 1323/11612 [00:22<02:44, 62.48it/s]"
       ]
      },
      {
       "output_type": "stream",
       "stream": "stderr",
       "text": [
        "\r",
        " 11%|\u2588\u258f        | 1330/11612 [00:22<02:43, 62.71it/s]"
       ]
      },
      {
       "output_type": "stream",
       "stream": "stderr",
       "text": [
        "\r",
        " 12%|\u2588\u258f        | 1337/11612 [00:22<02:43, 62.73it/s]"
       ]
      },
      {
       "output_type": "stream",
       "stream": "stderr",
       "text": [
        "\r",
        " 12%|\u2588\u258f        | 1344/11612 [00:22<02:44, 62.57it/s]"
       ]
      },
      {
       "output_type": "stream",
       "stream": "stderr",
       "text": [
        "\r",
        " 12%|\u2588\u258f        | 1351/11612 [00:23<02:43, 62.78it/s]"
       ]
      },
      {
       "output_type": "stream",
       "stream": "stderr",
       "text": [
        "\r",
        " 12%|\u2588\u258f        | 1358/11612 [00:23<02:42, 62.99it/s]"
       ]
      },
      {
       "output_type": "stream",
       "stream": "stderr",
       "text": [
        "\r",
        " 12%|\u2588\u258f        | 1365/11612 [00:23<02:42, 63.00it/s]"
       ]
      },
      {
       "output_type": "stream",
       "stream": "stderr",
       "text": [
        "\r",
        " 12%|\u2588\u258f        | 1372/11612 [00:23<02:42, 63.16it/s]"
       ]
      },
      {
       "output_type": "stream",
       "stream": "stderr",
       "text": [
        "\r",
        " 12%|\u2588\u258f        | 1379/11612 [00:23<02:42, 63.15it/s]"
       ]
      },
      {
       "output_type": "stream",
       "stream": "stderr",
       "text": [
        "\r",
        " 12%|\u2588\u258f        | 1386/11612 [00:23<02:42, 63.05it/s]"
       ]
      },
      {
       "output_type": "stream",
       "stream": "stderr",
       "text": [
        "\r",
        " 12%|\u2588\u258f        | 1393/11612 [00:23<02:41, 63.20it/s]"
       ]
      },
      {
       "output_type": "stream",
       "stream": "stderr",
       "text": [
        "\r",
        " 12%|\u2588\u258f        | 1400/11612 [00:23<02:41, 63.35it/s]"
       ]
      },
      {
       "output_type": "stream",
       "stream": "stderr",
       "text": [
        "\r",
        " 12%|\u2588\u258f        | 1407/11612 [00:23<02:41, 63.19it/s]"
       ]
      },
      {
       "output_type": "stream",
       "stream": "stderr",
       "text": [
        "\r",
        " 12%|\u2588\u258f        | 1414/11612 [00:24<02:41, 63.21it/s]"
       ]
      },
      {
       "output_type": "stream",
       "stream": "stderr",
       "text": [
        "\r",
        " 12%|\u2588\u258f        | 1421/11612 [00:24<02:41, 63.24it/s]"
       ]
      },
      {
       "output_type": "stream",
       "stream": "stderr",
       "text": [
        "\r",
        " 12%|\u2588\u258f        | 1428/11612 [00:24<02:40, 63.28it/s]"
       ]
      },
      {
       "output_type": "stream",
       "stream": "stderr",
       "text": [
        "\r",
        " 12%|\u2588\u258f        | 1435/11612 [00:24<02:40, 63.32it/s]"
       ]
      },
      {
       "output_type": "stream",
       "stream": "stderr",
       "text": [
        "\r",
        " 12%|\u2588\u258f        | 1442/11612 [00:24<02:40, 63.41it/s]"
       ]
      },
      {
       "output_type": "stream",
       "stream": "stderr",
       "text": [
        "\r",
        " 12%|\u2588\u258f        | 1449/11612 [00:24<02:46, 61.05it/s]"
       ]
      },
      {
       "output_type": "stream",
       "stream": "stderr",
       "text": [
        "\r",
        " 13%|\u2588\u258e        | 1456/11612 [00:24<02:44, 61.78it/s]"
       ]
      },
      {
       "output_type": "stream",
       "stream": "stderr",
       "text": [
        "\r",
        " 13%|\u2588\u258e        | 1463/11612 [00:24<02:42, 62.60it/s]"
       ]
      },
      {
       "output_type": "stream",
       "stream": "stderr",
       "text": [
        "\r",
        " 13%|\u2588\u258e        | 1470/11612 [00:24<02:41, 62.76it/s]"
       ]
      },
      {
       "output_type": "stream",
       "stream": "stderr",
       "text": [
        "\r",
        " 13%|\u2588\u258e        | 1477/11612 [00:25<02:40, 63.14it/s]"
       ]
      },
      {
       "output_type": "stream",
       "stream": "stderr",
       "text": [
        "\r",
        " 13%|\u2588\u258e        | 1484/11612 [00:25<02:39, 63.47it/s]"
       ]
      },
      {
       "output_type": "stream",
       "stream": "stderr",
       "text": [
        "\r",
        " 13%|\u2588\u258e        | 1491/11612 [00:25<02:39, 63.55it/s]"
       ]
      },
      {
       "output_type": "stream",
       "stream": "stderr",
       "text": [
        "\r",
        " 13%|\u2588\u258e        | 1498/11612 [00:25<02:38, 63.92it/s]"
       ]
      },
      {
       "output_type": "stream",
       "stream": "stderr",
       "text": [
        "\r",
        " 13%|\u2588\u258e        | 1505/11612 [00:25<02:37, 64.00it/s]"
       ]
      },
      {
       "output_type": "stream",
       "stream": "stderr",
       "text": [
        "\r",
        " 13%|\u2588\u258e        | 1512/11612 [00:25<02:41, 62.68it/s]"
       ]
      },
      {
       "output_type": "stream",
       "stream": "stderr",
       "text": [
        "\r",
        " 13%|\u2588\u258e        | 1519/11612 [00:25<02:39, 63.18it/s]"
       ]
      },
      {
       "output_type": "stream",
       "stream": "stderr",
       "text": [
        "\r",
        " 13%|\u2588\u258e        | 1526/11612 [00:25<02:38, 63.46it/s]"
       ]
      },
      {
       "output_type": "stream",
       "stream": "stderr",
       "text": [
        "\r",
        " 13%|\u2588\u258e        | 1533/11612 [00:25<02:38, 63.55it/s]"
       ]
      },
      {
       "output_type": "stream",
       "stream": "stderr",
       "text": [
        "\r",
        " 13%|\u2588\u258e        | 1540/11612 [00:26<02:37, 63.85it/s]"
       ]
      },
      {
       "output_type": "stream",
       "stream": "stderr",
       "text": [
        "\r",
        " 13%|\u2588\u258e        | 1547/11612 [00:26<02:37, 64.01it/s]"
       ]
      },
      {
       "output_type": "stream",
       "stream": "stderr",
       "text": [
        "\r",
        " 13%|\u2588\u258e        | 1554/11612 [00:26<02:36, 64.06it/s]"
       ]
      },
      {
       "output_type": "stream",
       "stream": "stderr",
       "text": [
        "\r",
        " 13%|\u2588\u258e        | 1561/11612 [00:26<02:36, 64.21it/s]"
       ]
      },
      {
       "output_type": "stream",
       "stream": "stderr",
       "text": [
        "\r",
        " 14%|\u2588\u258e        | 1568/11612 [00:26<02:35, 64.43it/s]"
       ]
      },
      {
       "output_type": "stream",
       "stream": "stderr",
       "text": [
        "\r",
        " 14%|\u2588\u258e        | 1575/11612 [00:26<02:36, 64.17it/s]"
       ]
      },
      {
       "output_type": "stream",
       "stream": "stderr",
       "text": [
        "\r",
        " 14%|\u2588\u258e        | 1582/11612 [00:26<02:36, 64.12it/s]"
       ]
      },
      {
       "output_type": "stream",
       "stream": "stderr",
       "text": [
        "\r",
        " 14%|\u2588\u258e        | 1589/11612 [00:26<02:35, 64.32it/s]"
       ]
      },
      {
       "output_type": "stream",
       "stream": "stderr",
       "text": [
        "\r",
        " 14%|\u2588\u258e        | 1596/11612 [00:26<02:35, 64.42it/s]"
       ]
      },
      {
       "output_type": "stream",
       "stream": "stderr",
       "text": [
        "\r",
        " 14%|\u2588\u258d        | 1603/11612 [00:27<02:35, 64.53it/s]"
       ]
      },
      {
       "output_type": "stream",
       "stream": "stderr",
       "text": [
        "\r",
        " 14%|\u2588\u258d        | 1610/11612 [00:27<02:35, 64.45it/s]"
       ]
      },
      {
       "output_type": "stream",
       "stream": "stderr",
       "text": [
        "\r",
        " 14%|\u2588\u258d        | 1617/11612 [00:27<02:35, 64.44it/s]"
       ]
      },
      {
       "output_type": "stream",
       "stream": "stderr",
       "text": [
        "\r",
        " 14%|\u2588\u258d        | 1624/11612 [00:27<02:34, 64.53it/s]"
       ]
      },
      {
       "output_type": "stream",
       "stream": "stderr",
       "text": [
        "\r",
        " 14%|\u2588\u258d        | 1631/11612 [00:27<02:34, 64.47it/s]"
       ]
      },
      {
       "output_type": "stream",
       "stream": "stderr",
       "text": [
        "\r",
        " 14%|\u2588\u258d        | 1638/11612 [00:27<02:34, 64.59it/s]"
       ]
      },
      {
       "output_type": "stream",
       "stream": "stderr",
       "text": [
        "\r",
        " 14%|\u2588\u258d        | 1645/11612 [00:27<02:33, 64.78it/s]"
       ]
      },
      {
       "output_type": "stream",
       "stream": "stderr",
       "text": [
        "\r",
        " 14%|\u2588\u258d        | 1652/11612 [00:27<02:33, 65.00it/s]"
       ]
      },
      {
       "output_type": "stream",
       "stream": "stderr",
       "text": [
        "\r",
        " 14%|\u2588\u258d        | 1659/11612 [00:27<02:33, 65.00it/s]"
       ]
      },
      {
       "output_type": "stream",
       "stream": "stderr",
       "text": [
        "\r",
        " 14%|\u2588\u258d        | 1666/11612 [00:27<02:32, 65.02it/s]"
       ]
      },
      {
       "output_type": "stream",
       "stream": "stderr",
       "text": [
        "\r",
        " 14%|\u2588\u258d        | 1673/11612 [00:28<02:32, 65.16it/s]"
       ]
      },
      {
       "output_type": "stream",
       "stream": "stderr",
       "text": [
        "\r",
        " 14%|\u2588\u258d        | 1680/11612 [00:28<02:32, 64.94it/s]"
       ]
      },
      {
       "output_type": "stream",
       "stream": "stderr",
       "text": [
        "\r",
        " 15%|\u2588\u258d        | 1687/11612 [00:28<02:32, 65.02it/s]"
       ]
      },
      {
       "output_type": "stream",
       "stream": "stderr",
       "text": [
        "\r",
        " 15%|\u2588\u258d        | 1694/11612 [00:28<02:32, 64.87it/s]"
       ]
      },
      {
       "output_type": "stream",
       "stream": "stderr",
       "text": [
        "\r",
        " 15%|\u2588\u258d        | 1701/11612 [00:28<02:32, 65.15it/s]"
       ]
      },
      {
       "output_type": "stream",
       "stream": "stderr",
       "text": [
        "\r",
        " 15%|\u2588\u258d        | 1708/11612 [00:28<02:33, 64.38it/s]"
       ]
      },
      {
       "output_type": "stream",
       "stream": "stderr",
       "text": [
        "\r",
        " 15%|\u2588\u258d        | 1715/11612 [00:28<02:33, 64.60it/s]"
       ]
      },
      {
       "output_type": "stream",
       "stream": "stderr",
       "text": [
        "\r",
        " 15%|\u2588\u258d        | 1722/11612 [00:28<02:32, 64.88it/s]"
       ]
      },
      {
       "output_type": "stream",
       "stream": "stderr",
       "text": [
        "\r",
        " 15%|\u2588\u258d        | 1729/11612 [00:28<02:31, 65.07it/s]"
       ]
      },
      {
       "output_type": "stream",
       "stream": "stderr",
       "text": [
        "\r",
        " 15%|\u2588\u258d        | 1736/11612 [00:29<02:31, 65.12it/s]"
       ]
      },
      {
       "output_type": "stream",
       "stream": "stderr",
       "text": [
        "\r",
        " 15%|\u2588\u258c        | 1743/11612 [00:29<02:30, 65.39it/s]"
       ]
      },
      {
       "output_type": "stream",
       "stream": "stderr",
       "text": [
        "\r",
        " 15%|\u2588\u258c        | 1750/11612 [00:29<02:30, 65.50it/s]"
       ]
      },
      {
       "output_type": "stream",
       "stream": "stderr",
       "text": [
        "\r",
        " 15%|\u2588\u258c        | 1757/11612 [00:29<02:31, 64.92it/s]"
       ]
      },
      {
       "output_type": "stream",
       "stream": "stderr",
       "text": [
        "\r",
        " 15%|\u2588\u258c        | 1764/11612 [00:29<02:31, 65.04it/s]"
       ]
      },
      {
       "output_type": "stream",
       "stream": "stderr",
       "text": [
        "\r",
        " 15%|\u2588\u258c        | 1771/11612 [00:29<02:31, 65.16it/s]"
       ]
      },
      {
       "output_type": "stream",
       "stream": "stderr",
       "text": [
        "\r",
        " 15%|\u2588\u258c        | 1778/11612 [00:29<02:34, 63.55it/s]"
       ]
      },
      {
       "output_type": "stream",
       "stream": "stderr",
       "text": [
        "\r",
        " 15%|\u2588\u258c        | 1785/11612 [00:29<02:33, 64.20it/s]"
       ]
      },
      {
       "output_type": "stream",
       "stream": "stderr",
       "text": [
        "\r",
        " 15%|\u2588\u258c        | 1792/11612 [00:29<02:31, 64.72it/s]"
       ]
      },
      {
       "output_type": "stream",
       "stream": "stderr",
       "text": [
        "\r",
        " 15%|\u2588\u258c        | 1799/11612 [00:30<02:30, 65.01it/s]"
       ]
      },
      {
       "output_type": "stream",
       "stream": "stderr",
       "text": [
        "\r",
        " 16%|\u2588\u258c        | 1806/11612 [00:30<02:30, 65.10it/s]"
       ]
      },
      {
       "output_type": "stream",
       "stream": "stderr",
       "text": [
        "\r",
        " 16%|\u2588\u258c        | 1813/11612 [00:30<02:30, 65.29it/s]"
       ]
      },
      {
       "output_type": "stream",
       "stream": "stderr",
       "text": [
        "\r",
        " 16%|\u2588\u258c        | 1820/11612 [00:30<02:29, 65.57it/s]"
       ]
      },
      {
       "output_type": "stream",
       "stream": "stderr",
       "text": [
        "\r",
        " 16%|\u2588\u258c        | 1827/11612 [00:30<02:29, 65.59it/s]"
       ]
      },
      {
       "output_type": "stream",
       "stream": "stderr",
       "text": [
        "\r",
        " 16%|\u2588\u258c        | 1834/11612 [00:30<02:28, 65.64it/s]"
       ]
      },
      {
       "output_type": "stream",
       "stream": "stderr",
       "text": [
        "\r",
        " 16%|\u2588\u258c        | 1841/11612 [00:30<02:27, 66.05it/s]"
       ]
      },
      {
       "output_type": "stream",
       "stream": "stderr",
       "text": [
        "\r",
        " 16%|\u2588\u258c        | 1848/11612 [00:30<02:28, 65.71it/s]"
       ]
      },
      {
       "output_type": "stream",
       "stream": "stderr",
       "text": [
        "\r",
        " 16%|\u2588\u258c        | 1855/11612 [00:30<02:27, 65.94it/s]"
       ]
      },
      {
       "output_type": "stream",
       "stream": "stderr",
       "text": [
        "\r",
        " 16%|\u2588\u258c        | 1862/11612 [00:30<02:27, 66.03it/s]"
       ]
      },
      {
       "output_type": "stream",
       "stream": "stderr",
       "text": [
        "\r",
        " 16%|\u2588\u258c        | 1869/11612 [00:31<02:27, 66.04it/s]"
       ]
      },
      {
       "output_type": "stream",
       "stream": "stderr",
       "text": [
        "\r",
        " 16%|\u2588\u258c        | 1876/11612 [00:31<02:27, 65.87it/s]"
       ]
      },
      {
       "output_type": "stream",
       "stream": "stderr",
       "text": [
        "\r",
        " 16%|\u2588\u258c        | 1883/11612 [00:31<02:28, 65.61it/s]"
       ]
      },
      {
       "output_type": "stream",
       "stream": "stderr",
       "text": [
        "\r",
        " 16%|\u2588\u258b        | 1890/11612 [00:31<02:27, 65.89it/s]"
       ]
      },
      {
       "output_type": "stream",
       "stream": "stderr",
       "text": [
        "\r",
        " 16%|\u2588\u258b        | 1897/11612 [00:31<02:26, 66.11it/s]"
       ]
      },
      {
       "output_type": "stream",
       "stream": "stderr",
       "text": [
        "\r",
        " 16%|\u2588\u258b        | 1904/11612 [00:31<02:27, 65.99it/s]"
       ]
      },
      {
       "output_type": "stream",
       "stream": "stderr",
       "text": [
        "\r",
        " 16%|\u2588\u258b        | 1911/11612 [00:31<02:27, 65.90it/s]"
       ]
      },
      {
       "output_type": "stream",
       "stream": "stderr",
       "text": [
        "\r",
        " 17%|\u2588\u258b        | 1918/11612 [00:31<02:26, 66.29it/s]"
       ]
      },
      {
       "output_type": "stream",
       "stream": "stderr",
       "text": [
        "\r",
        " 17%|\u2588\u258b        | 1925/11612 [00:31<02:25, 66.45it/s]"
       ]
      },
      {
       "output_type": "stream",
       "stream": "stderr",
       "text": [
        "\r",
        " 17%|\u2588\u258b        | 1932/11612 [00:32<02:26, 66.25it/s]"
       ]
      },
      {
       "output_type": "stream",
       "stream": "stderr",
       "text": [
        "\r",
        " 17%|\u2588\u258b        | 1939/11612 [00:32<02:26, 66.11it/s]"
       ]
      },
      {
       "output_type": "stream",
       "stream": "stderr",
       "text": [
        "\r",
        " 17%|\u2588\u258b        | 1946/11612 [00:32<02:25, 66.38it/s]"
       ]
      },
      {
       "output_type": "stream",
       "stream": "stderr",
       "text": [
        "\r",
        " 17%|\u2588\u258b        | 1953/11612 [00:32<02:25, 66.37it/s]"
       ]
      },
      {
       "output_type": "stream",
       "stream": "stderr",
       "text": [
        "\r",
        " 17%|\u2588\u258b        | 1960/11612 [00:32<02:24, 66.64it/s]"
       ]
      },
      {
       "output_type": "stream",
       "stream": "stderr",
       "text": [
        "\r",
        " 17%|\u2588\u258b        | 1967/11612 [00:32<02:24, 66.85it/s]"
       ]
      },
      {
       "output_type": "stream",
       "stream": "stderr",
       "text": [
        "\r",
        " 17%|\u2588\u258b        | 1974/11612 [00:32<02:24, 66.81it/s]"
       ]
      },
      {
       "output_type": "stream",
       "stream": "stderr",
       "text": [
        "\r",
        " 17%|\u2588\u258b        | 1981/11612 [00:32<02:23, 66.96it/s]"
       ]
      },
      {
       "output_type": "stream",
       "stream": "stderr",
       "text": [
        "\r",
        " 17%|\u2588\u258b        | 1988/11612 [00:32<02:23, 67.13it/s]"
       ]
      },
      {
       "output_type": "stream",
       "stream": "stderr",
       "text": [
        "\r",
        " 17%|\u2588\u258b        | 1995/11612 [00:32<02:23, 67.11it/s]"
       ]
      },
      {
       "output_type": "stream",
       "stream": "stderr",
       "text": [
        "\r",
        " 17%|\u2588\u258b        | 2002/11612 [00:33<02:23, 66.98it/s]"
       ]
      },
      {
       "output_type": "stream",
       "stream": "stderr",
       "text": [
        "\r",
        " 17%|\u2588\u258b        | 2009/11612 [00:33<02:22, 67.17it/s]"
       ]
      },
      {
       "output_type": "stream",
       "stream": "stderr",
       "text": [
        "\r",
        " 17%|\u2588\u258b        | 2016/11612 [00:33<02:22, 67.30it/s]"
       ]
      },
      {
       "output_type": "stream",
       "stream": "stderr",
       "text": [
        "\r",
        " 17%|\u2588\u258b        | 2023/11612 [00:33<02:22, 67.37it/s]"
       ]
      },
      {
       "output_type": "stream",
       "stream": "stderr",
       "text": [
        "\r",
        " 17%|\u2588\u258b        | 2030/11612 [00:33<02:22, 67.40it/s]"
       ]
      },
      {
       "output_type": "stream",
       "stream": "stderr",
       "text": [
        "\r",
        " 18%|\u2588\u258a        | 2037/11612 [00:33<02:21, 67.51it/s]"
       ]
      },
      {
       "output_type": "stream",
       "stream": "stderr",
       "text": [
        "\r",
        " 18%|\u2588\u258a        | 2044/11612 [00:33<02:22, 67.22it/s]"
       ]
      },
      {
       "output_type": "stream",
       "stream": "stderr",
       "text": [
        "\r",
        " 18%|\u2588\u258a        | 2051/11612 [00:33<02:21, 67.38it/s]"
       ]
      },
      {
       "output_type": "stream",
       "stream": "stderr",
       "text": [
        "\r",
        " 18%|\u2588\u258a        | 2058/11612 [00:33<02:21, 67.32it/s]"
       ]
      },
      {
       "output_type": "stream",
       "stream": "stderr",
       "text": [
        "\r",
        " 18%|\u2588\u258a        | 2065/11612 [00:34<02:21, 67.47it/s]"
       ]
      },
      {
       "output_type": "stream",
       "stream": "stderr",
       "text": [
        "\r",
        " 18%|\u2588\u258a        | 2072/11612 [00:34<02:20, 67.66it/s]"
       ]
      },
      {
       "output_type": "stream",
       "stream": "stderr",
       "text": [
        "\r",
        " 18%|\u2588\u258a        | 2079/11612 [00:34<02:20, 67.72it/s]"
       ]
      },
      {
       "output_type": "stream",
       "stream": "stderr",
       "text": [
        "\r",
        " 18%|\u2588\u258a        | 2086/11612 [00:34<02:20, 67.71it/s]"
       ]
      },
      {
       "output_type": "stream",
       "stream": "stderr",
       "text": [
        "\r",
        " 18%|\u2588\u258a        | 2093/11612 [00:34<02:20, 67.93it/s]"
       ]
      },
      {
       "output_type": "stream",
       "stream": "stderr",
       "text": [
        "\r",
        " 18%|\u2588\u258a        | 2100/11612 [00:34<02:20, 67.81it/s]"
       ]
      },
      {
       "output_type": "stream",
       "stream": "stderr",
       "text": [
        "\r",
        " 18%|\u2588\u258a        | 2107/11612 [00:34<02:19, 68.13it/s]"
       ]
      },
      {
       "output_type": "stream",
       "stream": "stderr",
       "text": [
        "\r",
        " 18%|\u2588\u258a        | 2114/11612 [00:34<02:21, 66.97it/s]"
       ]
      },
      {
       "output_type": "stream",
       "stream": "stderr",
       "text": [
        "\r",
        " 18%|\u2588\u258a        | 2121/11612 [00:34<02:20, 67.33it/s]"
       ]
      },
      {
       "output_type": "stream",
       "stream": "stderr",
       "text": [
        "\r",
        " 18%|\u2588\u258a        | 2128/11612 [00:34<02:20, 67.60it/s]"
       ]
      },
      {
       "output_type": "stream",
       "stream": "stderr",
       "text": [
        "\r",
        " 18%|\u2588\u258a        | 2135/11612 [00:35<02:19, 67.73it/s]"
       ]
      },
      {
       "output_type": "stream",
       "stream": "stderr",
       "text": [
        "\r",
        " 18%|\u2588\u258a        | 2142/11612 [00:35<02:19, 67.96it/s]"
       ]
      },
      {
       "output_type": "stream",
       "stream": "stderr",
       "text": [
        "\r",
        " 19%|\u2588\u258a        | 2149/11612 [00:35<02:18, 68.21it/s]"
       ]
      },
      {
       "output_type": "stream",
       "stream": "stderr",
       "text": [
        "\r",
        " 19%|\u2588\u258a        | 2156/11612 [00:35<02:18, 68.28it/s]"
       ]
      },
      {
       "output_type": "stream",
       "stream": "stderr",
       "text": [
        "\r",
        " 19%|\u2588\u258a        | 2163/11612 [00:35<02:18, 68.43it/s]"
       ]
      },
      {
       "output_type": "stream",
       "stream": "stderr",
       "text": [
        "\r",
        " 19%|\u2588\u258a        | 2170/11612 [00:35<02:18, 68.25it/s]"
       ]
      },
      {
       "output_type": "stream",
       "stream": "stderr",
       "text": [
        "\r",
        " 19%|\u2588\u258a        | 2177/11612 [00:35<02:17, 68.57it/s]"
       ]
      },
      {
       "output_type": "stream",
       "stream": "stderr",
       "text": [
        "\r",
        " 19%|\u2588\u2589        | 2184/11612 [00:35<02:18, 67.85it/s]"
       ]
      },
      {
       "output_type": "stream",
       "stream": "stderr",
       "text": [
        "\r",
        " 19%|\u2588\u2589        | 2191/11612 [00:35<02:17, 68.36it/s]"
       ]
      },
      {
       "output_type": "stream",
       "stream": "stderr",
       "text": [
        "\r",
        " 19%|\u2588\u2589        | 2198/11612 [00:35<02:17, 68.45it/s]"
       ]
      },
      {
       "output_type": "stream",
       "stream": "stderr",
       "text": [
        "\r",
        " 19%|\u2588\u2589        | 2205/11612 [00:36<02:17, 68.27it/s]"
       ]
      },
      {
       "output_type": "stream",
       "stream": "stderr",
       "text": [
        "\r",
        " 19%|\u2588\u2589        | 2212/11612 [00:36<02:17, 68.27it/s]"
       ]
      },
      {
       "output_type": "stream",
       "stream": "stderr",
       "text": [
        "\r",
        " 19%|\u2588\u2589        | 2219/11612 [00:36<02:17, 68.44it/s]"
       ]
      },
      {
       "output_type": "stream",
       "stream": "stderr",
       "text": [
        "\r",
        " 19%|\u2588\u2589        | 2226/11612 [00:36<02:16, 68.68it/s]"
       ]
      },
      {
       "output_type": "stream",
       "stream": "stderr",
       "text": [
        "\r",
        " 19%|\u2588\u2589        | 2233/11612 [00:36<02:16, 68.75it/s]"
       ]
      },
      {
       "output_type": "stream",
       "stream": "stderr",
       "text": [
        "\r",
        " 19%|\u2588\u2589        | 2240/11612 [00:36<02:17, 68.38it/s]"
       ]
      },
      {
       "output_type": "stream",
       "stream": "stderr",
       "text": [
        "\r",
        " 19%|\u2588\u2589        | 2247/11612 [00:36<02:16, 68.45it/s]"
       ]
      },
      {
       "output_type": "stream",
       "stream": "stderr",
       "text": [
        "\r",
        " 19%|\u2588\u2589        | 2254/11612 [00:36<02:20, 66.80it/s]"
       ]
      },
      {
       "output_type": "stream",
       "stream": "stderr",
       "text": [
        "\r",
        " 19%|\u2588\u2589        | 2261/11612 [00:36<02:19, 67.20it/s]"
       ]
      },
      {
       "output_type": "stream",
       "stream": "stderr",
       "text": [
        "\r",
        " 20%|\u2588\u2589        | 2268/11612 [00:37<02:17, 67.84it/s]"
       ]
      },
      {
       "output_type": "stream",
       "stream": "stderr",
       "text": [
        "\r",
        " 20%|\u2588\u2589        | 2275/11612 [00:37<02:16, 68.27it/s]"
       ]
      },
      {
       "output_type": "stream",
       "stream": "stderr",
       "text": [
        "\r",
        " 20%|\u2588\u2589        | 2282/11612 [00:37<02:15, 68.72it/s]"
       ]
      },
      {
       "output_type": "stream",
       "stream": "stderr",
       "text": [
        "\r",
        " 20%|\u2588\u2589        | 2289/11612 [00:37<02:16, 68.43it/s]"
       ]
      },
      {
       "output_type": "stream",
       "stream": "stderr",
       "text": [
        "\r",
        " 20%|\u2588\u2589        | 2296/11612 [00:37<02:16, 68.28it/s]"
       ]
      },
      {
       "output_type": "stream",
       "stream": "stderr",
       "text": [
        "\r",
        " 20%|\u2588\u2589        | 2303/11612 [00:37<02:16, 68.42it/s]"
       ]
      },
      {
       "output_type": "stream",
       "stream": "stderr",
       "text": [
        "\r",
        " 20%|\u2588\u2589        | 2310/11612 [00:37<02:15, 68.45it/s]"
       ]
      },
      {
       "output_type": "stream",
       "stream": "stderr",
       "text": [
        "\r",
        " 20%|\u2588\u2589        | 2317/11612 [00:37<02:16, 68.15it/s]"
       ]
      },
      {
       "output_type": "stream",
       "stream": "stderr",
       "text": [
        "\r",
        " 20%|\u2588\u2588        | 2324/11612 [00:37<02:17, 67.33it/s]"
       ]
      },
      {
       "output_type": "stream",
       "stream": "stderr",
       "text": [
        "\r",
        " 20%|\u2588\u2588        | 2331/11612 [00:37<02:17, 67.64it/s]"
       ]
      },
      {
       "output_type": "stream",
       "stream": "stderr",
       "text": [
        "\r",
        " 20%|\u2588\u2588        | 2338/11612 [00:38<02:17, 67.54it/s]"
       ]
      },
      {
       "output_type": "stream",
       "stream": "stderr",
       "text": [
        "\r",
        " 20%|\u2588\u2588        | 2345/11612 [00:38<02:16, 68.02it/s]"
       ]
      },
      {
       "output_type": "stream",
       "stream": "stderr",
       "text": [
        "\r",
        " 20%|\u2588\u2588        | 2352/11612 [00:38<02:15, 68.13it/s]"
       ]
      },
      {
       "output_type": "stream",
       "stream": "stderr",
       "text": [
        "\r",
        " 20%|\u2588\u2588        | 2359/11612 [00:38<02:14, 68.61it/s]"
       ]
      },
      {
       "output_type": "stream",
       "stream": "stderr",
       "text": [
        "\r",
        " 20%|\u2588\u2588        | 2366/11612 [00:38<02:14, 68.93it/s]"
       ]
      },
      {
       "output_type": "stream",
       "stream": "stderr",
       "text": [
        "\r",
        " 20%|\u2588\u2588        | 2373/11612 [00:38<02:13, 69.05it/s]"
       ]
      },
      {
       "output_type": "stream",
       "stream": "stderr",
       "text": [
        "\r",
        " 20%|\u2588\u2588        | 2380/11612 [00:38<02:13, 69.23it/s]"
       ]
      },
      {
       "output_type": "stream",
       "stream": "stderr",
       "text": [
        "\r",
        " 21%|\u2588\u2588        | 2387/11612 [00:38<02:12, 69.41it/s]"
       ]
      },
      {
       "output_type": "stream",
       "stream": "stderr",
       "text": [
        "\r",
        " 21%|\u2588\u2588        | 2394/11612 [00:38<02:13, 68.99it/s]"
       ]
      },
      {
       "output_type": "stream",
       "stream": "stderr",
       "text": [
        "\r",
        " 21%|\u2588\u2588        | 2401/11612 [00:38<02:13, 69.22it/s]"
       ]
      },
      {
       "output_type": "stream",
       "stream": "stderr",
       "text": [
        "\r",
        " 21%|\u2588\u2588        | 2408/11612 [00:39<02:12, 69.42it/s]"
       ]
      },
      {
       "output_type": "stream",
       "stream": "stderr",
       "text": [
        "\r",
        " 21%|\u2588\u2588        | 2415/11612 [00:39<02:12, 69.54it/s]"
       ]
      },
      {
       "output_type": "stream",
       "stream": "stderr",
       "text": [
        "\r",
        " 21%|\u2588\u2588        | 2422/11612 [00:39<02:12, 69.31it/s]"
       ]
      },
      {
       "output_type": "stream",
       "stream": "stderr",
       "text": [
        "\r",
        " 21%|\u2588\u2588        | 2429/11612 [00:39<02:12, 69.13it/s]"
       ]
      },
      {
       "output_type": "stream",
       "stream": "stderr",
       "text": [
        "\r",
        " 21%|\u2588\u2588        | 2436/11612 [00:39<02:13, 68.80it/s]"
       ]
      },
      {
       "output_type": "stream",
       "stream": "stderr",
       "text": [
        "\r",
        " 21%|\u2588\u2588        | 2443/11612 [00:39<02:13, 68.79it/s]"
       ]
      },
      {
       "output_type": "stream",
       "stream": "stderr",
       "text": [
        "\r",
        " 21%|\u2588\u2588        | 2450/11612 [00:39<02:13, 68.86it/s]"
       ]
      },
      {
       "output_type": "stream",
       "stream": "stderr",
       "text": [
        "\r",
        " 21%|\u2588\u2588        | 2457/11612 [00:39<02:12, 69.18it/s]"
       ]
      },
      {
       "output_type": "stream",
       "stream": "stderr",
       "text": [
        "\r",
        " 21%|\u2588\u2588        | 2464/11612 [00:39<02:12, 69.28it/s]"
       ]
      },
      {
       "output_type": "stream",
       "stream": "stderr",
       "text": [
        "\r",
        " 21%|\u2588\u2588\u258f       | 2471/11612 [00:39<02:12, 69.19it/s]"
       ]
      },
      {
       "output_type": "stream",
       "stream": "stderr",
       "text": [
        "\r",
        " 21%|\u2588\u2588\u258f       | 2478/11612 [00:40<02:13, 68.50it/s]"
       ]
      },
      {
       "output_type": "stream",
       "stream": "stderr",
       "text": [
        "\r",
        " 21%|\u2588\u2588\u258f       | 2486/11612 [00:40<02:12, 69.08it/s]"
       ]
      },
      {
       "output_type": "stream",
       "stream": "stderr",
       "text": [
        "\r",
        " 21%|\u2588\u2588\u258f       | 2494/11612 [00:40<02:10, 69.60it/s]"
       ]
      },
      {
       "output_type": "stream",
       "stream": "stderr",
       "text": [
        "\r",
        " 22%|\u2588\u2588\u258f       | 2501/11612 [00:40<02:10, 69.55it/s]"
       ]
      },
      {
       "output_type": "stream",
       "stream": "stderr",
       "text": [
        "\r",
        " 22%|\u2588\u2588\u258f       | 2508/11612 [00:40<02:10, 69.58it/s]"
       ]
      },
      {
       "output_type": "stream",
       "stream": "stderr",
       "text": [
        "\r",
        " 22%|\u2588\u2588\u258f       | 2516/11612 [00:40<02:09, 70.09it/s]"
       ]
      },
      {
       "output_type": "stream",
       "stream": "stderr",
       "text": [
        "\r",
        " 22%|\u2588\u2588\u258f       | 2524/11612 [00:40<02:09, 70.28it/s]"
       ]
      },
      {
       "output_type": "stream",
       "stream": "stderr",
       "text": [
        "\r",
        " 22%|\u2588\u2588\u258f       | 2532/11612 [00:40<02:09, 70.26it/s]"
       ]
      },
      {
       "output_type": "stream",
       "stream": "stderr",
       "text": [
        "\r",
        " 22%|\u2588\u2588\u258f       | 2540/11612 [00:40<02:10, 69.47it/s]"
       ]
      },
      {
       "output_type": "stream",
       "stream": "stderr",
       "text": [
        "\r",
        " 22%|\u2588\u2588\u258f       | 2548/11612 [00:41<02:09, 69.98it/s]"
       ]
      },
      {
       "output_type": "stream",
       "stream": "stderr",
       "text": [
        "\r",
        " 22%|\u2588\u2588\u258f       | 2556/11612 [00:41<02:09, 70.09it/s]"
       ]
      },
      {
       "output_type": "stream",
       "stream": "stderr",
       "text": [
        "\r",
        " 22%|\u2588\u2588\u258f       | 2564/11612 [00:41<02:10, 69.48it/s]"
       ]
      },
      {
       "output_type": "stream",
       "stream": "stderr",
       "text": [
        "\r",
        " 22%|\u2588\u2588\u258f       | 2572/11612 [00:41<02:09, 69.74it/s]"
       ]
      },
      {
       "output_type": "stream",
       "stream": "stderr",
       "text": [
        "\r",
        " 22%|\u2588\u2588\u258f       | 2579/11612 [00:41<02:09, 69.81it/s]"
       ]
      },
      {
       "output_type": "stream",
       "stream": "stderr",
       "text": [
        "\r",
        " 22%|\u2588\u2588\u258f       | 2587/11612 [00:41<02:08, 70.22it/s]"
       ]
      },
      {
       "output_type": "stream",
       "stream": "stderr",
       "text": [
        "\r",
        " 22%|\u2588\u2588\u258f       | 2595/11612 [00:41<02:08, 70.07it/s]"
       ]
      },
      {
       "output_type": "stream",
       "stream": "stderr",
       "text": [
        "\r",
        " 22%|\u2588\u2588\u258f       | 2603/11612 [00:41<02:10, 68.80it/s]"
       ]
      },
      {
       "output_type": "stream",
       "stream": "stderr",
       "text": [
        "\r",
        " 22%|\u2588\u2588\u258f       | 2610/11612 [00:41<02:16, 66.04it/s]"
       ]
      },
      {
       "output_type": "stream",
       "stream": "stderr",
       "text": [
        "\r",
        " 23%|\u2588\u2588\u258e       | 2618/11612 [00:42<02:13, 67.27it/s]"
       ]
      },
      {
       "output_type": "stream",
       "stream": "stderr",
       "text": [
        "\r",
        " 23%|\u2588\u2588\u258e       | 2625/11612 [00:42<02:12, 68.06it/s]"
       ]
      },
      {
       "output_type": "stream",
       "stream": "stderr",
       "text": [
        "\r",
        " 23%|\u2588\u2588\u258e       | 2632/11612 [00:42<02:11, 68.40it/s]"
       ]
      },
      {
       "output_type": "stream",
       "stream": "stderr",
       "text": [
        "\r",
        " 23%|\u2588\u2588\u258e       | 2639/11612 [00:42<02:11, 68.01it/s]"
       ]
      },
      {
       "output_type": "stream",
       "stream": "stderr",
       "text": [
        "\r",
        " 23%|\u2588\u2588\u258e       | 2646/11612 [00:42<02:11, 68.13it/s]"
       ]
      },
      {
       "output_type": "stream",
       "stream": "stderr",
       "text": [
        "\r",
        " 23%|\u2588\u2588\u258e       | 2654/11612 [00:42<02:09, 69.05it/s]"
       ]
      },
      {
       "output_type": "stream",
       "stream": "stderr",
       "text": [
        "\r",
        " 23%|\u2588\u2588\u258e       | 2661/11612 [00:42<02:10, 68.84it/s]"
       ]
      },
      {
       "output_type": "stream",
       "stream": "stderr",
       "text": [
        "\r",
        " 23%|\u2588\u2588\u258e       | 2669/11612 [00:42<02:08, 69.57it/s]"
       ]
      },
      {
       "output_type": "stream",
       "stream": "stderr",
       "text": [
        "\r",
        " 23%|\u2588\u2588\u258e       | 2676/11612 [00:42<02:10, 68.45it/s]"
       ]
      },
      {
       "output_type": "stream",
       "stream": "stderr",
       "text": [
        "\r",
        " 23%|\u2588\u2588\u258e       | 2683/11612 [00:43<02:19, 64.03it/s]"
       ]
      },
      {
       "output_type": "stream",
       "stream": "stderr",
       "text": [
        "\r",
        " 23%|\u2588\u2588\u258e       | 2690/11612 [00:43<02:15, 65.67it/s]"
       ]
      },
      {
       "output_type": "stream",
       "stream": "stderr",
       "text": [
        "\r",
        " 23%|\u2588\u2588\u258e       | 2698/11612 [00:43<02:13, 66.99it/s]"
       ]
      },
      {
       "output_type": "stream",
       "stream": "stderr",
       "text": [
        "\r",
        " 23%|\u2588\u2588\u258e       | 2706/11612 [00:43<02:10, 68.31it/s]"
       ]
      },
      {
       "output_type": "stream",
       "stream": "stderr",
       "text": [
        "\r",
        " 23%|\u2588\u2588\u258e       | 2714/11612 [00:43<02:09, 68.95it/s]"
       ]
      },
      {
       "output_type": "stream",
       "stream": "stderr",
       "text": [
        "\r",
        " 23%|\u2588\u2588\u258e       | 2721/11612 [00:43<02:10, 67.92it/s]"
       ]
      },
      {
       "output_type": "stream",
       "stream": "stderr",
       "text": [
        "\r",
        " 23%|\u2588\u2588\u258e       | 2728/11612 [00:43<02:11, 67.46it/s]"
       ]
      },
      {
       "output_type": "stream",
       "stream": "stderr",
       "text": [
        "\r",
        " 24%|\u2588\u2588\u258e       | 2735/11612 [00:43<02:10, 68.18it/s]"
       ]
      },
      {
       "output_type": "stream",
       "stream": "stderr",
       "text": [
        "\r",
        " 24%|\u2588\u2588\u258e       | 2743/11612 [00:43<02:09, 68.64it/s]"
       ]
      },
      {
       "output_type": "stream",
       "stream": "stderr",
       "text": [
        "\r",
        " 24%|\u2588\u2588\u258e       | 2750/11612 [00:44<02:11, 67.61it/s]"
       ]
      },
      {
       "output_type": "stream",
       "stream": "stderr",
       "text": [
        "\r",
        " 24%|\u2588\u2588\u258e       | 2757/11612 [00:44<02:11, 67.19it/s]"
       ]
      },
      {
       "output_type": "stream",
       "stream": "stderr",
       "text": [
        "\r",
        " 24%|\u2588\u2588\u258d       | 2764/11612 [00:44<02:11, 67.35it/s]"
       ]
      },
      {
       "output_type": "stream",
       "stream": "stderr",
       "text": [
        "\r",
        " 24%|\u2588\u2588\u258d       | 2771/11612 [00:44<02:12, 66.97it/s]"
       ]
      },
      {
       "output_type": "stream",
       "stream": "stderr",
       "text": [
        "\r",
        " 24%|\u2588\u2588\u258d       | 2778/11612 [00:44<02:12, 66.75it/s]"
       ]
      },
      {
       "output_type": "stream",
       "stream": "stderr",
       "text": [
        "\r",
        " 24%|\u2588\u2588\u258d       | 2785/11612 [00:44<02:12, 66.75it/s]"
       ]
      },
      {
       "output_type": "stream",
       "stream": "stderr",
       "text": [
        "\r",
        " 24%|\u2588\u2588\u258d       | 2792/11612 [00:44<02:10, 67.39it/s]"
       ]
      },
      {
       "output_type": "stream",
       "stream": "stderr",
       "text": [
        "\r",
        " 24%|\u2588\u2588\u258d       | 2800/11612 [00:44<02:07, 69.14it/s]"
       ]
      },
      {
       "output_type": "stream",
       "stream": "stderr",
       "text": [
        "\r",
        " 24%|\u2588\u2588\u258d       | 2808/11612 [00:44<02:05, 70.40it/s]"
       ]
      },
      {
       "output_type": "stream",
       "stream": "stderr",
       "text": [
        "\r",
        " 24%|\u2588\u2588\u258d       | 2816/11612 [00:44<02:05, 70.36it/s]"
       ]
      },
      {
       "output_type": "stream",
       "stream": "stderr",
       "text": [
        "\r",
        " 24%|\u2588\u2588\u258d       | 2824/11612 [00:45<02:03, 70.98it/s]"
       ]
      },
      {
       "output_type": "stream",
       "stream": "stderr",
       "text": [
        "\r",
        " 24%|\u2588\u2588\u258d       | 2832/11612 [00:45<02:02, 71.51it/s]"
       ]
      },
      {
       "output_type": "stream",
       "stream": "stderr",
       "text": [
        "\r",
        " 24%|\u2588\u2588\u258d       | 2840/11612 [00:45<02:01, 71.99it/s]"
       ]
      },
      {
       "output_type": "stream",
       "stream": "stderr",
       "text": [
        "\r",
        " 25%|\u2588\u2588\u258d       | 2848/11612 [00:45<02:01, 72.41it/s]"
       ]
      },
      {
       "output_type": "stream",
       "stream": "stderr",
       "text": [
        "\r",
        " 25%|\u2588\u2588\u258d       | 2856/11612 [00:45<02:01, 72.02it/s]"
       ]
      },
      {
       "output_type": "stream",
       "stream": "stderr",
       "text": [
        "\r",
        " 25%|\u2588\u2588\u258d       | 2864/11612 [00:45<02:02, 71.62it/s]"
       ]
      },
      {
       "output_type": "stream",
       "stream": "stderr",
       "text": [
        "\r",
        " 25%|\u2588\u2588\u258d       | 2872/11612 [00:45<02:01, 72.05it/s]"
       ]
      },
      {
       "output_type": "stream",
       "stream": "stderr",
       "text": [
        "\r",
        " 25%|\u2588\u2588\u258d       | 2880/11612 [00:45<02:01, 71.73it/s]"
       ]
      },
      {
       "output_type": "stream",
       "stream": "stderr",
       "text": [
        "\r",
        " 25%|\u2588\u2588\u258d       | 2888/11612 [00:45<02:02, 71.05it/s]"
       ]
      },
      {
       "output_type": "stream",
       "stream": "stderr",
       "text": [
        "\r",
        " 25%|\u2588\u2588\u258d       | 2896/11612 [00:46<02:03, 70.83it/s]"
       ]
      },
      {
       "output_type": "stream",
       "stream": "stderr",
       "text": [
        "\r",
        " 25%|\u2588\u2588\u258c       | 2904/11612 [00:46<02:03, 70.73it/s]"
       ]
      },
      {
       "output_type": "stream",
       "stream": "stderr",
       "text": [
        "\r",
        " 25%|\u2588\u2588\u258c       | 2912/11612 [00:46<02:03, 70.64it/s]"
       ]
      },
      {
       "output_type": "stream",
       "stream": "stderr",
       "text": [
        "\r",
        " 25%|\u2588\u2588\u258c       | 2920/11612 [00:46<02:02, 70.77it/s]"
       ]
      },
      {
       "output_type": "stream",
       "stream": "stderr",
       "text": [
        "\r",
        " 25%|\u2588\u2588\u258c       | 2928/11612 [00:46<02:03, 70.35it/s]"
       ]
      },
      {
       "output_type": "stream",
       "stream": "stderr",
       "text": [
        "\r",
        " 25%|\u2588\u2588\u258c       | 2936/11612 [00:46<02:02, 71.04it/s]"
       ]
      },
      {
       "output_type": "stream",
       "stream": "stderr",
       "text": [
        "\r",
        " 25%|\u2588\u2588\u258c       | 2944/11612 [00:46<02:00, 71.65it/s]"
       ]
      },
      {
       "output_type": "stream",
       "stream": "stderr",
       "text": [
        "\r",
        " 25%|\u2588\u2588\u258c       | 2952/11612 [00:46<02:00, 71.84it/s]"
       ]
      },
      {
       "output_type": "stream",
       "stream": "stderr",
       "text": [
        "\r",
        " 25%|\u2588\u2588\u258c       | 2960/11612 [00:47<02:01, 71.27it/s]"
       ]
      },
      {
       "output_type": "stream",
       "stream": "stderr",
       "text": [
        "\r",
        " 26%|\u2588\u2588\u258c       | 2968/11612 [00:47<02:04, 69.56it/s]"
       ]
      },
      {
       "output_type": "stream",
       "stream": "stderr",
       "text": [
        "\r",
        " 26%|\u2588\u2588\u258c       | 2975/11612 [00:47<02:06, 68.40it/s]"
       ]
      },
      {
       "output_type": "stream",
       "stream": "stderr",
       "text": [
        "\r",
        " 26%|\u2588\u2588\u258c       | 2982/11612 [00:47<02:07, 67.65it/s]"
       ]
      },
      {
       "output_type": "stream",
       "stream": "stderr",
       "text": [
        "\r",
        " 26%|\u2588\u2588\u258c       | 2989/11612 [00:47<02:08, 66.94it/s]"
       ]
      },
      {
       "output_type": "stream",
       "stream": "stderr",
       "text": [
        "\r",
        " 26%|\u2588\u2588\u258c       | 2996/11612 [00:47<02:07, 67.39it/s]"
       ]
      },
      {
       "output_type": "stream",
       "stream": "stderr",
       "text": [
        "\r",
        " 26%|\u2588\u2588\u258c       | 3003/11612 [00:47<02:06, 68.01it/s]"
       ]
      },
      {
       "output_type": "stream",
       "stream": "stderr",
       "text": [
        "\r",
        " 26%|\u2588\u2588\u258c       | 3010/11612 [00:47<02:05, 68.55it/s]"
       ]
      },
      {
       "output_type": "stream",
       "stream": "stderr",
       "text": [
        "\r",
        " 26%|\u2588\u2588\u258c       | 3017/11612 [00:47<02:05, 68.53it/s]"
       ]
      },
      {
       "output_type": "stream",
       "stream": "stderr",
       "text": [
        "\r",
        " 26%|\u2588\u2588\u258c       | 3024/11612 [00:47<02:06, 68.11it/s]"
       ]
      },
      {
       "output_type": "stream",
       "stream": "stderr",
       "text": [
        "\r",
        " 26%|\u2588\u2588\u258c       | 3031/11612 [00:48<02:06, 68.03it/s]"
       ]
      },
      {
       "output_type": "stream",
       "stream": "stderr",
       "text": [
        "\r",
        " 26%|\u2588\u2588\u258c       | 3038/11612 [00:48<02:06, 67.95it/s]"
       ]
      },
      {
       "output_type": "stream",
       "stream": "stderr",
       "text": [
        "\r",
        " 26%|\u2588\u2588\u258c       | 3045/11612 [00:48<02:06, 67.99it/s]"
       ]
      },
      {
       "output_type": "stream",
       "stream": "stderr",
       "text": [
        "\r",
        " 26%|\u2588\u2588\u258b       | 3052/11612 [00:48<02:04, 68.53it/s]"
       ]
      },
      {
       "output_type": "stream",
       "stream": "stderr",
       "text": [
        "\r",
        " 26%|\u2588\u2588\u258b       | 3059/11612 [00:48<02:04, 68.50it/s]"
       ]
      },
      {
       "output_type": "stream",
       "stream": "stderr",
       "text": [
        "\r",
        " 26%|\u2588\u2588\u258b       | 3066/11612 [00:48<02:04, 68.78it/s]"
       ]
      },
      {
       "output_type": "stream",
       "stream": "stderr",
       "text": [
        "\r",
        " 26%|\u2588\u2588\u258b       | 3073/11612 [00:48<02:03, 69.11it/s]"
       ]
      },
      {
       "output_type": "stream",
       "stream": "stderr",
       "text": [
        "\r",
        " 27%|\u2588\u2588\u258b       | 3081/11612 [00:48<02:02, 69.42it/s]"
       ]
      },
      {
       "output_type": "stream",
       "stream": "stderr",
       "text": [
        "\r",
        " 27%|\u2588\u2588\u258b       | 3088/11612 [00:48<02:02, 69.56it/s]"
       ]
      },
      {
       "output_type": "stream",
       "stream": "stderr",
       "text": [
        "\r",
        " 27%|\u2588\u2588\u258b       | 3095/11612 [00:48<02:02, 69.33it/s]"
       ]
      },
      {
       "output_type": "stream",
       "stream": "stderr",
       "text": [
        "\r",
        " 27%|\u2588\u2588\u258b       | 3102/11612 [00:49<02:02, 69.49it/s]"
       ]
      },
      {
       "output_type": "stream",
       "stream": "stderr",
       "text": [
        "\r",
        " 27%|\u2588\u2588\u258b       | 3109/11612 [00:49<02:06, 66.96it/s]"
       ]
      },
      {
       "output_type": "stream",
       "stream": "stderr",
       "text": [
        "\r",
        " 27%|\u2588\u2588\u258b       | 3116/11612 [00:49<02:06, 66.91it/s]"
       ]
      },
      {
       "output_type": "stream",
       "stream": "stderr",
       "text": [
        "\r",
        " 27%|\u2588\u2588\u258b       | 3123/11612 [00:49<02:08, 66.14it/s]"
       ]
      },
      {
       "output_type": "stream",
       "stream": "stderr",
       "text": [
        "\r",
        " 27%|\u2588\u2588\u258b       | 3130/11612 [00:49<02:06, 66.87it/s]"
       ]
      },
      {
       "output_type": "stream",
       "stream": "stderr",
       "text": [
        "\r",
        " 27%|\u2588\u2588\u258b       | 3137/11612 [00:49<02:06, 67.16it/s]"
       ]
      },
      {
       "output_type": "stream",
       "stream": "stderr",
       "text": [
        "\r",
        " 27%|\u2588\u2588\u258b       | 3144/11612 [00:49<02:04, 67.96it/s]"
       ]
      },
      {
       "output_type": "stream",
       "stream": "stderr",
       "text": [
        "\r",
        " 27%|\u2588\u2588\u258b       | 3151/11612 [00:49<02:04, 68.19it/s]"
       ]
      },
      {
       "output_type": "stream",
       "stream": "stderr",
       "text": [
        "\r",
        " 27%|\u2588\u2588\u258b       | 3158/11612 [00:49<02:04, 67.75it/s]"
       ]
      },
      {
       "output_type": "stream",
       "stream": "stderr",
       "text": [
        "\r",
        " 27%|\u2588\u2588\u258b       | 3165/11612 [00:50<02:04, 67.67it/s]"
       ]
      },
      {
       "output_type": "stream",
       "stream": "stderr",
       "text": [
        "\r",
        " 27%|\u2588\u2588\u258b       | 3173/11612 [00:50<02:03, 68.47it/s]"
       ]
      },
      {
       "output_type": "stream",
       "stream": "stderr",
       "text": [
        "\r",
        " 27%|\u2588\u2588\u258b       | 3180/11612 [00:50<02:03, 68.43it/s]"
       ]
      },
      {
       "output_type": "stream",
       "stream": "stderr",
       "text": [
        "\r",
        " 27%|\u2588\u2588\u258b       | 3188/11612 [00:50<02:01, 69.27it/s]"
       ]
      },
      {
       "output_type": "stream",
       "stream": "stderr",
       "text": [
        "\r",
        " 28%|\u2588\u2588\u258a       | 3196/11612 [00:50<02:00, 69.79it/s]"
       ]
      },
      {
       "output_type": "stream",
       "stream": "stderr",
       "text": [
        "\r",
        " 28%|\u2588\u2588\u258a       | 3204/11612 [00:50<01:59, 70.45it/s]"
       ]
      },
      {
       "output_type": "stream",
       "stream": "stderr",
       "text": [
        "\r",
        " 28%|\u2588\u2588\u258a       | 3212/11612 [00:50<01:59, 70.13it/s]"
       ]
      },
      {
       "output_type": "stream",
       "stream": "stderr",
       "text": [
        "\r",
        " 28%|\u2588\u2588\u258a       | 3220/11612 [00:50<01:59, 70.46it/s]"
       ]
      },
      {
       "output_type": "stream",
       "stream": "stderr",
       "text": [
        "\r",
        " 28%|\u2588\u2588\u258a       | 3228/11612 [00:50<01:58, 70.79it/s]"
       ]
      },
      {
       "output_type": "stream",
       "stream": "stderr",
       "text": [
        "\r",
        " 28%|\u2588\u2588\u258a       | 3236/11612 [00:51<01:57, 71.57it/s]"
       ]
      },
      {
       "output_type": "stream",
       "stream": "stderr",
       "text": [
        "\r",
        " 28%|\u2588\u2588\u258a       | 3244/11612 [00:51<01:56, 72.05it/s]"
       ]
      },
      {
       "output_type": "stream",
       "stream": "stderr",
       "text": [
        "\r",
        " 28%|\u2588\u2588\u258a       | 3252/11612 [00:51<01:57, 71.09it/s]"
       ]
      },
      {
       "output_type": "stream",
       "stream": "stderr",
       "text": [
        "\r",
        " 28%|\u2588\u2588\u258a       | 3260/11612 [00:51<02:00, 69.53it/s]"
       ]
      },
      {
       "output_type": "stream",
       "stream": "stderr",
       "text": [
        "\r",
        " 28%|\u2588\u2588\u258a       | 3268/11612 [00:51<01:58, 70.36it/s]"
       ]
      },
      {
       "output_type": "stream",
       "stream": "stderr",
       "text": [
        "\r",
        " 28%|\u2588\u2588\u258a       | 3276/11612 [00:51<01:56, 71.47it/s]"
       ]
      },
      {
       "output_type": "stream",
       "stream": "stderr",
       "text": [
        "\r",
        " 28%|\u2588\u2588\u258a       | 3284/11612 [00:51<01:56, 71.67it/s]"
       ]
      },
      {
       "output_type": "stream",
       "stream": "stderr",
       "text": [
        "\r",
        " 28%|\u2588\u2588\u258a       | 3292/11612 [00:51<01:55, 71.83it/s]"
       ]
      },
      {
       "output_type": "stream",
       "stream": "stderr",
       "text": [
        "\r",
        " 28%|\u2588\u2588\u258a       | 3300/11612 [00:51<01:54, 72.32it/s]"
       ]
      },
      {
       "output_type": "stream",
       "stream": "stderr",
       "text": [
        "\r",
        " 28%|\u2588\u2588\u258a       | 3308/11612 [00:52<01:54, 72.34it/s]"
       ]
      },
      {
       "output_type": "stream",
       "stream": "stderr",
       "text": [
        "\r",
        " 29%|\u2588\u2588\u258a       | 3316/11612 [00:52<01:54, 72.71it/s]"
       ]
      },
      {
       "output_type": "stream",
       "stream": "stderr",
       "text": [
        "\r",
        " 29%|\u2588\u2588\u258a       | 3324/11612 [00:52<01:54, 72.63it/s]"
       ]
      },
      {
       "output_type": "stream",
       "stream": "stderr",
       "text": [
        "\r",
        " 29%|\u2588\u2588\u258a       | 3332/11612 [00:52<01:53, 72.81it/s]"
       ]
      },
      {
       "output_type": "stream",
       "stream": "stderr",
       "text": [
        "\r",
        " 29%|\u2588\u2588\u2589       | 3340/11612 [00:52<01:52, 73.54it/s]"
       ]
      },
      {
       "output_type": "stream",
       "stream": "stderr",
       "text": [
        "\r",
        " 29%|\u2588\u2588\u2589       | 3348/11612 [00:52<01:52, 73.70it/s]"
       ]
      },
      {
       "output_type": "stream",
       "stream": "stderr",
       "text": [
        "\r",
        " 29%|\u2588\u2588\u2589       | 3356/11612 [00:52<01:52, 73.56it/s]"
       ]
      },
      {
       "output_type": "stream",
       "stream": "stderr",
       "text": [
        "\r",
        " 29%|\u2588\u2588\u2589       | 3364/11612 [00:52<01:52, 73.64it/s]"
       ]
      },
      {
       "output_type": "stream",
       "stream": "stderr",
       "text": [
        "\r",
        " 29%|\u2588\u2588\u2589       | 3372/11612 [00:52<01:51, 73.85it/s]"
       ]
      },
      {
       "output_type": "stream",
       "stream": "stderr",
       "text": [
        "\r",
        " 29%|\u2588\u2588\u2589       | 3380/11612 [00:53<01:51, 74.08it/s]"
       ]
      },
      {
       "output_type": "stream",
       "stream": "stderr",
       "text": [
        "\r",
        " 29%|\u2588\u2588\u2589       | 3388/11612 [00:53<01:52, 73.32it/s]"
       ]
      },
      {
       "output_type": "stream",
       "stream": "stderr",
       "text": [
        "\r",
        " 29%|\u2588\u2588\u2589       | 3396/11612 [00:53<01:53, 72.49it/s]"
       ]
      },
      {
       "output_type": "stream",
       "stream": "stderr",
       "text": [
        "\r",
        " 29%|\u2588\u2588\u2589       | 3404/11612 [00:53<01:53, 72.08it/s]"
       ]
      },
      {
       "output_type": "stream",
       "stream": "stderr",
       "text": [
        "\r",
        " 29%|\u2588\u2588\u2589       | 3412/11612 [00:53<01:52, 72.75it/s]"
       ]
      },
      {
       "output_type": "stream",
       "stream": "stderr",
       "text": [
        "\r",
        " 29%|\u2588\u2588\u2589       | 3420/11612 [00:53<01:52, 72.90it/s]"
       ]
      },
      {
       "output_type": "stream",
       "stream": "stderr",
       "text": [
        "\r",
        " 30%|\u2588\u2588\u2589       | 3428/11612 [00:53<01:53, 72.25it/s]"
       ]
      },
      {
       "output_type": "stream",
       "stream": "stderr",
       "text": [
        "\r",
        " 30%|\u2588\u2588\u2589       | 3436/11612 [00:53<01:52, 72.79it/s]"
       ]
      },
      {
       "output_type": "stream",
       "stream": "stderr",
       "text": [
        "\r",
        " 30%|\u2588\u2588\u2589       | 3444/11612 [00:53<01:51, 73.05it/s]"
       ]
      },
      {
       "output_type": "stream",
       "stream": "stderr",
       "text": [
        "\r",
        " 30%|\u2588\u2588\u2589       | 3452/11612 [00:53<01:50, 73.67it/s]"
       ]
      },
      {
       "output_type": "stream",
       "stream": "stderr",
       "text": [
        "\r",
        " 30%|\u2588\u2588\u2589       | 3460/11612 [00:54<01:50, 73.86it/s]"
       ]
      },
      {
       "output_type": "stream",
       "stream": "stderr",
       "text": [
        "\r",
        " 30%|\u2588\u2588\u2589       | 3468/11612 [00:54<01:49, 74.29it/s]"
       ]
      },
      {
       "output_type": "stream",
       "stream": "stderr",
       "text": [
        "\r",
        " 30%|\u2588\u2588\u2589       | 3476/11612 [00:54<01:50, 73.46it/s]"
       ]
      },
      {
       "output_type": "stream",
       "stream": "stderr",
       "text": [
        "\r",
        " 30%|\u2588\u2588\u2588       | 3484/11612 [00:54<01:50, 73.50it/s]"
       ]
      },
      {
       "output_type": "stream",
       "stream": "stderr",
       "text": [
        "\r",
        " 30%|\u2588\u2588\u2588       | 3492/11612 [00:54<01:50, 73.59it/s]"
       ]
      },
      {
       "output_type": "stream",
       "stream": "stderr",
       "text": [
        "\r",
        " 30%|\u2588\u2588\u2588       | 3500/11612 [00:54<01:50, 73.50it/s]"
       ]
      },
      {
       "output_type": "stream",
       "stream": "stderr",
       "text": [
        "\r",
        " 30%|\u2588\u2588\u2588       | 3508/11612 [00:54<01:51, 72.96it/s]"
       ]
      },
      {
       "output_type": "stream",
       "stream": "stderr",
       "text": [
        "\r",
        " 30%|\u2588\u2588\u2588       | 3516/11612 [00:54<01:50, 73.37it/s]"
       ]
      },
      {
       "output_type": "stream",
       "stream": "stderr",
       "text": [
        "\r",
        " 30%|\u2588\u2588\u2588       | 3524/11612 [00:54<01:51, 72.78it/s]"
       ]
      },
      {
       "output_type": "stream",
       "stream": "stderr",
       "text": [
        "\r",
        " 30%|\u2588\u2588\u2588       | 3532/11612 [00:55<01:51, 72.77it/s]"
       ]
      },
      {
       "output_type": "stream",
       "stream": "stderr",
       "text": [
        "\r",
        " 30%|\u2588\u2588\u2588       | 3540/11612 [00:55<01:49, 73.66it/s]"
       ]
      },
      {
       "output_type": "stream",
       "stream": "stderr",
       "text": [
        "\r",
        " 31%|\u2588\u2588\u2588       | 3548/11612 [00:55<01:50, 72.86it/s]"
       ]
      },
      {
       "output_type": "stream",
       "stream": "stderr",
       "text": [
        "\r",
        " 31%|\u2588\u2588\u2588       | 3556/11612 [00:55<01:54, 70.64it/s]"
       ]
      },
      {
       "output_type": "stream",
       "stream": "stderr",
       "text": [
        "\r",
        " 31%|\u2588\u2588\u2588       | 3564/11612 [00:55<01:52, 71.70it/s]"
       ]
      },
      {
       "output_type": "stream",
       "stream": "stderr",
       "text": [
        "\r",
        " 31%|\u2588\u2588\u2588       | 3572/11612 [00:55<01:51, 72.30it/s]"
       ]
      },
      {
       "output_type": "stream",
       "stream": "stderr",
       "text": [
        "\r",
        " 31%|\u2588\u2588\u2588       | 3580/11612 [00:55<01:49, 73.43it/s]"
       ]
      },
      {
       "output_type": "stream",
       "stream": "stderr",
       "text": [
        "\r",
        " 31%|\u2588\u2588\u2588       | 3588/11612 [00:55<01:48, 73.85it/s]"
       ]
      },
      {
       "output_type": "stream",
       "stream": "stderr",
       "text": [
        "\r",
        " 31%|\u2588\u2588\u2588       | 3596/11612 [00:55<01:48, 74.13it/s]"
       ]
      },
      {
       "output_type": "stream",
       "stream": "stderr",
       "text": [
        "\r",
        " 31%|\u2588\u2588\u2588       | 3604/11612 [00:56<01:48, 73.68it/s]"
       ]
      },
      {
       "output_type": "stream",
       "stream": "stderr",
       "text": [
        "\r",
        " 31%|\u2588\u2588\u2588       | 3612/11612 [00:56<01:49, 73.16it/s]"
       ]
      },
      {
       "output_type": "stream",
       "stream": "stderr",
       "text": [
        "\r",
        " 31%|\u2588\u2588\u2588       | 3620/11612 [00:56<01:50, 72.28it/s]"
       ]
      },
      {
       "output_type": "stream",
       "stream": "stderr",
       "text": [
        "\r",
        " 31%|\u2588\u2588\u2588       | 3628/11612 [00:56<01:50, 72.00it/s]"
       ]
      },
      {
       "output_type": "stream",
       "stream": "stderr",
       "text": [
        "\r",
        " 31%|\u2588\u2588\u2588\u258f      | 3636/11612 [00:56<01:51, 71.32it/s]"
       ]
      },
      {
       "output_type": "stream",
       "stream": "stderr",
       "text": [
        "\r",
        " 31%|\u2588\u2588\u2588\u258f      | 3644/11612 [00:56<01:52, 71.05it/s]"
       ]
      },
      {
       "output_type": "stream",
       "stream": "stderr",
       "text": [
        "\r",
        " 31%|\u2588\u2588\u2588\u258f      | 3652/11612 [00:56<01:51, 71.19it/s]"
       ]
      },
      {
       "output_type": "stream",
       "stream": "stderr",
       "text": [
        "\r",
        " 32%|\u2588\u2588\u2588\u258f      | 3660/11612 [00:56<01:51, 71.07it/s]"
       ]
      },
      {
       "output_type": "stream",
       "stream": "stderr",
       "text": [
        "\r",
        " 32%|\u2588\u2588\u2588\u258f      | 3668/11612 [00:56<01:51, 71.25it/s]"
       ]
      },
      {
       "output_type": "stream",
       "stream": "stderr",
       "text": [
        "\r",
        " 32%|\u2588\u2588\u2588\u258f      | 3676/11612 [00:57<01:51, 71.04it/s]"
       ]
      },
      {
       "output_type": "stream",
       "stream": "stderr",
       "text": [
        "\r",
        " 32%|\u2588\u2588\u2588\u258f      | 3684/11612 [00:57<01:51, 71.21it/s]"
       ]
      },
      {
       "output_type": "stream",
       "stream": "stderr",
       "text": [
        "\r",
        " 32%|\u2588\u2588\u2588\u258f      | 3692/11612 [00:57<01:51, 70.77it/s]"
       ]
      },
      {
       "output_type": "stream",
       "stream": "stderr",
       "text": [
        "\r",
        " 32%|\u2588\u2588\u2588\u258f      | 3700/11612 [00:57<01:51, 70.66it/s]"
       ]
      },
      {
       "output_type": "stream",
       "stream": "stderr",
       "text": [
        "\r",
        " 32%|\u2588\u2588\u2588\u258f      | 3708/11612 [00:57<01:52, 70.49it/s]"
       ]
      },
      {
       "output_type": "stream",
       "stream": "stderr",
       "text": [
        "\r",
        " 32%|\u2588\u2588\u2588\u258f      | 3716/11612 [00:57<01:51, 70.64it/s]"
       ]
      },
      {
       "output_type": "stream",
       "stream": "stderr",
       "text": [
        "\r",
        " 32%|\u2588\u2588\u2588\u258f      | 3724/11612 [00:57<01:52, 69.85it/s]"
       ]
      },
      {
       "output_type": "stream",
       "stream": "stderr",
       "text": [
        "\r",
        " 32%|\u2588\u2588\u2588\u258f      | 3732/11612 [00:57<01:51, 70.56it/s]"
       ]
      },
      {
       "output_type": "stream",
       "stream": "stderr",
       "text": [
        "\r",
        " 32%|\u2588\u2588\u2588\u258f      | 3740/11612 [00:57<01:49, 72.09it/s]"
       ]
      },
      {
       "output_type": "stream",
       "stream": "stderr",
       "text": [
        "\r",
        " 32%|\u2588\u2588\u2588\u258f      | 3748/11612 [00:58<01:46, 73.58it/s]"
       ]
      },
      {
       "output_type": "stream",
       "stream": "stderr",
       "text": [
        "\r",
        " 32%|\u2588\u2588\u2588\u258f      | 3756/11612 [00:58<01:45, 74.33it/s]"
       ]
      },
      {
       "output_type": "stream",
       "stream": "stderr",
       "text": [
        "\r",
        " 32%|\u2588\u2588\u2588\u258f      | 3764/11612 [00:58<01:45, 74.41it/s]"
       ]
      },
      {
       "output_type": "stream",
       "stream": "stderr",
       "text": [
        "\r",
        " 32%|\u2588\u2588\u2588\u258f      | 3772/11612 [00:58<01:44, 74.76it/s]"
       ]
      },
      {
       "output_type": "stream",
       "stream": "stderr",
       "text": [
        "\r",
        " 33%|\u2588\u2588\u2588\u258e      | 3780/11612 [00:58<01:45, 74.27it/s]"
       ]
      },
      {
       "output_type": "stream",
       "stream": "stderr",
       "text": [
        "\r",
        " 33%|\u2588\u2588\u2588\u258e      | 3788/11612 [00:58<01:48, 72.35it/s]"
       ]
      },
      {
       "output_type": "stream",
       "stream": "stderr",
       "text": [
        "\r",
        " 33%|\u2588\u2588\u2588\u258e      | 3796/11612 [00:58<01:47, 72.66it/s]"
       ]
      },
      {
       "output_type": "stream",
       "stream": "stderr",
       "text": [
        "\r",
        " 33%|\u2588\u2588\u2588\u258e      | 3804/11612 [00:58<01:47, 72.49it/s]"
       ]
      },
      {
       "output_type": "stream",
       "stream": "stderr",
       "text": [
        "\r",
        " 33%|\u2588\u2588\u2588\u258e      | 3812/11612 [00:58<01:46, 73.18it/s]"
       ]
      },
      {
       "output_type": "stream",
       "stream": "stderr",
       "text": [
        "\r",
        " 33%|\u2588\u2588\u2588\u258e      | 3820/11612 [00:59<01:46, 73.17it/s]"
       ]
      },
      {
       "output_type": "stream",
       "stream": "stderr",
       "text": [
        "\r",
        " 33%|\u2588\u2588\u2588\u258e      | 3828/11612 [00:59<01:45, 73.87it/s]"
       ]
      },
      {
       "output_type": "stream",
       "stream": "stderr",
       "text": [
        "\r",
        " 33%|\u2588\u2588\u2588\u258e      | 3836/11612 [00:59<01:43, 75.48it/s]"
       ]
      },
      {
       "output_type": "stream",
       "stream": "stderr",
       "text": [
        "\r",
        " 33%|\u2588\u2588\u2588\u258e      | 3844/11612 [00:59<01:41, 76.26it/s]"
       ]
      },
      {
       "output_type": "stream",
       "stream": "stderr",
       "text": [
        "\r",
        " 33%|\u2588\u2588\u2588\u258e      | 3852/11612 [00:59<01:40, 77.04it/s]"
       ]
      },
      {
       "output_type": "stream",
       "stream": "stderr",
       "text": [
        "\r",
        " 33%|\u2588\u2588\u2588\u258e      | 3860/11612 [00:59<01:39, 77.71it/s]"
       ]
      },
      {
       "output_type": "stream",
       "stream": "stderr",
       "text": [
        "\r",
        " 33%|\u2588\u2588\u2588\u258e      | 3869/11612 [00:59<01:38, 78.44it/s]"
       ]
      },
      {
       "output_type": "stream",
       "stream": "stderr",
       "text": [
        "\r",
        " 33%|\u2588\u2588\u2588\u258e      | 3877/11612 [00:59<01:39, 77.56it/s]"
       ]
      },
      {
       "output_type": "stream",
       "stream": "stderr",
       "text": [
        "\r",
        " 33%|\u2588\u2588\u2588\u258e      | 3885/11612 [00:59<01:39, 77.34it/s]"
       ]
      },
      {
       "output_type": "stream",
       "stream": "stderr",
       "text": [
        "\r",
        " 34%|\u2588\u2588\u2588\u258e      | 3893/11612 [01:00<01:38, 78.11it/s]"
       ]
      },
      {
       "output_type": "stream",
       "stream": "stderr",
       "text": [
        "\r",
        " 34%|\u2588\u2588\u2588\u258e      | 3901/11612 [01:00<01:39, 77.58it/s]"
       ]
      },
      {
       "output_type": "stream",
       "stream": "stderr",
       "text": [
        "\r",
        " 34%|\u2588\u2588\u2588\u258e      | 3909/11612 [01:00<01:38, 78.00it/s]"
       ]
      },
      {
       "output_type": "stream",
       "stream": "stderr",
       "text": [
        "\r",
        " 34%|\u2588\u2588\u2588\u258e      | 3917/11612 [01:00<01:39, 77.59it/s]"
       ]
      },
      {
       "output_type": "stream",
       "stream": "stderr",
       "text": [
        "\r",
        " 34%|\u2588\u2588\u2588\u258d      | 3925/11612 [01:00<01:38, 78.01it/s]"
       ]
      },
      {
       "output_type": "stream",
       "stream": "stderr",
       "text": [
        "\r",
        " 34%|\u2588\u2588\u2588\u258d      | 3933/11612 [01:00<01:38, 77.91it/s]"
       ]
      },
      {
       "output_type": "stream",
       "stream": "stderr",
       "text": [
        "\r",
        " 34%|\u2588\u2588\u2588\u258d      | 3941/11612 [01:00<01:38, 77.82it/s]"
       ]
      },
      {
       "output_type": "stream",
       "stream": "stderr",
       "text": [
        "\r",
        " 34%|\u2588\u2588\u2588\u258d      | 3949/11612 [01:00<01:38, 77.83it/s]"
       ]
      },
      {
       "output_type": "stream",
       "stream": "stderr",
       "text": [
        "\r",
        " 34%|\u2588\u2588\u2588\u258d      | 3957/11612 [01:00<01:38, 77.94it/s]"
       ]
      },
      {
       "output_type": "stream",
       "stream": "stderr",
       "text": [
        "\r",
        " 34%|\u2588\u2588\u2588\u258d      | 3965/11612 [01:00<01:37, 78.38it/s]"
       ]
      },
      {
       "output_type": "stream",
       "stream": "stderr",
       "text": [
        "\r",
        " 34%|\u2588\u2588\u2588\u258d      | 3974/11612 [01:01<01:35, 79.89it/s]"
       ]
      },
      {
       "output_type": "stream",
       "stream": "stderr",
       "text": [
        "\r",
        " 34%|\u2588\u2588\u2588\u258d      | 3983/11612 [01:01<01:33, 81.27it/s]"
       ]
      },
      {
       "output_type": "stream",
       "stream": "stderr",
       "text": [
        "\r",
        " 34%|\u2588\u2588\u2588\u258d      | 3992/11612 [01:01<01:35, 79.72it/s]"
       ]
      },
      {
       "output_type": "stream",
       "stream": "stderr",
       "text": [
        "\r",
        " 34%|\u2588\u2588\u2588\u258d      | 4000/11612 [01:01<01:37, 78.06it/s]"
       ]
      },
      {
       "output_type": "stream",
       "stream": "stderr",
       "text": [
        "\r",
        " 35%|\u2588\u2588\u2588\u258d      | 4008/11612 [01:01<01:36, 78.52it/s]"
       ]
      },
      {
       "output_type": "stream",
       "stream": "stderr",
       "text": [
        "\r",
        " 35%|\u2588\u2588\u2588\u258d      | 4017/11612 [01:01<01:35, 79.43it/s]"
       ]
      },
      {
       "output_type": "stream",
       "stream": "stderr",
       "text": [
        "\r",
        " 35%|\u2588\u2588\u2588\u258d      | 4026/11612 [01:01<01:33, 81.11it/s]"
       ]
      },
      {
       "output_type": "stream",
       "stream": "stderr",
       "text": [
        "\r",
        " 35%|\u2588\u2588\u2588\u258d      | 4035/11612 [01:01<01:32, 82.23it/s]"
       ]
      },
      {
       "output_type": "stream",
       "stream": "stderr",
       "text": [
        "\r",
        " 35%|\u2588\u2588\u2588\u258d      | 4044/11612 [01:01<01:31, 82.91it/s]"
       ]
      },
      {
       "output_type": "stream",
       "stream": "stderr",
       "text": [
        "\r",
        " 35%|\u2588\u2588\u2588\u258d      | 4053/11612 [01:02<01:30, 83.59it/s]"
       ]
      },
      {
       "output_type": "stream",
       "stream": "stderr",
       "text": [
        "\r",
        " 35%|\u2588\u2588\u2588\u258d      | 4062/11612 [01:02<01:29, 84.31it/s]"
       ]
      },
      {
       "output_type": "stream",
       "stream": "stderr",
       "text": [
        "\r",
        " 35%|\u2588\u2588\u2588\u258c      | 4071/11612 [01:02<01:29, 84.65it/s]"
       ]
      },
      {
       "output_type": "stream",
       "stream": "stderr",
       "text": [
        "\r",
        " 35%|\u2588\u2588\u2588\u258c      | 4080/11612 [01:02<01:28, 84.90it/s]"
       ]
      },
      {
       "output_type": "stream",
       "stream": "stderr",
       "text": [
        "\r",
        " 35%|\u2588\u2588\u2588\u258c      | 4089/11612 [01:02<01:28, 84.64it/s]"
       ]
      },
      {
       "output_type": "stream",
       "stream": "stderr",
       "text": [
        "\r",
        " 35%|\u2588\u2588\u2588\u258c      | 4098/11612 [01:02<01:28, 84.74it/s]"
       ]
      },
      {
       "output_type": "stream",
       "stream": "stderr",
       "text": [
        "\r",
        " 35%|\u2588\u2588\u2588\u258c      | 4107/11612 [01:02<01:28, 84.60it/s]"
       ]
      },
      {
       "output_type": "stream",
       "stream": "stderr",
       "text": [
        "\r",
        " 35%|\u2588\u2588\u2588\u258c      | 4116/11612 [01:02<01:28, 85.05it/s]"
       ]
      },
      {
       "output_type": "stream",
       "stream": "stderr",
       "text": [
        "\r",
        " 36%|\u2588\u2588\u2588\u258c      | 4125/11612 [01:02<01:27, 85.23it/s]"
       ]
      },
      {
       "output_type": "stream",
       "stream": "stderr",
       "text": [
        "\r",
        " 36%|\u2588\u2588\u2588\u258c      | 4134/11612 [01:02<01:27, 85.62it/s]"
       ]
      },
      {
       "output_type": "stream",
       "stream": "stderr",
       "text": [
        "\r",
        " 36%|\u2588\u2588\u2588\u258c      | 4143/11612 [01:03<01:26, 86.05it/s]"
       ]
      },
      {
       "output_type": "stream",
       "stream": "stderr",
       "text": [
        "\r",
        " 36%|\u2588\u2588\u2588\u258c      | 4152/11612 [01:03<01:26, 85.85it/s]"
       ]
      },
      {
       "output_type": "stream",
       "stream": "stderr",
       "text": [
        "\r",
        " 36%|\u2588\u2588\u2588\u258c      | 4161/11612 [01:03<01:27, 84.91it/s]"
       ]
      },
      {
       "output_type": "stream",
       "stream": "stderr",
       "text": [
        "\r",
        " 36%|\u2588\u2588\u2588\u258c      | 4170/11612 [01:03<01:28, 84.03it/s]"
       ]
      },
      {
       "output_type": "stream",
       "stream": "stderr",
       "text": [
        "\r",
        " 36%|\u2588\u2588\u2588\u258c      | 4179/11612 [01:03<01:27, 84.82it/s]"
       ]
      },
      {
       "output_type": "stream",
       "stream": "stderr",
       "text": [
        "\r",
        " 36%|\u2588\u2588\u2588\u258c      | 4188/11612 [01:03<01:27, 84.82it/s]"
       ]
      },
      {
       "output_type": "stream",
       "stream": "stderr",
       "text": [
        "\r",
        " 36%|\u2588\u2588\u2588\u258c      | 4197/11612 [01:03<01:26, 85.31it/s]"
       ]
      },
      {
       "output_type": "stream",
       "stream": "stderr",
       "text": [
        "\r",
        " 36%|\u2588\u2588\u2588\u258c      | 4206/11612 [01:03<01:26, 85.46it/s]"
       ]
      },
      {
       "output_type": "stream",
       "stream": "stderr",
       "text": [
        "\r",
        " 36%|\u2588\u2588\u2588\u258b      | 4215/11612 [01:03<01:27, 84.28it/s]"
       ]
      },
      {
       "output_type": "stream",
       "stream": "stderr",
       "text": [
        "\r",
        " 36%|\u2588\u2588\u2588\u258b      | 4224/11612 [01:04<01:27, 84.06it/s]"
       ]
      },
      {
       "output_type": "stream",
       "stream": "stderr",
       "text": [
        "\r",
        " 36%|\u2588\u2588\u2588\u258b      | 4233/11612 [01:04<01:27, 84.60it/s]"
       ]
      },
      {
       "output_type": "stream",
       "stream": "stderr",
       "text": [
        "\r",
        " 37%|\u2588\u2588\u2588\u258b      | 4242/11612 [01:04<01:26, 84.94it/s]"
       ]
      },
      {
       "output_type": "stream",
       "stream": "stderr",
       "text": [
        "\r",
        " 37%|\u2588\u2588\u2588\u258b      | 4251/11612 [01:04<01:26, 84.66it/s]"
       ]
      },
      {
       "output_type": "stream",
       "stream": "stderr",
       "text": [
        "\r",
        " 37%|\u2588\u2588\u2588\u258b      | 4260/11612 [01:04<01:28, 83.23it/s]"
       ]
      },
      {
       "output_type": "stream",
       "stream": "stderr",
       "text": [
        "\r",
        " 37%|\u2588\u2588\u2588\u258b      | 4269/11612 [01:04<01:30, 80.87it/s]"
       ]
      },
      {
       "output_type": "stream",
       "stream": "stderr",
       "text": [
        "\r",
        " 37%|\u2588\u2588\u2588\u258b      | 4278/11612 [01:04<01:33, 78.11it/s]"
       ]
      },
      {
       "output_type": "stream",
       "stream": "stderr",
       "text": [
        "\r",
        " 37%|\u2588\u2588\u2588\u258b      | 4287/11612 [01:04<01:32, 79.34it/s]"
       ]
      },
      {
       "output_type": "stream",
       "stream": "stderr",
       "text": [
        "\r",
        " 37%|\u2588\u2588\u2588\u258b      | 4296/11612 [01:04<01:30, 80.64it/s]"
       ]
      },
      {
       "output_type": "stream",
       "stream": "stderr",
       "text": [
        "\r",
        " 37%|\u2588\u2588\u2588\u258b      | 4305/11612 [01:05<01:29, 81.25it/s]"
       ]
      },
      {
       "output_type": "stream",
       "stream": "stderr",
       "text": [
        "\r",
        " 37%|\u2588\u2588\u2588\u258b      | 4314/11612 [01:05<01:31, 80.10it/s]"
       ]
      },
      {
       "output_type": "stream",
       "stream": "stderr",
       "text": [
        "\r",
        " 37%|\u2588\u2588\u2588\u258b      | 4323/11612 [01:05<01:29, 81.14it/s]"
       ]
      },
      {
       "output_type": "stream",
       "stream": "stderr",
       "text": [
        "\r",
        " 37%|\u2588\u2588\u2588\u258b      | 4332/11612 [01:05<01:28, 82.20it/s]"
       ]
      },
      {
       "output_type": "stream",
       "stream": "stderr",
       "text": [
        "\r",
        " 37%|\u2588\u2588\u2588\u258b      | 4341/11612 [01:05<01:30, 80.51it/s]"
       ]
      },
      {
       "output_type": "stream",
       "stream": "stderr",
       "text": [
        "\r",
        " 37%|\u2588\u2588\u2588\u258b      | 4350/11612 [01:05<01:29, 80.79it/s]"
       ]
      },
      {
       "output_type": "stream",
       "stream": "stderr",
       "text": [
        "\r",
        " 38%|\u2588\u2588\u2588\u258a      | 4359/11612 [01:05<01:30, 80.16it/s]"
       ]
      },
      {
       "output_type": "stream",
       "stream": "stderr",
       "text": [
        "\r",
        " 38%|\u2588\u2588\u2588\u258a      | 4368/11612 [01:05<01:31, 79.46it/s]"
       ]
      },
      {
       "output_type": "stream",
       "stream": "stderr",
       "text": [
        "\r",
        " 38%|\u2588\u2588\u2588\u258a      | 4377/11612 [01:05<01:29, 81.07it/s]"
       ]
      },
      {
       "output_type": "stream",
       "stream": "stderr",
       "text": [
        "\r",
        " 38%|\u2588\u2588\u2588\u258a      | 4386/11612 [01:06<01:29, 80.56it/s]"
       ]
      },
      {
       "output_type": "stream",
       "stream": "stderr",
       "text": [
        "\r",
        " 38%|\u2588\u2588\u2588\u258a      | 4395/11612 [01:06<01:29, 80.53it/s]"
       ]
      },
      {
       "output_type": "stream",
       "stream": "stderr",
       "text": [
        "\r",
        " 38%|\u2588\u2588\u2588\u258a      | 4404/11612 [01:06<01:29, 80.45it/s]"
       ]
      },
      {
       "output_type": "stream",
       "stream": "stderr",
       "text": [
        "\r",
        " 38%|\u2588\u2588\u2588\u258a      | 4413/11612 [01:06<01:29, 80.86it/s]"
       ]
      },
      {
       "output_type": "stream",
       "stream": "stderr",
       "text": [
        "\r",
        " 38%|\u2588\u2588\u2588\u258a      | 4422/11612 [01:06<01:27, 82.39it/s]"
       ]
      },
      {
       "output_type": "stream",
       "stream": "stderr",
       "text": [
        "\r",
        " 38%|\u2588\u2588\u2588\u258a      | 4432/11612 [01:06<01:24, 84.67it/s]"
       ]
      },
      {
       "output_type": "stream",
       "stream": "stderr",
       "text": [
        "\r",
        " 38%|\u2588\u2588\u2588\u258a      | 4441/11612 [01:06<01:23, 85.99it/s]"
       ]
      },
      {
       "output_type": "stream",
       "stream": "stderr",
       "text": [
        "\r",
        " 38%|\u2588\u2588\u2588\u258a      | 4450/11612 [01:06<01:22, 86.64it/s]"
       ]
      },
      {
       "output_type": "stream",
       "stream": "stderr",
       "text": [
        "\r",
        " 38%|\u2588\u2588\u2588\u258a      | 4459/11612 [01:06<01:22, 86.97it/s]"
       ]
      },
      {
       "output_type": "stream",
       "stream": "stderr",
       "text": [
        "\r",
        " 38%|\u2588\u2588\u2588\u258a      | 4468/11612 [01:06<01:24, 84.47it/s]"
       ]
      },
      {
       "output_type": "stream",
       "stream": "stderr",
       "text": [
        "\r",
        " 39%|\u2588\u2588\u2588\u258a      | 4477/11612 [01:07<01:26, 82.96it/s]"
       ]
      },
      {
       "output_type": "stream",
       "stream": "stderr",
       "text": [
        "\r",
        " 39%|\u2588\u2588\u2588\u258a      | 4486/11612 [01:07<01:24, 84.78it/s]"
       ]
      },
      {
       "output_type": "stream",
       "stream": "stderr",
       "text": [
        "\r",
        " 39%|\u2588\u2588\u2588\u258a      | 4496/11612 [01:07<01:22, 86.59it/s]"
       ]
      },
      {
       "output_type": "stream",
       "stream": "stderr",
       "text": [
        "\r",
        " 39%|\u2588\u2588\u2588\u2589      | 4506/11612 [01:07<01:20, 87.86it/s]"
       ]
      },
      {
       "output_type": "stream",
       "stream": "stderr",
       "text": [
        "\r",
        " 39%|\u2588\u2588\u2588\u2589      | 4515/11612 [01:07<01:23, 85.36it/s]"
       ]
      },
      {
       "output_type": "stream",
       "stream": "stderr",
       "text": [
        "\r",
        " 39%|\u2588\u2588\u2588\u2589      | 4525/11612 [01:07<01:21, 86.88it/s]"
       ]
      },
      {
       "output_type": "stream",
       "stream": "stderr",
       "text": [
        "\r",
        " 39%|\u2588\u2588\u2588\u2589      | 4535/11612 [01:07<01:20, 88.05it/s]"
       ]
      },
      {
       "output_type": "stream",
       "stream": "stderr",
       "text": [
        "\r",
        " 39%|\u2588\u2588\u2588\u2589      | 4544/11612 [01:07<01:22, 85.22it/s]"
       ]
      },
      {
       "output_type": "stream",
       "stream": "stderr",
       "text": [
        "\r",
        " 39%|\u2588\u2588\u2588\u2589      | 4553/11612 [01:07<01:23, 84.08it/s]"
       ]
      },
      {
       "output_type": "stream",
       "stream": "stderr",
       "text": [
        "\r",
        " 39%|\u2588\u2588\u2588\u2589      | 4562/11612 [01:08<01:25, 82.74it/s]"
       ]
      },
      {
       "output_type": "stream",
       "stream": "stderr",
       "text": [
        "\r",
        " 39%|\u2588\u2588\u2588\u2589      | 4571/11612 [01:08<01:24, 83.37it/s]"
       ]
      },
      {
       "output_type": "stream",
       "stream": "stderr",
       "text": [
        "\r",
        " 39%|\u2588\u2588\u2588\u2589      | 4581/11612 [01:08<01:22, 85.42it/s]"
       ]
      },
      {
       "output_type": "stream",
       "stream": "stderr",
       "text": [
        "\r",
        " 40%|\u2588\u2588\u2588\u2589      | 4591/11612 [01:08<01:20, 87.26it/s]"
       ]
      },
      {
       "output_type": "stream",
       "stream": "stderr",
       "text": [
        "\r",
        " 40%|\u2588\u2588\u2588\u2589      | 4601/11612 [01:08<01:18, 88.76it/s]"
       ]
      },
      {
       "output_type": "stream",
       "stream": "stderr",
       "text": [
        "\r",
        " 40%|\u2588\u2588\u2588\u2589      | 4610/11612 [01:08<01:18, 89.09it/s]"
       ]
      },
      {
       "output_type": "stream",
       "stream": "stderr",
       "text": [
        "\r",
        " 40%|\u2588\u2588\u2588\u2589      | 4620/11612 [01:08<01:17, 89.66it/s]"
       ]
      },
      {
       "output_type": "stream",
       "stream": "stderr",
       "text": [
        "\r",
        " 40%|\u2588\u2588\u2588\u2589      | 4630/11612 [01:08<01:17, 90.05it/s]"
       ]
      },
      {
       "output_type": "stream",
       "stream": "stderr",
       "text": [
        "\r",
        " 40%|\u2588\u2588\u2588\u2589      | 4640/11612 [01:08<01:17, 90.31it/s]"
       ]
      },
      {
       "output_type": "stream",
       "stream": "stderr",
       "text": [
        "\r",
        " 40%|\u2588\u2588\u2588\u2588      | 4650/11612 [01:09<01:16, 90.84it/s]"
       ]
      },
      {
       "output_type": "stream",
       "stream": "stderr",
       "text": [
        "\r",
        " 40%|\u2588\u2588\u2588\u2588      | 4660/11612 [01:09<01:15, 91.67it/s]"
       ]
      },
      {
       "output_type": "stream",
       "stream": "stderr",
       "text": [
        "\r",
        " 40%|\u2588\u2588\u2588\u2588      | 4670/11612 [01:09<01:15, 92.10it/s]"
       ]
      },
      {
       "output_type": "stream",
       "stream": "stderr",
       "text": [
        "\r",
        " 40%|\u2588\u2588\u2588\u2588      | 4680/11612 [01:09<01:15, 91.28it/s]"
       ]
      },
      {
       "output_type": "stream",
       "stream": "stderr",
       "text": [
        "\r",
        " 40%|\u2588\u2588\u2588\u2588      | 4690/11612 [01:09<01:15, 91.73it/s]"
       ]
      },
      {
       "output_type": "stream",
       "stream": "stderr",
       "text": [
        "\r",
        " 40%|\u2588\u2588\u2588\u2588      | 4700/11612 [01:09<01:15, 91.32it/s]"
       ]
      },
      {
       "output_type": "stream",
       "stream": "stderr",
       "text": [
        "\r",
        " 41%|\u2588\u2588\u2588\u2588      | 4710/11612 [01:09<01:15, 91.59it/s]"
       ]
      },
      {
       "output_type": "stream",
       "stream": "stderr",
       "text": [
        "\r",
        " 41%|\u2588\u2588\u2588\u2588      | 4720/11612 [01:09<01:15, 91.77it/s]"
       ]
      },
      {
       "output_type": "stream",
       "stream": "stderr",
       "text": [
        "\r",
        " 41%|\u2588\u2588\u2588\u2588      | 4730/11612 [01:09<01:14, 92.46it/s]"
       ]
      },
      {
       "output_type": "stream",
       "stream": "stderr",
       "text": [
        "\r",
        " 41%|\u2588\u2588\u2588\u2588      | 4740/11612 [01:10<01:14, 92.76it/s]"
       ]
      },
      {
       "output_type": "stream",
       "stream": "stderr",
       "text": [
        "\r",
        " 41%|\u2588\u2588\u2588\u2588      | 4750/11612 [01:10<01:14, 91.74it/s]"
       ]
      },
      {
       "output_type": "stream",
       "stream": "stderr",
       "text": [
        "\r",
        " 41%|\u2588\u2588\u2588\u2588      | 4760/11612 [01:10<01:14, 91.93it/s]"
       ]
      },
      {
       "output_type": "stream",
       "stream": "stderr",
       "text": [
        "\r",
        " 41%|\u2588\u2588\u2588\u2588      | 4770/11612 [01:10<01:14, 92.12it/s]"
       ]
      },
      {
       "output_type": "stream",
       "stream": "stderr",
       "text": [
        "\r",
        " 41%|\u2588\u2588\u2588\u2588      | 4780/11612 [01:10<01:14, 92.11it/s]"
       ]
      },
      {
       "output_type": "stream",
       "stream": "stderr",
       "text": [
        "\r",
        " 41%|\u2588\u2588\u2588\u2588\u258f     | 4790/11612 [01:10<01:14, 91.97it/s]"
       ]
      },
      {
       "output_type": "stream",
       "stream": "stderr",
       "text": [
        "\r",
        " 41%|\u2588\u2588\u2588\u2588\u258f     | 4800/11612 [01:10<01:13, 92.52it/s]"
       ]
      },
      {
       "output_type": "stream",
       "stream": "stderr",
       "text": [
        "\r",
        " 41%|\u2588\u2588\u2588\u2588\u258f     | 4810/11612 [01:10<01:13, 92.79it/s]"
       ]
      },
      {
       "output_type": "stream",
       "stream": "stderr",
       "text": [
        "\r",
        " 42%|\u2588\u2588\u2588\u2588\u258f     | 4820/11612 [01:10<01:12, 94.31it/s]"
       ]
      },
      {
       "output_type": "stream",
       "stream": "stderr",
       "text": [
        "\r",
        " 42%|\u2588\u2588\u2588\u2588\u258f     | 4830/11612 [01:11<01:11, 94.22it/s]"
       ]
      },
      {
       "output_type": "stream",
       "stream": "stderr",
       "text": [
        "\r",
        " 42%|\u2588\u2588\u2588\u2588\u258f     | 4840/11612 [01:11<01:11, 94.22it/s]"
       ]
      },
      {
       "output_type": "stream",
       "stream": "stderr",
       "text": [
        "\r",
        " 42%|\u2588\u2588\u2588\u2588\u258f     | 4850/11612 [01:11<01:11, 94.17it/s]"
       ]
      },
      {
       "output_type": "stream",
       "stream": "stderr",
       "text": [
        "\r",
        " 42%|\u2588\u2588\u2588\u2588\u258f     | 4860/11612 [01:11<01:11, 94.58it/s]"
       ]
      },
      {
       "output_type": "stream",
       "stream": "stderr",
       "text": [
        "\r",
        " 42%|\u2588\u2588\u2588\u2588\u258f     | 4870/11612 [01:11<01:11, 94.48it/s]"
       ]
      },
      {
       "output_type": "stream",
       "stream": "stderr",
       "text": [
        "\r",
        " 42%|\u2588\u2588\u2588\u2588\u258f     | 4880/11612 [01:11<01:10, 95.39it/s]"
       ]
      },
      {
       "output_type": "stream",
       "stream": "stderr",
       "text": [
        "\r",
        " 42%|\u2588\u2588\u2588\u2588\u258f     | 4890/11612 [01:11<01:11, 93.49it/s]"
       ]
      },
      {
       "output_type": "stream",
       "stream": "stderr",
       "text": [
        "\r",
        " 42%|\u2588\u2588\u2588\u2588\u258f     | 4900/11612 [01:11<01:10, 94.81it/s]"
       ]
      },
      {
       "output_type": "stream",
       "stream": "stderr",
       "text": [
        "\r",
        " 42%|\u2588\u2588\u2588\u2588\u258f     | 4910/11612 [01:11<01:10, 95.05it/s]"
       ]
      },
      {
       "output_type": "stream",
       "stream": "stderr",
       "text": [
        "\r",
        " 42%|\u2588\u2588\u2588\u2588\u258f     | 4920/11612 [01:11<01:10, 95.55it/s]"
       ]
      },
      {
       "output_type": "stream",
       "stream": "stderr",
       "text": [
        "\r",
        " 42%|\u2588\u2588\u2588\u2588\u258f     | 4930/11612 [01:12<01:09, 95.95it/s]"
       ]
      },
      {
       "output_type": "stream",
       "stream": "stderr",
       "text": [
        "\r",
        " 43%|\u2588\u2588\u2588\u2588\u258e     | 4940/11612 [01:12<01:09, 96.11it/s]"
       ]
      },
      {
       "output_type": "stream",
       "stream": "stderr",
       "text": [
        "\r",
        " 43%|\u2588\u2588\u2588\u2588\u258e     | 4950/11612 [01:12<01:09, 96.23it/s]"
       ]
      },
      {
       "output_type": "stream",
       "stream": "stderr",
       "text": [
        "\r",
        " 43%|\u2588\u2588\u2588\u2588\u258e     | 4960/11612 [01:12<01:08, 97.07it/s]"
       ]
      },
      {
       "output_type": "stream",
       "stream": "stderr",
       "text": [
        "\r",
        " 43%|\u2588\u2588\u2588\u2588\u258e     | 4970/11612 [01:12<01:08, 97.02it/s]"
       ]
      },
      {
       "output_type": "stream",
       "stream": "stderr",
       "text": [
        "\r",
        " 43%|\u2588\u2588\u2588\u2588\u258e     | 4980/11612 [01:12<01:09, 95.41it/s]"
       ]
      },
      {
       "output_type": "stream",
       "stream": "stderr",
       "text": [
        "\r",
        " 43%|\u2588\u2588\u2588\u2588\u258e     | 4990/11612 [01:12<01:13, 90.60it/s]"
       ]
      },
      {
       "output_type": "stream",
       "stream": "stderr",
       "text": [
        "\r",
        " 43%|\u2588\u2588\u2588\u2588\u258e     | 5000/11612 [01:12<01:13, 90.53it/s]"
       ]
      },
      {
       "output_type": "stream",
       "stream": "stderr",
       "text": [
        "\r",
        " 43%|\u2588\u2588\u2588\u2588\u258e     | 5010/11612 [01:12<01:12, 91.53it/s]"
       ]
      },
      {
       "output_type": "stream",
       "stream": "stderr",
       "text": [
        "\r",
        " 43%|\u2588\u2588\u2588\u2588\u258e     | 5020/11612 [01:13<01:10, 92.87it/s]"
       ]
      },
      {
       "output_type": "stream",
       "stream": "stderr",
       "text": [
        "\r",
        " 43%|\u2588\u2588\u2588\u2588\u258e     | 5030/11612 [01:13<01:09, 94.26it/s]"
       ]
      },
      {
       "output_type": "stream",
       "stream": "stderr",
       "text": [
        "\r",
        " 43%|\u2588\u2588\u2588\u2588\u258e     | 5040/11612 [01:13<01:09, 94.62it/s]"
       ]
      },
      {
       "output_type": "stream",
       "stream": "stderr",
       "text": [
        "\r",
        " 43%|\u2588\u2588\u2588\u2588\u258e     | 5050/11612 [01:13<01:09, 94.93it/s]"
       ]
      },
      {
       "output_type": "stream",
       "stream": "stderr",
       "text": [
        "\r",
        " 44%|\u2588\u2588\u2588\u2588\u258e     | 5061/11612 [01:13<01:07, 96.87it/s]"
       ]
      },
      {
       "output_type": "stream",
       "stream": "stderr",
       "text": [
        "\r",
        " 44%|\u2588\u2588\u2588\u2588\u258e     | 5071/11612 [01:13<01:07, 96.44it/s]"
       ]
      },
      {
       "output_type": "stream",
       "stream": "stderr",
       "text": [
        "\r",
        " 44%|\u2588\u2588\u2588\u2588\u258d     | 5081/11612 [01:13<01:07, 96.48it/s]"
       ]
      },
      {
       "output_type": "stream",
       "stream": "stderr",
       "text": [
        "\r",
        " 44%|\u2588\u2588\u2588\u2588\u258d     | 5092/11612 [01:13<01:06, 97.59it/s]"
       ]
      },
      {
       "output_type": "stream",
       "stream": "stderr",
       "text": [
        "\r",
        " 44%|\u2588\u2588\u2588\u2588\u258d     | 5103/11612 [01:13<01:06, 98.33it/s]"
       ]
      },
      {
       "output_type": "stream",
       "stream": "stderr",
       "text": [
        "\r",
        " 44%|\u2588\u2588\u2588\u2588\u258d     | 5113/11612 [01:13<01:07, 96.65it/s]"
       ]
      },
      {
       "output_type": "stream",
       "stream": "stderr",
       "text": [
        "\r",
        " 44%|\u2588\u2588\u2588\u2588\u258d     | 5123/11612 [01:14<01:07, 96.03it/s]"
       ]
      },
      {
       "output_type": "stream",
       "stream": "stderr",
       "text": [
        "\r",
        " 44%|\u2588\u2588\u2588\u2588\u258d     | 5133/11612 [01:14<01:06, 97.00it/s]"
       ]
      },
      {
       "output_type": "stream",
       "stream": "stderr",
       "text": [
        "\r",
        " 44%|\u2588\u2588\u2588\u2588\u258d     | 5144/11612 [01:14<01:05, 98.44it/s]"
       ]
      },
      {
       "output_type": "stream",
       "stream": "stderr",
       "text": [
        "\r",
        " 44%|\u2588\u2588\u2588\u2588\u258d     | 5154/11612 [01:14<01:05, 98.30it/s]"
       ]
      },
      {
       "output_type": "stream",
       "stream": "stderr",
       "text": [
        "\r",
        " 44%|\u2588\u2588\u2588\u2588\u258d     | 5165/11612 [01:14<01:04, 99.36it/s]"
       ]
      },
      {
       "output_type": "stream",
       "stream": "stderr",
       "text": [
        "\r",
        " 45%|\u2588\u2588\u2588\u2588\u258d     | 5175/11612 [01:14<01:06, 96.35it/s]"
       ]
      },
      {
       "output_type": "stream",
       "stream": "stderr",
       "text": [
        "\r",
        " 45%|\u2588\u2588\u2588\u2588\u258d     | 5185/11612 [01:14<01:08, 93.63it/s]"
       ]
      },
      {
       "output_type": "stream",
       "stream": "stderr",
       "text": [
        "\r",
        " 45%|\u2588\u2588\u2588\u2588\u258d     | 5195/11612 [01:14<01:09, 92.06it/s]"
       ]
      },
      {
       "output_type": "stream",
       "stream": "stderr",
       "text": [
        "\r",
        " 45%|\u2588\u2588\u2588\u2588\u258d     | 5205/11612 [01:14<01:09, 92.07it/s]"
       ]
      },
      {
       "output_type": "stream",
       "stream": "stderr",
       "text": [
        "\r",
        " 45%|\u2588\u2588\u2588\u2588\u258d     | 5216/11612 [01:15<01:07, 94.45it/s]"
       ]
      },
      {
       "output_type": "stream",
       "stream": "stderr",
       "text": [
        "\r",
        " 45%|\u2588\u2588\u2588\u2588\u258c     | 5227/11612 [01:15<01:05, 97.03it/s]"
       ]
      },
      {
       "output_type": "stream",
       "stream": "stderr",
       "text": [
        "\r",
        " 45%|\u2588\u2588\u2588\u2588\u258c     | 5238/11612 [01:15<01:04, 98.32it/s]"
       ]
      },
      {
       "output_type": "stream",
       "stream": "stderr",
       "text": [
        "\r",
        " 45%|\u2588\u2588\u2588\u2588\u258c     | 5249/11612 [01:15<01:03, 99.91it/s]"
       ]
      },
      {
       "output_type": "stream",
       "stream": "stderr",
       "text": [
        "\r",
        " 45%|\u2588\u2588\u2588\u2588\u258c     | 5260/11612 [01:15<01:04, 99.17it/s]"
       ]
      },
      {
       "output_type": "stream",
       "stream": "stderr",
       "text": [
        "\r",
        " 45%|\u2588\u2588\u2588\u2588\u258c     | 5271/11612 [01:15<01:03, 99.95it/s]"
       ]
      },
      {
       "output_type": "stream",
       "stream": "stderr",
       "text": [
        "\r",
        " 45%|\u2588\u2588\u2588\u2588\u258c     | 5282/11612 [01:15<01:03, 99.32it/s]"
       ]
      },
      {
       "output_type": "stream",
       "stream": "stderr",
       "text": [
        "\r",
        " 46%|\u2588\u2588\u2588\u2588\u258c     | 5292/11612 [01:15<01:05, 96.53it/s]"
       ]
      },
      {
       "output_type": "stream",
       "stream": "stderr",
       "text": [
        "\r",
        " 46%|\u2588\u2588\u2588\u2588\u258c     | 5302/11612 [01:15<01:06, 94.76it/s]"
       ]
      },
      {
       "output_type": "stream",
       "stream": "stderr",
       "text": [
        "\r",
        " 46%|\u2588\u2588\u2588\u2588\u258c     | 5312/11612 [01:16<01:05, 96.21it/s]"
       ]
      },
      {
       "output_type": "stream",
       "stream": "stderr",
       "text": [
        "\r",
        " 46%|\u2588\u2588\u2588\u2588\u258c     | 5323/11612 [01:16<01:04, 98.00it/s]"
       ]
      },
      {
       "output_type": "stream",
       "stream": "stderr",
       "text": [
        "\r",
        " 46%|\u2588\u2588\u2588\u2588\u258c     | 5334/11612 [01:16<01:02, 100.15it/s]"
       ]
      },
      {
       "output_type": "stream",
       "stream": "stderr",
       "text": [
        "\r",
        " 46%|\u2588\u2588\u2588\u2588\u258c     | 5345/11612 [01:16<01:02, 100.85it/s]"
       ]
      },
      {
       "output_type": "stream",
       "stream": "stderr",
       "text": [
        "\r",
        " 46%|\u2588\u2588\u2588\u2588\u258c     | 5356/11612 [01:16<01:01, 101.96it/s]"
       ]
      },
      {
       "output_type": "stream",
       "stream": "stderr",
       "text": [
        "\r",
        " 46%|\u2588\u2588\u2588\u2588\u258c     | 5367/11612 [01:16<01:01, 102.03it/s]"
       ]
      },
      {
       "output_type": "stream",
       "stream": "stderr",
       "text": [
        "\r",
        " 46%|\u2588\u2588\u2588\u2588\u258b     | 5378/11612 [01:16<01:00, 102.60it/s]"
       ]
      },
      {
       "output_type": "stream",
       "stream": "stderr",
       "text": [
        "\r",
        " 46%|\u2588\u2588\u2588\u2588\u258b     | 5389/11612 [01:16<01:00, 102.84it/s]"
       ]
      },
      {
       "output_type": "stream",
       "stream": "stderr",
       "text": [
        "\r",
        " 47%|\u2588\u2588\u2588\u2588\u258b     | 5400/11612 [01:16<00:59, 103.55it/s]"
       ]
      },
      {
       "output_type": "stream",
       "stream": "stderr",
       "text": [
        "\r",
        " 47%|\u2588\u2588\u2588\u2588\u258b     | 5411/11612 [01:16<00:59, 104.03it/s]"
       ]
      },
      {
       "output_type": "stream",
       "stream": "stderr",
       "text": [
        "\r",
        " 47%|\u2588\u2588\u2588\u2588\u258b     | 5422/11612 [01:17<00:59, 104.56it/s]"
       ]
      },
      {
       "output_type": "stream",
       "stream": "stderr",
       "text": [
        "\r",
        " 47%|\u2588\u2588\u2588\u2588\u258b     | 5433/11612 [01:17<00:58, 104.86it/s]"
       ]
      },
      {
       "output_type": "stream",
       "stream": "stderr",
       "text": [
        "\r",
        " 47%|\u2588\u2588\u2588\u2588\u258b     | 5444/11612 [01:17<00:58, 105.41it/s]"
       ]
      },
      {
       "output_type": "stream",
       "stream": "stderr",
       "text": [
        "\r",
        " 47%|\u2588\u2588\u2588\u2588\u258b     | 5455/11612 [01:17<00:59, 103.76it/s]"
       ]
      },
      {
       "output_type": "stream",
       "stream": "stderr",
       "text": [
        "\r",
        " 47%|\u2588\u2588\u2588\u2588\u258b     | 5466/11612 [01:17<00:58, 105.03it/s]"
       ]
      },
      {
       "output_type": "stream",
       "stream": "stderr",
       "text": [
        "\r",
        " 47%|\u2588\u2588\u2588\u2588\u258b     | 5477/11612 [01:17<00:58, 104.18it/s]"
       ]
      },
      {
       "output_type": "stream",
       "stream": "stderr",
       "text": [
        "\r",
        " 47%|\u2588\u2588\u2588\u2588\u258b     | 5488/11612 [01:17<00:59, 103.54it/s]"
       ]
      },
      {
       "output_type": "stream",
       "stream": "stderr",
       "text": [
        "\r",
        " 47%|\u2588\u2588\u2588\u2588\u258b     | 5499/11612 [01:17<00:58, 104.38it/s]"
       ]
      },
      {
       "output_type": "stream",
       "stream": "stderr",
       "text": [
        "\r",
        " 47%|\u2588\u2588\u2588\u2588\u258b     | 5510/11612 [01:17<00:57, 105.56it/s]"
       ]
      },
      {
       "output_type": "stream",
       "stream": "stderr",
       "text": [
        "\r",
        " 48%|\u2588\u2588\u2588\u2588\u258a     | 5521/11612 [01:18<00:57, 105.83it/s]"
       ]
      },
      {
       "output_type": "stream",
       "stream": "stderr",
       "text": [
        "\r",
        " 48%|\u2588\u2588\u2588\u2588\u258a     | 5532/11612 [01:18<00:57, 106.66it/s]"
       ]
      },
      {
       "output_type": "stream",
       "stream": "stderr",
       "text": [
        "\r",
        " 48%|\u2588\u2588\u2588\u2588\u258a     | 5543/11612 [01:18<00:56, 106.78it/s]"
       ]
      },
      {
       "output_type": "stream",
       "stream": "stderr",
       "text": [
        "\r",
        " 48%|\u2588\u2588\u2588\u2588\u258a     | 5554/11612 [01:18<00:56, 106.87it/s]"
       ]
      },
      {
       "output_type": "stream",
       "stream": "stderr",
       "text": [
        "\r",
        " 48%|\u2588\u2588\u2588\u2588\u258a     | 5565/11612 [01:18<00:56, 107.13it/s]"
       ]
      },
      {
       "output_type": "stream",
       "stream": "stderr",
       "text": [
        "\r",
        " 48%|\u2588\u2588\u2588\u2588\u258a     | 5576/11612 [01:18<00:56, 107.60it/s]"
       ]
      },
      {
       "output_type": "stream",
       "stream": "stderr",
       "text": [
        "\r",
        " 48%|\u2588\u2588\u2588\u2588\u258a     | 5587/11612 [01:18<00:56, 107.04it/s]"
       ]
      },
      {
       "output_type": "stream",
       "stream": "stderr",
       "text": [
        "\r",
        " 48%|\u2588\u2588\u2588\u2588\u258a     | 5598/11612 [01:18<00:56, 106.96it/s]"
       ]
      },
      {
       "output_type": "stream",
       "stream": "stderr",
       "text": [
        "\r",
        " 48%|\u2588\u2588\u2588\u2588\u258a     | 5609/11612 [01:18<00:55, 107.32it/s]"
       ]
      },
      {
       "output_type": "stream",
       "stream": "stderr",
       "text": [
        "\r",
        " 48%|\u2588\u2588\u2588\u2588\u258a     | 5620/11612 [01:18<00:55, 107.34it/s]"
       ]
      },
      {
       "output_type": "stream",
       "stream": "stderr",
       "text": [
        "\r",
        " 48%|\u2588\u2588\u2588\u2588\u258a     | 5631/11612 [01:19<00:55, 107.59it/s]"
       ]
      },
      {
       "output_type": "stream",
       "stream": "stderr",
       "text": [
        "\r",
        " 49%|\u2588\u2588\u2588\u2588\u258a     | 5643/11612 [01:19<00:54, 109.08it/s]"
       ]
      },
      {
       "output_type": "stream",
       "stream": "stderr",
       "text": [
        "\r",
        " 49%|\u2588\u2588\u2588\u2588\u258a     | 5654/11612 [01:19<00:54, 108.61it/s]"
       ]
      },
      {
       "output_type": "stream",
       "stream": "stderr",
       "text": [
        "\r",
        " 49%|\u2588\u2588\u2588\u2588\u2589     | 5665/11612 [01:19<00:54, 108.72it/s]"
       ]
      },
      {
       "output_type": "stream",
       "stream": "stderr",
       "text": [
        "\r",
        " 49%|\u2588\u2588\u2588\u2588\u2589     | 5676/11612 [01:19<00:54, 108.88it/s]"
       ]
      },
      {
       "output_type": "stream",
       "stream": "stderr",
       "text": [
        "\r",
        " 49%|\u2588\u2588\u2588\u2588\u2589     | 5688/11612 [01:19<00:54, 109.39it/s]"
       ]
      },
      {
       "output_type": "stream",
       "stream": "stderr",
       "text": [
        "\r",
        " 49%|\u2588\u2588\u2588\u2588\u2589     | 5699/11612 [01:19<00:54, 108.47it/s]"
       ]
      },
      {
       "output_type": "stream",
       "stream": "stderr",
       "text": [
        "\r",
        " 49%|\u2588\u2588\u2588\u2588\u2589     | 5710/11612 [01:19<00:55, 105.93it/s]"
       ]
      },
      {
       "output_type": "stream",
       "stream": "stderr",
       "text": [
        "\r",
        " 49%|\u2588\u2588\u2588\u2588\u2589     | 5721/11612 [01:19<00:56, 104.06it/s]"
       ]
      },
      {
       "output_type": "stream",
       "stream": "stderr",
       "text": [
        "\r",
        " 49%|\u2588\u2588\u2588\u2588\u2589     | 5732/11612 [01:19<00:55, 105.46it/s]"
       ]
      },
      {
       "output_type": "stream",
       "stream": "stderr",
       "text": [
        "\r",
        " 49%|\u2588\u2588\u2588\u2588\u2589     | 5743/11612 [01:20<00:55, 106.63it/s]"
       ]
      },
      {
       "output_type": "stream",
       "stream": "stderr",
       "text": [
        "\r",
        " 50%|\u2588\u2588\u2588\u2588\u2589     | 5754/11612 [01:20<00:55, 106.18it/s]"
       ]
      },
      {
       "output_type": "stream",
       "stream": "stderr",
       "text": [
        "\r",
        " 50%|\u2588\u2588\u2588\u2588\u2589     | 5766/11612 [01:20<00:54, 107.67it/s]"
       ]
      },
      {
       "output_type": "stream",
       "stream": "stderr",
       "text": [
        "\r",
        " 50%|\u2588\u2588\u2588\u2588\u2589     | 5778/11612 [01:20<00:53, 109.02it/s]"
       ]
      },
      {
       "output_type": "stream",
       "stream": "stderr",
       "text": [
        "\r",
        " 50%|\u2588\u2588\u2588\u2588\u2589     | 5790/11612 [01:20<00:53, 109.40it/s]"
       ]
      },
      {
       "output_type": "stream",
       "stream": "stderr",
       "text": [
        "\r",
        " 50%|\u2588\u2588\u2588\u2588\u2589     | 5802/11612 [01:20<00:52, 110.10it/s]"
       ]
      },
      {
       "output_type": "stream",
       "stream": "stderr",
       "text": [
        "\r",
        " 50%|\u2588\u2588\u2588\u2588\u2588     | 5814/11612 [01:20<00:52, 109.50it/s]"
       ]
      },
      {
       "output_type": "stream",
       "stream": "stderr",
       "text": [
        "\r",
        " 50%|\u2588\u2588\u2588\u2588\u2588     | 5826/11612 [01:20<00:52, 109.67it/s]"
       ]
      },
      {
       "output_type": "stream",
       "stream": "stderr",
       "text": [
        "\r",
        " 50%|\u2588\u2588\u2588\u2588\u2588     | 5838/11612 [01:20<00:52, 110.32it/s]"
       ]
      },
      {
       "output_type": "stream",
       "stream": "stderr",
       "text": [
        "\r",
        " 50%|\u2588\u2588\u2588\u2588\u2588     | 5850/11612 [01:21<00:51, 110.95it/s]"
       ]
      },
      {
       "output_type": "stream",
       "stream": "stderr",
       "text": [
        "\r",
        " 50%|\u2588\u2588\u2588\u2588\u2588     | 5862/11612 [01:21<00:51, 111.26it/s]"
       ]
      },
      {
       "output_type": "stream",
       "stream": "stderr",
       "text": [
        "\r",
        " 51%|\u2588\u2588\u2588\u2588\u2588     | 5874/11612 [01:21<00:51, 111.60it/s]"
       ]
      },
      {
       "output_type": "stream",
       "stream": "stderr",
       "text": [
        "\r",
        " 51%|\u2588\u2588\u2588\u2588\u2588     | 5886/11612 [01:21<00:51, 111.57it/s]"
       ]
      },
      {
       "output_type": "stream",
       "stream": "stderr",
       "text": [
        "\r",
        " 51%|\u2588\u2588\u2588\u2588\u2588     | 5898/11612 [01:21<00:50, 112.24it/s]"
       ]
      },
      {
       "output_type": "stream",
       "stream": "stderr",
       "text": [
        "\r",
        " 51%|\u2588\u2588\u2588\u2588\u2588     | 5910/11612 [01:21<00:50, 112.37it/s]"
       ]
      },
      {
       "output_type": "stream",
       "stream": "stderr",
       "text": [
        "\r",
        " 51%|\u2588\u2588\u2588\u2588\u2588     | 5922/11612 [01:21<00:50, 112.93it/s]"
       ]
      },
      {
       "output_type": "stream",
       "stream": "stderr",
       "text": [
        "\r",
        " 51%|\u2588\u2588\u2588\u2588\u2588     | 5934/11612 [01:21<00:51, 110.67it/s]"
       ]
      },
      {
       "output_type": "stream",
       "stream": "stderr",
       "text": [
        "\r",
        " 51%|\u2588\u2588\u2588\u2588\u2588     | 5946/11612 [01:21<00:50, 111.61it/s]"
       ]
      },
      {
       "output_type": "stream",
       "stream": "stderr",
       "text": [
        "\r",
        " 51%|\u2588\u2588\u2588\u2588\u2588\u258f    | 5958/11612 [01:22<00:50, 112.02it/s]"
       ]
      },
      {
       "output_type": "stream",
       "stream": "stderr",
       "text": [
        "\r",
        " 51%|\u2588\u2588\u2588\u2588\u2588\u258f    | 5970/11612 [01:22<00:51, 108.81it/s]"
       ]
      },
      {
       "output_type": "stream",
       "stream": "stderr",
       "text": [
        "\r",
        " 52%|\u2588\u2588\u2588\u2588\u2588\u258f    | 5981/11612 [01:22<00:54, 103.98it/s]"
       ]
      },
      {
       "output_type": "stream",
       "stream": "stderr",
       "text": [
        "\r",
        " 52%|\u2588\u2588\u2588\u2588\u2588\u258f    | 5992/11612 [01:22<00:54, 103.74it/s]"
       ]
      },
      {
       "output_type": "stream",
       "stream": "stderr",
       "text": [
        "\r",
        " 52%|\u2588\u2588\u2588\u2588\u2588\u258f    | 6003/11612 [01:22<00:53, 105.38it/s]"
       ]
      },
      {
       "output_type": "stream",
       "stream": "stderr",
       "text": [
        "\r",
        " 52%|\u2588\u2588\u2588\u2588\u2588\u258f    | 6015/11612 [01:22<00:52, 107.51it/s]"
       ]
      },
      {
       "output_type": "stream",
       "stream": "stderr",
       "text": [
        "\r",
        " 52%|\u2588\u2588\u2588\u2588\u2588\u258f    | 6026/11612 [01:22<00:52, 105.51it/s]"
       ]
      },
      {
       "output_type": "stream",
       "stream": "stderr",
       "text": [
        "\r",
        " 52%|\u2588\u2588\u2588\u2588\u2588\u258f    | 6037/11612 [01:22<00:53, 104.36it/s]"
       ]
      },
      {
       "output_type": "stream",
       "stream": "stderr",
       "text": [
        "\r",
        " 52%|\u2588\u2588\u2588\u2588\u2588\u258f    | 6049/11612 [01:22<00:52, 106.93it/s]"
       ]
      },
      {
       "output_type": "stream",
       "stream": "stderr",
       "text": [
        "\r",
        " 52%|\u2588\u2588\u2588\u2588\u2588\u258f    | 6060/11612 [01:23<00:51, 106.93it/s]"
       ]
      },
      {
       "output_type": "stream",
       "stream": "stderr",
       "text": [
        "\r",
        " 52%|\u2588\u2588\u2588\u2588\u2588\u258f    | 6071/11612 [01:23<00:52, 104.85it/s]"
       ]
      },
      {
       "output_type": "stream",
       "stream": "stderr",
       "text": [
        "\r",
        " 52%|\u2588\u2588\u2588\u2588\u2588\u258f    | 6082/11612 [01:23<00:52, 105.50it/s]"
       ]
      },
      {
       "output_type": "stream",
       "stream": "stderr",
       "text": [
        "\r",
        " 52%|\u2588\u2588\u2588\u2588\u2588\u258f    | 6094/11612 [01:23<00:51, 108.09it/s]"
       ]
      },
      {
       "output_type": "stream",
       "stream": "stderr",
       "text": [
        "\r",
        " 53%|\u2588\u2588\u2588\u2588\u2588\u258e    | 6105/11612 [01:23<00:51, 107.09it/s]"
       ]
      },
      {
       "output_type": "stream",
       "stream": "stderr",
       "text": [
        "\r",
        " 53%|\u2588\u2588\u2588\u2588\u2588\u258e    | 6116/11612 [01:23<00:51, 105.95it/s]"
       ]
      },
      {
       "output_type": "stream",
       "stream": "stderr",
       "text": [
        "\r",
        " 53%|\u2588\u2588\u2588\u2588\u2588\u258e    | 6128/11612 [01:23<00:50, 108.15it/s]"
       ]
      },
      {
       "output_type": "stream",
       "stream": "stderr",
       "text": [
        "\r",
        " 53%|\u2588\u2588\u2588\u2588\u2588\u258e    | 6140/11612 [01:23<00:49, 110.45it/s]"
       ]
      },
      {
       "output_type": "stream",
       "stream": "stderr",
       "text": [
        "\r",
        " 53%|\u2588\u2588\u2588\u2588\u2588\u258e    | 6152/11612 [01:23<00:50, 108.52it/s]"
       ]
      },
      {
       "output_type": "stream",
       "stream": "stderr",
       "text": [
        "\r",
        " 53%|\u2588\u2588\u2588\u2588\u2588\u258e    | 6164/11612 [01:23<00:49, 111.08it/s]"
       ]
      },
      {
       "output_type": "stream",
       "stream": "stderr",
       "text": [
        "\r",
        " 53%|\u2588\u2588\u2588\u2588\u2588\u258e    | 6177/11612 [01:24<00:47, 113.83it/s]"
       ]
      },
      {
       "output_type": "stream",
       "stream": "stderr",
       "text": [
        "\r",
        " 53%|\u2588\u2588\u2588\u2588\u2588\u258e    | 6189/11612 [01:24<00:46, 115.59it/s]"
       ]
      },
      {
       "output_type": "stream",
       "stream": "stderr",
       "text": [
        "\r",
        " 53%|\u2588\u2588\u2588\u2588\u2588\u258e    | 6202/11612 [01:24<00:46, 116.51it/s]"
       ]
      },
      {
       "output_type": "stream",
       "stream": "stderr",
       "text": [
        "\r",
        " 54%|\u2588\u2588\u2588\u2588\u2588\u258e    | 6214/11612 [01:24<00:47, 112.83it/s]"
       ]
      },
      {
       "output_type": "stream",
       "stream": "stderr",
       "text": [
        "\r",
        " 54%|\u2588\u2588\u2588\u2588\u2588\u258e    | 6226/11612 [01:24<00:48, 111.32it/s]"
       ]
      },
      {
       "output_type": "stream",
       "stream": "stderr",
       "text": [
        "\r",
        " 54%|\u2588\u2588\u2588\u2588\u2588\u258e    | 6238/11612 [01:24<00:48, 111.92it/s]"
       ]
      },
      {
       "output_type": "stream",
       "stream": "stderr",
       "text": [
        "\r",
        " 54%|\u2588\u2588\u2588\u2588\u2588\u258d    | 6250/11612 [01:24<00:47, 113.99it/s]"
       ]
      },
      {
       "output_type": "stream",
       "stream": "stderr",
       "text": [
        "\r",
        " 54%|\u2588\u2588\u2588\u2588\u2588\u258d    | 6262/11612 [01:24<00:46, 113.89it/s]"
       ]
      },
      {
       "output_type": "stream",
       "stream": "stderr",
       "text": [
        "\r",
        " 54%|\u2588\u2588\u2588\u2588\u2588\u258d    | 6274/11612 [01:24<00:47, 112.40it/s]"
       ]
      },
      {
       "output_type": "stream",
       "stream": "stderr",
       "text": [
        "\r",
        " 54%|\u2588\u2588\u2588\u2588\u2588\u258d    | 6287/11612 [01:25<00:46, 114.63it/s]"
       ]
      },
      {
       "output_type": "stream",
       "stream": "stderr",
       "text": [
        "\r",
        " 54%|\u2588\u2588\u2588\u2588\u2588\u258d    | 6300/11612 [01:25<00:45, 116.13it/s]"
       ]
      },
      {
       "output_type": "stream",
       "stream": "stderr",
       "text": [
        "\r",
        " 54%|\u2588\u2588\u2588\u2588\u2588\u258d    | 6312/11612 [01:25<00:46, 113.40it/s]"
       ]
      },
      {
       "output_type": "stream",
       "stream": "stderr",
       "text": [
        "\r",
        " 54%|\u2588\u2588\u2588\u2588\u2588\u258d    | 6324/11612 [01:25<00:46, 113.68it/s]"
       ]
      },
      {
       "output_type": "stream",
       "stream": "stderr",
       "text": [
        "\r",
        " 55%|\u2588\u2588\u2588\u2588\u2588\u258d    | 6336/11612 [01:25<00:46, 114.63it/s]"
       ]
      },
      {
       "output_type": "stream",
       "stream": "stderr",
       "text": [
        "\r",
        " 55%|\u2588\u2588\u2588\u2588\u2588\u258d    | 6349/11612 [01:25<00:45, 116.29it/s]"
       ]
      },
      {
       "output_type": "stream",
       "stream": "stderr",
       "text": [
        "\r",
        " 55%|\u2588\u2588\u2588\u2588\u2588\u258d    | 6361/11612 [01:25<00:45, 115.93it/s]"
       ]
      },
      {
       "output_type": "stream",
       "stream": "stderr",
       "text": [
        "\r",
        " 55%|\u2588\u2588\u2588\u2588\u2588\u258d    | 6373/11612 [01:25<00:45, 115.03it/s]"
       ]
      },
      {
       "output_type": "stream",
       "stream": "stderr",
       "text": [
        "\r",
        " 55%|\u2588\u2588\u2588\u2588\u2588\u258d    | 6385/11612 [01:25<00:46, 113.32it/s]"
       ]
      },
      {
       "output_type": "stream",
       "stream": "stderr",
       "text": [
        "\r",
        " 55%|\u2588\u2588\u2588\u2588\u2588\u258c    | 6398/11612 [01:25<00:44, 116.57it/s]"
       ]
      },
      {
       "output_type": "stream",
       "stream": "stderr",
       "text": [
        "\r",
        " 55%|\u2588\u2588\u2588\u2588\u2588\u258c    | 6410/11612 [01:26<00:44, 117.25it/s]"
       ]
      },
      {
       "output_type": "stream",
       "stream": "stderr",
       "text": [
        "\r",
        " 55%|\u2588\u2588\u2588\u2588\u2588\u258c    | 6423/11612 [01:26<00:43, 119.98it/s]"
       ]
      },
      {
       "output_type": "stream",
       "stream": "stderr",
       "text": [
        "\r",
        " 55%|\u2588\u2588\u2588\u2588\u2588\u258c    | 6436/11612 [01:26<00:43, 120.36it/s]"
       ]
      },
      {
       "output_type": "stream",
       "stream": "stderr",
       "text": [
        "\r",
        " 56%|\u2588\u2588\u2588\u2588\u2588\u258c    | 6449/11612 [01:26<00:42, 120.21it/s]"
       ]
      },
      {
       "output_type": "stream",
       "stream": "stderr",
       "text": [
        "\r",
        " 56%|\u2588\u2588\u2588\u2588\u2588\u258c    | 6462/11612 [01:26<00:43, 118.11it/s]"
       ]
      },
      {
       "output_type": "stream",
       "stream": "stderr",
       "text": [
        "\r",
        " 56%|\u2588\u2588\u2588\u2588\u2588\u258c    | 6475/11612 [01:26<00:42, 121.01it/s]"
       ]
      },
      {
       "output_type": "stream",
       "stream": "stderr",
       "text": [
        "\r",
        " 56%|\u2588\u2588\u2588\u2588\u2588\u258c    | 6488/11612 [01:26<00:41, 122.06it/s]"
       ]
      },
      {
       "output_type": "stream",
       "stream": "stderr",
       "text": [
        "\r",
        " 56%|\u2588\u2588\u2588\u2588\u2588\u258c    | 6501/11612 [01:26<00:41, 124.22it/s]"
       ]
      },
      {
       "output_type": "stream",
       "stream": "stderr",
       "text": [
        "\r",
        " 56%|\u2588\u2588\u2588\u2588\u2588\u258c    | 6514/11612 [01:26<00:41, 124.09it/s]"
       ]
      },
      {
       "output_type": "stream",
       "stream": "stderr",
       "text": [
        "\r",
        " 56%|\u2588\u2588\u2588\u2588\u2588\u258c    | 6528/11612 [01:27<00:40, 126.30it/s]"
       ]
      },
      {
       "output_type": "stream",
       "stream": "stderr",
       "text": [
        "\r",
        " 56%|\u2588\u2588\u2588\u2588\u2588\u258b    | 6541/11612 [01:27<00:40, 126.36it/s]"
       ]
      },
      {
       "output_type": "stream",
       "stream": "stderr",
       "text": [
        "\r",
        " 56%|\u2588\u2588\u2588\u2588\u2588\u258b    | 6555/11612 [01:27<00:39, 127.68it/s]"
       ]
      },
      {
       "output_type": "stream",
       "stream": "stderr",
       "text": [
        "\r",
        " 57%|\u2588\u2588\u2588\u2588\u2588\u258b    | 6568/11612 [01:27<00:39, 126.67it/s]"
       ]
      },
      {
       "output_type": "stream",
       "stream": "stderr",
       "text": [
        "\r",
        " 57%|\u2588\u2588\u2588\u2588\u2588\u258b    | 6581/11612 [01:27<00:40, 125.36it/s]"
       ]
      },
      {
       "output_type": "stream",
       "stream": "stderr",
       "text": [
        "\r",
        " 57%|\u2588\u2588\u2588\u2588\u2588\u258b    | 6594/11612 [01:27<00:39, 126.47it/s]"
       ]
      },
      {
       "output_type": "stream",
       "stream": "stderr",
       "text": [
        "\r",
        " 57%|\u2588\u2588\u2588\u2588\u2588\u258b    | 6607/11612 [01:27<00:39, 126.89it/s]"
       ]
      },
      {
       "output_type": "stream",
       "stream": "stderr",
       "text": [
        "\r",
        " 57%|\u2588\u2588\u2588\u2588\u2588\u258b    | 6620/11612 [01:27<00:39, 127.25it/s]"
       ]
      },
      {
       "output_type": "stream",
       "stream": "stderr",
       "text": [
        "\r",
        " 57%|\u2588\u2588\u2588\u2588\u2588\u258b    | 6634/11612 [01:27<00:38, 128.51it/s]"
       ]
      },
      {
       "output_type": "stream",
       "stream": "stderr",
       "text": [
        "\r",
        " 57%|\u2588\u2588\u2588\u2588\u2588\u258b    | 6647/11612 [01:27<00:39, 124.38it/s]"
       ]
      },
      {
       "output_type": "stream",
       "stream": "stderr",
       "text": [
        "\r",
        " 57%|\u2588\u2588\u2588\u2588\u2588\u258b    | 6661/11612 [01:28<00:39, 126.70it/s]"
       ]
      },
      {
       "output_type": "stream",
       "stream": "stderr",
       "text": [
        "\r",
        " 57%|\u2588\u2588\u2588\u2588\u2588\u258b    | 6675/11612 [01:28<00:38, 127.83it/s]"
       ]
      },
      {
       "output_type": "stream",
       "stream": "stderr",
       "text": [
        "\r",
        " 58%|\u2588\u2588\u2588\u2588\u2588\u258a    | 6689/11612 [01:28<00:37, 129.95it/s]"
       ]
      },
      {
       "output_type": "stream",
       "stream": "stderr",
       "text": [
        "\r",
        " 58%|\u2588\u2588\u2588\u2588\u2588\u258a    | 6703/11612 [01:28<00:37, 130.62it/s]"
       ]
      },
      {
       "output_type": "stream",
       "stream": "stderr",
       "text": [
        "\r",
        " 58%|\u2588\u2588\u2588\u2588\u2588\u258a    | 6717/11612 [01:28<00:37, 132.18it/s]"
       ]
      },
      {
       "output_type": "stream",
       "stream": "stderr",
       "text": [
        "\r",
        " 58%|\u2588\u2588\u2588\u2588\u2588\u258a    | 6731/11612 [01:28<00:36, 132.01it/s]"
       ]
      },
      {
       "output_type": "stream",
       "stream": "stderr",
       "text": [
        "\r",
        " 58%|\u2588\u2588\u2588\u2588\u2588\u258a    | 6745/11612 [01:28<00:36, 133.54it/s]"
       ]
      },
      {
       "output_type": "stream",
       "stream": "stderr",
       "text": [
        "\r",
        " 58%|\u2588\u2588\u2588\u2588\u2588\u258a    | 6759/11612 [01:28<00:36, 133.52it/s]"
       ]
      },
      {
       "output_type": "stream",
       "stream": "stderr",
       "text": [
        "\r",
        " 58%|\u2588\u2588\u2588\u2588\u2588\u258a    | 6773/11612 [01:28<00:36, 132.66it/s]"
       ]
      },
      {
       "output_type": "stream",
       "stream": "stderr",
       "text": [
        "\r",
        " 58%|\u2588\u2588\u2588\u2588\u2588\u258a    | 6787/11612 [01:29<00:36, 132.54it/s]"
       ]
      },
      {
       "output_type": "stream",
       "stream": "stderr",
       "text": [
        "\r",
        " 59%|\u2588\u2588\u2588\u2588\u2588\u258a    | 6801/11612 [01:29<00:35, 133.75it/s]"
       ]
      },
      {
       "output_type": "stream",
       "stream": "stderr",
       "text": [
        "\r",
        " 59%|\u2588\u2588\u2588\u2588\u2588\u258a    | 6815/11612 [01:29<00:36, 133.14it/s]"
       ]
      },
      {
       "output_type": "stream",
       "stream": "stderr",
       "text": [
        "\r",
        " 59%|\u2588\u2588\u2588\u2588\u2588\u2589    | 6829/11612 [01:29<00:35, 133.78it/s]"
       ]
      },
      {
       "output_type": "stream",
       "stream": "stderr",
       "text": [
        "\r",
        " 59%|\u2588\u2588\u2588\u2588\u2588\u2589    | 6843/11612 [01:29<00:35, 134.30it/s]"
       ]
      },
      {
       "output_type": "stream",
       "stream": "stderr",
       "text": [
        "\r",
        " 59%|\u2588\u2588\u2588\u2588\u2588\u2589    | 6857/11612 [01:29<00:35, 135.47it/s]"
       ]
      },
      {
       "output_type": "stream",
       "stream": "stderr",
       "text": [
        "\r",
        " 59%|\u2588\u2588\u2588\u2588\u2588\u2589    | 6871/11612 [01:29<00:34, 135.70it/s]"
       ]
      },
      {
       "output_type": "stream",
       "stream": "stderr",
       "text": [
        "\r",
        " 59%|\u2588\u2588\u2588\u2588\u2588\u2589    | 6885/11612 [01:29<00:34, 136.00it/s]"
       ]
      },
      {
       "output_type": "stream",
       "stream": "stderr",
       "text": [
        "\r",
        " 59%|\u2588\u2588\u2588\u2588\u2588\u2589    | 6899/11612 [01:29<00:34, 136.02it/s]"
       ]
      },
      {
       "output_type": "stream",
       "stream": "stderr",
       "text": [
        "\r",
        " 60%|\u2588\u2588\u2588\u2588\u2588\u2589    | 6913/11612 [01:29<00:34, 136.18it/s]"
       ]
      },
      {
       "output_type": "stream",
       "stream": "stderr",
       "text": [
        "\r",
        " 60%|\u2588\u2588\u2588\u2588\u2588\u2589    | 6927/11612 [01:30<00:34, 136.51it/s]"
       ]
      },
      {
       "output_type": "stream",
       "stream": "stderr",
       "text": [
        "\r",
        " 60%|\u2588\u2588\u2588\u2588\u2588\u2589    | 6942/11612 [01:30<00:33, 138.67it/s]"
       ]
      },
      {
       "output_type": "stream",
       "stream": "stderr",
       "text": [
        "\r",
        " 60%|\u2588\u2588\u2588\u2588\u2588\u2589    | 6956/11612 [01:30<00:35, 131.17it/s]"
       ]
      },
      {
       "output_type": "stream",
       "stream": "stderr",
       "text": [
        "\r",
        " 60%|\u2588\u2588\u2588\u2588\u2588\u2588    | 6971/11612 [01:30<00:34, 134.08it/s]"
       ]
      },
      {
       "output_type": "stream",
       "stream": "stderr",
       "text": [
        "\r",
        " 60%|\u2588\u2588\u2588\u2588\u2588\u2588    | 6986/11612 [01:30<00:34, 135.88it/s]"
       ]
      },
      {
       "output_type": "stream",
       "stream": "stderr",
       "text": [
        "\r",
        " 60%|\u2588\u2588\u2588\u2588\u2588\u2588    | 7001/11612 [01:30<00:33, 137.32it/s]"
       ]
      },
      {
       "output_type": "stream",
       "stream": "stderr",
       "text": [
        "\r",
        " 60%|\u2588\u2588\u2588\u2588\u2588\u2588    | 7015/11612 [01:30<00:33, 137.69it/s]"
       ]
      },
      {
       "output_type": "stream",
       "stream": "stderr",
       "text": [
        "\r",
        " 61%|\u2588\u2588\u2588\u2588\u2588\u2588    | 7030/11612 [01:30<00:33, 138.69it/s]"
       ]
      },
      {
       "output_type": "stream",
       "stream": "stderr",
       "text": [
        "\r",
        " 61%|\u2588\u2588\u2588\u2588\u2588\u2588    | 7044/11612 [01:30<00:33, 138.18it/s]"
       ]
      },
      {
       "output_type": "stream",
       "stream": "stderr",
       "text": [
        "\r",
        " 61%|\u2588\u2588\u2588\u2588\u2588\u2588    | 7058/11612 [01:31<00:32, 138.20it/s]"
       ]
      },
      {
       "output_type": "stream",
       "stream": "stderr",
       "text": [
        "\r",
        " 61%|\u2588\u2588\u2588\u2588\u2588\u2588    | 7073/11612 [01:31<00:32, 139.14it/s]"
       ]
      },
      {
       "output_type": "stream",
       "stream": "stderr",
       "text": [
        "\r",
        " 61%|\u2588\u2588\u2588\u2588\u2588\u2588    | 7087/11612 [01:31<00:32, 139.17it/s]"
       ]
      },
      {
       "output_type": "stream",
       "stream": "stderr",
       "text": [
        "\r",
        " 61%|\u2588\u2588\u2588\u2588\u2588\u2588    | 7102/11612 [01:31<00:32, 139.73it/s]"
       ]
      },
      {
       "output_type": "stream",
       "stream": "stderr",
       "text": [
        "\r",
        " 61%|\u2588\u2588\u2588\u2588\u2588\u2588\u258f   | 7117/11612 [01:31<00:32, 140.38it/s]"
       ]
      },
      {
       "output_type": "stream",
       "stream": "stderr",
       "text": [
        "\r",
        " 61%|\u2588\u2588\u2588\u2588\u2588\u2588\u258f   | 7132/11612 [01:31<00:31, 141.10it/s]"
       ]
      },
      {
       "output_type": "stream",
       "stream": "stderr",
       "text": [
        "\r",
        " 62%|\u2588\u2588\u2588\u2588\u2588\u2588\u258f   | 7147/11612 [01:31<00:31, 141.98it/s]"
       ]
      },
      {
       "output_type": "stream",
       "stream": "stderr",
       "text": [
        "\r",
        " 62%|\u2588\u2588\u2588\u2588\u2588\u2588\u258f   | 7162/11612 [01:31<00:31, 142.77it/s]"
       ]
      },
      {
       "output_type": "stream",
       "stream": "stderr",
       "text": [
        "\r",
        " 62%|\u2588\u2588\u2588\u2588\u2588\u2588\u258f   | 7177/11612 [01:31<00:30, 143.38it/s]"
       ]
      },
      {
       "output_type": "stream",
       "stream": "stderr",
       "text": [
        "\r",
        " 62%|\u2588\u2588\u2588\u2588\u2588\u2588\u258f   | 7192/11612 [01:31<00:30, 143.86it/s]"
       ]
      },
      {
       "output_type": "stream",
       "stream": "stderr",
       "text": [
        "\r",
        " 62%|\u2588\u2588\u2588\u2588\u2588\u2588\u258f   | 7207/11612 [01:32<00:31, 139.78it/s]"
       ]
      },
      {
       "output_type": "stream",
       "stream": "stderr",
       "text": [
        "\r",
        " 62%|\u2588\u2588\u2588\u2588\u2588\u2588\u258f   | 7222/11612 [01:32<00:30, 142.15it/s]"
       ]
      },
      {
       "output_type": "stream",
       "stream": "stderr",
       "text": [
        "\r",
        " 62%|\u2588\u2588\u2588\u2588\u2588\u2588\u258f   | 7237/11612 [01:32<00:30, 143.76it/s]"
       ]
      },
      {
       "output_type": "stream",
       "stream": "stderr",
       "text": [
        "\r",
        " 62%|\u2588\u2588\u2588\u2588\u2588\u2588\u258f   | 7252/11612 [01:32<00:29, 145.42it/s]"
       ]
      },
      {
       "output_type": "stream",
       "stream": "stderr",
       "text": [
        "\r",
        " 63%|\u2588\u2588\u2588\u2588\u2588\u2588\u258e   | 7267/11612 [01:32<00:29, 146.11it/s]"
       ]
      },
      {
       "output_type": "stream",
       "stream": "stderr",
       "text": [
        "\r",
        " 63%|\u2588\u2588\u2588\u2588\u2588\u2588\u258e   | 7282/11612 [01:32<00:29, 145.75it/s]"
       ]
      },
      {
       "output_type": "stream",
       "stream": "stderr",
       "text": [
        "\r",
        " 63%|\u2588\u2588\u2588\u2588\u2588\u2588\u258e   | 7297/11612 [01:32<00:29, 146.22it/s]"
       ]
      },
      {
       "output_type": "stream",
       "stream": "stderr",
       "text": [
        "\r",
        " 63%|\u2588\u2588\u2588\u2588\u2588\u2588\u258e   | 7312/11612 [01:32<00:29, 146.35it/s]"
       ]
      },
      {
       "output_type": "stream",
       "stream": "stderr",
       "text": [
        "\r",
        " 63%|\u2588\u2588\u2588\u2588\u2588\u2588\u258e   | 7327/11612 [01:32<00:29, 147.20it/s]"
       ]
      },
      {
       "output_type": "stream",
       "stream": "stderr",
       "text": [
        "\r",
        " 63%|\u2588\u2588\u2588\u2588\u2588\u2588\u258e   | 7343/11612 [01:32<00:28, 148.67it/s]"
       ]
      },
      {
       "output_type": "stream",
       "stream": "stderr",
       "text": [
        "\r",
        " 63%|\u2588\u2588\u2588\u2588\u2588\u2588\u258e   | 7359/11612 [01:33<00:28, 149.62it/s]"
       ]
      },
      {
       "output_type": "stream",
       "stream": "stderr",
       "text": [
        "\r",
        " 64%|\u2588\u2588\u2588\u2588\u2588\u2588\u258e   | 7375/11612 [01:33<00:28, 149.96it/s]"
       ]
      },
      {
       "output_type": "stream",
       "stream": "stderr",
       "text": [
        "\r",
        " 64%|\u2588\u2588\u2588\u2588\u2588\u2588\u258e   | 7391/11612 [01:33<00:28, 149.66it/s]"
       ]
      },
      {
       "output_type": "stream",
       "stream": "stderr",
       "text": [
        "\r",
        " 64%|\u2588\u2588\u2588\u2588\u2588\u2588\u258d   | 7407/11612 [01:33<00:27, 150.80it/s]"
       ]
      },
      {
       "output_type": "stream",
       "stream": "stderr",
       "text": [
        "\r",
        " 64%|\u2588\u2588\u2588\u2588\u2588\u2588\u258d   | 7423/11612 [01:33<00:27, 151.71it/s]"
       ]
      },
      {
       "output_type": "stream",
       "stream": "stderr",
       "text": [
        "\r",
        " 64%|\u2588\u2588\u2588\u2588\u2588\u2588\u258d   | 7439/11612 [01:33<00:27, 152.46it/s]"
       ]
      },
      {
       "output_type": "stream",
       "stream": "stderr",
       "text": [
        "\r",
        " 64%|\u2588\u2588\u2588\u2588\u2588\u2588\u258d   | 7455/11612 [01:33<00:27, 153.08it/s]"
       ]
      },
      {
       "output_type": "stream",
       "stream": "stderr",
       "text": [
        "\r",
        " 64%|\u2588\u2588\u2588\u2588\u2588\u2588\u258d   | 7471/11612 [01:33<00:26, 153.90it/s]"
       ]
      },
      {
       "output_type": "stream",
       "stream": "stderr",
       "text": [
        "\r",
        " 64%|\u2588\u2588\u2588\u2588\u2588\u2588\u258d   | 7487/11612 [01:33<00:26, 154.24it/s]"
       ]
      },
      {
       "output_type": "stream",
       "stream": "stderr",
       "text": [
        "\r",
        " 65%|\u2588\u2588\u2588\u2588\u2588\u2588\u258d   | 7503/11612 [01:34<00:26, 155.17it/s]"
       ]
      },
      {
       "output_type": "stream",
       "stream": "stderr",
       "text": [
        "\r",
        " 65%|\u2588\u2588\u2588\u2588\u2588\u2588\u258d   | 7519/11612 [01:34<00:27, 151.26it/s]"
       ]
      },
      {
       "output_type": "stream",
       "stream": "stderr",
       "text": [
        "\r",
        " 65%|\u2588\u2588\u2588\u2588\u2588\u2588\u258d   | 7535/11612 [01:34<00:26, 152.16it/s]"
       ]
      },
      {
       "output_type": "stream",
       "stream": "stderr",
       "text": [
        "\r",
        " 65%|\u2588\u2588\u2588\u2588\u2588\u2588\u258c   | 7552/11612 [01:34<00:26, 154.69it/s]"
       ]
      },
      {
       "output_type": "stream",
       "stream": "stderr",
       "text": [
        "\r",
        " 65%|\u2588\u2588\u2588\u2588\u2588\u2588\u258c   | 7568/11612 [01:34<00:25, 156.18it/s]"
       ]
      },
      {
       "output_type": "stream",
       "stream": "stderr",
       "text": [
        "\r",
        " 65%|\u2588\u2588\u2588\u2588\u2588\u2588\u258c   | 7585/11612 [01:34<00:25, 157.93it/s]"
       ]
      },
      {
       "output_type": "stream",
       "stream": "stderr",
       "text": [
        "\r",
        " 65%|\u2588\u2588\u2588\u2588\u2588\u2588\u258c   | 7601/11612 [01:34<00:25, 158.34it/s]"
       ]
      },
      {
       "output_type": "stream",
       "stream": "stderr",
       "text": [
        "\r",
        " 66%|\u2588\u2588\u2588\u2588\u2588\u2588\u258c   | 7617/11612 [01:34<00:25, 158.71it/s]"
       ]
      },
      {
       "output_type": "stream",
       "stream": "stderr",
       "text": [
        "\r",
        " 66%|\u2588\u2588\u2588\u2588\u2588\u2588\u258c   | 7633/11612 [01:34<00:25, 158.94it/s]"
       ]
      },
      {
       "output_type": "stream",
       "stream": "stderr",
       "text": [
        "\r",
        " 66%|\u2588\u2588\u2588\u2588\u2588\u2588\u258c   | 7650/11612 [01:34<00:24, 159.69it/s]"
       ]
      },
      {
       "output_type": "stream",
       "stream": "stderr",
       "text": [
        "\r",
        " 66%|\u2588\u2588\u2588\u2588\u2588\u2588\u258c   | 7666/11612 [01:35<00:24, 159.27it/s]"
       ]
      },
      {
       "output_type": "stream",
       "stream": "stderr",
       "text": [
        "\r",
        " 66%|\u2588\u2588\u2588\u2588\u2588\u2588\u258c   | 7683/11612 [01:35<00:24, 160.09it/s]"
       ]
      },
      {
       "output_type": "stream",
       "stream": "stderr",
       "text": [
        "\r",
        " 66%|\u2588\u2588\u2588\u2588\u2588\u2588\u258b   | 7700/11612 [01:35<00:24, 160.47it/s]"
       ]
      },
      {
       "output_type": "stream",
       "stream": "stderr",
       "text": [
        "\r",
        " 66%|\u2588\u2588\u2588\u2588\u2588\u2588\u258b   | 7717/11612 [01:35<00:24, 160.59it/s]"
       ]
      },
      {
       "output_type": "stream",
       "stream": "stderr",
       "text": [
        "\r",
        " 67%|\u2588\u2588\u2588\u2588\u2588\u2588\u258b   | 7734/11612 [01:35<00:23, 161.85it/s]"
       ]
      },
      {
       "output_type": "stream",
       "stream": "stderr",
       "text": [
        "\r",
        " 67%|\u2588\u2588\u2588\u2588\u2588\u2588\u258b   | 7751/11612 [01:35<00:23, 163.42it/s]"
       ]
      },
      {
       "output_type": "stream",
       "stream": "stderr",
       "text": [
        "\r",
        " 67%|\u2588\u2588\u2588\u2588\u2588\u2588\u258b   | 7768/11612 [01:35<00:23, 164.19it/s]"
       ]
      },
      {
       "output_type": "stream",
       "stream": "stderr",
       "text": [
        "\r",
        " 67%|\u2588\u2588\u2588\u2588\u2588\u2588\u258b   | 7786/11612 [01:35<00:23, 166.27it/s]"
       ]
      },
      {
       "output_type": "stream",
       "stream": "stderr",
       "text": [
        "\r",
        " 67%|\u2588\u2588\u2588\u2588\u2588\u2588\u258b   | 7803/11612 [01:35<00:22, 166.91it/s]"
       ]
      },
      {
       "output_type": "stream",
       "stream": "stderr",
       "text": [
        "\r",
        " 67%|\u2588\u2588\u2588\u2588\u2588\u2588\u258b   | 7820/11612 [01:35<00:22, 167.27it/s]"
       ]
      },
      {
       "output_type": "stream",
       "stream": "stderr",
       "text": [
        "\r",
        " 67%|\u2588\u2588\u2588\u2588\u2588\u2588\u258b   | 7837/11612 [01:36<00:22, 167.88it/s]"
       ]
      },
      {
       "output_type": "stream",
       "stream": "stderr",
       "text": [
        "\r",
        " 68%|\u2588\u2588\u2588\u2588\u2588\u2588\u258a   | 7854/11612 [01:36<00:22, 166.98it/s]"
       ]
      },
      {
       "output_type": "stream",
       "stream": "stderr",
       "text": [
        "\r",
        " 68%|\u2588\u2588\u2588\u2588\u2588\u2588\u258a   | 7872/11612 [01:36<00:22, 169.38it/s]"
       ]
      },
      {
       "output_type": "stream",
       "stream": "stderr",
       "text": [
        "\r",
        " 68%|\u2588\u2588\u2588\u2588\u2588\u2588\u258a   | 7890/11612 [01:36<00:21, 169.80it/s]"
       ]
      },
      {
       "output_type": "stream",
       "stream": "stderr",
       "text": [
        "\r",
        " 68%|\u2588\u2588\u2588\u2588\u2588\u2588\u258a   | 7908/11612 [01:36<00:21, 171.44it/s]"
       ]
      },
      {
       "output_type": "stream",
       "stream": "stderr",
       "text": [
        "\r",
        " 68%|\u2588\u2588\u2588\u2588\u2588\u2588\u258a   | 7926/11612 [01:36<00:21, 172.13it/s]"
       ]
      },
      {
       "output_type": "stream",
       "stream": "stderr",
       "text": [
        "\r",
        " 68%|\u2588\u2588\u2588\u2588\u2588\u2588\u258a   | 7944/11612 [01:36<00:21, 172.98it/s]"
       ]
      },
      {
       "output_type": "stream",
       "stream": "stderr",
       "text": [
        "\r",
        " 69%|\u2588\u2588\u2588\u2588\u2588\u2588\u258a   | 7962/11612 [01:36<00:20, 174.09it/s]"
       ]
      },
      {
       "output_type": "stream",
       "stream": "stderr",
       "text": [
        "\r",
        " 69%|\u2588\u2588\u2588\u2588\u2588\u2588\u258a   | 7980/11612 [01:36<00:20, 174.75it/s]"
       ]
      },
      {
       "output_type": "stream",
       "stream": "stderr",
       "text": [
        "\r",
        " 69%|\u2588\u2588\u2588\u2588\u2588\u2588\u2589   | 7998/11612 [01:37<00:20, 175.65it/s]"
       ]
      },
      {
       "output_type": "stream",
       "stream": "stderr",
       "text": [
        "\r",
        " 69%|\u2588\u2588\u2588\u2588\u2588\u2588\u2589   | 8016/11612 [01:37<00:20, 176.73it/s]"
       ]
      },
      {
       "output_type": "stream",
       "stream": "stderr",
       "text": [
        "\r",
        " 69%|\u2588\u2588\u2588\u2588\u2588\u2588\u2589   | 8034/11612 [01:37<00:20, 176.84it/s]"
       ]
      },
      {
       "output_type": "stream",
       "stream": "stderr",
       "text": [
        "\r",
        " 69%|\u2588\u2588\u2588\u2588\u2588\u2588\u2589   | 8053/11612 [01:37<00:20, 177.43it/s]"
       ]
      },
      {
       "output_type": "stream",
       "stream": "stderr",
       "text": [
        "\r",
        " 70%|\u2588\u2588\u2588\u2588\u2588\u2588\u2589   | 8071/11612 [01:37<00:19, 177.88it/s]"
       ]
      },
      {
       "output_type": "stream",
       "stream": "stderr",
       "text": [
        "\r",
        " 70%|\u2588\u2588\u2588\u2588\u2588\u2588\u2589   | 8090/11612 [01:37<00:19, 179.38it/s]"
       ]
      },
      {
       "output_type": "stream",
       "stream": "stderr",
       "text": [
        "\r",
        " 70%|\u2588\u2588\u2588\u2588\u2588\u2588\u2589   | 8109/11612 [01:37<00:19, 180.53it/s]"
       ]
      },
      {
       "output_type": "stream",
       "stream": "stderr",
       "text": [
        "\r",
        " 70%|\u2588\u2588\u2588\u2588\u2588\u2588\u2589   | 8128/11612 [01:37<00:19, 181.24it/s]"
       ]
      },
      {
       "output_type": "stream",
       "stream": "stderr",
       "text": [
        "\r",
        " 70%|\u2588\u2588\u2588\u2588\u2588\u2588\u2588   | 8147/11612 [01:37<00:19, 180.50it/s]"
       ]
      },
      {
       "output_type": "stream",
       "stream": "stderr",
       "text": [
        "\r",
        " 70%|\u2588\u2588\u2588\u2588\u2588\u2588\u2588   | 8166/11612 [01:37<00:18, 182.52it/s]"
       ]
      },
      {
       "output_type": "stream",
       "stream": "stderr",
       "text": [
        "\r",
        " 70%|\u2588\u2588\u2588\u2588\u2588\u2588\u2588   | 8185/11612 [01:38<00:18, 183.24it/s]"
       ]
      },
      {
       "output_type": "stream",
       "stream": "stderr",
       "text": [
        "\r",
        " 71%|\u2588\u2588\u2588\u2588\u2588\u2588\u2588   | 8204/11612 [01:38<00:18, 181.74it/s]"
       ]
      },
      {
       "output_type": "stream",
       "stream": "stderr",
       "text": [
        "\r",
        " 71%|\u2588\u2588\u2588\u2588\u2588\u2588\u2588   | 8223/11612 [01:38<00:18, 183.30it/s]"
       ]
      },
      {
       "output_type": "stream",
       "stream": "stderr",
       "text": [
        "\r",
        " 71%|\u2588\u2588\u2588\u2588\u2588\u2588\u2588   | 8242/11612 [01:38<00:18, 183.65it/s]"
       ]
      },
      {
       "output_type": "stream",
       "stream": "stderr",
       "text": [
        "\r",
        " 71%|\u2588\u2588\u2588\u2588\u2588\u2588\u2588   | 8262/11612 [01:38<00:18, 186.07it/s]"
       ]
      },
      {
       "output_type": "stream",
       "stream": "stderr",
       "text": [
        "\r",
        " 71%|\u2588\u2588\u2588\u2588\u2588\u2588\u2588\u258f  | 8282/11612 [01:38<00:17, 188.65it/s]"
       ]
      },
      {
       "output_type": "stream",
       "stream": "stderr",
       "text": [
        "\r",
        " 71%|\u2588\u2588\u2588\u2588\u2588\u2588\u2588\u258f  | 8302/11612 [01:38<00:17, 190.22it/s]"
       ]
      },
      {
       "output_type": "stream",
       "stream": "stderr",
       "text": [
        "\r",
        " 72%|\u2588\u2588\u2588\u2588\u2588\u2588\u2588\u258f  | 8322/11612 [01:38<00:17, 191.38it/s]"
       ]
      },
      {
       "output_type": "stream",
       "stream": "stderr",
       "text": [
        "\r",
        " 72%|\u2588\u2588\u2588\u2588\u2588\u2588\u2588\u258f  | 8342/11612 [01:38<00:16, 192.66it/s]"
       ]
      },
      {
       "output_type": "stream",
       "stream": "stderr",
       "text": [
        "\r",
        " 72%|\u2588\u2588\u2588\u2588\u2588\u2588\u2588\u258f  | 8362/11612 [01:38<00:16, 193.51it/s]"
       ]
      },
      {
       "output_type": "stream",
       "stream": "stderr",
       "text": [
        "\r",
        " 72%|\u2588\u2588\u2588\u2588\u2588\u2588\u2588\u258f  | 8382/11612 [01:39<00:16, 195.34it/s]"
       ]
      },
      {
       "output_type": "stream",
       "stream": "stderr",
       "text": [
        "\r",
        " 72%|\u2588\u2588\u2588\u2588\u2588\u2588\u2588\u258f  | 8403/11612 [01:39<00:16, 197.78it/s]"
       ]
      },
      {
       "output_type": "stream",
       "stream": "stderr",
       "text": [
        "\r",
        " 73%|\u2588\u2588\u2588\u2588\u2588\u2588\u2588\u258e  | 8424/11612 [01:39<00:15, 199.47it/s]"
       ]
      },
      {
       "output_type": "stream",
       "stream": "stderr",
       "text": [
        "\r",
        " 73%|\u2588\u2588\u2588\u2588\u2588\u2588\u2588\u258e  | 8445/11612 [01:39<00:15, 199.90it/s]"
       ]
      },
      {
       "output_type": "stream",
       "stream": "stderr",
       "text": [
        "\r",
        " 73%|\u2588\u2588\u2588\u2588\u2588\u2588\u2588\u258e  | 8466/11612 [01:39<00:15, 201.27it/s]"
       ]
      },
      {
       "output_type": "stream",
       "stream": "stderr",
       "text": [
        "\r",
        " 73%|\u2588\u2588\u2588\u2588\u2588\u2588\u2588\u258e  | 8487/11612 [01:39<00:15, 202.20it/s]"
       ]
      },
      {
       "output_type": "stream",
       "stream": "stderr",
       "text": [
        "\r",
        " 73%|\u2588\u2588\u2588\u2588\u2588\u2588\u2588\u258e  | 8508/11612 [01:39<00:15, 202.53it/s]"
       ]
      },
      {
       "output_type": "stream",
       "stream": "stderr",
       "text": [
        "\r",
        " 73%|\u2588\u2588\u2588\u2588\u2588\u2588\u2588\u258e  | 8529/11612 [01:39<00:15, 204.57it/s]"
       ]
      },
      {
       "output_type": "stream",
       "stream": "stderr",
       "text": [
        "\r",
        " 74%|\u2588\u2588\u2588\u2588\u2588\u2588\u2588\u258e  | 8551/11612 [01:39<00:14, 206.93it/s]"
       ]
      },
      {
       "output_type": "stream",
       "stream": "stderr",
       "text": [
        "\r",
        " 74%|\u2588\u2588\u2588\u2588\u2588\u2588\u2588\u258d  | 8573/11612 [01:40<00:14, 208.18it/s]"
       ]
      },
      {
       "output_type": "stream",
       "stream": "stderr",
       "text": [
        "\r",
        " 74%|\u2588\u2588\u2588\u2588\u2588\u2588\u2588\u258d  | 8595/11612 [01:40<00:14, 209.22it/s]"
       ]
      },
      {
       "output_type": "stream",
       "stream": "stderr",
       "text": [
        "\r",
        " 74%|\u2588\u2588\u2588\u2588\u2588\u2588\u2588\u258d  | 8616/11612 [01:40<00:14, 208.88it/s]"
       ]
      },
      {
       "output_type": "stream",
       "stream": "stderr",
       "text": [
        "\r",
        " 74%|\u2588\u2588\u2588\u2588\u2588\u2588\u2588\u258d  | 8637/11612 [01:40<00:14, 208.44it/s]"
       ]
      },
      {
       "output_type": "stream",
       "stream": "stderr",
       "text": [
        "\r",
        " 75%|\u2588\u2588\u2588\u2588\u2588\u2588\u2588\u258d  | 8659/11612 [01:40<00:13, 211.65it/s]"
       ]
      },
      {
       "output_type": "stream",
       "stream": "stderr",
       "text": [
        "\r",
        " 75%|\u2588\u2588\u2588\u2588\u2588\u2588\u2588\u258d  | 8682/11612 [01:40<00:13, 214.30it/s]"
       ]
      },
      {
       "output_type": "stream",
       "stream": "stderr",
       "text": [
        "\r",
        " 75%|\u2588\u2588\u2588\u2588\u2588\u2588\u2588\u258d  | 8705/11612 [01:40<00:13, 217.26it/s]"
       ]
      },
      {
       "output_type": "stream",
       "stream": "stderr",
       "text": [
        "\r",
        " 75%|\u2588\u2588\u2588\u2588\u2588\u2588\u2588\u258c  | 8728/11612 [01:40<00:13, 219.34it/s]"
       ]
      },
      {
       "output_type": "stream",
       "stream": "stderr",
       "text": [
        "\r",
        " 75%|\u2588\u2588\u2588\u2588\u2588\u2588\u2588\u258c  | 8751/11612 [01:40<00:12, 220.78it/s]"
       ]
      },
      {
       "output_type": "stream",
       "stream": "stderr",
       "text": [
        "\r",
        " 76%|\u2588\u2588\u2588\u2588\u2588\u2588\u2588\u258c  | 8774/11612 [01:40<00:12, 223.37it/s]"
       ]
      },
      {
       "output_type": "stream",
       "stream": "stderr",
       "text": [
        "\r",
        " 76%|\u2588\u2588\u2588\u2588\u2588\u2588\u2588\u258c  | 8798/11612 [01:41<00:12, 225.80it/s]"
       ]
      },
      {
       "output_type": "stream",
       "stream": "stderr",
       "text": [
        "\r",
        " 76%|\u2588\u2588\u2588\u2588\u2588\u2588\u2588\u258c  | 8821/11612 [01:41<00:12, 226.36it/s]"
       ]
      },
      {
       "output_type": "stream",
       "stream": "stderr",
       "text": [
        "\r",
        " 76%|\u2588\u2588\u2588\u2588\u2588\u2588\u2588\u258c  | 8844/11612 [01:41<00:12, 226.95it/s]"
       ]
      },
      {
       "output_type": "stream",
       "stream": "stderr",
       "text": [
        "\r",
        " 76%|\u2588\u2588\u2588\u2588\u2588\u2588\u2588\u258b  | 8867/11612 [01:41<00:12, 227.47it/s]"
       ]
      },
      {
       "output_type": "stream",
       "stream": "stderr",
       "text": [
        "\r",
        " 77%|\u2588\u2588\u2588\u2588\u2588\u2588\u2588\u258b  | 8891/11612 [01:41<00:11, 229.70it/s]"
       ]
      },
      {
       "output_type": "stream",
       "stream": "stderr",
       "text": [
        "\r",
        " 77%|\u2588\u2588\u2588\u2588\u2588\u2588\u2588\u258b  | 8916/11612 [01:41<00:11, 233.30it/s]"
       ]
      },
      {
       "output_type": "stream",
       "stream": "stderr",
       "text": [
        "\r",
        " 77%|\u2588\u2588\u2588\u2588\u2588\u2588\u2588\u258b  | 8940/11612 [01:41<00:11, 234.45it/s]"
       ]
      },
      {
       "output_type": "stream",
       "stream": "stderr",
       "text": [
        "\r",
        " 77%|\u2588\u2588\u2588\u2588\u2588\u2588\u2588\u258b  | 8964/11612 [01:41<00:11, 234.67it/s]"
       ]
      },
      {
       "output_type": "stream",
       "stream": "stderr",
       "text": [
        "\r",
        " 77%|\u2588\u2588\u2588\u2588\u2588\u2588\u2588\u258b  | 8989/11612 [01:41<00:11, 236.44it/s]"
       ]
      },
      {
       "output_type": "stream",
       "stream": "stderr",
       "text": [
        "\r",
        " 78%|\u2588\u2588\u2588\u2588\u2588\u2588\u2588\u258a  | 9014/11612 [01:41<00:10, 238.63it/s]"
       ]
      },
      {
       "output_type": "stream",
       "stream": "stderr",
       "text": [
        "\r",
        " 78%|\u2588\u2588\u2588\u2588\u2588\u2588\u2588\u258a  | 9039/11612 [01:42<00:10, 241.78it/s]"
       ]
      },
      {
       "output_type": "stream",
       "stream": "stderr",
       "text": [
        "\r",
        " 78%|\u2588\u2588\u2588\u2588\u2588\u2588\u2588\u258a  | 9064/11612 [01:42<00:10, 242.88it/s]"
       ]
      },
      {
       "output_type": "stream",
       "stream": "stderr",
       "text": [
        "\r",
        " 78%|\u2588\u2588\u2588\u2588\u2588\u2588\u2588\u258a  | 9089/11612 [01:42<00:10, 244.67it/s]"
       ]
      },
      {
       "output_type": "stream",
       "stream": "stderr",
       "text": [
        "\r",
        " 78%|\u2588\u2588\u2588\u2588\u2588\u2588\u2588\u258a  | 9115/11612 [01:42<00:10, 247.01it/s]"
       ]
      },
      {
       "output_type": "stream",
       "stream": "stderr",
       "text": [
        "\r",
        " 79%|\u2588\u2588\u2588\u2588\u2588\u2588\u2588\u258a  | 9141/11612 [01:42<00:09, 248.26it/s]"
       ]
      },
      {
       "output_type": "stream",
       "stream": "stderr",
       "text": [
        "\r",
        " 79%|\u2588\u2588\u2588\u2588\u2588\u2588\u2588\u2589  | 9166/11612 [01:42<00:09, 248.20it/s]"
       ]
      },
      {
       "output_type": "stream",
       "stream": "stderr",
       "text": [
        "\r",
        " 79%|\u2588\u2588\u2588\u2588\u2588\u2588\u2588\u2589  | 9193/11612 [01:42<00:09, 253.59it/s]"
       ]
      },
      {
       "output_type": "stream",
       "stream": "stderr",
       "text": [
        "\r",
        " 79%|\u2588\u2588\u2588\u2588\u2588\u2588\u2588\u2589  | 9220/11612 [01:42<00:09, 256.31it/s]"
       ]
      },
      {
       "output_type": "stream",
       "stream": "stderr",
       "text": [
        "\r",
        " 80%|\u2588\u2588\u2588\u2588\u2588\u2588\u2588\u2589  | 9248/11612 [01:42<00:09, 260.75it/s]"
       ]
      },
      {
       "output_type": "stream",
       "stream": "stderr",
       "text": [
        "\r",
        " 80%|\u2588\u2588\u2588\u2588\u2588\u2588\u2588\u2589  | 9276/11612 [01:42<00:08, 265.90it/s]"
       ]
      },
      {
       "output_type": "stream",
       "stream": "stderr",
       "text": [
        "\r",
        " 80%|\u2588\u2588\u2588\u2588\u2588\u2588\u2588\u2588  | 9304/11612 [01:43<00:08, 268.24it/s]"
       ]
      },
      {
       "output_type": "stream",
       "stream": "stderr",
       "text": [
        "\r",
        " 80%|\u2588\u2588\u2588\u2588\u2588\u2588\u2588\u2588  | 9332/11612 [01:43<00:08, 270.95it/s]"
       ]
      },
      {
       "output_type": "stream",
       "stream": "stderr",
       "text": [
        "\r",
        " 81%|\u2588\u2588\u2588\u2588\u2588\u2588\u2588\u2588  | 9360/11612 [01:43<00:08, 264.45it/s]"
       ]
      },
      {
       "output_type": "stream",
       "stream": "stderr",
       "text": [
        "\r",
        " 81%|\u2588\u2588\u2588\u2588\u2588\u2588\u2588\u2588  | 9388/11612 [01:43<00:08, 268.53it/s]"
       ]
      },
      {
       "output_type": "stream",
       "stream": "stderr",
       "text": [
        "\r",
        " 81%|\u2588\u2588\u2588\u2588\u2588\u2588\u2588\u2588  | 9418/11612 [01:43<00:07, 275.14it/s]"
       ]
      },
      {
       "output_type": "stream",
       "stream": "stderr",
       "text": [
        "\r",
        " 81%|\u2588\u2588\u2588\u2588\u2588\u2588\u2588\u2588\u258f | 9448/11612 [01:43<00:07, 280.20it/s]"
       ]
      },
      {
       "output_type": "stream",
       "stream": "stderr",
       "text": [
        "\r",
        " 82%|\u2588\u2588\u2588\u2588\u2588\u2588\u2588\u2588\u258f | 9478/11612 [01:43<00:07, 285.83it/s]"
       ]
      },
      {
       "output_type": "stream",
       "stream": "stderr",
       "text": [
        "\r",
        " 82%|\u2588\u2588\u2588\u2588\u2588\u2588\u2588\u2588\u258f | 9508/11612 [01:43<00:07, 288.77it/s]"
       ]
      },
      {
       "output_type": "stream",
       "stream": "stderr",
       "text": [
        "\r",
        " 82%|\u2588\u2588\u2588\u2588\u2588\u2588\u2588\u2588\u258f | 9539/11612 [01:43<00:07, 293.84it/s]"
       ]
      },
      {
       "output_type": "stream",
       "stream": "stderr",
       "text": [
        "\r",
        " 82%|\u2588\u2588\u2588\u2588\u2588\u2588\u2588\u2588\u258f | 9571/11612 [01:43<00:06, 299.47it/s]"
       ]
      },
      {
       "output_type": "stream",
       "stream": "stderr",
       "text": [
        "\r",
        " 83%|\u2588\u2588\u2588\u2588\u2588\u2588\u2588\u2588\u258e | 9602/11612 [01:44<00:06, 301.84it/s]"
       ]
      },
      {
       "output_type": "stream",
       "stream": "stderr",
       "text": [
        "\r",
        " 83%|\u2588\u2588\u2588\u2588\u2588\u2588\u2588\u2588\u258e | 9634/11612 [01:44<00:06, 306.58it/s]"
       ]
      },
      {
       "output_type": "stream",
       "stream": "stderr",
       "text": [
        "\r",
        " 83%|\u2588\u2588\u2588\u2588\u2588\u2588\u2588\u2588\u258e | 9666/11612 [01:44<00:06, 310.03it/s]"
       ]
      },
      {
       "output_type": "stream",
       "stream": "stderr",
       "text": [
        "\r",
        " 84%|\u2588\u2588\u2588\u2588\u2588\u2588\u2588\u2588\u258e | 9699/11612 [01:44<00:06, 314.86it/s]"
       ]
      },
      {
       "output_type": "stream",
       "stream": "stderr",
       "text": [
        "\r",
        " 84%|\u2588\u2588\u2588\u2588\u2588\u2588\u2588\u2588\u258d | 9732/11612 [01:44<00:05, 317.53it/s]"
       ]
      },
      {
       "output_type": "stream",
       "stream": "stderr",
       "text": [
        "\r",
        " 84%|\u2588\u2588\u2588\u2588\u2588\u2588\u2588\u2588\u258d | 9767/11612 [01:44<00:05, 325.22it/s]"
       ]
      },
      {
       "output_type": "stream",
       "stream": "stderr",
       "text": [
        "\r",
        " 84%|\u2588\u2588\u2588\u2588\u2588\u2588\u2588\u2588\u258d | 9802/11612 [01:44<00:05, 331.81it/s]"
       ]
      },
      {
       "output_type": "stream",
       "stream": "stderr",
       "text": [
        "\r",
        " 85%|\u2588\u2588\u2588\u2588\u2588\u2588\u2588\u2588\u258d | 9838/11612 [01:44<00:05, 338.67it/s]"
       ]
      },
      {
       "output_type": "stream",
       "stream": "stderr",
       "text": [
        "\r",
        " 85%|\u2588\u2588\u2588\u2588\u2588\u2588\u2588\u2588\u258c | 9875/11612 [01:44<00:05, 345.66it/s]"
       ]
      },
      {
       "output_type": "stream",
       "stream": "stderr",
       "text": [
        "\r",
        " 85%|\u2588\u2588\u2588\u2588\u2588\u2588\u2588\u2588\u258c | 9913/11612 [01:45<00:04, 353.97it/s]"
       ]
      },
      {
       "output_type": "stream",
       "stream": "stderr",
       "text": [
        "\r",
        " 86%|\u2588\u2588\u2588\u2588\u2588\u2588\u2588\u2588\u258c | 9951/11612 [01:45<00:04, 360.70it/s]"
       ]
      },
      {
       "output_type": "stream",
       "stream": "stderr",
       "text": [
        "\r",
        " 86%|\u2588\u2588\u2588\u2588\u2588\u2588\u2588\u2588\u258c | 9990/11612 [01:45<00:04, 368.65it/s]"
       ]
      },
      {
       "output_type": "stream",
       "stream": "stderr",
       "text": [
        "\r",
        " 86%|\u2588\u2588\u2588\u2588\u2588\u2588\u2588\u2588\u258b | 10030/11612 [01:45<00:04, 376.51it/s]"
       ]
      },
      {
       "output_type": "stream",
       "stream": "stderr",
       "text": [
        "\r",
        " 87%|\u2588\u2588\u2588\u2588\u2588\u2588\u2588\u2588\u258b | 10071/11612 [01:45<00:04, 384.22it/s]"
       ]
      },
      {
       "output_type": "stream",
       "stream": "stderr",
       "text": [
        "\r",
        " 87%|\u2588\u2588\u2588\u2588\u2588\u2588\u2588\u2588\u258b | 10113/11612 [01:45<00:03, 393.68it/s]"
       ]
      },
      {
       "output_type": "stream",
       "stream": "stderr",
       "text": [
        "\r",
        " 87%|\u2588\u2588\u2588\u2588\u2588\u2588\u2588\u2588\u258b | 10157/11612 [01:45<00:03, 404.38it/s]"
       ]
      },
      {
       "output_type": "stream",
       "stream": "stderr",
       "text": [
        "\r",
        " 88%|\u2588\u2588\u2588\u2588\u2588\u2588\u2588\u2588\u258a | 10202/11612 [01:45<00:03, 416.74it/s]"
       ]
      },
      {
       "output_type": "stream",
       "stream": "stderr",
       "text": [
        "\r",
        " 88%|\u2588\u2588\u2588\u2588\u2588\u2588\u2588\u2588\u258a | 10248/11612 [01:45<00:03, 426.78it/s]"
       ]
      },
      {
       "output_type": "stream",
       "stream": "stderr",
       "text": [
        "\r",
        " 89%|\u2588\u2588\u2588\u2588\u2588\u2588\u2588\u2588\u258a | 10296/11612 [01:45<00:02, 440.54it/s]"
       ]
      },
      {
       "output_type": "stream",
       "stream": "stderr",
       "text": [
        "\r",
        " 89%|\u2588\u2588\u2588\u2588\u2588\u2588\u2588\u2588\u2589 | 10346/11612 [01:46<00:02, 454.54it/s]"
       ]
      },
      {
       "output_type": "stream",
       "stream": "stderr",
       "text": [
        "\r",
        " 90%|\u2588\u2588\u2588\u2588\u2588\u2588\u2588\u2588\u2589 | 10397/11612 [01:46<00:02, 469.55it/s]"
       ]
      },
      {
       "output_type": "stream",
       "stream": "stderr",
       "text": [
        "\r",
        " 90%|\u2588\u2588\u2588\u2588\u2588\u2588\u2588\u2588\u2588 | 10452/11612 [01:46<00:02, 490.16it/s]"
       ]
      },
      {
       "output_type": "stream",
       "stream": "stderr",
       "text": [
        "\r",
        " 90%|\u2588\u2588\u2588\u2588\u2588\u2588\u2588\u2588\u2588 | 10508/11612 [01:46<00:02, 508.15it/s]"
       ]
      },
      {
       "output_type": "stream",
       "stream": "stderr",
       "text": [
        "\r",
        " 91%|\u2588\u2588\u2588\u2588\u2588\u2588\u2588\u2588\u2588 | 10567/11612 [01:46<00:01, 528.04it/s]"
       ]
      },
      {
       "output_type": "stream",
       "stream": "stderr",
       "text": [
        "\r",
        " 92%|\u2588\u2588\u2588\u2588\u2588\u2588\u2588\u2588\u2588\u258f| 10629/11612 [01:46<00:01, 550.65it/s]"
       ]
      },
      {
       "output_type": "stream",
       "stream": "stderr",
       "text": [
        "\r",
        " 92%|\u2588\u2588\u2588\u2588\u2588\u2588\u2588\u2588\u2588\u258f| 10698/11612 [01:46<00:01, 585.36it/s]"
       ]
      },
      {
       "output_type": "stream",
       "stream": "stderr",
       "text": [
        "\r",
        " 93%|\u2588\u2588\u2588\u2588\u2588\u2588\u2588\u2588\u2588\u258e| 10771/11612 [01:46<00:01, 621.13it/s]"
       ]
      },
      {
       "output_type": "stream",
       "stream": "stderr",
       "text": [
        "\r",
        " 93%|\u2588\u2588\u2588\u2588\u2588\u2588\u2588\u2588\u2588\u258e| 10852/11612 [01:46<00:01, 666.06it/s]"
       ]
      },
      {
       "output_type": "stream",
       "stream": "stderr",
       "text": [
        "\r",
        " 94%|\u2588\u2588\u2588\u2588\u2588\u2588\u2588\u2588\u2588\u258d| 10942/11612 [01:46<00:00, 721.28it/s]"
       ]
      },
      {
       "output_type": "stream",
       "stream": "stderr",
       "text": [
        "\r",
        " 95%|\u2588\u2588\u2588\u2588\u2588\u2588\u2588\u2588\u2588\u258c| 11044/11612 [01:47<00:00, 789.70it/s]"
       ]
      },
      {
       "output_type": "stream",
       "stream": "stderr",
       "text": [
        "\r",
        " 96%|\u2588\u2588\u2588\u2588\u2588\u2588\u2588\u2588\u2588\u258c| 11168/11612 [01:47<00:00, 886.09it/s]"
       ]
      },
      {
       "output_type": "stream",
       "stream": "stderr",
       "text": [
        "\r",
        " 98%|\u2588\u2588\u2588\u2588\u2588\u2588\u2588\u2588\u2588\u258a| 11344/11612 [01:47<00:00, 1040.62it/s]"
       ]
      },
      {
       "output_type": "stream",
       "stream": "stderr",
       "text": [
        "\r",
        "100%|\u2588\u2588\u2588\u2588\u2588\u2588\u2588\u2588\u2588\u2588| 11612/11612 [01:47<00:00, 108.24it/s] "
       ]
      },
      {
       "output_type": "stream",
       "stream": "stderr",
       "text": [
        "\n"
       ]
      },
      {
       "metadata": {},
       "output_type": "pyout",
       "prompt_number": 15,
       "text": [
        "815"
       ]
      }
     ],
     "prompt_number": 15
    },
    {
     "cell_type": "code",
     "collapsed": false,
     "input": [
      "with open(os.path.join(way,CHASTE_EDGE), 'w') as fl:\n",
      "    fl.write(\"{count} 1\\n\".format(count = ind))\n",
      "    ind = 0\n",
      "    for i in tqdm(xrange(len(points_array))):\n",
      "        for j in xrange(i,len(points_array)):\n",
      "            if help_[i][j] == 1:\n",
      "                fl.write(\"{i_} {x1} {x2} 1\\n\".format(i_ = ind, x1=i, x2=j))\n",
      "                ind +=1"
     ],
     "language": "python",
     "metadata": {},
     "outputs": [
      {
       "output_type": "stream",
       "stream": "stderr",
       "text": [
        "\r",
        "  0%|          | 0/11612 [00:00<?, ?it/s]"
       ]
      },
      {
       "output_type": "stream",
       "stream": "stderr",
       "text": [
        "\r",
        "  0%|          | 6/11612 [00:00<03:48, 50.85it/s]"
       ]
      },
      {
       "output_type": "stream",
       "stream": "stderr",
       "text": [
        "\r",
        "  0%|          | 12/11612 [00:00<03:45, 51.46it/s]"
       ]
      },
      {
       "output_type": "stream",
       "stream": "stderr",
       "text": [
        "\r",
        "  0%|          | 18/11612 [00:00<03:40, 52.63it/s]"
       ]
      },
      {
       "output_type": "stream",
       "stream": "stderr",
       "text": [
        "\r",
        "  0%|          | 24/11612 [00:00<03:37, 53.34it/s]"
       ]
      },
      {
       "output_type": "stream",
       "stream": "stderr",
       "text": [
        "\r",
        "  0%|          | 30/11612 [00:00<03:36, 53.50it/s]"
       ]
      },
      {
       "output_type": "stream",
       "stream": "stderr",
       "text": [
        "\r",
        "  0%|          | 36/11612 [00:00<03:34, 53.97it/s]"
       ]
      },
      {
       "output_type": "stream",
       "stream": "stderr",
       "text": [
        "\r",
        "  0%|          | 42/11612 [00:00<03:33, 54.30it/s]"
       ]
      },
      {
       "output_type": "stream",
       "stream": "stderr",
       "text": [
        "\r",
        "  0%|          | 48/11612 [00:00<03:31, 54.59it/s]"
       ]
      },
      {
       "output_type": "stream",
       "stream": "stderr",
       "text": [
        "\r",
        "  0%|          | 54/11612 [00:00<03:30, 54.90it/s]"
       ]
      },
      {
       "output_type": "stream",
       "stream": "stderr",
       "text": [
        "\r",
        "  1%|          | 60/11612 [00:01<03:32, 54.39it/s]"
       ]
      },
      {
       "output_type": "stream",
       "stream": "stderr",
       "text": [
        "\r",
        "  1%|          | 66/11612 [00:01<03:37, 52.97it/s]"
       ]
      },
      {
       "output_type": "stream",
       "stream": "stderr",
       "text": [
        "\r",
        "  1%|          | 72/11612 [00:01<03:39, 52.56it/s]"
       ]
      },
      {
       "output_type": "stream",
       "stream": "stderr",
       "text": [
        "\r",
        "  1%|          | 78/11612 [00:01<03:34, 53.72it/s]"
       ]
      },
      {
       "output_type": "stream",
       "stream": "stderr",
       "text": [
        "\r",
        "  1%|          | 84/11612 [00:01<03:32, 54.29it/s]"
       ]
      },
      {
       "output_type": "stream",
       "stream": "stderr",
       "text": [
        "\r",
        "  1%|          | 90/11612 [00:01<03:31, 54.49it/s]"
       ]
      },
      {
       "output_type": "stream",
       "stream": "stderr",
       "text": [
        "\r",
        "  1%|          | 96/11612 [00:01<03:29, 55.03it/s]"
       ]
      },
      {
       "output_type": "stream",
       "stream": "stderr",
       "text": [
        "\r",
        "  1%|          | 102/11612 [00:01<03:28, 55.32it/s]"
       ]
      },
      {
       "output_type": "stream",
       "stream": "stderr",
       "text": [
        "\r",
        "  1%|          | 108/11612 [00:01<03:28, 55.14it/s]"
       ]
      },
      {
       "output_type": "stream",
       "stream": "stderr",
       "text": [
        "\r",
        "  1%|          | 114/11612 [00:02<03:31, 54.42it/s]"
       ]
      },
      {
       "output_type": "stream",
       "stream": "stderr",
       "text": [
        "\r",
        "  1%|          | 120/11612 [00:02<03:28, 55.02it/s]"
       ]
      },
      {
       "output_type": "stream",
       "stream": "stderr",
       "text": [
        "\r",
        "  1%|          | 126/11612 [00:02<03:26, 55.53it/s]"
       ]
      },
      {
       "output_type": "stream",
       "stream": "stderr",
       "text": [
        "\r",
        "  1%|          | 132/11612 [00:02<03:26, 55.64it/s]"
       ]
      },
      {
       "output_type": "stream",
       "stream": "stderr",
       "text": [
        "\r",
        "  1%|          | 138/11612 [00:02<03:25, 55.83it/s]"
       ]
      },
      {
       "output_type": "stream",
       "stream": "stderr",
       "text": [
        "\r",
        "  1%|          | 144/11612 [00:02<03:24, 56.06it/s]"
       ]
      },
      {
       "output_type": "stream",
       "stream": "stderr",
       "text": [
        "\r",
        "  1%|\u258f         | 150/11612 [00:02<03:25, 55.87it/s]"
       ]
      },
      {
       "output_type": "stream",
       "stream": "stderr",
       "text": [
        "\r",
        "  1%|\u258f         | 156/11612 [00:02<03:25, 55.84it/s]"
       ]
      },
      {
       "output_type": "stream",
       "stream": "stderr",
       "text": [
        "\r",
        "  1%|\u258f         | 162/11612 [00:02<03:23, 56.23it/s]"
       ]
      },
      {
       "output_type": "stream",
       "stream": "stderr",
       "text": [
        "\r",
        "  1%|\u258f         | 168/11612 [00:03<03:26, 55.45it/s]"
       ]
      },
      {
       "output_type": "stream",
       "stream": "stderr",
       "text": [
        "\r",
        "  1%|\u258f         | 174/11612 [00:03<03:37, 52.47it/s]"
       ]
      },
      {
       "output_type": "stream",
       "stream": "stderr",
       "text": [
        "\r",
        "  2%|\u258f         | 180/11612 [00:03<03:41, 51.58it/s]"
       ]
      },
      {
       "output_type": "stream",
       "stream": "stderr",
       "text": [
        "\r",
        "  2%|\u258f         | 186/11612 [00:03<03:37, 52.48it/s]"
       ]
      },
      {
       "output_type": "stream",
       "stream": "stderr",
       "text": [
        "\r",
        "  2%|\u258f         | 192/11612 [00:03<03:32, 53.73it/s]"
       ]
      },
      {
       "output_type": "stream",
       "stream": "stderr",
       "text": [
        "\r",
        "  2%|\u258f         | 198/11612 [00:03<03:29, 54.57it/s]"
       ]
      },
      {
       "output_type": "stream",
       "stream": "stderr",
       "text": [
        "\r",
        "  2%|\u258f         | 204/11612 [00:03<03:27, 55.05it/s]"
       ]
      },
      {
       "output_type": "stream",
       "stream": "stderr",
       "text": [
        "\r",
        "  2%|\u258f         | 210/11612 [00:03<03:25, 55.38it/s]"
       ]
      },
      {
       "output_type": "stream",
       "stream": "stderr",
       "text": [
        "\r",
        "  2%|\u258f         | 216/11612 [00:03<03:24, 55.86it/s]"
       ]
      },
      {
       "output_type": "stream",
       "stream": "stderr",
       "text": [
        "\r",
        "  2%|\u258f         | 222/11612 [00:04<03:23, 56.06it/s]"
       ]
      },
      {
       "output_type": "stream",
       "stream": "stderr",
       "text": [
        "\r",
        "  2%|\u258f         | 228/11612 [00:04<03:23, 55.84it/s]"
       ]
      },
      {
       "output_type": "stream",
       "stream": "stderr",
       "text": [
        "\r",
        "  2%|\u258f         | 234/11612 [00:04<03:31, 53.83it/s]"
       ]
      },
      {
       "output_type": "stream",
       "stream": "stderr",
       "text": [
        "\r",
        "  2%|\u258f         | 240/11612 [00:04<03:28, 54.60it/s]"
       ]
      },
      {
       "output_type": "stream",
       "stream": "stderr",
       "text": [
        "\r",
        "  2%|\u258f         | 246/11612 [00:04<03:25, 55.39it/s]"
       ]
      },
      {
       "output_type": "stream",
       "stream": "stderr",
       "text": [
        "\r",
        "  2%|\u258f         | 252/11612 [00:04<03:24, 55.60it/s]"
       ]
      },
      {
       "output_type": "stream",
       "stream": "stderr",
       "text": [
        "\r",
        "  2%|\u258f         | 258/11612 [00:04<03:22, 56.17it/s]"
       ]
      },
      {
       "output_type": "stream",
       "stream": "stderr",
       "text": [
        "\r",
        "  2%|\u258f         | 264/11612 [00:04<03:21, 56.38it/s]"
       ]
      },
      {
       "output_type": "stream",
       "stream": "stderr",
       "text": [
        "\r",
        "  2%|\u258f         | 270/11612 [00:04<03:19, 56.72it/s]"
       ]
      },
      {
       "output_type": "stream",
       "stream": "stderr",
       "text": [
        "\r",
        "  2%|\u258f         | 276/11612 [00:05<03:19, 56.72it/s]"
       ]
      },
      {
       "output_type": "stream",
       "stream": "stderr",
       "text": [
        "\r",
        "  2%|\u258f         | 282/11612 [00:05<03:19, 56.84it/s]"
       ]
      },
      {
       "output_type": "stream",
       "stream": "stderr",
       "text": [
        "\r",
        "  2%|\u258f         | 288/11612 [00:05<03:19, 56.74it/s]"
       ]
      },
      {
       "output_type": "stream",
       "stream": "stderr",
       "text": [
        "\r",
        "  3%|\u258e         | 294/11612 [00:05<03:18, 57.07it/s]"
       ]
      },
      {
       "output_type": "stream",
       "stream": "stderr",
       "text": [
        "\r",
        "  3%|\u258e         | 300/11612 [00:05<03:17, 57.24it/s]"
       ]
      },
      {
       "output_type": "stream",
       "stream": "stderr",
       "text": [
        "\r",
        "  3%|\u258e         | 306/11612 [00:05<03:17, 57.38it/s]"
       ]
      },
      {
       "output_type": "stream",
       "stream": "stderr",
       "text": [
        "\r",
        "  3%|\u258e         | 312/11612 [00:05<03:16, 57.42it/s]"
       ]
      },
      {
       "output_type": "stream",
       "stream": "stderr",
       "text": [
        "\r",
        "  3%|\u258e         | 318/11612 [00:05<03:16, 57.56it/s]"
       ]
      },
      {
       "output_type": "stream",
       "stream": "stderr",
       "text": [
        "\r",
        "  3%|\u258e         | 324/11612 [00:05<03:16, 57.41it/s]"
       ]
      },
      {
       "output_type": "stream",
       "stream": "stderr",
       "text": [
        "\r",
        "  3%|\u258e         | 330/11612 [00:05<03:16, 57.38it/s]"
       ]
      },
      {
       "output_type": "stream",
       "stream": "stderr",
       "text": [
        "\r",
        "  3%|\u258e         | 336/11612 [00:06<03:16, 57.45it/s]"
       ]
      },
      {
       "output_type": "stream",
       "stream": "stderr",
       "text": [
        "\r",
        "  3%|\u258e         | 342/11612 [00:06<03:18, 56.87it/s]"
       ]
      },
      {
       "output_type": "stream",
       "stream": "stderr",
       "text": [
        "\r",
        "  3%|\u258e         | 348/11612 [00:06<03:22, 55.70it/s]"
       ]
      },
      {
       "output_type": "stream",
       "stream": "stderr",
       "text": [
        "\r",
        "  3%|\u258e         | 354/11612 [00:06<03:21, 55.97it/s]"
       ]
      },
      {
       "output_type": "stream",
       "stream": "stderr",
       "text": [
        "\r",
        "  3%|\u258e         | 360/11612 [00:06<03:20, 56.04it/s]"
       ]
      },
      {
       "output_type": "stream",
       "stream": "stderr",
       "text": [
        "\r",
        "  3%|\u258e         | 366/11612 [00:06<03:20, 56.08it/s]"
       ]
      },
      {
       "output_type": "stream",
       "stream": "stderr",
       "text": [
        "\r",
        "  3%|\u258e         | 372/11612 [00:06<03:18, 56.50it/s]"
       ]
      },
      {
       "output_type": "stream",
       "stream": "stderr",
       "text": [
        "\r",
        "  3%|\u258e         | 378/11612 [00:06<03:17, 56.98it/s]"
       ]
      },
      {
       "output_type": "stream",
       "stream": "stderr",
       "text": [
        "\r",
        "  3%|\u258e         | 384/11612 [00:06<03:16, 57.25it/s]"
       ]
      },
      {
       "output_type": "stream",
       "stream": "stderr",
       "text": [
        "\r",
        "  3%|\u258e         | 390/11612 [00:07<03:15, 57.32it/s]"
       ]
      },
      {
       "output_type": "stream",
       "stream": "stderr",
       "text": [
        "\r",
        "  3%|\u258e         | 396/11612 [00:07<03:15, 57.34it/s]"
       ]
      },
      {
       "output_type": "stream",
       "stream": "stderr",
       "text": [
        "\r",
        "  3%|\u258e         | 402/11612 [00:07<03:15, 57.39it/s]"
       ]
      },
      {
       "output_type": "stream",
       "stream": "stderr",
       "text": [
        "\r",
        "  4%|\u258e         | 408/11612 [00:07<03:14, 57.51it/s]"
       ]
      },
      {
       "output_type": "stream",
       "stream": "stderr",
       "text": [
        "\r",
        "  4%|\u258e         | 414/11612 [00:07<03:15, 57.29it/s]"
       ]
      },
      {
       "output_type": "stream",
       "stream": "stderr",
       "text": [
        "\r",
        "  4%|\u258e         | 420/11612 [00:07<03:15, 57.17it/s]"
       ]
      },
      {
       "output_type": "stream",
       "stream": "stderr",
       "text": [
        "\r",
        "  4%|\u258e         | 426/11612 [00:07<03:14, 57.44it/s]"
       ]
      },
      {
       "output_type": "stream",
       "stream": "stderr",
       "text": [
        "\r",
        "  4%|\u258e         | 432/11612 [00:07<03:15, 57.31it/s]"
       ]
      },
      {
       "output_type": "stream",
       "stream": "stderr",
       "text": [
        "\r",
        "  4%|\u258d         | 438/11612 [00:07<03:14, 57.39it/s]"
       ]
      },
      {
       "output_type": "stream",
       "stream": "stderr",
       "text": [
        "\r",
        "  4%|\u258d         | 444/11612 [00:07<03:14, 57.54it/s]"
       ]
      },
      {
       "output_type": "stream",
       "stream": "stderr",
       "text": [
        "\r",
        "  4%|\u258d         | 450/11612 [00:08<03:12, 57.84it/s]"
       ]
      },
      {
       "output_type": "stream",
       "stream": "stderr",
       "text": [
        "\r",
        "  4%|\u258d         | 456/11612 [00:08<03:15, 56.98it/s]"
       ]
      },
      {
       "output_type": "stream",
       "stream": "stderr",
       "text": [
        "\r",
        "  4%|\u258d         | 462/11612 [00:08<03:16, 56.88it/s]"
       ]
      },
      {
       "output_type": "stream",
       "stream": "stderr",
       "text": [
        "\r",
        "  4%|\u258d         | 468/11612 [00:08<03:16, 56.80it/s]"
       ]
      },
      {
       "output_type": "stream",
       "stream": "stderr",
       "text": [
        "\r",
        "  4%|\u258d         | 474/11612 [00:08<03:15, 57.11it/s]"
       ]
      },
      {
       "output_type": "stream",
       "stream": "stderr",
       "text": [
        "\r",
        "  4%|\u258d         | 480/11612 [00:08<03:13, 57.42it/s]"
       ]
      },
      {
       "output_type": "stream",
       "stream": "stderr",
       "text": [
        "\r",
        "  4%|\u258d         | 486/11612 [00:08<03:13, 57.61it/s]"
       ]
      },
      {
       "output_type": "stream",
       "stream": "stderr",
       "text": [
        "\r",
        "  4%|\u258d         | 492/11612 [00:08<03:12, 57.77it/s]"
       ]
      },
      {
       "output_type": "stream",
       "stream": "stderr",
       "text": [
        "\r",
        "  4%|\u258d         | 498/11612 [00:08<03:12, 57.72it/s]"
       ]
      },
      {
       "output_type": "stream",
       "stream": "stderr",
       "text": [
        "\r",
        "  4%|\u258d         | 504/11612 [00:09<03:13, 57.53it/s]"
       ]
      },
      {
       "output_type": "stream",
       "stream": "stderr",
       "text": [
        "\r",
        "  4%|\u258d         | 510/11612 [00:09<03:12, 57.60it/s]"
       ]
      },
      {
       "output_type": "stream",
       "stream": "stderr",
       "text": [
        "\r",
        "  4%|\u258d         | 516/11612 [00:09<03:12, 57.78it/s]"
       ]
      },
      {
       "output_type": "stream",
       "stream": "stderr",
       "text": [
        "\r",
        "  4%|\u258d         | 522/11612 [00:09<03:11, 57.84it/s]"
       ]
      },
      {
       "output_type": "stream",
       "stream": "stderr",
       "text": [
        "\r",
        "  5%|\u258d         | 528/11612 [00:09<03:11, 58.02it/s]"
       ]
      },
      {
       "output_type": "stream",
       "stream": "stderr",
       "text": [
        "\r",
        "  5%|\u258d         | 534/11612 [00:09<03:10, 58.05it/s]"
       ]
      },
      {
       "output_type": "stream",
       "stream": "stderr",
       "text": [
        "\r",
        "  5%|\u258d         | 540/11612 [00:09<03:10, 58.23it/s]"
       ]
      },
      {
       "output_type": "stream",
       "stream": "stderr",
       "text": [
        "\r",
        "  5%|\u258d         | 546/11612 [00:09<03:09, 58.30it/s]"
       ]
      },
      {
       "output_type": "stream",
       "stream": "stderr",
       "text": [
        "\r",
        "  5%|\u258d         | 552/11612 [00:09<03:09, 58.36it/s]"
       ]
      },
      {
       "output_type": "stream",
       "stream": "stderr",
       "text": [
        "\r",
        "  5%|\u258d         | 558/11612 [00:09<03:09, 58.43it/s]"
       ]
      },
      {
       "output_type": "stream",
       "stream": "stderr",
       "text": [
        "\r",
        "  5%|\u258d         | 564/11612 [00:10<03:10, 58.13it/s]"
       ]
      },
      {
       "output_type": "stream",
       "stream": "stderr",
       "text": [
        "\r",
        "  5%|\u258d         | 570/11612 [00:10<03:09, 58.32it/s]"
       ]
      },
      {
       "output_type": "stream",
       "stream": "stderr",
       "text": [
        "\r",
        "  5%|\u258d         | 576/11612 [00:10<03:09, 58.26it/s]"
       ]
      },
      {
       "output_type": "stream",
       "stream": "stderr",
       "text": [
        "\r",
        "  5%|\u258c         | 582/11612 [00:10<03:09, 58.24it/s]"
       ]
      },
      {
       "output_type": "stream",
       "stream": "stderr",
       "text": [
        "\r",
        "  5%|\u258c         | 588/11612 [00:10<03:08, 58.41it/s]"
       ]
      },
      {
       "output_type": "stream",
       "stream": "stderr",
       "text": [
        "\r",
        "  5%|\u258c         | 594/11612 [00:10<03:09, 58.05it/s]"
       ]
      },
      {
       "output_type": "stream",
       "stream": "stderr",
       "text": [
        "\r",
        "  5%|\u258c         | 600/11612 [00:10<03:09, 58.02it/s]"
       ]
      },
      {
       "output_type": "stream",
       "stream": "stderr",
       "text": [
        "\r",
        "  5%|\u258c         | 606/11612 [00:10<03:08, 58.30it/s]"
       ]
      },
      {
       "output_type": "stream",
       "stream": "stderr",
       "text": [
        "\r",
        "  5%|\u258c         | 612/11612 [00:10<03:08, 58.39it/s]"
       ]
      },
      {
       "output_type": "stream",
       "stream": "stderr",
       "text": [
        "\r",
        "  5%|\u258c         | 618/11612 [00:10<03:08, 58.33it/s]"
       ]
      },
      {
       "output_type": "stream",
       "stream": "stderr",
       "text": [
        "\r",
        "  5%|\u258c         | 624/11612 [00:11<03:08, 58.37it/s]"
       ]
      },
      {
       "output_type": "stream",
       "stream": "stderr",
       "text": [
        "\r",
        "  5%|\u258c         | 630/11612 [00:11<03:07, 58.47it/s]"
       ]
      },
      {
       "output_type": "stream",
       "stream": "stderr",
       "text": [
        "\r",
        "  5%|\u258c         | 636/11612 [00:11<03:09, 57.88it/s]"
       ]
      },
      {
       "output_type": "stream",
       "stream": "stderr",
       "text": [
        "\r",
        "  6%|\u258c         | 642/11612 [00:11<03:09, 57.97it/s]"
       ]
      },
      {
       "output_type": "stream",
       "stream": "stderr",
       "text": [
        "\r",
        "  6%|\u258c         | 648/11612 [00:11<03:09, 57.95it/s]"
       ]
      },
      {
       "output_type": "stream",
       "stream": "stderr",
       "text": [
        "\r",
        "  6%|\u258c         | 654/11612 [00:11<03:08, 58.09it/s]"
       ]
      },
      {
       "output_type": "stream",
       "stream": "stderr",
       "text": [
        "\r",
        "  6%|\u258c         | 660/11612 [00:11<03:08, 58.24it/s]"
       ]
      },
      {
       "output_type": "stream",
       "stream": "stderr",
       "text": [
        "\r",
        "  6%|\u258c         | 666/11612 [00:11<03:08, 58.14it/s]"
       ]
      },
      {
       "output_type": "stream",
       "stream": "stderr",
       "text": [
        "\r",
        "  6%|\u258c         | 672/11612 [00:11<03:07, 58.20it/s]"
       ]
      },
      {
       "output_type": "stream",
       "stream": "stderr",
       "text": [
        "\r",
        "  6%|\u258c         | 678/11612 [00:12<03:08, 58.14it/s]"
       ]
      },
      {
       "output_type": "stream",
       "stream": "stderr",
       "text": [
        "\r",
        "  6%|\u258c         | 684/11612 [00:12<03:08, 57.83it/s]"
       ]
      },
      {
       "output_type": "stream",
       "stream": "stderr",
       "text": [
        "\r",
        "  6%|\u258c         | 690/11612 [00:12<03:09, 57.52it/s]"
       ]
      },
      {
       "output_type": "stream",
       "stream": "stderr",
       "text": [
        "\r",
        "  6%|\u258c         | 696/11612 [00:12<03:14, 56.21it/s]"
       ]
      },
      {
       "output_type": "stream",
       "stream": "stderr",
       "text": [
        "\r",
        "  6%|\u258c         | 702/11612 [00:12<03:14, 56.09it/s]"
       ]
      },
      {
       "output_type": "stream",
       "stream": "stderr",
       "text": [
        "\r",
        "  6%|\u258c         | 708/11612 [00:12<03:12, 56.54it/s]"
       ]
      },
      {
       "output_type": "stream",
       "stream": "stderr",
       "text": [
        "\r",
        "  6%|\u258c         | 714/11612 [00:12<03:12, 56.57it/s]"
       ]
      },
      {
       "output_type": "stream",
       "stream": "stderr",
       "text": [
        "\r",
        "  6%|\u258c         | 720/11612 [00:12<03:11, 57.00it/s]"
       ]
      },
      {
       "output_type": "stream",
       "stream": "stderr",
       "text": [
        "\r",
        "  6%|\u258b         | 726/11612 [00:12<03:09, 57.43it/s]"
       ]
      },
      {
       "output_type": "stream",
       "stream": "stderr",
       "text": [
        "\r",
        "  6%|\u258b         | 732/11612 [00:12<03:08, 57.57it/s]"
       ]
      },
      {
       "output_type": "stream",
       "stream": "stderr",
       "text": [
        "\r",
        "  6%|\u258b         | 738/11612 [00:13<03:09, 57.48it/s]"
       ]
      },
      {
       "output_type": "stream",
       "stream": "stderr",
       "text": [
        "\r",
        "  6%|\u258b         | 744/11612 [00:13<03:09, 57.32it/s]"
       ]
      },
      {
       "output_type": "stream",
       "stream": "stderr",
       "text": [
        "\r",
        "  6%|\u258b         | 750/11612 [00:13<03:08, 57.68it/s]"
       ]
      },
      {
       "output_type": "stream",
       "stream": "stderr",
       "text": [
        "\r",
        "  7%|\u258b         | 756/11612 [00:13<03:10, 56.99it/s]"
       ]
      },
      {
       "output_type": "stream",
       "stream": "stderr",
       "text": [
        "\r",
        "  7%|\u258b         | 762/11612 [00:13<03:08, 57.62it/s]"
       ]
      },
      {
       "output_type": "stream",
       "stream": "stderr",
       "text": [
        "\r",
        "  7%|\u258b         | 768/11612 [00:13<03:08, 57.47it/s]"
       ]
      },
      {
       "output_type": "stream",
       "stream": "stderr",
       "text": [
        "\r",
        "  7%|\u258b         | 774/11612 [00:13<03:10, 57.02it/s]"
       ]
      },
      {
       "output_type": "stream",
       "stream": "stderr",
       "text": [
        "\r",
        "  7%|\u258b         | 780/11612 [00:13<03:08, 57.33it/s]"
       ]
      },
      {
       "output_type": "stream",
       "stream": "stderr",
       "text": [
        "\r",
        "  7%|\u258b         | 786/11612 [00:13<03:10, 56.92it/s]"
       ]
      },
      {
       "output_type": "stream",
       "stream": "stderr",
       "text": [
        "\r",
        "  7%|\u258b         | 792/11612 [00:14<03:08, 57.33it/s]"
       ]
      },
      {
       "output_type": "stream",
       "stream": "stderr",
       "text": [
        "\r",
        "  7%|\u258b         | 798/11612 [00:14<03:07, 57.56it/s]"
       ]
      },
      {
       "output_type": "stream",
       "stream": "stderr",
       "text": [
        "\r",
        "  7%|\u258b         | 804/11612 [00:14<03:09, 57.06it/s]"
       ]
      },
      {
       "output_type": "stream",
       "stream": "stderr",
       "text": [
        "\r",
        "  7%|\u258b         | 810/11612 [00:14<03:08, 57.19it/s]"
       ]
      },
      {
       "output_type": "stream",
       "stream": "stderr",
       "text": [
        "\r",
        "  7%|\u258b         | 816/11612 [00:14<03:11, 56.45it/s]"
       ]
      },
      {
       "output_type": "stream",
       "stream": "stderr",
       "text": [
        "\r",
        "  7%|\u258b         | 822/11612 [00:14<03:10, 56.72it/s]"
       ]
      },
      {
       "output_type": "stream",
       "stream": "stderr",
       "text": [
        "\r",
        "  7%|\u258b         | 828/11612 [00:14<03:07, 57.37it/s]"
       ]
      },
      {
       "output_type": "stream",
       "stream": "stderr",
       "text": [
        "\r",
        "  7%|\u258b         | 834/11612 [00:14<03:09, 56.89it/s]"
       ]
      },
      {
       "output_type": "stream",
       "stream": "stderr",
       "text": [
        "\r",
        "  7%|\u258b         | 840/11612 [00:14<03:09, 56.94it/s]"
       ]
      },
      {
       "output_type": "stream",
       "stream": "stderr",
       "text": [
        "\r",
        "  7%|\u258b         | 846/11612 [00:14<03:08, 57.24it/s]"
       ]
      },
      {
       "output_type": "stream",
       "stream": "stderr",
       "text": [
        "\r",
        "  7%|\u258b         | 852/11612 [00:15<03:07, 57.46it/s]"
       ]
      },
      {
       "output_type": "stream",
       "stream": "stderr",
       "text": [
        "\r",
        "  7%|\u258b         | 858/11612 [00:15<03:07, 57.31it/s]"
       ]
      },
      {
       "output_type": "stream",
       "stream": "stderr",
       "text": [
        "\r",
        "  7%|\u258b         | 864/11612 [00:15<03:09, 56.87it/s]"
       ]
      },
      {
       "output_type": "stream",
       "stream": "stderr",
       "text": [
        "\r",
        "  7%|\u258b         | 870/11612 [00:15<03:08, 57.10it/s]"
       ]
      },
      {
       "output_type": "stream",
       "stream": "stderr",
       "text": [
        "\r",
        "  8%|\u258a         | 876/11612 [00:15<03:08, 57.01it/s]"
       ]
      },
      {
       "output_type": "stream",
       "stream": "stderr",
       "text": [
        "\r",
        "  8%|\u258a         | 882/11612 [00:15<03:07, 57.09it/s]"
       ]
      },
      {
       "output_type": "stream",
       "stream": "stderr",
       "text": [
        "\r",
        "  8%|\u258a         | 888/11612 [00:15<03:06, 57.55it/s]"
       ]
      },
      {
       "output_type": "stream",
       "stream": "stderr",
       "text": [
        "\r",
        "  8%|\u258a         | 894/11612 [00:15<03:05, 57.76it/s]"
       ]
      },
      {
       "output_type": "stream",
       "stream": "stderr",
       "text": [
        "\r",
        "  8%|\u258a         | 900/11612 [00:15<03:08, 56.96it/s]"
       ]
      },
      {
       "output_type": "stream",
       "stream": "stderr",
       "text": [
        "\r",
        "  8%|\u258a         | 906/11612 [00:15<03:06, 57.44it/s]"
       ]
      },
      {
       "output_type": "stream",
       "stream": "stderr",
       "text": [
        "\r",
        "  8%|\u258a         | 912/11612 [00:16<03:04, 58.06it/s]"
       ]
      },
      {
       "output_type": "stream",
       "stream": "stderr",
       "text": [
        "\r",
        "  8%|\u258a         | 918/11612 [00:16<03:03, 58.29it/s]"
       ]
      },
      {
       "output_type": "stream",
       "stream": "stderr",
       "text": [
        "\r",
        "  8%|\u258a         | 924/11612 [00:16<03:04, 57.99it/s]"
       ]
      },
      {
       "output_type": "stream",
       "stream": "stderr",
       "text": [
        "\r",
        "  8%|\u258a         | 930/11612 [00:16<03:05, 57.49it/s]"
       ]
      },
      {
       "output_type": "stream",
       "stream": "stderr",
       "text": [
        "\r",
        "  8%|\u258a         | 936/11612 [00:16<03:05, 57.69it/s]"
       ]
      },
      {
       "output_type": "stream",
       "stream": "stderr",
       "text": [
        "\r",
        "  8%|\u258a         | 943/11612 [00:16<03:02, 58.43it/s]"
       ]
      },
      {
       "output_type": "stream",
       "stream": "stderr",
       "text": [
        "\r",
        "  8%|\u258a         | 949/11612 [00:16<03:02, 58.33it/s]"
       ]
      },
      {
       "output_type": "stream",
       "stream": "stderr",
       "text": [
        "\r",
        "  8%|\u258a         | 955/11612 [00:16<03:01, 58.58it/s]"
       ]
      },
      {
       "output_type": "stream",
       "stream": "stderr",
       "text": [
        "\r",
        "  8%|\u258a         | 962/11612 [00:16<03:00, 58.88it/s]"
       ]
      },
      {
       "output_type": "stream",
       "stream": "stderr",
       "text": [
        "\r",
        "  8%|\u258a         | 968/11612 [00:17<03:00, 58.87it/s]"
       ]
      },
      {
       "output_type": "stream",
       "stream": "stderr",
       "text": [
        "\r",
        "  8%|\u258a         | 974/11612 [00:17<03:00, 58.89it/s]"
       ]
      },
      {
       "output_type": "stream",
       "stream": "stderr",
       "text": [
        "\r",
        "  8%|\u258a         | 980/11612 [00:17<03:00, 58.88it/s]"
       ]
      },
      {
       "output_type": "stream",
       "stream": "stderr",
       "text": [
        "\r",
        "  8%|\u258a         | 986/11612 [00:17<03:00, 58.74it/s]"
       ]
      },
      {
       "output_type": "stream",
       "stream": "stderr",
       "text": [
        "\r",
        "  9%|\u258a         | 992/11612 [00:17<03:02, 58.04it/s]"
       ]
      },
      {
       "output_type": "stream",
       "stream": "stderr",
       "text": [
        "\r",
        "  9%|\u258a         | 998/11612 [00:17<03:02, 58.28it/s]"
       ]
      },
      {
       "output_type": "stream",
       "stream": "stderr",
       "text": [
        "\r",
        "  9%|\u258a         | 1004/11612 [00:17<03:01, 58.48it/s]"
       ]
      },
      {
       "output_type": "stream",
       "stream": "stderr",
       "text": [
        "\r",
        "  9%|\u258a         | 1010/11612 [00:17<03:01, 58.55it/s]"
       ]
      },
      {
       "output_type": "stream",
       "stream": "stderr",
       "text": [
        "\r",
        "  9%|\u2589         | 1017/11612 [00:17<02:59, 59.11it/s]"
       ]
      },
      {
       "output_type": "stream",
       "stream": "stderr",
       "text": [
        "\r",
        "  9%|\u2589         | 1023/11612 [00:17<02:59, 58.88it/s]"
       ]
      },
      {
       "output_type": "stream",
       "stream": "stderr",
       "text": [
        "\r",
        "  9%|\u2589         | 1029/11612 [00:18<02:59, 59.03it/s]"
       ]
      },
      {
       "output_type": "stream",
       "stream": "stderr",
       "text": [
        "\r",
        "  9%|\u2589         | 1035/11612 [00:18<03:00, 58.71it/s]"
       ]
      },
      {
       "output_type": "stream",
       "stream": "stderr",
       "text": [
        "\r",
        "  9%|\u2589         | 1041/11612 [00:18<02:59, 59.04it/s]"
       ]
      },
      {
       "output_type": "stream",
       "stream": "stderr",
       "text": [
        "\r",
        "  9%|\u2589         | 1047/11612 [00:18<03:00, 58.39it/s]"
       ]
      },
      {
       "output_type": "stream",
       "stream": "stderr",
       "text": [
        "\r",
        "  9%|\u2589         | 1053/11612 [00:18<03:06, 56.48it/s]"
       ]
      },
      {
       "output_type": "stream",
       "stream": "stderr",
       "text": [
        "\r",
        "  9%|\u2589         | 1059/11612 [00:18<03:03, 57.48it/s]"
       ]
      },
      {
       "output_type": "stream",
       "stream": "stderr",
       "text": [
        "\r",
        "  9%|\u2589         | 1065/11612 [00:18<03:01, 57.97it/s]"
       ]
      },
      {
       "output_type": "stream",
       "stream": "stderr",
       "text": [
        "\r",
        "  9%|\u2589         | 1071/11612 [00:18<03:01, 58.08it/s]"
       ]
      },
      {
       "output_type": "stream",
       "stream": "stderr",
       "text": [
        "\r",
        "  9%|\u2589         | 1078/11612 [00:18<02:59, 58.73it/s]"
       ]
      },
      {
       "output_type": "stream",
       "stream": "stderr",
       "text": [
        "\r",
        "  9%|\u2589         | 1084/11612 [00:19<02:58, 58.89it/s]"
       ]
      },
      {
       "output_type": "stream",
       "stream": "stderr",
       "text": [
        "\r",
        "  9%|\u2589         | 1090/11612 [00:19<02:58, 59.01it/s]"
       ]
      },
      {
       "output_type": "stream",
       "stream": "stderr",
       "text": [
        "\r",
        "  9%|\u2589         | 1097/11612 [00:19<02:56, 59.55it/s]"
       ]
      },
      {
       "output_type": "stream",
       "stream": "stderr",
       "text": [
        "\r",
        " 10%|\u2589         | 1104/11612 [00:19<02:54, 60.06it/s]"
       ]
      },
      {
       "output_type": "stream",
       "stream": "stderr",
       "text": [
        "\r",
        " 10%|\u2589         | 1111/11612 [00:19<02:57, 59.19it/s]"
       ]
      },
      {
       "output_type": "stream",
       "stream": "stderr",
       "text": [
        "\r",
        " 10%|\u2589         | 1117/11612 [00:19<03:01, 57.76it/s]"
       ]
      },
      {
       "output_type": "stream",
       "stream": "stderr",
       "text": [
        "\r",
        " 10%|\u2589         | 1124/11612 [00:19<02:58, 58.89it/s]"
       ]
      },
      {
       "output_type": "stream",
       "stream": "stderr",
       "text": [
        "\r",
        " 10%|\u2589         | 1131/11612 [00:19<02:57, 59.17it/s]"
       ]
      },
      {
       "output_type": "stream",
       "stream": "stderr",
       "text": [
        "\r",
        " 10%|\u2589         | 1138/11612 [00:19<02:55, 59.75it/s]"
       ]
      },
      {
       "output_type": "stream",
       "stream": "stderr",
       "text": [
        "\r",
        " 10%|\u2589         | 1144/11612 [00:20<02:56, 59.34it/s]"
       ]
      },
      {
       "output_type": "stream",
       "stream": "stderr",
       "text": [
        "\r",
        " 10%|\u2589         | 1150/11612 [00:20<02:57, 59.05it/s]"
       ]
      },
      {
       "output_type": "stream",
       "stream": "stderr",
       "text": [
        "\r",
        " 10%|\u2589         | 1157/11612 [00:20<02:55, 59.46it/s]"
       ]
      },
      {
       "output_type": "stream",
       "stream": "stderr",
       "text": [
        "\r",
        " 10%|\u2588         | 1163/11612 [00:20<02:56, 59.36it/s]"
       ]
      },
      {
       "output_type": "stream",
       "stream": "stderr",
       "text": [
        "\r",
        " 10%|\u2588         | 1169/11612 [00:20<02:55, 59.38it/s]"
       ]
      },
      {
       "output_type": "stream",
       "stream": "stderr",
       "text": [
        "\r",
        " 10%|\u2588         | 1175/11612 [00:20<02:55, 59.53it/s]"
       ]
      },
      {
       "output_type": "stream",
       "stream": "stderr",
       "text": [
        "\r",
        " 10%|\u2588         | 1182/11612 [00:20<02:53, 60.05it/s]"
       ]
      },
      {
       "output_type": "stream",
       "stream": "stderr",
       "text": [
        "\r",
        " 10%|\u2588         | 1189/11612 [00:20<02:53, 60.07it/s]"
       ]
      },
      {
       "output_type": "stream",
       "stream": "stderr",
       "text": [
        "\r",
        " 10%|\u2588         | 1196/11612 [00:20<02:52, 60.47it/s]"
       ]
      },
      {
       "output_type": "stream",
       "stream": "stderr",
       "text": [
        "\r",
        " 10%|\u2588         | 1203/11612 [00:21<02:54, 59.78it/s]"
       ]
      },
      {
       "output_type": "stream",
       "stream": "stderr",
       "text": [
        "\r",
        " 10%|\u2588         | 1209/11612 [00:21<02:55, 59.26it/s]"
       ]
      },
      {
       "output_type": "stream",
       "stream": "stderr",
       "text": [
        "\r",
        " 10%|\u2588         | 1215/11612 [00:21<02:54, 59.43it/s]"
       ]
      },
      {
       "output_type": "stream",
       "stream": "stderr",
       "text": [
        "\r",
        " 11%|\u2588         | 1222/11612 [00:21<02:53, 59.92it/s]"
       ]
      },
      {
       "output_type": "stream",
       "stream": "stderr",
       "text": [
        "\r",
        " 11%|\u2588         | 1229/11612 [00:21<02:52, 60.34it/s]"
       ]
      },
      {
       "output_type": "stream",
       "stream": "stderr",
       "text": [
        "\r",
        " 11%|\u2588         | 1236/11612 [00:21<02:51, 60.65it/s]"
       ]
      },
      {
       "output_type": "stream",
       "stream": "stderr",
       "text": [
        "\r",
        " 11%|\u2588         | 1243/11612 [00:21<02:52, 60.27it/s]"
       ]
      },
      {
       "output_type": "stream",
       "stream": "stderr",
       "text": [
        "\r",
        " 11%|\u2588         | 1250/11612 [00:21<02:52, 59.97it/s]"
       ]
      },
      {
       "output_type": "stream",
       "stream": "stderr",
       "text": [
        "\r",
        " 11%|\u2588         | 1257/11612 [00:21<02:52, 60.03it/s]"
       ]
      },
      {
       "output_type": "stream",
       "stream": "stderr",
       "text": [
        "\r",
        " 11%|\u2588         | 1264/11612 [00:22<02:52, 59.93it/s]"
       ]
      },
      {
       "output_type": "stream",
       "stream": "stderr",
       "text": [
        "\r",
        " 11%|\u2588         | 1270/11612 [00:22<02:53, 59.62it/s]"
       ]
      },
      {
       "output_type": "stream",
       "stream": "stderr",
       "text": [
        "\r",
        " 11%|\u2588         | 1277/11612 [00:22<02:52, 59.91it/s]"
       ]
      },
      {
       "output_type": "stream",
       "stream": "stderr",
       "text": [
        "\r",
        " 11%|\u2588         | 1283/11612 [00:22<02:53, 59.66it/s]"
       ]
      },
      {
       "output_type": "stream",
       "stream": "stderr",
       "text": [
        "\r",
        " 11%|\u2588         | 1290/11612 [00:22<02:52, 59.78it/s]"
       ]
      },
      {
       "output_type": "stream",
       "stream": "stderr",
       "text": [
        "\r",
        " 11%|\u2588         | 1297/11612 [00:22<02:53, 59.47it/s]"
       ]
      },
      {
       "output_type": "stream",
       "stream": "stderr",
       "text": [
        "\r",
        " 11%|\u2588         | 1304/11612 [00:22<02:51, 60.17it/s]"
       ]
      },
      {
       "output_type": "stream",
       "stream": "stderr",
       "text": [
        "\r",
        " 11%|\u2588\u258f        | 1311/11612 [00:22<02:51, 59.94it/s]"
       ]
      },
      {
       "output_type": "stream",
       "stream": "stderr",
       "text": [
        "\r",
        " 11%|\u2588\u258f        | 1318/11612 [00:22<02:51, 60.18it/s]"
       ]
      },
      {
       "output_type": "stream",
       "stream": "stderr",
       "text": [
        "\r",
        " 11%|\u2588\u258f        | 1325/11612 [00:23<02:49, 60.57it/s]"
       ]
      },
      {
       "output_type": "stream",
       "stream": "stderr",
       "text": [
        "\r",
        " 11%|\u2588\u258f        | 1332/11612 [00:23<02:50, 60.22it/s]"
       ]
      },
      {
       "output_type": "stream",
       "stream": "stderr",
       "text": [
        "\r",
        " 12%|\u2588\u258f        | 1339/11612 [00:23<02:50, 60.23it/s]"
       ]
      },
      {
       "output_type": "stream",
       "stream": "stderr",
       "text": [
        "\r",
        " 12%|\u2588\u258f        | 1346/11612 [00:23<02:48, 60.75it/s]"
       ]
      },
      {
       "output_type": "stream",
       "stream": "stderr",
       "text": [
        "\r",
        " 12%|\u2588\u258f        | 1353/11612 [00:23<02:49, 60.68it/s]"
       ]
      },
      {
       "output_type": "stream",
       "stream": "stderr",
       "text": [
        "\r",
        " 12%|\u2588\u258f        | 1360/11612 [00:23<02:50, 60.00it/s]"
       ]
      },
      {
       "output_type": "stream",
       "stream": "stderr",
       "text": [
        "\r",
        " 12%|\u2588\u258f        | 1367/11612 [00:23<02:51, 59.91it/s]"
       ]
      },
      {
       "output_type": "stream",
       "stream": "stderr",
       "text": [
        "\r",
        " 12%|\u2588\u258f        | 1374/11612 [00:23<02:49, 60.28it/s]"
       ]
      },
      {
       "output_type": "stream",
       "stream": "stderr",
       "text": [
        "\r",
        " 12%|\u2588\u258f        | 1381/11612 [00:23<02:50, 60.14it/s]"
       ]
      },
      {
       "output_type": "stream",
       "stream": "stderr",
       "text": [
        "\r",
        " 12%|\u2588\u258f        | 1388/11612 [00:24<02:49, 60.20it/s]"
       ]
      },
      {
       "output_type": "stream",
       "stream": "stderr",
       "text": [
        "\r",
        " 12%|\u2588\u258f        | 1395/11612 [00:24<02:47, 60.84it/s]"
       ]
      },
      {
       "output_type": "stream",
       "stream": "stderr",
       "text": [
        "\r",
        " 12%|\u2588\u258f        | 1402/11612 [00:24<02:47, 61.13it/s]"
       ]
      },
      {
       "output_type": "stream",
       "stream": "stderr",
       "text": [
        "\r",
        " 12%|\u2588\u258f        | 1409/11612 [00:24<02:46, 61.39it/s]"
       ]
      },
      {
       "output_type": "stream",
       "stream": "stderr",
       "text": [
        "\r",
        " 12%|\u2588\u258f        | 1416/11612 [00:24<02:45, 61.59it/s]"
       ]
      },
      {
       "output_type": "stream",
       "stream": "stderr",
       "text": [
        "\r",
        " 12%|\u2588\u258f        | 1423/11612 [00:24<02:47, 60.71it/s]"
       ]
      },
      {
       "output_type": "stream",
       "stream": "stderr",
       "text": [
        "\r",
        " 12%|\u2588\u258f        | 1430/11612 [00:24<02:46, 61.11it/s]"
       ]
      },
      {
       "output_type": "stream",
       "stream": "stderr",
       "text": [
        "\r",
        " 12%|\u2588\u258f        | 1437/11612 [00:24<02:45, 61.42it/s]"
       ]
      },
      {
       "output_type": "stream",
       "stream": "stderr",
       "text": [
        "\r",
        " 12%|\u2588\u258f        | 1444/11612 [00:25<02:44, 61.64it/s]"
       ]
      },
      {
       "output_type": "stream",
       "stream": "stderr",
       "text": [
        "\r",
        " 12%|\u2588\u258f        | 1451/11612 [00:25<02:45, 61.46it/s]"
       ]
      },
      {
       "output_type": "stream",
       "stream": "stderr",
       "text": [
        "\r",
        " 13%|\u2588\u258e        | 1458/11612 [00:25<02:44, 61.64it/s]"
       ]
      },
      {
       "output_type": "stream",
       "stream": "stderr",
       "text": [
        "\r",
        " 13%|\u2588\u258e        | 1465/11612 [00:25<02:43, 61.89it/s]"
       ]
      },
      {
       "output_type": "stream",
       "stream": "stderr",
       "text": [
        "\r",
        " 13%|\u2588\u258e        | 1472/11612 [00:25<02:45, 61.41it/s]"
       ]
      },
      {
       "output_type": "stream",
       "stream": "stderr",
       "text": [
        "\r",
        " 13%|\u2588\u258e        | 1479/11612 [00:25<02:44, 61.70it/s]"
       ]
      },
      {
       "output_type": "stream",
       "stream": "stderr",
       "text": [
        "\r",
        " 13%|\u2588\u258e        | 1486/11612 [00:25<02:43, 61.81it/s]"
       ]
      },
      {
       "output_type": "stream",
       "stream": "stderr",
       "text": [
        "\r",
        " 13%|\u2588\u258e        | 1493/11612 [00:25<02:42, 62.28it/s]"
       ]
      },
      {
       "output_type": "stream",
       "stream": "stderr",
       "text": [
        "\r",
        " 13%|\u2588\u258e        | 1500/11612 [00:25<02:41, 62.61it/s]"
       ]
      },
      {
       "output_type": "stream",
       "stream": "stderr",
       "text": [
        "\r",
        " 13%|\u2588\u258e        | 1507/11612 [00:26<02:42, 62.09it/s]"
       ]
      },
      {
       "output_type": "stream",
       "stream": "stderr",
       "text": [
        "\r",
        " 13%|\u2588\u258e        | 1514/11612 [00:26<02:43, 61.66it/s]"
       ]
      },
      {
       "output_type": "stream",
       "stream": "stderr",
       "text": [
        "\r",
        " 13%|\u2588\u258e        | 1521/11612 [00:26<02:43, 61.84it/s]"
       ]
      },
      {
       "output_type": "stream",
       "stream": "stderr",
       "text": [
        "\r",
        " 13%|\u2588\u258e        | 1528/11612 [00:26<02:42, 62.17it/s]"
       ]
      },
      {
       "output_type": "stream",
       "stream": "stderr",
       "text": [
        "\r",
        " 13%|\u2588\u258e        | 1535/11612 [00:26<02:42, 62.15it/s]"
       ]
      },
      {
       "output_type": "stream",
       "stream": "stderr",
       "text": [
        "\r",
        " 13%|\u2588\u258e        | 1542/11612 [00:26<02:42, 62.08it/s]"
       ]
      },
      {
       "output_type": "stream",
       "stream": "stderr",
       "text": [
        "\r",
        " 13%|\u2588\u258e        | 1549/11612 [00:26<02:42, 61.82it/s]"
       ]
      },
      {
       "output_type": "stream",
       "stream": "stderr",
       "text": [
        "\r",
        " 13%|\u2588\u258e        | 1556/11612 [00:26<02:42, 61.90it/s]"
       ]
      },
      {
       "output_type": "stream",
       "stream": "stderr",
       "text": [
        "\r",
        " 13%|\u2588\u258e        | 1563/11612 [00:26<02:41, 62.23it/s]"
       ]
      },
      {
       "output_type": "stream",
       "stream": "stderr",
       "text": [
        "\r",
        " 14%|\u2588\u258e        | 1570/11612 [00:27<02:43, 61.58it/s]"
       ]
      },
      {
       "output_type": "stream",
       "stream": "stderr",
       "text": [
        "\r",
        " 14%|\u2588\u258e        | 1577/11612 [00:27<02:42, 61.74it/s]"
       ]
      },
      {
       "output_type": "stream",
       "stream": "stderr",
       "text": [
        "\r",
        " 14%|\u2588\u258e        | 1584/11612 [00:27<02:44, 60.86it/s]"
       ]
      },
      {
       "output_type": "stream",
       "stream": "stderr",
       "text": [
        "\r",
        " 14%|\u2588\u258e        | 1591/11612 [00:27<02:44, 60.75it/s]"
       ]
      },
      {
       "output_type": "stream",
       "stream": "stderr",
       "text": [
        "\r",
        " 14%|\u2588\u258d        | 1598/11612 [00:27<02:43, 61.23it/s]"
       ]
      },
      {
       "output_type": "stream",
       "stream": "stderr",
       "text": [
        "\r",
        " 14%|\u2588\u258d        | 1605/11612 [00:27<02:42, 61.51it/s]"
       ]
      },
      {
       "output_type": "stream",
       "stream": "stderr",
       "text": [
        "\r",
        " 14%|\u2588\u258d        | 1612/11612 [00:27<02:42, 61.46it/s]"
       ]
      },
      {
       "output_type": "stream",
       "stream": "stderr",
       "text": [
        "\r",
        " 14%|\u2588\u258d        | 1619/11612 [00:27<02:40, 62.16it/s]"
       ]
      },
      {
       "output_type": "stream",
       "stream": "stderr",
       "text": [
        "\r",
        " 14%|\u2588\u258d        | 1626/11612 [00:27<02:39, 62.52it/s]"
       ]
      },
      {
       "output_type": "stream",
       "stream": "stderr",
       "text": [
        "\r",
        " 14%|\u2588\u258d        | 1633/11612 [00:28<02:40, 62.31it/s]"
       ]
      },
      {
       "output_type": "stream",
       "stream": "stderr",
       "text": [
        "\r",
        " 14%|\u2588\u258d        | 1640/11612 [00:28<02:39, 62.70it/s]"
       ]
      },
      {
       "output_type": "stream",
       "stream": "stderr",
       "text": [
        "\r",
        " 14%|\u2588\u258d        | 1647/11612 [00:28<02:37, 63.12it/s]"
       ]
      },
      {
       "output_type": "stream",
       "stream": "stderr",
       "text": [
        "\r",
        " 14%|\u2588\u258d        | 1654/11612 [00:28<02:37, 63.21it/s]"
       ]
      },
      {
       "output_type": "stream",
       "stream": "stderr",
       "text": [
        "\r",
        " 14%|\u2588\u258d        | 1661/11612 [00:28<02:37, 63.19it/s]"
       ]
      },
      {
       "output_type": "stream",
       "stream": "stderr",
       "text": [
        "\r",
        " 14%|\u2588\u258d        | 1668/11612 [00:28<02:39, 62.38it/s]"
       ]
      },
      {
       "output_type": "stream",
       "stream": "stderr",
       "text": [
        "\r",
        " 14%|\u2588\u258d        | 1675/11612 [00:28<02:39, 62.49it/s]"
       ]
      },
      {
       "output_type": "stream",
       "stream": "stderr",
       "text": [
        "\r",
        " 14%|\u2588\u258d        | 1682/11612 [00:28<02:38, 62.68it/s]"
       ]
      },
      {
       "output_type": "stream",
       "stream": "stderr",
       "text": [
        "\r",
        " 15%|\u2588\u258d        | 1689/11612 [00:28<02:37, 63.14it/s]"
       ]
      },
      {
       "output_type": "stream",
       "stream": "stderr",
       "text": [
        "\r",
        " 15%|\u2588\u258d        | 1696/11612 [00:29<02:37, 62.89it/s]"
       ]
      },
      {
       "output_type": "stream",
       "stream": "stderr",
       "text": [
        "\r",
        " 15%|\u2588\u258d        | 1703/11612 [00:29<02:37, 62.90it/s]"
       ]
      },
      {
       "output_type": "stream",
       "stream": "stderr",
       "text": [
        "\r",
        " 15%|\u2588\u258d        | 1710/11612 [00:29<02:36, 63.21it/s]"
       ]
      },
      {
       "output_type": "stream",
       "stream": "stderr",
       "text": [
        "\r",
        " 15%|\u2588\u258d        | 1717/11612 [00:29<02:37, 62.88it/s]"
       ]
      },
      {
       "output_type": "stream",
       "stream": "stderr",
       "text": [
        "\r",
        " 15%|\u2588\u258d        | 1724/11612 [00:29<02:36, 63.03it/s]"
       ]
      },
      {
       "output_type": "stream",
       "stream": "stderr",
       "text": [
        "\r",
        " 15%|\u2588\u258d        | 1731/11612 [00:29<02:35, 63.41it/s]"
       ]
      },
      {
       "output_type": "stream",
       "stream": "stderr",
       "text": [
        "\r",
        " 15%|\u2588\u258d        | 1738/11612 [00:29<02:36, 63.19it/s]"
       ]
      },
      {
       "output_type": "stream",
       "stream": "stderr",
       "text": [
        "\r",
        " 15%|\u2588\u258c        | 1745/11612 [00:29<02:34, 63.99it/s]"
       ]
      },
      {
       "output_type": "stream",
       "stream": "stderr",
       "text": [
        "\r",
        " 15%|\u2588\u258c        | 1752/11612 [00:29<02:32, 64.45it/s]"
       ]
      },
      {
       "output_type": "stream",
       "stream": "stderr",
       "text": [
        "\r",
        " 15%|\u2588\u258c        | 1759/11612 [00:30<02:35, 63.56it/s]"
       ]
      },
      {
       "output_type": "stream",
       "stream": "stderr",
       "text": [
        "\r",
        " 15%|\u2588\u258c        | 1766/11612 [00:30<02:34, 63.76it/s]"
       ]
      },
      {
       "output_type": "stream",
       "stream": "stderr",
       "text": [
        "\r",
        " 15%|\u2588\u258c        | 1773/11612 [00:30<02:34, 63.70it/s]"
       ]
      },
      {
       "output_type": "stream",
       "stream": "stderr",
       "text": [
        "\r",
        " 15%|\u2588\u258c        | 1780/11612 [00:30<02:34, 63.56it/s]"
       ]
      },
      {
       "output_type": "stream",
       "stream": "stderr",
       "text": [
        "\r",
        " 15%|\u2588\u258c        | 1787/11612 [00:30<02:33, 63.88it/s]"
       ]
      },
      {
       "output_type": "stream",
       "stream": "stderr",
       "text": [
        "\r",
        " 15%|\u2588\u258c        | 1794/11612 [00:30<02:33, 63.80it/s]"
       ]
      },
      {
       "output_type": "stream",
       "stream": "stderr",
       "text": [
        "\r",
        " 16%|\u2588\u258c        | 1801/11612 [00:30<02:34, 63.57it/s]"
       ]
      },
      {
       "output_type": "stream",
       "stream": "stderr",
       "text": [
        "\r",
        " 16%|\u2588\u258c        | 1808/11612 [00:30<02:32, 64.20it/s]"
       ]
      },
      {
       "output_type": "stream",
       "stream": "stderr",
       "text": [
        "\r",
        " 16%|\u2588\u258c        | 1815/11612 [00:30<02:32, 64.24it/s]"
       ]
      },
      {
       "output_type": "stream",
       "stream": "stderr",
       "text": [
        "\r",
        " 16%|\u2588\u258c        | 1822/11612 [00:31<02:33, 63.81it/s]"
       ]
      },
      {
       "output_type": "stream",
       "stream": "stderr",
       "text": [
        "\r",
        " 16%|\u2588\u258c        | 1829/11612 [00:31<02:33, 63.75it/s]"
       ]
      },
      {
       "output_type": "stream",
       "stream": "stderr",
       "text": [
        "\r",
        " 16%|\u2588\u258c        | 1836/11612 [00:31<02:34, 63.28it/s]"
       ]
      },
      {
       "output_type": "stream",
       "stream": "stderr",
       "text": [
        "\r",
        " 16%|\u2588\u258c        | 1843/11612 [00:31<02:33, 63.50it/s]"
       ]
      },
      {
       "output_type": "stream",
       "stream": "stderr",
       "text": [
        "\r",
        " 16%|\u2588\u258c        | 1850/11612 [00:31<02:34, 63.33it/s]"
       ]
      },
      {
       "output_type": "stream",
       "stream": "stderr",
       "text": [
        "\r",
        " 16%|\u2588\u258c        | 1857/11612 [00:31<02:33, 63.56it/s]"
       ]
      },
      {
       "output_type": "stream",
       "stream": "stderr",
       "text": [
        "\r",
        " 16%|\u2588\u258c        | 1864/11612 [00:31<02:31, 64.19it/s]"
       ]
      },
      {
       "output_type": "stream",
       "stream": "stderr",
       "text": [
        "\r",
        " 16%|\u2588\u258c        | 1871/11612 [00:31<02:31, 64.50it/s]"
       ]
      },
      {
       "output_type": "stream",
       "stream": "stderr",
       "text": [
        "\r",
        " 16%|\u2588\u258c        | 1878/11612 [00:31<02:30, 64.67it/s]"
       ]
      },
      {
       "output_type": "stream",
       "stream": "stderr",
       "text": [
        "\r",
        " 16%|\u2588\u258c        | 1885/11612 [00:32<02:30, 64.71it/s]"
       ]
      },
      {
       "output_type": "stream",
       "stream": "stderr",
       "text": [
        "\r",
        " 16%|\u2588\u258b        | 1892/11612 [00:32<02:29, 64.96it/s]"
       ]
      },
      {
       "output_type": "stream",
       "stream": "stderr",
       "text": [
        "\r",
        " 16%|\u2588\u258b        | 1899/11612 [00:32<02:30, 64.74it/s]"
       ]
      },
      {
       "output_type": "stream",
       "stream": "stderr",
       "text": [
        "\r",
        " 16%|\u2588\u258b        | 1906/11612 [00:32<02:29, 64.84it/s]"
       ]
      },
      {
       "output_type": "stream",
       "stream": "stderr",
       "text": [
        "\r",
        " 16%|\u2588\u258b        | 1913/11612 [00:32<02:29, 64.88it/s]"
       ]
      },
      {
       "output_type": "stream",
       "stream": "stderr",
       "text": [
        "\r",
        " 17%|\u2588\u258b        | 1920/11612 [00:32<02:29, 64.93it/s]"
       ]
      },
      {
       "output_type": "stream",
       "stream": "stderr",
       "text": [
        "\r",
        " 17%|\u2588\u258b        | 1927/11612 [00:32<02:29, 64.76it/s]"
       ]
      },
      {
       "output_type": "stream",
       "stream": "stderr",
       "text": [
        "\r",
        " 17%|\u2588\u258b        | 1934/11612 [00:32<02:30, 64.21it/s]"
       ]
      },
      {
       "output_type": "stream",
       "stream": "stderr",
       "text": [
        "\r",
        " 17%|\u2588\u258b        | 1941/11612 [00:32<02:29, 64.50it/s]"
       ]
      },
      {
       "output_type": "stream",
       "stream": "stderr",
       "text": [
        "\r",
        " 17%|\u2588\u258b        | 1948/11612 [00:33<02:28, 64.96it/s]"
       ]
      },
      {
       "output_type": "stream",
       "stream": "stderr",
       "text": [
        "\r",
        " 17%|\u2588\u258b        | 1955/11612 [00:33<02:29, 64.52it/s]"
       ]
      },
      {
       "output_type": "stream",
       "stream": "stderr",
       "text": [
        "\r",
        " 17%|\u2588\u258b        | 1962/11612 [00:33<02:30, 64.32it/s]"
       ]
      },
      {
       "output_type": "stream",
       "stream": "stderr",
       "text": [
        "\r",
        " 17%|\u2588\u258b        | 1969/11612 [00:33<02:30, 64.22it/s]"
       ]
      },
      {
       "output_type": "stream",
       "stream": "stderr",
       "text": [
        "\r",
        " 17%|\u2588\u258b        | 1976/11612 [00:33<02:31, 63.78it/s]"
       ]
      },
      {
       "output_type": "stream",
       "stream": "stderr",
       "text": [
        "\r",
        " 17%|\u2588\u258b        | 1983/11612 [00:33<02:29, 64.28it/s]"
       ]
      },
      {
       "output_type": "stream",
       "stream": "stderr",
       "text": [
        "\r",
        " 17%|\u2588\u258b        | 1990/11612 [00:33<02:28, 64.87it/s]"
       ]
      },
      {
       "output_type": "stream",
       "stream": "stderr",
       "text": [
        "\r",
        " 17%|\u2588\u258b        | 1997/11612 [00:33<02:31, 63.49it/s]"
       ]
      },
      {
       "output_type": "stream",
       "stream": "stderr",
       "text": [
        "\r",
        " 17%|\u2588\u258b        | 2004/11612 [00:33<02:31, 63.26it/s]"
       ]
      },
      {
       "output_type": "stream",
       "stream": "stderr",
       "text": [
        "\r",
        " 17%|\u2588\u258b        | 2011/11612 [00:33<02:30, 63.90it/s]"
       ]
      },
      {
       "output_type": "stream",
       "stream": "stderr",
       "text": [
        "\r",
        " 17%|\u2588\u258b        | 2018/11612 [00:34<02:30, 63.70it/s]"
       ]
      },
      {
       "output_type": "stream",
       "stream": "stderr",
       "text": [
        "\r",
        " 17%|\u2588\u258b        | 2025/11612 [00:34<02:29, 64.03it/s]"
       ]
      },
      {
       "output_type": "stream",
       "stream": "stderr",
       "text": [
        "\r",
        " 17%|\u2588\u258b        | 2032/11612 [00:34<02:28, 64.48it/s]"
       ]
      },
      {
       "output_type": "stream",
       "stream": "stderr",
       "text": [
        "\r",
        " 18%|\u2588\u258a        | 2039/11612 [00:34<02:29, 64.20it/s]"
       ]
      },
      {
       "output_type": "stream",
       "stream": "stderr",
       "text": [
        "\r",
        " 18%|\u2588\u258a        | 2046/11612 [00:34<02:28, 64.37it/s]"
       ]
      },
      {
       "output_type": "stream",
       "stream": "stderr",
       "text": [
        "\r",
        " 18%|\u2588\u258a        | 2053/11612 [00:34<02:28, 64.34it/s]"
       ]
      },
      {
       "output_type": "stream",
       "stream": "stderr",
       "text": [
        "\r",
        " 18%|\u2588\u258a        | 2060/11612 [00:34<02:28, 64.40it/s]"
       ]
      },
      {
       "output_type": "stream",
       "stream": "stderr",
       "text": [
        "\r",
        " 18%|\u2588\u258a        | 2067/11612 [00:34<02:31, 62.90it/s]"
       ]
      },
      {
       "output_type": "stream",
       "stream": "stderr",
       "text": [
        "\r",
        " 18%|\u2588\u258a        | 2074/11612 [00:34<02:29, 63.65it/s]"
       ]
      },
      {
       "output_type": "stream",
       "stream": "stderr",
       "text": [
        "\r",
        " 18%|\u2588\u258a        | 2081/11612 [00:35<02:30, 63.33it/s]"
       ]
      },
      {
       "output_type": "stream",
       "stream": "stderr",
       "text": [
        "\r",
        " 18%|\u2588\u258a        | 2088/11612 [00:35<02:29, 63.76it/s]"
       ]
      },
      {
       "output_type": "stream",
       "stream": "stderr",
       "text": [
        "\r",
        " 18%|\u2588\u258a        | 2095/11612 [00:35<02:29, 63.77it/s]"
       ]
      },
      {
       "output_type": "stream",
       "stream": "stderr",
       "text": [
        "\r",
        " 18%|\u2588\u258a        | 2102/11612 [00:35<02:27, 64.33it/s]"
       ]
      },
      {
       "output_type": "stream",
       "stream": "stderr",
       "text": [
        "\r",
        " 18%|\u2588\u258a        | 2109/11612 [00:35<02:27, 64.61it/s]"
       ]
      },
      {
       "output_type": "stream",
       "stream": "stderr",
       "text": [
        "\r",
        " 18%|\u2588\u258a        | 2116/11612 [00:35<02:27, 64.28it/s]"
       ]
      },
      {
       "output_type": "stream",
       "stream": "stderr",
       "text": [
        "\r",
        " 18%|\u2588\u258a        | 2123/11612 [00:35<02:27, 64.24it/s]"
       ]
      },
      {
       "output_type": "stream",
       "stream": "stderr",
       "text": [
        "\r",
        " 18%|\u2588\u258a        | 2130/11612 [00:35<02:27, 64.40it/s]"
       ]
      },
      {
       "output_type": "stream",
       "stream": "stderr",
       "text": [
        "\r",
        " 18%|\u2588\u258a        | 2137/11612 [00:35<02:26, 64.64it/s]"
       ]
      },
      {
       "output_type": "stream",
       "stream": "stderr",
       "text": [
        "\r",
        " 18%|\u2588\u258a        | 2144/11612 [00:36<02:25, 64.95it/s]"
       ]
      },
      {
       "output_type": "stream",
       "stream": "stderr",
       "text": [
        "\r",
        " 19%|\u2588\u258a        | 2151/11612 [00:36<02:26, 64.45it/s]"
       ]
      },
      {
       "output_type": "stream",
       "stream": "stderr",
       "text": [
        "\r",
        " 19%|\u2588\u258a        | 2158/11612 [00:36<02:26, 64.49it/s]"
       ]
      },
      {
       "output_type": "stream",
       "stream": "stderr",
       "text": [
        "\r",
        " 19%|\u2588\u258a        | 2165/11612 [00:36<02:25, 65.15it/s]"
       ]
      },
      {
       "output_type": "stream",
       "stream": "stderr",
       "text": [
        "\r",
        " 19%|\u2588\u258a        | 2172/11612 [00:36<02:27, 63.94it/s]"
       ]
      },
      {
       "output_type": "stream",
       "stream": "stderr",
       "text": [
        "\r",
        " 19%|\u2588\u2589        | 2179/11612 [00:36<02:26, 64.39it/s]"
       ]
      },
      {
       "output_type": "stream",
       "stream": "stderr",
       "text": [
        "\r",
        " 19%|\u2588\u2589        | 2186/11612 [00:36<02:26, 64.48it/s]"
       ]
      },
      {
       "output_type": "stream",
       "stream": "stderr",
       "text": [
        "\r",
        " 19%|\u2588\u2589        | 2193/11612 [00:36<02:24, 64.98it/s]"
       ]
      },
      {
       "output_type": "stream",
       "stream": "stderr",
       "text": [
        "\r",
        " 19%|\u2588\u2589        | 2200/11612 [00:36<02:24, 65.04it/s]"
       ]
      },
      {
       "output_type": "stream",
       "stream": "stderr",
       "text": [
        "\r",
        " 19%|\u2588\u2589        | 2207/11612 [00:37<02:23, 65.61it/s]"
       ]
      },
      {
       "output_type": "stream",
       "stream": "stderr",
       "text": [
        "\r",
        " 19%|\u2588\u2589        | 2214/11612 [00:37<02:23, 65.55it/s]"
       ]
      },
      {
       "output_type": "stream",
       "stream": "stderr",
       "text": [
        "\r",
        " 19%|\u2588\u2589        | 2221/11612 [00:37<02:23, 65.45it/s]"
       ]
      },
      {
       "output_type": "stream",
       "stream": "stderr",
       "text": [
        "\r",
        " 19%|\u2588\u2589        | 2228/11612 [00:37<02:22, 65.86it/s]"
       ]
      },
      {
       "output_type": "stream",
       "stream": "stderr",
       "text": [
        "\r",
        " 19%|\u2588\u2589        | 2235/11612 [00:37<02:21, 66.07it/s]"
       ]
      },
      {
       "output_type": "stream",
       "stream": "stderr",
       "text": [
        "\r",
        " 19%|\u2588\u2589        | 2242/11612 [00:37<02:22, 65.89it/s]"
       ]
      },
      {
       "output_type": "stream",
       "stream": "stderr",
       "text": [
        "\r",
        " 19%|\u2588\u2589        | 2249/11612 [00:37<02:21, 66.01it/s]"
       ]
      },
      {
       "output_type": "stream",
       "stream": "stderr",
       "text": [
        "\r",
        " 19%|\u2588\u2589        | 2256/11612 [00:37<02:21, 66.18it/s]"
       ]
      },
      {
       "output_type": "stream",
       "stream": "stderr",
       "text": [
        "\r",
        " 19%|\u2588\u2589        | 2263/11612 [00:37<02:21, 66.00it/s]"
       ]
      },
      {
       "output_type": "stream",
       "stream": "stderr",
       "text": [
        "\r",
        " 20%|\u2588\u2589        | 2270/11612 [00:37<02:21, 65.83it/s]"
       ]
      },
      {
       "output_type": "stream",
       "stream": "stderr",
       "text": [
        "\r",
        " 20%|\u2588\u2589        | 2277/11612 [00:38<02:21, 65.90it/s]"
       ]
      },
      {
       "output_type": "stream",
       "stream": "stderr",
       "text": [
        "\r",
        " 20%|\u2588\u2589        | 2284/11612 [00:38<02:20, 66.55it/s]"
       ]
      },
      {
       "output_type": "stream",
       "stream": "stderr",
       "text": [
        "\r",
        " 20%|\u2588\u2589        | 2291/11612 [00:38<02:20, 66.35it/s]"
       ]
      },
      {
       "output_type": "stream",
       "stream": "stderr",
       "text": [
        "\r",
        " 20%|\u2588\u2589        | 2298/11612 [00:38<02:20, 66.38it/s]"
       ]
      },
      {
       "output_type": "stream",
       "stream": "stderr",
       "text": [
        "\r",
        " 20%|\u2588\u2589        | 2305/11612 [00:38<02:20, 66.24it/s]"
       ]
      },
      {
       "output_type": "stream",
       "stream": "stderr",
       "text": [
        "\r",
        " 20%|\u2588\u2589        | 2312/11612 [00:38<02:22, 65.28it/s]"
       ]
      },
      {
       "output_type": "stream",
       "stream": "stderr",
       "text": [
        "\r",
        " 20%|\u2588\u2589        | 2319/11612 [00:38<02:21, 65.46it/s]"
       ]
      },
      {
       "output_type": "stream",
       "stream": "stderr",
       "text": [
        "\r",
        " 20%|\u2588\u2588        | 2326/11612 [00:38<02:20, 65.95it/s]"
       ]
      },
      {
       "output_type": "stream",
       "stream": "stderr",
       "text": [
        "\r",
        " 20%|\u2588\u2588        | 2333/11612 [00:38<02:23, 64.50it/s]"
       ]
      },
      {
       "output_type": "stream",
       "stream": "stderr",
       "text": [
        "\r",
        " 20%|\u2588\u2588        | 2340/11612 [00:39<02:21, 65.43it/s]"
       ]
      },
      {
       "output_type": "stream",
       "stream": "stderr",
       "text": [
        "\r",
        " 20%|\u2588\u2588        | 2347/11612 [00:39<02:21, 65.63it/s]"
       ]
      },
      {
       "output_type": "stream",
       "stream": "stderr",
       "text": [
        "\r",
        " 20%|\u2588\u2588        | 2354/11612 [00:39<02:20, 66.13it/s]"
       ]
      },
      {
       "output_type": "stream",
       "stream": "stderr",
       "text": [
        "\r",
        " 20%|\u2588\u2588        | 2361/11612 [00:39<02:19, 66.49it/s]"
       ]
      },
      {
       "output_type": "stream",
       "stream": "stderr",
       "text": [
        "\r",
        " 20%|\u2588\u2588        | 2368/11612 [00:39<02:18, 66.93it/s]"
       ]
      },
      {
       "output_type": "stream",
       "stream": "stderr",
       "text": [
        "\r",
        " 20%|\u2588\u2588        | 2375/11612 [00:39<02:17, 67.13it/s]"
       ]
      },
      {
       "output_type": "stream",
       "stream": "stderr",
       "text": [
        "\r",
        " 21%|\u2588\u2588        | 2382/11612 [00:39<02:18, 66.79it/s]"
       ]
      },
      {
       "output_type": "stream",
       "stream": "stderr",
       "text": [
        "\r",
        " 21%|\u2588\u2588        | 2389/11612 [00:39<02:17, 66.99it/s]"
       ]
      },
      {
       "output_type": "stream",
       "stream": "stderr",
       "text": [
        "\r",
        " 21%|\u2588\u2588        | 2396/11612 [00:39<02:17, 67.10it/s]"
       ]
      },
      {
       "output_type": "stream",
       "stream": "stderr",
       "text": [
        "\r",
        " 21%|\u2588\u2588        | 2403/11612 [00:40<02:22, 64.69it/s]"
       ]
      },
      {
       "output_type": "stream",
       "stream": "stderr",
       "text": [
        "\r",
        " 21%|\u2588\u2588        | 2410/11612 [00:40<02:22, 64.37it/s]"
       ]
      },
      {
       "output_type": "stream",
       "stream": "stderr",
       "text": [
        "\r",
        " 21%|\u2588\u2588        | 2417/11612 [00:40<02:20, 65.58it/s]"
       ]
      },
      {
       "output_type": "stream",
       "stream": "stderr",
       "text": [
        "\r",
        " 21%|\u2588\u2588        | 2424/11612 [00:40<02:18, 66.23it/s]"
       ]
      },
      {
       "output_type": "stream",
       "stream": "stderr",
       "text": [
        "\r",
        " 21%|\u2588\u2588        | 2431/11612 [00:40<02:18, 66.22it/s]"
       ]
      },
      {
       "output_type": "stream",
       "stream": "stderr",
       "text": [
        "\r",
        " 21%|\u2588\u2588        | 2438/11612 [00:40<02:17, 66.54it/s]"
       ]
      },
      {
       "output_type": "stream",
       "stream": "stderr",
       "text": [
        "\r",
        " 21%|\u2588\u2588        | 2445/11612 [00:40<02:17, 66.84it/s]"
       ]
      },
      {
       "output_type": "stream",
       "stream": "stderr",
       "text": [
        "\r",
        " 21%|\u2588\u2588        | 2452/11612 [00:40<02:16, 66.92it/s]"
       ]
      },
      {
       "output_type": "stream",
       "stream": "stderr",
       "text": [
        "\r",
        " 21%|\u2588\u2588        | 2459/11612 [00:40<02:15, 67.42it/s]"
       ]
      },
      {
       "output_type": "stream",
       "stream": "stderr",
       "text": [
        "\r",
        " 21%|\u2588\u2588        | 2466/11612 [00:40<02:15, 67.58it/s]"
       ]
      },
      {
       "output_type": "stream",
       "stream": "stderr",
       "text": [
        "\r",
        " 21%|\u2588\u2588\u258f       | 2473/11612 [00:41<02:17, 66.50it/s]"
       ]
      },
      {
       "output_type": "stream",
       "stream": "stderr",
       "text": [
        "\r",
        " 21%|\u2588\u2588\u258f       | 2480/11612 [00:41<02:17, 66.56it/s]"
       ]
      },
      {
       "output_type": "stream",
       "stream": "stderr",
       "text": [
        "\r",
        " 21%|\u2588\u2588\u258f       | 2487/11612 [00:41<02:16, 66.73it/s]"
       ]
      },
      {
       "output_type": "stream",
       "stream": "stderr",
       "text": [
        "\r",
        " 21%|\u2588\u2588\u258f       | 2494/11612 [00:41<02:15, 67.34it/s]"
       ]
      },
      {
       "output_type": "stream",
       "stream": "stderr",
       "text": [
        "\r",
        " 22%|\u2588\u2588\u258f       | 2501/11612 [00:41<02:14, 67.77it/s]"
       ]
      },
      {
       "output_type": "stream",
       "stream": "stderr",
       "text": [
        "\r",
        " 22%|\u2588\u2588\u258f       | 2508/11612 [00:41<02:14, 67.74it/s]"
       ]
      },
      {
       "output_type": "stream",
       "stream": "stderr",
       "text": [
        "\r",
        " 22%|\u2588\u2588\u258f       | 2515/11612 [00:41<02:13, 67.93it/s]"
       ]
      },
      {
       "output_type": "stream",
       "stream": "stderr",
       "text": [
        "\r",
        " 22%|\u2588\u2588\u258f       | 2522/11612 [00:41<02:14, 67.75it/s]"
       ]
      },
      {
       "output_type": "stream",
       "stream": "stderr",
       "text": [
        "\r",
        " 22%|\u2588\u2588\u258f       | 2529/11612 [00:41<02:14, 67.75it/s]"
       ]
      },
      {
       "output_type": "stream",
       "stream": "stderr",
       "text": [
        "\r",
        " 22%|\u2588\u2588\u258f       | 2536/11612 [00:41<02:13, 67.76it/s]"
       ]
      },
      {
       "output_type": "stream",
       "stream": "stderr",
       "text": [
        "\r",
        " 22%|\u2588\u2588\u258f       | 2543/11612 [00:42<02:13, 67.75it/s]"
       ]
      },
      {
       "output_type": "stream",
       "stream": "stderr",
       "text": [
        "\r",
        " 22%|\u2588\u2588\u258f       | 2550/11612 [00:42<02:13, 67.95it/s]"
       ]
      },
      {
       "output_type": "stream",
       "stream": "stderr",
       "text": [
        "\r",
        " 22%|\u2588\u2588\u258f       | 2557/11612 [00:42<02:14, 67.32it/s]"
       ]
      },
      {
       "output_type": "stream",
       "stream": "stderr",
       "text": [
        "\r",
        " 22%|\u2588\u2588\u258f       | 2564/11612 [00:42<02:14, 67.21it/s]"
       ]
      },
      {
       "output_type": "stream",
       "stream": "stderr",
       "text": [
        "\r",
        " 22%|\u2588\u2588\u258f       | 2571/11612 [00:42<02:13, 67.70it/s]"
       ]
      },
      {
       "output_type": "stream",
       "stream": "stderr",
       "text": [
        "\r",
        " 22%|\u2588\u2588\u258f       | 2578/11612 [00:42<02:12, 67.99it/s]"
       ]
      },
      {
       "output_type": "stream",
       "stream": "stderr",
       "text": [
        "\r",
        " 22%|\u2588\u2588\u258f       | 2585/11612 [00:42<02:12, 68.12it/s]"
       ]
      },
      {
       "output_type": "stream",
       "stream": "stderr",
       "text": [
        "\r",
        " 22%|\u2588\u2588\u258f       | 2592/11612 [00:42<02:12, 68.23it/s]"
       ]
      },
      {
       "output_type": "stream",
       "stream": "stderr",
       "text": [
        "\r",
        " 22%|\u2588\u2588\u258f       | 2599/11612 [00:42<02:11, 68.38it/s]"
       ]
      },
      {
       "output_type": "stream",
       "stream": "stderr",
       "text": [
        "\r",
        " 22%|\u2588\u2588\u258f       | 2606/11612 [00:43<02:11, 68.35it/s]"
       ]
      },
      {
       "output_type": "stream",
       "stream": "stderr",
       "text": [
        "\r",
        " 23%|\u2588\u2588\u258e       | 2613/11612 [00:43<02:16, 65.84it/s]"
       ]
      },
      {
       "output_type": "stream",
       "stream": "stderr",
       "text": [
        "\r",
        " 23%|\u2588\u2588\u258e       | 2620/11612 [00:43<02:14, 67.00it/s]"
       ]
      },
      {
       "output_type": "stream",
       "stream": "stderr",
       "text": [
        "\r",
        " 23%|\u2588\u2588\u258e       | 2627/11612 [00:43<02:12, 67.67it/s]"
       ]
      },
      {
       "output_type": "stream",
       "stream": "stderr",
       "text": [
        "\r",
        " 23%|\u2588\u2588\u258e       | 2634/11612 [00:43<02:12, 67.83it/s]"
       ]
      },
      {
       "output_type": "stream",
       "stream": "stderr",
       "text": [
        "\r",
        " 23%|\u2588\u2588\u258e       | 2641/11612 [00:43<02:11, 68.21it/s]"
       ]
      },
      {
       "output_type": "stream",
       "stream": "stderr",
       "text": [
        "\r",
        " 23%|\u2588\u2588\u258e       | 2648/11612 [00:43<02:10, 68.49it/s]"
       ]
      },
      {
       "output_type": "stream",
       "stream": "stderr",
       "text": [
        "\r",
        " 23%|\u2588\u2588\u258e       | 2656/11612 [00:43<02:10, 68.81it/s]"
       ]
      },
      {
       "output_type": "stream",
       "stream": "stderr",
       "text": [
        "\r",
        " 23%|\u2588\u2588\u258e       | 2663/11612 [00:43<02:10, 68.53it/s]"
       ]
      },
      {
       "output_type": "stream",
       "stream": "stderr",
       "text": [
        "\r",
        " 23%|\u2588\u2588\u258e       | 2670/11612 [00:43<02:11, 68.14it/s]"
       ]
      },
      {
       "output_type": "stream",
       "stream": "stderr",
       "text": [
        "\r",
        " 23%|\u2588\u2588\u258e       | 2677/11612 [00:44<02:11, 68.11it/s]"
       ]
      },
      {
       "output_type": "stream",
       "stream": "stderr",
       "text": [
        "\r",
        " 23%|\u2588\u2588\u258e       | 2684/11612 [00:44<02:10, 68.62it/s]"
       ]
      },
      {
       "output_type": "stream",
       "stream": "stderr",
       "text": [
        "\r",
        " 23%|\u2588\u2588\u258e       | 2692/11612 [00:44<02:09, 69.12it/s]"
       ]
      },
      {
       "output_type": "stream",
       "stream": "stderr",
       "text": [
        "\r",
        " 23%|\u2588\u2588\u258e       | 2700/11612 [00:44<02:08, 69.58it/s]"
       ]
      },
      {
       "output_type": "stream",
       "stream": "stderr",
       "text": [
        "\r",
        " 23%|\u2588\u2588\u258e       | 2707/11612 [00:44<02:08, 69.47it/s]"
       ]
      },
      {
       "output_type": "stream",
       "stream": "stderr",
       "text": [
        "\r",
        " 23%|\u2588\u2588\u258e       | 2714/11612 [00:44<02:08, 69.28it/s]"
       ]
      },
      {
       "output_type": "stream",
       "stream": "stderr",
       "text": [
        "\r",
        " 23%|\u2588\u2588\u258e       | 2722/11612 [00:44<02:07, 69.72it/s]"
       ]
      },
      {
       "output_type": "stream",
       "stream": "stderr",
       "text": [
        "\r",
        " 24%|\u2588\u2588\u258e       | 2729/11612 [00:44<02:07, 69.69it/s]"
       ]
      },
      {
       "output_type": "stream",
       "stream": "stderr",
       "text": [
        "\r",
        " 24%|\u2588\u2588\u258e       | 2737/11612 [00:44<02:06, 69.92it/s]"
       ]
      },
      {
       "output_type": "stream",
       "stream": "stderr",
       "text": [
        "\r",
        " 24%|\u2588\u2588\u258e       | 2744/11612 [00:45<02:06, 69.91it/s]"
       ]
      },
      {
       "output_type": "stream",
       "stream": "stderr",
       "text": [
        "\r",
        " 24%|\u2588\u2588\u258e       | 2752/11612 [00:45<02:06, 70.09it/s]"
       ]
      },
      {
       "output_type": "stream",
       "stream": "stderr",
       "text": [
        "\r",
        " 24%|\u2588\u2588\u258d       | 2760/11612 [00:45<02:06, 69.93it/s]"
       ]
      },
      {
       "output_type": "stream",
       "stream": "stderr",
       "text": [
        "\r",
        " 24%|\u2588\u2588\u258d       | 2768/11612 [00:45<02:06, 69.71it/s]"
       ]
      },
      {
       "output_type": "stream",
       "stream": "stderr",
       "text": [
        "\r",
        " 24%|\u2588\u2588\u258d       | 2776/11612 [00:45<02:06, 69.81it/s]"
       ]
      },
      {
       "output_type": "stream",
       "stream": "stderr",
       "text": [
        "\r",
        " 24%|\u2588\u2588\u258d       | 2783/11612 [00:45<02:06, 69.86it/s]"
       ]
      },
      {
       "output_type": "stream",
       "stream": "stderr",
       "text": [
        "\r",
        " 24%|\u2588\u2588\u258d       | 2791/11612 [00:45<02:05, 70.05it/s]"
       ]
      },
      {
       "output_type": "stream",
       "stream": "stderr",
       "text": [
        "\r",
        " 24%|\u2588\u2588\u258d       | 2799/11612 [00:45<02:06, 69.70it/s]"
       ]
      },
      {
       "output_type": "stream",
       "stream": "stderr",
       "text": [
        "\r",
        " 24%|\u2588\u2588\u258d       | 2806/11612 [00:45<02:06, 69.47it/s]"
       ]
      },
      {
       "output_type": "stream",
       "stream": "stderr",
       "text": [
        "\r",
        " 24%|\u2588\u2588\u258d       | 2813/11612 [00:46<02:06, 69.56it/s]"
       ]
      },
      {
       "output_type": "stream",
       "stream": "stderr",
       "text": [
        "\r",
        " 24%|\u2588\u2588\u258d       | 2821/11612 [00:46<02:06, 69.57it/s]"
       ]
      },
      {
       "output_type": "stream",
       "stream": "stderr",
       "text": [
        "\r",
        " 24%|\u2588\u2588\u258d       | 2828/11612 [00:46<02:08, 68.17it/s]"
       ]
      },
      {
       "output_type": "stream",
       "stream": "stderr",
       "text": [
        "\r",
        " 24%|\u2588\u2588\u258d       | 2836/11612 [00:46<02:07, 68.86it/s]"
       ]
      },
      {
       "output_type": "stream",
       "stream": "stderr",
       "text": [
        "\r",
        " 24%|\u2588\u2588\u258d       | 2843/11612 [00:46<02:07, 68.89it/s]"
       ]
      },
      {
       "output_type": "stream",
       "stream": "stderr",
       "text": [
        "\r",
        " 25%|\u2588\u2588\u258d       | 2851/11612 [00:46<02:06, 69.53it/s]"
       ]
      },
      {
       "output_type": "stream",
       "stream": "stderr",
       "text": [
        "\r",
        " 25%|\u2588\u2588\u258d       | 2859/11612 [00:46<02:05, 69.69it/s]"
       ]
      },
      {
       "output_type": "stream",
       "stream": "stderr",
       "text": [
        "\r",
        " 25%|\u2588\u2588\u258d       | 2867/11612 [00:46<02:04, 70.12it/s]"
       ]
      },
      {
       "output_type": "stream",
       "stream": "stderr",
       "text": [
        "\r",
        " 25%|\u2588\u2588\u258d       | 2875/11612 [00:46<02:04, 70.29it/s]"
       ]
      },
      {
       "output_type": "stream",
       "stream": "stderr",
       "text": [
        "\r",
        " 25%|\u2588\u2588\u258d       | 2883/11612 [00:47<02:04, 70.12it/s]"
       ]
      },
      {
       "output_type": "stream",
       "stream": "stderr",
       "text": [
        "\r",
        " 25%|\u2588\u2588\u258d       | 2891/11612 [00:47<02:04, 69.99it/s]"
       ]
      },
      {
       "output_type": "stream",
       "stream": "stderr",
       "text": [
        "\r",
        " 25%|\u2588\u2588\u258d       | 2899/11612 [00:47<02:05, 69.64it/s]"
       ]
      },
      {
       "output_type": "stream",
       "stream": "stderr",
       "text": [
        "\r",
        " 25%|\u2588\u2588\u258c       | 2907/11612 [00:47<02:04, 70.13it/s]"
       ]
      },
      {
       "output_type": "stream",
       "stream": "stderr",
       "text": [
        "\r",
        " 25%|\u2588\u2588\u258c       | 2915/11612 [00:47<02:03, 70.41it/s]"
       ]
      },
      {
       "output_type": "stream",
       "stream": "stderr",
       "text": [
        "\r",
        " 25%|\u2588\u2588\u258c       | 2923/11612 [00:47<02:02, 70.89it/s]"
       ]
      },
      {
       "output_type": "stream",
       "stream": "stderr",
       "text": [
        "\r",
        " 25%|\u2588\u2588\u258c       | 2931/11612 [00:47<02:02, 71.14it/s]"
       ]
      },
      {
       "output_type": "stream",
       "stream": "stderr",
       "text": [
        "\r",
        " 25%|\u2588\u2588\u258c       | 2939/11612 [00:47<02:02, 71.01it/s]"
       ]
      },
      {
       "output_type": "stream",
       "stream": "stderr",
       "text": [
        "\r",
        " 25%|\u2588\u2588\u258c       | 2947/11612 [00:47<02:02, 70.86it/s]"
       ]
      },
      {
       "output_type": "stream",
       "stream": "stderr",
       "text": [
        "\r",
        " 25%|\u2588\u2588\u258c       | 2955/11612 [00:48<02:01, 71.11it/s]"
       ]
      },
      {
       "output_type": "stream",
       "stream": "stderr",
       "text": [
        "\r",
        " 26%|\u2588\u2588\u258c       | 2963/11612 [00:48<02:01, 71.35it/s]"
       ]
      },
      {
       "output_type": "stream",
       "stream": "stderr",
       "text": [
        "\r",
        " 26%|\u2588\u2588\u258c       | 2971/11612 [00:48<02:03, 70.00it/s]"
       ]
      },
      {
       "output_type": "stream",
       "stream": "stderr",
       "text": [
        "\r",
        " 26%|\u2588\u2588\u258c       | 2979/11612 [00:48<02:02, 70.72it/s]"
       ]
      },
      {
       "output_type": "stream",
       "stream": "stderr",
       "text": [
        "\r",
        " 26%|\u2588\u2588\u258c       | 2987/11612 [00:48<02:01, 70.94it/s]"
       ]
      },
      {
       "output_type": "stream",
       "stream": "stderr",
       "text": [
        "\r",
        " 26%|\u2588\u2588\u258c       | 2995/11612 [00:48<02:00, 71.44it/s]"
       ]
      },
      {
       "output_type": "stream",
       "stream": "stderr",
       "text": [
        "\r",
        " 26%|\u2588\u2588\u258c       | 3003/11612 [00:48<02:00, 71.46it/s]"
       ]
      },
      {
       "output_type": "stream",
       "stream": "stderr",
       "text": [
        "\r",
        " 26%|\u2588\u2588\u258c       | 3011/11612 [00:48<02:00, 71.25it/s]"
       ]
      },
      {
       "output_type": "stream",
       "stream": "stderr",
       "text": [
        "\r",
        " 26%|\u2588\u2588\u258c       | 3019/11612 [00:48<01:59, 71.64it/s]"
       ]
      },
      {
       "output_type": "stream",
       "stream": "stderr",
       "text": [
        "\r",
        " 26%|\u2588\u2588\u258c       | 3027/11612 [00:49<01:58, 72.42it/s]"
       ]
      },
      {
       "output_type": "stream",
       "stream": "stderr",
       "text": [
        "\r",
        " 26%|\u2588\u2588\u258c       | 3035/11612 [00:49<01:57, 72.69it/s]"
       ]
      },
      {
       "output_type": "stream",
       "stream": "stderr",
       "text": [
        "\r",
        " 26%|\u2588\u2588\u258c       | 3043/11612 [00:49<01:59, 71.60it/s]"
       ]
      },
      {
       "output_type": "stream",
       "stream": "stderr",
       "text": [
        "\r",
        " 26%|\u2588\u2588\u258b       | 3051/11612 [00:49<01:58, 71.95it/s]"
       ]
      },
      {
       "output_type": "stream",
       "stream": "stderr",
       "text": [
        "\r",
        " 26%|\u2588\u2588\u258b       | 3059/11612 [00:49<01:58, 72.20it/s]"
       ]
      },
      {
       "output_type": "stream",
       "stream": "stderr",
       "text": [
        "\r",
        " 26%|\u2588\u2588\u258b       | 3067/11612 [00:49<01:58, 72.05it/s]"
       ]
      },
      {
       "output_type": "stream",
       "stream": "stderr",
       "text": [
        "\r",
        " 26%|\u2588\u2588\u258b       | 3075/11612 [00:49<01:58, 71.78it/s]"
       ]
      },
      {
       "output_type": "stream",
       "stream": "stderr",
       "text": [
        "\r",
        " 27%|\u2588\u2588\u258b       | 3083/11612 [00:49<01:59, 71.53it/s]"
       ]
      },
      {
       "output_type": "stream",
       "stream": "stderr",
       "text": [
        "\r",
        " 27%|\u2588\u2588\u258b       | 3091/11612 [00:49<01:59, 71.46it/s]"
       ]
      },
      {
       "output_type": "stream",
       "stream": "stderr",
       "text": [
        "\r",
        " 27%|\u2588\u2588\u258b       | 3099/11612 [00:50<01:59, 71.11it/s]"
       ]
      },
      {
       "output_type": "stream",
       "stream": "stderr",
       "text": [
        "\r",
        " 27%|\u2588\u2588\u258b       | 3107/11612 [00:50<01:59, 70.95it/s]"
       ]
      },
      {
       "output_type": "stream",
       "stream": "stderr",
       "text": [
        "\r",
        " 27%|\u2588\u2588\u258b       | 3115/11612 [00:50<01:59, 71.14it/s]"
       ]
      },
      {
       "output_type": "stream",
       "stream": "stderr",
       "text": [
        "\r",
        " 27%|\u2588\u2588\u258b       | 3123/11612 [00:50<02:00, 70.16it/s]"
       ]
      },
      {
       "output_type": "stream",
       "stream": "stderr",
       "text": [
        "\r",
        " 27%|\u2588\u2588\u258b       | 3131/11612 [00:50<02:00, 70.41it/s]"
       ]
      },
      {
       "output_type": "stream",
       "stream": "stderr",
       "text": [
        "\r",
        " 27%|\u2588\u2588\u258b       | 3139/11612 [00:50<01:59, 70.77it/s]"
       ]
      },
      {
       "output_type": "stream",
       "stream": "stderr",
       "text": [
        "\r",
        " 27%|\u2588\u2588\u258b       | 3147/11612 [00:50<01:58, 71.42it/s]"
       ]
      },
      {
       "output_type": "stream",
       "stream": "stderr",
       "text": [
        "\r",
        " 27%|\u2588\u2588\u258b       | 3155/11612 [00:50<01:57, 71.81it/s]"
       ]
      },
      {
       "output_type": "stream",
       "stream": "stderr",
       "text": [
        "\r",
        " 27%|\u2588\u2588\u258b       | 3163/11612 [00:50<01:56, 72.32it/s]"
       ]
      },
      {
       "output_type": "stream",
       "stream": "stderr",
       "text": [
        "\r",
        " 27%|\u2588\u2588\u258b       | 3171/11612 [00:51<01:57, 72.02it/s]"
       ]
      },
      {
       "output_type": "stream",
       "stream": "stderr",
       "text": [
        "\r",
        " 27%|\u2588\u2588\u258b       | 3179/11612 [00:51<01:56, 72.13it/s]"
       ]
      },
      {
       "output_type": "stream",
       "stream": "stderr",
       "text": [
        "\r",
        " 27%|\u2588\u2588\u258b       | 3187/11612 [00:51<01:55, 72.70it/s]"
       ]
      },
      {
       "output_type": "stream",
       "stream": "stderr",
       "text": [
        "\r",
        " 28%|\u2588\u2588\u258a       | 3195/11612 [00:51<01:54, 73.31it/s]"
       ]
      },
      {
       "output_type": "stream",
       "stream": "stderr",
       "text": [
        "\r",
        " 28%|\u2588\u2588\u258a       | 3203/11612 [00:51<01:55, 72.91it/s]"
       ]
      },
      {
       "output_type": "stream",
       "stream": "stderr",
       "text": [
        "\r",
        " 28%|\u2588\u2588\u258a       | 3211/11612 [00:51<01:55, 73.02it/s]"
       ]
      },
      {
       "output_type": "stream",
       "stream": "stderr",
       "text": [
        "\r",
        " 28%|\u2588\u2588\u258a       | 3219/11612 [00:51<01:55, 72.96it/s]"
       ]
      },
      {
       "output_type": "stream",
       "stream": "stderr",
       "text": [
        "\r",
        " 28%|\u2588\u2588\u258a       | 3227/11612 [00:51<01:53, 73.58it/s]"
       ]
      },
      {
       "output_type": "stream",
       "stream": "stderr",
       "text": [
        "\r",
        " 28%|\u2588\u2588\u258a       | 3235/11612 [00:51<01:53, 73.73it/s]"
       ]
      },
      {
       "output_type": "stream",
       "stream": "stderr",
       "text": [
        "\r",
        " 28%|\u2588\u2588\u258a       | 3243/11612 [00:52<01:53, 73.80it/s]"
       ]
      },
      {
       "output_type": "stream",
       "stream": "stderr",
       "text": [
        "\r",
        " 28%|\u2588\u2588\u258a       | 3251/11612 [00:52<01:52, 74.08it/s]"
       ]
      },
      {
       "output_type": "stream",
       "stream": "stderr",
       "text": [
        "\r",
        " 28%|\u2588\u2588\u258a       | 3259/11612 [00:52<01:53, 73.63it/s]"
       ]
      },
      {
       "output_type": "stream",
       "stream": "stderr",
       "text": [
        "\r",
        " 28%|\u2588\u2588\u258a       | 3267/11612 [00:52<01:52, 74.01it/s]"
       ]
      },
      {
       "output_type": "stream",
       "stream": "stderr",
       "text": [
        "\r",
        " 28%|\u2588\u2588\u258a       | 3275/11612 [00:52<01:53, 73.26it/s]"
       ]
      },
      {
       "output_type": "stream",
       "stream": "stderr",
       "text": [
        "\r",
        " 28%|\u2588\u2588\u258a       | 3283/11612 [00:52<01:53, 73.23it/s]"
       ]
      },
      {
       "output_type": "stream",
       "stream": "stderr",
       "text": [
        "\r",
        " 28%|\u2588\u2588\u258a       | 3291/11612 [00:52<01:53, 73.47it/s]"
       ]
      },
      {
       "output_type": "stream",
       "stream": "stderr",
       "text": [
        "\r",
        " 28%|\u2588\u2588\u258a       | 3299/11612 [00:52<01:52, 73.73it/s]"
       ]
      },
      {
       "output_type": "stream",
       "stream": "stderr",
       "text": [
        "\r",
        " 28%|\u2588\u2588\u258a       | 3307/11612 [00:52<01:52, 73.99it/s]"
       ]
      },
      {
       "output_type": "stream",
       "stream": "stderr",
       "text": [
        "\r",
        " 29%|\u2588\u2588\u258a       | 3315/11612 [00:53<01:52, 73.66it/s]"
       ]
      },
      {
       "output_type": "stream",
       "stream": "stderr",
       "text": [
        "\r",
        " 29%|\u2588\u2588\u258a       | 3323/11612 [00:53<01:51, 74.53it/s]"
       ]
      },
      {
       "output_type": "stream",
       "stream": "stderr",
       "text": [
        "\r",
        " 29%|\u2588\u2588\u258a       | 3331/11612 [00:53<01:50, 75.24it/s]"
       ]
      },
      {
       "output_type": "stream",
       "stream": "stderr",
       "text": [
        "\r",
        " 29%|\u2588\u2588\u2589       | 3339/11612 [00:53<01:51, 74.49it/s]"
       ]
      },
      {
       "output_type": "stream",
       "stream": "stderr",
       "text": [
        "\r",
        " 29%|\u2588\u2588\u2589       | 3347/11612 [00:53<01:50, 75.11it/s]"
       ]
      },
      {
       "output_type": "stream",
       "stream": "stderr",
       "text": [
        "\r",
        " 29%|\u2588\u2588\u2589       | 3355/11612 [00:53<01:49, 75.67it/s]"
       ]
      },
      {
       "output_type": "stream",
       "stream": "stderr",
       "text": [
        "\r",
        " 29%|\u2588\u2588\u2589       | 3363/11612 [00:53<01:49, 75.66it/s]"
       ]
      },
      {
       "output_type": "stream",
       "stream": "stderr",
       "text": [
        "\r",
        " 29%|\u2588\u2588\u2589       | 3371/11612 [00:53<01:48, 75.87it/s]"
       ]
      },
      {
       "output_type": "stream",
       "stream": "stderr",
       "text": [
        "\r",
        " 29%|\u2588\u2588\u2589       | 3379/11612 [00:53<01:47, 76.42it/s]"
       ]
      },
      {
       "output_type": "stream",
       "stream": "stderr",
       "text": [
        "\r",
        " 29%|\u2588\u2588\u2589       | 3387/11612 [00:53<01:47, 76.87it/s]"
       ]
      },
      {
       "output_type": "stream",
       "stream": "stderr",
       "text": [
        "\r",
        " 29%|\u2588\u2588\u2589       | 3395/11612 [00:54<01:47, 76.28it/s]"
       ]
      },
      {
       "output_type": "stream",
       "stream": "stderr",
       "text": [
        "\r",
        " 29%|\u2588\u2588\u2589       | 3403/11612 [00:54<01:47, 76.69it/s]"
       ]
      },
      {
       "output_type": "stream",
       "stream": "stderr",
       "text": [
        "\r",
        " 29%|\u2588\u2588\u2589       | 3411/11612 [00:54<01:48, 75.84it/s]"
       ]
      },
      {
       "output_type": "stream",
       "stream": "stderr",
       "text": [
        "\r",
        " 29%|\u2588\u2588\u2589       | 3419/11612 [00:54<01:48, 75.63it/s]"
       ]
      },
      {
       "output_type": "stream",
       "stream": "stderr",
       "text": [
        "\r",
        " 30%|\u2588\u2588\u2589       | 3427/11612 [00:54<01:47, 76.30it/s]"
       ]
      },
      {
       "output_type": "stream",
       "stream": "stderr",
       "text": [
        "\r",
        " 30%|\u2588\u2588\u2589       | 3435/11612 [00:54<01:47, 76.34it/s]"
       ]
      },
      {
       "output_type": "stream",
       "stream": "stderr",
       "text": [
        "\r",
        " 30%|\u2588\u2588\u2589       | 3443/11612 [00:54<01:46, 76.77it/s]"
       ]
      },
      {
       "output_type": "stream",
       "stream": "stderr",
       "text": [
        "\r",
        " 30%|\u2588\u2588\u2589       | 3451/11612 [00:54<01:45, 77.40it/s]"
       ]
      },
      {
       "output_type": "stream",
       "stream": "stderr",
       "text": [
        "\r",
        " 30%|\u2588\u2588\u2589       | 3459/11612 [00:54<01:45, 77.41it/s]"
       ]
      },
      {
       "output_type": "stream",
       "stream": "stderr",
       "text": [
        "\r",
        " 30%|\u2588\u2588\u2589       | 3467/11612 [00:54<01:44, 77.68it/s]"
       ]
      },
      {
       "output_type": "stream",
       "stream": "stderr",
       "text": [
        "\r",
        " 30%|\u2588\u2588\u2589       | 3475/11612 [00:55<01:46, 76.43it/s]"
       ]
      },
      {
       "output_type": "stream",
       "stream": "stderr",
       "text": [
        "\r",
        " 30%|\u2588\u2588\u2589       | 3483/11612 [00:55<01:45, 77.11it/s]"
       ]
      },
      {
       "output_type": "stream",
       "stream": "stderr",
       "text": [
        "\r",
        " 30%|\u2588\u2588\u2588       | 3491/11612 [00:55<01:44, 77.47it/s]"
       ]
      },
      {
       "output_type": "stream",
       "stream": "stderr",
       "text": [
        "\r",
        " 30%|\u2588\u2588\u2588       | 3499/11612 [00:55<01:45, 77.17it/s]"
       ]
      },
      {
       "output_type": "stream",
       "stream": "stderr",
       "text": [
        "\r",
        " 30%|\u2588\u2588\u2588       | 3507/11612 [00:55<01:44, 77.60it/s]"
       ]
      },
      {
       "output_type": "stream",
       "stream": "stderr",
       "text": [
        "\r",
        " 30%|\u2588\u2588\u2588       | 3515/11612 [00:55<01:43, 77.86it/s]"
       ]
      },
      {
       "output_type": "stream",
       "stream": "stderr",
       "text": [
        "\r",
        " 30%|\u2588\u2588\u2588       | 3523/11612 [00:55<01:43, 78.16it/s]"
       ]
      },
      {
       "output_type": "stream",
       "stream": "stderr",
       "text": [
        "\r",
        " 30%|\u2588\u2588\u2588       | 3531/11612 [00:55<01:43, 78.18it/s]"
       ]
      },
      {
       "output_type": "stream",
       "stream": "stderr",
       "text": [
        "\r",
        " 30%|\u2588\u2588\u2588       | 3539/11612 [00:55<01:43, 78.35it/s]"
       ]
      },
      {
       "output_type": "stream",
       "stream": "stderr",
       "text": [
        "\r",
        " 31%|\u2588\u2588\u2588       | 3548/11612 [00:56<01:42, 78.87it/s]"
       ]
      },
      {
       "output_type": "stream",
       "stream": "stderr",
       "text": [
        "\r",
        " 31%|\u2588\u2588\u2588       | 3556/11612 [00:56<01:41, 79.18it/s]"
       ]
      },
      {
       "output_type": "stream",
       "stream": "stderr",
       "text": [
        "\r",
        " 31%|\u2588\u2588\u2588       | 3565/11612 [00:56<01:41, 79.27it/s]"
       ]
      },
      {
       "output_type": "stream",
       "stream": "stderr",
       "text": [
        "\r",
        " 31%|\u2588\u2588\u2588       | 3573/11612 [00:56<01:42, 78.19it/s]"
       ]
      },
      {
       "output_type": "stream",
       "stream": "stderr",
       "text": [
        "\r",
        " 31%|\u2588\u2588\u2588       | 3581/11612 [00:56<01:43, 77.89it/s]"
       ]
      },
      {
       "output_type": "stream",
       "stream": "stderr",
       "text": [
        "\r",
        " 31%|\u2588\u2588\u2588       | 3589/11612 [00:56<01:43, 77.70it/s]"
       ]
      },
      {
       "output_type": "stream",
       "stream": "stderr",
       "text": [
        "\r",
        " 31%|\u2588\u2588\u2588       | 3597/11612 [00:56<01:42, 78.11it/s]"
       ]
      },
      {
       "output_type": "stream",
       "stream": "stderr",
       "text": [
        "\r",
        " 31%|\u2588\u2588\u2588       | 3605/11612 [00:56<01:41, 78.52it/s]"
       ]
      },
      {
       "output_type": "stream",
       "stream": "stderr",
       "text": [
        "\r",
        " 31%|\u2588\u2588\u2588       | 3613/11612 [00:56<01:41, 78.64it/s]"
       ]
      },
      {
       "output_type": "stream",
       "stream": "stderr",
       "text": [
        "\r",
        " 31%|\u2588\u2588\u2588       | 3621/11612 [00:56<01:41, 78.99it/s]"
       ]
      },
      {
       "output_type": "stream",
       "stream": "stderr",
       "text": [
        "\r",
        " 31%|\u2588\u2588\u2588\u258f      | 3629/11612 [00:57<01:41, 78.73it/s]"
       ]
      },
      {
       "output_type": "stream",
       "stream": "stderr",
       "text": [
        "\r",
        " 31%|\u2588\u2588\u2588\u258f      | 3637/11612 [00:57<01:42, 78.18it/s]"
       ]
      },
      {
       "output_type": "stream",
       "stream": "stderr",
       "text": [
        "\r",
        " 31%|\u2588\u2588\u2588\u258f      | 3645/11612 [00:57<01:42, 77.88it/s]"
       ]
      },
      {
       "output_type": "stream",
       "stream": "stderr",
       "text": [
        "\r",
        " 31%|\u2588\u2588\u2588\u258f      | 3653/11612 [00:57<01:43, 77.03it/s]"
       ]
      },
      {
       "output_type": "stream",
       "stream": "stderr",
       "text": [
        "\r",
        " 32%|\u2588\u2588\u2588\u258f      | 3662/11612 [00:57<01:41, 77.95it/s]"
       ]
      },
      {
       "output_type": "stream",
       "stream": "stderr",
       "text": [
        "\r",
        " 32%|\u2588\u2588\u2588\u258f      | 3670/11612 [00:57<01:41, 78.48it/s]"
       ]
      },
      {
       "output_type": "stream",
       "stream": "stderr",
       "text": [
        "\r",
        " 32%|\u2588\u2588\u2588\u258f      | 3679/11612 [00:57<01:40, 78.95it/s]"
       ]
      },
      {
       "output_type": "stream",
       "stream": "stderr",
       "text": [
        "\r",
        " 32%|\u2588\u2588\u2588\u258f      | 3688/11612 [00:57<01:39, 79.34it/s]"
       ]
      },
      {
       "output_type": "stream",
       "stream": "stderr",
       "text": [
        "\r",
        " 32%|\u2588\u2588\u2588\u258f      | 3697/11612 [00:57<01:39, 79.60it/s]"
       ]
      },
      {
       "output_type": "stream",
       "stream": "stderr",
       "text": [
        "\r",
        " 32%|\u2588\u2588\u2588\u258f      | 3705/11612 [00:58<01:39, 79.12it/s]"
       ]
      },
      {
       "output_type": "stream",
       "stream": "stderr",
       "text": [
        "\r",
        " 32%|\u2588\u2588\u2588\u258f      | 3714/11612 [00:58<01:39, 79.44it/s]"
       ]
      },
      {
       "output_type": "stream",
       "stream": "stderr",
       "text": [
        "\r",
        " 32%|\u2588\u2588\u2588\u258f      | 3723/11612 [00:58<01:38, 79.77it/s]"
       ]
      },
      {
       "output_type": "stream",
       "stream": "stderr",
       "text": [
        "\r",
        " 32%|\u2588\u2588\u2588\u258f      | 3732/11612 [00:58<01:38, 80.11it/s]"
       ]
      },
      {
       "output_type": "stream",
       "stream": "stderr",
       "text": [
        "\r",
        " 32%|\u2588\u2588\u2588\u258f      | 3741/11612 [00:58<01:39, 79.47it/s]"
       ]
      },
      {
       "output_type": "stream",
       "stream": "stderr",
       "text": [
        "\r",
        " 32%|\u2588\u2588\u2588\u258f      | 3749/11612 [00:58<01:38, 79.48it/s]"
       ]
      },
      {
       "output_type": "stream",
       "stream": "stderr",
       "text": [
        "\r",
        " 32%|\u2588\u2588\u2588\u258f      | 3757/11612 [00:58<01:38, 79.60it/s]"
       ]
      },
      {
       "output_type": "stream",
       "stream": "stderr",
       "text": [
        "\r",
        " 32%|\u2588\u2588\u2588\u258f      | 3766/11612 [00:58<01:38, 79.79it/s]"
       ]
      },
      {
       "output_type": "stream",
       "stream": "stderr",
       "text": [
        "\r",
        " 33%|\u2588\u2588\u2588\u258e      | 3775/11612 [00:58<01:37, 80.15it/s]"
       ]
      },
      {
       "output_type": "stream",
       "stream": "stderr",
       "text": [
        "\r",
        " 33%|\u2588\u2588\u2588\u258e      | 3784/11612 [00:59<01:37, 80.38it/s]"
       ]
      },
      {
       "output_type": "stream",
       "stream": "stderr",
       "text": [
        "\r",
        " 33%|\u2588\u2588\u2588\u258e      | 3793/11612 [00:59<01:37, 80.45it/s]"
       ]
      },
      {
       "output_type": "stream",
       "stream": "stderr",
       "text": [
        "\r",
        " 33%|\u2588\u2588\u2588\u258e      | 3802/11612 [00:59<01:36, 80.62it/s]"
       ]
      },
      {
       "output_type": "stream",
       "stream": "stderr",
       "text": [
        "\r",
        " 33%|\u2588\u2588\u2588\u258e      | 3811/11612 [00:59<01:36, 80.61it/s]"
       ]
      },
      {
       "output_type": "stream",
       "stream": "stderr",
       "text": [
        "\r",
        " 33%|\u2588\u2588\u2588\u258e      | 3820/11612 [00:59<01:37, 80.12it/s]"
       ]
      },
      {
       "output_type": "stream",
       "stream": "stderr",
       "text": [
        "\r",
        " 33%|\u2588\u2588\u2588\u258e      | 3829/11612 [00:59<01:36, 80.62it/s]"
       ]
      },
      {
       "output_type": "stream",
       "stream": "stderr",
       "text": [
        "\r",
        " 33%|\u2588\u2588\u2588\u258e      | 3838/11612 [00:59<01:36, 80.72it/s]"
       ]
      },
      {
       "output_type": "stream",
       "stream": "stderr",
       "text": [
        "\r",
        " 33%|\u2588\u2588\u2588\u258e      | 3847/11612 [00:59<01:36, 80.67it/s]"
       ]
      },
      {
       "output_type": "stream",
       "stream": "stderr",
       "text": [
        "\r",
        " 33%|\u2588\u2588\u2588\u258e      | 3856/11612 [00:59<01:35, 80.90it/s]"
       ]
      },
      {
       "output_type": "stream",
       "stream": "stderr",
       "text": [
        "\r",
        " 33%|\u2588\u2588\u2588\u258e      | 3865/11612 [01:00<01:35, 81.10it/s]"
       ]
      },
      {
       "output_type": "stream",
       "stream": "stderr",
       "text": [
        "\r",
        " 33%|\u2588\u2588\u2588\u258e      | 3874/11612 [01:00<01:35, 81.32it/s]"
       ]
      },
      {
       "output_type": "stream",
       "stream": "stderr",
       "text": [
        "\r",
        " 33%|\u2588\u2588\u2588\u258e      | 3883/11612 [01:00<01:36, 79.74it/s]"
       ]
      },
      {
       "output_type": "stream",
       "stream": "stderr",
       "text": [
        "\r",
        " 34%|\u2588\u2588\u2588\u258e      | 3891/11612 [01:00<01:36, 79.72it/s]"
       ]
      },
      {
       "output_type": "stream",
       "stream": "stderr",
       "text": [
        "\r",
        " 34%|\u2588\u2588\u2588\u258e      | 3899/11612 [01:00<01:37, 78.73it/s]"
       ]
      },
      {
       "output_type": "stream",
       "stream": "stderr",
       "text": [
        "\r",
        " 34%|\u2588\u2588\u2588\u258e      | 3908/11612 [01:00<01:36, 79.71it/s]"
       ]
      },
      {
       "output_type": "stream",
       "stream": "stderr",
       "text": [
        "\r",
        " 34%|\u2588\u2588\u2588\u258e      | 3917/11612 [01:00<01:36, 79.90it/s]"
       ]
      },
      {
       "output_type": "stream",
       "stream": "stderr",
       "text": [
        "\r",
        " 34%|\u2588\u2588\u2588\u258d      | 3926/11612 [01:00<01:35, 80.39it/s]"
       ]
      },
      {
       "output_type": "stream",
       "stream": "stderr",
       "text": [
        "\r",
        " 34%|\u2588\u2588\u2588\u258d      | 3935/11612 [01:00<01:36, 79.77it/s]"
       ]
      },
      {
       "output_type": "stream",
       "stream": "stderr",
       "text": [
        "\r",
        " 34%|\u2588\u2588\u2588\u258d      | 3944/11612 [01:01<01:34, 80.92it/s]"
       ]
      },
      {
       "output_type": "stream",
       "stream": "stderr",
       "text": [
        "\r",
        " 34%|\u2588\u2588\u2588\u258d      | 3953/11612 [01:01<01:33, 81.50it/s]"
       ]
      },
      {
       "output_type": "stream",
       "stream": "stderr",
       "text": [
        "\r",
        " 34%|\u2588\u2588\u2588\u258d      | 3962/11612 [01:01<01:33, 82.10it/s]"
       ]
      },
      {
       "output_type": "stream",
       "stream": "stderr",
       "text": [
        "\r",
        " 34%|\u2588\u2588\u2588\u258d      | 3971/11612 [01:01<01:32, 82.55it/s]"
       ]
      },
      {
       "output_type": "stream",
       "stream": "stderr",
       "text": [
        "\r",
        " 34%|\u2588\u2588\u2588\u258d      | 3980/11612 [01:01<01:32, 82.09it/s]"
       ]
      },
      {
       "output_type": "stream",
       "stream": "stderr",
       "text": [
        "\r",
        " 34%|\u2588\u2588\u2588\u258d      | 3989/11612 [01:01<01:35, 79.74it/s]"
       ]
      },
      {
       "output_type": "stream",
       "stream": "stderr",
       "text": [
        "\r",
        " 34%|\u2588\u2588\u2588\u258d      | 3998/11612 [01:01<01:34, 80.67it/s]"
       ]
      },
      {
       "output_type": "stream",
       "stream": "stderr",
       "text": [
        "\r",
        " 35%|\u2588\u2588\u2588\u258d      | 4007/11612 [01:01<01:33, 81.09it/s]"
       ]
      },
      {
       "output_type": "stream",
       "stream": "stderr",
       "text": [
        "\r",
        " 35%|\u2588\u2588\u2588\u258d      | 4016/11612 [01:01<01:33, 81.45it/s]"
       ]
      },
      {
       "output_type": "stream",
       "stream": "stderr",
       "text": [
        "\r",
        " 35%|\u2588\u2588\u2588\u258d      | 4025/11612 [01:01<01:32, 81.96it/s]"
       ]
      },
      {
       "output_type": "stream",
       "stream": "stderr",
       "text": [
        "\r",
        " 35%|\u2588\u2588\u2588\u258d      | 4034/11612 [01:02<01:32, 82.17it/s]"
       ]
      },
      {
       "output_type": "stream",
       "stream": "stderr",
       "text": [
        "\r",
        " 35%|\u2588\u2588\u2588\u258d      | 4043/11612 [01:02<01:32, 81.59it/s]"
       ]
      },
      {
       "output_type": "stream",
       "stream": "stderr",
       "text": [
        "\r",
        " 35%|\u2588\u2588\u2588\u258d      | 4052/11612 [01:02<01:31, 82.21it/s]"
       ]
      },
      {
       "output_type": "stream",
       "stream": "stderr",
       "text": [
        "\r",
        " 35%|\u2588\u2588\u2588\u258d      | 4061/11612 [01:02<01:31, 82.41it/s]"
       ]
      },
      {
       "output_type": "stream",
       "stream": "stderr",
       "text": [
        "\r",
        " 35%|\u2588\u2588\u2588\u258c      | 4070/11612 [01:02<01:31, 82.25it/s]"
       ]
      },
      {
       "output_type": "stream",
       "stream": "stderr",
       "text": [
        "\r",
        " 35%|\u2588\u2588\u2588\u258c      | 4079/11612 [01:02<01:30, 82.85it/s]"
       ]
      },
      {
       "output_type": "stream",
       "stream": "stderr",
       "text": [
        "\r",
        " 35%|\u2588\u2588\u2588\u258c      | 4088/11612 [01:02<01:30, 83.23it/s]"
       ]
      },
      {
       "output_type": "stream",
       "stream": "stderr",
       "text": [
        "\r",
        " 35%|\u2588\u2588\u2588\u258c      | 4097/11612 [01:02<01:30, 82.65it/s]"
       ]
      },
      {
       "output_type": "stream",
       "stream": "stderr",
       "text": [
        "\r",
        " 35%|\u2588\u2588\u2588\u258c      | 4106/11612 [01:02<01:30, 83.15it/s]"
       ]
      },
      {
       "output_type": "stream",
       "stream": "stderr",
       "text": [
        "\r",
        " 35%|\u2588\u2588\u2588\u258c      | 4115/11612 [01:03<01:29, 83.38it/s]"
       ]
      },
      {
       "output_type": "stream",
       "stream": "stderr",
       "text": [
        "\r",
        " 36%|\u2588\u2588\u2588\u258c      | 4124/11612 [01:03<01:29, 83.87it/s]"
       ]
      },
      {
       "output_type": "stream",
       "stream": "stderr",
       "text": [
        "\r",
        " 36%|\u2588\u2588\u2588\u258c      | 4133/11612 [01:03<01:28, 84.20it/s]"
       ]
      },
      {
       "output_type": "stream",
       "stream": "stderr",
       "text": [
        "\r",
        " 36%|\u2588\u2588\u2588\u258c      | 4142/11612 [01:03<01:28, 84.41it/s]"
       ]
      },
      {
       "output_type": "stream",
       "stream": "stderr",
       "text": [
        "\r",
        " 36%|\u2588\u2588\u2588\u258c      | 4151/11612 [01:03<01:28, 84.60it/s]"
       ]
      },
      {
       "output_type": "stream",
       "stream": "stderr",
       "text": [
        "\r",
        " 36%|\u2588\u2588\u2588\u258c      | 4160/11612 [01:03<01:30, 82.42it/s]"
       ]
      },
      {
       "output_type": "stream",
       "stream": "stderr",
       "text": [
        "\r",
        " 36%|\u2588\u2588\u2588\u258c      | 4169/11612 [01:03<01:29, 82.88it/s]"
       ]
      },
      {
       "output_type": "stream",
       "stream": "stderr",
       "text": [
        "\r",
        " 36%|\u2588\u2588\u2588\u258c      | 4178/11612 [01:03<01:29, 83.17it/s]"
       ]
      },
      {
       "output_type": "stream",
       "stream": "stderr",
       "text": [
        "\r",
        " 36%|\u2588\u2588\u2588\u258c      | 4187/11612 [01:03<01:28, 83.72it/s]"
       ]
      },
      {
       "output_type": "stream",
       "stream": "stderr",
       "text": [
        "\r",
        " 36%|\u2588\u2588\u2588\u258c      | 4196/11612 [01:04<01:28, 84.21it/s]"
       ]
      },
      {
       "output_type": "stream",
       "stream": "stderr",
       "text": [
        "\r",
        " 36%|\u2588\u2588\u2588\u258c      | 4205/11612 [01:04<01:27, 84.38it/s]"
       ]
      },
      {
       "output_type": "stream",
       "stream": "stderr",
       "text": [
        "\r",
        " 36%|\u2588\u2588\u2588\u258b      | 4214/11612 [01:04<01:27, 84.21it/s]"
       ]
      },
      {
       "output_type": "stream",
       "stream": "stderr",
       "text": [
        "\r",
        " 36%|\u2588\u2588\u2588\u258b      | 4223/11612 [01:04<01:27, 84.23it/s]"
       ]
      },
      {
       "output_type": "stream",
       "stream": "stderr",
       "text": [
        "\r",
        " 36%|\u2588\u2588\u2588\u258b      | 4232/11612 [01:04<01:27, 84.60it/s]"
       ]
      },
      {
       "output_type": "stream",
       "stream": "stderr",
       "text": [
        "\r",
        " 37%|\u2588\u2588\u2588\u258b      | 4241/11612 [01:04<01:28, 83.52it/s]"
       ]
      },
      {
       "output_type": "stream",
       "stream": "stderr",
       "text": [
        "\r",
        " 37%|\u2588\u2588\u2588\u258b      | 4250/11612 [01:04<01:27, 84.31it/s]"
       ]
      },
      {
       "output_type": "stream",
       "stream": "stderr",
       "text": [
        "\r",
        " 37%|\u2588\u2588\u2588\u258b      | 4259/11612 [01:04<01:26, 84.79it/s]"
       ]
      },
      {
       "output_type": "stream",
       "stream": "stderr",
       "text": [
        "\r",
        " 37%|\u2588\u2588\u2588\u258b      | 4268/11612 [01:04<01:26, 84.95it/s]"
       ]
      },
      {
       "output_type": "stream",
       "stream": "stderr",
       "text": [
        "\r",
        " 37%|\u2588\u2588\u2588\u258b      | 4277/11612 [01:05<01:26, 85.12it/s]"
       ]
      },
      {
       "output_type": "stream",
       "stream": "stderr",
       "text": [
        "\r",
        " 37%|\u2588\u2588\u2588\u258b      | 4286/11612 [01:05<01:26, 85.14it/s]"
       ]
      },
      {
       "output_type": "stream",
       "stream": "stderr",
       "text": [
        "\r",
        " 37%|\u2588\u2588\u2588\u258b      | 4295/11612 [01:05<01:25, 85.48it/s]"
       ]
      },
      {
       "output_type": "stream",
       "stream": "stderr",
       "text": [
        "\r",
        " 37%|\u2588\u2588\u2588\u258b      | 4304/11612 [01:05<01:25, 85.71it/s]"
       ]
      },
      {
       "output_type": "stream",
       "stream": "stderr",
       "text": [
        "\r",
        " 37%|\u2588\u2588\u2588\u258b      | 4313/11612 [01:05<01:24, 85.98it/s]"
       ]
      },
      {
       "output_type": "stream",
       "stream": "stderr",
       "text": [
        "\r",
        " 37%|\u2588\u2588\u2588\u258b      | 4322/11612 [01:05<01:24, 86.20it/s]"
       ]
      },
      {
       "output_type": "stream",
       "stream": "stderr",
       "text": [
        "\r",
        " 37%|\u2588\u2588\u2588\u258b      | 4331/11612 [01:05<01:24, 85.96it/s]"
       ]
      },
      {
       "output_type": "stream",
       "stream": "stderr",
       "text": [
        "\r",
        " 37%|\u2588\u2588\u2588\u258b      | 4340/11612 [01:05<01:24, 85.87it/s]"
       ]
      },
      {
       "output_type": "stream",
       "stream": "stderr",
       "text": [
        "\r",
        " 37%|\u2588\u2588\u2588\u258b      | 4349/11612 [01:05<01:24, 86.34it/s]"
       ]
      },
      {
       "output_type": "stream",
       "stream": "stderr",
       "text": [
        "\r",
        " 38%|\u2588\u2588\u2588\u258a      | 4358/11612 [01:05<01:23, 86.62it/s]"
       ]
      },
      {
       "output_type": "stream",
       "stream": "stderr",
       "text": [
        "\r",
        " 38%|\u2588\u2588\u2588\u258a      | 4367/11612 [01:06<01:23, 86.78it/s]"
       ]
      },
      {
       "output_type": "stream",
       "stream": "stderr",
       "text": [
        "\r",
        " 38%|\u2588\u2588\u2588\u258a      | 4376/11612 [01:06<01:23, 86.85it/s]"
       ]
      },
      {
       "output_type": "stream",
       "stream": "stderr",
       "text": [
        "\r",
        " 38%|\u2588\u2588\u2588\u258a      | 4385/11612 [01:06<01:23, 86.99it/s]"
       ]
      },
      {
       "output_type": "stream",
       "stream": "stderr",
       "text": [
        "\r",
        " 38%|\u2588\u2588\u2588\u258a      | 4394/11612 [01:06<01:22, 87.17it/s]"
       ]
      },
      {
       "output_type": "stream",
       "stream": "stderr",
       "text": [
        "\r",
        " 38%|\u2588\u2588\u2588\u258a      | 4403/11612 [01:06<01:22, 87.34it/s]"
       ]
      },
      {
       "output_type": "stream",
       "stream": "stderr",
       "text": [
        "\r",
        " 38%|\u2588\u2588\u2588\u258a      | 4412/11612 [01:06<01:22, 87.62it/s]"
       ]
      },
      {
       "output_type": "stream",
       "stream": "stderr",
       "text": [
        "\r",
        " 38%|\u2588\u2588\u2588\u258a      | 4421/11612 [01:06<01:25, 84.23it/s]"
       ]
      },
      {
       "output_type": "stream",
       "stream": "stderr",
       "text": [
        "\r",
        " 38%|\u2588\u2588\u2588\u258a      | 4430/11612 [01:06<01:23, 85.70it/s]"
       ]
      },
      {
       "output_type": "stream",
       "stream": "stderr",
       "text": [
        "\r",
        " 38%|\u2588\u2588\u2588\u258a      | 4439/11612 [01:06<01:23, 86.39it/s]"
       ]
      },
      {
       "output_type": "stream",
       "stream": "stderr",
       "text": [
        "\r",
        " 38%|\u2588\u2588\u2588\u258a      | 4448/11612 [01:06<01:22, 87.03it/s]"
       ]
      },
      {
       "output_type": "stream",
       "stream": "stderr",
       "text": [
        "\r",
        " 38%|\u2588\u2588\u2588\u258a      | 4457/11612 [01:07<01:22, 87.07it/s]"
       ]
      },
      {
       "output_type": "stream",
       "stream": "stderr",
       "text": [
        "\r",
        " 38%|\u2588\u2588\u2588\u258a      | 4466/11612 [01:07<01:21, 87.39it/s]"
       ]
      },
      {
       "output_type": "stream",
       "stream": "stderr",
       "text": [
        "\r",
        " 39%|\u2588\u2588\u2588\u258a      | 4475/11612 [01:07<01:22, 86.49it/s]"
       ]
      },
      {
       "output_type": "stream",
       "stream": "stderr",
       "text": [
        "\r",
        " 39%|\u2588\u2588\u2588\u258a      | 4484/11612 [01:07<01:22, 86.58it/s]"
       ]
      },
      {
       "output_type": "stream",
       "stream": "stderr",
       "text": [
        "\r",
        " 39%|\u2588\u2588\u2588\u258a      | 4493/11612 [01:07<01:21, 87.14it/s]"
       ]
      },
      {
       "output_type": "stream",
       "stream": "stderr",
       "text": [
        "\r",
        " 39%|\u2588\u2588\u2588\u2589      | 4502/11612 [01:07<01:21, 87.48it/s]"
       ]
      },
      {
       "output_type": "stream",
       "stream": "stderr",
       "text": [
        "\r",
        " 39%|\u2588\u2588\u2588\u2589      | 4511/11612 [01:07<01:22, 86.29it/s]"
       ]
      },
      {
       "output_type": "stream",
       "stream": "stderr",
       "text": [
        "\r",
        " 39%|\u2588\u2588\u2588\u2589      | 4520/11612 [01:07<01:21, 86.63it/s]"
       ]
      },
      {
       "output_type": "stream",
       "stream": "stderr",
       "text": [
        "\r",
        " 39%|\u2588\u2588\u2588\u2589      | 4529/11612 [01:07<01:22, 86.08it/s]"
       ]
      },
      {
       "output_type": "stream",
       "stream": "stderr",
       "text": [
        "\r",
        " 39%|\u2588\u2588\u2588\u2589      | 4538/11612 [01:08<01:21, 86.47it/s]"
       ]
      },
      {
       "output_type": "stream",
       "stream": "stderr",
       "text": [
        "\r",
        " 39%|\u2588\u2588\u2588\u2589      | 4547/11612 [01:08<01:21, 86.98it/s]"
       ]
      },
      {
       "output_type": "stream",
       "stream": "stderr",
       "text": [
        "\r",
        " 39%|\u2588\u2588\u2588\u2589      | 4556/11612 [01:08<01:20, 87.11it/s]"
       ]
      },
      {
       "output_type": "stream",
       "stream": "stderr",
       "text": [
        "\r",
        " 39%|\u2588\u2588\u2588\u2589      | 4565/11612 [01:08<01:20, 87.27it/s]"
       ]
      },
      {
       "output_type": "stream",
       "stream": "stderr",
       "text": [
        "\r",
        " 39%|\u2588\u2588\u2588\u2589      | 4574/11612 [01:08<01:20, 87.75it/s]"
       ]
      },
      {
       "output_type": "stream",
       "stream": "stderr",
       "text": [
        "\r",
        " 39%|\u2588\u2588\u2588\u2589      | 4583/11612 [01:08<01:19, 88.34it/s]"
       ]
      },
      {
       "output_type": "stream",
       "stream": "stderr",
       "text": [
        "\r",
        " 40%|\u2588\u2588\u2588\u2589      | 4593/11612 [01:08<01:18, 89.07it/s]"
       ]
      },
      {
       "output_type": "stream",
       "stream": "stderr",
       "text": [
        "\r",
        " 40%|\u2588\u2588\u2588\u2589      | 4602/11612 [01:08<01:19, 88.64it/s]"
       ]
      },
      {
       "output_type": "stream",
       "stream": "stderr",
       "text": [
        "\r",
        " 40%|\u2588\u2588\u2588\u2589      | 4612/11612 [01:08<01:18, 88.80it/s]"
       ]
      },
      {
       "output_type": "stream",
       "stream": "stderr",
       "text": [
        "\r",
        " 40%|\u2588\u2588\u2588\u2589      | 4621/11612 [01:08<01:18, 88.87it/s]"
       ]
      },
      {
       "output_type": "stream",
       "stream": "stderr",
       "text": [
        "\r",
        " 40%|\u2588\u2588\u2588\u2589      | 4630/11612 [01:09<01:18, 88.89it/s]"
       ]
      },
      {
       "output_type": "stream",
       "stream": "stderr",
       "text": [
        "\r",
        " 40%|\u2588\u2588\u2588\u2589      | 4640/11612 [01:09<01:18, 89.32it/s]"
       ]
      },
      {
       "output_type": "stream",
       "stream": "stderr",
       "text": [
        "\r",
        " 40%|\u2588\u2588\u2588\u2588      | 4650/11612 [01:09<01:17, 89.67it/s]"
       ]
      },
      {
       "output_type": "stream",
       "stream": "stderr",
       "text": [
        "\r",
        " 40%|\u2588\u2588\u2588\u2588      | 4660/11612 [01:09<01:17, 90.09it/s]"
       ]
      },
      {
       "output_type": "stream",
       "stream": "stderr",
       "text": [
        "\r",
        " 40%|\u2588\u2588\u2588\u2588      | 4670/11612 [01:09<01:16, 90.58it/s]"
       ]
      },
      {
       "output_type": "stream",
       "stream": "stderr",
       "text": [
        "\r",
        " 40%|\u2588\u2588\u2588\u2588      | 4680/11612 [01:09<01:16, 90.60it/s]"
       ]
      },
      {
       "output_type": "stream",
       "stream": "stderr",
       "text": [
        "\r",
        " 40%|\u2588\u2588\u2588\u2588      | 4690/11612 [01:09<01:17, 89.84it/s]"
       ]
      },
      {
       "output_type": "stream",
       "stream": "stderr",
       "text": [
        "\r",
        " 40%|\u2588\u2588\u2588\u2588      | 4700/11612 [01:09<01:16, 90.28it/s]"
       ]
      },
      {
       "output_type": "stream",
       "stream": "stderr",
       "text": [
        "\r",
        " 41%|\u2588\u2588\u2588\u2588      | 4710/11612 [01:09<01:16, 90.72it/s]"
       ]
      },
      {
       "output_type": "stream",
       "stream": "stderr",
       "text": [
        "\r",
        " 41%|\u2588\u2588\u2588\u2588      | 4720/11612 [01:10<01:15, 91.13it/s]"
       ]
      },
      {
       "output_type": "stream",
       "stream": "stderr",
       "text": [
        "\r",
        " 41%|\u2588\u2588\u2588\u2588      | 4730/11612 [01:10<01:16, 90.55it/s]"
       ]
      },
      {
       "output_type": "stream",
       "stream": "stderr",
       "text": [
        "\r",
        " 41%|\u2588\u2588\u2588\u2588      | 4740/11612 [01:10<01:15, 90.94it/s]"
       ]
      },
      {
       "output_type": "stream",
       "stream": "stderr",
       "text": [
        "\r",
        " 41%|\u2588\u2588\u2588\u2588      | 4750/11612 [01:10<01:15, 90.59it/s]"
       ]
      },
      {
       "output_type": "stream",
       "stream": "stderr",
       "text": [
        "\r",
        " 41%|\u2588\u2588\u2588\u2588      | 4760/11612 [01:10<01:15, 90.38it/s]"
       ]
      },
      {
       "output_type": "stream",
       "stream": "stderr",
       "text": [
        "\r",
        " 41%|\u2588\u2588\u2588\u2588      | 4770/11612 [01:10<01:15, 90.91it/s]"
       ]
      },
      {
       "output_type": "stream",
       "stream": "stderr",
       "text": [
        "\r",
        " 41%|\u2588\u2588\u2588\u2588      | 4780/11612 [01:10<01:14, 91.29it/s]"
       ]
      },
      {
       "output_type": "stream",
       "stream": "stderr",
       "text": [
        "\r",
        " 41%|\u2588\u2588\u2588\u2588\u258f     | 4790/11612 [01:10<01:15, 90.56it/s]"
       ]
      },
      {
       "output_type": "stream",
       "stream": "stderr",
       "text": [
        "\r",
        " 41%|\u2588\u2588\u2588\u2588\u258f     | 4800/11612 [01:10<01:13, 92.20it/s]"
       ]
      },
      {
       "output_type": "stream",
       "stream": "stderr",
       "text": [
        "\r",
        " 41%|\u2588\u2588\u2588\u2588\u258f     | 4810/11612 [01:11<01:13, 92.39it/s]"
       ]
      },
      {
       "output_type": "stream",
       "stream": "stderr",
       "text": [
        "\r",
        " 42%|\u2588\u2588\u2588\u2588\u258f     | 4820/11612 [01:11<01:12, 93.31it/s]"
       ]
      },
      {
       "output_type": "stream",
       "stream": "stderr",
       "text": [
        "\r",
        " 42%|\u2588\u2588\u2588\u2588\u258f     | 4830/11612 [01:11<01:13, 92.76it/s]"
       ]
      },
      {
       "output_type": "stream",
       "stream": "stderr",
       "text": [
        "\r",
        " 42%|\u2588\u2588\u2588\u2588\u258f     | 4840/11612 [01:11<01:13, 92.65it/s]"
       ]
      },
      {
       "output_type": "stream",
       "stream": "stderr",
       "text": [
        "\r",
        " 42%|\u2588\u2588\u2588\u2588\u258f     | 4850/11612 [01:11<01:12, 92.94it/s]"
       ]
      },
      {
       "output_type": "stream",
       "stream": "stderr",
       "text": [
        "\r",
        " 42%|\u2588\u2588\u2588\u2588\u258f     | 4860/11612 [01:11<01:11, 93.97it/s]"
       ]
      },
      {
       "output_type": "stream",
       "stream": "stderr",
       "text": [
        "\r",
        " 42%|\u2588\u2588\u2588\u2588\u258f     | 4870/11612 [01:11<01:12, 93.00it/s]"
       ]
      },
      {
       "output_type": "stream",
       "stream": "stderr",
       "text": [
        "\r",
        " 42%|\u2588\u2588\u2588\u2588\u258f     | 4880/11612 [01:11<01:12, 92.45it/s]"
       ]
      },
      {
       "output_type": "stream",
       "stream": "stderr",
       "text": [
        "\r",
        " 42%|\u2588\u2588\u2588\u2588\u258f     | 4890/11612 [01:11<01:12, 92.30it/s]"
       ]
      },
      {
       "output_type": "stream",
       "stream": "stderr",
       "text": [
        "\r",
        " 42%|\u2588\u2588\u2588\u2588\u258f     | 4900/11612 [01:11<01:11, 93.73it/s]"
       ]
      },
      {
       "output_type": "stream",
       "stream": "stderr",
       "text": [
        "\r",
        " 42%|\u2588\u2588\u2588\u2588\u258f     | 4910/11612 [01:12<01:13, 91.42it/s]"
       ]
      },
      {
       "output_type": "stream",
       "stream": "stderr",
       "text": [
        "\r",
        " 42%|\u2588\u2588\u2588\u2588\u258f     | 4920/11612 [01:12<01:12, 92.40it/s]"
       ]
      },
      {
       "output_type": "stream",
       "stream": "stderr",
       "text": [
        "\r",
        " 42%|\u2588\u2588\u2588\u2588\u258f     | 4930/11612 [01:12<01:12, 92.71it/s]"
       ]
      },
      {
       "output_type": "stream",
       "stream": "stderr",
       "text": [
        "\r",
        " 43%|\u2588\u2588\u2588\u2588\u258e     | 4940/11612 [01:12<01:11, 93.60it/s]"
       ]
      },
      {
       "output_type": "stream",
       "stream": "stderr",
       "text": [
        "\r",
        " 43%|\u2588\u2588\u2588\u2588\u258e     | 4950/11612 [01:12<01:11, 93.36it/s]"
       ]
      },
      {
       "output_type": "stream",
       "stream": "stderr",
       "text": [
        "\r",
        " 43%|\u2588\u2588\u2588\u2588\u258e     | 4960/11612 [01:12<01:11, 93.68it/s]"
       ]
      },
      {
       "output_type": "stream",
       "stream": "stderr",
       "text": [
        "\r",
        " 43%|\u2588\u2588\u2588\u2588\u258e     | 4970/11612 [01:12<01:10, 93.76it/s]"
       ]
      },
      {
       "output_type": "stream",
       "stream": "stderr",
       "text": [
        "\r",
        " 43%|\u2588\u2588\u2588\u2588\u258e     | 4980/11612 [01:12<01:11, 92.20it/s]"
       ]
      },
      {
       "output_type": "stream",
       "stream": "stderr",
       "text": [
        "\r",
        " 43%|\u2588\u2588\u2588\u2588\u258e     | 4990/11612 [01:12<01:11, 93.10it/s]"
       ]
      },
      {
       "output_type": "stream",
       "stream": "stderr",
       "text": [
        "\r",
        " 43%|\u2588\u2588\u2588\u2588\u258e     | 5000/11612 [01:13<01:09, 94.83it/s]"
       ]
      },
      {
       "output_type": "stream",
       "stream": "stderr",
       "text": [
        "\r",
        " 43%|\u2588\u2588\u2588\u2588\u258e     | 5010/11612 [01:13<01:09, 94.36it/s]"
       ]
      },
      {
       "output_type": "stream",
       "stream": "stderr",
       "text": [
        "\r",
        " 43%|\u2588\u2588\u2588\u2588\u258e     | 5020/11612 [01:13<01:10, 94.10it/s]"
       ]
      },
      {
       "output_type": "stream",
       "stream": "stderr",
       "text": [
        "\r",
        " 43%|\u2588\u2588\u2588\u2588\u258e     | 5030/11612 [01:13<01:10, 93.47it/s]"
       ]
      },
      {
       "output_type": "stream",
       "stream": "stderr",
       "text": [
        "\r",
        " 43%|\u2588\u2588\u2588\u2588\u258e     | 5040/11612 [01:13<01:09, 94.04it/s]"
       ]
      },
      {
       "output_type": "stream",
       "stream": "stderr",
       "text": [
        "\r",
        " 43%|\u2588\u2588\u2588\u2588\u258e     | 5050/11612 [01:13<01:10, 93.68it/s]"
       ]
      },
      {
       "output_type": "stream",
       "stream": "stderr",
       "text": [
        "\r",
        " 44%|\u2588\u2588\u2588\u2588\u258e     | 5060/11612 [01:13<01:09, 94.84it/s]"
       ]
      },
      {
       "output_type": "stream",
       "stream": "stderr",
       "text": [
        "\r",
        " 44%|\u2588\u2588\u2588\u2588\u258e     | 5070/11612 [01:13<01:08, 94.84it/s]"
       ]
      },
      {
       "output_type": "stream",
       "stream": "stderr",
       "text": [
        "\r",
        " 44%|\u2588\u2588\u2588\u2588\u258e     | 5080/11612 [01:13<01:11, 91.93it/s]"
       ]
      },
      {
       "output_type": "stream",
       "stream": "stderr",
       "text": [
        "\r",
        " 44%|\u2588\u2588\u2588\u2588\u258d     | 5090/11612 [01:14<01:10, 93.14it/s]"
       ]
      },
      {
       "output_type": "stream",
       "stream": "stderr",
       "text": [
        "\r",
        " 44%|\u2588\u2588\u2588\u2588\u258d     | 5100/11612 [01:14<01:09, 94.35it/s]"
       ]
      },
      {
       "output_type": "stream",
       "stream": "stderr",
       "text": [
        "\r",
        " 44%|\u2588\u2588\u2588\u2588\u258d     | 5110/11612 [01:14<01:08, 94.63it/s]"
       ]
      },
      {
       "output_type": "stream",
       "stream": "stderr",
       "text": [
        "\r",
        " 44%|\u2588\u2588\u2588\u2588\u258d     | 5120/11612 [01:14<01:08, 94.99it/s]"
       ]
      },
      {
       "output_type": "stream",
       "stream": "stderr",
       "text": [
        "\r",
        " 44%|\u2588\u2588\u2588\u2588\u258d     | 5130/11612 [01:14<01:07, 95.36it/s]"
       ]
      },
      {
       "output_type": "stream",
       "stream": "stderr",
       "text": [
        "\r",
        " 44%|\u2588\u2588\u2588\u2588\u258d     | 5140/11612 [01:14<01:07, 96.35it/s]"
       ]
      },
      {
       "output_type": "stream",
       "stream": "stderr",
       "text": [
        "\r",
        " 44%|\u2588\u2588\u2588\u2588\u258d     | 5150/11612 [01:14<01:06, 96.67it/s]"
       ]
      },
      {
       "output_type": "stream",
       "stream": "stderr",
       "text": [
        "\r",
        " 44%|\u2588\u2588\u2588\u2588\u258d     | 5160/11612 [01:14<01:06, 96.95it/s]"
       ]
      },
      {
       "output_type": "stream",
       "stream": "stderr",
       "text": [
        "\r",
        " 45%|\u2588\u2588\u2588\u2588\u258d     | 5170/11612 [01:14<01:06, 96.62it/s]"
       ]
      },
      {
       "output_type": "stream",
       "stream": "stderr",
       "text": [
        "\r",
        " 45%|\u2588\u2588\u2588\u2588\u258d     | 5180/11612 [01:14<01:07, 95.64it/s]"
       ]
      },
      {
       "output_type": "stream",
       "stream": "stderr",
       "text": [
        "\r",
        " 45%|\u2588\u2588\u2588\u2588\u258d     | 5190/11612 [01:15<01:07, 95.53it/s]"
       ]
      },
      {
       "output_type": "stream",
       "stream": "stderr",
       "text": [
        "\r",
        " 45%|\u2588\u2588\u2588\u2588\u258d     | 5201/11612 [01:15<01:06, 96.79it/s]"
       ]
      },
      {
       "output_type": "stream",
       "stream": "stderr",
       "text": [
        "\r",
        " 45%|\u2588\u2588\u2588\u2588\u258d     | 5211/11612 [01:15<01:06, 96.50it/s]"
       ]
      },
      {
       "output_type": "stream",
       "stream": "stderr",
       "text": [
        "\r",
        " 45%|\u2588\u2588\u2588\u2588\u258d     | 5221/11612 [01:15<01:05, 96.95it/s]"
       ]
      },
      {
       "output_type": "stream",
       "stream": "stderr",
       "text": [
        "\r",
        " 45%|\u2588\u2588\u2588\u2588\u258c     | 5231/11612 [01:15<01:05, 96.82it/s]"
       ]
      },
      {
       "output_type": "stream",
       "stream": "stderr",
       "text": [
        "\r",
        " 45%|\u2588\u2588\u2588\u2588\u258c     | 5241/11612 [01:15<01:05, 97.09it/s]"
       ]
      },
      {
       "output_type": "stream",
       "stream": "stderr",
       "text": [
        "\r",
        " 45%|\u2588\u2588\u2588\u2588\u258c     | 5251/11612 [01:15<01:06, 96.05it/s]"
       ]
      },
      {
       "output_type": "stream",
       "stream": "stderr",
       "text": [
        "\r",
        " 45%|\u2588\u2588\u2588\u2588\u258c     | 5261/11612 [01:15<01:06, 96.10it/s]"
       ]
      },
      {
       "output_type": "stream",
       "stream": "stderr",
       "text": [
        "\r",
        " 45%|\u2588\u2588\u2588\u2588\u258c     | 5271/11612 [01:15<01:05, 96.73it/s]"
       ]
      },
      {
       "output_type": "stream",
       "stream": "stderr",
       "text": [
        "\r",
        " 45%|\u2588\u2588\u2588\u2588\u258c     | 5281/11612 [01:16<01:05, 96.03it/s]"
       ]
      },
      {
       "output_type": "stream",
       "stream": "stderr",
       "text": [
        "\r",
        " 46%|\u2588\u2588\u2588\u2588\u258c     | 5291/11612 [01:16<01:05, 96.90it/s]"
       ]
      },
      {
       "output_type": "stream",
       "stream": "stderr",
       "text": [
        "\r",
        " 46%|\u2588\u2588\u2588\u2588\u258c     | 5302/11612 [01:16<01:04, 98.45it/s]"
       ]
      },
      {
       "output_type": "stream",
       "stream": "stderr",
       "text": [
        "\r",
        " 46%|\u2588\u2588\u2588\u2588\u258c     | 5313/11612 [01:16<01:03, 98.91it/s]"
       ]
      },
      {
       "output_type": "stream",
       "stream": "stderr",
       "text": [
        "\r",
        " 46%|\u2588\u2588\u2588\u2588\u258c     | 5324/11612 [01:16<01:02, 100.21it/s]"
       ]
      },
      {
       "output_type": "stream",
       "stream": "stderr",
       "text": [
        "\r",
        " 46%|\u2588\u2588\u2588\u2588\u258c     | 5335/11612 [01:16<01:02, 100.51it/s]"
       ]
      },
      {
       "output_type": "stream",
       "stream": "stderr",
       "text": [
        "\r",
        " 46%|\u2588\u2588\u2588\u2588\u258c     | 5346/11612 [01:16<01:02, 100.54it/s]"
       ]
      },
      {
       "output_type": "stream",
       "stream": "stderr",
       "text": [
        "\r",
        " 46%|\u2588\u2588\u2588\u2588\u258c     | 5357/11612 [01:16<01:02, 100.43it/s]"
       ]
      },
      {
       "output_type": "stream",
       "stream": "stderr",
       "text": [
        "\r",
        " 46%|\u2588\u2588\u2588\u2588\u258c     | 5368/11612 [01:16<01:02, 100.59it/s]"
       ]
      },
      {
       "output_type": "stream",
       "stream": "stderr",
       "text": [
        "\r",
        " 46%|\u2588\u2588\u2588\u2588\u258b     | 5379/11612 [01:16<01:01, 101.16it/s]"
       ]
      },
      {
       "output_type": "stream",
       "stream": "stderr",
       "text": [
        "\r",
        " 46%|\u2588\u2588\u2588\u2588\u258b     | 5390/11612 [01:17<01:02, 100.25it/s]"
       ]
      },
      {
       "output_type": "stream",
       "stream": "stderr",
       "text": [
        "\r",
        " 47%|\u2588\u2588\u2588\u2588\u258b     | 5401/11612 [01:17<01:01, 100.55it/s]"
       ]
      },
      {
       "output_type": "stream",
       "stream": "stderr",
       "text": [
        "\r",
        " 47%|\u2588\u2588\u2588\u2588\u258b     | 5412/11612 [01:17<01:01, 101.03it/s]"
       ]
      },
      {
       "output_type": "stream",
       "stream": "stderr",
       "text": [
        "\r",
        " 47%|\u2588\u2588\u2588\u2588\u258b     | 5423/11612 [01:17<01:01, 100.75it/s]"
       ]
      },
      {
       "output_type": "stream",
       "stream": "stderr",
       "text": [
        "\r",
        " 47%|\u2588\u2588\u2588\u2588\u258b     | 5434/11612 [01:17<01:01, 101.22it/s]"
       ]
      },
      {
       "output_type": "stream",
       "stream": "stderr",
       "text": [
        "\r",
        " 47%|\u2588\u2588\u2588\u2588\u258b     | 5445/11612 [01:17<01:01, 100.64it/s]"
       ]
      },
      {
       "output_type": "stream",
       "stream": "stderr",
       "text": [
        "\r",
        " 47%|\u2588\u2588\u2588\u2588\u258b     | 5456/11612 [01:17<01:01, 100.56it/s]"
       ]
      },
      {
       "output_type": "stream",
       "stream": "stderr",
       "text": [
        "\r",
        " 47%|\u2588\u2588\u2588\u2588\u258b     | 5467/11612 [01:17<01:01, 100.21it/s]"
       ]
      },
      {
       "output_type": "stream",
       "stream": "stderr",
       "text": [
        "\r",
        " 47%|\u2588\u2588\u2588\u2588\u258b     | 5478/11612 [01:17<01:00, 101.55it/s]"
       ]
      },
      {
       "output_type": "stream",
       "stream": "stderr",
       "text": [
        "\r",
        " 47%|\u2588\u2588\u2588\u2588\u258b     | 5489/11612 [01:18<01:01, 99.80it/s] "
       ]
      },
      {
       "output_type": "stream",
       "stream": "stderr",
       "text": [
        "\r",
        " 47%|\u2588\u2588\u2588\u2588\u258b     | 5500/11612 [01:18<01:00, 101.29it/s]"
       ]
      },
      {
       "output_type": "stream",
       "stream": "stderr",
       "text": [
        "\r",
        " 47%|\u2588\u2588\u2588\u2588\u258b     | 5511/11612 [01:18<00:59, 102.35it/s]"
       ]
      },
      {
       "output_type": "stream",
       "stream": "stderr",
       "text": [
        "\r",
        " 48%|\u2588\u2588\u2588\u2588\u258a     | 5522/11612 [01:18<00:58, 103.44it/s]"
       ]
      },
      {
       "output_type": "stream",
       "stream": "stderr",
       "text": [
        "\r",
        " 48%|\u2588\u2588\u2588\u2588\u258a     | 5533/11612 [01:18<00:59, 102.90it/s]"
       ]
      },
      {
       "output_type": "stream",
       "stream": "stderr",
       "text": [
        "\r",
        " 48%|\u2588\u2588\u2588\u2588\u258a     | 5544/11612 [01:18<00:58, 104.09it/s]"
       ]
      },
      {
       "output_type": "stream",
       "stream": "stderr",
       "text": [
        "\r",
        " 48%|\u2588\u2588\u2588\u2588\u258a     | 5555/11612 [01:18<00:58, 104.41it/s]"
       ]
      },
      {
       "output_type": "stream",
       "stream": "stderr",
       "text": [
        "\r",
        " 48%|\u2588\u2588\u2588\u2588\u258a     | 5566/11612 [01:18<00:57, 105.45it/s]"
       ]
      },
      {
       "output_type": "stream",
       "stream": "stderr",
       "text": [
        "\r",
        " 48%|\u2588\u2588\u2588\u2588\u258a     | 5577/11612 [01:18<00:57, 105.88it/s]"
       ]
      },
      {
       "output_type": "stream",
       "stream": "stderr",
       "text": [
        "\r",
        " 48%|\u2588\u2588\u2588\u2588\u258a     | 5588/11612 [01:19<00:56, 106.57it/s]"
       ]
      },
      {
       "output_type": "stream",
       "stream": "stderr",
       "text": [
        "\r",
        " 48%|\u2588\u2588\u2588\u2588\u258a     | 5599/11612 [01:19<00:56, 106.17it/s]"
       ]
      },
      {
       "output_type": "stream",
       "stream": "stderr",
       "text": [
        "\r",
        " 48%|\u2588\u2588\u2588\u2588\u258a     | 5610/11612 [01:19<00:56, 107.08it/s]"
       ]
      },
      {
       "output_type": "stream",
       "stream": "stderr",
       "text": [
        "\r",
        " 48%|\u2588\u2588\u2588\u2588\u258a     | 5621/11612 [01:19<00:56, 106.70it/s]"
       ]
      },
      {
       "output_type": "stream",
       "stream": "stderr",
       "text": [
        "\r",
        " 49%|\u2588\u2588\u2588\u2588\u258a     | 5632/11612 [01:19<00:55, 107.08it/s]"
       ]
      },
      {
       "output_type": "stream",
       "stream": "stderr",
       "text": [
        "\r",
        " 49%|\u2588\u2588\u2588\u2588\u258a     | 5643/11612 [01:19<00:55, 106.62it/s]"
       ]
      },
      {
       "output_type": "stream",
       "stream": "stderr",
       "text": [
        "\r",
        " 49%|\u2588\u2588\u2588\u2588\u258a     | 5654/11612 [01:19<00:55, 107.23it/s]"
       ]
      },
      {
       "output_type": "stream",
       "stream": "stderr",
       "text": [
        "\r",
        " 49%|\u2588\u2588\u2588\u2588\u2589     | 5665/11612 [01:19<00:55, 106.57it/s]"
       ]
      },
      {
       "output_type": "stream",
       "stream": "stderr",
       "text": [
        "\r",
        " 49%|\u2588\u2588\u2588\u2588\u2589     | 5676/11612 [01:19<00:55, 107.38it/s]"
       ]
      },
      {
       "output_type": "stream",
       "stream": "stderr",
       "text": [
        "\r",
        " 49%|\u2588\u2588\u2588\u2588\u2589     | 5687/11612 [01:19<00:55, 107.21it/s]"
       ]
      },
      {
       "output_type": "stream",
       "stream": "stderr",
       "text": [
        "\r",
        " 49%|\u2588\u2588\u2588\u2588\u2589     | 5698/11612 [01:20<00:55, 106.60it/s]"
       ]
      },
      {
       "output_type": "stream",
       "stream": "stderr",
       "text": [
        "\r",
        " 49%|\u2588\u2588\u2588\u2588\u2589     | 5709/11612 [01:20<00:55, 106.09it/s]"
       ]
      },
      {
       "output_type": "stream",
       "stream": "stderr",
       "text": [
        "\r",
        " 49%|\u2588\u2588\u2588\u2588\u2589     | 5720/11612 [01:20<00:55, 106.16it/s]"
       ]
      },
      {
       "output_type": "stream",
       "stream": "stderr",
       "text": [
        "\r",
        " 49%|\u2588\u2588\u2588\u2588\u2589     | 5731/11612 [01:20<00:55, 106.51it/s]"
       ]
      },
      {
       "output_type": "stream",
       "stream": "stderr",
       "text": [
        "\r",
        " 49%|\u2588\u2588\u2588\u2588\u2589     | 5742/11612 [01:20<00:55, 106.68it/s]"
       ]
      },
      {
       "output_type": "stream",
       "stream": "stderr",
       "text": [
        "\r",
        " 50%|\u2588\u2588\u2588\u2588\u2589     | 5753/11612 [01:20<00:54, 107.06it/s]"
       ]
      },
      {
       "output_type": "stream",
       "stream": "stderr",
       "text": [
        "\r",
        " 50%|\u2588\u2588\u2588\u2588\u2589     | 5764/11612 [01:20<00:54, 107.16it/s]"
       ]
      },
      {
       "output_type": "stream",
       "stream": "stderr",
       "text": [
        "\r",
        " 50%|\u2588\u2588\u2588\u2588\u2589     | 5775/11612 [01:20<00:54, 107.30it/s]"
       ]
      },
      {
       "output_type": "stream",
       "stream": "stderr",
       "text": [
        "\r",
        " 50%|\u2588\u2588\u2588\u2588\u2589     | 5787/11612 [01:20<00:53, 108.82it/s]"
       ]
      },
      {
       "output_type": "stream",
       "stream": "stderr",
       "text": [
        "\r",
        " 50%|\u2588\u2588\u2588\u2588\u2589     | 5799/11612 [01:20<00:53, 109.36it/s]"
       ]
      },
      {
       "output_type": "stream",
       "stream": "stderr",
       "text": [
        "\r",
        " 50%|\u2588\u2588\u2588\u2588\u2588     | 5810/11612 [01:21<00:53, 109.32it/s]"
       ]
      },
      {
       "output_type": "stream",
       "stream": "stderr",
       "text": [
        "\r",
        " 50%|\u2588\u2588\u2588\u2588\u2588     | 5821/11612 [01:21<00:55, 104.71it/s]"
       ]
      },
      {
       "output_type": "stream",
       "stream": "stderr",
       "text": [
        "\r",
        " 50%|\u2588\u2588\u2588\u2588\u2588     | 5832/11612 [01:21<00:54, 105.49it/s]"
       ]
      },
      {
       "output_type": "stream",
       "stream": "stderr",
       "text": [
        "\r",
        " 50%|\u2588\u2588\u2588\u2588\u2588     | 5844/11612 [01:21<00:53, 106.92it/s]"
       ]
      },
      {
       "output_type": "stream",
       "stream": "stderr",
       "text": [
        "\r",
        " 50%|\u2588\u2588\u2588\u2588\u2588     | 5856/11612 [01:21<00:53, 107.90it/s]"
       ]
      },
      {
       "output_type": "stream",
       "stream": "stderr",
       "text": [
        "\r",
        " 51%|\u2588\u2588\u2588\u2588\u2588     | 5868/11612 [01:21<00:52, 108.92it/s]"
       ]
      },
      {
       "output_type": "stream",
       "stream": "stderr",
       "text": [
        "\r",
        " 51%|\u2588\u2588\u2588\u2588\u2588     | 5880/11612 [01:21<00:52, 109.51it/s]"
       ]
      },
      {
       "output_type": "stream",
       "stream": "stderr",
       "text": [
        "\r",
        " 51%|\u2588\u2588\u2588\u2588\u2588     | 5892/11612 [01:21<00:52, 109.81it/s]"
       ]
      },
      {
       "output_type": "stream",
       "stream": "stderr",
       "text": [
        "\r",
        " 51%|\u2588\u2588\u2588\u2588\u2588     | 5904/11612 [01:21<00:51, 110.49it/s]"
       ]
      },
      {
       "output_type": "stream",
       "stream": "stderr",
       "text": [
        "\r",
        " 51%|\u2588\u2588\u2588\u2588\u2588     | 5916/11612 [01:22<00:51, 110.59it/s]"
       ]
      },
      {
       "output_type": "stream",
       "stream": "stderr",
       "text": [
        "\r",
        " 51%|\u2588\u2588\u2588\u2588\u2588     | 5928/11612 [01:22<00:51, 110.41it/s]"
       ]
      },
      {
       "output_type": "stream",
       "stream": "stderr",
       "text": [
        "\r",
        " 51%|\u2588\u2588\u2588\u2588\u2588     | 5940/11612 [01:22<00:51, 111.05it/s]"
       ]
      },
      {
       "output_type": "stream",
       "stream": "stderr",
       "text": [
        "\r",
        " 51%|\u2588\u2588\u2588\u2588\u2588\u258f    | 5952/11612 [01:22<00:50, 111.40it/s]"
       ]
      },
      {
       "output_type": "stream",
       "stream": "stderr",
       "text": [
        "\r",
        " 51%|\u2588\u2588\u2588\u2588\u2588\u258f    | 5964/11612 [01:22<00:50, 111.24it/s]"
       ]
      },
      {
       "output_type": "stream",
       "stream": "stderr",
       "text": [
        "\r",
        " 51%|\u2588\u2588\u2588\u2588\u2588\u258f    | 5976/11612 [01:22<00:51, 110.27it/s]"
       ]
      },
      {
       "output_type": "stream",
       "stream": "stderr",
       "text": [
        "\r",
        " 52%|\u2588\u2588\u2588\u2588\u2588\u258f    | 5988/11612 [01:22<00:50, 111.79it/s]"
       ]
      },
      {
       "output_type": "stream",
       "stream": "stderr",
       "text": [
        "\r",
        " 52%|\u2588\u2588\u2588\u2588\u2588\u258f    | 6000/11612 [01:22<00:50, 111.38it/s]"
       ]
      },
      {
       "output_type": "stream",
       "stream": "stderr",
       "text": [
        "\r",
        " 52%|\u2588\u2588\u2588\u2588\u2588\u258f    | 6012/11612 [01:22<00:50, 111.76it/s]"
       ]
      },
      {
       "output_type": "stream",
       "stream": "stderr",
       "text": [
        "\r",
        " 52%|\u2588\u2588\u2588\u2588\u2588\u258f    | 6024/11612 [01:23<00:49, 111.89it/s]"
       ]
      },
      {
       "output_type": "stream",
       "stream": "stderr",
       "text": [
        "\r",
        " 52%|\u2588\u2588\u2588\u2588\u2588\u258f    | 6036/11612 [01:23<00:49, 112.92it/s]"
       ]
      },
      {
       "output_type": "stream",
       "stream": "stderr",
       "text": [
        "\r",
        " 52%|\u2588\u2588\u2588\u2588\u2588\u258f    | 6048/11612 [01:23<00:50, 110.24it/s]"
       ]
      },
      {
       "output_type": "stream",
       "stream": "stderr",
       "text": [
        "\r",
        " 52%|\u2588\u2588\u2588\u2588\u2588\u258f    | 6060/11612 [01:23<00:49, 112.45it/s]"
       ]
      },
      {
       "output_type": "stream",
       "stream": "stderr",
       "text": [
        "\r",
        " 52%|\u2588\u2588\u2588\u2588\u2588\u258f    | 6072/11612 [01:23<00:49, 112.52it/s]"
       ]
      },
      {
       "output_type": "stream",
       "stream": "stderr",
       "text": [
        "\r",
        " 52%|\u2588\u2588\u2588\u2588\u2588\u258f    | 6084/11612 [01:23<00:48, 114.06it/s]"
       ]
      },
      {
       "output_type": "stream",
       "stream": "stderr",
       "text": [
        "\r",
        " 52%|\u2588\u2588\u2588\u2588\u2588\u258f    | 6096/11612 [01:23<00:48, 113.80it/s]"
       ]
      },
      {
       "output_type": "stream",
       "stream": "stderr",
       "text": [
        "\r",
        " 53%|\u2588\u2588\u2588\u2588\u2588\u258e    | 6108/11612 [01:23<00:48, 113.84it/s]"
       ]
      },
      {
       "output_type": "stream",
       "stream": "stderr",
       "text": [
        "\r",
        " 53%|\u2588\u2588\u2588\u2588\u2588\u258e    | 6120/11612 [01:23<00:48, 112.63it/s]"
       ]
      },
      {
       "output_type": "stream",
       "stream": "stderr",
       "text": [
        "\r",
        " 53%|\u2588\u2588\u2588\u2588\u2588\u258e    | 6132/11612 [01:23<00:48, 112.82it/s]"
       ]
      },
      {
       "output_type": "stream",
       "stream": "stderr",
       "text": [
        "\r",
        " 53%|\u2588\u2588\u2588\u2588\u2588\u258e    | 6144/11612 [01:24<00:48, 112.51it/s]"
       ]
      },
      {
       "output_type": "stream",
       "stream": "stderr",
       "text": [
        "\r",
        " 53%|\u2588\u2588\u2588\u2588\u2588\u258e    | 6156/11612 [01:24<00:47, 113.80it/s]"
       ]
      },
      {
       "output_type": "stream",
       "stream": "stderr",
       "text": [
        "\r",
        " 53%|\u2588\u2588\u2588\u2588\u2588\u258e    | 6168/11612 [01:24<00:48, 111.93it/s]"
       ]
      },
      {
       "output_type": "stream",
       "stream": "stderr",
       "text": [
        "\r",
        " 53%|\u2588\u2588\u2588\u2588\u2588\u258e    | 6180/11612 [01:24<00:48, 112.78it/s]"
       ]
      },
      {
       "output_type": "stream",
       "stream": "stderr",
       "text": [
        "\r",
        " 53%|\u2588\u2588\u2588\u2588\u2588\u258e    | 6192/11612 [01:24<00:47, 113.30it/s]"
       ]
      },
      {
       "output_type": "stream",
       "stream": "stderr",
       "text": [
        "\r",
        " 53%|\u2588\u2588\u2588\u2588\u2588\u258e    | 6204/11612 [01:24<00:47, 114.83it/s]"
       ]
      },
      {
       "output_type": "stream",
       "stream": "stderr",
       "text": [
        "\r",
        " 54%|\u2588\u2588\u2588\u2588\u2588\u258e    | 6216/11612 [01:24<00:46, 114.90it/s]"
       ]
      },
      {
       "output_type": "stream",
       "stream": "stderr",
       "text": [
        "\r",
        " 54%|\u2588\u2588\u2588\u2588\u2588\u258e    | 6228/11612 [01:24<00:46, 115.19it/s]"
       ]
      },
      {
       "output_type": "stream",
       "stream": "stderr",
       "text": [
        "\r",
        " 54%|\u2588\u2588\u2588\u2588\u2588\u258e    | 6240/11612 [01:24<00:46, 114.76it/s]"
       ]
      },
      {
       "output_type": "stream",
       "stream": "stderr",
       "text": [
        "\r",
        " 54%|\u2588\u2588\u2588\u2588\u2588\u258d    | 6252/11612 [01:25<00:46, 116.22it/s]"
       ]
      },
      {
       "output_type": "stream",
       "stream": "stderr",
       "text": [
        "\r",
        " 54%|\u2588\u2588\u2588\u2588\u2588\u258d    | 6264/11612 [01:25<00:45, 117.16it/s]"
       ]
      },
      {
       "output_type": "stream",
       "stream": "stderr",
       "text": [
        "\r",
        " 54%|\u2588\u2588\u2588\u2588\u2588\u258d    | 6276/11612 [01:25<00:45, 117.88it/s]"
       ]
      },
      {
       "output_type": "stream",
       "stream": "stderr",
       "text": [
        "\r",
        " 54%|\u2588\u2588\u2588\u2588\u2588\u258d    | 6288/11612 [01:25<00:46, 114.30it/s]"
       ]
      },
      {
       "output_type": "stream",
       "stream": "stderr",
       "text": [
        "\r",
        " 54%|\u2588\u2588\u2588\u2588\u2588\u258d    | 6300/11612 [01:25<00:46, 113.43it/s]"
       ]
      },
      {
       "output_type": "stream",
       "stream": "stderr",
       "text": [
        "\r",
        " 54%|\u2588\u2588\u2588\u2588\u2588\u258d    | 6312/11612 [01:25<00:47, 111.51it/s]"
       ]
      },
      {
       "output_type": "stream",
       "stream": "stderr",
       "text": [
        "\r",
        " 54%|\u2588\u2588\u2588\u2588\u2588\u258d    | 6324/11612 [01:25<00:47, 111.71it/s]"
       ]
      },
      {
       "output_type": "stream",
       "stream": "stderr",
       "text": [
        "\r",
        " 55%|\u2588\u2588\u2588\u2588\u2588\u258d    | 6336/11612 [01:25<00:47, 111.29it/s]"
       ]
      },
      {
       "output_type": "stream",
       "stream": "stderr",
       "text": [
        "\r",
        " 55%|\u2588\u2588\u2588\u2588\u2588\u258d    | 6348/11612 [01:25<00:47, 111.74it/s]"
       ]
      },
      {
       "output_type": "stream",
       "stream": "stderr",
       "text": [
        "\r",
        " 55%|\u2588\u2588\u2588\u2588\u2588\u258d    | 6360/11612 [01:25<00:46, 112.75it/s]"
       ]
      },
      {
       "output_type": "stream",
       "stream": "stderr",
       "text": [
        "\r",
        " 55%|\u2588\u2588\u2588\u2588\u2588\u258d    | 6372/11612 [01:26<00:45, 114.82it/s]"
       ]
      },
      {
       "output_type": "stream",
       "stream": "stderr",
       "text": [
        "\r",
        " 55%|\u2588\u2588\u2588\u2588\u2588\u258d    | 6384/11612 [01:26<00:45, 116.11it/s]"
       ]
      },
      {
       "output_type": "stream",
       "stream": "stderr",
       "text": [
        "\r",
        " 55%|\u2588\u2588\u2588\u2588\u2588\u258c    | 6397/11612 [01:26<00:44, 116.93it/s]"
       ]
      },
      {
       "output_type": "stream",
       "stream": "stderr",
       "text": [
        "\r",
        " 55%|\u2588\u2588\u2588\u2588\u2588\u258c    | 6409/11612 [01:26<00:44, 117.83it/s]"
       ]
      },
      {
       "output_type": "stream",
       "stream": "stderr",
       "text": [
        "\r",
        " 55%|\u2588\u2588\u2588\u2588\u2588\u258c    | 6422/11612 [01:26<00:43, 118.68it/s]"
       ]
      },
      {
       "output_type": "stream",
       "stream": "stderr",
       "text": [
        "\r",
        " 55%|\u2588\u2588\u2588\u2588\u2588\u258c    | 6434/11612 [01:26<00:43, 118.74it/s]"
       ]
      },
      {
       "output_type": "stream",
       "stream": "stderr",
       "text": [
        "\r",
        " 56%|\u2588\u2588\u2588\u2588\u2588\u258c    | 6446/11612 [01:26<00:43, 118.61it/s]"
       ]
      },
      {
       "output_type": "stream",
       "stream": "stderr",
       "text": [
        "\r",
        " 56%|\u2588\u2588\u2588\u2588\u2588\u258c    | 6459/11612 [01:26<00:43, 119.58it/s]"
       ]
      },
      {
       "output_type": "stream",
       "stream": "stderr",
       "text": [
        "\r",
        " 56%|\u2588\u2588\u2588\u2588\u2588\u258c    | 6472/11612 [01:26<00:42, 121.08it/s]"
       ]
      },
      {
       "output_type": "stream",
       "stream": "stderr",
       "text": [
        "\r",
        " 56%|\u2588\u2588\u2588\u2588\u2588\u258c    | 6485/11612 [01:27<00:42, 119.51it/s]"
       ]
      },
      {
       "output_type": "stream",
       "stream": "stderr",
       "text": [
        "\r",
        " 56%|\u2588\u2588\u2588\u2588\u2588\u258c    | 6497/11612 [01:27<00:43, 118.28it/s]"
       ]
      },
      {
       "output_type": "stream",
       "stream": "stderr",
       "text": [
        "\r",
        " 56%|\u2588\u2588\u2588\u2588\u2588\u258c    | 6509/11612 [01:27<00:43, 117.48it/s]"
       ]
      },
      {
       "output_type": "stream",
       "stream": "stderr",
       "text": [
        "\r",
        " 56%|\u2588\u2588\u2588\u2588\u2588\u258c    | 6522/11612 [01:27<00:42, 118.68it/s]"
       ]
      },
      {
       "output_type": "stream",
       "stream": "stderr",
       "text": [
        "\r",
        " 56%|\u2588\u2588\u2588\u2588\u2588\u258b    | 6535/11612 [01:27<00:42, 120.58it/s]"
       ]
      },
      {
       "output_type": "stream",
       "stream": "stderr",
       "text": [
        "\r",
        " 56%|\u2588\u2588\u2588\u2588\u2588\u258b    | 6548/11612 [01:27<00:41, 122.55it/s]"
       ]
      },
      {
       "output_type": "stream",
       "stream": "stderr",
       "text": [
        "\r",
        " 57%|\u2588\u2588\u2588\u2588\u2588\u258b    | 6561/11612 [01:27<00:41, 123.17it/s]"
       ]
      },
      {
       "output_type": "stream",
       "stream": "stderr",
       "text": [
        "\r",
        " 57%|\u2588\u2588\u2588\u2588\u2588\u258b    | 6574/11612 [01:27<00:40, 124.23it/s]"
       ]
      },
      {
       "output_type": "stream",
       "stream": "stderr",
       "text": [
        "\r",
        " 57%|\u2588\u2588\u2588\u2588\u2588\u258b    | 6587/11612 [01:27<00:40, 125.10it/s]"
       ]
      },
      {
       "output_type": "stream",
       "stream": "stderr",
       "text": [
        "\r",
        " 57%|\u2588\u2588\u2588\u2588\u2588\u258b    | 6600/11612 [01:27<00:39, 126.28it/s]"
       ]
      },
      {
       "output_type": "stream",
       "stream": "stderr",
       "text": [
        "\r",
        " 57%|\u2588\u2588\u2588\u2588\u2588\u258b    | 6613/11612 [01:28<00:39, 126.20it/s]"
       ]
      },
      {
       "output_type": "stream",
       "stream": "stderr",
       "text": [
        "\r",
        " 57%|\u2588\u2588\u2588\u2588\u2588\u258b    | 6626/11612 [01:28<00:39, 126.95it/s]"
       ]
      },
      {
       "output_type": "stream",
       "stream": "stderr",
       "text": [
        "\r",
        " 57%|\u2588\u2588\u2588\u2588\u2588\u258b    | 6639/11612 [01:28<00:39, 126.69it/s]"
       ]
      },
      {
       "output_type": "stream",
       "stream": "stderr",
       "text": [
        "\r",
        " 57%|\u2588\u2588\u2588\u2588\u2588\u258b    | 6652/11612 [01:28<00:39, 126.82it/s]"
       ]
      },
      {
       "output_type": "stream",
       "stream": "stderr",
       "text": [
        "\r",
        " 57%|\u2588\u2588\u2588\u2588\u2588\u258b    | 6665/11612 [01:28<00:38, 127.08it/s]"
       ]
      },
      {
       "output_type": "stream",
       "stream": "stderr",
       "text": [
        "\r",
        " 58%|\u2588\u2588\u2588\u2588\u2588\u258a    | 6679/11612 [01:28<00:38, 128.20it/s]"
       ]
      },
      {
       "output_type": "stream",
       "stream": "stderr",
       "text": [
        "\r",
        " 58%|\u2588\u2588\u2588\u2588\u2588\u258a    | 6692/11612 [01:28<00:38, 128.04it/s]"
       ]
      },
      {
       "output_type": "stream",
       "stream": "stderr",
       "text": [
        "\r",
        " 58%|\u2588\u2588\u2588\u2588\u2588\u258a    | 6706/11612 [01:28<00:38, 128.82it/s]"
       ]
      },
      {
       "output_type": "stream",
       "stream": "stderr",
       "text": [
        "\r",
        " 58%|\u2588\u2588\u2588\u2588\u2588\u258a    | 6719/11612 [01:28<00:38, 128.45it/s]"
       ]
      },
      {
       "output_type": "stream",
       "stream": "stderr",
       "text": [
        "\r",
        " 58%|\u2588\u2588\u2588\u2588\u2588\u258a    | 6732/11612 [01:28<00:38, 127.15it/s]"
       ]
      },
      {
       "output_type": "stream",
       "stream": "stderr",
       "text": [
        "\r",
        " 58%|\u2588\u2588\u2588\u2588\u2588\u258a    | 6745/11612 [01:29<00:39, 124.77it/s]"
       ]
      },
      {
       "output_type": "stream",
       "stream": "stderr",
       "text": [
        "\r",
        " 58%|\u2588\u2588\u2588\u2588\u2588\u258a    | 6759/11612 [01:29<00:38, 126.58it/s]"
       ]
      },
      {
       "output_type": "stream",
       "stream": "stderr",
       "text": [
        "\r",
        " 58%|\u2588\u2588\u2588\u2588\u2588\u258a    | 6772/11612 [01:29<00:37, 127.49it/s]"
       ]
      },
      {
       "output_type": "stream",
       "stream": "stderr",
       "text": [
        "\r",
        " 58%|\u2588\u2588\u2588\u2588\u2588\u258a    | 6786/11612 [01:29<00:37, 129.24it/s]"
       ]
      },
      {
       "output_type": "stream",
       "stream": "stderr",
       "text": [
        "\r",
        " 59%|\u2588\u2588\u2588\u2588\u2588\u258a    | 6799/11612 [01:29<00:37, 128.18it/s]"
       ]
      },
      {
       "output_type": "stream",
       "stream": "stderr",
       "text": [
        "\r",
        " 59%|\u2588\u2588\u2588\u2588\u2588\u258a    | 6813/11612 [01:29<00:37, 129.00it/s]"
       ]
      },
      {
       "output_type": "stream",
       "stream": "stderr",
       "text": [
        "\r",
        " 59%|\u2588\u2588\u2588\u2588\u2588\u2589    | 6827/11612 [01:29<00:36, 130.99it/s]"
       ]
      },
      {
       "output_type": "stream",
       "stream": "stderr",
       "text": [
        "\r",
        " 59%|\u2588\u2588\u2588\u2588\u2588\u2589    | 6841/11612 [01:29<00:36, 130.88it/s]"
       ]
      },
      {
       "output_type": "stream",
       "stream": "stderr",
       "text": [
        "\r",
        " 59%|\u2588\u2588\u2588\u2588\u2588\u2589    | 6855/11612 [01:29<00:36, 131.23it/s]"
       ]
      },
      {
       "output_type": "stream",
       "stream": "stderr",
       "text": [
        "\r",
        " 59%|\u2588\u2588\u2588\u2588\u2588\u2589    | 6869/11612 [01:30<00:35, 131.99it/s]"
       ]
      },
      {
       "output_type": "stream",
       "stream": "stderr",
       "text": [
        "\r",
        " 59%|\u2588\u2588\u2588\u2588\u2588\u2589    | 6883/11612 [01:30<00:35, 132.87it/s]"
       ]
      },
      {
       "output_type": "stream",
       "stream": "stderr",
       "text": [
        "\r",
        " 59%|\u2588\u2588\u2588\u2588\u2588\u2589    | 6897/11612 [01:30<00:35, 134.18it/s]"
       ]
      },
      {
       "output_type": "stream",
       "stream": "stderr",
       "text": [
        "\r",
        " 60%|\u2588\u2588\u2588\u2588\u2588\u2589    | 6911/11612 [01:30<00:36, 130.27it/s]"
       ]
      },
      {
       "output_type": "stream",
       "stream": "stderr",
       "text": [
        "\r",
        " 60%|\u2588\u2588\u2588\u2588\u2588\u2589    | 6925/11612 [01:30<00:35, 132.31it/s]"
       ]
      },
      {
       "output_type": "stream",
       "stream": "stderr",
       "text": [
        "\r",
        " 60%|\u2588\u2588\u2588\u2588\u2588\u2589    | 6939/11612 [01:30<00:35, 133.44it/s]"
       ]
      },
      {
       "output_type": "stream",
       "stream": "stderr",
       "text": [
        "\r",
        " 60%|\u2588\u2588\u2588\u2588\u2588\u2589    | 6953/11612 [01:30<00:34, 134.69it/s]"
       ]
      },
      {
       "output_type": "stream",
       "stream": "stderr",
       "text": [
        "\r",
        " 60%|\u2588\u2588\u2588\u2588\u2588\u2589    | 6967/11612 [01:30<00:34, 134.46it/s]"
       ]
      },
      {
       "output_type": "stream",
       "stream": "stderr",
       "text": [
        "\r",
        " 60%|\u2588\u2588\u2588\u2588\u2588\u2588    | 6981/11612 [01:30<00:34, 135.77it/s]"
       ]
      },
      {
       "output_type": "stream",
       "stream": "stderr",
       "text": [
        "\r",
        " 60%|\u2588\u2588\u2588\u2588\u2588\u2588    | 6995/11612 [01:30<00:33, 136.15it/s]"
       ]
      },
      {
       "output_type": "stream",
       "stream": "stderr",
       "text": [
        "\r",
        " 60%|\u2588\u2588\u2588\u2588\u2588\u2588    | 7009/11612 [01:31<00:34, 134.92it/s]"
       ]
      },
      {
       "output_type": "stream",
       "stream": "stderr",
       "text": [
        "\r",
        " 60%|\u2588\u2588\u2588\u2588\u2588\u2588    | 7023/11612 [01:31<00:33, 136.36it/s]"
       ]
      },
      {
       "output_type": "stream",
       "stream": "stderr",
       "text": [
        "\r",
        " 61%|\u2588\u2588\u2588\u2588\u2588\u2588    | 7038/11612 [01:31<00:33, 137.44it/s]"
       ]
      },
      {
       "output_type": "stream",
       "stream": "stderr",
       "text": [
        "\r",
        " 61%|\u2588\u2588\u2588\u2588\u2588\u2588    | 7052/11612 [01:31<00:33, 135.49it/s]"
       ]
      },
      {
       "output_type": "stream",
       "stream": "stderr",
       "text": [
        "\r",
        " 61%|\u2588\u2588\u2588\u2588\u2588\u2588    | 7066/11612 [01:31<00:33, 136.16it/s]"
       ]
      },
      {
       "output_type": "stream",
       "stream": "stderr",
       "text": [
        "\r",
        " 61%|\u2588\u2588\u2588\u2588\u2588\u2588    | 7080/11612 [01:31<00:33, 136.99it/s]"
       ]
      },
      {
       "output_type": "stream",
       "stream": "stderr",
       "text": [
        "\r",
        " 61%|\u2588\u2588\u2588\u2588\u2588\u2588    | 7094/11612 [01:31<00:32, 137.54it/s]"
       ]
      },
      {
       "output_type": "stream",
       "stream": "stderr",
       "text": [
        "\r",
        " 61%|\u2588\u2588\u2588\u2588\u2588\u2588    | 7109/11612 [01:31<00:32, 138.29it/s]"
       ]
      },
      {
       "output_type": "stream",
       "stream": "stderr",
       "text": [
        "\r",
        " 61%|\u2588\u2588\u2588\u2588\u2588\u2588\u258f   | 7123/11612 [01:31<00:32, 138.73it/s]"
       ]
      },
      {
       "output_type": "stream",
       "stream": "stderr",
       "text": [
        "\r",
        " 61%|\u2588\u2588\u2588\u2588\u2588\u2588\u258f   | 7138/11612 [01:32<00:32, 139.57it/s]"
       ]
      },
      {
       "output_type": "stream",
       "stream": "stderr",
       "text": [
        "\r",
        " 62%|\u2588\u2588\u2588\u2588\u2588\u2588\u258f   | 7152/11612 [01:32<00:32, 138.32it/s]"
       ]
      },
      {
       "output_type": "stream",
       "stream": "stderr",
       "text": [
        "\r",
        " 62%|\u2588\u2588\u2588\u2588\u2588\u2588\u258f   | 7167/11612 [01:32<00:31, 139.55it/s]"
       ]
      },
      {
       "output_type": "stream",
       "stream": "stderr",
       "text": [
        "\r",
        " 62%|\u2588\u2588\u2588\u2588\u2588\u2588\u258f   | 7182/11612 [01:32<00:31, 140.68it/s]"
       ]
      },
      {
       "output_type": "stream",
       "stream": "stderr",
       "text": [
        "\r",
        " 62%|\u2588\u2588\u2588\u2588\u2588\u2588\u258f   | 7197/11612 [01:32<00:32, 135.43it/s]"
       ]
      },
      {
       "output_type": "stream",
       "stream": "stderr",
       "text": [
        "\r",
        " 62%|\u2588\u2588\u2588\u2588\u2588\u2588\u258f   | 7212/11612 [01:32<00:32, 137.07it/s]"
       ]
      },
      {
       "output_type": "stream",
       "stream": "stderr",
       "text": [
        "\r",
        " 62%|\u2588\u2588\u2588\u2588\u2588\u2588\u258f   | 7227/11612 [01:32<00:31, 138.03it/s]"
       ]
      },
      {
       "output_type": "stream",
       "stream": "stderr",
       "text": [
        "\r",
        " 62%|\u2588\u2588\u2588\u2588\u2588\u2588\u258f   | 7242/11612 [01:32<00:31, 139.21it/s]"
       ]
      },
      {
       "output_type": "stream",
       "stream": "stderr",
       "text": [
        "\r",
        " 62%|\u2588\u2588\u2588\u2588\u2588\u2588\u258f   | 7257/11612 [01:32<00:31, 140.20it/s]"
       ]
      },
      {
       "output_type": "stream",
       "stream": "stderr",
       "text": [
        "\r",
        " 63%|\u2588\u2588\u2588\u2588\u2588\u2588\u258e   | 7272/11612 [01:32<00:30, 141.55it/s]"
       ]
      },
      {
       "output_type": "stream",
       "stream": "stderr",
       "text": [
        "\r",
        " 63%|\u2588\u2588\u2588\u2588\u2588\u2588\u258e   | 7287/11612 [01:33<00:30, 142.27it/s]"
       ]
      },
      {
       "output_type": "stream",
       "stream": "stderr",
       "text": [
        "\r",
        " 63%|\u2588\u2588\u2588\u2588\u2588\u2588\u258e   | 7302/11612 [01:33<00:30, 142.96it/s]"
       ]
      },
      {
       "output_type": "stream",
       "stream": "stderr",
       "text": [
        "\r",
        " 63%|\u2588\u2588\u2588\u2588\u2588\u2588\u258e   | 7317/11612 [01:33<00:29, 144.64it/s]"
       ]
      },
      {
       "output_type": "stream",
       "stream": "stderr",
       "text": [
        "\r",
        " 63%|\u2588\u2588\u2588\u2588\u2588\u2588\u258e   | 7332/11612 [01:33<00:29, 145.39it/s]"
       ]
      },
      {
       "output_type": "stream",
       "stream": "stderr",
       "text": [
        "\r",
        " 63%|\u2588\u2588\u2588\u2588\u2588\u2588\u258e   | 7347/11612 [01:33<00:29, 142.67it/s]"
       ]
      },
      {
       "output_type": "stream",
       "stream": "stderr",
       "text": [
        "\r",
        " 63%|\u2588\u2588\u2588\u2588\u2588\u2588\u258e   | 7362/11612 [01:33<00:29, 144.33it/s]"
       ]
      },
      {
       "output_type": "stream",
       "stream": "stderr",
       "text": [
        "\r",
        " 64%|\u2588\u2588\u2588\u2588\u2588\u2588\u258e   | 7377/11612 [01:33<00:29, 145.92it/s]"
       ]
      },
      {
       "output_type": "stream",
       "stream": "stderr",
       "text": [
        "\r",
        " 64%|\u2588\u2588\u2588\u2588\u2588\u2588\u258e   | 7392/11612 [01:33<00:28, 146.36it/s]"
       ]
      },
      {
       "output_type": "stream",
       "stream": "stderr",
       "text": [
        "\r",
        " 64%|\u2588\u2588\u2588\u2588\u2588\u2588\u258d   | 7408/11612 [01:33<00:28, 147.60it/s]"
       ]
      },
      {
       "output_type": "stream",
       "stream": "stderr",
       "text": [
        "\r",
        " 64%|\u2588\u2588\u2588\u2588\u2588\u2588\u258d   | 7424/11612 [01:34<00:28, 148.71it/s]"
       ]
      },
      {
       "output_type": "stream",
       "stream": "stderr",
       "text": [
        "\r",
        " 64%|\u2588\u2588\u2588\u2588\u2588\u2588\u258d   | 7440/11612 [01:34<00:27, 149.65it/s]"
       ]
      },
      {
       "output_type": "stream",
       "stream": "stderr",
       "text": [
        "\r",
        " 64%|\u2588\u2588\u2588\u2588\u2588\u2588\u258d   | 7456/11612 [01:34<00:27, 151.18it/s]"
       ]
      },
      {
       "output_type": "stream",
       "stream": "stderr",
       "text": [
        "\r",
        " 64%|\u2588\u2588\u2588\u2588\u2588\u2588\u258d   | 7472/11612 [01:34<00:27, 151.71it/s]"
       ]
      },
      {
       "output_type": "stream",
       "stream": "stderr",
       "text": [
        "\r",
        " 64%|\u2588\u2588\u2588\u2588\u2588\u2588\u258d   | 7488/11612 [01:34<00:27, 151.82it/s]"
       ]
      },
      {
       "output_type": "stream",
       "stream": "stderr",
       "text": [
        "\r",
        " 65%|\u2588\u2588\u2588\u2588\u2588\u2588\u258d   | 7504/11612 [01:34<00:27, 151.20it/s]"
       ]
      },
      {
       "output_type": "stream",
       "stream": "stderr",
       "text": [
        "\r",
        " 65%|\u2588\u2588\u2588\u2588\u2588\u2588\u258d   | 7520/11612 [01:34<00:26, 151.85it/s]"
       ]
      },
      {
       "output_type": "stream",
       "stream": "stderr",
       "text": [
        "\r",
        " 65%|\u2588\u2588\u2588\u2588\u2588\u2588\u258d   | 7536/11612 [01:34<00:26, 152.34it/s]"
       ]
      },
      {
       "output_type": "stream",
       "stream": "stderr",
       "text": [
        "\r",
        " 65%|\u2588\u2588\u2588\u2588\u2588\u2588\u258c   | 7552/11612 [01:34<00:26, 152.68it/s]"
       ]
      },
      {
       "output_type": "stream",
       "stream": "stderr",
       "text": [
        "\r",
        " 65%|\u2588\u2588\u2588\u2588\u2588\u2588\u258c   | 7568/11612 [01:34<00:26, 153.31it/s]"
       ]
      },
      {
       "output_type": "stream",
       "stream": "stderr",
       "text": [
        "\r",
        " 65%|\u2588\u2588\u2588\u2588\u2588\u2588\u258c   | 7584/11612 [01:35<00:26, 153.96it/s]"
       ]
      },
      {
       "output_type": "stream",
       "stream": "stderr",
       "text": [
        "\r",
        " 65%|\u2588\u2588\u2588\u2588\u2588\u2588\u258c   | 7600/11612 [01:35<00:25, 155.52it/s]"
       ]
      },
      {
       "output_type": "stream",
       "stream": "stderr",
       "text": [
        "\r",
        " 66%|\u2588\u2588\u2588\u2588\u2588\u2588\u258c   | 7616/11612 [01:35<00:25, 155.33it/s]"
       ]
      },
      {
       "output_type": "stream",
       "stream": "stderr",
       "text": [
        "\r",
        " 66%|\u2588\u2588\u2588\u2588\u2588\u2588\u258c   | 7632/11612 [01:35<00:25, 155.11it/s]"
       ]
      },
      {
       "output_type": "stream",
       "stream": "stderr",
       "text": [
        "\r",
        " 66%|\u2588\u2588\u2588\u2588\u2588\u2588\u258c   | 7649/11612 [01:35<00:25, 156.79it/s]"
       ]
      },
      {
       "output_type": "stream",
       "stream": "stderr",
       "text": [
        "\r",
        " 66%|\u2588\u2588\u2588\u2588\u2588\u2588\u258c   | 7665/11612 [01:35<00:25, 156.56it/s]"
       ]
      },
      {
       "output_type": "stream",
       "stream": "stderr",
       "text": [
        "\r",
        " 66%|\u2588\u2588\u2588\u2588\u2588\u2588\u258c   | 7682/11612 [01:35<00:24, 157.22it/s]"
       ]
      },
      {
       "output_type": "stream",
       "stream": "stderr",
       "text": [
        "\r",
        " 66%|\u2588\u2588\u2588\u2588\u2588\u2588\u258b   | 7699/11612 [01:35<00:24, 158.46it/s]"
       ]
      },
      {
       "output_type": "stream",
       "stream": "stderr",
       "text": [
        "\r",
        " 66%|\u2588\u2588\u2588\u2588\u2588\u2588\u258b   | 7716/11612 [01:35<00:24, 159.03it/s]"
       ]
      },
      {
       "output_type": "stream",
       "stream": "stderr",
       "text": [
        "\r",
        " 67%|\u2588\u2588\u2588\u2588\u2588\u2588\u258b   | 7733/11612 [01:35<00:24, 160.56it/s]"
       ]
      },
      {
       "output_type": "stream",
       "stream": "stderr",
       "text": [
        "\r",
        " 67%|\u2588\u2588\u2588\u2588\u2588\u2588\u258b   | 7750/11612 [01:36<00:23, 161.57it/s]"
       ]
      },
      {
       "output_type": "stream",
       "stream": "stderr",
       "text": [
        "\r",
        " 67%|\u2588\u2588\u2588\u2588\u2588\u2588\u258b   | 7767/11612 [01:36<00:23, 161.92it/s]"
       ]
      },
      {
       "output_type": "stream",
       "stream": "stderr",
       "text": [
        "\r",
        " 67%|\u2588\u2588\u2588\u2588\u2588\u2588\u258b   | 7784/11612 [01:36<00:23, 162.46it/s]"
       ]
      },
      {
       "output_type": "stream",
       "stream": "stderr",
       "text": [
        "\r",
        " 67%|\u2588\u2588\u2588\u2588\u2588\u2588\u258b   | 7801/11612 [01:36<00:23, 162.66it/s]"
       ]
      },
      {
       "output_type": "stream",
       "stream": "stderr",
       "text": [
        "\r",
        " 67%|\u2588\u2588\u2588\u2588\u2588\u2588\u258b   | 7818/11612 [01:36<00:23, 163.29it/s]"
       ]
      },
      {
       "output_type": "stream",
       "stream": "stderr",
       "text": [
        "\r",
        " 67%|\u2588\u2588\u2588\u2588\u2588\u2588\u258b   | 7835/11612 [01:36<00:23, 161.89it/s]"
       ]
      },
      {
       "output_type": "stream",
       "stream": "stderr",
       "text": [
        "\r",
        " 68%|\u2588\u2588\u2588\u2588\u2588\u2588\u258a   | 7852/11612 [01:36<00:23, 160.01it/s]"
       ]
      },
      {
       "output_type": "stream",
       "stream": "stderr",
       "text": [
        "\r",
        " 68%|\u2588\u2588\u2588\u2588\u2588\u2588\u258a   | 7869/11612 [01:36<00:23, 162.03it/s]"
       ]
      },
      {
       "output_type": "stream",
       "stream": "stderr",
       "text": [
        "\r",
        " 68%|\u2588\u2588\u2588\u2588\u2588\u2588\u258a   | 7886/11612 [01:36<00:23, 161.70it/s]"
       ]
      },
      {
       "output_type": "stream",
       "stream": "stderr",
       "text": [
        "\r",
        " 68%|\u2588\u2588\u2588\u2588\u2588\u2588\u258a   | 7903/11612 [01:37<00:22, 163.68it/s]"
       ]
      },
      {
       "output_type": "stream",
       "stream": "stderr",
       "text": [
        "\r",
        " 68%|\u2588\u2588\u2588\u2588\u2588\u2588\u258a   | 7921/11612 [01:37<00:22, 166.75it/s]"
       ]
      },
      {
       "output_type": "stream",
       "stream": "stderr",
       "text": [
        "\r",
        " 68%|\u2588\u2588\u2588\u2588\u2588\u2588\u258a   | 7938/11612 [01:37<00:21, 167.36it/s]"
       ]
      },
      {
       "output_type": "stream",
       "stream": "stderr",
       "text": [
        "\r",
        " 69%|\u2588\u2588\u2588\u2588\u2588\u2588\u258a   | 7956/11612 [01:37<00:21, 169.06it/s]"
       ]
      },
      {
       "output_type": "stream",
       "stream": "stderr",
       "text": [
        "\r",
        " 69%|\u2588\u2588\u2588\u2588\u2588\u2588\u258a   | 7974/11612 [01:37<00:21, 170.24it/s]"
       ]
      },
      {
       "output_type": "stream",
       "stream": "stderr",
       "text": [
        "\r",
        " 69%|\u2588\u2588\u2588\u2588\u2588\u2588\u2589   | 7992/11612 [01:37<00:21, 172.04it/s]"
       ]
      },
      {
       "output_type": "stream",
       "stream": "stderr",
       "text": [
        "\r",
        " 69%|\u2588\u2588\u2588\u2588\u2588\u2588\u2589   | 8010/11612 [01:37<00:20, 172.04it/s]"
       ]
      },
      {
       "output_type": "stream",
       "stream": "stderr",
       "text": [
        "\r",
        " 69%|\u2588\u2588\u2588\u2588\u2588\u2588\u2589   | 8028/11612 [01:37<00:20, 173.65it/s]"
       ]
      },
      {
       "output_type": "stream",
       "stream": "stderr",
       "text": [
        "\r",
        " 69%|\u2588\u2588\u2588\u2588\u2588\u2588\u2589   | 8046/11612 [01:37<00:20, 175.30it/s]"
       ]
      },
      {
       "output_type": "stream",
       "stream": "stderr",
       "text": [
        "\r",
        " 69%|\u2588\u2588\u2588\u2588\u2588\u2588\u2589   | 8064/11612 [01:37<00:20, 175.45it/s]"
       ]
      },
      {
       "output_type": "stream",
       "stream": "stderr",
       "text": [
        "\r",
        " 70%|\u2588\u2588\u2588\u2588\u2588\u2588\u2589   | 8082/11612 [01:38<00:20, 175.66it/s]"
       ]
      },
      {
       "output_type": "stream",
       "stream": "stderr",
       "text": [
        "\r",
        " 70%|\u2588\u2588\u2588\u2588\u2588\u2588\u2589   | 8100/11612 [01:38<00:19, 175.64it/s]"
       ]
      },
      {
       "output_type": "stream",
       "stream": "stderr",
       "text": [
        "\r",
        " 70%|\u2588\u2588\u2588\u2588\u2588\u2588\u2589   | 8119/11612 [01:38<00:19, 177.13it/s]"
       ]
      },
      {
       "output_type": "stream",
       "stream": "stderr",
       "text": [
        "\r",
        " 70%|\u2588\u2588\u2588\u2588\u2588\u2588\u2588   | 8138/11612 [01:38<00:19, 179.22it/s]"
       ]
      },
      {
       "output_type": "stream",
       "stream": "stderr",
       "text": [
        "\r",
        " 70%|\u2588\u2588\u2588\u2588\u2588\u2588\u2588   | 8157/11612 [01:38<00:19, 179.96it/s]"
       ]
      },
      {
       "output_type": "stream",
       "stream": "stderr",
       "text": [
        "\r",
        " 70%|\u2588\u2588\u2588\u2588\u2588\u2588\u2588   | 8176/11612 [01:38<00:19, 180.67it/s]"
       ]
      },
      {
       "output_type": "stream",
       "stream": "stderr",
       "text": [
        "\r",
        " 71%|\u2588\u2588\u2588\u2588\u2588\u2588\u2588   | 8195/11612 [01:38<00:19, 178.46it/s]"
       ]
      },
      {
       "output_type": "stream",
       "stream": "stderr",
       "text": [
        "\r",
        " 71%|\u2588\u2588\u2588\u2588\u2588\u2588\u2588   | 8214/11612 [01:38<00:18, 180.23it/s]"
       ]
      },
      {
       "output_type": "stream",
       "stream": "stderr",
       "text": [
        "\r",
        " 71%|\u2588\u2588\u2588\u2588\u2588\u2588\u2588   | 8233/11612 [01:38<00:18, 181.61it/s]"
       ]
      },
      {
       "output_type": "stream",
       "stream": "stderr",
       "text": [
        "\r",
        " 71%|\u2588\u2588\u2588\u2588\u2588\u2588\u2588   | 8252/11612 [01:38<00:18, 183.17it/s]"
       ]
      },
      {
       "output_type": "stream",
       "stream": "stderr",
       "text": [
        "\r",
        " 71%|\u2588\u2588\u2588\u2588\u2588\u2588\u2588   | 8271/11612 [01:39<00:18, 184.66it/s]"
       ]
      },
      {
       "output_type": "stream",
       "stream": "stderr",
       "text": [
        "\r",
        " 71%|\u2588\u2588\u2588\u2588\u2588\u2588\u2588\u258f  | 8290/11612 [01:39<00:17, 185.35it/s]"
       ]
      },
      {
       "output_type": "stream",
       "stream": "stderr",
       "text": [
        "\r",
        " 72%|\u2588\u2588\u2588\u2588\u2588\u2588\u2588\u258f  | 8310/11612 [01:39<00:17, 187.58it/s]"
       ]
      },
      {
       "output_type": "stream",
       "stream": "stderr",
       "text": [
        "\r",
        " 72%|\u2588\u2588\u2588\u2588\u2588\u2588\u2588\u258f  | 8330/11612 [01:39<00:17, 188.72it/s]"
       ]
      },
      {
       "output_type": "stream",
       "stream": "stderr",
       "text": [
        "\r",
        " 72%|\u2588\u2588\u2588\u2588\u2588\u2588\u2588\u258f  | 8350/11612 [01:39<00:17, 189.38it/s]"
       ]
      },
      {
       "output_type": "stream",
       "stream": "stderr",
       "text": [
        "\r",
        " 72%|\u2588\u2588\u2588\u2588\u2588\u2588\u2588\u258f  | 8369/11612 [01:39<00:17, 189.07it/s]"
       ]
      },
      {
       "output_type": "stream",
       "stream": "stderr",
       "text": [
        "\r",
        " 72%|\u2588\u2588\u2588\u2588\u2588\u2588\u2588\u258f  | 8389/11612 [01:39<00:17, 189.07it/s]"
       ]
      },
      {
       "output_type": "stream",
       "stream": "stderr",
       "text": [
        "\r",
        " 72%|\u2588\u2588\u2588\u2588\u2588\u2588\u2588\u258f  | 8409/11612 [01:39<00:16, 190.57it/s]"
       ]
      },
      {
       "output_type": "stream",
       "stream": "stderr",
       "text": [
        "\r",
        " 73%|\u2588\u2588\u2588\u2588\u2588\u2588\u2588\u258e  | 8430/11612 [01:39<00:16, 193.19it/s]"
       ]
      },
      {
       "output_type": "stream",
       "stream": "stderr",
       "text": [
        "\r",
        " 73%|\u2588\u2588\u2588\u2588\u2588\u2588\u2588\u258e  | 8451/11612 [01:40<00:16, 196.34it/s]"
       ]
      },
      {
       "output_type": "stream",
       "stream": "stderr",
       "text": [
        "\r",
        " 73%|\u2588\u2588\u2588\u2588\u2588\u2588\u2588\u258e  | 8471/11612 [01:40<00:16, 193.88it/s]"
       ]
      },
      {
       "output_type": "stream",
       "stream": "stderr",
       "text": [
        "\r",
        " 73%|\u2588\u2588\u2588\u2588\u2588\u2588\u2588\u258e  | 8492/11612 [01:40<00:15, 195.60it/s]"
       ]
      },
      {
       "output_type": "stream",
       "stream": "stderr",
       "text": [
        "\r",
        " 73%|\u2588\u2588\u2588\u2588\u2588\u2588\u2588\u258e  | 8512/11612 [01:40<00:15, 195.49it/s]"
       ]
      },
      {
       "output_type": "stream",
       "stream": "stderr",
       "text": [
        "\r",
        " 73%|\u2588\u2588\u2588\u2588\u2588\u2588\u2588\u258e  | 8533/11612 [01:40<00:15, 197.83it/s]"
       ]
      },
      {
       "output_type": "stream",
       "stream": "stderr",
       "text": [
        "\r",
        " 74%|\u2588\u2588\u2588\u2588\u2588\u2588\u2588\u258e  | 8554/11612 [01:40<00:15, 200.14it/s]"
       ]
      },
      {
       "output_type": "stream",
       "stream": "stderr",
       "text": [
        "\r",
        " 74%|\u2588\u2588\u2588\u2588\u2588\u2588\u2588\u258d  | 8575/11612 [01:40<00:15, 198.22it/s]"
       ]
      },
      {
       "output_type": "stream",
       "stream": "stderr",
       "text": [
        "\r",
        " 74%|\u2588\u2588\u2588\u2588\u2588\u2588\u2588\u258d  | 8597/11612 [01:40<00:14, 201.69it/s]"
       ]
      },
      {
       "output_type": "stream",
       "stream": "stderr",
       "text": [
        "\r",
        " 74%|\u2588\u2588\u2588\u2588\u2588\u2588\u2588\u258d  | 8618/11612 [01:40<00:14, 202.73it/s]"
       ]
      },
      {
       "output_type": "stream",
       "stream": "stderr",
       "text": [
        "\r",
        " 74%|\u2588\u2588\u2588\u2588\u2588\u2588\u2588\u258d  | 8639/11612 [01:40<00:14, 204.21it/s]"
       ]
      },
      {
       "output_type": "stream",
       "stream": "stderr",
       "text": [
        "\r",
        " 75%|\u2588\u2588\u2588\u2588\u2588\u2588\u2588\u258d  | 8660/11612 [01:41<00:14, 205.35it/s]"
       ]
      },
      {
       "output_type": "stream",
       "stream": "stderr",
       "text": [
        "\r",
        " 75%|\u2588\u2588\u2588\u2588\u2588\u2588\u2588\u258d  | 8682/11612 [01:41<00:14, 207.84it/s]"
       ]
      },
      {
       "output_type": "stream",
       "stream": "stderr",
       "text": [
        "\r",
        " 75%|\u2588\u2588\u2588\u2588\u2588\u2588\u2588\u258d  | 8704/11612 [01:41<00:13, 209.67it/s]"
       ]
      },
      {
       "output_type": "stream",
       "stream": "stderr",
       "text": [
        "\r",
        " 75%|\u2588\u2588\u2588\u2588\u2588\u2588\u2588\u258c  | 8726/11612 [01:41<00:13, 212.41it/s]"
       ]
      },
      {
       "output_type": "stream",
       "stream": "stderr",
       "text": [
        "\r",
        " 75%|\u2588\u2588\u2588\u2588\u2588\u2588\u2588\u258c  | 8748/11612 [01:41<00:13, 214.28it/s]"
       ]
      },
      {
       "output_type": "stream",
       "stream": "stderr",
       "text": [
        "\r",
        " 76%|\u2588\u2588\u2588\u2588\u2588\u2588\u2588\u258c  | 8770/11612 [01:41<00:13, 215.32it/s]"
       ]
      },
      {
       "output_type": "stream",
       "stream": "stderr",
       "text": [
        "\r",
        " 76%|\u2588\u2588\u2588\u2588\u2588\u2588\u2588\u258c  | 8792/11612 [01:41<00:13, 215.48it/s]"
       ]
      },
      {
       "output_type": "stream",
       "stream": "stderr",
       "text": [
        "\r",
        " 76%|\u2588\u2588\u2588\u2588\u2588\u2588\u2588\u258c  | 8815/11612 [01:41<00:12, 218.99it/s]"
       ]
      },
      {
       "output_type": "stream",
       "stream": "stderr",
       "text": [
        "\r",
        " 76%|\u2588\u2588\u2588\u2588\u2588\u2588\u2588\u258c  | 8839/11612 [01:41<00:12, 222.29it/s]"
       ]
      },
      {
       "output_type": "stream",
       "stream": "stderr",
       "text": [
        "\r",
        " 76%|\u2588\u2588\u2588\u2588\u2588\u2588\u2588\u258b  | 8862/11612 [01:41<00:12, 222.83it/s]"
       ]
      },
      {
       "output_type": "stream",
       "stream": "stderr",
       "text": [
        "\r",
        " 77%|\u2588\u2588\u2588\u2588\u2588\u2588\u2588\u258b  | 8886/11612 [01:42<00:12, 225.62it/s]"
       ]
      },
      {
       "output_type": "stream",
       "stream": "stderr",
       "text": [
        "\r",
        " 77%|\u2588\u2588\u2588\u2588\u2588\u2588\u2588\u258b  | 8909/11612 [01:42<00:11, 226.83it/s]"
       ]
      },
      {
       "output_type": "stream",
       "stream": "stderr",
       "text": [
        "\r",
        " 77%|\u2588\u2588\u2588\u2588\u2588\u2588\u2588\u258b  | 8933/11612 [01:42<00:11, 230.28it/s]"
       ]
      },
      {
       "output_type": "stream",
       "stream": "stderr",
       "text": [
        "\r",
        " 77%|\u2588\u2588\u2588\u2588\u2588\u2588\u2588\u258b  | 8957/11612 [01:42<00:11, 231.93it/s]"
       ]
      },
      {
       "output_type": "stream",
       "stream": "stderr",
       "text": [
        "\r",
        " 77%|\u2588\u2588\u2588\u2588\u2588\u2588\u2588\u258b  | 8982/11612 [01:42<00:11, 234.11it/s]"
       ]
      },
      {
       "output_type": "stream",
       "stream": "stderr",
       "text": [
        "\r",
        " 78%|\u2588\u2588\u2588\u2588\u2588\u2588\u2588\u258a  | 9007/11612 [01:42<00:11, 236.78it/s]"
       ]
      },
      {
       "output_type": "stream",
       "stream": "stderr",
       "text": [
        "\r",
        " 78%|\u2588\u2588\u2588\u2588\u2588\u2588\u2588\u258a  | 9031/11612 [01:42<00:11, 234.32it/s]"
       ]
      },
      {
       "output_type": "stream",
       "stream": "stderr",
       "text": [
        "\r",
        " 78%|\u2588\u2588\u2588\u2588\u2588\u2588\u2588\u258a  | 9056/11612 [01:42<00:10, 238.68it/s]"
       ]
      },
      {
       "output_type": "stream",
       "stream": "stderr",
       "text": [
        "\r",
        " 78%|\u2588\u2588\u2588\u2588\u2588\u2588\u2588\u258a  | 9081/11612 [01:42<00:10, 239.47it/s]"
       ]
      },
      {
       "output_type": "stream",
       "stream": "stderr",
       "text": [
        "\r",
        " 78%|\u2588\u2588\u2588\u2588\u2588\u2588\u2588\u258a  | 9107/11612 [01:43<00:10, 243.31it/s]"
       ]
      },
      {
       "output_type": "stream",
       "stream": "stderr",
       "text": [
        "\r",
        " 79%|\u2588\u2588\u2588\u2588\u2588\u2588\u2588\u258a  | 9133/11612 [01:43<00:10, 245.78it/s]"
       ]
      },
      {
       "output_type": "stream",
       "stream": "stderr",
       "text": [
        "\r",
        " 79%|\u2588\u2588\u2588\u2588\u2588\u2588\u2588\u2589  | 9159/11612 [01:43<00:09, 247.77it/s]"
       ]
      },
      {
       "output_type": "stream",
       "stream": "stderr",
       "text": [
        "\r",
        " 79%|\u2588\u2588\u2588\u2588\u2588\u2588\u2588\u2589  | 9184/11612 [01:43<00:09, 246.94it/s]"
       ]
      },
      {
       "output_type": "stream",
       "stream": "stderr",
       "text": [
        "\r",
        " 79%|\u2588\u2588\u2588\u2588\u2588\u2588\u2588\u2589  | 9210/11612 [01:43<00:09, 249.32it/s]"
       ]
      },
      {
       "output_type": "stream",
       "stream": "stderr",
       "text": [
        "\r",
        " 80%|\u2588\u2588\u2588\u2588\u2588\u2588\u2588\u2589  | 9236/11612 [01:43<00:09, 251.48it/s]"
       ]
      },
      {
       "output_type": "stream",
       "stream": "stderr",
       "text": [
        "\r",
        " 80%|\u2588\u2588\u2588\u2588\u2588\u2588\u2588\u2589  | 9264/11612 [01:43<00:09, 257.34it/s]"
       ]
      },
      {
       "output_type": "stream",
       "stream": "stderr",
       "text": [
        "\r",
        " 80%|\u2588\u2588\u2588\u2588\u2588\u2588\u2588\u2588  | 9290/11612 [01:43<00:09, 257.26it/s]"
       ]
      },
      {
       "output_type": "stream",
       "stream": "stderr",
       "text": [
        "\r",
        " 80%|\u2588\u2588\u2588\u2588\u2588\u2588\u2588\u2588  | 9317/11612 [01:43<00:08, 260.19it/s]"
       ]
      },
      {
       "output_type": "stream",
       "stream": "stderr",
       "text": [
        "\r",
        " 80%|\u2588\u2588\u2588\u2588\u2588\u2588\u2588\u2588  | 9345/11612 [01:43<00:08, 264.31it/s]"
       ]
      },
      {
       "output_type": "stream",
       "stream": "stderr",
       "text": [
        "\r",
        " 81%|\u2588\u2588\u2588\u2588\u2588\u2588\u2588\u2588  | 9372/11612 [01:44<00:08, 265.49it/s]"
       ]
      },
      {
       "output_type": "stream",
       "stream": "stderr",
       "text": [
        "\r",
        " 81%|\u2588\u2588\u2588\u2588\u2588\u2588\u2588\u2588  | 9401/11612 [01:44<00:08, 272.22it/s]"
       ]
      },
      {
       "output_type": "stream",
       "stream": "stderr",
       "text": [
        "\r",
        " 81%|\u2588\u2588\u2588\u2588\u2588\u2588\u2588\u2588  | 9430/11612 [01:44<00:07, 276.54it/s]"
       ]
      },
      {
       "output_type": "stream",
       "stream": "stderr",
       "text": [
        "\r",
        " 81%|\u2588\u2588\u2588\u2588\u2588\u2588\u2588\u2588\u258f | 9459/11612 [01:44<00:07, 280.05it/s]"
       ]
      },
      {
       "output_type": "stream",
       "stream": "stderr",
       "text": [
        "\r",
        " 82%|\u2588\u2588\u2588\u2588\u2588\u2588\u2588\u2588\u258f | 9489/11612 [01:44<00:07, 283.80it/s]"
       ]
      },
      {
       "output_type": "stream",
       "stream": "stderr",
       "text": [
        "\r",
        " 82%|\u2588\u2588\u2588\u2588\u2588\u2588\u2588\u2588\u258f | 9520/11612 [01:44<00:07, 288.72it/s]"
       ]
      },
      {
       "output_type": "stream",
       "stream": "stderr",
       "text": [
        "\r",
        " 82%|\u2588\u2588\u2588\u2588\u2588\u2588\u2588\u2588\u258f | 9550/11612 [01:44<00:07, 291.57it/s]"
       ]
      },
      {
       "output_type": "stream",
       "stream": "stderr",
       "text": [
        "\r",
        " 83%|\u2588\u2588\u2588\u2588\u2588\u2588\u2588\u2588\u258e | 9580/11612 [01:44<00:06, 293.90it/s]"
       ]
      },
      {
       "output_type": "stream",
       "stream": "stderr",
       "text": [
        "\r",
        " 83%|\u2588\u2588\u2588\u2588\u2588\u2588\u2588\u2588\u258e | 9612/11612 [01:44<00:06, 299.49it/s]"
       ]
      },
      {
       "output_type": "stream",
       "stream": "stderr",
       "text": [
        "\r",
        " 83%|\u2588\u2588\u2588\u2588\u2588\u2588\u2588\u2588\u258e | 9645/11612 [01:44<00:06, 306.65it/s]"
       ]
      },
      {
       "output_type": "stream",
       "stream": "stderr",
       "text": [
        "\r",
        " 83%|\u2588\u2588\u2588\u2588\u2588\u2588\u2588\u2588\u258e | 9677/11612 [01:45<00:06, 307.13it/s]"
       ]
      },
      {
       "output_type": "stream",
       "stream": "stderr",
       "text": [
        "\r",
        " 84%|\u2588\u2588\u2588\u2588\u2588\u2588\u2588\u2588\u258e | 9710/11612 [01:45<00:06, 312.51it/s]"
       ]
      },
      {
       "output_type": "stream",
       "stream": "stderr",
       "text": [
        "\r",
        " 84%|\u2588\u2588\u2588\u2588\u2588\u2588\u2588\u2588\u258d | 9743/11612 [01:45<00:05, 315.80it/s]"
       ]
      },
      {
       "output_type": "stream",
       "stream": "stderr",
       "text": [
        "\r",
        " 84%|\u2588\u2588\u2588\u2588\u2588\u2588\u2588\u2588\u258d | 9777/11612 [01:45<00:05, 322.24it/s]"
       ]
      },
      {
       "output_type": "stream",
       "stream": "stderr",
       "text": [
        "\r",
        " 84%|\u2588\u2588\u2588\u2588\u2588\u2588\u2588\u2588\u258d | 9812/11612 [01:45<00:05, 328.79it/s]"
       ]
      },
      {
       "output_type": "stream",
       "stream": "stderr",
       "text": [
        "\r",
        " 85%|\u2588\u2588\u2588\u2588\u2588\u2588\u2588\u2588\u258d | 9847/11612 [01:45<00:05, 333.17it/s]"
       ]
      },
      {
       "output_type": "stream",
       "stream": "stderr",
       "text": [
        "\r",
        " 85%|\u2588\u2588\u2588\u2588\u2588\u2588\u2588\u2588\u258c | 9884/11612 [01:45<00:05, 341.81it/s]"
       ]
      },
      {
       "output_type": "stream",
       "stream": "stderr",
       "text": [
        "\r",
        " 85%|\u2588\u2588\u2588\u2588\u2588\u2588\u2588\u2588\u258c | 9921/11612 [01:45<00:04, 349.02it/s]"
       ]
      },
      {
       "output_type": "stream",
       "stream": "stderr",
       "text": [
        "\r",
        " 86%|\u2588\u2588\u2588\u2588\u2588\u2588\u2588\u2588\u258c | 9958/11612 [01:45<00:04, 354.97it/s]"
       ]
      },
      {
       "output_type": "stream",
       "stream": "stderr",
       "text": [
        "\r",
        " 86%|\u2588\u2588\u2588\u2588\u2588\u2588\u2588\u2588\u258c | 9997/11612 [01:45<00:04, 363.10it/s]"
       ]
      },
      {
       "output_type": "stream",
       "stream": "stderr",
       "text": [
        "\r",
        " 86%|\u2588\u2588\u2588\u2588\u2588\u2588\u2588\u2588\u258b | 10035/11612 [01:46<00:04, 367.21it/s]"
       ]
      },
      {
       "output_type": "stream",
       "stream": "stderr",
       "text": [
        "\r",
        " 87%|\u2588\u2588\u2588\u2588\u2588\u2588\u2588\u2588\u258b | 10075/11612 [01:46<00:04, 374.66it/s]"
       ]
      },
      {
       "output_type": "stream",
       "stream": "stderr",
       "text": [
        "\r",
        " 87%|\u2588\u2588\u2588\u2588\u2588\u2588\u2588\u2588\u258b | 10115/11612 [01:46<00:03, 381.73it/s]"
       ]
      },
      {
       "output_type": "stream",
       "stream": "stderr",
       "text": [
        "\r",
        " 87%|\u2588\u2588\u2588\u2588\u2588\u2588\u2588\u2588\u258b | 10157/11612 [01:46<00:03, 390.16it/s]"
       ]
      },
      {
       "output_type": "stream",
       "stream": "stderr",
       "text": [
        "\r",
        " 88%|\u2588\u2588\u2588\u2588\u2588\u2588\u2588\u2588\u258a | 10202/11612 [01:46<00:03, 405.46it/s]"
       ]
      },
      {
       "output_type": "stream",
       "stream": "stderr",
       "text": [
        "\r",
        " 88%|\u2588\u2588\u2588\u2588\u2588\u2588\u2588\u2588\u258a | 10245/11612 [01:46<00:03, 412.37it/s]"
       ]
      },
      {
       "output_type": "stream",
       "stream": "stderr",
       "text": [
        "\r",
        " 89%|\u2588\u2588\u2588\u2588\u2588\u2588\u2588\u2588\u258a | 10292/11612 [01:46<00:03, 427.78it/s]"
       ]
      },
      {
       "output_type": "stream",
       "stream": "stderr",
       "text": [
        "\r",
        " 89%|\u2588\u2588\u2588\u2588\u2588\u2588\u2588\u2588\u2589 | 10338/11612 [01:46<00:02, 435.27it/s]"
       ]
      },
      {
       "output_type": "stream",
       "stream": "stderr",
       "text": [
        "\r",
        " 89%|\u2588\u2588\u2588\u2588\u2588\u2588\u2588\u2588\u2589 | 10388/11612 [01:46<00:02, 451.75it/s]"
       ]
      },
      {
       "output_type": "stream",
       "stream": "stderr",
       "text": [
        "\r",
        " 90%|\u2588\u2588\u2588\u2588\u2588\u2588\u2588\u2588\u2589 | 10438/11612 [01:46<00:02, 462.72it/s]"
       ]
      },
      {
       "output_type": "stream",
       "stream": "stderr",
       "text": [
        "\r",
        " 90%|\u2588\u2588\u2588\u2588\u2588\u2588\u2588\u2588\u2588 | 10494/11612 [01:47<00:02, 486.93it/s]"
       ]
      },
      {
       "output_type": "stream",
       "stream": "stderr",
       "text": [
        "\r",
        " 91%|\u2588\u2588\u2588\u2588\u2588\u2588\u2588\u2588\u2588 | 10550/11612 [01:47<00:02, 505.04it/s]"
       ]
      },
      {
       "output_type": "stream",
       "stream": "stderr",
       "text": [
        "\r",
        " 91%|\u2588\u2588\u2588\u2588\u2588\u2588\u2588\u2588\u2588\u258f| 10609/11612 [01:47<00:01, 525.76it/s]"
       ]
      },
      {
       "output_type": "stream",
       "stream": "stderr",
       "text": [
        "\r",
        " 92%|\u2588\u2588\u2588\u2588\u2588\u2588\u2588\u2588\u2588\u258f| 10675/11612 [01:47<00:01, 558.99it/s]"
       ]
      },
      {
       "output_type": "stream",
       "stream": "stderr",
       "text": [
        "\r",
        " 93%|\u2588\u2588\u2588\u2588\u2588\u2588\u2588\u2588\u2588\u258e| 10746/11612 [01:47<00:01, 596.29it/s]"
       ]
      },
      {
       "output_type": "stream",
       "stream": "stderr",
       "text": [
        "\r",
        " 93%|\u2588\u2588\u2588\u2588\u2588\u2588\u2588\u2588\u2588\u258e| 10820/11612 [01:47<00:01, 632.71it/s]"
       ]
      },
      {
       "output_type": "stream",
       "stream": "stderr",
       "text": [
        "\r",
        " 94%|\u2588\u2588\u2588\u2588\u2588\u2588\u2588\u2588\u2588\u258d| 10902/11612 [01:47<00:01, 679.19it/s]"
       ]
      },
      {
       "output_type": "stream",
       "stream": "stderr",
       "text": [
        "\r",
        " 95%|\u2588\u2588\u2588\u2588\u2588\u2588\u2588\u2588\u2588\u258d| 10993/11612 [01:47<00:00, 733.97it/s]"
       ]
      },
      {
       "output_type": "stream",
       "stream": "stderr",
       "text": [
        "\r",
        " 96%|\u2588\u2588\u2588\u2588\u2588\u2588\u2588\u2588\u2588\u258c| 11103/11612 [01:47<00:00, 814.20it/s]"
       ]
      },
      {
       "output_type": "stream",
       "stream": "stderr",
       "text": [
        "\r",
        " 97%|\u2588\u2588\u2588\u2588\u2588\u2588\u2588\u2588\u2588\u258b| 11245/11612 [01:47<00:00, 933.23it/s]"
       ]
      },
      {
       "output_type": "stream",
       "stream": "stderr",
       "text": [
        "\r",
        " 99%|\u2588\u2588\u2588\u2588\u2588\u2588\u2588\u2588\u2588\u2589| 11501/11612 [01:48<00:00, 1152.84it/s]"
       ]
      },
      {
       "output_type": "stream",
       "stream": "stderr",
       "text": [
        "\r",
        "100%|\u2588\u2588\u2588\u2588\u2588\u2588\u2588\u2588\u2588\u2588| 11612/11612 [01:48<00:00, 107.44it/s] "
       ]
      },
      {
       "output_type": "stream",
       "stream": "stderr",
       "text": [
        "\n"
       ]
      }
     ],
     "prompt_number": 16
    },
    {
     "cell_type": "code",
     "collapsed": false,
     "input": [
      "heart_size"
     ],
     "language": "python",
     "metadata": {},
     "outputs": [
      {
       "metadata": {},
       "output_type": "pyout",
       "prompt_number": 17,
       "text": [
        "361"
       ]
      }
     ],
     "prompt_number": 17
    },
    {
     "cell_type": "code",
     "collapsed": false,
     "input": [],
     "language": "python",
     "metadata": {},
     "outputs": [],
     "prompt_number": 19
    },
    {
     "cell_type": "code",
     "collapsed": false,
     "input": [],
     "language": "python",
     "metadata": {},
     "outputs": [],
     "prompt_number": 15
    },
    {
     "cell_type": "code",
     "collapsed": false,
     "input": [],
     "language": "python",
     "metadata": {},
     "outputs": []
    }
   ],
   "metadata": {}
  }
 ]
}