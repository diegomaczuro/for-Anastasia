{
 "metadata": {
  "name": "",
  "signature": "sha256:956cd1b9e929b58370de423b1dd1ecca819f8dbf5fdd99bc863ec7d2656fb43d"
 },
 "nbformat": 3,
 "nbformat_minor": 0,
 "worksheets": [
  {
   "cells": [
    {
     "cell_type": "code",
     "collapsed": false,
     "input": [
      "import numpy as np\n",
      "import pandas as pd\n",
      "from vtk import *\n",
      "from vtk.util import numpy_support\n",
      "import os\n",
      "from sklearn.neighbors import KDTree\n",
      "from vtk.util.numpy_support import vtk_to_numpy\n",
      "from vtk.util.numpy_support import numpy_to_vtk\n",
      "from tqdm import tqdm\n",
      "import glob\n",
      "import h5py\n",
      "from vtk.util.numpy_support import numpy_to_vtk\n",
      "import matplotlib.pylab as plt\n",
      "%matplotlib inline\n",
      "import unittest"
     ],
     "language": "python",
     "metadata": {},
     "outputs": [],
     "prompt_number": 1
    },
    {
     "cell_type": "code",
     "collapsed": false,
     "input": [
      "WAY_3D = '/home/shido/chaste-output/benson2008_3d_bidomain_endocardial_slice'\n",
      "WAY_2D = '/home/shido/chaste-output/benson2008_2d_bidomain_endocardial_all_currents'\n",
      "WAY = '/home/shido/Documents/shido/for Anastasia/for-Anastasia/data from claster/11_03_2017/nastya_lr'\n",
      "WAY_RESULT = '/home/shido/Documents/shido/for Anastasia/for-Anastasia/for theses on  autumn school/result_benson2008'\n",
      "WAY_DTMRI = '/home/shido/Documents/shido/for Anastasia/for-Anastasia/DTI080803'\n",
      "file_data = './result_full_vector_field.vtu'\n",
      "FILE_MESH_INIT = 'init_mesh_1.vtu'\n",
      "FILE_MESH = 'slice_mesh2.vtk'\n",
      "POINT_O = 62\n",
      "POINT_A = 6571\n",
      "POINT_B = 785"
     ],
     "language": "python",
     "metadata": {},
     "outputs": [],
     "prompt_number": 2
    },
    {
     "cell_type": "code",
     "collapsed": false,
     "input": [
      "assert(os.path.exists(FILE_MESH))\n",
      "assert(os.path.exists(os.path.join(WAY_DTMRI,file_data)))"
     ],
     "language": "python",
     "metadata": {},
     "outputs": [],
     "prompt_number": 3
    },
    {
     "cell_type": "code",
     "collapsed": false,
     "input": [
      "#\u0427\u0442\u0435\u043d\u0438\u0435 \u043f\u043b\u043e\u0441\u043a\u043e\u0439 \u0441\u0435\u0442\u043a\u0438\n",
      "reader = vtkUnstructuredGridReader()\n",
      "reader.SetFileName(FILE_MESH)\n",
      "reader.Update()\n",
      "ug = reader.GetOutput()"
     ],
     "language": "python",
     "metadata": {},
     "outputs": [],
     "prompt_number": 4
    },
    {
     "cell_type": "code",
     "collapsed": false,
     "input": [
      "points = ug.GetPoints()\n",
      "coord_points_data = vtk_to_numpy(points.GetData())\n",
      "coord_points_data"
     ],
     "language": "python",
     "metadata": {},
     "outputs": [
      {
       "metadata": {},
       "output_type": "pyout",
       "prompt_number": 5,
       "text": [
        "array([[ 2.39657   ,  2.83447   ,  2.10755   ],\n",
        "       [ 2.41836627,  2.83447   ,  2.08019949],\n",
        "       [ 2.44080654,  2.83447   ,  2.05337655],\n",
        "       ..., \n",
        "       [ 4.09603914,  2.83447   ,  1.0492116 ],\n",
        "       [ 3.97081886,  2.83447   ,  1.04549061],\n",
        "       [ 4.04382201,  2.83447   ,  1.04451127]])"
       ]
      }
     ],
     "prompt_number": 5
    },
    {
     "cell_type": "code",
     "collapsed": false,
     "input": [
      "#\u043f\u043e\u0432\u043e\u0440\u043e\u0442 \u043f\u043b\u043e\u0441\u043a\u043e\u0439 \u0441\u0435\u0442\u043a\u0438 \u0434\u043e \u0442\u0440\u0435\u0445\u043c\u0435\u0440\u043d\u043e\u0439 \u0441\u0435\u0442\u043a\u0438\n",
      "vec1 = coord_points_data[POINT_A] - coord_points_data[POINT_O]\n",
      "vec2_ = coord_points_data[POINT_B] - coord_points_data[POINT_O]\n",
      "vec3 = np.cross(vec1, vec2_)\n",
      "vec2 = np.cross(vec1, vec3)\n",
      "vec1_len = np.linalg.norm(vec1)\n",
      "vec2_len = np.linalg.norm(vec2)\n",
      "vec3_len = np.linalg.norm(vec3)\n",
      "print vec1/vec1_len, vec2/vec2_len, vec3/vec3_len, vec1_len\n",
      "#\u043c\u0430\u0442\u0440\u0438\u0446\u0430 \u043f\u043e\u0432\u043e\u0440\u043e\u0442\u0430\n",
      "L = np.matrix(np.vstack([vec1/vec1_len, vec2/vec2_len, vec3/vec3_len]).T)\n",
      "L_inv = np.linalg.inv(L)\n",
      "\n",
      "\n",
      "    \n",
      "#points = numpy_to_vtk(res, deep=True, array_type=vtk.VTK_FLOAT)\n",
      "#vtkpoints = vtkPoints()\n",
      "#for i in tqdm(xrange(len(coord_points_data))):\n",
      "    #vtkpoints.InsertPoint(i, res[i, 0], res[i, 1], res[i, 2])\n",
      "#output.SetPoints(vtkpoints)"
     ],
     "language": "python",
     "metadata": {},
     "outputs": [
      {
       "output_type": "stream",
       "stream": "stdout",
       "text": [
        "[ 0.48666709  0.          0.87358751] [ 0.87358751  0.         -0.48666709] [ 0. -1.  0.] 3.21150907221\n"
       ]
      }
     ],
     "prompt_number": 6
    },
    {
     "cell_type": "code",
     "collapsed": false,
     "input": [
      "#\u0447\u0442\u0435\u043d\u0438\u0435 \u0434\u0430\u043d\u043d\u044b\u0445 \u0414\u0422 \u041c\u0420\u0422\n",
      "reader2 = vtkXMLUnstructuredGridReader()\n",
      "reader2.SetFileName(os.path.join(WAY_DTMRI,file_data))\n",
      "reader2.Update()\n",
      "ug2 = reader2.GetOutput()\n",
      "points2 = ug2.GetPoints()\n",
      "#coords_vectors_data2 = vtk_to_numpy(ug2.GetPointData().GetArray('DTMRIFiberOrientation'))\n",
      "coord_points_data2 = vtk_to_numpy(points2.GetData())\n",
      "coords_tenzors_data2 = vtk_to_numpy(ug2.GetFieldData().GetArray('tensors'))\n",
      "eigenvalues =vtk_to_numpy(ug2.GetPointData().GetArray('eigenvalues')) \n",
      "#\u043f\u043e\u0441\u0442\u0440\u043e\u0435\u043d\u0438\u0435 \u0434\u0435\u0440\u0435\u0432\u0430\n",
      "tree = KDTree(coord_points_data2, leaf_size=5, metric='euclidean')"
     ],
     "language": "python",
     "metadata": {},
     "outputs": [],
     "prompt_number": 7
    },
    {
     "cell_type": "code",
     "collapsed": false,
     "input": [
      "coords_tenzors_data2[0]"
     ],
     "language": "python",
     "metadata": {},
     "outputs": [
      {
       "metadata": {},
       "output_type": "pyout",
       "prompt_number": 8,
       "text": [
        "array([-0.72031754,  0.15601633, -0.67587095,  0.51613897,  0.77150851,\n",
        "       -0.37198818,  0.46340397, -0.61679292, -0.63625723], dtype=float32)"
       ]
      }
     ],
     "prompt_number": 8
    },
    {
     "cell_type": "code",
     "collapsed": false,
     "input": [
      "coords_tenzors_data2[0].reshape((3, 3))"
     ],
     "language": "python",
     "metadata": {},
     "outputs": [
      {
       "metadata": {},
       "output_type": "pyout",
       "prompt_number": 9,
       "text": [
        "array([[-0.72031754,  0.15601633, -0.67587095],\n",
        "       [ 0.51613897,  0.77150851, -0.37198818],\n",
        "       [ 0.46340397, -0.61679292, -0.63625723]], dtype=float32)"
       ]
      }
     ],
     "prompt_number": 9
    },
    {
     "cell_type": "code",
     "collapsed": false,
     "input": [
      "eigenvalues[0]"
     ],
     "language": "python",
     "metadata": {},
     "outputs": [
      {
       "metadata": {},
       "output_type": "pyout",
       "prompt_number": 10,
       "text": [
        "array([  1.96299552e-05,   1.41325218e-05,   1.02993463e-05], dtype=float32)"
       ]
      }
     ],
     "prompt_number": 10
    },
    {
     "cell_type": "code",
     "collapsed": false,
     "input": [
      "def project_tensor_on_plane(n, tensor):\n",
      "    \"\"\"   \n",
      "             n: plane normal vector\n",
      "        tensor: old tensor in 3D space\n",
      "         \n",
      "        return: Projection Tensor     \n",
      "    \n",
      "    \"\"\"\n",
      "    P = np.array([[1-n[0]**2, -n[0]*n[1], -n[0]*n[2]],\n",
      "                  [-n[0]*n[1], 1-n[1]**2, -n[1]*n[2]],\n",
      "                 [-n[0]*n[2], -n[1]*n[2], 1-n[2]**2]])    \n",
      "    \n",
      "    M2 = np.dot(P,tensor)\n",
      "    M_ = np.dot(M2,P.T)\n",
      "   \n",
      "    return M_"
     ],
     "language": "python",
     "metadata": {},
     "outputs": [],
     "prompt_number": 11
    },
    {
     "cell_type": "code",
     "collapsed": false,
     "input": [],
     "language": "python",
     "metadata": {},
     "outputs": [],
     "prompt_number": 11
    },
    {
     "cell_type": "code",
     "collapsed": false,
     "input": [],
     "language": "python",
     "metadata": {},
     "outputs": [],
     "prompt_number": 11
    },
    {
     "cell_type": "code",
     "collapsed": false,
     "input": [
      "import sys\n",
      "\n",
      "class MyTest(unittest.TestCase):\n",
      "    def test_project_anisotropic_tensor_on_plane_OZ(self):\n",
      "        #@project_tensor_on_plane             \n",
      "        \n",
      "        normal_tenzor1 = np.array([[0,0,0], [0, 0, 0], [0, 0, 1]])\n",
      "        tenzor1 = np.array([[1,0,0], [0, 3, 0], [0, 0, 2]])\n",
      "        projection1 = project_tensor_on_plane(normal_tenzor1, tenzor1)\n",
      "        #self.assertEqual(np.all(np.array([1,1])-np.array([1,1])),0)\n",
      "        self.assertEqual(np.all(projection1-np.array([[1, 0, 0],\n",
      "                                                      [0, 3, 0],\n",
      "                                                      [0, 0, 0]])), 0)\n",
      "        \n",
      "        \n",
      "    def test_project_anisotropic_tensor_on_plane_OY(self):        \n",
      "        normal_tenzor2 = np.array([[0,0,0], [0, 1, 0], [0, 0, 0]])\n",
      "        tenzor2 = np.array([[1,0,0], [0, 1, 0], [0, 0, 2]])\n",
      "        projection2 = project_tensor_on_plane(normal_tenzor2, tenzor2)\n",
      "        #self.assertEqual(np.all(np.array([1,1])-np.array([1,1])),0)\n",
      "        self.assertEqual(np.all(projection2-np.array([[1, 0, 0],\n",
      "                                                      [0, 0, 0],\n",
      "                                                      [0, 0, 2]])), 0)\n",
      "        \n",
      "    def test_project_anisotropic_tensor_on_plane_OX(self):\n",
      "        \n",
      "        normal_tenzor3 = np.array([[-1,0,0], [0, 0, 0], [0, 0, 0]])\n",
      "        tenzor3 = np.array([[2,0,0], [0, 1, 0], [0, 0, 1]])\n",
      "        projection3 = project_tensor_on_plane(normal_tenzor3, tenzor3)\n",
      "        #self.assertEqual(np.all(np.array([1,1])-np.array([1,1])),0)\n",
      "        self.assertEqual(np.all(projection3-np.array([[0, 0, 0],\n",
      "                                                      [0, 1, 0],\n",
      "                                                      [0, 0, 1]])), 0)\n",
      "        \n",
      "        \n",
      "        \n",
      "    def test_project_anisotropic_tensor_on_turn_45_degrees_plane(self):\n",
      "        \n",
      "        normal_tenzor5 = np.array([[1,0,0], [0, 1, 0], [0, 0, 1]])\n",
      "        tenzor5 = np.array([[3,0,0], [0, 2, 0], [0, 0, 4]])\n",
      "        projection5 = project_tensor_on_plane(normal_tenzor5, tenzor5)\n",
      "        #self.assertEqual(np.all(np.array([1,1])-np.array([1,1])),0)\n",
      "        self.assertEqual(np.all(projection5-np.array([[0, 0, 0],\n",
      "                                                      [0, 2, 0],\n",
      "                                                      [0, 0, 4]])), 0)\n",
      "        \n",
      "        \n",
      "    def test_project_anisotropic_turn_tensor_on_turn_plane_OX(self):\n",
      "        \n",
      "        tenzor = np.array([[1,0,0], [0, 1, 0], [0, 0, 2]])\n",
      "        a_x = np.array([[0,0,0], [0, 1, 0], [0, 0, 2]]) \n",
      "        \n",
      "        n_x = np.array([1, 1, 1])\n",
      "        n_y = np.array([0, 1, -1])\n",
      "        n_z = np.cross(n_x, n_y)\n",
      "        \n",
      "        n_x = n_x/np.linalg.norm(n_x)\n",
      "        n_y = n_y/np.linalg.norm(n_y)\n",
      "        n_z = n_z/np.linalg.norm(n_z)\n",
      "        #\u043c\u0430\u0442\u0440\u0438\u0446\u0430 \u043f\u043e\u0432\u043e\u0440\u043e\u0442\u0430\n",
      "        L = np.column_stack((n_x, n_y, n_z))\n",
      "        \n",
      "        #\u0442\u0435\u043d\u0437\u043e\u0440\n",
      "        tenzor_ = np.dot(L, tenzor)\n",
      "        #\u043f\u043e\u0432\u043e\u0440\u043e\u0442 \u0442\u0435\u043d\u0437\u043e\u0440\u0430\n",
      "        tenzor_turn = np.dot(tenzor_, L.T)        \n",
      "        \n",
      "        #\u043d\u043e\u0440\u043c\u0430\u043b\u044c \u043a \u043f\u043b\u043e\u0441\u043a\u043e\u0441\u0442\u0438 OX\n",
      "        normal_x = np.array([1, 0, 0])\n",
      "        #\u043f\u043e\u0432\u043e\u0440\u043e\u0442 \u043d\u043e\u0440\u043c\u0430\u043b\u0438\n",
      "        normal_x_turn = np.dot(L, normal_x)\n",
      "\n",
      "        #\u043e\u0436\u0438\u0434\u0430\u0435\u043c\u044b\u0439 \u0440\u0435\u0437\u0443\u043b\u044c\u0442\u0430\u0442 \u043f\u0440\u043e\u0435\u043a\u0446\u0438\u0438 \u043d\u0430 \u043f\u043e\u0432\u043e\u0440\u043d\u0443\u0442\u0443\u044e \u043f\u043b\u043e\u0441\u043a\u043e\u0441\u0442\u044c OX \n",
      "        a_x_ = np.dot(L, a_x)\n",
      "        a_x_turn = np.dot(a_x_, L.T) \n",
      "\n",
      "        projection6 = project_tensor_on_plane(normal_x_turn, tenzor_turn)\n",
      "        self.assertEqual(np.all(projection6-a_x_turn), 0) \n",
      "        \n",
      "        \n",
      "    def test_project_anisotropic_turn_tensor_on_turn_plane_OY(self):\n",
      "        \n",
      "        tenzor = np.array([[1,0,0], [0, 1, 0], [0, 0, 2]])        \n",
      "        a_y = np.array([[1,0,0], [0, 0, 0], [0, 0, 2]])\n",
      "\n",
      "        \n",
      "        \n",
      "        n_x = np.array([1, 1, 1])\n",
      "        n_y = np.array([0, 1, -1])\n",
      "        n_z = np.cross(n_x, n_y)\n",
      "        \n",
      "        n_x = n_x/np.linalg.norm(n_x)\n",
      "        n_y = n_y/np.linalg.norm(n_y)\n",
      "        n_z = n_z/np.linalg.norm(n_z)\n",
      "        #\u043c\u0430\u0442\u0440\u0438\u0446\u0430 \u043f\u043e\u0432\u043e\u0440\u043e\u0442\u0430\n",
      "        L = np.column_stack((n_x, n_y, n_z))\n",
      "        \n",
      "        #\u0442\u0435\u043d\u0437\u043e\u0440\n",
      "        tenzor_ = np.dot(L, tenzor)\n",
      "        #\u043f\u043e\u0432\u043e\u0440\u043e\u0442 \u0442\u0435\u043d\u0437\u043e\u0440\u0430\n",
      "        tenzor_turn = np.dot(tenzor_, L.T)\n",
      "       \n",
      "        #\u043d\u043e\u0440\u043c\u0430\u043b\u044c \u043a \u043f\u043b\u043e\u0441\u043a\u043e\u0441\u0442\u0438 OY\n",
      "        normal_y = np.array([0, 1, 0])\n",
      "        #\u043f\u043e\u0432\u043e\u0440\u043e\u0442 \u043d\u043e\u0440\u043c\u0430\u043b\u0438\n",
      "        normal_y_turn = np.dot(L, normal_y)        \n",
      "\n",
      "        #\u043e\u0436\u0438\u0434\u0430\u0435\u043c\u044b\u0439 \u0440\u0435\u0437\u0443\u043b\u044c\u0442\u0430\u0442 \u043f\u0440\u043e\u0435\u043a\u0446\u0438\u0438 \u043d\u0430 \u043f\u043e\u0432\u043e\u0440\u043d\u0443\u0442\u0443\u044e \u043f\u043b\u043e\u0441\u043a\u043e\u0441\u0442\u044c OY \n",
      "        a_y_ = np.dot(L, a_y)\n",
      "        a_y_turn = np.dot(a_y_, L.T)        \n",
      "\n",
      "        projection7 = project_tensor_on_plane(normal_y_turn, tenzor_turn)\n",
      "        self.assertEqual(np.all(projection7-a_y_turn), 0)\n",
      "       \n",
      "        \n",
      "    def test_project_anisotropic_turn_tensor_on_turn_plane_OZ(self):\n",
      "        \n",
      "        tenzor = np.array([[1,0,0], [0, 1, 0], [0, 0, 2]])       \n",
      "        a_z = np.array([[1,0,0], [0, 1, 0], [0, 0, 0]])\n",
      "        \n",
      "        \n",
      "        n_x = np.array([1, 1, 1])\n",
      "        n_y = np.array([0, 1, -1])\n",
      "        n_z = np.cross(n_x, n_y)\n",
      "        \n",
      "        n_x = n_x/np.linalg.norm(n_x)\n",
      "        n_y = n_y/np.linalg.norm(n_y)\n",
      "        n_z = n_z/np.linalg.norm(n_z)\n",
      "        #\u043c\u0430\u0442\u0440\u0438\u0446\u0430 \u043f\u043e\u0432\u043e\u0440\u043e\u0442\u0430\n",
      "        L = np.column_stack((n_x, n_y, n_z))\n",
      "        \n",
      "        #\u0442\u0435\u043d\u0437\u043e\u0440\n",
      "        tenzor_ = np.dot(L, tenzor)\n",
      "        #\u043f\u043e\u0432\u043e\u0440\u043e\u0442 \u0442\u0435\u043d\u0437\u043e\u0440\u0430\n",
      "        tenzor_turn = np.dot(tenzor_, L.T) \n",
      "       \n",
      "        #\u043d\u043e\u0440\u043c\u0430\u043b\u044c \u043a \u043f\u043b\u043e\u0441\u043a\u043e\u0441\u0442\u0438 OZ\n",
      "        normal_z = np.array([0, 0, 1])\n",
      "        #\u043f\u043e\u0432\u043e\u0440\u043e\u0442 \u043d\u043e\u0440\u043c\u0430\u043b\u0438\n",
      "        normal_z_turn = np.dot(L, normal_z)        \n",
      "\n",
      "        #\u043e\u0436\u0438\u0434\u0430\u0435\u043c\u044b\u0439 \u0440\u0435\u0437\u0443\u043b\u044c\u0442\u0430\u0442 \u043f\u0440\u043e\u0435\u043a\u0446\u0438\u0438 \u043d\u0430 \u043f\u043e\u0432\u043e\u0440\u043d\u0443\u0442\u0443\u044e \u043f\u043b\u043e\u0441\u043a\u043e\u0441\u0442\u044c OZ \n",
      "        a_z_ = np.dot(L, a_z)\n",
      "        a_z_turn = np.dot(a_z_, L.T)        \n",
      "        \n",
      "        projection8 = project_tensor_on_plane(normal_z_turn, tenzor_turn)\n",
      "        self.assertEqual(np.all(projection8-a_z_turn), 0)\n",
      "\n",
      "        \n",
      "        \n",
      "        \n",
      "        \n",
      "suite = unittest.TestLoader().loadTestsFromTestCase( MyTest )\n",
      "unittest.TextTestRunner(verbosity=1,stream=sys.stderr).run( suite )\n"
     ],
     "language": "python",
     "metadata": {},
     "outputs": [
      {
       "output_type": "stream",
       "stream": "stderr",
       "text": [
        "."
       ]
      },
      {
       "output_type": "stream",
       "stream": "stderr",
       "text": [
        "."
       ]
      },
      {
       "output_type": "stream",
       "stream": "stderr",
       "text": [
        "."
       ]
      },
      {
       "output_type": "stream",
       "stream": "stderr",
       "text": [
        "."
       ]
      },
      {
       "output_type": "stream",
       "stream": "stderr",
       "text": [
        "."
       ]
      },
      {
       "output_type": "stream",
       "stream": "stderr",
       "text": [
        "."
       ]
      },
      {
       "output_type": "stream",
       "stream": "stderr",
       "text": [
        "."
       ]
      },
      {
       "output_type": "stream",
       "stream": "stderr",
       "text": [
        "\n",
        "----------------------------------------------------------------------\n",
        "Ran 7 tests in 0.009s\n",
        "\n",
        "OK\n"
       ]
      },
      {
       "metadata": {},
       "output_type": "pyout",
       "prompt_number": 12,
       "text": [
        "<unittest.runner.TextTestResult run=7 errors=0 failures=0>"
       ]
      }
     ],
     "prompt_number": 12
    },
    {
     "cell_type": "code",
     "collapsed": false,
     "input": [
      "#suite = unittest.TestLoader().loadTestsFromTestCase( MyTest )\n",
      "#unittest.TextTestRunner(verbosity=1,stream=sys.stderr).run( suite )\n",
      "#\u043d\u043e\u0440\u043c\u0430\u043b\u044c\n",
      "n = vec3/vec3_len\n",
      "n"
     ],
     "language": "python",
     "metadata": {},
     "outputs": [
      {
       "metadata": {},
       "output_type": "pyout",
       "prompt_number": 13,
       "text": [
        "array([ 0., -1.,  0.])"
       ]
      }
     ],
     "prompt_number": 13
    },
    {
     "cell_type": "code",
     "collapsed": false,
     "input": [
      "vectors_array = np.zeros((len(coord_points_data), 3, 3))\n",
      "dist, ind = tree.query(coord_points_data, k=1)\n",
      "#\u041f\u0440\u043e\u0435\u043a\u0446\u0438\u044f \u0442\u0435\u043d\u0437\u043e\u0440\u043e\u0432 \u0438\u0437 \u0414\u0422 \u041c\u0420\u0422 \u043d\u0430 \u043f\u043b\u043e\u0441\u043a\u0438\u0439 \u0441\u0440\u0435\u0437\n",
      "for i in tqdm(xrange(len(coord_points_data))):        \n",
      "    index = ind[i][0]\n",
      "    eigenvalues_ = eigenvalues[index]/np.linalg.norm(eigenvalues[index])\n",
      "    eigenvalues_tenzor = np.array(([eigenvalues_[0], 0, 0],\n",
      "                                  [0, eigenvalues_[1], 0],\n",
      "                                  [0, 0, eigenvalues_[2]]))\n",
      "    #n_ = np.dot(coords_tenzors_data2[index].reshape((3, 3)), n)\n",
      "    #print n_\n",
      "    turn_tenzor_ = np.dot(coords_tenzors_data2[index].reshape((3, 3)), eigenvalues_tenzor)\n",
      "    turn_tenzor = np.dot(turn_tenzor_, coords_tenzors_data2[index].reshape((3, 3)).T)   \n",
      "    projecting  = project_tensor_on_plane(n, turn_tenzor)\n",
      "    #print projecting\n",
      "    vectors_array[i] = projecting"
     ],
     "language": "python",
     "metadata": {},
     "outputs": [
      {
       "output_type": "stream",
       "stream": "stderr",
       "text": [
        "\r",
        "  0%|          | 0/11612 [00:00<?, ?it/s]"
       ]
      },
      {
       "output_type": "stream",
       "stream": "stderr",
       "text": [
        "\r",
        "  8%|\u258a         | 882/11612 [00:00<00:01, 8817.44it/s]"
       ]
      },
      {
       "output_type": "stream",
       "stream": "stderr",
       "text": [
        "\r",
        " 15%|\u2588\u258d        | 1684/11612 [00:00<00:01, 8561.66it/s]"
       ]
      },
      {
       "output_type": "stream",
       "stream": "stderr",
       "text": [
        "\r",
        " 22%|\u2588\u2588\u258f       | 2546/11612 [00:00<00:01, 8576.80it/s]"
       ]
      },
      {
       "output_type": "stream",
       "stream": "stderr",
       "text": [
        "\r",
        " 29%|\u2588\u2588\u2589       | 3387/11612 [00:00<00:00, 8524.43it/s]"
       ]
      },
      {
       "output_type": "stream",
       "stream": "stderr",
       "text": [
        "\r",
        " 37%|\u2588\u2588\u2588\u258b      | 4319/11612 [00:00<00:00, 8747.04it/s]"
       ]
      },
      {
       "output_type": "stream",
       "stream": "stderr",
       "text": [
        "\r",
        " 45%|\u2588\u2588\u2588\u2588\u258c     | 5269/11612 [00:00<00:00, 8958.62it/s]"
       ]
      },
      {
       "output_type": "stream",
       "stream": "stderr",
       "text": [
        "\r",
        " 53%|\u2588\u2588\u2588\u2588\u2588\u258e    | 6111/11612 [00:00<00:00, 8789.58it/s]"
       ]
      },
      {
       "output_type": "stream",
       "stream": "stderr",
       "text": [
        "\r",
        " 60%|\u2588\u2588\u2588\u2588\u2588\u2589    | 6947/11612 [00:00<00:00, 8655.28it/s]"
       ]
      },
      {
       "output_type": "stream",
       "stream": "stderr",
       "text": [
        "\r",
        " 68%|\u2588\u2588\u2588\u2588\u2588\u2588\u258a   | 7845/11612 [00:00<00:00, 8748.16it/s]"
       ]
      },
      {
       "output_type": "stream",
       "stream": "stderr",
       "text": [
        "\r",
        " 76%|\u2588\u2588\u2588\u2588\u2588\u2588\u2588\u258c  | 8797/11612 [00:01<00:00, 8964.62it/s]"
       ]
      },
      {
       "output_type": "stream",
       "stream": "stderr",
       "text": [
        "\r",
        " 84%|\u2588\u2588\u2588\u2588\u2588\u2588\u2588\u2588\u258d | 9789/11612 [00:01<00:00, 9229.05it/s]"
       ]
      },
      {
       "output_type": "stream",
       "stream": "stderr",
       "text": [
        "\r",
        " 93%|\u2588\u2588\u2588\u2588\u2588\u2588\u2588\u2588\u2588\u258e| 10766/11612 [00:01<00:00, 9382.43it/s]"
       ]
      },
      {
       "output_type": "stream",
       "stream": "stderr",
       "text": [
        "\r",
        "100%|\u2588\u2588\u2588\u2588\u2588\u2588\u2588\u2588\u2588\u2588| 11612/11612 [00:01<00:00, 8986.20it/s]"
       ]
      },
      {
       "output_type": "stream",
       "stream": "stderr",
       "text": [
        "\n"
       ]
      }
     ],
     "prompt_number": 14
    },
    {
     "cell_type": "code",
     "collapsed": false,
     "input": [
      "vectors_array[0]"
     ],
     "language": "python",
     "metadata": {},
     "outputs": [
      {
       "metadata": {},
       "output_type": "pyout",
       "prompt_number": 15,
       "text": [
        "array([[ 0.67964122,  0.        , -0.03655126],\n",
        "       [ 0.        ,  0.        ,  0.        ],\n",
        "       [-0.03655126,  0.        ,  0.48483316]])"
       ]
      }
     ],
     "prompt_number": 15
    },
    {
     "cell_type": "code",
     "collapsed": false,
     "input": [
      "coords_tenzors_data2[336366]"
     ],
     "language": "python",
     "metadata": {},
     "outputs": [
      {
       "metadata": {},
       "output_type": "pyout",
       "prompt_number": 16,
       "text": [
        "array([-0.89343685,  0.29391375,  0.33968413, -0.44918182, -0.58035696,\n",
        "       -0.6792801 , -0.00251173, -0.7594738 ,  0.65053302], dtype=float32)"
       ]
      }
     ],
     "prompt_number": 16
    },
    {
     "cell_type": "code",
     "collapsed": false,
     "input": [
      "print coords_tenzors_data2[0].reshape((3, 3))\n",
      "print eigenvalues[336366]/np.linalg.norm(eigenvalues[336366])\n",
      "eigenvalues = eigenvalues[0]/np.linalg.norm(eigenvalues[0])\n",
      "eigenvalues_tenzor = np.array(([eigenvalues[0], 0, 0],\n",
      "                              [0, eigenvalues[1], 0],\n",
      "                              [0, 0, eigenvalues[2]]))\n",
      "print eigenvalues_tenzor\n",
      "turn_tenzor_ = np.dot(coords_tenzors_data2[0].reshape((3, 3)), eigenvalues_tenzor)\n",
      "turn_tenzor = np.dot(turn_tenzor_, coords_tenzors_data2[0].reshape((3, 3)).T)\n",
      "print turn_tenzor"
     ],
     "language": "python",
     "metadata": {},
     "outputs": [
      {
       "output_type": "stream",
       "stream": "stdout",
       "text": [
        "[[-0.72031754  0.15601633 -0.67587095]\n",
        " [ 0.51613897  0.77150851 -0.37198818]\n",
        " [ 0.46340397 -0.61679292 -0.63625723]]\n",
        "[ 0.73516822  0.5556035   0.38837147]\n",
        "[[ 0.74668312  0.          0.        ]\n",
        " [ 0.          0.53757209  0.        ]\n",
        " [ 0.          0.          0.39176595]]\n",
        "[[ 0.57946642 -0.11440213 -0.13250153]\n",
        " [-0.11440213  0.57310321  0.01550595]\n",
        " [-0.13250153  0.01550595  0.52345156]]\n"
       ]
      }
     ],
     "prompt_number": 17
    },
    {
     "cell_type": "code",
     "collapsed": false,
     "input": [
      "projecting = project_tensor_on_plane(n, turn_tenzor)\n",
      "projecting"
     ],
     "language": "python",
     "metadata": {},
     "outputs": [
      {
       "metadata": {},
       "output_type": "pyout",
       "prompt_number": 18,
       "text": [
        "array([[ 0.57946642,  0.        , -0.13250153],\n",
        "       [ 0.        ,  0.        ,  0.        ],\n",
        "       [-0.13250153,  0.        ,  0.52345156]])"
       ]
      }
     ],
     "prompt_number": 18
    },
    {
     "cell_type": "code",
     "collapsed": false,
     "input": [
      "turn_tenzor_ = np.dot(L_inv, np.matrix(projecting.T))\n",
      "turn_tenzor = np.dot(turn_tenzor_, L_inv.T)\n",
      "turn_tenzor_"
     ],
     "language": "python",
     "metadata": {},
     "outputs": [
      {
       "metadata": {},
       "output_type": "pyout",
       "prompt_number": 19,
       "text": [
        "matrix([[ 0.16625555,  0.        ,  0.39279661],\n",
        "        [ 0.57069877,  0.        , -0.37049833],\n",
        "        [ 0.        ,  0.        ,  0.        ]])"
       ]
      }
     ],
     "prompt_number": 19
    },
    {
     "cell_type": "code",
     "collapsed": false,
     "input": [
      "vectors_array_ = np.zeros((len(coord_points_data), 3))\n"
     ],
     "language": "python",
     "metadata": {},
     "outputs": [],
     "prompt_number": 20
    },
    {
     "cell_type": "code",
     "collapsed": false,
     "input": [
      "b = np.array(np.linalg.eig(turn_tenzor)[1][0])*np.linalg.eig(turn_tenzor)[0][0]\n",
      "b[0][0]\n"
     ],
     "language": "python",
     "metadata": {},
     "outputs": [
      {
       "metadata": {},
       "output_type": "pyout",
       "prompt_number": 21,
       "text": [
        "-0.40982149772721577"
       ]
      }
     ],
     "prompt_number": 21
    },
    {
     "cell_type": "code",
     "collapsed": false,
     "input": [
      "#\"\u0423\u043a\u043b\u0430\u0434\u044b\u0432\u0430\u0435\u043c\" \u043a\u043e\u043e\u0440\u0434\u0438\u043d\u0430\u0442\u044b \u0441\u043f\u0440\u043e\u0435\u0446\u0438\u0440\u043e\u0432\u0430\u043d\u043d\u043e\u0433\u043e \u0442\u0435\u043d\u0437\u043e\u0440\u0430 \u0432 \u043f\u043b\u043e\u0441\u043a\u043e\u0441\u0442\u044c\n",
      "eig_value_array_1 = []\n",
      "eig_value_array_2 = []\n",
      "eig_value_array_3 = []\n",
      "vectors_array_1 = []\n",
      "vectors_array_2 = []\n",
      "vectors_array_3 = []\n",
      "for i in tqdm(xrange(len(vectors_array))):\n",
      "    point_transform_ = np.dot(L_inv, np.matrix(vectors_array[i].T))\n",
      "    point_transform = np.dot(point_transform_, L_inv.T)\n",
      "#print point_transform[1, 0]\n",
      "   # print vectors_array_\n",
      "   # print [point_transform[0,0], point_transform[1,1], point_transform[2,2]]\n",
      "    eig_value = np.linalg.eig(point_transform)[0]\n",
      "    eig_vector = np.linalg.eig(point_transform)[1]\n",
      "    #print eig_value[0]\n",
      "    vectors_array_[i] = [eig_value[0], eig_value[1], eig_value[2]]\n",
      "    eig_value_array_1.append(eig_value[0].real)\n",
      "    eig_value_array_2.append(eig_value[1].real)\n",
      "    eig_value_array_3.append(eig_value[2].real)\n",
      "    vv1 = eig_value[0].real*eig_vector[0].real\n",
      "    vectors_array_1.append([vv1[0,0], vv1[0,1], vv1[0,2]] )\n",
      "    vv2 = eig_value[1].real*eig_vector[1].real\n",
      "    vectors_array_2.append([vv2[0,0], vv2[0,1], vv2[0,2]])\n",
      "    vv3 =  eig_value[2].real*eig_vector[2].real\n",
      "    vectors_array_3.append([vv3[0,0], vv3[0,1], vv3[0,2]])"
     ],
     "language": "python",
     "metadata": {},
     "outputs": [
      {
       "output_type": "stream",
       "stream": "stderr",
       "text": [
        "\r",
        "  0%|          | 0/11612 [00:00<?, ?it/s]"
       ]
      },
      {
       "output_type": "stream",
       "stream": "stderr",
       "text": [
        "\r",
        "  2%|\u258f         | 196/11612 [00:00<00:05, 1954.37it/s]"
       ]
      },
      {
       "output_type": "stream",
       "stream": "stderr",
       "text": [
        "\r",
        "  3%|\u258e         | 368/11612 [00:00<00:05, 1876.97it/s]"
       ]
      },
      {
       "output_type": "stream",
       "stream": "stderr",
       "text": [
        "\r",
        "  5%|\u258d         | 524/11612 [00:00<00:06, 1766.89it/s]"
       ]
      },
      {
       "output_type": "stream",
       "stream": "stderr",
       "text": [
        "\r",
        "  6%|\u258c         | 674/11612 [00:00<00:06, 1674.87it/s]"
       ]
      },
      {
       "output_type": "stream",
       "stream": "stderr",
       "text": [
        "\r",
        "  7%|\u258b         | 867/11612 [00:00<00:06, 1741.99it/s]"
       ]
      },
      {
       "output_type": "stream",
       "stream": "stderr",
       "text": [
        "\r",
        "  9%|\u2589         | 1039/11612 [00:00<00:06, 1734.27it/s]"
       ]
      },
      {
       "output_type": "stream",
       "stream": "stderr",
       "text": [
        "\r",
        " 10%|\u2588         | 1192/11612 [00:00<00:06, 1662.87it/s]"
       ]
      },
      {
       "output_type": "stream",
       "stream": "stderr",
       "text": [
        "\r",
        " 12%|\u2588\u258f        | 1352/11612 [00:00<00:06, 1642.49it/s]"
       ]
      },
      {
       "output_type": "stream",
       "stream": "stderr",
       "text": [
        "\r",
        " 13%|\u2588\u258e        | 1567/11612 [00:00<00:05, 1767.13it/s]"
       ]
      },
      {
       "output_type": "stream",
       "stream": "stderr",
       "text": [
        "\r",
        " 15%|\u2588\u258c        | 1783/11612 [00:01<00:05, 1867.36it/s]"
       ]
      },
      {
       "output_type": "stream",
       "stream": "stderr",
       "text": [
        "\r",
        " 17%|\u2588\u258b        | 1986/11612 [00:01<00:05, 1911.76it/s]"
       ]
      },
      {
       "output_type": "stream",
       "stream": "stderr",
       "text": [
        "\r",
        " 19%|\u2588\u2589        | 2179/11612 [00:01<00:04, 1915.92it/s]"
       ]
      },
      {
       "output_type": "stream",
       "stream": "stderr",
       "text": [
        "\r",
        " 20%|\u2588\u2588        | 2376/11612 [00:01<00:04, 1928.80it/s]"
       ]
      },
      {
       "output_type": "stream",
       "stream": "stderr",
       "text": [
        "\r",
        " 22%|\u2588\u2588\u258f       | 2585/11612 [00:01<00:04, 1972.83it/s]"
       ]
      },
      {
       "output_type": "stream",
       "stream": "stderr",
       "text": [
        "\r",
        " 24%|\u2588\u2588\u258d       | 2800/11612 [00:01<00:04, 2022.47it/s]"
       ]
      },
      {
       "output_type": "stream",
       "stream": "stderr",
       "text": [
        "\r",
        " 26%|\u2588\u2588\u258c       | 3015/11612 [00:01<00:04, 2057.79it/s]"
       ]
      },
      {
       "output_type": "stream",
       "stream": "stderr",
       "text": [
        "\r",
        " 28%|\u2588\u2588\u258a       | 3222/11612 [00:01<00:04, 2042.37it/s]"
       ]
      },
      {
       "output_type": "stream",
       "stream": "stderr",
       "text": [
        "\r",
        " 30%|\u2588\u2588\u2589       | 3428/11612 [00:01<00:03, 2047.39it/s]"
       ]
      },
      {
       "output_type": "stream",
       "stream": "stderr",
       "text": [
        "\r",
        " 31%|\u2588\u2588\u2588\u258f      | 3639/11612 [00:01<00:03, 2063.61it/s]"
       ]
      },
      {
       "output_type": "stream",
       "stream": "stderr",
       "text": [
        "\r",
        " 33%|\u2588\u2588\u2588\u258e      | 3846/11612 [00:02<00:03, 1985.22it/s]"
       ]
      },
      {
       "output_type": "stream",
       "stream": "stderr",
       "text": [
        "\r",
        " 35%|\u2588\u2588\u2588\u258d      | 4054/11612 [00:02<00:03, 2012.57it/s]"
       ]
      },
      {
       "output_type": "stream",
       "stream": "stderr",
       "text": [
        "\r",
        " 37%|\u2588\u2588\u2588\u258b      | 4256/11612 [00:02<00:03, 1971.83it/s]"
       ]
      },
      {
       "output_type": "stream",
       "stream": "stderr",
       "text": [
        "\r",
        " 38%|\u2588\u2588\u2588\u258a      | 4461/11612 [00:02<00:03, 1993.59it/s]"
       ]
      },
      {
       "output_type": "stream",
       "stream": "stderr",
       "text": [
        "\r",
        " 40%|\u2588\u2588\u2588\u2588      | 4661/11612 [00:02<00:03, 1940.28it/s]"
       ]
      },
      {
       "output_type": "stream",
       "stream": "stderr",
       "text": [
        "\r",
        " 42%|\u2588\u2588\u2588\u2588\u258f     | 4881/11612 [00:02<00:03, 2010.47it/s]"
       ]
      },
      {
       "output_type": "stream",
       "stream": "stderr",
       "text": [
        "\r",
        " 44%|\u2588\u2588\u2588\u2588\u258d     | 5097/11612 [00:02<00:03, 2051.51it/s]"
       ]
      },
      {
       "output_type": "stream",
       "stream": "stderr",
       "text": [
        "\r",
        " 46%|\u2588\u2588\u2588\u2588\u258c     | 5304/11612 [00:02<00:03, 2005.03it/s]"
       ]
      },
      {
       "output_type": "stream",
       "stream": "stderr",
       "text": [
        "\r",
        " 47%|\u2588\u2588\u2588\u2588\u258b     | 5506/11612 [00:02<00:03, 1921.33it/s]"
       ]
      },
      {
       "output_type": "stream",
       "stream": "stderr",
       "text": [
        "\r",
        " 49%|\u2588\u2588\u2588\u2588\u2589     | 5706/11612 [00:02<00:03, 1944.05it/s]"
       ]
      },
      {
       "output_type": "stream",
       "stream": "stderr",
       "text": [
        "\r",
        " 51%|\u2588\u2588\u2588\u2588\u2588     | 5913/11612 [00:03<00:02, 1977.66it/s]"
       ]
      },
      {
       "output_type": "stream",
       "stream": "stderr",
       "text": [
        "\r",
        " 53%|\u2588\u2588\u2588\u2588\u2588\u258e    | 6112/11612 [00:03<00:02, 1909.78it/s]"
       ]
      },
      {
       "output_type": "stream",
       "stream": "stderr",
       "text": [
        "\r",
        " 54%|\u2588\u2588\u2588\u2588\u2588\u258d    | 6318/11612 [00:03<00:02, 1952.02it/s]"
       ]
      },
      {
       "output_type": "stream",
       "stream": "stderr",
       "text": [
        "\r",
        " 56%|\u2588\u2588\u2588\u2588\u2588\u258c    | 6519/11612 [00:03<00:02, 1969.03it/s]"
       ]
      },
      {
       "output_type": "stream",
       "stream": "stderr",
       "text": [
        "\r",
        " 58%|\u2588\u2588\u2588\u2588\u2588\u258a    | 6717/11612 [00:03<00:02, 1918.62it/s]"
       ]
      },
      {
       "output_type": "stream",
       "stream": "stderr",
       "text": [
        "\r",
        " 60%|\u2588\u2588\u2588\u2588\u2588\u2589    | 6912/11612 [00:03<00:02, 1926.00it/s]"
       ]
      },
      {
       "output_type": "stream",
       "stream": "stderr",
       "text": [
        "\r",
        " 61%|\u2588\u2588\u2588\u2588\u2588\u2588\u258f   | 7127/11612 [00:03<00:02, 1986.98it/s]"
       ]
      },
      {
       "output_type": "stream",
       "stream": "stderr",
       "text": [
        "\r",
        " 63%|\u2588\u2588\u2588\u2588\u2588\u2588\u258e   | 7340/11612 [00:03<00:02, 2025.82it/s]"
       ]
      },
      {
       "output_type": "stream",
       "stream": "stderr",
       "text": [
        "\r",
        " 65%|\u2588\u2588\u2588\u2588\u2588\u2588\u258d   | 7544/11612 [00:03<00:02, 2018.69it/s]"
       ]
      },
      {
       "output_type": "stream",
       "stream": "stderr",
       "text": [
        "\r",
        " 67%|\u2588\u2588\u2588\u2588\u2588\u2588\u258b   | 7760/11612 [00:03<00:01, 2056.70it/s]"
       ]
      },
      {
       "output_type": "stream",
       "stream": "stderr",
       "text": [
        "\r",
        " 69%|\u2588\u2588\u2588\u2588\u2588\u2588\u258a   | 7982/11612 [00:04<00:01, 2101.37it/s]"
       ]
      },
      {
       "output_type": "stream",
       "stream": "stderr",
       "text": [
        "\r",
        " 71%|\u2588\u2588\u2588\u2588\u2588\u2588\u2588   | 8195/11612 [00:04<00:01, 2108.72it/s]"
       ]
      },
      {
       "output_type": "stream",
       "stream": "stderr",
       "text": [
        "\r",
        " 72%|\u2588\u2588\u2588\u2588\u2588\u2588\u2588\u258f  | 8407/11612 [00:04<00:01, 2082.54it/s]"
       ]
      },
      {
       "output_type": "stream",
       "stream": "stderr",
       "text": [
        "\r",
        " 74%|\u2588\u2588\u2588\u2588\u2588\u2588\u2588\u258d  | 8616/11612 [00:04<00:01, 2042.73it/s]"
       ]
      },
      {
       "output_type": "stream",
       "stream": "stderr",
       "text": [
        "\r",
        " 76%|\u2588\u2588\u2588\u2588\u2588\u2588\u2588\u258c  | 8821/11612 [00:04<00:01, 1939.68it/s]"
       ]
      },
      {
       "output_type": "stream",
       "stream": "stderr",
       "text": [
        "\r",
        " 78%|\u2588\u2588\u2588\u2588\u2588\u2588\u2588\u258a  | 9017/11612 [00:04<00:01, 1859.00it/s]"
       ]
      },
      {
       "output_type": "stream",
       "stream": "stderr",
       "text": [
        "\r",
        " 79%|\u2588\u2588\u2588\u2588\u2588\u2588\u2588\u2589  | 9205/11612 [00:04<00:01, 1786.20it/s]"
       ]
      },
      {
       "output_type": "stream",
       "stream": "stderr",
       "text": [
        "\r",
        " 81%|\u2588\u2588\u2588\u2588\u2588\u2588\u2588\u2588  | 9405/11612 [00:04<00:01, 1842.82it/s]"
       ]
      },
      {
       "output_type": "stream",
       "stream": "stderr",
       "text": [
        "\r",
        " 83%|\u2588\u2588\u2588\u2588\u2588\u2588\u2588\u2588\u258e | 9591/11612 [00:04<00:01, 1814.49it/s]"
       ]
      },
      {
       "output_type": "stream",
       "stream": "stderr",
       "text": [
        "\r",
        " 84%|\u2588\u2588\u2588\u2588\u2588\u2588\u2588\u2588\u258d | 9774/11612 [00:05<00:01, 1793.35it/s]"
       ]
      },
      {
       "output_type": "stream",
       "stream": "stderr",
       "text": [
        "\r",
        " 86%|\u2588\u2588\u2588\u2588\u2588\u2588\u2588\u2588\u258c | 9955/11612 [00:05<00:00, 1765.73it/s]"
       ]
      },
      {
       "output_type": "stream",
       "stream": "stderr",
       "text": [
        "\r",
        " 88%|\u2588\u2588\u2588\u2588\u2588\u2588\u2588\u2588\u258a | 10162/11612 [00:05<00:00, 1846.94it/s]"
       ]
      },
      {
       "output_type": "stream",
       "stream": "stderr",
       "text": [
        "\r",
        " 89%|\u2588\u2588\u2588\u2588\u2588\u2588\u2588\u2588\u2589 | 10373/11612 [00:05<00:00, 1916.89it/s]"
       ]
      },
      {
       "output_type": "stream",
       "stream": "stderr",
       "text": [
        "\r",
        " 91%|\u2588\u2588\u2588\u2588\u2588\u2588\u2588\u2588\u2588 | 10592/11612 [00:05<00:00, 1990.35it/s]"
       ]
      },
      {
       "output_type": "stream",
       "stream": "stderr",
       "text": [
        "\r",
        " 93%|\u2588\u2588\u2588\u2588\u2588\u2588\u2588\u2588\u2588\u258e| 10811/11612 [00:05<00:00, 2043.96it/s]"
       ]
      },
      {
       "output_type": "stream",
       "stream": "stderr",
       "text": [
        "\r",
        " 95%|\u2588\u2588\u2588\u2588\u2588\u2588\u2588\u2588\u2588\u258d| 11023/11612 [00:05<00:00, 2064.14it/s]"
       ]
      },
      {
       "output_type": "stream",
       "stream": "stderr",
       "text": [
        "\r",
        " 97%|\u2588\u2588\u2588\u2588\u2588\u2588\u2588\u2588\u2588\u258b| 11231/11612 [00:05<00:00, 2057.91it/s]"
       ]
      },
      {
       "output_type": "stream",
       "stream": "stderr",
       "text": [
        "\r",
        " 99%|\u2588\u2588\u2588\u2588\u2588\u2588\u2588\u2588\u2588\u258a| 11438/11612 [00:05<00:00, 2038.07it/s]"
       ]
      },
      {
       "output_type": "stream",
       "stream": "stderr",
       "text": [
        "\r",
        "100%|\u2588\u2588\u2588\u2588\u2588\u2588\u2588\u2588\u2588\u2588| 11612/11612 [00:05<00:00, 1949.62it/s]"
       ]
      },
      {
       "output_type": "stream",
       "stream": "stderr",
       "text": [
        "\n"
       ]
      }
     ],
     "prompt_number": 22
    },
    {
     "cell_type": "code",
     "collapsed": false,
     "input": [
      "eig_value_array_2[1540]"
     ],
     "language": "python",
     "metadata": {},
     "outputs": [
      {
       "metadata": {},
       "output_type": "pyout",
       "prompt_number": 23,
       "text": [
        "0.44081493802786381"
       ]
      }
     ],
     "prompt_number": 23
    },
    {
     "cell_type": "code",
     "collapsed": false,
     "input": [
      "eig_value_array_1[1540]"
     ],
     "language": "python",
     "metadata": {},
     "outputs": [
      {
       "metadata": {},
       "output_type": "pyout",
       "prompt_number": 24,
       "text": [
        "0.73768776698749572"
       ]
      }
     ],
     "prompt_number": 24
    },
    {
     "cell_type": "code",
     "collapsed": false,
     "input": [
      "vectors_array_2[1540]"
     ],
     "language": "python",
     "metadata": {},
     "outputs": [
      {
       "metadata": {},
       "output_type": "pyout",
       "prompt_number": 25,
       "text": [
        "[-0.093650115255512312, 0.43075220893355692, 0.0]"
       ]
      }
     ],
     "prompt_number": 25
    },
    {
     "cell_type": "code",
     "collapsed": false,
     "input": [
      "vectors_array_1[1540]"
     ],
     "language": "python",
     "metadata": {},
     "outputs": [
      {
       "metadata": {},
       "output_type": "pyout",
       "prompt_number": 26,
       "text": [
        "[0.72084815581508543, 0.15672006196077148, 0.0]"
       ]
      }
     ],
     "prompt_number": 26
    },
    {
     "cell_type": "code",
     "collapsed": false,
     "input": [
      "vectors_array_[0]"
     ],
     "language": "python",
     "metadata": {},
     "outputs": [
      {
       "metadata": {},
       "output_type": "pyout",
       "prompt_number": 27,
       "text": [
        "array([ 0.47820095,  0.68627343,  0.        ])"
       ]
      }
     ],
     "prompt_number": 27
    },
    {
     "cell_type": "code",
     "collapsed": false,
     "input": [
      "point_transform_ = np.dot(L_inv, np.matrix(vectors_array[1540].T))\n",
      "point_transform = np.dot(point_transform_, L_inv.T)\n",
      "eig_value = np.linalg.eig(point_transform)\n",
      "eig_value"
     ],
     "language": "python",
     "metadata": {},
     "outputs": [
      {
       "metadata": {},
       "output_type": "pyout",
       "prompt_number": 28,
       "text": [
        "(array([ 0.73768777,  0.44081494,  0.        ]),\n",
        " matrix([[ 0.97717244,  0.21244769,  0.        ],\n",
        "         [-0.21244769,  0.97717244,  0.        ],\n",
        "         [ 0.        ,  0.        ,  1.        ]]))"
       ]
      }
     ],
     "prompt_number": 28
    },
    {
     "cell_type": "code",
     "collapsed": false,
     "input": [
      "vectors_array[1540]"
     ],
     "language": "python",
     "metadata": {},
     "outputs": [
      {
       "metadata": {},
       "output_type": "pyout",
       "prompt_number": 29,
       "text": [
        "array([[ 0.46577609,  0.        ,  0.08238464],\n",
        "       [ 0.        ,  0.        ,  0.        ],\n",
        "       [ 0.08238464,  0.        ,  0.71272661]])"
       ]
      }
     ],
     "prompt_number": 29
    },
    {
     "cell_type": "code",
     "collapsed": false,
     "input": [
      "point_transform"
     ],
     "language": "python",
     "metadata": {},
     "outputs": [
      {
       "metadata": {},
       "output_type": "pyout",
       "prompt_number": 30,
       "text": [
        "matrix([[ 0.7242887 , -0.06163021,  0.        ],\n",
        "        [-0.06163021,  0.454214  ,  0.        ],\n",
        "        [ 0.        ,  0.        ,  0.        ]])"
       ]
      }
     ],
     "prompt_number": 30
    },
    {
     "cell_type": "code",
     "collapsed": false,
     "input": [
      "result = np.zeros_like(coord_points_data)\n",
      "#\"\u0423\u043a\u043b\u0430\u0434\u044b\u0432\u0430\u0435\u043c\" \u0442\u043e\u0447\u043a\u0438 \u0441\u0440\u0435\u0437\u0430 \u0432 \u043f\u043b\u043e\u0441\u043a\u043e\u0441\u0442\u044c\n",
      "for i in tqdm(xrange(len(coord_points_data))):\n",
      "    point_transform = L_inv*np.matrix(coord_points_data[i]-coord_points_data[POINT_O]).T\n",
      "    result[i,:] = point_transform[:].T"
     ],
     "language": "python",
     "metadata": {},
     "outputs": [
      {
       "output_type": "stream",
       "stream": "stderr",
       "text": [
        "\r",
        "  0%|          | 0/11612 [00:00<?, ?it/s]"
       ]
      },
      {
       "output_type": "stream",
       "stream": "stderr",
       "text": [
        "\r",
        "  8%|\u258a         | 935/11612 [00:00<00:01, 9345.33it/s]"
       ]
      },
      {
       "output_type": "stream",
       "stream": "stderr",
       "text": [
        "\r",
        " 19%|\u2588\u2589        | 2179/11612 [00:00<00:00, 10098.24it/s]"
       ]
      },
      {
       "output_type": "stream",
       "stream": "stderr",
       "text": [
        "\r",
        " 30%|\u2588\u2588\u2589       | 3469/11612 [00:00<00:00, 10800.66it/s]"
       ]
      },
      {
       "output_type": "stream",
       "stream": "stderr",
       "text": [
        "\r",
        " 43%|\u2588\u2588\u2588\u2588\u258e     | 4976/11612 [00:00<00:00, 11803.51it/s]"
       ]
      },
      {
       "output_type": "stream",
       "stream": "stderr",
       "text": [
        "\r",
        " 56%|\u2588\u2588\u2588\u2588\u2588\u258c    | 6519/11612 [00:00<00:00, 12698.45it/s]"
       ]
      },
      {
       "output_type": "stream",
       "stream": "stderr",
       "text": [
        "\r",
        " 69%|\u2588\u2588\u2588\u2588\u2588\u2588\u2589   | 8039/11612 [00:00<00:00, 13356.29it/s]"
       ]
      },
      {
       "output_type": "stream",
       "stream": "stderr",
       "text": [
        "\r",
        " 82%|\u2588\u2588\u2588\u2588\u2588\u2588\u2588\u2588\u258f | 9481/11612 [00:00<00:00, 13657.62it/s]"
       ]
      },
      {
       "output_type": "stream",
       "stream": "stderr",
       "text": [
        "\r",
        " 93%|\u2588\u2588\u2588\u2588\u2588\u2588\u2588\u2588\u2588\u258e| 10803/11612 [00:00<00:00, 13476.75it/s]"
       ]
      },
      {
       "output_type": "stream",
       "stream": "stderr",
       "text": [
        "\r",
        "100%|\u2588\u2588\u2588\u2588\u2588\u2588\u2588\u2588\u2588\u2588| 11612/11612 [00:00<00:00, 13440.28it/s]"
       ]
      },
      {
       "output_type": "stream",
       "stream": "stderr",
       "text": [
        "\n"
       ]
      }
     ],
     "prompt_number": 31
    },
    {
     "cell_type": "code",
     "collapsed": false,
     "input": [],
     "language": "python",
     "metadata": {},
     "outputs": [],
     "prompt_number": 31
    },
    {
     "cell_type": "code",
     "collapsed": false,
     "input": [
      "coord_points_data[10]-coord_points_data[POINT_O]"
     ],
     "language": "python",
     "metadata": {},
     "outputs": [
      {
       "metadata": {},
       "output_type": "pyout",
       "prompt_number": 32,
       "text": [
        "array([-1.51534592,  0.        ,  0.8184015 ])"
       ]
      }
     ],
     "prompt_number": 32
    },
    {
     "cell_type": "code",
     "collapsed": false,
     "input": [
      "points = numpy_to_vtk(result, deep=True, array_type=vtk.VTK_FLOAT)\n",
      "vtkpoints = vtkPoints()\n",
      "for i in tqdm(xrange(len(coord_points_data))):\n",
      "    vtkpoints.InsertPoint(i, result[i, 0], result[i, 1], result[i, 2])\n",
      "ug.SetPoints(vtkpoints)"
     ],
     "language": "python",
     "metadata": {},
     "outputs": [
      {
       "output_type": "stream",
       "stream": "stderr",
       "text": [
        "\r",
        "  0%|          | 0/11612 [00:00<?, ?it/s]"
       ]
      },
      {
       "output_type": "stream",
       "stream": "stderr",
       "text": [
        "\r",
        "100%|\u2588\u2588\u2588\u2588\u2588\u2588\u2588\u2588\u2588\u2588| 11612/11612 [00:00<00:00, 211280.88it/s]"
       ]
      },
      {
       "output_type": "stream",
       "stream": "stderr",
       "text": [
        "\n"
       ]
      }
     ],
     "prompt_number": 33
    },
    {
     "cell_type": "code",
     "collapsed": false,
     "input": [],
     "language": "python",
     "metadata": {},
     "outputs": [],
     "prompt_number": 40
    },
    {
     "cell_type": "code",
     "collapsed": false,
     "input": [],
     "language": "python",
     "metadata": {},
     "outputs": [],
     "prompt_number": 40
    },
    {
     "cell_type": "code",
     "collapsed": false,
     "input": [],
     "language": "python",
     "metadata": {},
     "outputs": [],
     "prompt_number": 40
    },
    {
     "cell_type": "code",
     "collapsed": false,
     "input": [
      "def check_(vectors_array_1, vectors_array_2):\n",
      "    for i in xrange(len(vectors_array_1)):\n",
      "        if np.dot(vectors_array_1[i], vectors_array_2[i]) > 0.0e-10:\n",
      "            print \"error, vectors no perpendicularly\"\n",
      "            break\n",
      "            return 0\n",
      "    #vectors = numpy_to_vtk(vectors_array_, deep=True, array_type=vtk.VTK_FLOAT)\n",
      "#vectors.SetName('Fibers')\n",
      "#ug.GetPointData().AddArray(vectors)\n",
      "\n",
      "    eig_value_1 = numpy_to_vtk(eig_value_array_1, deep=True, array_type=vtk.VTK_FLOAT)\n",
      "    eig_value_1.SetName('eig_value_1')\n",
      "    ug.GetPointData().AddArray(eig_value_1)\n",
      "\n",
      "    eig_value_2 = numpy_to_vtk(eig_value_array_2, deep=True, array_type=vtk.VTK_FLOAT)\n",
      "    eig_value_2.SetName('eig_value_2')\n",
      "    ug.GetPointData().AddArray(eig_value_2)\n",
      "\n",
      "    eig_value_3 = numpy_to_vtk(eig_value_array_3, deep=True, array_type=vtk.VTK_FLOAT)\n",
      "    eig_value_3.SetName('eig_value_3')\n",
      "    ug.GetPointData().AddArray(eig_value_3)\n",
      "\n",
      "\n",
      "    eig_vectors_1 = numpy_to_vtk(vectors_array_1, deep=True, array_type=vtk.VTK_FLOAT)\n",
      "    eig_vectors_1.SetName('eig_vectors_1')\n",
      "    ug.GetPointData().AddArray(eig_vectors_1)\n",
      "\n",
      "    eig_vectors_2 = numpy_to_vtk(vectors_array_2, deep=True, array_type=vtk.VTK_FLOAT)\n",
      "    eig_vectors_2.SetName('eig_vectors_2')\n",
      "    ug.GetPointData().AddArray(eig_vectors_2)\n",
      "\n",
      "    eig_vectors_3 = numpy_to_vtk(vectors_array_3, deep=True, array_type=vtk.VTK_FLOAT)\n",
      "    eig_vectors_3.SetName('eig_vectors_3')\n",
      "    ug.GetPointData().AddArray(eig_vectors_3)\n",
      "    \n",
      "    writer = vtk.vtkXMLUnstructuredGridWriter() # vtu\n",
      "    writer.SetFileName(\"slice_mesh_with_fibers8.vtu\")\n",
      "    writer.SetInputData(ug)\n",
      "    writer.Write()\n",
      "    return 1\n",
      "\n"
     ],
     "language": "python",
     "metadata": {},
     "outputs": [],
     "prompt_number": 39
    },
    {
     "cell_type": "code",
     "collapsed": false,
     "input": [
      "check_(vectors_array_1, vectors_array_2)"
     ],
     "language": "python",
     "metadata": {},
     "outputs": [
      {
       "output_type": "stream",
       "stream": "stdout",
       "text": [
        "error, vectors no perpendicularly\n"
       ]
      },
      {
       "metadata": {},
       "output_type": "pyout",
       "prompt_number": 40,
       "text": [
        "1"
       ]
      }
     ],
     "prompt_number": 40
    },
    {
     "cell_type": "code",
     "collapsed": false,
     "input": [],
     "language": "python",
     "metadata": {},
     "outputs": [
      {
       "metadata": {},
       "output_type": "pyout",
       "prompt_number": 44,
       "text": [
        "5"
       ]
      }
     ],
     "prompt_number": 44
    },
    {
     "cell_type": "code",
     "collapsed": false,
     "input": [],
     "language": "python",
     "metadata": {},
     "outputs": [
      {
       "metadata": {},
       "output_type": "pyout",
       "prompt_number": 45,
       "text": [
        "1"
       ]
      }
     ],
     "prompt_number": 45
    },
    {
     "cell_type": "code",
     "collapsed": false,
     "input": [
      "np.dot(vectors_array_1[0], vectors_array_2[0])"
     ],
     "language": "python",
     "metadata": {},
     "outputs": [
      {
       "metadata": {},
       "output_type": "pyout",
       "prompt_number": 48,
       "text": [
        "-1.2490009027033011e-16"
       ]
      }
     ],
     "prompt_number": 48
    },
    {
     "cell_type": "code",
     "collapsed": false,
     "input": [],
     "language": "python",
     "metadata": {},
     "outputs": [],
     "prompt_number": 49
    },
    {
     "cell_type": "code",
     "collapsed": false,
     "input": [],
     "language": "python",
     "metadata": {},
     "outputs": []
    }
   ],
   "metadata": {}
  }
 ]
}