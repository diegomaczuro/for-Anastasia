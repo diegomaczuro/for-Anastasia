{
 "metadata": {
  "name": "",
  "signature": "sha256:38fefa9d69ca8fdf7327020d94985c14f89d908e361f4d48895af63803749748"
 },
 "nbformat": 3,
 "nbformat_minor": 0,
 "worksheets": [
  {
   "cells": [
    {
     "cell_type": "code",
     "collapsed": false,
     "input": [
      "import numpy as np\n",
      "import pandas as pd\n",
      "from vtk import *\n",
      "from vtk.util import numpy_support\n",
      "\n",
      "import os\n",
      "from sklearn.neighbors import KDTree\n",
      "from vtk.util.numpy_support import vtk_to_numpy\n",
      "from vtk.util.numpy_support import numpy_to_vtk\n",
      "from tqdm import tqdm\n",
      "import glob\n",
      "import h5py\n",
      "from vtk.util.numpy_support import numpy_to_vtk\n",
      "import matplotlib.pylab as plt\n",
      "%matplotlib inline\n",
      "import unittest"
     ],
     "language": "python",
     "metadata": {},
     "outputs": [],
     "prompt_number": 1
    },
    {
     "cell_type": "code",
     "collapsed": false,
     "input": [
      "WAY_3D = '/home/shido/chaste-output/benson2008_3d_bidomain_endocardial_slice'\n",
      "WAY_2D = '/home/shido/chaste-output/benson2008_2d_bidomain_endocardial_all_currents'\n",
      "WAY = '/home/shido/Documents/shido/for Anastasia/for-Anastasia/data from claster/11_03_2017/nastya_lr'\n",
      "WAY_RESULT = '/home/shido/Documents/shido/for Anastasia/for-Anastasia/for theses on  autumn school/result_benson2008'\n",
      "file_data = './full_vector_field.vtk'\n",
      "FILE_MESH_INIT = 'init_mesh_1.vtu'\n",
      "FILE_MESH = 'slice_mesh2.vtk'\n",
      "POINT_O = 62\n",
      "POINT_A = 6571\n",
      "POINT_B = 785"
     ],
     "language": "python",
     "metadata": {},
     "outputs": [],
     "prompt_number": 5
    },
    {
     "cell_type": "code",
     "collapsed": false,
     "input": [
      "assert(os.path.exists(FILE_MESH))\n",
      "assert(os.path.exists(file_data))"
     ],
     "language": "python",
     "metadata": {},
     "outputs": [],
     "prompt_number": 6
    },
    {
     "cell_type": "code",
     "collapsed": false,
     "input": [
      "#\u0427\u0442\u0435\u043d\u0438\u0435 \u043f\u043b\u043e\u0441\u043a\u043e\u0439 \u0441\u0435\u0442\u043a\u0438\n",
      "reader = vtkUnstructuredGridReader()\n",
      "reader.SetFileName(FILE_MESH)\n",
      "reader.Update()\n",
      "ug = reader.GetOutput()"
     ],
     "language": "python",
     "metadata": {},
     "outputs": [],
     "prompt_number": 7
    },
    {
     "cell_type": "code",
     "collapsed": false,
     "input": [
      "points = ug.GetPoints()\n",
      "coord_points_data = vtk_to_numpy(points.GetData())\n",
      "coord_points_data"
     ],
     "language": "python",
     "metadata": {},
     "outputs": [
      {
       "metadata": {},
       "output_type": "pyout",
       "prompt_number": 8,
       "text": [
        "array([[ 2.39657   ,  2.83447   ,  2.10755   ],\n",
        "       [ 2.41836627,  2.83447   ,  2.08019949],\n",
        "       [ 2.44080654,  2.83447   ,  2.05337655],\n",
        "       ..., \n",
        "       [ 4.09603914,  2.83447   ,  1.0492116 ],\n",
        "       [ 3.97081886,  2.83447   ,  1.04549061],\n",
        "       [ 4.04382201,  2.83447   ,  1.04451127]])"
       ]
      }
     ],
     "prompt_number": 8
    },
    {
     "cell_type": "code",
     "collapsed": false,
     "input": [
      "#\u043f\u043e\u0432\u043e\u0440\u043e\u0442 \u043f\u043b\u043e\u0441\u043a\u043e\u0439 \u0441\u0435\u0442\u043a\u0438 \u0434\u043e \u0442\u0440\u0435\u0445\u043c\u0435\u0440\u043d\u043e\u0439 \u0441\u0435\u0442\u043a\u0438\n",
      "vec1 = coord_points_data[POINT_A] - coord_points_data[POINT_O]\n",
      "vec2_ = coord_points_data[POINT_B] - coord_points_data[POINT_O]\n",
      "vec3 = np.cross(vec1, vec2_)\n",
      "vec2 = np.cross(vec1, vec3)\n",
      "vec1_len = np.linalg.norm(vec1)\n",
      "vec2_len = np.linalg.norm(vec2)\n",
      "vec3_len = np.linalg.norm(vec3)\n",
      "print vec1/vec1_len, vec2/vec2_len, vec3/vec3_len, vec1_len\n",
      "#\u043c\u0430\u0442\u0440\u0438\u0446\u0430 \u043f\u043e\u0432\u043e\u0440\u043e\u0442\u0430\n",
      "L = np.matrix(np.vstack([vec1/vec1_len, vec2/vec2_len, vec3/vec3_len]).T)\n",
      "L_inv = np.linalg.inv(L)\n",
      "print L, L_inv\n",
      "res = np.zeros_like(coord_points_data)\n",
      "print  L*np.matrix(coord_points_data[0]).T\n",
      "print np.reshape(coord_points_data[POINT_O], (3,1))\n",
      "for i in tqdm(xrange(len(coord_points_data))):\n",
      "    point_transform = L*np.matrix(coord_points_data[i]).T + np.reshape(coord_points_data[POINT_O], (3,1))\n",
      "    res[i,:] = point_transform[:].T\n",
      "    \n",
      "#points = numpy_to_vtk(res, deep=True, array_type=vtk.VTK_FLOAT)\n",
      "#vtkpoints = vtkPoints()\n",
      "#for i in tqdm(xrange(len(coord_points_data))):\n",
      "    #vtkpoints.InsertPoint(i, res[i, 0], res[i, 1], res[i, 2])\n",
      "#output.SetPoints(vtkpoints)"
     ],
     "language": "python",
     "metadata": {},
     "outputs": [
      {
       "output_type": "stream",
       "stream": "stderr",
       "text": [
        "\r",
        "  0%|          | 0/11612 [00:00<?, ?it/s]"
       ]
      },
      {
       "output_type": "stream",
       "stream": "stderr",
       "text": [
        "\r",
        " 10%|\u2589         | 1142/11612 [00:00<00:00, 11414.51it/s]"
       ]
      },
      {
       "output_type": "stream",
       "stream": "stderr",
       "text": [
        "\r",
        " 18%|\u2588\u258a        | 2115/11612 [00:00<00:00, 10848.07it/s]"
       ]
      },
      {
       "output_type": "stream",
       "stream": "stderr",
       "text": [
        "\r",
        " 27%|\u2588\u2588\u258b       | 3190/11612 [00:00<00:00, 10817.74it/s]"
       ]
      },
      {
       "output_type": "stream",
       "stream": "stderr",
       "text": [
        "\r",
        " 38%|\u2588\u2588\u2588\u258a      | 4444/11612 [00:00<00:00, 11281.91it/s]"
       ]
      },
      {
       "output_type": "stream",
       "stream": "stderr",
       "text": [
        "\r",
        " 49%|\u2588\u2588\u2588\u2588\u2589     | 5713/11612 [00:00<00:00, 11668.94it/s]"
       ]
      },
      {
       "output_type": "stream",
       "stream": "stderr",
       "text": [
        "\r",
        " 60%|\u2588\u2588\u2588\u2588\u2588\u2588    | 6989/11612 [00:00<00:00, 11974.57it/s]"
       ]
      },
      {
       "output_type": "stream",
       "stream": "stderr",
       "text": [
        "\r",
        " 71%|\u2588\u2588\u2588\u2588\u2588\u2588\u2588   | 8264/11612 [00:00<00:00, 12196.26it/s]"
       ]
      },
      {
       "output_type": "stream",
       "stream": "stderr",
       "text": [
        "\r",
        " 82%|\u2588\u2588\u2588\u2588\u2588\u2588\u2588\u2588\u258f | 9526/11612 [00:00<00:00, 12318.50it/s]"
       ]
      },
      {
       "output_type": "stream",
       "stream": "stderr",
       "text": [
        "\r",
        " 93%|\u2588\u2588\u2588\u2588\u2588\u2588\u2588\u2588\u2588\u258e| 10812/11612 [00:00<00:00, 12473.69it/s]"
       ]
      },
      {
       "output_type": "stream",
       "stream": "stderr",
       "text": [
        "\r",
        "100%|\u2588\u2588\u2588\u2588\u2588\u2588\u2588\u2588\u2588\u2588| 11612/11612 [00:00<00:00, 12041.77it/s]"
       ]
      },
      {
       "output_type": "stream",
       "stream": "stdout",
       "text": [
        "[ 0.48666709  0.          0.87358751] [ 0.87358751  0.         -0.48666709] [ 0. -1.  0.] 3.21150907221\n",
        "[[ 0.48666709  0.87358751  0.        ]\n",
        " [ 0.          0.         -1.        ]\n",
        " [ 0.87358751 -0.48666709  0.        ]] [[ 0.48666709  0.          0.87358751]\n",
        " [ 0.87358751  0.         -0.48666709]\n",
        " [-0.         -1.         -0.        ]]\n",
        "[[ 3.64248935]\n",
        " [-2.10755   ]\n",
        " [ 0.71417035]]\n",
        "[[ 4.13563656]\n",
        " [ 2.83447   ]\n",
        " [ 1.02863681]]\n"
       ]
      },
      {
       "output_type": "stream",
       "stream": "stderr",
       "text": [
        "\n"
       ]
      }
     ],
     "prompt_number": 9
    },
    {
     "cell_type": "code",
     "collapsed": false,
     "input": [
      "reader2 = vtkUnstructuredGridReader()\n",
      "reader2.SetFileName(file_data)\n",
      "reader2.Update()\n",
      "ug2 = reader2.GetOutput()\n",
      "points2 = ug2.GetPoints()\n",
      "coords_vectors_data2 = vtk_to_numpy(ug2.GetPointData().GetArray('DTMRIFiberOrientation'))\n",
      "coord_points_data2 = vtk_to_numpy(points2.GetData())\n",
      "#\u043f\u043e\u0441\u0442\u0440\u043e\u0435\u043d\u0438\u0435 \u0434\u0435\u0440\u0435\u0432\u0430\n",
      "tree = KDTree(coord_points_data2, leaf_size=5, metric='euclidean')"
     ],
     "language": "python",
     "metadata": {},
     "outputs": [],
     "prompt_number": 10
    },
    {
     "cell_type": "code",
     "collapsed": false,
     "input": [],
     "language": "python",
     "metadata": {},
     "outputs": [],
     "prompt_number": 10
    },
    {
     "cell_type": "code",
     "collapsed": false,
     "input": [
      "def project_tensor_on_plane(n, tensor):\n",
      "    \"\"\"   \n",
      "             n: plane normal\n",
      "        tensor: old tensor in 3D space\n",
      "         \n",
      "        return: Projection Tensor (vector)    \n",
      "    \n",
      "    \"\"\"\n",
      "    P = np.array([[1-n[0]**2, -n[0]*n[1], -n[0]*n[2]],\n",
      "                  [-n[0]*n[1], 1-n[1]**2, -n[1]*n[2]],\n",
      "                 [-n[0]*n[2], -n[1]*n[2], 1-n[2]**2]])\n",
      "    \n",
      "    M = np.array([[tensor[0],0,0],\n",
      "                  [0,tensor[1],0],\n",
      "                  [0,0,tensor[2]]])\n",
      "    \n",
      "    M2 = np.dot(P,M)\n",
      "    M_ = np.dot(M2,P.T)\n",
      "    M_vec = np.array([M_[0][0], M_[1][1], M_[2][2]])\n",
      "    return M_vec/np.linalg.norm(M_vec)*3"
     ],
     "language": "python",
     "metadata": {},
     "outputs": [],
     "prompt_number": 11
    },
    {
     "cell_type": "code",
     "collapsed": false,
     "input": [
      "help_2 = project_tensor_on_plane([0,0,1], [0,0,1.])\n",
      "tolerance_ = 1e-10\n",
      "help_2"
     ],
     "language": "python",
     "metadata": {},
     "outputs": [
      {
       "metadata": {},
       "output_type": "pyout",
       "prompt_number": 12,
       "text": [
        "array([ nan,  nan,  nan])"
       ]
      }
     ],
     "prompt_number": 12
    },
    {
     "cell_type": "code",
     "collapsed": false,
     "input": [
      "np.linalg.det(np.array([help_2,[1,0,0],[0,1,0]])) #<= tolerance_"
     ],
     "language": "python",
     "metadata": {},
     "outputs": [
      {
       "metadata": {},
       "output_type": "pyout",
       "prompt_number": 13,
       "text": [
        "nan"
       ]
      }
     ],
     "prompt_number": 13
    },
    {
     "cell_type": "code",
     "collapsed": false,
     "input": [
      "import sys\n",
      "\n",
      "class MyTest(unittest.TestCase):\n",
      "    def test_project_tensor_on_plane(self):\n",
      "        #@project_tensor_on_plane\n",
      "        tolerance_ = 1e-10\n",
      "\n",
      "        \n",
      "        help_1 = project_tensor_on_plane([0,0,1], [2,3,5])   \n",
      "        self.assertTrue(np.linalg.det(np.array([help_1,\n",
      "                                               [1,0,0],\n",
      "                                              [0,1,0]])) <= tolerance_)\n",
      "        help_2 = project_tensor_on_plane([0,0,1], [0,0,1.])   \n",
      "        self.assertTrue(np.linalg.det(np.array([help_2,\n",
      "                                               [1,0,0],\n",
      "                                              [0,1,0]])) <= tolerance_)\n",
      "        help_3 = project_tensor_on_plane([0,0,1], [0,1,0.])   \n",
      "        self.assertTrue(np.linalg.det(np.array([help_3,\n",
      "                                               [1,0,0],\n",
      "                                              [0,1,0]])) <= tolerance_)\n",
      "        \n",
      "        \n",
      "suite = unittest.TestLoader().loadTestsFromTestCase( MyTest )\n",
      "unittest.TextTestRunner(verbosity=1,stream=sys.stderr).run( suite )\n"
     ],
     "language": "python",
     "metadata": {},
     "outputs": [
      {
       "output_type": "stream",
       "stream": "stderr",
       "text": [
        "F"
       ]
      },
      {
       "output_type": "stream",
       "stream": "stderr",
       "text": [
        "\n",
        "======================================================================\n",
        "FAIL: test_project_tensor_on_plane (__main__.MyTest)\n",
        "----------------------------------------------------------------------\n",
        "Traceback (most recent call last):\n",
        "  File \"<ipython-input-14-17a9940ebdc0>\", line 16, in test_project_tensor_on_plane\n",
        "    [0,1,0]])) <= tolerance_)\n",
        "AssertionError: False is not true\n",
        "\n",
        "----------------------------------------------------------------------\n",
        "Ran 1 test in 0.002s\n",
        "\n",
        "FAILED (failures=1)\n"
       ]
      },
      {
       "metadata": {},
       "output_type": "pyout",
       "prompt_number": 14,
       "text": [
        "<unittest.runner.TextTestResult run=1 errors=0 failures=1>"
       ]
      }
     ],
     "prompt_number": 14
    },
    {
     "cell_type": "code",
     "collapsed": false,
     "input": [
      "#suite = unittest.TestLoader().loadTestsFromTestCase( MyTest )\n",
      "#unittest.TextTestRunner(verbosity=1,stream=sys.stderr).run( suite )\n",
      "#\u043d\u043e\u0440\u043c\u0430\u043b\u044c\n",
      "n = vec3/vec3_len\n",
      "\n",
      "vectors_array = np.zeros((len(coord_points_data), 3))\n",
      "dist, ind = tree.query(coord_points_data, k=1)\n",
      "\n",
      "for i in tqdm(xrange(len(coord_points_data))):        \n",
      "    index = ind[i][0]\n",
      "    projecting  = project_tensor_on_plane(n, coords_vectors_data2[index])\n",
      "    vectors_array[i] = projecting"
     ],
     "language": "python",
     "metadata": {},
     "outputs": [
      {
       "output_type": "stream",
       "stream": "stderr",
       "text": [
        "\r",
        "  0%|          | 0/11612 [00:00<?, ?it/s]"
       ]
      },
      {
       "output_type": "stream",
       "stream": "stderr",
       "text": [
        "\r",
        "  8%|\u258a         | 966/11612 [00:00<00:01, 9652.76it/s]"
       ]
      },
      {
       "output_type": "stream",
       "stream": "stderr",
       "text": [
        "\r",
        " 18%|\u2588\u258a        | 2034/11612 [00:00<00:00, 9938.71it/s]"
       ]
      },
      {
       "output_type": "stream",
       "stream": "stderr",
       "text": [
        "\r",
        " 27%|\u2588\u2588\u258b       | 3156/11612 [00:00<00:00, 10290.51it/s]"
       ]
      },
      {
       "output_type": "stream",
       "stream": "stderr",
       "text": [
        "\r",
        " 37%|\u2588\u2588\u2588\u258b      | 4275/11612 [00:00<00:00, 10542.54it/s]"
       ]
      },
      {
       "output_type": "stream",
       "stream": "stderr",
       "text": [
        "\r",
        " 46%|\u2588\u2588\u2588\u2588\u258b     | 5389/11612 [00:00<00:00, 10712.65it/s]"
       ]
      },
      {
       "output_type": "stream",
       "stream": "stderr",
       "text": [
        "\r",
        " 55%|\u2588\u2588\u2588\u2588\u2588\u258c    | 6391/11612 [00:00<00:00, 10494.74it/s]"
       ]
      },
      {
       "output_type": "stream",
       "stream": "stderr",
       "text": [
        "\r",
        " 64%|\u2588\u2588\u2588\u2588\u2588\u2588\u258d   | 7415/11612 [00:00<00:00, 10415.19it/s]"
       ]
      },
      {
       "output_type": "stream",
       "stream": "stderr",
       "text": [
        "\r",
        " 73%|\u2588\u2588\u2588\u2588\u2588\u2588\u2588\u258e  | 8509/11612 [00:00<00:00, 10565.09it/s]"
       ]
      },
      {
       "output_type": "stream",
       "stream": "stderr",
       "text": [
        "\r",
        " 83%|\u2588\u2588\u2588\u2588\u2588\u2588\u2588\u2588\u258e | 9592/11612 [00:00<00:00, 10642.23it/s]"
       ]
      },
      {
       "output_type": "stream",
       "stream": "stderr",
       "text": [
        "\r",
        " 92%|\u2588\u2588\u2588\u2588\u2588\u2588\u2588\u2588\u2588\u258f| 10652/11612 [00:01<00:00, 10627.77it/s]"
       ]
      },
      {
       "output_type": "stream",
       "stream": "stderr",
       "text": [
        "\r",
        "100%|\u2588\u2588\u2588\u2588\u2588\u2588\u2588\u2588\u2588\u2588| 11612/11612 [00:01<00:00, 10630.24it/s]"
       ]
      },
      {
       "output_type": "stream",
       "stream": "stderr",
       "text": [
        "\n"
       ]
      }
     ],
     "prompt_number": 15
    },
    {
     "cell_type": "code",
     "collapsed": false,
     "input": [
      "for i in tqdm(xrange(len(vectors_array))):\n",
      "    point_transform = L_inv*np.matrix(vectors_array[i]).T\n",
      "    vectors_array[i][0] = point_transform[0]\n",
      "    vectors_array[i][1] = point_transform[1]\n",
      "    vectors_array[i][2] = point_transform[2]"
     ],
     "language": "python",
     "metadata": {},
     "outputs": [
      {
       "output_type": "stream",
       "stream": "stderr",
       "text": [
        "\r",
        "  0%|          | 0/11612 [00:00<?, ?it/s]"
       ]
      },
      {
       "output_type": "stream",
       "stream": "stderr",
       "text": [
        "\r",
        "  7%|\u258b         | 843/11612 [00:00<00:01, 8429.06it/s]"
       ]
      },
      {
       "output_type": "stream",
       "stream": "stderr",
       "text": [
        "\r",
        " 14%|\u2588\u258d        | 1648/11612 [00:00<00:01, 8311.29it/s]"
       ]
      },
      {
       "output_type": "stream",
       "stream": "stderr",
       "text": [
        "\r",
        " 22%|\u2588\u2588\u258f       | 2508/11612 [00:00<00:01, 8393.88it/s]"
       ]
      },
      {
       "output_type": "stream",
       "stream": "stderr",
       "text": [
        "\r",
        " 30%|\u2588\u2588\u2589       | 3449/11612 [00:00<00:00, 8673.01it/s]"
       ]
      },
      {
       "output_type": "stream",
       "stream": "stderr",
       "text": [
        "\r",
        " 38%|\u2588\u2588\u2588\u258a      | 4403/11612 [00:00<00:00, 8915.68it/s]"
       ]
      },
      {
       "output_type": "stream",
       "stream": "stderr",
       "text": [
        "\r",
        " 46%|\u2588\u2588\u2588\u2588\u258c     | 5319/11612 [00:00<00:00, 8986.56it/s]"
       ]
      },
      {
       "output_type": "stream",
       "stream": "stderr",
       "text": [
        "\r",
        " 54%|\u2588\u2588\u2588\u2588\u2588\u258d    | 6250/11612 [00:00<00:00, 9080.76it/s]"
       ]
      },
      {
       "output_type": "stream",
       "stream": "stderr",
       "text": [
        "\r",
        " 62%|\u2588\u2588\u2588\u2588\u2588\u2588\u258f   | 7195/11612 [00:00<00:00, 9185.74it/s]"
       ]
      },
      {
       "output_type": "stream",
       "stream": "stderr",
       "text": [
        "\r",
        " 70%|\u2588\u2588\u2588\u2588\u2588\u2588\u2588   | 8152/11612 [00:00<00:00, 9297.14it/s]"
       ]
      },
      {
       "output_type": "stream",
       "stream": "stderr",
       "text": [
        "\r",
        " 78%|\u2588\u2588\u2588\u2588\u2588\u2588\u2588\u258a  | 9050/11612 [00:01<00:00, 9108.41it/s]"
       ]
      },
      {
       "output_type": "stream",
       "stream": "stderr",
       "text": [
        "\r",
        " 86%|\u2588\u2588\u2588\u2588\u2588\u2588\u2588\u2588\u258c | 9939/11612 [00:01<00:00, 8999.50it/s]"
       ]
      },
      {
       "output_type": "stream",
       "stream": "stderr",
       "text": [
        "\r",
        " 93%|\u2588\u2588\u2588\u2588\u2588\u2588\u2588\u2588\u2588\u258e| 10824/11612 [00:01<00:00, 8906.60it/s]"
       ]
      },
      {
       "output_type": "stream",
       "stream": "stderr",
       "text": [
        "\r",
        "100%|\u2588\u2588\u2588\u2588\u2588\u2588\u2588\u2588\u2588\u2588| 11612/11612 [00:01<00:00, 8997.94it/s]"
       ]
      },
      {
       "output_type": "stream",
       "stream": "stderr",
       "text": [
        "\n"
       ]
      }
     ],
     "prompt_number": 16
    },
    {
     "cell_type": "code",
     "collapsed": false,
     "input": [
      "result = np.zeros_like(coord_points_data)\n",
      "\n",
      "for i in tqdm(xrange(len(coord_points_data))):\n",
      "    point_transform = L_inv*np.matrix(coord_points_data[i]-coord_points_data[POINT_O]).T\n",
      "    result[i,:] = point_transform[:].T"
     ],
     "language": "python",
     "metadata": {},
     "outputs": [
      {
       "output_type": "stream",
       "stream": "stderr",
       "text": [
        "\r",
        "  0%|          | 0/11612 [00:00<?, ?it/s]"
       ]
      },
      {
       "output_type": "stream",
       "stream": "stderr",
       "text": [
        "\r",
        " 11%|\u2588\u258f        | 1334/11612 [00:00<00:00, 13329.72it/s]"
       ]
      },
      {
       "output_type": "stream",
       "stream": "stderr",
       "text": [
        "\r",
        " 22%|\u2588\u2588\u258f       | 2608/11612 [00:00<00:00, 13146.45it/s]"
       ]
      },
      {
       "output_type": "stream",
       "stream": "stderr",
       "text": [
        "\r",
        " 34%|\u2588\u2588\u2588\u258d      | 3964/11612 [00:00<00:00, 13266.13it/s]"
       ]
      },
      {
       "output_type": "stream",
       "stream": "stderr",
       "text": [
        "\r",
        " 48%|\u2588\u2588\u2588\u2588\u258a     | 5537/11612 [00:00<00:00, 13919.36it/s]"
       ]
      },
      {
       "output_type": "stream",
       "stream": "stderr",
       "text": [
        "\r",
        " 61%|\u2588\u2588\u2588\u2588\u2588\u2588\u258f   | 7129/11612 [00:00<00:00, 14464.49it/s]"
       ]
      },
      {
       "output_type": "stream",
       "stream": "stderr",
       "text": [
        "\r",
        " 75%|\u2588\u2588\u2588\u2588\u2588\u2588\u2588\u258c  | 8719/11612 [00:00<00:00, 14864.84it/s]"
       ]
      },
      {
       "output_type": "stream",
       "stream": "stderr",
       "text": [
        "\r",
        " 89%|\u2588\u2588\u2588\u2588\u2588\u2588\u2588\u2588\u2589 | 10316/11612 [00:00<00:00, 15179.64it/s]"
       ]
      },
      {
       "output_type": "stream",
       "stream": "stderr",
       "text": [
        "\r",
        "100%|\u2588\u2588\u2588\u2588\u2588\u2588\u2588\u2588\u2588\u2588| 11612/11612 [00:00<00:00, 14813.45it/s]"
       ]
      },
      {
       "output_type": "stream",
       "stream": "stderr",
       "text": [
        "\n"
       ]
      }
     ],
     "prompt_number": 18
    },
    {
     "cell_type": "code",
     "collapsed": false,
     "input": [
      "coord_points_data[10]-coord_points_data[POINT_O]"
     ],
     "language": "python",
     "metadata": {},
     "outputs": [
      {
       "metadata": {},
       "output_type": "pyout",
       "prompt_number": 19,
       "text": [
        "array([-1.51534592,  0.        ,  0.8184015 ])"
       ]
      }
     ],
     "prompt_number": 19
    },
    {
     "cell_type": "code",
     "collapsed": false,
     "input": [
      "points = numpy_to_vtk(result, deep=True, array_type=vtk.VTK_FLOAT)\n",
      "vtkpoints = vtkPoints()\n",
      "for i in tqdm(xrange(len(coord_points_data))):\n",
      "    vtkpoints.InsertPoint(i, result[i, 0], result[i, 1], result[i, 2])\n",
      "ug.SetPoints(vtkpoints)"
     ],
     "language": "python",
     "metadata": {},
     "outputs": [
      {
       "output_type": "stream",
       "stream": "stderr",
       "text": [
        "\r",
        "  0%|          | 0/11612 [00:00<?, ?it/s]"
       ]
      },
      {
       "output_type": "stream",
       "stream": "stderr",
       "text": [
        "\r",
        "100%|\u2588\u2588\u2588\u2588\u2588\u2588\u2588\u2588\u2588\u2588| 11612/11612 [00:00<00:00, 215596.19it/s]"
       ]
      },
      {
       "output_type": "stream",
       "stream": "stderr",
       "text": [
        "\n"
       ]
      }
     ],
     "prompt_number": 20
    },
    {
     "cell_type": "code",
     "collapsed": false,
     "input": [],
     "language": "python",
     "metadata": {},
     "outputs": [],
     "prompt_number": 20
    },
    {
     "cell_type": "code",
     "collapsed": false,
     "input": [
      "vectors = numpy_to_vtk(vectors_array, deep=True, array_type=vtk.VTK_FLOAT)\n",
      "vectors.SetName('Fibers')\n",
      "ug.GetPointData().AddArray(vectors)\n",
      "writer = vtk.vtkXMLUnstructuredGridWriter() # vtu\n",
      "\n",
      "writer.SetFileName(\"slice_mesh_with_fibers4.vtu\")\n",
      "writer.SetInputData(ug)\n",
      "writer.Write()"
     ],
     "language": "python",
     "metadata": {},
     "outputs": [
      {
       "metadata": {},
       "output_type": "pyout",
       "prompt_number": 21,
       "text": [
        "1"
       ]
      }
     ],
     "prompt_number": 21
    },
    {
     "cell_type": "code",
     "collapsed": false,
     "input": [],
     "language": "python",
     "metadata": {},
     "outputs": []
    }
   ],
   "metadata": {}
  }
 ]
}