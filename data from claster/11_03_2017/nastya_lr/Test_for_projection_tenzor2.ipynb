{
 "metadata": {
  "name": "",
  "signature": "sha256:dc2ad1ae5e1a78e212c0d7652370d9a6b28703c0de9ca65fcb08f217487e3467"
 },
 "nbformat": 3,
 "nbformat_minor": 0,
 "worksheets": [
  {
   "cells": [
    {
     "cell_type": "code",
     "collapsed": false,
     "input": [
      "import numpy as np"
     ],
     "language": "python",
     "metadata": {},
     "outputs": [],
     "prompt_number": 1
    },
    {
     "cell_type": "code",
     "collapsed": false,
     "input": [
      "tenzor = np.array([[1,0,0], [0, 1, 0], [0, 0, 2]])\n",
      "a_x = np.array([[0,0,0], [0, 1, 0], [0, 0, 2]])\n",
      "a_y = np.array([[1,0,0], [0, 0, 0], [0, 0, 2]])\n",
      "a_z = np.array([[1,0,0], [0, 1, 0], [0, 0, 0]])"
     ],
     "language": "python",
     "metadata": {},
     "outputs": [],
     "prompt_number": 2
    },
    {
     "cell_type": "code",
     "collapsed": false,
     "input": [
      "n_x = np.array([1, 1, 1])\n",
      "n_y = np.array([0, 1, -1])\n",
      "n_z = np.cross(n_x, n_y)\n"
     ],
     "language": "python",
     "metadata": {},
     "outputs": [],
     "prompt_number": 3
    },
    {
     "cell_type": "code",
     "collapsed": false,
     "input": [
      "n_x = n_x/np.linalg.norm(n_x)\n",
      "n_y = n_y/np.linalg.norm(n_y)\n",
      "n_z = n_z/np.linalg.norm(n_z)\n",
      "print n_x, n_y, n_z"
     ],
     "language": "python",
     "metadata": {},
     "outputs": [
      {
       "output_type": "stream",
       "stream": "stdout",
       "text": [
        "[ 0.57735027  0.57735027  0.57735027] [ 0.          0.70710678 -0.70710678] [-0.81649658  0.40824829  0.40824829]\n"
       ]
      }
     ],
     "prompt_number": 4
    },
    {
     "cell_type": "code",
     "collapsed": false,
     "input": [
      "#\u043c\u0430\u0442\u0440\u0438\u0446\u0430 \u043f\u0435\u0440\u0435\u0445\u043e\u0434\u0430\n",
      "L = np.column_stack((n_x, n_y, n_z))\n",
      "L"
     ],
     "language": "python",
     "metadata": {},
     "outputs": [
      {
       "metadata": {},
       "output_type": "pyout",
       "prompt_number": 5,
       "text": [
        "array([[ 0.57735027,  0.        , -0.81649658],\n",
        "       [ 0.57735027,  0.70710678,  0.40824829],\n",
        "       [ 0.57735027, -0.70710678,  0.40824829]])"
       ]
      }
     ],
     "prompt_number": 5
    },
    {
     "cell_type": "code",
     "collapsed": false,
     "input": [
      "np.linalg.det(L)"
     ],
     "language": "python",
     "metadata": {},
     "outputs": [
      {
       "metadata": {},
       "output_type": "pyout",
       "prompt_number": 6,
       "text": [
        "1.0000000000000002"
       ]
      }
     ],
     "prompt_number": 6
    },
    {
     "cell_type": "code",
     "collapsed": false,
     "input": [
      "#\u0442\u0435\u043d\u0437\u043e\u0440\n",
      "tenzor_ = np.dot(L, tenzor)\n",
      "#\u043f\u043e\u0432\u043e\u0440\u043e\u0442 \u0442\u0435\u043d\u0437\u043e\u0440\u0430\n",
      "tenzor_turn = np.dot(tenzor_, L.T)\n",
      "tenzor_turn"
     ],
     "language": "python",
     "metadata": {},
     "outputs": [
      {
       "metadata": {},
       "output_type": "pyout",
       "prompt_number": 7,
       "text": [
        "array([[ 1.66666667, -0.33333333, -0.33333333],\n",
        "       [-0.33333333,  1.16666667,  0.16666667],\n",
        "       [-0.33333333,  0.16666667,  1.16666667]])"
       ]
      }
     ],
     "prompt_number": 7
    },
    {
     "cell_type": "code",
     "collapsed": false,
     "input": [
      "#\u043d\u043e\u0440\u043c\u0430\u043b\u044c \u043a \u043f\u043b\u043e\u0441\u043a\u043e\u0441\u0442\u0438 \u0441\u0440\u0435\u0437\u0430\n",
      "normal_x = np.array([1, 0, 0])\n",
      "#\u043f\u043e\u0432\u043e\u0440\u043e\u0442 \u043d\u043e\u0440\u043c\u0430\u043b\u0438\n",
      "normal_x_turn = np.dot(L, normal_x)\n",
      "normal_x_turn"
     ],
     "language": "python",
     "metadata": {},
     "outputs": [
      {
       "metadata": {},
       "output_type": "pyout",
       "prompt_number": 8,
       "text": [
        "array([ 0.57735027,  0.57735027,  0.57735027])"
       ]
      }
     ],
     "prompt_number": 8
    },
    {
     "cell_type": "code",
     "collapsed": false,
     "input": [
      "#\u043d\u043e\u0440\u043c\u0430\u043b\u044c \u043a \u043f\u043b\u043e\u0441\u043a\u043e\u0441\u0442\u0438 \u0441\u0440\u0435\u0437\u0430\n",
      "normal_y = np.array([0, 1, 0])\n",
      "#\u043f\u043e\u0432\u043e\u0440\u043e\u0442 \u043d\u043e\u0440\u043c\u0430\u043b\u0438\n",
      "normal_y_turn = np.dot(L, normal_y)\n",
      "normal_y_turn"
     ],
     "language": "python",
     "metadata": {},
     "outputs": [
      {
       "metadata": {},
       "output_type": "pyout",
       "prompt_number": 9,
       "text": [
        "array([ 0.        ,  0.70710678, -0.70710678])"
       ]
      }
     ],
     "prompt_number": 9
    },
    {
     "cell_type": "code",
     "collapsed": false,
     "input": [
      "#\u043d\u043e\u0440\u043c\u0430\u043b\u044c \u043a \u043f\u043b\u043e\u0441\u043a\u043e\u0441\u0442\u0438 \u0441\u0440\u0435\u0437\u0430\n",
      "normal_z = np.array([0, 0, 1])\n",
      "#\u043f\u043e\u0432\u043e\u0440\u043e\u0442 \u043d\u043e\u0440\u043c\u0430\u043b\u0438\n",
      "normal_z_turn = np.dot(L, normal_z)\n",
      "normal_z_turn"
     ],
     "language": "python",
     "metadata": {},
     "outputs": [
      {
       "metadata": {},
       "output_type": "pyout",
       "prompt_number": 10,
       "text": [
        "array([-0.81649658,  0.40824829,  0.40824829])"
       ]
      }
     ],
     "prompt_number": 10
    },
    {
     "cell_type": "code",
     "collapsed": false,
     "input": [],
     "language": "python",
     "metadata": {},
     "outputs": [],
     "prompt_number": 10
    },
    {
     "cell_type": "code",
     "collapsed": false,
     "input": [
      "#\u043e\u0436\u0438\u0434\u0430\u0435\u043c\u044b\u0439 \u0440\u0435\u0437\u0443\u043b\u044c\u0442\u0430\u0442 \u043f\u0440\u043e\u0435\u043a\u0446\u0438\u0438\n",
      "a_x_ = np.dot(L, a_x)\n",
      "a_x_turn = np.dot(a_x_, L.T)\n",
      "a_x_turn"
     ],
     "language": "python",
     "metadata": {},
     "outputs": [
      {
       "metadata": {},
       "output_type": "pyout",
       "prompt_number": 11,
       "text": [
        "array([[ 1.33333333, -0.66666667, -0.66666667],\n",
        "       [-0.66666667,  0.83333333, -0.16666667],\n",
        "       [-0.66666667, -0.16666667,  0.83333333]])"
       ]
      }
     ],
     "prompt_number": 11
    },
    {
     "cell_type": "code",
     "collapsed": false,
     "input": [
      "#\u043e\u0436\u0438\u0434\u0430\u0435\u043c\u044b\u0439 \u0440\u0435\u0437\u0443\u043b\u044c\u0442\u0430\u0442 \u043f\u0440\u043e\u0435\u043a\u0446\u0438\u0438\n",
      "a_y_ = np.dot(L, a_y)\n",
      "a_y_turn = np.dot(a_y_, L.T)\n",
      "a_y_turn"
     ],
     "language": "python",
     "metadata": {},
     "outputs": [
      {
       "metadata": {},
       "output_type": "pyout",
       "prompt_number": 12,
       "text": [
        "array([[ 1.66666667, -0.33333333, -0.33333333],\n",
        "       [-0.33333333,  0.66666667,  0.66666667],\n",
        "       [-0.33333333,  0.66666667,  0.66666667]])"
       ]
      }
     ],
     "prompt_number": 12
    },
    {
     "cell_type": "code",
     "collapsed": false,
     "input": [
      "#\u043e\u0436\u0438\u0434\u0430\u0435\u043c\u044b\u0439 \u0440\u0435\u0437\u0443\u043b\u044c\u0442\u0430\u0442 \u043f\u0440\u043e\u0435\u043a\u0446\u0438\u0438\n",
      "a_z_ = np.dot(L, a_z)\n",
      "a_z_turn = np.dot(a_z_, L.T)\n",
      "a_z_turn"
     ],
     "language": "python",
     "metadata": {},
     "outputs": [
      {
       "metadata": {},
       "output_type": "pyout",
       "prompt_number": 13,
       "text": [
        "array([[ 0.33333333,  0.33333333,  0.33333333],\n",
        "       [ 0.33333333,  0.83333333, -0.16666667],\n",
        "       [ 0.33333333, -0.16666667,  0.83333333]])"
       ]
      }
     ],
     "prompt_number": 13
    },
    {
     "cell_type": "code",
     "collapsed": false,
     "input": [
      "def project_tensor_on_plane(n, tensor):\n",
      "    \"\"\"   \n",
      "             n: plane normal vector\n",
      "        tensor: old tensor in 3D space\n",
      "         \n",
      "        return: Projection Tensor     \n",
      "    \n",
      "    \"\"\"\n",
      "    P = np.array([[1-n[0]**2, -n[0]*n[1], -n[0]*n[2]],\n",
      "                  [-n[0]*n[1], 1-n[1]**2, -n[1]*n[2]],\n",
      "                 [-n[0]*n[2], -n[1]*n[2], 1-n[2]**2]])\n",
      "    \n",
      "    #M = np.array([[tensor[0][0],0,0],\n",
      "                  #[0,tensor[1][1],0],\n",
      "                  #[0,0,tensor[2][2]]])\n",
      "    \n",
      "    M2 = np.dot(P,tensor)\n",
      "    M_ = np.dot(M2,P.T)\n",
      "   \n",
      "    return M_"
     ],
     "language": "python",
     "metadata": {},
     "outputs": [],
     "prompt_number": 15
    },
    {
     "cell_type": "code",
     "collapsed": false,
     "input": [
      "project_tensor_on_plane(np.array([1, 0, 0]), \n",
      "                        np.array([[1, 0, 0], \n",
      "                                  [0, 1, 0], \n",
      "                                  [0, 0, 2]]))"
     ],
     "language": "python",
     "metadata": {},
     "outputs": [
      {
       "metadata": {},
       "output_type": "pyout",
       "prompt_number": 16,
       "text": [
        "array([[0, 0, 0],\n",
        "       [0, 1, 0],\n",
        "       [0, 0, 2]])"
       ]
      }
     ],
     "prompt_number": 16
    },
    {
     "cell_type": "code",
     "collapsed": false,
     "input": [
      "project_tensor_on_plane(normal_x_turn, tenzor_turn)"
     ],
     "language": "python",
     "metadata": {},
     "outputs": [
      {
       "metadata": {},
       "output_type": "pyout",
       "prompt_number": 20,
       "text": [
        "array([[ 1.33333333, -0.66666667, -0.66666667],\n",
        "       [-0.66666667,  0.83333333, -0.16666667],\n",
        "       [-0.66666667, -0.16666667,  0.83333333]])"
       ]
      }
     ],
     "prompt_number": 20
    },
    {
     "cell_type": "code",
     "collapsed": false,
     "input": [
      "a_x_turn"
     ],
     "language": "python",
     "metadata": {},
     "outputs": [
      {
       "metadata": {},
       "output_type": "pyout",
       "prompt_number": 19,
       "text": [
        "array([[ 1.33333333, -0.66666667, -0.66666667],\n",
        "       [-0.66666667,  0.83333333, -0.16666667],\n",
        "       [-0.66666667, -0.16666667,  0.83333333]])"
       ]
      }
     ],
     "prompt_number": 19
    },
    {
     "cell_type": "code",
     "collapsed": false,
     "input": [
      "project_tensor_on_plane(normal_y_turn, tenzor_turn)"
     ],
     "language": "python",
     "metadata": {},
     "outputs": [
      {
       "metadata": {},
       "output_type": "pyout",
       "prompt_number": 21,
       "text": [
        "array([[ 1.66666667, -0.33333333, -0.33333333],\n",
        "       [-0.33333333,  0.66666667,  0.66666667],\n",
        "       [-0.33333333,  0.66666667,  0.66666667]])"
       ]
      }
     ],
     "prompt_number": 21
    },
    {
     "cell_type": "code",
     "collapsed": false,
     "input": [
      "a_y_turn"
     ],
     "language": "python",
     "metadata": {},
     "outputs": [
      {
       "metadata": {},
       "output_type": "pyout",
       "prompt_number": 22,
       "text": [
        "array([[ 1.66666667, -0.33333333, -0.33333333],\n",
        "       [-0.33333333,  0.66666667,  0.66666667],\n",
        "       [-0.33333333,  0.66666667,  0.66666667]])"
       ]
      }
     ],
     "prompt_number": 22
    },
    {
     "cell_type": "code",
     "collapsed": false,
     "input": [
      "project_tensor_on_plane(normal_z_turn, tenzor_turn)"
     ],
     "language": "python",
     "metadata": {},
     "outputs": [
      {
       "metadata": {},
       "output_type": "pyout",
       "prompt_number": 23,
       "text": [
        "array([[ 0.33333333,  0.33333333,  0.33333333],\n",
        "       [ 0.33333333,  0.83333333, -0.16666667],\n",
        "       [ 0.33333333, -0.16666667,  0.83333333]])"
       ]
      }
     ],
     "prompt_number": 23
    },
    {
     "cell_type": "code",
     "collapsed": false,
     "input": [
      "a_z_turn"
     ],
     "language": "python",
     "metadata": {},
     "outputs": [
      {
       "metadata": {},
       "output_type": "pyout",
       "prompt_number": 24,
       "text": [
        "array([[ 0.33333333,  0.33333333,  0.33333333],\n",
        "       [ 0.33333333,  0.83333333, -0.16666667],\n",
        "       [ 0.33333333, -0.16666667,  0.83333333]])"
       ]
      }
     ],
     "prompt_number": 24
    },
    {
     "cell_type": "code",
     "collapsed": false,
     "input": [],
     "language": "python",
     "metadata": {},
     "outputs": []
    }
   ],
   "metadata": {}
  }
 ]
}