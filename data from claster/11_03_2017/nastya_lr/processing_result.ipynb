{
 "metadata": {
  "name": "",
  "signature": "sha256:35dc7f9c6a12015ff6123789c40b5b390da8e9db6cd18eb33cd8b2229013a93e"
 },
 "nbformat": 3,
 "nbformat_minor": 0,
 "worksheets": [
  {
   "cells": [
    {
     "cell_type": "code",
     "collapsed": false,
     "input": [
      "import numpy as np\n",
      "import pandas as pd\n",
      "from vtk import *\n",
      "from vtk.util import numpy_support\n",
      "import os\n",
      "from vtk.util.numpy_support import vtk_to_numpy\n",
      "from vtk.util.numpy_support import numpy_to_vtk\n",
      "from tqdm import tqdm"
     ],
     "language": "python",
     "metadata": {},
     "outputs": [],
     "prompt_number": 1
    },
    {
     "cell_type": "code",
     "collapsed": false,
     "input": [
      "way_2d = '/home/shido/chaste-output/nastya_lr/video'\n",
      "file_name2d = 'heart_0.vtu'\n",
      "FILE_RESULT_SLICE = \"slice_mesh_with_fibers_result.vtu\"\n",
      "print os.path.join(way_2d, file_name2d)\n",
      "os.path.exists(os.path.join(way_2d, file_name2d))"
     ],
     "language": "python",
     "metadata": {},
     "outputs": [
      {
       "output_type": "stream",
       "stream": "stdout",
       "text": [
        "/home/shido/chaste-output/nastya_lr/video/heart_0.vtu\n"
       ]
      },
      {
       "metadata": {},
       "output_type": "pyout",
       "prompt_number": 2,
       "text": [
        "True"
       ]
      }
     ],
     "prompt_number": 2
    },
    {
     "cell_type": "code",
     "collapsed": false,
     "input": [
      "reader = vtkXMLUnstructuredGridReader()\n",
      "reader.SetFileName(os.path.join(way_2d, file_name2d))\n",
      "reader.Update()\n"
     ],
     "language": "python",
     "metadata": {},
     "outputs": [],
     "prompt_number": 3
    },
    {
     "cell_type": "code",
     "collapsed": false,
     "input": [
      "data_2d = reader.GetOutput()\n",
      "points = data_2d.GetPoints()\n",
      "cells = data_2d.GetCells()\n",
      "print data_2d, points, cells"
     ],
     "language": "python",
     "metadata": {},
     "outputs": [
      {
       "output_type": "stream",
       "stream": "stdout",
       "text": [
        "vtkUnstructuredGrid (0x1cc9530)\n",
        "  Debug: Off\n",
        "  Modified Time: 294\n",
        "  Reference Count: 2\n",
        "  Registered Events: (none)\n",
        "  Information: 0xf9c5f0\n",
        "  Data Released: False\n",
        "  Global Release Data: Off\n",
        "  UpdateTime: 322\n",
        "  Field Data:\n",
        "    Debug: Off\n",
        "    Modified Time: 250\n",
        "    Reference Count: 1\n",
        "    Registered Events: (none)\n",
        "    Number Of Arrays: 0\n",
        "    Number Of Components: 0\n",
        "    Number Of Tuples: 0\n",
        "  Number Of Points: 11612\n",
        "  Number Of Cells: 22407\n",
        "  Cell Data:\n",
        "    Debug: Off\n",
        "    Modified Time: 258\n",
        "    Reference Count: 1\n",
        "    Registered Events: (none)\n",
        "    Number Of Arrays: 0\n",
        "    Number Of Components: 0\n",
        "    Number Of Tuples: 0\n",
        "    Copy Tuple Flags: ( 1 1 1 1 1 0 1 1 )\n",
        "    Interpolate Flags: ( 1 1 1 1 1 0 0 1 )\n",
        "    Pass Through Flags: ( 1 1 1 1 1 1 1 1 )\n",
        "    Scalars: (none)\n",
        "    Vectors: (none)\n",
        "    Normals: (none)\n",
        "    TCoords: (none)\n",
        "    Tensors: (none)\n",
        "    GlobalIds: (none)\n",
        "    PedigreeIds: (none)\n",
        "    EdgeFlag: (none)\n",
        "  Point Data:\n",
        "    Debug: Off\n",
        "    Modified Time: 294\n",
        "    Reference Count: 1\n",
        "    Registered Events: (none)\n",
        "    Number Of Arrays: 2\n",
        "    Array 0 name = V\n",
        "    Array 1 name = phi_e\n",
        "    Number Of Components: 2\n",
        "    Number Of Tuples: 11612\n",
        "    Copy Tuple Flags: ( 1 1 1 1 1 0 1 1 )\n",
        "    Interpolate Flags: ( 1 1 1 1 1 0 0 1 )\n",
        "    Pass Through Flags: ( 1 1 1 1 1 1 1 1 )\n",
        "    Scalars: (none)\n",
        "    Vectors: (none)\n",
        "    Normals: (none)\n",
        "    TCoords: (none)\n",
        "    Tensors: (none)\n",
        "    GlobalIds: (none)\n",
        "    PedigreeIds: (none)\n",
        "    EdgeFlag: (none)\n",
        "  Bounds: \n",
        "    Xmin,Xmax: (-6.39229, -1.72578)\n",
        "    Ymin,Ymax: (1.02653, 7.19654)\n",
        "    Zmin,Zmax: (0, 0)\n",
        "  Compute Time: 334\n",
        "  Number Of Points: 11612\n",
        "  Point Coordinates: 0xfae780\n",
        "  Locator: 0\n",
        "  Number Of Pieces: 1\n",
        "  Piece: 0\n",
        "  Ghost Level: 0\n",
        "\n",
        " vtkPoints (0xfae780)\n",
        "  Debug: Off\n",
        "  Modified Time: 280\n",
        "  Reference Count: 2\n",
        "  Registered Events: (none)\n",
        "  Data: 0x1cd0d40\n",
        "  Data Array Name: Vertex positions\n",
        "  Number Of Points: 11612\n",
        "  Bounds: \n",
        "    Xmin,Xmax: (-6.39229, -1.72578)\n",
        "    Ymin,Ymax: (1.02653, 7.19654)\n",
        "    Zmin,Zmax: (0, 0)\n",
        "\n",
        " vtkCellArray (0x1cd2920)\n",
        "  Debug: Off\n",
        "  Modified Time: 283\n",
        "  Reference Count: 2\n",
        "  Registered Events: (none)\n",
        "  Number Of Cells: 22407\n",
        "  Insert Location: 0\n",
        "  Traversal Location: 0\n",
        "\n",
        "\n"
       ]
      }
     ],
     "prompt_number": 4
    },
    {
     "cell_type": "code",
     "collapsed": false,
     "input": [
      "coord_points_data = vtk_to_numpy(points.GetData())\n",
      "coord_points_data"
     ],
     "language": "python",
     "metadata": {},
     "outputs": [
      {
       "metadata": {},
       "output_type": "pyout",
       "prompt_number": 5,
       "text": [
        "array([[-2.48991513,  2.11133838,  0.        ],\n",
        "       [-2.51174736,  2.08402848,  0.        ],\n",
        "       [-2.53422213,  2.05724716,  0.        ],\n",
        "       ..., \n",
        "       [-4.19022989,  1.05612862,  0.        ],\n",
        "       [-4.0650959 ,  1.05217934,  0.        ],\n",
        "       [-4.13805437,  1.05133319,  0.        ]])"
       ]
      }
     ],
     "prompt_number": 5
    },
    {
     "cell_type": "code",
     "collapsed": false,
     "input": [
      "L_ = np.matrix([[-9.99366421e-01,  -3.48184155e-02,   1.81643374e-03],\n",
      "                [1.82399649e-03,  -1.85425233e-04,   9.99972783e-01],\n",
      "                [3.48189093e-02,  -9.99342535e-01,  -2.48829127e-04]])\n",
      "L = np.linalg.inv(L_)"
     ],
     "language": "python",
     "metadata": {},
     "outputs": [],
     "prompt_number": 6
    },
    {
     "cell_type": "code",
     "collapsed": false,
     "input": [
      "Z_shift = -2.6985121368098666\n",
      "#coord_points_data = coord_points_data*L_\n",
      "print coord_points_data\n",
      "for i in tqdm(xrange(len(coord_points_data))):\n",
      "    point_ = coord_points_data[i]\n",
      "    point_[2] += Z_shift    \n",
      "    point = L.dot(point_)\n",
      "    coord_points_data[i][0] = point[0, 0]\n",
      "    coord_points_data[i][1] = point[0, 1]\n",
      "    coord_points_data[i][2] = point[0, 2]\n",
      "print coord_points_data\n"
     ],
     "language": "python",
     "metadata": {},
     "outputs": [
      {
       "output_type": "stream",
       "stream": "stderr",
       "text": [
        "\r",
        "  0%|          | 0/11612 [00:00<?, ?it/s]"
       ]
      },
      {
       "output_type": "stream",
       "stream": "stderr",
       "text": [
        "\r",
        "  1%|\u258f         | 166/11612 [00:00<00:06, 1659.59it/s]"
       ]
      },
      {
       "output_type": "stream",
       "stream": "stderr",
       "text": [
        "\r",
        " 21%|\u2588\u2588        | 2411/11612 [00:00<00:04, 2298.03it/s]"
       ]
      },
      {
       "output_type": "stream",
       "stream": "stderr",
       "text": [
        "\r",
        " 42%|\u2588\u2588\u2588\u2588\u258f     | 4917/11612 [00:00<00:02, 3158.74it/s]"
       ]
      },
      {
       "output_type": "stream",
       "stream": "stderr",
       "text": [
        "\r",
        " 64%|\u2588\u2588\u2588\u2588\u2588\u2588\u258d   | 7451/11612 [00:00<00:00, 4283.58it/s]"
       ]
      },
      {
       "output_type": "stream",
       "stream": "stderr",
       "text": [
        "\r",
        " 86%|\u2588\u2588\u2588\u2588\u2588\u2588\u2588\u2588\u258c | 9970/11612 [00:00<00:00, 5703.72it/s]"
       ]
      },
      {
       "output_type": "stream",
       "stream": "stderr",
       "text": [
        "\r",
        "100%|\u2588\u2588\u2588\u2588\u2588\u2588\u2588\u2588\u2588\u2588| 11612/11612 [00:00<00:00, 20591.54it/s]"
       ]
      },
      {
       "output_type": "stream",
       "stream": "stdout",
       "text": [
        "[[-2.48991513  2.11133838  0.        ]\n",
        " [-2.51174736  2.08402848  0.        ]\n",
        " [-2.53422213  2.05724716  0.        ]\n",
        " ..., \n",
        " [-4.19022989  1.05612862  0.        ]\n",
        " [-4.0650959   1.05217934  0.        ]\n",
        " [-4.13805437  1.05133319  0.        ]]\n",
        "[[ 2.39835189  2.78332566  2.10753725]\n",
        " [ 2.42012158  2.78409096  2.08018705]\n",
        " [ 2.44253441  2.78487854  2.05336426]\n",
        " ..., \n",
        " [ 4.09575136  2.84272965  1.04921366]\n",
        " [ 3.97068306  2.83837297  1.04549159]\n",
        " [ 4.04359748  2.84091369  1.04451289]]"
       ]
      },
      {
       "output_type": "stream",
       "stream": "stdout",
       "text": [
        "\n"
       ]
      },
      {
       "output_type": "stream",
       "stream": "stderr",
       "text": [
        "\n"
       ]
      }
     ],
     "prompt_number": 7
    },
    {
     "cell_type": "code",
     "collapsed": false,
     "input": [
      "vtkpoints = vtkPoints()\n",
      "for i in tqdm(xrange(len(coord_points_data))):\n",
      "    vtkpoints.InsertPoint(i, coord_points_data[i, 0], coord_points_data[i, 1], coord_points_data[i, 2])\n",
      "data_2d.SetPoints(vtkpoints)"
     ],
     "language": "python",
     "metadata": {},
     "outputs": [
      {
       "output_type": "stream",
       "stream": "stderr",
       "text": [
        "\r",
        "  0%|          | 0/11612 [00:00<?, ?it/s]"
       ]
      },
      {
       "output_type": "stream",
       "stream": "stderr",
       "text": [
        "\r",
        "100%|\u2588\u2588\u2588\u2588\u2588\u2588\u2588\u2588\u2588\u2588| 11612/11612 [00:00<00:00, 198985.38it/s]"
       ]
      },
      {
       "output_type": "stream",
       "stream": "stderr",
       "text": [
        "\n"
       ]
      }
     ],
     "prompt_number": 8
    },
    {
     "cell_type": "code",
     "collapsed": false,
     "input": [
      "writer = vtk.vtkXMLUnstructuredGridWriter() # vtu\n",
      "writer.SetFileName(\"slice_mesh_with_fibers_result.vtu\")\n",
      "writer.SetInputData(data_2d)\n",
      "writer.Write()"
     ],
     "language": "python",
     "metadata": {},
     "outputs": [
      {
       "metadata": {},
       "output_type": "pyout",
       "prompt_number": 41,
       "text": [
        "1"
       ]
      }
     ],
     "prompt_number": 41
    },
    {
     "cell_type": "code",
     "collapsed": false,
     "input": [
      "from vtk.util import numpy_support as VN\n",
      "reader2 = vtkXMLUnstructuredGridReader()\n",
      "reader2.SetFileName(os.path.join(way_2d, FILE_RESULT_SLICE))\n",
      "reader2.Update()\n",
      "data_result = reader2.GetOutput()\n",
      "points2 = data_result.GetPoints()\n",
      "a = data_result.GetFieldData()\n",
      "\n",
      "#print data_result, points2, cells2, scalars\n",
      "print a\n",
      "scalars = vtk_to_numpy(a)"
     ],
     "language": "python",
     "metadata": {},
     "outputs": [
      {
       "output_type": "stream",
       "stream": "stdout",
       "text": [
        "vtkFieldData (0x1cdb130)\n",
        "  Debug: Off\n",
        "  Modified Time: 1972\n",
        "  Reference Count: 2\n",
        "  Registered Events: (none)\n",
        "  Number Of Arrays: 0\n",
        "  Number Of Components: 0\n",
        "  Number Of Tuples: 0\n",
        "\n",
        "\n"
       ]
      },
      {
       "ename": "AttributeError",
       "evalue": "GetDataType",
       "output_type": "pyerr",
       "traceback": [
        "\u001b[0;31m---------------------------------------------------------------------------\u001b[0m\n\u001b[0;31mAttributeError\u001b[0m                            Traceback (most recent call last)",
        "\u001b[0;32m<ipython-input-31-c8c343cf5795>\u001b[0m in \u001b[0;36m<module>\u001b[0;34m()\u001b[0m\n\u001b[1;32m      9\u001b[0m \u001b[0;31m#print data_result, points2, cells2, scalars\u001b[0m\u001b[0;34m\u001b[0m\u001b[0;34m\u001b[0m\u001b[0m\n\u001b[1;32m     10\u001b[0m \u001b[0;32mprint\u001b[0m \u001b[0ma\u001b[0m\u001b[0;34m\u001b[0m\u001b[0m\n\u001b[0;32m---> 11\u001b[0;31m \u001b[0mscalars\u001b[0m \u001b[0;34m=\u001b[0m \u001b[0mvtk_to_numpy\u001b[0m\u001b[0;34m(\u001b[0m\u001b[0ma\u001b[0m\u001b[0;34m)\u001b[0m\u001b[0;34m\u001b[0m\u001b[0m\n\u001b[0m",
        "\u001b[0;32m/usr/lib/python2.7/dist-packages/vtk/util/numpy_support.pyc\u001b[0m in \u001b[0;36mvtk_to_numpy\u001b[0;34m(vtk_array)\u001b[0m\n\u001b[1;32m    210\u001b[0m \u001b[0;34m\u001b[0m\u001b[0m\n\u001b[1;32m    211\u001b[0m     \"\"\"\n\u001b[0;32m--> 212\u001b[0;31m     \u001b[0mtyp\u001b[0m \u001b[0;34m=\u001b[0m \u001b[0mvtk_array\u001b[0m\u001b[0;34m.\u001b[0m\u001b[0mGetDataType\u001b[0m\u001b[0;34m(\u001b[0m\u001b[0;34m)\u001b[0m\u001b[0;34m\u001b[0m\u001b[0m\n\u001b[0m\u001b[1;32m    213\u001b[0m     \u001b[0;32massert\u001b[0m \u001b[0mtyp\u001b[0m \u001b[0;32min\u001b[0m \u001b[0mget_vtk_to_numpy_typemap\u001b[0m\u001b[0;34m(\u001b[0m\u001b[0;34m)\u001b[0m\u001b[0;34m.\u001b[0m\u001b[0mkeys\u001b[0m\u001b[0;34m(\u001b[0m\u001b[0;34m)\u001b[0m\u001b[0;34m,\u001b[0m\u001b[0;31m \u001b[0m\u001b[0;31m\\\u001b[0m\u001b[0;34m\u001b[0m\u001b[0m\n\u001b[1;32m    214\u001b[0m            \u001b[0;34m\"Unsupported array type %s\"\u001b[0m\u001b[0;34m%\u001b[0m\u001b[0mtyp\u001b[0m\u001b[0;34m\u001b[0m\u001b[0m\n",
        "\u001b[0;31mAttributeError\u001b[0m: GetDataType"
       ]
      }
     ],
     "prompt_number": 31
    },
    {
     "cell_type": "code",
     "collapsed": false,
     "input": [
      "reader3 = vtkUnstructuredGridReader()\n",
      "reader3.SetFileName(os.path.join(way_2d, FILE_RESULT_SLICE))\n",
      "reader3.Update()\n",
      "ug3 = reader3.GetOutput()\n",
      "points3 = ug3.GetPoints()\n",
      "print ug3.GetScalarRange()\n",
      "#coords_vectors_data3 = vtk_to_numpy(ug3.GetPointData().GetArray('V'))"
     ],
     "language": "python",
     "metadata": {},
     "outputs": [
      {
       "output_type": "stream",
       "stream": "stdout",
       "text": [
        "(0.0, 1.0)\n"
       ]
      }
     ],
     "prompt_number": 36
    },
    {
     "cell_type": "code",
     "collapsed": false,
     "input": [],
     "language": "python",
     "metadata": {},
     "outputs": []
    }
   ],
   "metadata": {}
  }
 ]
}