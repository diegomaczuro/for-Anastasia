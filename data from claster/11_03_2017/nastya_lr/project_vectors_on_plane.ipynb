{
 "metadata": {
  "name": "",
  "signature": "sha256:d98c443e5c366836419b0b6682b3b6919eafcd9641b7b62af9c20144ff3b84db"
 },
 "nbformat": 3,
 "nbformat_minor": 0,
 "worksheets": [
  {
   "cells": [
    {
     "cell_type": "code",
     "collapsed": false,
     "input": [
      "from vtk import *\n",
      "import numpy as np\n",
      "import pandas as pd\n",
      "from sklearn.neighbors import KDTree\n",
      "from vtk.util.numpy_support import vtk_to_numpy\n",
      "from tqdm import tqdm\n",
      "import warnings\n",
      "from vtk.util.numpy_support import numpy_to_vtk\n",
      "import warnings"
     ],
     "language": "python",
     "metadata": {},
     "outputs": [],
     "prompt_number": 1
    },
    {
     "cell_type": "code",
     "collapsed": false,
     "input": [
      "warnings.filterwarnings(\"ignore\")"
     ],
     "language": "python",
     "metadata": {},
     "outputs": [],
     "prompt_number": 2
    },
    {
     "cell_type": "code",
     "collapsed": false,
     "input": [
      "FILE_MESH = 'slice_mesh2.vtk'\n",
      "file_data = './full_vector_field.vtk'\n",
      "POINT_O = 62\n",
      "POINT_A = 6571\n",
      "POINT_B = 785\n",
      "\n",
      "np.set_printoptions(precision=418)"
     ],
     "language": "python",
     "metadata": {},
     "outputs": [],
     "prompt_number": 3
    },
    {
     "cell_type": "code",
     "collapsed": false,
     "input": [
      "reader2 = vtkUnstructuredGridReader()\n",
      "reader2.SetFileName(FILE_MESH)\n",
      "reader2.Update()\n",
      "ug2 = reader2.GetOutput()"
     ],
     "language": "python",
     "metadata": {},
     "outputs": [],
     "prompt_number": 4
    },
    {
     "cell_type": "code",
     "collapsed": false,
     "input": [
      "points2 = ug2.GetPoints()\n",
      "coord_points_data2 = vtk_to_numpy(points2.GetData())\n",
      "coord_points_data2"
     ],
     "language": "python",
     "metadata": {},
     "outputs": [
      {
       "metadata": {},
       "output_type": "pyout",
       "prompt_number": 5,
       "text": [
        "array([[ 2.396570000000000089102059064316563308238983154296875 ,\n",
        "         2.834470000000000045048409447190351784229278564453125 ,\n",
        "         2.107549999999999812416717759333550930023193359375    ],\n",
        "       [ 2.418366265452414953784909812384285032749176025390625 ,\n",
        "         2.834470000000000045048409447190351784229278564453125 ,\n",
        "         2.08019948592150694111069242353551089763641357421875  ],\n",
        "       [ 2.440806543944991080508088998612947762012481689453125 ,\n",
        "         2.834470000000000045048409447190351784229278564453125 ,\n",
        "         2.053376548153261982321282630437053740024566650390625 ],\n",
        "       ..., \n",
        "       [ 4.09603913966717758654567660414613783359527587890625  ,\n",
        "         2.834470000000000045048409447190351784229278564453125 ,\n",
        "         1.0492115960424699405706405741511844098567962646484375],\n",
        "       [ 3.97081886471726885901034620474092662334442138671875  ,\n",
        "         2.834470000000000045048409447190351784229278564453125 ,\n",
        "         1.0454906148808469357192052484606392681598663330078125],\n",
        "       [ 4.04382200581471717981685287668369710445404052734375  ,\n",
        "         2.834470000000000045048409447190351784229278564453125 ,\n",
        "         1.04451127498114093583581052371300756931304931640625  ]])"
       ]
      }
     ],
     "prompt_number": 5
    },
    {
     "cell_type": "code",
     "collapsed": false,
     "input": [
      "coord_points_data2.dtype"
     ],
     "language": "python",
     "metadata": {},
     "outputs": [
      {
       "metadata": {},
       "output_type": "pyout",
       "prompt_number": 6,
       "text": [
        "dtype('float64')"
       ]
      }
     ],
     "prompt_number": 6
    },
    {
     "cell_type": "code",
     "collapsed": false,
     "input": [
      "vec1 = coord_points_data2[POINT_A] - coord_points_data2[POINT_O]\n",
      "vec2_ = coord_points_data2[POINT_B] - coord_points_data2[POINT_O]\n",
      "print vec1, vec2_"
     ],
     "language": "python",
     "metadata": {},
     "outputs": [
      {
       "output_type": "stream",
       "stream": "stdout",
       "text": [
        "[ 1.5629357831021390978776253177784383296966552734375  0.\n",
        "  2.8055342198547439380718060419894754886627197265625] [-2.288158263036873751872235516202636063098907470703125  0.\n",
        "  1.96304665218159701822742135846056044101715087890625 ]\n"
       ]
      }
     ],
     "prompt_number": 7
    },
    {
     "cell_type": "code",
     "collapsed": false,
     "input": [
      "vec3 = np.cross(vec1, vec2_)\n",
      "print vec3"
     ],
     "language": "python",
     "metadata": {},
     "outputs": [
      {
       "output_type": "stream",
       "stream": "stdout",
       "text": [
        "[ 0.                                                 -9.487622163986817014347252552397549152374267578125\n",
        "  0.                                                ]\n"
       ]
      }
     ],
     "prompt_number": 8
    },
    {
     "cell_type": "code",
     "collapsed": false,
     "input": [
      "vec2 = np.cross(vec1, vec3)\n",
      "print vec2"
     ],
     "language": "python",
     "metadata": {},
     "outputs": [
      {
       "output_type": "stream",
       "stream": "stdout",
       "text": [
        "[ 26.61784864611733070205445983447134494781494140625     0.\n",
        " -14.8285441766479468839179389760829508304595947265625]\n"
       ]
      }
     ],
     "prompt_number": 9
    },
    {
     "cell_type": "code",
     "collapsed": false,
     "input": [
      "print np.dot(vec1,vec2_),  np.dot(vec1,vec2)"
     ],
     "language": "python",
     "metadata": {},
     "outputs": [
      {
       "output_type": "stream",
       "stream": "stdout",
       "text": [
        "1.93115013117 0.0\n"
       ]
      }
     ],
     "prompt_number": 10
    },
    {
     "cell_type": "code",
     "collapsed": false,
     "input": [
      "vec1_len = np.linalg.norm(vec1)\n",
      "vec2_len = np.linalg.norm(vec2)\n",
      "vec3_len = np.linalg.norm(vec3)"
     ],
     "language": "python",
     "metadata": {},
     "outputs": [],
     "prompt_number": 11
    },
    {
     "cell_type": "code",
     "collapsed": false,
     "input": [
      "print np.dot(vec1/vec1_len,vec2/vec2_len),  np.dot(vec1/vec1_len,vec3/vec3_len),  np.dot(vec2/vec2_len,vec3/vec3_len)"
     ],
     "language": "python",
     "metadata": {},
     "outputs": [
      {
       "output_type": "stream",
       "stream": "stdout",
       "text": [
        "0.0 0.0 0.0\n"
       ]
      }
     ],
     "prompt_number": 12
    },
    {
     "cell_type": "code",
     "collapsed": false,
     "input": [
      "L = np.matrix(np.vstack([vec1/vec1_len, vec2/vec2_len, vec3/vec3_len]).T)\n",
      "print L"
     ],
     "language": "python",
     "metadata": {},
     "outputs": [
      {
       "output_type": "stream",
       "stream": "stdout",
       "text": [
        "[[ 0.48666709262240004374433510747621767222881317138671875\n",
        "   0.87358751190619721160857125141774304211139678955078125   0.                                                      ]\n",
        " [ 0.                                                        0.                                                       -1.                                                      ]\n",
        " [ 0.87358751190619721160857125141774304211139678955078125\n",
        "  -0.486667092622400099255486338734044693410396575927734375  0.                                                      ]]\n"
       ]
      }
     ],
     "prompt_number": 13
    },
    {
     "cell_type": "code",
     "collapsed": false,
     "input": [
      "L_inv = np.linalg.inv(L)\n",
      "print L_inv"
     ],
     "language": "python",
     "metadata": {},
     "outputs": [
      {
       "output_type": "stream",
       "stream": "stdout",
       "text": [
        "[[ 0.486667092622400099255486338734044693410396575927734375  0.\n",
        "   0.87358751190619721160857125141774304211139678955078125 ]\n",
        " [ 0.87358751190619721160857125141774304211139678955078125   0.\n",
        "  -0.486667092622400099255486338734044693410396575927734375]\n",
        " [ 0.                                                       -1.                                                        0.                                                      ]]\n"
       ]
      }
     ],
     "prompt_number": 14
    },
    {
     "cell_type": "code",
     "collapsed": false,
     "input": [
      "L*(L_inv*np.matrix(coord_points_data2[10]).T)"
     ],
     "language": "python",
     "metadata": {},
     "outputs": [
      {
       "metadata": {},
       "output_type": "pyout",
       "prompt_number": 15,
       "text": [
        "matrix([[ 2.620290647499789571384098962880671024322509765625   ],\n",
        "        [ 2.834470000000000045048409447190351784229278564453125],\n",
        "        [ 1.847038307536098766803434045868925750255584716796875]])"
       ]
      }
     ],
     "prompt_number": 15
    },
    {
     "cell_type": "code",
     "collapsed": false,
     "input": [
      "np.matrix(coord_points_data2[10]).T"
     ],
     "language": "python",
     "metadata": {},
     "outputs": [
      {
       "metadata": {},
       "output_type": "pyout",
       "prompt_number": 16,
       "text": [
        "matrix([[ 2.620290647499790015473308812943287193775177001953125 ],\n",
        "        [ 2.834470000000000045048409447190351784229278564453125 ],\n",
        "        [ 1.8470383075360989888480389709002338349819183349609375]])"
       ]
      }
     ],
     "prompt_number": 16
    },
    {
     "cell_type": "code",
     "collapsed": false,
     "input": [
      "L_inv*np.matrix(coord_points_data2[10] - coord_points_data2[POINT_O]).T"
     ],
     "language": "python",
     "metadata": {},
     "outputs": [
      {
       "metadata": {},
       "output_type": "pyout",
       "prompt_number": 17,
       "text": [
        "matrix([[-0.022523664070176696583303055376745760440826416015625],\n",
        "        [-1.722076344288214766464761851239018142223358154296875],\n",
        "        [ 0.                                                   ]])"
       ]
      }
     ],
     "prompt_number": 17
    },
    {
     "cell_type": "code",
     "collapsed": false,
     "input": [
      "L_inv*np.matrix(coord_points_data2[100] - coord_points_data2[POINT_O]).T"
     ],
     "language": "python",
     "metadata": {},
     "outputs": [
      {
       "metadata": {},
       "output_type": "pyout",
       "prompt_number": 18,
       "text": [
        "matrix([[ 1.149873206224121258145487445290200412273406982421875   ],\n",
        "        [ 0.476393499843696222040279053544509224593639373779296875],\n",
        "        [ 0.                                                      ]])"
       ]
      }
     ],
     "prompt_number": 18
    },
    {
     "cell_type": "code",
     "collapsed": false,
     "input": [
      "L_inv*np.matrix(coord_points_data2[1000] - coord_points_data2[POINT_O]).T\n"
     ],
     "language": "python",
     "metadata": {},
     "outputs": [
      {
       "metadata": {},
       "output_type": "pyout",
       "prompt_number": 19,
       "text": [
        "matrix([[ 4.19993847461014002675483425264246761798858642578125],\n",
        "        [-4.7096439274260522012127694324590265750885009765625 ],\n",
        "        [ 0.                                                  ]])"
       ]
      }
     ],
     "prompt_number": 19
    },
    {
     "cell_type": "code",
     "collapsed": false,
     "input": [
      "test_1 = coord_points_data2[10]\n",
      "test_2 = L*(L_inv*np.matrix(coord_points_data2[10] - coord_points_data2[POINT_O]).T) + np.matrix(coord_points_data2[POINT_O]).T"
     ],
     "language": "python",
     "metadata": {},
     "outputs": [],
     "prompt_number": 20
    },
    {
     "cell_type": "code",
     "collapsed": false,
     "input": [
      "np.linalg.norm(test_1-test_2)"
     ],
     "language": "python",
     "metadata": {},
     "outputs": [
      {
       "metadata": {},
       "output_type": "pyout",
       "prompt_number": 21,
       "text": [
        "1.7993406145468158"
       ]
      }
     ],
     "prompt_number": 21
    },
    {
     "cell_type": "code",
     "collapsed": false,
     "input": [
      "print test_1"
     ],
     "language": "python",
     "metadata": {},
     "outputs": [
      {
       "output_type": "stream",
       "stream": "stdout",
       "text": [
        "[ 2.620290647499790015473308812943287193775177001953125\n",
        "  2.834470000000000045048409447190351784229278564453125\n",
        "  1.8470383075360989888480389709002338349819183349609375]\n"
       ]
      }
     ],
     "prompt_number": 22
    },
    {
     "cell_type": "code",
     "collapsed": false,
     "input": [
      "print test_2"
     ],
     "language": "python",
     "metadata": {},
     "outputs": [
      {
       "output_type": "stream",
       "stream": "stdout",
       "text": [
        "[[ 2.620290647499789571384098962880671024322509765625    ]\n",
        " [ 2.834470000000000045048409447190351784229278564453125 ]\n",
        " [ 1.8470383075360989888480389709002338349819183349609375]]\n"
       ]
      }
     ],
     "prompt_number": 23
    },
    {
     "cell_type": "code",
     "collapsed": false,
     "input": [
      "print np.matrix(test_1).T - test_2"
     ],
     "language": "python",
     "metadata": {},
     "outputs": [
      {
       "output_type": "stream",
       "stream": "stdout",
       "text": [
        "[[   4.4408920985006261616945266723632812500000000000000000000000000000000000000000000000000000000000000000000000000000000000000000000000000000000000000000000000000000000000000000000000000000000000000000000000000000000000000000000000000000000000000000000000000000000000000000000000000000000000000000000000000000000000000000000000000000000000000000000000000000000000000000000000000000000000000000000000000000000000000000000000e-16]\n",
        " [   0.0000000000000000000000000000000000000000000000000000000000000000000000000000000000000000000000000000000000000000000000000000000000000000000000000000000000000000000000000000000000000000000000000000000000000000000000000000000000000000000000000000000000000000000000000000000000000000000000000000000000000000000000000000000000000000000000000000000000000000000000000000000000000000000000000000000000000000000000000000000000e+00]\n",
        " [   0.0000000000000000000000000000000000000000000000000000000000000000000000000000000000000000000000000000000000000000000000000000000000000000000000000000000000000000000000000000000000000000000000000000000000000000000000000000000000000000000000000000000000000000000000000000000000000000000000000000000000000000000000000000000000000000000000000000000000000000000000000000000000000000000000000000000000000000000000000000000000e+00]]\n"
       ]
      }
     ],
     "prompt_number": 24
    },
    {
     "cell_type": "code",
     "collapsed": false,
     "input": [
      "print np.linalg.norm(np.matrix(test_1).T - test_2)"
     ],
     "language": "python",
     "metadata": {},
     "outputs": [
      {
       "output_type": "stream",
       "stream": "stdout",
       "text": [
        "4.4408920985e-16\n"
       ]
      }
     ],
     "prompt_number": 25
    },
    {
     "cell_type": "code",
     "collapsed": false,
     "input": [
      "reader3 = vtkUnstructuredGridReader()\n",
      "reader3.SetFileName(file_data)\n",
      "reader3.Update()\n",
      "ug3 = reader3.GetOutput()\n",
      "points3 = ug3.GetPoints()\n",
      "coords_vectors_data3 = vtk_to_numpy(ug3.GetPointData().GetArray('DTMRIFiberOrientation'))\n",
      "coord_points_data3 = vtk_to_numpy(points3.GetData())\n",
      "#\u043f\u043e\u0441\u0442\u0440\u043e\u0435\u043d\u0438\u0435 \u0434\u0435\u0440\u0435\u0432\u0430\n",
      "tree = KDTree(coord_points_data3, leaf_size=5, metric='euclidean')"
     ],
     "language": "python",
     "metadata": {},
     "outputs": [],
     "prompt_number": 26
    },
    {
     "cell_type": "code",
     "collapsed": false,
     "input": [
      "file_slice_name = 'slice2.vtk'\n",
      "reader = vtk.vtkPolyDataReader()\n",
      "reader.SetFileName(file_slice_name)\n",
      "reader.Update()\n",
      "ug = reader.GetOutput()\n",
      "point = ug.GetPoints()\n",
      "points = vtk_to_numpy(point.GetData())\n",
      "line = ug.GetLines()\n",
      "lines = vtk_to_numpy(line.GetData())\n",
      "lines2 = lines.reshape(-1, 3) \n",
      "line_ = lines2[:,1:]\n",
      "line_help = line_[0:,0:1].ravel()"
     ],
     "language": "python",
     "metadata": {},
     "outputs": [],
     "prompt_number": 27
    },
    {
     "cell_type": "code",
     "collapsed": false,
     "input": [
      "#\u043f\u043e\u043c\u0435\u0447\u0435\u043d\u043d\u044b\u0435 \u0442\u043e\u0447\u043a\u0438, \u043c\u0435\u0436\u0434\u0443 \u043a\u043e\u0442\u043e\u0440\u044b\u043c\u0438 \u0438\u0449\u0435\u0442\u0441\u044f \u044d\u043f\u0438\u043a\u0430\u0440\u0434 \u0438 \u044d\u043d\u0434\u043e\u043a\u0430\u0440\u0434, \u0432\u044b\u0441\u0442\u0430\u0432\u043b\u044f\u044e\u0442\u0441\u044f \u0432\u0440\u0443\u0447\u043d\u0443\u044e\n",
      "top_point_left = 910 \n",
      "top_point_right = 2509\n",
      "point_bottom = 1983\n",
      "line_endocard = []\n",
      "next_ = top_point_left\n",
      "\n",
      "print np.where(line_help == next_)[0][1]\n",
      "print line_[np.where(line_help == next_)[0][0]][1]\n",
      "while next_ != top_point_right:   \n",
      "    next_ = line_[np.where(line_help == next_)[0][0]][1]\n",
      "    if not(next_ in line_endocard):\n",
      "        line_endocard.append(next_)\n",
      "    \n",
      "if not(point_bottom in line_endocard):    \n",
      "    line_endocard = []\n",
      "    next_ = top_point_left\n",
      "    while next_ != top_point_right:   \n",
      "        next_ = line_[np.where(line_help == next_)[0][1]][1]\n",
      "        if not(next_ in line_endocard):\n",
      "            line_endocard.append(next_)\n",
      "colorize_points = np.zeros(len(coord_points_data2))\n",
      "tree2 = KDTree(coord_points_data2, leaf_size=5, metric='euclidean')\n",
      "for i in xrange(len(line_endocard)):\n",
      "    dist, ind = tree2.query([points[line_endocard[i]][0],points[line_endocard[i]][1], points[line_endocard[i]][2]], k=1)\n",
      "    colorize_points[ind[0][0]] = 1\n",
      "color_points_vtk = numpy_to_vtk(colorize_points, deep=True, array_type=vtk.VTK_FLOAT)\n",
      "color_points_vtk.SetName('Color')\n",
      "ug2.GetPointData().AddArray(color_points_vtk)"
     ],
     "language": "python",
     "metadata": {},
     "outputs": [
      {
       "output_type": "stream",
       "stream": "stdout",
       "text": [
        "3965\n",
        "911\n"
       ]
      },
      {
       "metadata": {},
       "output_type": "pyout",
       "prompt_number": 28,
       "text": [
        "0"
       ]
      }
     ],
     "prompt_number": 28
    },
    {
     "cell_type": "code",
     "collapsed": false,
     "input": [],
     "language": "python",
     "metadata": {},
     "outputs": [],
     "prompt_number": 28
    },
    {
     "cell_type": "code",
     "collapsed": false,
     "input": [
      "index_for_plane = np.array([650, 815, 649])\n",
      "point_for_plane = np.array([coord_points_data2[index_for_plane[0]], coord_points_data2[index_for_plane[1]], \n",
      "                            coord_points_data2[index_for_plane[2]]])\n",
      "plane = vtkPlane()\n",
      "vector1 = point_for_plane[1] - point_for_plane[0]\n",
      "vector2 = point_for_plane[2] - point_for_plane[0]\n",
      "normal_ = np.cross(vector1, vector2)\n",
      "normal = normal_/np.linalg.norm(normal_)\n",
      "vector1 = vector1/np.linalg.norm(vector1)\n",
      "vector2 = vector2/np.linalg.norm(vector2)\n",
      "plane.SetOrigin(coord_points_data2[0])\n",
      "plane.SetNormal(normal)\n",
      "print np.dot(vector2,normal)"
     ],
     "language": "python",
     "metadata": {},
     "outputs": [
      {
       "output_type": "stream",
       "stream": "stdout",
       "text": [
        "-2.66240555512e-30\n"
       ]
      }
     ],
     "prompt_number": 29
    },
    {
     "cell_type": "code",
     "collapsed": false,
     "input": [
      "vectors_array = np.zeros((len(coord_points_data2), 3))\n",
      "dist, ind = tree.query(coord_points_data2, k=1)\n",
      "print coords_vectors_data3[0]\n",
      "for i in tqdm(xrange(len(coord_points_data2))): \n",
      "    n = np.zeros((3))    \n",
      "    index = ind[i][0]\n",
      "    plane.ProjectVector(coords_vectors_data3[index], n)\n",
      "    vectors_array[i] = n / np.linalg.norm(n) "
     ],
     "language": "python",
     "metadata": {},
     "outputs": [
      {
       "output_type": "stream",
       "stream": "stderr",
       "text": [
        "\r",
        "  0%|          | 0/11612 [00:00<?, ?it/s]"
       ]
      },
      {
       "output_type": "stream",
       "stream": "stderr",
       "text": [
        "\r",
        " 20%|\u2588\u2589        | 2283/11612 [00:00<00:00, 22743.15it/s]"
       ]
      },
      {
       "output_type": "stream",
       "stream": "stderr",
       "text": [
        "\r",
        " 40%|\u2588\u2588\u2588\u2589      | 4594/11612 [00:00<00:00, 22851.44it/s]"
       ]
      },
      {
       "output_type": "stream",
       "stream": "stderr",
       "text": [
        "\r",
        " 59%|\u2588\u2588\u2588\u2588\u2588\u2589    | 6907/11612 [00:00<00:00, 22932.86it/s]"
       ]
      },
      {
       "output_type": "stream",
       "stream": "stderr",
       "text": [
        "\r",
        " 80%|\u2588\u2588\u2588\u2588\u2588\u2588\u2588\u2589  | 9257/11612 [00:00<00:00, 23098.41it/s]"
       ]
      },
      {
       "output_type": "stream",
       "stream": "stderr",
       "text": [
        "\r",
        "100%|\u2588\u2588\u2588\u2588\u2588\u2588\u2588\u2588\u2588\u2589| 11582/11612 [00:00<00:00, 23142.58it/s]"
       ]
      },
      {
       "output_type": "stream",
       "stream": "stderr",
       "text": [
        "\r",
        "100%|\u2588\u2588\u2588\u2588\u2588\u2588\u2588\u2588\u2588\u2588| 11612/11612 [00:00<00:00, 23099.54it/s]"
       ]
      },
      {
       "output_type": "stream",
       "stream": "stdout",
       "text": [
        "[-0.720317542552999956484427457326091825962066650390625\n",
        "  0.51613897085200000081073312685475684702396392822265625\n",
        "  0.463403970002999987531921988193062134087085723876953125]\n"
       ]
      },
      {
       "output_type": "stream",
       "stream": "stderr",
       "text": [
        "\n"
       ]
      }
     ],
     "prompt_number": 30
    },
    {
     "cell_type": "code",
     "collapsed": false,
     "input": [],
     "language": "python",
     "metadata": {},
     "outputs": [],
     "prompt_number": 30
    },
    {
     "cell_type": "code",
     "collapsed": false,
     "input": [
      "for i in tqdm(xrange(len(vectors_array))):\n",
      "    point_transform = L_inv*np.matrix(vectors_array[i]).T\n",
      "    vectors_array[i][0] = point_transform[0]\n",
      "    vectors_array[i][1] = point_transform[1]\n",
      "    vectors_array[i][2] = point_transform[2]"
     ],
     "language": "python",
     "metadata": {},
     "outputs": [
      {
       "output_type": "stream",
       "stream": "stderr",
       "text": [
        "\r",
        "  0%|          | 0/11612 [00:00<?, ?it/s]"
       ]
      },
      {
       "output_type": "stream",
       "stream": "stderr",
       "text": [
        "\r",
        "  7%|\u258b         | 815/11612 [00:00<00:01, 8149.58it/s]"
       ]
      },
      {
       "output_type": "stream",
       "stream": "stderr",
       "text": [
        "\r",
        " 14%|\u2588\u258d        | 1630/11612 [00:00<00:01, 8148.83it/s]"
       ]
      },
      {
       "output_type": "stream",
       "stream": "stderr",
       "text": [
        "\r",
        " 21%|\u2588\u2588        | 2465/11612 [00:00<00:01, 8206.37it/s]"
       ]
      },
      {
       "output_type": "stream",
       "stream": "stderr",
       "text": [
        "\r",
        " 28%|\u2588\u2588\u258a       | 3282/11612 [00:00<00:01, 8194.04it/s]"
       ]
      },
      {
       "output_type": "stream",
       "stream": "stderr",
       "text": [
        "\r",
        " 35%|\u2588\u2588\u2588\u258c      | 4101/11612 [00:00<00:00, 8190.32it/s]"
       ]
      },
      {
       "output_type": "stream",
       "stream": "stderr",
       "text": [
        "\r",
        " 42%|\u2588\u2588\u2588\u2588\u258f     | 4909/11612 [00:00<00:00, 8150.24it/s]"
       ]
      },
      {
       "output_type": "stream",
       "stream": "stderr",
       "text": [
        "\r",
        " 49%|\u2588\u2588\u2588\u2588\u258a     | 5655/11612 [00:00<00:00, 7929.82it/s]"
       ]
      },
      {
       "output_type": "stream",
       "stream": "stderr",
       "text": [
        "\r",
        " 56%|\u2588\u2588\u2588\u2588\u2588\u258c    | 6523/11612 [00:00<00:00, 8138.27it/s]"
       ]
      },
      {
       "output_type": "stream",
       "stream": "stderr",
       "text": [
        "\r",
        " 64%|\u2588\u2588\u2588\u2588\u2588\u2588\u258e   | 7393/11612 [00:00<00:00, 8296.55it/s]"
       ]
      },
      {
       "output_type": "stream",
       "stream": "stderr",
       "text": [
        "\r",
        " 71%|\u2588\u2588\u2588\u2588\u2588\u2588\u2588   | 8253/11612 [00:01<00:00, 8383.75it/s]"
       ]
      },
      {
       "output_type": "stream",
       "stream": "stderr",
       "text": [
        "\r",
        " 79%|\u2588\u2588\u2588\u2588\u2588\u2588\u2588\u258a  | 9119/11612 [00:01<00:00, 8462.61it/s]"
       ]
      },
      {
       "output_type": "stream",
       "stream": "stderr",
       "text": [
        "\r",
        " 86%|\u2588\u2588\u2588\u2588\u2588\u2588\u2588\u2588\u258c | 9974/11612 [00:01<00:00, 8487.73it/s]"
       ]
      },
      {
       "output_type": "stream",
       "stream": "stderr",
       "text": [
        "\r",
        " 93%|\u2588\u2588\u2588\u2588\u2588\u2588\u2588\u2588\u2588\u258e| 10834/11612 [00:01<00:00, 8520.27it/s]"
       ]
      },
      {
       "output_type": "stream",
       "stream": "stderr",
       "text": [
        "\r",
        "100%|\u2588\u2588\u2588\u2588\u2588\u2588\u2588\u2588\u2588\u2588| 11612/11612 [00:01<00:00, 8342.38it/s]"
       ]
      },
      {
       "output_type": "stream",
       "stream": "stderr",
       "text": [
        "\n"
       ]
      }
     ],
     "prompt_number": 31
    },
    {
     "cell_type": "code",
     "collapsed": false,
     "input": [],
     "language": "python",
     "metadata": {},
     "outputs": [],
     "prompt_number": 31
    },
    {
     "cell_type": "code",
     "collapsed": false,
     "input": [
      "print L_inv*np.matrix(coord_points_data2[0]-coord_points_data2[POINT_O]).T\n",
      "\n",
      "print coord_points_data2[POINT_O]\n",
      "print coord_points_data2[-1]"
     ],
     "language": "python",
     "metadata": {},
     "outputs": [
      {
       "output_type": "stream",
       "stream": "stdout",
       "text": [
        "[[ 0.09617862009351141328039602740318514406681060791015625]\n",
        " [-2.044298376065146971569674860802479088306427001953125  ]\n",
        " [ 0.                                                     ]]\n",
        "[ 4.13563656252728772955151725909672677516937255859375\n",
        "  2.834470000000000045048409447190351784229278564453125\n",
        "  1.028636811441618892359883830067701637744903564453125]\n",
        "[ 4.04382200581471717981685287668369710445404052734375\n",
        "  2.834470000000000045048409447190351784229278564453125\n",
        "  1.04451127498114093583581052371300756931304931640625 ]\n"
       ]
      }
     ],
     "prompt_number": 32
    },
    {
     "cell_type": "code",
     "collapsed": false,
     "input": [
      "result = np.zeros_like(coord_points_data2)\n",
      "\n",
      "for i in tqdm(xrange(len(coord_points_data2))):\n",
      "    point_transform = L_inv*np.matrix(coord_points_data2[i]-coord_points_data2[POINT_O]).T\n",
      "    result[i,:] = point_transform[:].T"
     ],
     "language": "python",
     "metadata": {},
     "outputs": [
      {
       "output_type": "stream",
       "stream": "stderr",
       "text": [
        "\r",
        "  0%|          | 0/11612 [00:00<?, ?it/s]"
       ]
      },
      {
       "output_type": "stream",
       "stream": "stderr",
       "text": [
        "\r",
        " 13%|\u2588\u258e        | 1519/11612 [00:00<00:00, 15184.84it/s]"
       ]
      },
      {
       "output_type": "stream",
       "stream": "stderr",
       "text": [
        "\r",
        " 26%|\u2588\u2588\u258c       | 3022/11612 [00:00<00:00, 15136.68it/s]"
       ]
      },
      {
       "output_type": "stream",
       "stream": "stderr",
       "text": [
        "\r",
        " 39%|\u2588\u2588\u2588\u2589      | 4583/11612 [00:00<00:00, 15273.09it/s]"
       ]
      },
      {
       "output_type": "stream",
       "stream": "stderr",
       "text": [
        "\r",
        " 53%|\u2588\u2588\u2588\u2588\u2588\u258e    | 6156/11612 [00:00<00:00, 15405.13it/s]"
       ]
      },
      {
       "output_type": "stream",
       "stream": "stderr",
       "text": [
        "\r",
        " 67%|\u2588\u2588\u2588\u2588\u2588\u2588\u258b   | 7737/11612 [00:00<00:00, 15524.20it/s]"
       ]
      },
      {
       "output_type": "stream",
       "stream": "stderr",
       "text": [
        "\r",
        " 80%|\u2588\u2588\u2588\u2588\u2588\u2588\u2588\u2588  | 9325/11612 [00:00<00:00, 15626.45it/s]"
       ]
      },
      {
       "output_type": "stream",
       "stream": "stderr",
       "text": [
        "\r",
        " 94%|\u2588\u2588\u2588\u2588\u2588\u2588\u2588\u2588\u2588\u258d| 10915/11612 [00:00<00:00, 15707.28it/s]"
       ]
      },
      {
       "output_type": "stream",
       "stream": "stderr",
       "text": [
        "\r",
        "100%|\u2588\u2588\u2588\u2588\u2588\u2588\u2588\u2588\u2588\u2588| 11612/11612 [00:00<00:00, 15573.18it/s]"
       ]
      },
      {
       "output_type": "stream",
       "stream": "stderr",
       "text": [
        "\n"
       ]
      }
     ],
     "prompt_number": 33
    },
    {
     "cell_type": "code",
     "collapsed": false,
     "input": [
      "result[10]"
     ],
     "language": "python",
     "metadata": {},
     "outputs": [
      {
       "metadata": {},
       "output_type": "pyout",
       "prompt_number": 34,
       "text": [
        "array([-0.022523664070176696583303055376745760440826416015625,\n",
        "       -1.722076344288214766464761851239018142223358154296875,  0.                                                   ])"
       ]
      }
     ],
     "prompt_number": 34
    },
    {
     "cell_type": "code",
     "collapsed": false,
     "input": [
      "coord_points_data2[10]-coord_points_data2[POINT_O]"
     ],
     "language": "python",
     "metadata": {},
     "outputs": [
      {
       "metadata": {},
       "output_type": "pyout",
       "prompt_number": 35,
       "text": [
        "array([-1.515345915027497714078208446153439581394195556640625 ,\n",
        "        0.                                                    ,\n",
        "        0.8184014960944800964881551408325321972370147705078125])"
       ]
      }
     ],
     "prompt_number": 35
    },
    {
     "cell_type": "code",
     "collapsed": false,
     "input": [
      "points = numpy_to_vtk(result, deep=True, array_type=vtk.VTK_FLOAT)\n",
      "vtkpoints = vtkPoints()\n",
      "for i in tqdm(xrange(len(coord_points_data2))):\n",
      "    vtkpoints.InsertPoint(i, result[i, 0], result[i, 1], result[i, 2])\n",
      "ug2.SetPoints(vtkpoints)"
     ],
     "language": "python",
     "metadata": {},
     "outputs": [
      {
       "output_type": "stream",
       "stream": "stderr",
       "text": [
        "\r",
        "  0%|          | 0/11612 [00:00<?, ?it/s]"
       ]
      },
      {
       "output_type": "stream",
       "stream": "stderr",
       "text": [
        "\r",
        "100%|\u2588\u2588\u2588\u2588\u2588\u2588\u2588\u2588\u2588\u2588| 11612/11612 [00:00<00:00, 214113.83it/s]"
       ]
      },
      {
       "output_type": "stream",
       "stream": "stderr",
       "text": [
        "\n"
       ]
      }
     ],
     "prompt_number": 36
    },
    {
     "cell_type": "code",
     "collapsed": false,
     "input": [],
     "language": "python",
     "metadata": {},
     "outputs": [],
     "prompt_number": 36
    },
    {
     "cell_type": "code",
     "collapsed": false,
     "input": [],
     "language": "python",
     "metadata": {},
     "outputs": [],
     "prompt_number": 36
    },
    {
     "cell_type": "code",
     "collapsed": false,
     "input": [
      "vectors = numpy_to_vtk(vectors_array, deep=True, array_type=vtk.VTK_FLOAT)\n",
      "vectors.SetName('Fibers')\n",
      "ug2.GetPointData().AddArray(vectors)\n",
      "writer = vtk.vtkXMLUnstructuredGridWriter() # vtu\n",
      "\n",
      "writer.SetFileName(\"slice_mesh_with_fibers2.vtu\")\n",
      "writer.SetInputData(ug2)\n",
      "writer.Write()"
     ],
     "language": "python",
     "metadata": {},
     "outputs": [
      {
       "metadata": {},
       "output_type": "pyout",
       "prompt_number": 37,
       "text": [
        "1"
       ]
      }
     ],
     "prompt_number": 37
    },
    {
     "cell_type": "code",
     "collapsed": false,
     "input": [],
     "language": "python",
     "metadata": {},
     "outputs": [],
     "prompt_number": 0
    },
    {
     "cell_type": "code",
     "collapsed": false,
     "input": [],
     "language": "python",
     "metadata": {},
     "outputs": [],
     "prompt_number": 62
    },
    {
     "cell_type": "code",
     "collapsed": false,
     "input": [],
     "language": "python",
     "metadata": {},
     "outputs": [],
     "prompt_number": 62
    },
    {
     "cell_type": "code",
     "collapsed": false,
     "input": [],
     "language": "python",
     "metadata": {},
     "outputs": []
    }
   ],
   "metadata": {}
  }
 ]
}