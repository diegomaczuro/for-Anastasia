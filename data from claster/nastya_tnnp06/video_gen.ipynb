{
 "metadata": {
  "kernelspec": {
   "display_name": "Python 2",
   "language": "python",
   "name": "python2"
  },
  "language_info": {
   "codemirror_mode": {
    "name": "ipython",
    "version": 2
   },
   "file_extension": ".py",
   "mimetype": "text/x-python",
   "name": "python",
   "nbconvert_exporter": "python",
   "pygments_lexer": "ipython2",
   "version": "2.7.12"
  },
  "name": "",
  "signature": "sha256:e869c4627a533a1a1943d5a3e3d8de8520e5122a74eddadf39ef69322d0b5a38"
 },
 "nbformat": 3,
 "nbformat_minor": 0,
 "worksheets": [
  {
   "cells": [
    {
     "cell_type": "code",
     "collapsed": true,
     "input": [
      "import numpy as np\n",
      "import pandas as pd\n",
      "from vtk import *\n",
      "from vtk.util import numpy_support\n",
      "import imp\n",
      "import h5py\n",
      "\n",
      "from sklearn.neighbors import KDTree\n",
      "import os"
     ],
     "language": "python",
     "metadata": {},
     "outputs": [],
     "prompt_number": 1
    },
    {
     "cell_type": "code",
     "collapsed": true,
     "input": [
      "from tqdm import tqdm"
     ],
     "language": "python",
     "metadata": {},
     "outputs": [],
     "prompt_number": 2
    },
    {
     "cell_type": "code",
     "collapsed": true,
     "input": [
      "import matplotlib.pylab as plt\n",
      "%matplotlib inline"
     ],
     "language": "python",
     "metadata": {},
     "outputs": [],
     "prompt_number": 3
    },
    {
     "cell_type": "code",
     "collapsed": false,
     "input": [
      "FILE_CONFIG = 'config.py'\n",
      "FILE_MESH = 'init_mesh_1.vtu'\n",
      "FILE_H5 = 'results.h5'\n",
      "FOLDER_IN = '/home/shido/Documents/shido/for Anastasia/data from claster/nastya_tnnp06/'\n",
      "FOLDER_OUT = 'video'\n",
      "TEMPLATE_OUT = 'torso_{0}.vtu'\n",
      "\n",
      "if not os.path.exists(os.path.join(FOLDER_IN, FOLDER_OUT)):\n",
      "    os.makedirs(os.path.join(FOLDER_IN, FOLDER_OUT))"
     ],
     "language": "python",
     "metadata": {},
     "outputs": [],
     "prompt_number": 4
    },
    {
     "cell_type": "code",
     "collapsed": false,
     "input": [
      "reader = vtkXMLUnstructuredGridReader()\n",
      "reader.SetFileName(os.path.join(FOLDER_IN, FILE_MESH))\n",
      "reader.Update()\n",
      "data_torso = reader.GetOutput()\n",
      "print data_torso"
     ],
     "language": "python",
     "metadata": {},
     "outputs": [
      {
       "output_type": "stream",
       "stream": "stdout",
       "text": [
        "vtkUnstructuredGrid (0x405d860)\n",
        "  Debug: Off\n",
        "  Modified Time: 247\n",
        "  Reference Count: 2\n",
        "  Registered Events: (none)\n",
        "  Information: 0x42bf8f0\n",
        "  Data Released: False\n",
        "  Global Release Data: Off\n",
        "  UpdateTime: 280\n",
        "  Field Data:\n",
        "    Debug: Off\n",
        "    Modified Time: 224\n",
        "    Reference Count: 1\n",
        "    Registered Events: (none)\n",
        "    Number Of Arrays: 0\n",
        "    Number Of Components: 0\n",
        "    Number Of Tuples: 0\n",
        "  Number Of Points: 1718676\n",
        "  Number Of Cells: 9323944\n",
        "  Cell Data:\n",
        "    Debug: Off\n",
        "    Modified Time: 232\n",
        "    Reference Count: 1\n",
        "    Registered Events: (none)\n",
        "    Number Of Arrays: 0\n",
        "    Number Of Components: 0\n",
        "    Number Of Tuples: 0\n",
        "    Copy Tuple Flags: ( 1 1 1 1 1 0 1 1 )\n",
        "    Interpolate Flags: ( 1 1 1 1 1 0 0 1 )\n",
        "    Pass Through Flags: ( 1 1 1 1 1 1 1 1 )\n",
        "    Scalars: (none)\n",
        "    Vectors: (none)\n",
        "    Normals: (none)\n",
        "    TCoords: (none)\n",
        "    Tensors: (none)\n",
        "    GlobalIds: (none)\n",
        "    PedigreeIds: (none)\n",
        "    EdgeFlag: (none)\n",
        "  Point Data:\n",
        "    Debug: Off\n",
        "    Modified Time: 234\n",
        "    Reference Count: 1\n",
        "    Registered Events: (none)\n",
        "    Number Of Arrays: 0\n",
        "    Number Of Components: 0\n",
        "    Number Of Tuples: 0\n",
        "    Copy Tuple Flags: ( 1 1 1 1 1 0 1 1 )\n",
        "    Interpolate Flags: ( 1 1 1 1 1 0 0 1 )\n",
        "    Pass Through Flags: ( 1 1 1 1 1 1 1 1 )\n",
        "    Scalars: (none)\n",
        "    Vectors: (none)\n",
        "    Normals: (none)\n",
        "    TCoords: (none)\n",
        "    Tensors: (none)\n",
        "    GlobalIds: (none)\n",
        "    PedigreeIds: (none)\n",
        "    EdgeFlag: (none)\n",
        "  Bounds: \n",
        "    Xmin,Xmax: (1.60198, 6.39419)\n",
        "    Ymin,Ymax: (1.02479, 5.29014)\n",
        "    Zmin,Zmax: (0.991728, 7.20299)\n",
        "  Compute Time: 292\n",
        "  Number Of Points: 1718676\n",
        "  Point Coordinates: 0x42948d0\n",
        "  Locator: 0\n",
        "  Number Of Pieces: 1\n",
        "  Piece: 0\n",
        "  Ghost Level: 0\n",
        "\n",
        "\n"
       ]
      }
     ],
     "prompt_number": 5
    },
    {
     "cell_type": "code",
     "collapsed": false,
     "input": [
      "fl = h5py.File(os.path.join(FOLDER_IN, FILE_H5),'r')\n",
      "time = len(fl['Data'])\n",
      "fl['Data']"
     ],
     "language": "python",
     "metadata": {},
     "outputs": [
      {
       "metadata": {},
       "output_type": "pyout",
       "prompt_number": 6,
       "text": [
        "<HDF5 dataset \"Data\": shape (501, 1718676, 1), type \"<f8\">"
       ]
      }
     ],
     "prompt_number": 6
    },
    {
     "cell_type": "code",
     "collapsed": false,
     "input": [
      "for i in tqdm(xrange(time)):\n",
      "    data_V = numpy_support.numpy_to_vtk(num_array=fl['Data'][i,:,0], deep=True, array_type=vtk.VTK_FLOAT)\n",
      "    data_V.SetName('V')\n",
      "    data_torso.GetPointData().AddArray(data_V)\n",
      "    \n",
      "    #data_phi_e = numpy_support.numpy_to_vtk(num_array=fl['Data'][i,:,1], deep=True, array_type=vtk.VTK_FLOAT)\n",
      "    #data_phi_e.SetName('phi_e')\n",
      "    #data_torso.GetPointData().AddArray(data_phi_e)\n",
      "\n",
      "    writer = vtkXMLUnstructuredGridWriter()\n",
      "    writer.SetFileName(os.path.join(FOLDER_IN,FOLDER_OUT,TEMPLATE_OUT.format(i)))\n",
      "    writer.SetInputData(data_torso)\n",
      "\n",
      "    writer.Write()"
     ],
     "language": "python",
     "metadata": {},
     "outputs": [
      {
       "output_type": "stream",
       "stream": "stderr",
       "text": [
        "\r",
        "  0%|          | 0/501 [00:00<?, ?it/s]"
       ]
      },
      {
       "output_type": "stream",
       "stream": "stderr",
       "text": [
        "\r",
        "  0%|          | 1/501 [00:52<7:17:27, 52.50s/it]"
       ]
      },
      {
       "output_type": "stream",
       "stream": "stderr",
       "text": [
        "\r",
        "  0%|          | 2/501 [01:33<6:47:39, 49.02s/it]"
       ]
      },
      {
       "output_type": "stream",
       "stream": "stderr",
       "text": [
        "\r",
        "  1%|          | 3/501 [02:08<6:11:33, 44.77s/it]"
       ]
      },
      {
       "output_type": "stream",
       "stream": "stderr",
       "text": [
        "\r",
        "  1%|          | 4/501 [02:43<5:46:08, 41.79s/it]"
       ]
      },
      {
       "output_type": "stream",
       "stream": "stderr",
       "text": [
        "\r",
        "  1%|          | 5/501 [03:17<5:26:41, 39.52s/it]"
       ]
      },
      {
       "output_type": "stream",
       "stream": "stderr",
       "text": [
        "\r",
        "  1%|          | 6/501 [03:52<5:14:58, 38.18s/it]"
       ]
      },
      {
       "output_type": "stream",
       "stream": "stderr",
       "text": [
        "\r",
        "  1%|\u258f         | 7/501 [04:28<5:08:22, 37.46s/it]"
       ]
      },
      {
       "output_type": "stream",
       "stream": "stderr",
       "text": [
        "\r",
        "  2%|\u258f         | 8/501 [05:18<5:40:14, 41.41s/it]"
       ]
      },
      {
       "output_type": "stream",
       "stream": "stderr",
       "text": [
        "\r",
        "  2%|\u258f         | 9/501 [07:05<8:19:24, 60.90s/it]"
       ]
      },
      {
       "output_type": "stream",
       "stream": "stderr",
       "text": [
        "\r",
        "  2%|\u258f         | 10/501 [08:14<8:38:16, 63.33s/it]"
       ]
      },
      {
       "output_type": "stream",
       "stream": "stderr",
       "text": [
        "\r",
        "  2%|\u258f         | 11/501 [08:56<7:45:31, 57.00s/it]"
       ]
      },
      {
       "output_type": "stream",
       "stream": "stderr",
       "text": [
        "\r",
        "  2%|\u258f         | 12/501 [09:30<6:49:15, 50.22s/it]"
       ]
      },
      {
       "output_type": "stream",
       "stream": "stderr",
       "text": [
        "\r",
        "  3%|\u258e         | 13/501 [10:05<6:10:35, 45.57s/it]"
       ]
      },
      {
       "output_type": "stream",
       "stream": "stderr",
       "text": [
        "\r",
        "  3%|\u258e         | 14/501 [11:01<6:34:13, 48.57s/it]"
       ]
      },
      {
       "output_type": "stream",
       "stream": "stderr",
       "text": [
        "\r",
        "  3%|\u258e         | 15/501 [11:58<6:55:22, 51.28s/it]"
       ]
      },
      {
       "output_type": "stream",
       "stream": "stderr",
       "text": [
        "\r",
        "  3%|\u258e         | 16/501 [12:33<6:15:24, 46.44s/it]"
       ]
      },
      {
       "output_type": "stream",
       "stream": "stderr",
       "text": [
        "\r",
        "  3%|\u258e         | 17/501 [13:08<5:46:08, 42.91s/it]"
       ]
      },
      {
       "output_type": "stream",
       "stream": "stderr",
       "text": [
        "\r",
        "  4%|\u258e         | 18/501 [13:43<5:25:09, 40.39s/it]"
       ]
      },
      {
       "output_type": "stream",
       "stream": "stderr",
       "text": [
        "\r",
        "  4%|\u258d         | 19/501 [14:17<5:09:18, 38.50s/it]"
       ]
      },
      {
       "output_type": "stream",
       "stream": "stderr",
       "text": [
        "\r",
        "  4%|\u258d         | 20/501 [14:51<4:59:39, 37.38s/it]"
       ]
      },
      {
       "output_type": "stream",
       "stream": "stderr",
       "text": [
        "\r",
        "  4%|\u258d         | 21/501 [15:25<4:49:06, 36.14s/it]"
       ]
      },
      {
       "output_type": "stream",
       "stream": "stderr",
       "text": [
        "\r",
        "  4%|\u258d         | 22/501 [15:58<4:41:51, 35.31s/it]"
       ]
      },
      {
       "output_type": "stream",
       "stream": "stderr",
       "text": [
        "\r",
        "  5%|\u258d         | 23/501 [16:33<4:39:38, 35.10s/it]"
       ]
      },
      {
       "output_type": "stream",
       "stream": "stderr",
       "text": [
        "\r",
        "  5%|\u258d         | 24/501 [17:17<5:00:17, 37.77s/it]"
       ]
      },
      {
       "output_type": "stream",
       "stream": "stderr",
       "text": [
        "\r",
        "  5%|\u258d         | 25/501 [18:05<5:24:16, 40.87s/it]"
       ]
      },
      {
       "output_type": "stream",
       "stream": "stderr",
       "text": [
        "\r",
        "  5%|\u258c         | 26/501 [18:53<5:40:51, 43.06s/it]"
       ]
      },
      {
       "output_type": "stream",
       "stream": "stderr",
       "text": [
        "\r",
        "  5%|\u258c         | 27/501 [19:41<5:52:24, 44.61s/it]"
       ]
      },
      {
       "output_type": "stream",
       "stream": "stderr",
       "text": [
        "\r",
        "  6%|\u258c         | 28/501 [20:22<5:42:02, 43.39s/it]"
       ]
      },
      {
       "output_type": "stream",
       "stream": "stderr",
       "text": [
        "\r",
        "  6%|\u258c         | 29/501 [21:07<5:44:58, 43.85s/it]"
       ]
      },
      {
       "output_type": "stream",
       "stream": "stderr",
       "text": [
        "\r",
        "  6%|\u258c         | 30/501 [21:53<5:49:10, 44.48s/it]"
       ]
      },
      {
       "output_type": "stream",
       "stream": "stderr",
       "text": [
        "\r",
        "  6%|\u258c         | 31/501 [22:29<5:29:44, 42.09s/it]"
       ]
      },
      {
       "output_type": "stream",
       "stream": "stderr",
       "text": [
        "\r",
        "  6%|\u258b         | 32/501 [23:02<5:08:21, 39.45s/it]"
       ]
      },
      {
       "output_type": "stream",
       "stream": "stderr",
       "text": [
        "\r",
        "  7%|\u258b         | 33/501 [23:36<4:54:14, 37.72s/it]"
       ]
      },
      {
       "output_type": "stream",
       "stream": "stderr",
       "text": [
        "\r",
        "  7%|\u258b         | 34/501 [24:09<4:43:27, 36.42s/it]"
       ]
      },
      {
       "output_type": "stream",
       "stream": "stderr",
       "text": [
        "\r",
        "  7%|\u258b         | 35/501 [24:43<4:36:55, 35.66s/it]"
       ]
      },
      {
       "output_type": "stream",
       "stream": "stderr",
       "text": [
        "\r",
        "  7%|\u258b         | 36/501 [25:17<4:32:07, 35.11s/it]"
       ]
      },
      {
       "output_type": "stream",
       "stream": "stderr",
       "text": [
        "\r",
        "  7%|\u258b         | 37/501 [25:51<4:28:13, 34.68s/it]"
       ]
      },
      {
       "output_type": "stream",
       "stream": "stderr",
       "text": [
        "\r",
        "  8%|\u258a         | 38/501 [26:25<4:26:15, 34.50s/it]"
       ]
      },
      {
       "output_type": "stream",
       "stream": "stderr",
       "text": [
        "\r",
        "  8%|\u258a         | 39/501 [26:59<4:24:08, 34.30s/it]"
       ]
      },
      {
       "output_type": "stream",
       "stream": "stderr",
       "text": [
        "\r",
        "  8%|\u258a         | 40/501 [27:32<4:22:12, 34.13s/it]"
       ]
      },
      {
       "output_type": "stream",
       "stream": "stderr",
       "text": [
        "\r",
        "  8%|\u258a         | 41/501 [28:07<4:22:38, 34.26s/it]"
       ]
      },
      {
       "output_type": "stream",
       "stream": "stderr",
       "text": [
        "\r",
        "  8%|\u258a         | 42/501 [28:40<4:20:17, 34.03s/it]"
       ]
      },
      {
       "output_type": "stream",
       "stream": "stderr",
       "text": [
        "\r",
        "  9%|\u258a         | 43/501 [29:14<4:19:20, 33.98s/it]"
       ]
      },
      {
       "output_type": "stream",
       "stream": "stderr",
       "text": [
        "\r",
        "  9%|\u2589         | 44/501 [29:49<4:19:40, 34.09s/it]"
       ]
      },
      {
       "output_type": "stream",
       "stream": "stderr",
       "text": [
        "\r",
        "  9%|\u2589         | 45/501 [30:23<4:20:27, 34.27s/it]"
       ]
      },
      {
       "output_type": "stream",
       "stream": "stderr",
       "text": [
        "\r",
        "  9%|\u2589         | 46/501 [30:58<4:19:44, 34.25s/it]"
       ]
      },
      {
       "output_type": "stream",
       "stream": "stderr",
       "text": [
        "\r",
        "  9%|\u2589         | 47/501 [31:32<4:19:36, 34.31s/it]"
       ]
      },
      {
       "output_type": "stream",
       "stream": "stderr",
       "text": [
        "\r",
        " 10%|\u2589         | 48/501 [32:06<4:18:34, 34.25s/it]"
       ]
      },
      {
       "output_type": "stream",
       "stream": "stderr",
       "text": [
        "\r",
        " 10%|\u2589         | 49/501 [32:40<4:17:44, 34.21s/it]"
       ]
      },
      {
       "output_type": "stream",
       "stream": "stderr",
       "text": [
        "\r",
        " 10%|\u2589         | 50/501 [33:14<4:16:48, 34.16s/it]"
       ]
      },
      {
       "output_type": "stream",
       "stream": "stderr",
       "text": [
        "\r",
        " 10%|\u2588         | 51/501 [33:49<4:17:53, 34.39s/it]"
       ]
      },
      {
       "output_type": "stream",
       "stream": "stderr",
       "text": [
        "\r",
        " 10%|\u2588         | 52/501 [34:24<4:17:56, 34.47s/it]"
       ]
      },
      {
       "output_type": "stream",
       "stream": "stderr",
       "text": [
        "\r",
        " 11%|\u2588         | 53/501 [34:58<4:16:16, 34.32s/it]"
       ]
      },
      {
       "output_type": "stream",
       "stream": "stderr",
       "text": [
        "\r",
        " 11%|\u2588         | 54/501 [35:32<4:15:59, 34.36s/it]"
       ]
      },
      {
       "output_type": "stream",
       "stream": "stderr",
       "text": [
        "\r",
        " 11%|\u2588         | 55/501 [36:07<4:15:09, 34.33s/it]"
       ]
      },
      {
       "output_type": "stream",
       "stream": "stderr",
       "text": [
        "\r",
        " 11%|\u2588         | 56/501 [36:41<4:15:22, 34.43s/it]"
       ]
      },
      {
       "output_type": "stream",
       "stream": "stderr",
       "text": [
        "\r",
        " 11%|\u2588\u258f        | 57/501 [37:16<4:16:04, 34.61s/it]"
       ]
      },
      {
       "output_type": "stream",
       "stream": "stderr",
       "text": [
        "\r",
        " 12%|\u2588\u258f        | 58/501 [37:53<4:19:50, 35.19s/it]"
       ]
      },
      {
       "output_type": "stream",
       "stream": "stderr",
       "text": [
        "\r",
        " 12%|\u2588\u258f        | 59/501 [38:27<4:18:00, 35.02s/it]"
       ]
      },
      {
       "output_type": "stream",
       "stream": "stderr",
       "text": [
        "\r",
        " 12%|\u2588\u258f        | 60/501 [39:02<4:16:22, 34.88s/it]"
       ]
      },
      {
       "output_type": "stream",
       "stream": "stderr",
       "text": [
        "\r",
        " 12%|\u2588\u258f        | 61/501 [39:36<4:14:07, 34.65s/it]"
       ]
      },
      {
       "output_type": "stream",
       "stream": "stderr",
       "text": [
        "\r",
        " 12%|\u2588\u258f        | 62/501 [40:10<4:12:03, 34.45s/it]"
       ]
      },
      {
       "output_type": "stream",
       "stream": "stderr",
       "text": [
        "\r",
        " 13%|\u2588\u258e        | 63/501 [40:45<4:11:37, 34.47s/it]"
       ]
      },
      {
       "output_type": "stream",
       "stream": "stderr",
       "text": [
        "\r",
        " 13%|\u2588\u258e        | 64/501 [41:19<4:10:55, 34.45s/it]"
       ]
      },
      {
       "output_type": "stream",
       "stream": "stderr",
       "text": [
        "\r",
        " 13%|\u2588\u258e        | 65/501 [41:54<4:10:44, 34.50s/it]"
       ]
      },
      {
       "output_type": "stream",
       "stream": "stderr",
       "text": [
        "\r",
        " 13%|\u2588\u258e        | 66/501 [42:30<4:13:45, 35.00s/it]"
       ]
      },
      {
       "output_type": "stream",
       "stream": "stderr",
       "text": [
        "\r",
        " 13%|\u2588\u258e        | 67/501 [43:04<4:11:37, 34.79s/it]"
       ]
      },
      {
       "output_type": "stream",
       "stream": "stderr",
       "text": [
        "\r",
        " 14%|\u2588\u258e        | 68/501 [43:39<4:10:27, 34.71s/it]"
       ]
      },
      {
       "output_type": "stream",
       "stream": "stderr",
       "text": [
        "\r",
        " 14%|\u2588\u258d        | 69/501 [44:13<4:09:08, 34.60s/it]"
       ]
      },
      {
       "output_type": "stream",
       "stream": "stderr",
       "text": [
        "\r",
        " 14%|\u2588\u258d        | 70/501 [44:47<4:08:00, 34.52s/it]"
       ]
      },
      {
       "output_type": "stream",
       "stream": "stderr",
       "text": [
        "\r",
        " 14%|\u2588\u258d        | 71/501 [45:22<4:08:25, 34.66s/it]"
       ]
      },
      {
       "output_type": "stream",
       "stream": "stderr",
       "text": [
        "\r",
        " 14%|\u2588\u258d        | 72/501 [45:57<4:08:20, 34.73s/it]"
       ]
      },
      {
       "output_type": "stream",
       "stream": "stderr",
       "text": [
        "\r",
        " 15%|\u2588\u258d        | 73/501 [46:31<4:06:06, 34.50s/it]"
       ]
      },
      {
       "output_type": "stream",
       "stream": "stderr",
       "text": [
        "\r",
        " 15%|\u2588\u258d        | 74/501 [47:06<4:06:36, 34.65s/it]"
       ]
      },
      {
       "output_type": "stream",
       "stream": "stderr",
       "text": [
        "\r",
        " 15%|\u2588\u258d        | 75/501 [47:41<4:06:42, 34.75s/it]"
       ]
      },
      {
       "output_type": "stream",
       "stream": "stderr",
       "text": [
        "\r",
        " 15%|\u2588\u258c        | 76/501 [48:16<4:06:03, 34.74s/it]"
       ]
      },
      {
       "output_type": "stream",
       "stream": "stderr",
       "text": [
        "\r",
        " 15%|\u2588\u258c        | 77/501 [48:51<4:06:04, 34.82s/it]"
       ]
      },
      {
       "output_type": "stream",
       "stream": "stderr",
       "text": [
        "\r",
        " 16%|\u2588\u258c        | 78/501 [49:26<4:05:34, 34.83s/it]"
       ]
      },
      {
       "output_type": "stream",
       "stream": "stderr",
       "text": [
        "\r",
        " 16%|\u2588\u258c        | 79/501 [50:01<4:06:14, 35.01s/it]"
       ]
      },
      {
       "output_type": "stream",
       "stream": "stderr",
       "text": [
        "\r",
        " 16%|\u2588\u258c        | 80/501 [50:37<4:06:40, 35.16s/it]"
       ]
      },
      {
       "output_type": "stream",
       "stream": "stderr",
       "text": [
        "\r",
        " 16%|\u2588\u258c        | 81/501 [51:12<4:05:30, 35.07s/it]"
       ]
      },
      {
       "output_type": "stream",
       "stream": "stderr",
       "text": [
        "\r",
        " 16%|\u2588\u258b        | 82/501 [51:47<4:04:43, 35.05s/it]"
       ]
      },
      {
       "output_type": "stream",
       "stream": "stderr",
       "text": [
        "\r",
        " 17%|\u2588\u258b        | 83/501 [52:21<4:03:53, 35.01s/it]"
       ]
      },
      {
       "output_type": "stream",
       "stream": "stderr",
       "text": [
        "\r",
        " 17%|\u2588\u258b        | 84/501 [52:56<4:02:22, 34.87s/it]"
       ]
      },
      {
       "output_type": "stream",
       "stream": "stderr",
       "text": [
        "\r",
        " 17%|\u2588\u258b        | 85/501 [53:30<4:00:58, 34.76s/it]"
       ]
      },
      {
       "output_type": "stream",
       "stream": "stderr",
       "text": [
        "\r",
        " 17%|\u2588\u258b        | 86/501 [54:05<3:59:47, 34.67s/it]"
       ]
      },
      {
       "output_type": "stream",
       "stream": "stderr",
       "text": [
        "\r",
        " 17%|\u2588\u258b        | 87/501 [54:40<4:00:01, 34.79s/it]"
       ]
      },
      {
       "output_type": "stream",
       "stream": "stderr",
       "text": [
        "\r",
        " 18%|\u2588\u258a        | 88/501 [55:15<3:58:55, 34.71s/it]"
       ]
      },
      {
       "output_type": "stream",
       "stream": "stderr",
       "text": [
        "\r",
        " 18%|\u2588\u258a        | 89/501 [55:49<3:58:05, 34.67s/it]"
       ]
      },
      {
       "output_type": "stream",
       "stream": "stderr",
       "text": [
        "\r",
        " 18%|\u2588\u258a        | 90/501 [56:24<3:57:12, 34.63s/it]"
       ]
      },
      {
       "output_type": "stream",
       "stream": "stderr",
       "text": [
        "\r",
        " 18%|\u2588\u258a        | 91/501 [56:59<3:58:52, 34.96s/it]"
       ]
      },
      {
       "output_type": "stream",
       "stream": "stderr",
       "text": [
        "\r",
        " 18%|\u2588\u258a        | 92/501 [57:34<3:58:07, 34.93s/it]"
       ]
      },
      {
       "output_type": "stream",
       "stream": "stderr",
       "text": [
        "\r",
        " 19%|\u2588\u258a        | 93/501 [58:09<3:57:20, 34.90s/it]"
       ]
      },
      {
       "output_type": "stream",
       "stream": "stderr",
       "text": [
        "\r",
        " 19%|\u2588\u2589        | 94/501 [58:44<3:56:30, 34.87s/it]"
       ]
      },
      {
       "output_type": "stream",
       "stream": "stderr",
       "text": [
        "\r",
        " 19%|\u2588\u2589        | 95/501 [59:19<3:56:35, 34.96s/it]"
       ]
      },
      {
       "output_type": "stream",
       "stream": "stderr",
       "text": [
        "\r",
        " 19%|\u2588\u2589        | 96/501 [59:55<3:57:08, 35.13s/it]"
       ]
      },
      {
       "output_type": "stream",
       "stream": "stderr",
       "text": [
        "\r",
        " 19%|\u2588\u2589        | 97/501 [1:00:30<3:57:45, 35.31s/it]"
       ]
      },
      {
       "output_type": "stream",
       "stream": "stderr",
       "text": [
        "\r",
        " 20%|\u2588\u2589        | 98/501 [1:01:05<3:55:29, 35.06s/it]"
       ]
      },
      {
       "output_type": "stream",
       "stream": "stderr",
       "text": [
        "\r",
        " 20%|\u2588\u2589        | 99/501 [1:01:40<3:54:39, 35.02s/it]"
       ]
      },
      {
       "output_type": "stream",
       "stream": "stderr",
       "text": [
        "\r",
        " 20%|\u2588\u2589        | 100/501 [1:02:14<3:51:41, 34.67s/it]"
       ]
      },
      {
       "output_type": "stream",
       "stream": "stderr",
       "text": [
        "\r",
        " 20%|\u2588\u2588        | 101/501 [1:02:48<3:51:02, 34.66s/it]"
       ]
      },
      {
       "output_type": "stream",
       "stream": "stderr",
       "text": [
        "\r",
        " 20%|\u2588\u2588        | 102/501 [1:03:23<3:50:53, 34.72s/it]"
       ]
      },
      {
       "output_type": "stream",
       "stream": "stderr",
       "text": [
        "\r",
        " 21%|\u2588\u2588        | 103/501 [1:03:58<3:51:09, 34.85s/it]"
       ]
      },
      {
       "output_type": "stream",
       "stream": "stderr",
       "text": [
        "\r",
        " 21%|\u2588\u2588        | 104/501 [1:04:34<3:52:53, 35.20s/it]"
       ]
      },
      {
       "output_type": "stream",
       "stream": "stderr",
       "text": [
        "\r",
        " 21%|\u2588\u2588        | 105/501 [1:05:10<3:53:40, 35.40s/it]"
       ]
      },
      {
       "output_type": "stream",
       "stream": "stderr",
       "text": [
        "\r",
        " 21%|\u2588\u2588        | 106/501 [1:05:45<3:51:57, 35.23s/it]"
       ]
      },
      {
       "output_type": "stream",
       "stream": "stderr",
       "text": [
        "\r",
        " 21%|\u2588\u2588\u258f       | 107/501 [1:06:21<3:52:03, 35.34s/it]"
       ]
      },
      {
       "output_type": "stream",
       "stream": "stderr",
       "text": [
        "\r",
        " 22%|\u2588\u2588\u258f       | 108/501 [1:06:57<3:53:52, 35.71s/it]"
       ]
      },
      {
       "output_type": "stream",
       "stream": "stderr",
       "text": [
        "\r",
        " 22%|\u2588\u2588\u258f       | 109/501 [1:07:32<3:51:05, 35.37s/it]"
       ]
      },
      {
       "output_type": "stream",
       "stream": "stderr",
       "text": [
        "\r",
        " 22%|\u2588\u2588\u258f       | 110/501 [1:08:07<3:50:12, 35.33s/it]"
       ]
      },
      {
       "output_type": "stream",
       "stream": "stderr",
       "text": [
        "\r",
        " 22%|\u2588\u2588\u258f       | 111/501 [1:08:41<3:46:48, 34.89s/it]"
       ]
      },
      {
       "output_type": "stream",
       "stream": "stderr",
       "text": [
        "\r",
        " 22%|\u2588\u2588\u258f       | 112/501 [1:09:15<3:45:10, 34.73s/it]"
       ]
      },
      {
       "output_type": "stream",
       "stream": "stderr",
       "text": [
        "\r",
        " 23%|\u2588\u2588\u258e       | 113/501 [1:09:50<3:44:23, 34.70s/it]"
       ]
      },
      {
       "output_type": "stream",
       "stream": "stderr",
       "text": [
        "\r",
        " 23%|\u2588\u2588\u258e       | 114/501 [1:10:24<3:43:22, 34.63s/it]"
       ]
      },
      {
       "output_type": "stream",
       "stream": "stderr",
       "text": [
        "\r",
        " 23%|\u2588\u2588\u258e       | 115/501 [1:10:58<3:41:31, 34.43s/it]"
       ]
      },
      {
       "output_type": "stream",
       "stream": "stderr",
       "text": [
        "\r",
        " 23%|\u2588\u2588\u258e       | 116/501 [1:11:33<3:40:52, 34.42s/it]"
       ]
      },
      {
       "output_type": "stream",
       "stream": "stderr",
       "text": [
        "\r",
        " 23%|\u2588\u2588\u258e       | 117/501 [1:12:07<3:39:27, 34.29s/it]"
       ]
      },
      {
       "output_type": "stream",
       "stream": "stderr",
       "text": [
        "\r",
        " 24%|\u2588\u2588\u258e       | 118/501 [1:12:34<3:26:37, 32.37s/it]"
       ]
      },
      {
       "output_type": "stream",
       "stream": "stderr",
       "text": [
        "\r",
        " 24%|\u2588\u2588\u258d       | 119/501 [16:58:35<1809:16:15, 17050.72s/it]"
       ]
      },
      {
       "output_type": "stream",
       "stream": "stderr",
       "text": [
        "\r",
        " 24%|\u2588\u2588\u258d       | 120/501 [16:59:02<1264:03:24, 11943.84s/it]"
       ]
      },
      {
       "output_type": "stream",
       "stream": "stderr",
       "text": [
        "\r",
        " 24%|\u2588\u2588\u258d       | 121/501 [16:59:30<883:23:55, 8369.04s/it]  "
       ]
      },
      {
       "output_type": "stream",
       "stream": "stderr",
       "text": [
        "\r",
        " 24%|\u2588\u2588\u258d       | 122/501 [17:00:01<617:42:55, 5867.48s/it]"
       ]
      },
      {
       "output_type": "stream",
       "stream": "stderr",
       "text": [
        "\r",
        " 25%|\u2588\u2588\u258d       | 123/501 [17:00:32<432:14:31, 4116.59s/it]"
       ]
      },
      {
       "output_type": "stream",
       "stream": "stderr",
       "text": [
        "\r",
        " 25%|\u2588\u2588\u258d       | 124/501 [17:01:03<302:43:52, 2890.80s/it]"
       ]
      },
      {
       "output_type": "stream",
       "stream": "stderr",
       "text": [
        "\r",
        " 25%|\u2588\u2588\u258d       | 125/501 [17:01:34<212:19:42, 2032.93s/it]"
       ]
      },
      {
       "output_type": "stream",
       "stream": "stderr",
       "text": [
        "\r",
        " 25%|\u2588\u2588\u258c       | 126/501 [17:02:04<149:10:11, 1432.03s/it]"
       ]
      },
      {
       "output_type": "stream",
       "stream": "stderr",
       "text": [
        "\r",
        " 25%|\u2588\u2588\u258c       | 127/501 [17:03:03<105:59:04, 1020.17s/it]"
       ]
      },
      {
       "output_type": "stream",
       "stream": "stderr",
       "text": [
        "\r",
        " 26%|\u2588\u2588\u258c       | 128/501 [17:03:41<75:09:47, 725.44s/it]  "
       ]
      },
      {
       "output_type": "stream",
       "stream": "stderr",
       "text": [
        "\r",
        " 26%|\u2588\u2588\u258c       | 129/501 [17:04:09<53:21:04, 516.30s/it]"
       ]
      },
      {
       "output_type": "stream",
       "stream": "stderr",
       "text": [
        "\r",
        " 26%|\u2588\u2588\u258c       | 130/501 [17:04:41<38:14:19, 371.05s/it]"
       ]
      },
      {
       "output_type": "stream",
       "stream": "stderr",
       "text": [
        "\r",
        " 26%|\u2588\u2588\u258c       | 131/501 [17:05:12<27:38:48, 269.00s/it]"
       ]
      },
      {
       "output_type": "stream",
       "stream": "stderr",
       "text": [
        "\r",
        " 26%|\u2588\u2588\u258b       | 132/501 [17:05:43<20:14:33, 197.49s/it]"
       ]
      },
      {
       "output_type": "stream",
       "stream": "stderr",
       "text": [
        "\r",
        " 27%|\u2588\u2588\u258b       | 133/501 [17:06:14<15:04:48, 147.52s/it]"
       ]
      },
      {
       "output_type": "stream",
       "stream": "stderr",
       "text": [
        "\r",
        " 27%|\u2588\u2588\u258b       | 134/501 [17:06:44<11:27:41, 112.43s/it]"
       ]
      },
      {
       "output_type": "stream",
       "stream": "stderr",
       "text": [
        "\r",
        " 27%|\u2588\u2588\u258b       | 135/501 [17:07:15<8:55:48, 87.84s/it]  "
       ]
      },
      {
       "output_type": "stream",
       "stream": "stderr",
       "text": [
        "\r",
        " 27%|\u2588\u2588\u258b       | 136/501 [17:07:45<7:10:13, 70.72s/it]"
       ]
      },
      {
       "output_type": "stream",
       "stream": "stderr",
       "text": [
        "\r",
        " 27%|\u2588\u2588\u258b       | 137/501 [17:08:17<5:58:35, 59.11s/it]"
       ]
      },
      {
       "output_type": "stream",
       "stream": "stderr",
       "text": [
        "\r",
        " 28%|\u2588\u2588\u258a       | 138/501 [17:08:46<5:02:47, 50.05s/it]"
       ]
      },
      {
       "output_type": "stream",
       "stream": "stderr",
       "text": [
        "\r",
        " 28%|\u2588\u2588\u258a       | 139/501 [17:09:17<4:26:46, 44.22s/it]"
       ]
      },
      {
       "output_type": "stream",
       "stream": "stderr",
       "text": [
        "\r",
        " 28%|\u2588\u2588\u258a       | 140/501 [17:09:48<4:02:29, 40.30s/it]"
       ]
      },
      {
       "output_type": "stream",
       "stream": "stderr",
       "text": [
        "\r",
        " 28%|\u2588\u2588\u258a       | 141/501 [17:10:21<3:47:40, 37.95s/it]"
       ]
      },
      {
       "output_type": "stream",
       "stream": "stderr",
       "text": [
        "\r",
        " 28%|\u2588\u2588\u258a       | 142/501 [17:10:51<3:34:33, 35.86s/it]"
       ]
      },
      {
       "output_type": "stream",
       "stream": "stderr",
       "text": [
        "\r",
        " 29%|\u2588\u2588\u258a       | 143/501 [17:11:23<3:25:50, 34.50s/it]"
       ]
      },
      {
       "output_type": "stream",
       "stream": "stderr",
       "text": [
        "\r",
        " 29%|\u2588\u2588\u258a       | 144/501 [17:11:54<3:19:09, 33.47s/it]"
       ]
      },
      {
       "output_type": "stream",
       "stream": "stderr",
       "text": [
        "\r",
        " 29%|\u2588\u2588\u2589       | 145/501 [17:12:25<3:14:27, 32.77s/it]"
       ]
      },
      {
       "output_type": "stream",
       "stream": "stderr",
       "text": [
        "\r",
        " 29%|\u2588\u2588\u2589       | 146/501 [17:12:56<3:10:41, 32.23s/it]"
       ]
      },
      {
       "output_type": "stream",
       "stream": "stderr",
       "text": [
        "\r",
        " 29%|\u2588\u2588\u2589       | 147/501 [17:13:27<3:07:11, 31.73s/it]"
       ]
      },
      {
       "output_type": "stream",
       "stream": "stderr",
       "text": [
        "\r",
        " 30%|\u2588\u2588\u2589       | 148/501 [17:13:57<3:04:47, 31.41s/it]"
       ]
      },
      {
       "output_type": "stream",
       "stream": "stderr",
       "text": [
        "\r",
        " 30%|\u2588\u2588\u2589       | 149/501 [17:14:28<3:03:45, 31.32s/it]"
       ]
      },
      {
       "output_type": "stream",
       "stream": "stderr",
       "text": [
        "\r",
        " 30%|\u2588\u2588\u2589       | 150/501 [17:14:59<3:02:31, 31.20s/it]"
       ]
      },
      {
       "output_type": "stream",
       "stream": "stderr",
       "text": [
        "\r",
        " 30%|\u2588\u2588\u2588       | 151/501 [17:15:30<3:01:07, 31.05s/it]"
       ]
      },
      {
       "output_type": "stream",
       "stream": "stderr",
       "text": [
        "\r",
        " 30%|\u2588\u2588\u2588       | 152/501 [17:16:01<3:00:26, 31.02s/it]"
       ]
      },
      {
       "output_type": "stream",
       "stream": "stderr",
       "text": [
        "\r",
        " 31%|\u2588\u2588\u2588       | 153/501 [17:16:31<2:59:06, 30.88s/it]"
       ]
      },
      {
       "output_type": "stream",
       "stream": "stderr",
       "text": [
        "\r",
        " 31%|\u2588\u2588\u2588       | 154/501 [17:17:02<2:58:32, 30.87s/it]"
       ]
      },
      {
       "output_type": "stream",
       "stream": "stderr",
       "text": [
        "\r",
        " 31%|\u2588\u2588\u2588       | 155/501 [17:17:33<2:58:22, 30.93s/it]"
       ]
      },
      {
       "output_type": "stream",
       "stream": "stderr",
       "text": [
        "\r",
        " 31%|\u2588\u2588\u2588       | 156/501 [17:18:04<2:57:20, 30.84s/it]"
       ]
      },
      {
       "output_type": "stream",
       "stream": "stderr",
       "text": [
        "\r",
        " 31%|\u2588\u2588\u2588\u258f      | 157/501 [17:18:35<2:56:28, 30.78s/it]"
       ]
      },
      {
       "output_type": "stream",
       "stream": "stderr",
       "text": [
        "\r",
        " 32%|\u2588\u2588\u2588\u258f      | 158/501 [17:19:05<2:56:00, 30.79s/it]"
       ]
      },
      {
       "output_type": "stream",
       "stream": "stderr",
       "text": [
        "\r",
        " 32%|\u2588\u2588\u2588\u258f      | 159/501 [17:19:37<2:56:11, 30.91s/it]"
       ]
      },
      {
       "output_type": "stream",
       "stream": "stderr",
       "text": [
        "\r",
        " 32%|\u2588\u2588\u2588\u258f      | 160/501 [17:20:08<2:55:53, 30.95s/it]"
       ]
      },
      {
       "output_type": "stream",
       "stream": "stderr",
       "text": [
        "\r",
        " 32%|\u2588\u2588\u2588\u258f      | 161/501 [17:20:39<2:55:29, 30.97s/it]"
       ]
      },
      {
       "output_type": "stream",
       "stream": "stderr",
       "text": [
        "\r",
        " 32%|\u2588\u2588\u2588\u258f      | 162/501 [17:21:10<2:54:56, 30.96s/it]"
       ]
      },
      {
       "output_type": "stream",
       "stream": "stderr",
       "text": [
        "\r",
        " 33%|\u2588\u2588\u2588\u258e      | 163/501 [17:21:41<2:54:23, 30.96s/it]"
       ]
      },
      {
       "output_type": "stream",
       "stream": "stderr",
       "text": [
        "\r",
        " 33%|\u2588\u2588\u2588\u258e      | 164/501 [17:22:11<2:53:32, 30.90s/it]"
       ]
      },
      {
       "output_type": "stream",
       "stream": "stderr",
       "text": [
        "\r",
        " 33%|\u2588\u2588\u2588\u258e      | 165/501 [17:22:42<2:53:10, 30.92s/it]"
       ]
      },
      {
       "output_type": "stream",
       "stream": "stderr",
       "text": [
        "\r",
        " 33%|\u2588\u2588\u2588\u258e      | 166/501 [17:23:14<2:54:25, 31.24s/it]"
       ]
      },
      {
       "output_type": "stream",
       "stream": "stderr",
       "text": [
        "\r",
        " 33%|\u2588\u2588\u2588\u258e      | 167/501 [17:23:45<2:52:50, 31.05s/it]"
       ]
      },
      {
       "output_type": "stream",
       "stream": "stderr",
       "text": [
        "\r",
        " 34%|\u2588\u2588\u2588\u258e      | 168/501 [17:24:14<2:48:53, 30.43s/it]"
       ]
      },
      {
       "output_type": "stream",
       "stream": "stderr",
       "text": [
        "\r",
        " 34%|\u2588\u2588\u2588\u258e      | 169/501 [17:24:42<2:44:41, 29.76s/it]"
       ]
      },
      {
       "output_type": "stream",
       "stream": "stderr",
       "text": [
        "\r",
        " 34%|\u2588\u2588\u2588\u258d      | 170/501 [17:25:10<2:41:34, 29.29s/it]"
       ]
      },
      {
       "output_type": "stream",
       "stream": "stderr",
       "text": [
        "\r",
        " 34%|\u2588\u2588\u2588\u258d      | 171/501 [17:25:39<2:39:34, 29.01s/it]"
       ]
      },
      {
       "output_type": "stream",
       "stream": "stderr",
       "text": [
        "\r",
        " 34%|\u2588\u2588\u2588\u258d      | 172/501 [17:26:07<2:37:38, 28.75s/it]"
       ]
      },
      {
       "output_type": "stream",
       "stream": "stderr",
       "text": [
        "\r",
        " 35%|\u2588\u2588\u2588\u258d      | 173/501 [17:26:35<2:36:06, 28.56s/it]"
       ]
      },
      {
       "output_type": "stream",
       "stream": "stderr",
       "text": [
        "\r",
        " 35%|\u2588\u2588\u2588\u258d      | 174/501 [17:27:03<2:35:37, 28.56s/it]"
       ]
      },
      {
       "output_type": "stream",
       "stream": "stderr",
       "text": [
        "\r",
        " 35%|\u2588\u2588\u2588\u258d      | 175/501 [17:27:32<2:34:45, 28.48s/it]"
       ]
      },
      {
       "output_type": "stream",
       "stream": "stderr",
       "text": [
        "\r",
        " 35%|\u2588\u2588\u2588\u258c      | 176/501 [17:28:00<2:33:48, 28.40s/it]"
       ]
      },
      {
       "output_type": "stream",
       "stream": "stderr",
       "text": [
        "\r",
        " 35%|\u2588\u2588\u2588\u258c      | 177/501 [17:28:31<2:37:11, 29.11s/it]"
       ]
      },
      {
       "output_type": "stream",
       "stream": "stderr",
       "text": [
        "\r",
        " 36%|\u2588\u2588\u2588\u258c      | 178/501 [17:29:02<2:39:26, 29.62s/it]"
       ]
      },
      {
       "output_type": "stream",
       "stream": "stderr",
       "text": [
        "\r",
        " 36%|\u2588\u2588\u2588\u258c      | 179/501 [17:29:32<2:41:01, 30.00s/it]"
       ]
      },
      {
       "output_type": "stream",
       "stream": "stderr",
       "text": [
        "\r",
        " 36%|\u2588\u2588\u2588\u258c      | 180/501 [17:30:04<2:42:17, 30.33s/it]"
       ]
      },
      {
       "output_type": "stream",
       "stream": "stderr",
       "text": [
        "\r",
        " 36%|\u2588\u2588\u2588\u258c      | 181/501 [17:30:34<2:42:30, 30.47s/it]"
       ]
      },
      {
       "output_type": "stream",
       "stream": "stderr",
       "text": [
        "\r",
        " 36%|\u2588\u2588\u2588\u258b      | 182/501 [17:31:05<2:42:47, 30.62s/it]"
       ]
      },
      {
       "output_type": "stream",
       "stream": "stderr",
       "text": [
        "\r",
        " 37%|\u2588\u2588\u2588\u258b      | 183/501 [17:31:36<2:42:39, 30.69s/it]"
       ]
      },
      {
       "output_type": "stream",
       "stream": "stderr",
       "text": [
        "\r",
        " 37%|\u2588\u2588\u2588\u258b      | 184/501 [17:32:07<2:43:02, 30.86s/it]"
       ]
      },
      {
       "output_type": "stream",
       "stream": "stderr",
       "text": [
        "\r",
        " 37%|\u2588\u2588\u2588\u258b      | 185/501 [17:32:38<2:42:27, 30.85s/it]"
       ]
      },
      {
       "output_type": "stream",
       "stream": "stderr",
       "text": [
        "\r",
        " 37%|\u2588\u2588\u2588\u258b      | 186/501 [17:33:09<2:42:31, 30.96s/it]"
       ]
      },
      {
       "output_type": "stream",
       "stream": "stderr",
       "text": [
        "\r",
        " 37%|\u2588\u2588\u2588\u258b      | 187/501 [17:33:41<2:43:26, 31.23s/it]"
       ]
      },
      {
       "output_type": "stream",
       "stream": "stderr",
       "text": [
        "\r",
        " 38%|\u2588\u2588\u2588\u258a      | 188/501 [17:34:11<2:40:40, 30.80s/it]"
       ]
      },
      {
       "output_type": "stream",
       "stream": "stderr",
       "text": [
        "\r",
        " 38%|\u2588\u2588\u2588\u258a      | 189/501 [17:34:40<2:36:31, 30.10s/it]"
       ]
      },
      {
       "output_type": "stream",
       "stream": "stderr",
       "text": [
        "\r",
        " 38%|\u2588\u2588\u2588\u258a      | 190/501 [17:35:09<2:34:45, 29.86s/it]"
       ]
      },
      {
       "output_type": "stream",
       "stream": "stderr",
       "text": [
        "\r",
        " 38%|\u2588\u2588\u2588\u258a      | 191/501 [17:35:40<2:36:05, 30.21s/it]"
       ]
      },
      {
       "output_type": "stream",
       "stream": "stderr",
       "text": [
        "\r",
        " 38%|\u2588\u2588\u2588\u258a      | 192/501 [17:36:12<2:38:03, 30.69s/it]"
       ]
      },
      {
       "output_type": "stream",
       "stream": "stderr",
       "text": [
        "\r",
        " 39%|\u2588\u2588\u2588\u258a      | 193/501 [17:36:43<2:37:56, 30.77s/it]"
       ]
      },
      {
       "output_type": "stream",
       "stream": "stderr",
       "text": [
        "\r",
        " 39%|\u2588\u2588\u2588\u258a      | 194/501 [17:37:14<2:38:11, 30.92s/it]"
       ]
      },
      {
       "output_type": "stream",
       "stream": "stderr",
       "text": [
        "\r",
        " 39%|\u2588\u2588\u2588\u2589      | 195/501 [17:37:45<2:38:03, 30.99s/it]"
       ]
      },
      {
       "output_type": "stream",
       "stream": "stderr",
       "text": [
        "\r",
        " 39%|\u2588\u2588\u2588\u2589      | 196/501 [17:38:16<2:37:56, 31.07s/it]"
       ]
      },
      {
       "output_type": "stream",
       "stream": "stderr",
       "text": [
        "\r",
        " 39%|\u2588\u2588\u2588\u2589      | 197/501 [17:38:47<2:37:16, 31.04s/it]"
       ]
      },
      {
       "output_type": "stream",
       "stream": "stderr",
       "text": [
        "\r",
        " 40%|\u2588\u2588\u2588\u2589      | 198/501 [17:39:17<2:34:40, 30.63s/it]"
       ]
      },
      {
       "output_type": "stream",
       "stream": "stderr",
       "text": [
        "\r",
        " 40%|\u2588\u2588\u2588\u2589      | 199/501 [17:39:45<2:30:51, 29.97s/it]"
       ]
      },
      {
       "output_type": "stream",
       "stream": "stderr",
       "text": [
        "\r",
        " 40%|\u2588\u2588\u2588\u2589      | 200/501 [17:40:15<2:30:14, 29.95s/it]"
       ]
      },
      {
       "output_type": "stream",
       "stream": "stderr",
       "text": [
        "\r",
        " 40%|\u2588\u2588\u2588\u2588      | 201/501 [17:40:47<2:31:40, 30.34s/it]"
       ]
      },
      {
       "output_type": "stream",
       "stream": "stderr",
       "text": [
        "\r",
        " 40%|\u2588\u2588\u2588\u2588      | 202/501 [17:41:18<2:33:06, 30.72s/it]"
       ]
      },
      {
       "output_type": "stream",
       "stream": "stderr",
       "text": [
        "\r",
        " 41%|\u2588\u2588\u2588\u2588      | 203/501 [17:41:49<2:33:09, 30.84s/it]"
       ]
      },
      {
       "output_type": "stream",
       "stream": "stderr",
       "text": [
        "\r",
        " 41%|\u2588\u2588\u2588\u2588      | 204/501 [17:42:20<2:32:20, 30.78s/it]"
       ]
      },
      {
       "output_type": "stream",
       "stream": "stderr",
       "text": [
        "\r",
        " 41%|\u2588\u2588\u2588\u2588      | 205/501 [17:42:51<2:32:20, 30.88s/it]"
       ]
      },
      {
       "output_type": "stream",
       "stream": "stderr",
       "text": [
        "\r",
        " 41%|\u2588\u2588\u2588\u2588      | 206/501 [17:43:22<2:31:41, 30.85s/it]"
       ]
      },
      {
       "output_type": "stream",
       "stream": "stderr",
       "text": [
        "\r",
        " 41%|\u2588\u2588\u2588\u2588\u258f     | 207/501 [17:43:53<2:31:04, 30.83s/it]"
       ]
      },
      {
       "output_type": "stream",
       "stream": "stderr",
       "text": [
        "\r",
        " 42%|\u2588\u2588\u2588\u2588\u258f     | 208/501 [17:44:24<2:30:48, 30.88s/it]"
       ]
      },
      {
       "output_type": "stream",
       "stream": "stderr",
       "text": [
        "\r",
        " 42%|\u2588\u2588\u2588\u2588\u258f     | 209/501 [17:44:55<2:30:18, 30.88s/it]"
       ]
      },
      {
       "output_type": "stream",
       "stream": "stderr",
       "text": [
        "\r",
        " 42%|\u2588\u2588\u2588\u2588\u258f     | 210/501 [17:45:27<2:31:48, 31.30s/it]"
       ]
      },
      {
       "output_type": "stream",
       "stream": "stderr",
       "text": [
        "\r",
        " 42%|\u2588\u2588\u2588\u2588\u258f     | 211/501 [17:45:58<2:30:36, 31.16s/it]"
       ]
      },
      {
       "output_type": "stream",
       "stream": "stderr",
       "text": [
        "\r",
        " 42%|\u2588\u2588\u2588\u2588\u258f     | 212/501 [17:46:28<2:29:24, 31.02s/it]"
       ]
      },
      {
       "output_type": "stream",
       "stream": "stderr",
       "text": [
        "\r",
        " 43%|\u2588\u2588\u2588\u2588\u258e     | 213/501 [17:46:59<2:28:27, 30.93s/it]"
       ]
      },
      {
       "output_type": "stream",
       "stream": "stderr",
       "text": [
        "\r",
        " 43%|\u2588\u2588\u2588\u2588\u258e     | 214/501 [17:47:30<2:27:21, 30.81s/it]"
       ]
      },
      {
       "output_type": "stream",
       "stream": "stderr",
       "text": [
        "\r",
        " 43%|\u2588\u2588\u2588\u2588\u258e     | 215/501 [17:48:00<2:26:48, 30.80s/it]"
       ]
      },
      {
       "output_type": "stream",
       "stream": "stderr",
       "text": [
        "\r",
        " 43%|\u2588\u2588\u2588\u2588\u258e     | 216/501 [17:48:31<2:26:26, 30.83s/it]"
       ]
      },
      {
       "output_type": "stream",
       "stream": "stderr",
       "text": [
        "\r",
        " 43%|\u2588\u2588\u2588\u2588\u258e     | 217/501 [17:49:02<2:26:12, 30.89s/it]"
       ]
      },
      {
       "output_type": "stream",
       "stream": "stderr",
       "text": [
        "\r",
        " 44%|\u2588\u2588\u2588\u2588\u258e     | 218/501 [17:49:33<2:25:23, 30.83s/it]"
       ]
      },
      {
       "output_type": "stream",
       "stream": "stderr",
       "text": [
        "\r",
        " 44%|\u2588\u2588\u2588\u2588\u258e     | 219/501 [17:50:04<2:24:54, 30.83s/it]"
       ]
      },
      {
       "output_type": "stream",
       "stream": "stderr",
       "text": [
        "\r",
        " 44%|\u2588\u2588\u2588\u2588\u258d     | 220/501 [17:50:35<2:24:48, 30.92s/it]"
       ]
      },
      {
       "output_type": "stream",
       "stream": "stderr",
       "text": [
        "\r",
        " 44%|\u2588\u2588\u2588\u2588\u258d     | 221/501 [17:51:09<2:29:22, 32.01s/it]"
       ]
      },
      {
       "output_type": "stream",
       "stream": "stderr",
       "text": [
        "\r",
        " 44%|\u2588\u2588\u2588\u2588\u258d     | 222/501 [17:51:41<2:27:32, 31.73s/it]"
       ]
      },
      {
       "output_type": "stream",
       "stream": "stderr",
       "text": [
        "\r",
        " 45%|\u2588\u2588\u2588\u2588\u258d     | 223/501 [17:52:12<2:26:04, 31.53s/it]"
       ]
      },
      {
       "output_type": "stream",
       "stream": "stderr",
       "text": [
        "\r",
        " 45%|\u2588\u2588\u2588\u2588\u258d     | 224/501 [17:52:43<2:25:05, 31.43s/it]"
       ]
      },
      {
       "output_type": "stream",
       "stream": "stderr",
       "text": [
        "\r",
        " 45%|\u2588\u2588\u2588\u2588\u258d     | 225/501 [17:53:13<2:23:08, 31.12s/it]"
       ]
      },
      {
       "output_type": "stream",
       "stream": "stderr",
       "text": [
        "\r",
        " 45%|\u2588\u2588\u2588\u2588\u258c     | 226/501 [17:53:44<2:22:22, 31.06s/it]"
       ]
      },
      {
       "output_type": "stream",
       "stream": "stderr",
       "text": [
        "\r",
        " 45%|\u2588\u2588\u2588\u2588\u258c     | 227/501 [17:54:15<2:22:02, 31.10s/it]"
       ]
      },
      {
       "output_type": "stream",
       "stream": "stderr",
       "text": [
        "\r",
        " 46%|\u2588\u2588\u2588\u2588\u258c     | 228/501 [17:54:47<2:22:30, 31.32s/it]"
       ]
      },
      {
       "output_type": "stream",
       "stream": "stderr",
       "text": [
        "\r",
        " 46%|\u2588\u2588\u2588\u2588\u258c     | 229/501 [17:55:18<2:21:15, 31.16s/it]"
       ]
      },
      {
       "output_type": "stream",
       "stream": "stderr",
       "text": [
        "\r",
        " 46%|\u2588\u2588\u2588\u2588\u258c     | 230/501 [17:55:49<2:20:31, 31.11s/it]"
       ]
      },
      {
       "output_type": "stream",
       "stream": "stderr",
       "text": [
        "\r",
        " 46%|\u2588\u2588\u2588\u2588\u258c     | 231/501 [17:56:20<2:20:22, 31.19s/it]"
       ]
      },
      {
       "output_type": "stream",
       "stream": "stderr",
       "text": [
        "\r",
        " 46%|\u2588\u2588\u2588\u2588\u258b     | 232/501 [17:56:51<2:19:27, 31.11s/it]"
       ]
      },
      {
       "output_type": "stream",
       "stream": "stderr",
       "text": [
        "\r",
        " 47%|\u2588\u2588\u2588\u2588\u258b     | 233/501 [17:57:22<2:18:56, 31.11s/it]"
       ]
      },
      {
       "output_type": "stream",
       "stream": "stderr",
       "text": [
        "\r",
        " 47%|\u2588\u2588\u2588\u2588\u258b     | 234/501 [17:57:53<2:18:14, 31.06s/it]"
       ]
      },
      {
       "output_type": "stream",
       "stream": "stderr",
       "text": [
        "\r",
        " 47%|\u2588\u2588\u2588\u2588\u258b     | 235/501 [17:58:24<2:17:52, 31.10s/it]"
       ]
      },
      {
       "output_type": "stream",
       "stream": "stderr",
       "text": [
        "\r",
        " 47%|\u2588\u2588\u2588\u2588\u258b     | 236/501 [17:58:55<2:16:52, 30.99s/it]"
       ]
      },
      {
       "output_type": "stream",
       "stream": "stderr",
       "text": [
        "\r",
        " 47%|\u2588\u2588\u2588\u2588\u258b     | 237/501 [17:59:28<2:18:34, 31.49s/it]"
       ]
      },
      {
       "output_type": "stream",
       "stream": "stderr",
       "text": [
        "\r",
        " 48%|\u2588\u2588\u2588\u2588\u258a     | 238/501 [17:59:59<2:17:13, 31.30s/it]"
       ]
      },
      {
       "output_type": "stream",
       "stream": "stderr",
       "text": [
        "\r",
        " 48%|\u2588\u2588\u2588\u2588\u258a     | 239/501 [18:00:30<2:16:38, 31.29s/it]"
       ]
      },
      {
       "output_type": "stream",
       "stream": "stderr",
       "text": [
        "\r",
        " 48%|\u2588\u2588\u2588\u2588\u258a     | 240/501 [18:01:02<2:16:29, 31.38s/it]"
       ]
      },
      {
       "output_type": "stream",
       "stream": "stderr",
       "text": [
        "\r",
        " 48%|\u2588\u2588\u2588\u2588\u258a     | 241/501 [18:01:33<2:15:24, 31.25s/it]"
       ]
      },
      {
       "output_type": "stream",
       "stream": "stderr",
       "text": [
        "\r",
        " 48%|\u2588\u2588\u2588\u2588\u258a     | 242/501 [18:02:04<2:14:37, 31.19s/it]"
       ]
      },
      {
       "output_type": "stream",
       "stream": "stderr",
       "text": [
        "\r",
        " 49%|\u2588\u2588\u2588\u2588\u258a     | 243/501 [18:02:34<2:13:24, 31.02s/it]"
       ]
      },
      {
       "output_type": "stream",
       "stream": "stderr",
       "text": [
        "\r",
        " 49%|\u2588\u2588\u2588\u2588\u258a     | 244/501 [18:03:05<2:12:30, 30.94s/it]"
       ]
      },
      {
       "output_type": "stream",
       "stream": "stderr",
       "text": [
        "\r",
        " 49%|\u2588\u2588\u2588\u2588\u2589     | 245/501 [18:03:36<2:12:12, 30.99s/it]"
       ]
      },
      {
       "output_type": "stream",
       "stream": "stderr",
       "text": [
        "\r",
        " 49%|\u2588\u2588\u2588\u2588\u2589     | 246/501 [18:04:07<2:11:51, 31.03s/it]"
       ]
      },
      {
       "output_type": "stream",
       "stream": "stderr",
       "text": [
        "\r",
        " 49%|\u2588\u2588\u2588\u2588\u2589     | 247/501 [18:04:39<2:11:47, 31.13s/it]"
       ]
      },
      {
       "output_type": "stream",
       "stream": "stderr",
       "text": [
        "\r",
        " 50%|\u2588\u2588\u2588\u2588\u2589     | 248/501 [18:05:09<2:10:51, 31.04s/it]"
       ]
      },
      {
       "output_type": "stream",
       "stream": "stderr",
       "text": [
        "\r",
        " 50%|\u2588\u2588\u2588\u2588\u2589     | 249/501 [18:05:40<2:09:53, 30.93s/it]"
       ]
      },
      {
       "output_type": "stream",
       "stream": "stderr",
       "text": [
        "\r",
        " 50%|\u2588\u2588\u2588\u2588\u2589     | 250/501 [18:06:11<2:08:52, 30.81s/it]"
       ]
      },
      {
       "output_type": "stream",
       "stream": "stderr",
       "text": [
        "\r",
        " 50%|\u2588\u2588\u2588\u2588\u2588     | 251/501 [18:06:41<2:08:26, 30.82s/it]"
       ]
      },
      {
       "output_type": "stream",
       "stream": "stderr",
       "text": [
        "\r",
        " 50%|\u2588\u2588\u2588\u2588\u2588     | 252/501 [18:07:12<2:08:06, 30.87s/it]"
       ]
      },
      {
       "output_type": "stream",
       "stream": "stderr",
       "text": [
        "\r",
        " 50%|\u2588\u2588\u2588\u2588\u2588     | 253/501 [18:08:01<2:29:21, 36.13s/it]"
       ]
      },
      {
       "output_type": "stream",
       "stream": "stderr",
       "text": [
        "\r",
        " 51%|\u2588\u2588\u2588\u2588\u2588     | 254/501 [18:08:50<2:44:49, 40.04s/it]"
       ]
      },
      {
       "output_type": "stream",
       "stream": "stderr",
       "text": [
        "\r",
        " 51%|\u2588\u2588\u2588\u2588\u2588     | 255/501 [18:09:22<2:33:50, 37.52s/it]"
       ]
      },
      {
       "output_type": "stream",
       "stream": "stderr",
       "text": [
        "\r",
        " 51%|\u2588\u2588\u2588\u2588\u2588     | 256/501 [18:09:53<2:25:59, 35.75s/it]"
       ]
      },
      {
       "output_type": "stream",
       "stream": "stderr",
       "text": [
        "\r",
        " 51%|\u2588\u2588\u2588\u2588\u2588\u258f    | 257/501 [18:10:23<2:18:12, 33.99s/it]"
       ]
      },
      {
       "output_type": "stream",
       "stream": "stderr",
       "text": [
        "\r",
        " 51%|\u2588\u2588\u2588\u2588\u2588\u258f    | 258/501 [18:10:54<2:14:11, 33.13s/it]"
       ]
      },
      {
       "output_type": "stream",
       "stream": "stderr",
       "text": [
        "\r",
        " 52%|\u2588\u2588\u2588\u2588\u2588\u258f    | 259/501 [18:11:25<2:10:32, 32.37s/it]"
       ]
      },
      {
       "output_type": "stream",
       "stream": "stderr",
       "text": [
        "\r",
        " 52%|\u2588\u2588\u2588\u2588\u2588\u258f    | 260/501 [18:11:55<2:07:45, 31.81s/it]"
       ]
      },
      {
       "output_type": "stream",
       "stream": "stderr",
       "text": [
        "\r",
        " 52%|\u2588\u2588\u2588\u2588\u2588\u258f    | 261/501 [20:58:35<201:29:10, 3022.30s/it]"
       ]
      },
      {
       "output_type": "stream",
       "stream": "stderr",
       "text": [
        "\r",
        " 52%|\u2588\u2588\u2588\u2588\u2588\u258f    | 262/501 [20:59:07<141:05:06, 2125.13s/it]"
       ]
      },
      {
       "output_type": "stream",
       "stream": "stderr",
       "text": [
        "\r",
        " 52%|\u2588\u2588\u2588\u2588\u2588\u258f    | 263/501 [20:59:38<98:57:04, 1496.74s/it] "
       ]
      },
      {
       "output_type": "stream",
       "stream": "stderr",
       "text": [
        "\r",
        " 53%|\u2588\u2588\u2588\u2588\u2588\u258e    | 264/501 [21:00:08<69:34:56, 1056.95s/it]"
       ]
      },
      {
       "output_type": "stream",
       "stream": "stderr",
       "text": [
        "\r",
        " 53%|\u2588\u2588\u2588\u2588\u2588\u258e    | 265/501 [21:00:39<49:05:46, 748.93s/it] "
       ]
      },
      {
       "output_type": "stream",
       "stream": "stderr",
       "text": [
        "\r",
        " 53%|\u2588\u2588\u2588\u2588\u2588\u258e    | 266/501 [21:01:09<34:49:29, 533.49s/it]"
       ]
      },
      {
       "output_type": "stream",
       "stream": "stderr",
       "text": [
        "\r",
        " 53%|\u2588\u2588\u2588\u2588\u2588\u258e    | 267/501 [21:01:40<24:52:14, 382.63s/it]"
       ]
      },
      {
       "output_type": "stream",
       "stream": "stderr",
       "text": [
        "\r",
        " 53%|\u2588\u2588\u2588\u2588\u2588\u258e    | 268/501 [21:02:10<17:55:19, 276.91s/it]"
       ]
      },
      {
       "output_type": "stream",
       "stream": "stderr",
       "text": [
        "\r",
        " 54%|\u2588\u2588\u2588\u2588\u2588\u258e    | 269/501 [21:02:40<13:03:55, 202.74s/it]"
       ]
      },
      {
       "output_type": "stream",
       "stream": "stderr",
       "text": [
        "\r",
        " 54%|\u2588\u2588\u2588\u2588\u2588\u258d    | 270/501 [21:03:11<9:41:59, 151.17s/it] "
       ]
      },
      {
       "output_type": "stream",
       "stream": "stderr",
       "text": [
        "\r",
        " 54%|\u2588\u2588\u2588\u2588\u2588\u258d    | 271/501 [21:03:39<7:18:28, 114.38s/it]"
       ]
      },
      {
       "output_type": "stream",
       "stream": "stderr",
       "text": [
        "\r",
        " 54%|\u2588\u2588\u2588\u2588\u2588\u258d    | 272/501 [21:04:08<5:38:05, 88.58s/it] "
       ]
      },
      {
       "output_type": "stream",
       "stream": "stderr",
       "text": [
        "\r",
        " 54%|\u2588\u2588\u2588\u2588\u2588\u258d    | 273/501 [21:04:36<4:27:43, 70.45s/it]"
       ]
      },
      {
       "output_type": "stream",
       "stream": "stderr",
       "text": [
        "\r",
        " 55%|\u2588\u2588\u2588\u2588\u2588\u258d    | 274/501 [21:05:04<3:38:42, 57.81s/it]"
       ]
      },
      {
       "output_type": "stream",
       "stream": "stderr",
       "text": [
        "\r",
        " 55%|\u2588\u2588\u2588\u2588\u2588\u258d    | 275/501 [21:05:33<3:04:37, 49.01s/it]"
       ]
      },
      {
       "output_type": "stream",
       "stream": "stderr",
       "text": [
        "\r",
        " 55%|\u2588\u2588\u2588\u2588\u2588\u258c    | 276/501 [21:06:01<2:40:39, 42.84s/it]"
       ]
      },
      {
       "output_type": "stream",
       "stream": "stderr",
       "text": [
        "\r",
        " 55%|\u2588\u2588\u2588\u2588\u2588\u258c    | 277/501 [21:06:30<2:23:46, 38.51s/it]"
       ]
      },
      {
       "output_type": "stream",
       "stream": "stderr",
       "text": [
        "\r",
        " 55%|\u2588\u2588\u2588\u2588\u2588\u258c    | 278/501 [21:06:58<2:12:13, 35.58s/it]"
       ]
      },
      {
       "output_type": "stream",
       "stream": "stderr",
       "text": [
        "\r",
        " 56%|\u2588\u2588\u2588\u2588\u2588\u258c    | 279/501 [21:07:27<2:04:07, 33.55s/it]"
       ]
      },
      {
       "output_type": "stream",
       "stream": "stderr",
       "text": [
        "\r",
        " 56%|\u2588\u2588\u2588\u2588\u2588\u258c    | 280/501 [21:07:56<1:58:16, 32.11s/it]"
       ]
      },
      {
       "output_type": "stream",
       "stream": "stderr",
       "text": [
        "\r",
        " 56%|\u2588\u2588\u2588\u2588\u2588\u258c    | 281/501 [21:08:25<1:54:34, 31.25s/it]"
       ]
      },
      {
       "output_type": "stream",
       "stream": "stderr",
       "text": [
        "\r",
        " 56%|\u2588\u2588\u2588\u2588\u2588\u258b    | 282/501 [21:08:54<1:51:25, 30.53s/it]"
       ]
      },
      {
       "output_type": "stream",
       "stream": "stderr",
       "text": [
        "\r",
        " 56%|\u2588\u2588\u2588\u2588\u2588\u258b    | 283/501 [21:09:23<1:49:20, 30.09s/it]"
       ]
      },
      {
       "output_type": "stream",
       "stream": "stderr",
       "text": [
        "\r",
        " 57%|\u2588\u2588\u2588\u2588\u2588\u258b    | 284/501 [21:09:52<1:47:30, 29.73s/it]"
       ]
      },
      {
       "output_type": "stream",
       "stream": "stderr",
       "text": [
        "\r",
        " 57%|\u2588\u2588\u2588\u2588\u2588\u258b    | 285/501 [21:10:22<1:46:57, 29.71s/it]"
       ]
      },
      {
       "output_type": "stream",
       "stream": "stderr",
       "text": [
        "\r",
        " 57%|\u2588\u2588\u2588\u2588\u2588\u258b    | 286/501 [21:10:51<1:46:42, 29.78s/it]"
       ]
      },
      {
       "output_type": "stream",
       "stream": "stderr",
       "text": [
        "\r",
        " 57%|\u2588\u2588\u2588\u2588\u2588\u258b    | 287/501 [21:11:20<1:45:10, 29.49s/it]"
       ]
      },
      {
       "output_type": "stream",
       "stream": "stderr",
       "text": [
        "\r",
        " 57%|\u2588\u2588\u2588\u2588\u2588\u258b    | 288/501 [21:11:51<1:45:48, 29.80s/it]"
       ]
      },
      {
       "output_type": "stream",
       "stream": "stderr",
       "text": [
        "\r",
        " 58%|\u2588\u2588\u2588\u2588\u2588\u258a    | 289/501 [21:12:21<1:45:12, 29.78s/it]"
       ]
      },
      {
       "output_type": "stream",
       "stream": "stderr",
       "text": [
        "\r",
        " 58%|\u2588\u2588\u2588\u2588\u2588\u258a    | 290/501 [21:12:49<1:43:47, 29.51s/it]"
       ]
      },
      {
       "output_type": "stream",
       "stream": "stderr",
       "text": [
        "\r",
        " 58%|\u2588\u2588\u2588\u2588\u2588\u258a    | 291/501 [21:13:19<1:43:38, 29.61s/it]"
       ]
      },
      {
       "output_type": "stream",
       "stream": "stderr",
       "text": [
        "\r",
        " 58%|\u2588\u2588\u2588\u2588\u2588\u258a    | 292/501 [21:13:49<1:43:39, 29.76s/it]"
       ]
      },
      {
       "output_type": "stream",
       "stream": "stderr",
       "text": [
        "\r",
        " 58%|\u2588\u2588\u2588\u2588\u2588\u258a    | 293/501 [21:14:21<1:44:37, 30.18s/it]"
       ]
      },
      {
       "output_type": "stream",
       "stream": "stderr",
       "text": [
        "\r",
        " 59%|\u2588\u2588\u2588\u2588\u2588\u258a    | 294/501 [21:14:52<1:45:15, 30.51s/it]"
       ]
      },
      {
       "output_type": "stream",
       "stream": "stderr",
       "text": [
        "\r",
        " 59%|\u2588\u2588\u2588\u2588\u2588\u2589    | 295/501 [21:15:22<1:44:02, 30.31s/it]"
       ]
      },
      {
       "output_type": "stream",
       "stream": "stderr",
       "text": [
        "\r",
        " 59%|\u2588\u2588\u2588\u2588\u2588\u2589    | 296/501 [21:15:51<1:42:46, 30.08s/it]"
       ]
      },
      {
       "output_type": "stream",
       "stream": "stderr",
       "text": [
        "\r",
        " 59%|\u2588\u2588\u2588\u2588\u2588\u2589    | 297/501 [21:16:20<1:41:06, 29.74s/it]"
       ]
      },
      {
       "output_type": "stream",
       "stream": "stderr",
       "text": [
        "\r",
        " 59%|\u2588\u2588\u2588\u2588\u2588\u2589    | 298/501 [21:16:50<1:40:17, 29.64s/it]"
       ]
      },
      {
       "output_type": "stream",
       "stream": "stderr",
       "text": [
        "\r",
        " 60%|\u2588\u2588\u2588\u2588\u2588\u2589    | 299/501 [21:17:20<1:40:58, 29.99s/it]"
       ]
      },
      {
       "output_type": "stream",
       "stream": "stderr",
       "text": [
        "\r",
        " 60%|\u2588\u2588\u2588\u2588\u2588\u2589    | 300/501 [21:17:51<1:41:23, 30.26s/it]"
       ]
      },
      {
       "output_type": "stream",
       "stream": "stderr",
       "text": [
        "\r",
        " 60%|\u2588\u2588\u2588\u2588\u2588\u2588    | 301/501 [21:18:21<1:40:25, 30.13s/it]"
       ]
      },
      {
       "output_type": "stream",
       "stream": "stderr",
       "text": [
        "\r",
        " 60%|\u2588\u2588\u2588\u2588\u2588\u2588    | 302/501 [21:18:50<1:39:05, 29.87s/it]"
       ]
      },
      {
       "output_type": "stream",
       "stream": "stderr",
       "text": [
        "\r",
        " 60%|\u2588\u2588\u2588\u2588\u2588\u2588    | 303/501 [21:19:21<1:38:55, 29.98s/it]"
       ]
      },
      {
       "output_type": "stream",
       "stream": "stderr",
       "text": [
        "\r",
        " 61%|\u2588\u2588\u2588\u2588\u2588\u2588    | 304/501 [21:19:50<1:37:26, 29.68s/it]"
       ]
      },
      {
       "output_type": "stream",
       "stream": "stderr",
       "text": [
        "\r",
        " 61%|\u2588\u2588\u2588\u2588\u2588\u2588    | 305/501 [21:20:19<1:36:22, 29.50s/it]"
       ]
      },
      {
       "output_type": "stream",
       "stream": "stderr",
       "text": [
        "\r",
        " 61%|\u2588\u2588\u2588\u2588\u2588\u2588    | 306/501 [21:20:48<1:35:31, 29.39s/it]"
       ]
      },
      {
       "output_type": "stream",
       "stream": "stderr",
       "text": [
        "\r",
        " 61%|\u2588\u2588\u2588\u2588\u2588\u2588\u258f   | 307/501 [21:21:17<1:34:56, 29.36s/it]"
       ]
      },
      {
       "output_type": "stream",
       "stream": "stderr",
       "text": [
        "\r",
        " 61%|\u2588\u2588\u2588\u2588\u2588\u2588\u258f   | 308/501 [21:21:46<1:34:03, 29.24s/it]"
       ]
      },
      {
       "output_type": "stream",
       "stream": "stderr",
       "text": [
        "\r",
        " 62%|\u2588\u2588\u2588\u2588\u2588\u2588\u258f   | 309/501 [21:22:15<1:33:23, 29.19s/it]"
       ]
      },
      {
       "output_type": "stream",
       "stream": "stderr",
       "text": [
        "\r",
        " 62%|\u2588\u2588\u2588\u2588\u2588\u2588\u258f   | 310/501 [21:22:44<1:32:53, 29.18s/it]"
       ]
      },
      {
       "output_type": "stream",
       "stream": "stderr",
       "text": [
        "\r",
        " 62%|\u2588\u2588\u2588\u2588\u2588\u2588\u258f   | 311/501 [21:23:15<1:33:49, 29.63s/it]"
       ]
      },
      {
       "output_type": "stream",
       "stream": "stderr",
       "text": [
        "\r",
        " 62%|\u2588\u2588\u2588\u2588\u2588\u2588\u258f   | 312/501 [21:23:44<1:32:43, 29.44s/it]"
       ]
      },
      {
       "output_type": "stream",
       "stream": "stderr",
       "text": [
        "\r",
        " 62%|\u2588\u2588\u2588\u2588\u2588\u2588\u258f   | 313/501 [21:24:19<1:37:37, 31.15s/it]"
       ]
      },
      {
       "output_type": "stream",
       "stream": "stderr",
       "text": [
        "\r",
        " 63%|\u2588\u2588\u2588\u2588\u2588\u2588\u258e   | 314/501 [21:24:53<1:40:05, 32.11s/it]"
       ]
      },
      {
       "output_type": "stream",
       "stream": "stderr",
       "text": [
        "\r",
        " 63%|\u2588\u2588\u2588\u2588\u2588\u2588\u258e   | 315/501 [21:25:28<1:41:48, 32.84s/it]"
       ]
      },
      {
       "output_type": "stream",
       "stream": "stderr",
       "text": [
        "\r",
        " 63%|\u2588\u2588\u2588\u2588\u2588\u2588\u258e   | 316/501 [21:26:03<1:43:41, 33.63s/it]"
       ]
      },
      {
       "output_type": "stream",
       "stream": "stderr",
       "text": [
        "\r",
        " 63%|\u2588\u2588\u2588\u2588\u2588\u2588\u258e   | 317/501 [21:26:38<1:43:54, 33.88s/it]"
       ]
      },
      {
       "output_type": "stream",
       "stream": "stderr",
       "text": [
        "\r",
        " 63%|\u2588\u2588\u2588\u2588\u2588\u2588\u258e   | 318/501 [21:27:13<1:44:10, 34.15s/it]"
       ]
      },
      {
       "output_type": "stream",
       "stream": "stderr",
       "text": [
        "\r",
        " 64%|\u2588\u2588\u2588\u2588\u2588\u2588\u258e   | 319/501 [21:27:47<1:43:41, 34.19s/it]"
       ]
      },
      {
       "output_type": "stream",
       "stream": "stderr",
       "text": [
        "\r",
        " 64%|\u2588\u2588\u2588\u2588\u2588\u2588\u258d   | 320/501 [21:28:21<1:42:38, 34.02s/it]"
       ]
      },
      {
       "output_type": "stream",
       "stream": "stderr",
       "text": [
        "\r",
        " 64%|\u2588\u2588\u2588\u2588\u2588\u2588\u258d   | 321/501 [21:28:55<1:42:24, 34.13s/it]"
       ]
      },
      {
       "output_type": "stream",
       "stream": "stderr",
       "text": [
        "\r",
        " 64%|\u2588\u2588\u2588\u2588\u2588\u2588\u258d   | 322/501 [21:29:30<1:42:12, 34.26s/it]"
       ]
      },
      {
       "output_type": "stream",
       "stream": "stderr",
       "text": [
        "\r",
        " 64%|\u2588\u2588\u2588\u2588\u2588\u2588\u258d   | 323/501 [21:30:04<1:42:03, 34.40s/it]"
       ]
      },
      {
       "output_type": "stream",
       "stream": "stderr",
       "text": [
        "\r",
        " 65%|\u2588\u2588\u2588\u2588\u2588\u2588\u258d   | 324/501 [21:30:39<1:42:04, 34.60s/it]"
       ]
      },
      {
       "output_type": "stream",
       "stream": "stderr",
       "text": [
        "\r",
        " 65%|\u2588\u2588\u2588\u2588\u2588\u2588\u258d   | 325/501 [21:31:14<1:41:18, 34.54s/it]"
       ]
      },
      {
       "output_type": "stream",
       "stream": "stderr",
       "text": [
        "\r",
        " 65%|\u2588\u2588\u2588\u2588\u2588\u2588\u258c   | 326/501 [21:31:49<1:40:58, 34.62s/it]"
       ]
      },
      {
       "output_type": "stream",
       "stream": "stderr",
       "text": [
        "\r",
        " 65%|\u2588\u2588\u2588\u2588\u2588\u2588\u258c   | 327/501 [21:32:23<1:40:01, 34.49s/it]"
       ]
      },
      {
       "output_type": "stream",
       "stream": "stderr",
       "text": [
        "\r",
        " 65%|\u2588\u2588\u2588\u2588\u2588\u2588\u258c   | 328/501 [21:32:57<1:38:58, 34.33s/it]"
       ]
      },
      {
       "output_type": "stream",
       "stream": "stderr",
       "text": [
        "\r",
        " 66%|\u2588\u2588\u2588\u2588\u2588\u2588\u258c   | 329/501 [21:33:32<1:39:16, 34.63s/it]"
       ]
      },
      {
       "output_type": "stream",
       "stream": "stderr",
       "text": [
        "\r",
        " 66%|\u2588\u2588\u2588\u2588\u2588\u2588\u258c   | 330/501 [21:34:06<1:38:19, 34.50s/it]"
       ]
      },
      {
       "output_type": "stream",
       "stream": "stderr",
       "text": [
        "\r",
        " 66%|\u2588\u2588\u2588\u2588\u2588\u2588\u258c   | 331/501 [21:34:40<1:37:21, 34.36s/it]"
       ]
      },
      {
       "output_type": "stream",
       "stream": "stderr",
       "text": [
        "\r",
        " 66%|\u2588\u2588\u2588\u2588\u2588\u2588\u258b   | 332/501 [21:35:14<1:36:07, 34.13s/it]"
       ]
      },
      {
       "output_type": "stream",
       "stream": "stderr",
       "text": [
        "\r",
        " 66%|\u2588\u2588\u2588\u2588\u2588\u2588\u258b   | 333/501 [21:35:47<1:35:05, 33.96s/it]"
       ]
      },
      {
       "output_type": "stream",
       "stream": "stderr",
       "text": [
        "\r",
        " 67%|\u2588\u2588\u2588\u2588\u2588\u2588\u258b   | 334/501 [21:36:21<1:34:02, 33.79s/it]"
       ]
      },
      {
       "output_type": "stream",
       "stream": "stderr",
       "text": [
        "\r",
        " 67%|\u2588\u2588\u2588\u2588\u2588\u2588\u258b   | 335/501 [21:36:55<1:33:30, 33.80s/it]"
       ]
      },
      {
       "output_type": "stream",
       "stream": "stderr",
       "text": [
        "\r",
        " 67%|\u2588\u2588\u2588\u2588\u2588\u2588\u258b   | 336/501 [21:37:28<1:32:48, 33.75s/it]"
       ]
      },
      {
       "output_type": "stream",
       "stream": "stderr",
       "text": [
        "\r",
        " 67%|\u2588\u2588\u2588\u2588\u2588\u2588\u258b   | 337/501 [21:38:02<1:32:27, 33.83s/it]"
       ]
      },
      {
       "output_type": "stream",
       "stream": "stderr",
       "text": [
        "\r",
        " 67%|\u2588\u2588\u2588\u2588\u2588\u2588\u258b   | 338/501 [21:38:37<1:32:15, 33.96s/it]"
       ]
      },
      {
       "output_type": "stream",
       "stream": "stderr",
       "text": [
        "\r",
        " 68%|\u2588\u2588\u2588\u2588\u2588\u2588\u258a   | 339/501 [21:39:10<1:31:24, 33.86s/it]"
       ]
      },
      {
       "output_type": "stream",
       "stream": "stderr",
       "text": [
        "\r",
        " 68%|\u2588\u2588\u2588\u2588\u2588\u2588\u258a   | 340/501 [21:39:45<1:31:17, 34.02s/it]"
       ]
      },
      {
       "output_type": "stream",
       "stream": "stderr",
       "text": [
        "\r",
        " 68%|\u2588\u2588\u2588\u2588\u2588\u2588\u258a   | 341/501 [21:40:19<1:31:01, 34.13s/it]"
       ]
      },
      {
       "output_type": "stream",
       "stream": "stderr",
       "text": [
        "\r",
        " 68%|\u2588\u2588\u2588\u2588\u2588\u2588\u258a   | 342/501 [21:40:53<1:30:38, 34.21s/it]"
       ]
      },
      {
       "output_type": "stream",
       "stream": "stderr",
       "text": [
        "\r",
        " 68%|\u2588\u2588\u2588\u2588\u2588\u2588\u258a   | 343/501 [21:41:28<1:30:28, 34.36s/it]"
       ]
      },
      {
       "output_type": "stream",
       "stream": "stderr",
       "text": [
        "\r",
        " 69%|\u2588\u2588\u2588\u2588\u2588\u2588\u258a   | 344/501 [21:42:02<1:29:21, 34.15s/it]"
       ]
      },
      {
       "output_type": "stream",
       "stream": "stderr",
       "text": [
        "\r",
        " 69%|\u2588\u2588\u2588\u2588\u2588\u2588\u2589   | 345/501 [21:42:36<1:28:38, 34.09s/it]"
       ]
      },
      {
       "output_type": "stream",
       "stream": "stderr",
       "text": [
        "\r",
        " 69%|\u2588\u2588\u2588\u2588\u2588\u2588\u2589   | 346/501 [21:43:10<1:27:53, 34.02s/it]"
       ]
      },
      {
       "output_type": "stream",
       "stream": "stderr",
       "text": [
        "\r",
        " 69%|\u2588\u2588\u2588\u2588\u2588\u2588\u2589   | 347/501 [21:43:44<1:27:18, 34.02s/it]"
       ]
      },
      {
       "output_type": "stream",
       "stream": "stderr",
       "text": [
        "\r",
        " 69%|\u2588\u2588\u2588\u2588\u2588\u2588\u2589   | 348/501 [21:44:17<1:26:32, 33.94s/it]"
       ]
      },
      {
       "output_type": "stream",
       "stream": "stderr",
       "text": [
        "\r",
        " 70%|\u2588\u2588\u2588\u2588\u2588\u2588\u2589   | 349/501 [21:44:51<1:25:51, 33.89s/it]"
       ]
      },
      {
       "output_type": "stream",
       "stream": "stderr",
       "text": [
        "\r",
        " 70%|\u2588\u2588\u2588\u2588\u2588\u2588\u2589   | 350/501 [21:45:25<1:25:15, 33.88s/it]"
       ]
      },
      {
       "output_type": "stream",
       "stream": "stderr",
       "text": [
        "\r",
        " 70%|\u2588\u2588\u2588\u2588\u2588\u2588\u2588   | 351/501 [21:45:59<1:24:28, 33.79s/it]"
       ]
      },
      {
       "output_type": "stream",
       "stream": "stderr",
       "text": [
        "\r",
        " 70%|\u2588\u2588\u2588\u2588\u2588\u2588\u2588   | 352/501 [21:46:33<1:24:37, 34.08s/it]"
       ]
      },
      {
       "output_type": "stream",
       "stream": "stderr",
       "text": [
        "\r",
        " 70%|\u2588\u2588\u2588\u2588\u2588\u2588\u2588   | 353/501 [21:47:07<1:24:02, 34.07s/it]"
       ]
      },
      {
       "output_type": "stream",
       "stream": "stderr",
       "text": [
        "\r",
        " 71%|\u2588\u2588\u2588\u2588\u2588\u2588\u2588   | 354/501 [21:47:42<1:23:54, 34.25s/it]"
       ]
      },
      {
       "output_type": "stream",
       "stream": "stderr",
       "text": [
        "\r",
        " 71%|\u2588\u2588\u2588\u2588\u2588\u2588\u2588   | 355/501 [21:48:16<1:22:49, 34.04s/it]"
       ]
      },
      {
       "output_type": "stream",
       "stream": "stderr",
       "text": [
        "\r",
        " 71%|\u2588\u2588\u2588\u2588\u2588\u2588\u2588   | 356/501 [21:48:50<1:22:21, 34.08s/it]"
       ]
      },
      {
       "output_type": "stream",
       "stream": "stderr",
       "text": [
        "\r",
        " 71%|\u2588\u2588\u2588\u2588\u2588\u2588\u2588\u258f  | 357/501 [21:49:24<1:21:52, 34.12s/it]"
       ]
      },
      {
       "output_type": "stream",
       "stream": "stderr",
       "text": [
        "\r",
        " 71%|\u2588\u2588\u2588\u2588\u2588\u2588\u2588\u258f  | 358/501 [21:49:57<1:20:47, 33.90s/it]"
       ]
      },
      {
       "output_type": "stream",
       "stream": "stderr",
       "text": [
        "\r",
        " 72%|\u2588\u2588\u2588\u2588\u2588\u2588\u2588\u258f  | 359/501 [21:50:31<1:20:22, 33.96s/it]"
       ]
      },
      {
       "output_type": "stream",
       "stream": "stderr",
       "text": [
        "\r",
        " 72%|\u2588\u2588\u2588\u2588\u2588\u2588\u2588\u258f  | 360/501 [21:51:05<1:19:45, 33.94s/it]"
       ]
      },
      {
       "output_type": "stream",
       "stream": "stderr",
       "text": [
        "\r",
        " 72%|\u2588\u2588\u2588\u2588\u2588\u2588\u2588\u258f  | 361/501 [21:51:39<1:19:06, 33.91s/it]"
       ]
      },
      {
       "output_type": "stream",
       "stream": "stderr",
       "text": [
        "\r",
        " 72%|\u2588\u2588\u2588\u2588\u2588\u2588\u2588\u258f  | 362/501 [21:52:13<1:18:34, 33.92s/it]"
       ]
      },
      {
       "output_type": "stream",
       "stream": "stderr",
       "text": [
        "\r",
        " 72%|\u2588\u2588\u2588\u2588\u2588\u2588\u2588\u258f  | 363/501 [21:52:48<1:18:37, 34.19s/it]"
       ]
      },
      {
       "output_type": "stream",
       "stream": "stderr",
       "text": [
        "\r",
        " 73%|\u2588\u2588\u2588\u2588\u2588\u2588\u2588\u258e  | 364/501 [21:53:22<1:18:20, 34.31s/it]"
       ]
      },
      {
       "output_type": "stream",
       "stream": "stderr",
       "text": [
        "\r",
        " 73%|\u2588\u2588\u2588\u2588\u2588\u2588\u2588\u258e  | 365/501 [21:53:58<1:18:32, 34.65s/it]"
       ]
      },
      {
       "output_type": "stream",
       "stream": "stderr",
       "text": [
        "\r",
        " 73%|\u2588\u2588\u2588\u2588\u2588\u2588\u2588\u258e  | 366/501 [21:54:32<1:17:46, 34.57s/it]"
       ]
      },
      {
       "output_type": "stream",
       "stream": "stderr",
       "text": [
        "\r",
        " 73%|\u2588\u2588\u2588\u2588\u2588\u2588\u2588\u258e  | 367/501 [21:55:06<1:16:51, 34.41s/it]"
       ]
      },
      {
       "output_type": "stream",
       "stream": "stderr",
       "text": [
        "\r",
        " 73%|\u2588\u2588\u2588\u2588\u2588\u2588\u2588\u258e  | 368/501 [21:55:41<1:16:39, 34.59s/it]"
       ]
      },
      {
       "output_type": "stream",
       "stream": "stderr",
       "text": [
        "\r",
        " 74%|\u2588\u2588\u2588\u2588\u2588\u2588\u2588\u258e  | 369/501 [21:56:15<1:15:48, 34.46s/it]"
       ]
      },
      {
       "output_type": "stream",
       "stream": "stderr",
       "text": [
        "\r",
        " 74%|\u2588\u2588\u2588\u2588\u2588\u2588\u2588\u258d  | 370/501 [21:56:50<1:15:09, 34.42s/it]"
       ]
      },
      {
       "output_type": "stream",
       "stream": "stderr",
       "text": [
        "\r",
        " 74%|\u2588\u2588\u2588\u2588\u2588\u2588\u2588\u258d  | 371/501 [21:57:25<1:14:51, 34.55s/it]"
       ]
      },
      {
       "output_type": "stream",
       "stream": "stderr",
       "text": [
        "\r",
        " 74%|\u2588\u2588\u2588\u2588\u2588\u2588\u2588\u258d  | 372/501 [21:57:59<1:14:22, 34.59s/it]"
       ]
      },
      {
       "output_type": "stream",
       "stream": "stderr",
       "text": [
        "\r",
        " 74%|\u2588\u2588\u2588\u2588\u2588\u2588\u2588\u258d  | 373/501 [21:58:35<1:14:08, 34.76s/it]"
       ]
      },
      {
       "output_type": "stream",
       "stream": "stderr",
       "text": [
        "\r",
        " 75%|\u2588\u2588\u2588\u2588\u2588\u2588\u2588\u258d  | 374/501 [21:59:08<1:12:53, 34.44s/it]"
       ]
      },
      {
       "output_type": "stream",
       "stream": "stderr",
       "text": [
        "\r",
        " 75%|\u2588\u2588\u2588\u2588\u2588\u2588\u2588\u258d  | 375/501 [21:59:42<1:11:44, 34.16s/it]"
       ]
      },
      {
       "output_type": "stream",
       "stream": "stderr",
       "text": [
        "\r",
        " 75%|\u2588\u2588\u2588\u2588\u2588\u2588\u2588\u258c  | 376/501 [22:00:16<1:11:02, 34.10s/it]"
       ]
      },
      {
       "output_type": "stream",
       "stream": "stderr",
       "text": [
        "\r",
        " 75%|\u2588\u2588\u2588\u2588\u2588\u2588\u2588\u258c  | 377/501 [22:00:49<1:10:13, 33.98s/it]"
       ]
      },
      {
       "output_type": "stream",
       "stream": "stderr",
       "text": [
        "\r",
        " 75%|\u2588\u2588\u2588\u2588\u2588\u2588\u2588\u258c  | 378/501 [22:01:23<1:09:15, 33.79s/it]"
       ]
      },
      {
       "output_type": "stream",
       "stream": "stderr",
       "text": [
        "\r",
        " 76%|\u2588\u2588\u2588\u2588\u2588\u2588\u2588\u258c  | 379/501 [22:02:13<1:18:43, 38.71s/it]"
       ]
      },
      {
       "output_type": "stream",
       "stream": "stderr",
       "text": [
        "\r",
        " 76%|\u2588\u2588\u2588\u2588\u2588\u2588\u2588\u258c  | 380/501 [22:03:05<1:25:55, 42.61s/it]"
       ]
      },
      {
       "output_type": "stream",
       "stream": "stderr",
       "text": [
        "\r",
        " 76%|\u2588\u2588\u2588\u2588\u2588\u2588\u2588\u258c  | 381/501 [22:03:38<1:19:33, 39.78s/it]"
       ]
      },
      {
       "output_type": "stream",
       "stream": "stderr",
       "text": [
        "\r",
        " 76%|\u2588\u2588\u2588\u2588\u2588\u2588\u2588\u258c  | 382/501 [22:04:11<1:15:06, 37.87s/it]"
       ]
      },
      {
       "output_type": "stream",
       "stream": "stderr",
       "text": [
        "\r",
        " 76%|\u2588\u2588\u2588\u2588\u2588\u2588\u2588\u258b  | 383/501 [22:04:45<1:11:48, 36.51s/it]"
       ]
      },
      {
       "output_type": "stream",
       "stream": "stderr",
       "text": [
        "\r",
        " 77%|\u2588\u2588\u2588\u2588\u2588\u2588\u2588\u258b  | 384/501 [22:05:18<1:09:25, 35.60s/it]"
       ]
      },
      {
       "output_type": "stream",
       "stream": "stderr",
       "text": [
        "\r",
        " 77%|\u2588\u2588\u2588\u2588\u2588\u2588\u2588\u258b  | 385/501 [22:05:52<1:08:03, 35.21s/it]"
       ]
      },
      {
       "output_type": "stream",
       "stream": "stderr",
       "text": [
        "\r",
        " 77%|\u2588\u2588\u2588\u2588\u2588\u2588\u2588\u258b  | 386/501 [22:06:27<1:07:10, 35.05s/it]"
       ]
      },
      {
       "output_type": "stream",
       "stream": "stderr",
       "text": [
        "\r",
        " 77%|\u2588\u2588\u2588\u2588\u2588\u2588\u2588\u258b  | 387/501 [22:07:01<1:05:59, 34.73s/it]"
       ]
      },
      {
       "output_type": "stream",
       "stream": "stderr",
       "text": [
        "\r",
        " 77%|\u2588\u2588\u2588\u2588\u2588\u2588\u2588\u258b  | 388/501 [22:07:35<1:04:46, 34.39s/it]"
       ]
      },
      {
       "output_type": "stream",
       "stream": "stderr",
       "text": [
        "\r",
        " 78%|\u2588\u2588\u2588\u2588\u2588\u2588\u2588\u258a  | 389/501 [22:08:08<1:03:48, 34.19s/it]"
       ]
      },
      {
       "output_type": "stream",
       "stream": "stderr",
       "text": [
        "\r",
        " 78%|\u2588\u2588\u2588\u2588\u2588\u2588\u2588\u258a  | 390/501 [22:08:43<1:03:29, 34.32s/it]"
       ]
      },
      {
       "output_type": "stream",
       "stream": "stderr",
       "text": [
        "\r",
        " 78%|\u2588\u2588\u2588\u2588\u2588\u2588\u2588\u258a  | 391/501 [22:09:18<1:03:11, 34.47s/it]"
       ]
      },
      {
       "output_type": "stream",
       "stream": "stderr",
       "text": [
        "\r",
        " 78%|\u2588\u2588\u2588\u2588\u2588\u2588\u2588\u258a  | 392/501 [22:09:53<1:02:51, 34.60s/it]"
       ]
      },
      {
       "output_type": "stream",
       "stream": "stderr",
       "text": [
        "\r",
        " 78%|\u2588\u2588\u2588\u2588\u2588\u2588\u2588\u258a  | 393/501 [22:10:27<1:01:52, 34.37s/it]"
       ]
      },
      {
       "output_type": "stream",
       "stream": "stderr",
       "text": [
        "\r",
        " 79%|\u2588\u2588\u2588\u2588\u2588\u2588\u2588\u258a  | 394/501 [22:11:01<1:01:31, 34.50s/it]"
       ]
      },
      {
       "output_type": "stream",
       "stream": "stderr",
       "text": [
        "\r",
        " 79%|\u2588\u2588\u2588\u2588\u2588\u2588\u2588\u2589  | 395/501 [22:11:35<1:00:19, 34.15s/it]"
       ]
      },
      {
       "output_type": "stream",
       "stream": "stderr",
       "text": [
        "\r",
        " 79%|\u2588\u2588\u2588\u2588\u2588\u2588\u2588\u2589  | 396/501 [22:12:09<59:52, 34.21s/it]  "
       ]
      },
      {
       "output_type": "stream",
       "stream": "stderr",
       "text": [
        "\r",
        " 79%|\u2588\u2588\u2588\u2588\u2588\u2588\u2588\u2589  | 397/501 [22:12:43<58:56, 34.01s/it]"
       ]
      },
      {
       "output_type": "stream",
       "stream": "stderr",
       "text": [
        "\r",
        " 79%|\u2588\u2588\u2588\u2588\u2588\u2588\u2588\u2589  | 398/501 [22:13:17<58:27, 34.05s/it]"
       ]
      },
      {
       "output_type": "stream",
       "stream": "stderr",
       "text": [
        "\r",
        " 80%|\u2588\u2588\u2588\u2588\u2588\u2588\u2588\u2589  | 399/501 [22:13:51<57:56, 34.08s/it]"
       ]
      },
      {
       "output_type": "stream",
       "stream": "stderr",
       "text": [
        "\r",
        " 80%|\u2588\u2588\u2588\u2588\u2588\u2588\u2588\u2589  | 400/501 [22:14:25<57:14, 34.00s/it]"
       ]
      },
      {
       "output_type": "stream",
       "stream": "stderr",
       "text": [
        "\r",
        " 80%|\u2588\u2588\u2588\u2588\u2588\u2588\u2588\u2588  | 401/501 [22:15:00<57:12, 34.33s/it]"
       ]
      },
      {
       "output_type": "stream",
       "stream": "stderr",
       "text": [
        "\r",
        " 80%|\u2588\u2588\u2588\u2588\u2588\u2588\u2588\u2588  | 402/501 [22:15:35<57:01, 34.56s/it]"
       ]
      },
      {
       "output_type": "stream",
       "stream": "stderr",
       "text": [
        "\r",
        " 80%|\u2588\u2588\u2588\u2588\u2588\u2588\u2588\u2588  | 403/501 [22:16:09<56:04, 34.33s/it]"
       ]
      },
      {
       "output_type": "stream",
       "stream": "stderr",
       "text": [
        "\r",
        " 81%|\u2588\u2588\u2588\u2588\u2588\u2588\u2588\u2588  | 404/501 [22:16:43<55:22, 34.25s/it]"
       ]
      },
      {
       "output_type": "stream",
       "stream": "stderr",
       "text": [
        "\r",
        " 81%|\u2588\u2588\u2588\u2588\u2588\u2588\u2588\u2588  | 405/501 [22:17:17<54:46, 34.24s/it]"
       ]
      },
      {
       "output_type": "stream",
       "stream": "stderr",
       "text": [
        "\r",
        " 81%|\u2588\u2588\u2588\u2588\u2588\u2588\u2588\u2588  | 406/501 [22:17:52<54:29, 34.41s/it]"
       ]
      },
      {
       "output_type": "stream",
       "stream": "stderr",
       "text": [
        "\r",
        " 81%|\u2588\u2588\u2588\u2588\u2588\u2588\u2588\u2588  | 407/501 [22:18:26<53:54, 34.41s/it]"
       ]
      },
      {
       "output_type": "stream",
       "stream": "stderr",
       "text": [
        "\r",
        " 81%|\u2588\u2588\u2588\u2588\u2588\u2588\u2588\u2588\u258f | 408/501 [22:19:01<53:27, 34.49s/it]"
       ]
      },
      {
       "output_type": "stream",
       "stream": "stderr",
       "text": [
        "\r",
        " 82%|\u2588\u2588\u2588\u2588\u2588\u2588\u2588\u2588\u258f | 409/501 [22:19:35<52:52, 34.48s/it]"
       ]
      },
      {
       "output_type": "stream",
       "stream": "stderr",
       "text": [
        "\r",
        " 82%|\u2588\u2588\u2588\u2588\u2588\u2588\u2588\u2588\u258f | 410/501 [22:20:10<52:23, 34.54s/it]"
       ]
      },
      {
       "output_type": "stream",
       "stream": "stderr",
       "text": [
        "\r",
        " 82%|\u2588\u2588\u2588\u2588\u2588\u2588\u2588\u2588\u258f | 411/501 [22:20:44<51:31, 34.35s/it]"
       ]
      },
      {
       "output_type": "stream",
       "stream": "stderr",
       "text": [
        "\r",
        " 82%|\u2588\u2588\u2588\u2588\u2588\u2588\u2588\u2588\u258f | 412/501 [22:21:18<50:58, 34.36s/it]"
       ]
      },
      {
       "output_type": "stream",
       "stream": "stderr",
       "text": [
        "\r",
        " 82%|\u2588\u2588\u2588\u2588\u2588\u2588\u2588\u2588\u258f | 413/501 [22:21:52<50:09, 34.20s/it]"
       ]
      },
      {
       "output_type": "stream",
       "stream": "stderr",
       "text": [
        "\r",
        " 83%|\u2588\u2588\u2588\u2588\u2588\u2588\u2588\u2588\u258e | 414/501 [22:22:27<49:58, 34.47s/it]"
       ]
      },
      {
       "output_type": "stream",
       "stream": "stderr",
       "text": [
        "\r",
        " 83%|\u2588\u2588\u2588\u2588\u2588\u2588\u2588\u2588\u258e | 415/501 [22:23:02<49:38, 34.63s/it]"
       ]
      },
      {
       "output_type": "stream",
       "stream": "stderr",
       "text": [
        "\r",
        " 83%|\u2588\u2588\u2588\u2588\u2588\u2588\u2588\u2588\u258e | 416/501 [22:23:37<49:09, 34.70s/it]"
       ]
      },
      {
       "output_type": "stream",
       "stream": "stderr",
       "text": [
        "\r",
        " 83%|\u2588\u2588\u2588\u2588\u2588\u2588\u2588\u2588\u258e | 417/501 [22:24:11<48:25, 34.59s/it]"
       ]
      },
      {
       "output_type": "stream",
       "stream": "stderr",
       "text": [
        "\r",
        " 83%|\u2588\u2588\u2588\u2588\u2588\u2588\u2588\u2588\u258e | 418/501 [22:24:45<47:39, 34.46s/it]"
       ]
      },
      {
       "output_type": "stream",
       "stream": "stderr",
       "text": [
        "\r",
        " 84%|\u2588\u2588\u2588\u2588\u2588\u2588\u2588\u2588\u258e | 419/501 [22:25:20<47:04, 34.45s/it]"
       ]
      },
      {
       "output_type": "stream",
       "stream": "stderr",
       "text": [
        "\r",
        " 84%|\u2588\u2588\u2588\u2588\u2588\u2588\u2588\u2588\u258d | 420/501 [22:25:55<46:44, 34.62s/it]"
       ]
      },
      {
       "output_type": "stream",
       "stream": "stderr",
       "text": [
        "\r",
        " 84%|\u2588\u2588\u2588\u2588\u2588\u2588\u2588\u2588\u258d | 421/501 [22:26:31<46:42, 35.03s/it]"
       ]
      },
      {
       "output_type": "stream",
       "stream": "stderr",
       "text": [
        "\r",
        " 84%|\u2588\u2588\u2588\u2588\u2588\u2588\u2588\u2588\u258d | 422/501 [22:27:06<46:13, 35.11s/it]"
       ]
      },
      {
       "output_type": "stream",
       "stream": "stderr",
       "text": [
        "\r",
        " 84%|\u2588\u2588\u2588\u2588\u2588\u2588\u2588\u2588\u258d | 423/501 [22:27:41<45:19, 34.87s/it]"
       ]
      },
      {
       "output_type": "stream",
       "stream": "stderr",
       "text": [
        "\r",
        " 85%|\u2588\u2588\u2588\u2588\u2588\u2588\u2588\u2588\u258d | 424/501 [22:28:16<45:04, 35.12s/it]"
       ]
      },
      {
       "output_type": "stream",
       "stream": "stderr",
       "text": [
        "\r",
        " 85%|\u2588\u2588\u2588\u2588\u2588\u2588\u2588\u2588\u258d | 425/501 [22:29:09<51:01, 40.29s/it]"
       ]
      },
      {
       "output_type": "stream",
       "stream": "stderr",
       "text": [
        "\r",
        " 85%|\u2588\u2588\u2588\u2588\u2588\u2588\u2588\u2588\u258c | 426/501 [22:29:43<48:17, 38.63s/it]"
       ]
      },
      {
       "output_type": "stream",
       "stream": "stderr",
       "text": [
        "\r",
        " 85%|\u2588\u2588\u2588\u2588\u2588\u2588\u2588\u2588\u258c | 427/501 [22:30:18<46:04, 37.36s/it]"
       ]
      },
      {
       "output_type": "stream",
       "stream": "stderr",
       "text": [
        "\r",
        " 85%|\u2588\u2588\u2588\u2588\u2588\u2588\u2588\u2588\u258c | 428/501 [22:30:52<44:25, 36.52s/it]"
       ]
      },
      {
       "output_type": "stream",
       "stream": "stderr",
       "text": [
        "\r",
        " 86%|\u2588\u2588\u2588\u2588\u2588\u2588\u2588\u2588\u258c | 429/501 [22:31:28<43:21, 36.13s/it]"
       ]
      },
      {
       "output_type": "stream",
       "stream": "stderr",
       "text": [
        "\r",
        " 86%|\u2588\u2588\u2588\u2588\u2588\u2588\u2588\u2588\u258c | 430/501 [22:32:00<41:36, 35.17s/it]"
       ]
      },
      {
       "output_type": "stream",
       "stream": "stderr",
       "text": [
        "\r",
        " 86%|\u2588\u2588\u2588\u2588\u2588\u2588\u2588\u2588\u258c | 431/501 [22:32:34<40:29, 34.71s/it]"
       ]
      },
      {
       "output_type": "stream",
       "stream": "stderr",
       "text": [
        "\r",
        " 86%|\u2588\u2588\u2588\u2588\u2588\u2588\u2588\u2588\u258c | 432/501 [22:33:09<40:01, 34.80s/it]"
       ]
      },
      {
       "output_type": "stream",
       "stream": "stderr",
       "text": [
        "\r",
        " 86%|\u2588\u2588\u2588\u2588\u2588\u2588\u2588\u2588\u258b | 433/501 [22:33:43<39:07, 34.52s/it]"
       ]
      },
      {
       "output_type": "stream",
       "stream": "stderr",
       "text": [
        "\r",
        " 87%|\u2588\u2588\u2588\u2588\u2588\u2588\u2588\u2588\u258b | 434/501 [22:34:17<38:20, 34.34s/it]"
       ]
      },
      {
       "output_type": "stream",
       "stream": "stderr",
       "text": [
        "\r",
        " 87%|\u2588\u2588\u2588\u2588\u2588\u2588\u2588\u2588\u258b | 435/501 [22:34:52<37:59, 34.54s/it]"
       ]
      },
      {
       "output_type": "stream",
       "stream": "stderr",
       "text": [
        "\r",
        " 87%|\u2588\u2588\u2588\u2588\u2588\u2588\u2588\u2588\u258b | 436/501 [22:35:26<37:22, 34.50s/it]"
       ]
      },
      {
       "output_type": "stream",
       "stream": "stderr",
       "text": [
        "\r",
        " 87%|\u2588\u2588\u2588\u2588\u2588\u2588\u2588\u2588\u258b | 437/501 [22:36:00<36:26, 34.16s/it]"
       ]
      },
      {
       "output_type": "stream",
       "stream": "stderr",
       "text": [
        "\r",
        " 87%|\u2588\u2588\u2588\u2588\u2588\u2588\u2588\u2588\u258b | 438/501 [22:36:34<35:51, 34.15s/it]"
       ]
      },
      {
       "output_type": "stream",
       "stream": "stderr",
       "text": [
        "\r",
        " 88%|\u2588\u2588\u2588\u2588\u2588\u2588\u2588\u2588\u258a | 439/501 [22:37:08<35:12, 34.07s/it]"
       ]
      },
      {
       "output_type": "stream",
       "stream": "stderr",
       "text": [
        "\r",
        " 88%|\u2588\u2588\u2588\u2588\u2588\u2588\u2588\u2588\u258a | 440/501 [22:37:43<34:54, 34.34s/it]"
       ]
      },
      {
       "output_type": "stream",
       "stream": "stderr",
       "text": [
        "\r",
        " 88%|\u2588\u2588\u2588\u2588\u2588\u2588\u2588\u2588\u258a | 441/501 [22:38:17<34:13, 34.22s/it]"
       ]
      },
      {
       "output_type": "stream",
       "stream": "stderr",
       "text": [
        "\r",
        " 88%|\u2588\u2588\u2588\u2588\u2588\u2588\u2588\u2588\u258a | 442/501 [22:38:53<34:10, 34.76s/it]"
       ]
      },
      {
       "output_type": "stream",
       "stream": "stderr",
       "text": [
        "\r",
        " 88%|\u2588\u2588\u2588\u2588\u2588\u2588\u2588\u2588\u258a | 443/501 [22:39:27<33:22, 34.52s/it]"
       ]
      },
      {
       "output_type": "stream",
       "stream": "stderr",
       "text": [
        "\r",
        " 89%|\u2588\u2588\u2588\u2588\u2588\u2588\u2588\u2588\u258a | 444/501 [22:40:01<32:43, 34.45s/it]"
       ]
      },
      {
       "output_type": "stream",
       "stream": "stderr",
       "text": [
        "\r",
        " 89%|\u2588\u2588\u2588\u2588\u2588\u2588\u2588\u2588\u2589 | 445/501 [22:40:36<32:12, 34.52s/it]"
       ]
      },
      {
       "output_type": "stream",
       "stream": "stderr",
       "text": [
        "\r",
        " 89%|\u2588\u2588\u2588\u2588\u2588\u2588\u2588\u2588\u2589 | 446/501 [22:41:10<31:35, 34.46s/it]"
       ]
      },
      {
       "output_type": "stream",
       "stream": "stderr",
       "text": [
        "\r",
        " 89%|\u2588\u2588\u2588\u2588\u2588\u2588\u2588\u2588\u2589 | 447/501 [22:41:45<31:14, 34.71s/it]"
       ]
      },
      {
       "output_type": "stream",
       "stream": "stderr",
       "text": [
        "\r",
        " 89%|\u2588\u2588\u2588\u2588\u2588\u2588\u2588\u2588\u2589 | 448/501 [22:42:19<30:31, 34.55s/it]"
       ]
      },
      {
       "output_type": "stream",
       "stream": "stderr",
       "text": [
        "\r",
        " 90%|\u2588\u2588\u2588\u2588\u2588\u2588\u2588\u2588\u2589 | 449/501 [22:42:53<29:49, 34.41s/it]"
       ]
      },
      {
       "output_type": "stream",
       "stream": "stderr",
       "text": [
        "\r",
        " 90%|\u2588\u2588\u2588\u2588\u2588\u2588\u2588\u2588\u2589 | 450/501 [22:43:27<29:05, 34.22s/it]"
       ]
      },
      {
       "output_type": "stream",
       "stream": "stderr",
       "text": [
        "\r",
        " 90%|\u2588\u2588\u2588\u2588\u2588\u2588\u2588\u2588\u2588 | 451/501 [22:44:02<28:35, 34.32s/it]"
       ]
      },
      {
       "output_type": "stream",
       "stream": "stderr",
       "text": [
        "\r",
        " 90%|\u2588\u2588\u2588\u2588\u2588\u2588\u2588\u2588\u2588 | 452/501 [22:44:35<27:48, 34.05s/it]"
       ]
      },
      {
       "output_type": "stream",
       "stream": "stderr",
       "text": [
        "\r",
        " 90%|\u2588\u2588\u2588\u2588\u2588\u2588\u2588\u2588\u2588 | 453/501 [22:45:10<27:31, 34.40s/it]"
       ]
      },
      {
       "output_type": "stream",
       "stream": "stderr",
       "text": [
        "\r",
        " 91%|\u2588\u2588\u2588\u2588\u2588\u2588\u2588\u2588\u2588 | 454/501 [22:45:45<26:53, 34.33s/it]"
       ]
      },
      {
       "output_type": "stream",
       "stream": "stderr",
       "text": [
        "\r",
        " 91%|\u2588\u2588\u2588\u2588\u2588\u2588\u2588\u2588\u2588 | 455/501 [22:46:19<26:14, 34.24s/it]"
       ]
      },
      {
       "output_type": "stream",
       "stream": "stderr",
       "text": [
        "\r",
        " 91%|\u2588\u2588\u2588\u2588\u2588\u2588\u2588\u2588\u2588 | 456/501 [22:46:52<25:35, 34.13s/it]"
       ]
      },
      {
       "output_type": "stream",
       "stream": "stderr",
       "text": [
        "\r",
        " 91%|\u2588\u2588\u2588\u2588\u2588\u2588\u2588\u2588\u2588 | 457/501 [22:47:27<25:05, 34.21s/it]"
       ]
      },
      {
       "output_type": "stream",
       "stream": "stderr",
       "text": [
        "\r",
        " 91%|\u2588\u2588\u2588\u2588\u2588\u2588\u2588\u2588\u2588\u258f| 458/501 [22:48:01<24:35, 34.32s/it]"
       ]
      },
      {
       "output_type": "stream",
       "stream": "stderr",
       "text": [
        "\r",
        " 92%|\u2588\u2588\u2588\u2588\u2588\u2588\u2588\u2588\u2588\u258f| 459/501 [22:48:35<23:50, 34.05s/it]"
       ]
      },
      {
       "output_type": "stream",
       "stream": "stderr",
       "text": [
        "\r",
        " 92%|\u2588\u2588\u2588\u2588\u2588\u2588\u2588\u2588\u2588\u258f| 460/501 [22:49:10<23:26, 34.32s/it]"
       ]
      },
      {
       "output_type": "stream",
       "stream": "stderr",
       "text": [
        "\r",
        " 92%|\u2588\u2588\u2588\u2588\u2588\u2588\u2588\u2588\u2588\u258f| 461/501 [22:49:44<22:48, 34.21s/it]"
       ]
      },
      {
       "output_type": "stream",
       "stream": "stderr",
       "text": [
        "\r",
        " 92%|\u2588\u2588\u2588\u2588\u2588\u2588\u2588\u2588\u2588\u258f| 462/501 [22:50:17<22:06, 34.00s/it]"
       ]
      },
      {
       "output_type": "stream",
       "stream": "stderr",
       "text": [
        "\r",
        " 92%|\u2588\u2588\u2588\u2588\u2588\u2588\u2588\u2588\u2588\u258f| 463/501 [22:50:51<21:26, 33.86s/it]"
       ]
      },
      {
       "output_type": "stream",
       "stream": "stderr",
       "text": [
        "\r",
        " 93%|\u2588\u2588\u2588\u2588\u2588\u2588\u2588\u2588\u2588\u258e| 464/501 [22:51:25<20:52, 33.85s/it]"
       ]
      },
      {
       "output_type": "stream",
       "stream": "stderr",
       "text": [
        "\r",
        " 93%|\u2588\u2588\u2588\u2588\u2588\u2588\u2588\u2588\u2588\u258e| 465/501 [22:51:58<20:14, 33.72s/it]"
       ]
      },
      {
       "output_type": "stream",
       "stream": "stderr",
       "text": [
        "\r",
        " 93%|\u2588\u2588\u2588\u2588\u2588\u2588\u2588\u2588\u2588\u258e| 466/501 [22:52:33<19:49, 33.99s/it]"
       ]
      },
      {
       "output_type": "stream",
       "stream": "stderr",
       "text": [
        "\r",
        " 93%|\u2588\u2588\u2588\u2588\u2588\u2588\u2588\u2588\u2588\u258e| 467/501 [22:53:06<19:08, 33.77s/it]"
       ]
      },
      {
       "output_type": "stream",
       "stream": "stderr",
       "text": [
        "\r",
        " 93%|\u2588\u2588\u2588\u2588\u2588\u2588\u2588\u2588\u2588\u258e| 468/501 [22:53:40<18:36, 33.84s/it]"
       ]
      },
      {
       "output_type": "stream",
       "stream": "stderr",
       "text": [
        "\r",
        " 94%|\u2588\u2588\u2588\u2588\u2588\u2588\u2588\u2588\u2588\u258e| 469/501 [22:54:13<17:59, 33.73s/it]"
       ]
      },
      {
       "output_type": "stream",
       "stream": "stderr",
       "text": [
        "\r",
        " 94%|\u2588\u2588\u2588\u2588\u2588\u2588\u2588\u2588\u2588\u258d| 470/501 [22:54:47<17:21, 33.60s/it]"
       ]
      },
      {
       "output_type": "stream",
       "stream": "stderr",
       "text": [
        "\r",
        " 94%|\u2588\u2588\u2588\u2588\u2588\u2588\u2588\u2588\u2588\u258d| 471/501 [22:55:20<16:50, 33.67s/it]"
       ]
      },
      {
       "output_type": "stream",
       "stream": "stderr",
       "text": [
        "\r",
        " 94%|\u2588\u2588\u2588\u2588\u2588\u2588\u2588\u2588\u2588\u258d| 472/501 [22:55:55<16:20, 33.83s/it]"
       ]
      },
      {
       "output_type": "stream",
       "stream": "stderr",
       "text": [
        "\r",
        " 94%|\u2588\u2588\u2588\u2588\u2588\u2588\u2588\u2588\u2588\u258d| 473/501 [22:56:28<15:47, 33.82s/it]"
       ]
      },
      {
       "output_type": "stream",
       "stream": "stderr",
       "text": [
        "\r",
        " 95%|\u2588\u2588\u2588\u2588\u2588\u2588\u2588\u2588\u2588\u258d| 474/501 [22:57:02<15:14, 33.87s/it]"
       ]
      },
      {
       "output_type": "stream",
       "stream": "stderr",
       "text": [
        "\r",
        " 95%|\u2588\u2588\u2588\u2588\u2588\u2588\u2588\u2588\u2588\u258d| 475/501 [22:57:36<14:40, 33.86s/it]"
       ]
      },
      {
       "output_type": "stream",
       "stream": "stderr",
       "text": [
        "\r",
        " 95%|\u2588\u2588\u2588\u2588\u2588\u2588\u2588\u2588\u2588\u258c| 476/501 [22:58:11<14:11, 34.06s/it]"
       ]
      },
      {
       "output_type": "stream",
       "stream": "stderr",
       "text": [
        "\r",
        " 95%|\u2588\u2588\u2588\u2588\u2588\u2588\u2588\u2588\u2588\u258c| 477/501 [22:58:45<13:34, 33.94s/it]"
       ]
      },
      {
       "output_type": "stream",
       "stream": "stderr",
       "text": [
        "\r",
        " 95%|\u2588\u2588\u2588\u2588\u2588\u2588\u2588\u2588\u2588\u258c| 478/501 [22:59:18<12:58, 33.85s/it]"
       ]
      },
      {
       "output_type": "stream",
       "stream": "stderr",
       "text": [
        "\r",
        " 96%|\u2588\u2588\u2588\u2588\u2588\u2588\u2588\u2588\u2588\u258c| 479/501 [22:59:52<12:23, 33.79s/it]"
       ]
      },
      {
       "output_type": "stream",
       "stream": "stderr",
       "text": [
        "\r",
        " 96%|\u2588\u2588\u2588\u2588\u2588\u2588\u2588\u2588\u2588\u258c| 480/501 [23:00:26<11:49, 33.81s/it]"
       ]
      },
      {
       "output_type": "stream",
       "stream": "stderr",
       "text": [
        "\r",
        " 96%|\u2588\u2588\u2588\u2588\u2588\u2588\u2588\u2588\u2588\u258c| 481/501 [23:00:59<11:15, 33.80s/it]"
       ]
      },
      {
       "output_type": "stream",
       "stream": "stderr",
       "text": [
        "\r",
        " 96%|\u2588\u2588\u2588\u2588\u2588\u2588\u2588\u2588\u2588\u258c| 482/501 [23:01:34<10:49, 34.17s/it]"
       ]
      },
      {
       "output_type": "stream",
       "stream": "stderr",
       "text": [
        "\r",
        " 96%|\u2588\u2588\u2588\u2588\u2588\u2588\u2588\u2588\u2588\u258b| 483/501 [23:02:08<10:12, 34.02s/it]"
       ]
      },
      {
       "output_type": "stream",
       "stream": "stderr",
       "text": [
        "\r",
        " 97%|\u2588\u2588\u2588\u2588\u2588\u2588\u2588\u2588\u2588\u258b| 484/501 [23:02:44<09:46, 34.47s/it]"
       ]
      },
      {
       "output_type": "stream",
       "stream": "stderr",
       "text": [
        "\r",
        " 97%|\u2588\u2588\u2588\u2588\u2588\u2588\u2588\u2588\u2588\u258b| 485/501 [23:03:17<09:07, 34.20s/it]"
       ]
      },
      {
       "output_type": "stream",
       "stream": "stderr",
       "text": [
        "\r",
        " 97%|\u2588\u2588\u2588\u2588\u2588\u2588\u2588\u2588\u2588\u258b| 486/501 [23:03:52<08:37, 34.51s/it]"
       ]
      },
      {
       "output_type": "stream",
       "stream": "stderr",
       "text": [
        "\r",
        " 97%|\u2588\u2588\u2588\u2588\u2588\u2588\u2588\u2588\u2588\u258b| 487/501 [23:04:26<07:59, 34.28s/it]"
       ]
      },
      {
       "output_type": "stream",
       "stream": "stderr",
       "text": [
        "\r",
        " 97%|\u2588\u2588\u2588\u2588\u2588\u2588\u2588\u2588\u2588\u258b| 488/501 [23:05:03<07:34, 34.98s/it]"
       ]
      },
      {
       "output_type": "stream",
       "stream": "stderr",
       "text": [
        "\r",
        " 98%|\u2588\u2588\u2588\u2588\u2588\u2588\u2588\u2588\u2588\u258a| 489/501 [23:05:37<06:56, 34.71s/it]"
       ]
      },
      {
       "output_type": "stream",
       "stream": "stderr",
       "text": [
        "\r",
        " 98%|\u2588\u2588\u2588\u2588\u2588\u2588\u2588\u2588\u2588\u258a| 490/501 [23:06:11<06:19, 34.47s/it]"
       ]
      },
      {
       "output_type": "stream",
       "stream": "stderr",
       "text": [
        "\r",
        " 98%|\u2588\u2588\u2588\u2588\u2588\u2588\u2588\u2588\u2588\u258a| 491/501 [23:06:45<05:42, 34.27s/it]"
       ]
      },
      {
       "output_type": "stream",
       "stream": "stderr",
       "text": [
        "\r",
        " 98%|\u2588\u2588\u2588\u2588\u2588\u2588\u2588\u2588\u2588\u258a| 492/501 [23:07:19<05:08, 34.32s/it]"
       ]
      },
      {
       "output_type": "stream",
       "stream": "stderr",
       "text": [
        "\r",
        " 98%|\u2588\u2588\u2588\u2588\u2588\u2588\u2588\u2588\u2588\u258a| 493/501 [23:07:54<04:35, 34.47s/it]"
       ]
      },
      {
       "output_type": "stream",
       "stream": "stderr",
       "text": [
        "\r",
        " 99%|\u2588\u2588\u2588\u2588\u2588\u2588\u2588\u2588\u2588\u258a| 494/501 [23:08:29<04:01, 34.53s/it]"
       ]
      },
      {
       "output_type": "stream",
       "stream": "stderr",
       "text": [
        "\r",
        " 99%|\u2588\u2588\u2588\u2588\u2588\u2588\u2588\u2588\u2588\u2589| 495/501 [23:09:03<03:27, 34.54s/it]"
       ]
      },
      {
       "output_type": "stream",
       "stream": "stderr",
       "text": [
        "\r",
        " 99%|\u2588\u2588\u2588\u2588\u2588\u2588\u2588\u2588\u2588\u2589| 496/501 [23:09:37<02:51, 34.34s/it]"
       ]
      },
      {
       "output_type": "stream",
       "stream": "stderr",
       "text": [
        "\r",
        " 99%|\u2588\u2588\u2588\u2588\u2588\u2588\u2588\u2588\u2588\u2589| 497/501 [23:10:12<02:17, 34.48s/it]"
       ]
      },
      {
       "output_type": "stream",
       "stream": "stderr",
       "text": [
        "\r",
        " 99%|\u2588\u2588\u2588\u2588\u2588\u2588\u2588\u2588\u2588\u2589| 498/501 [23:10:45<01:42, 34.13s/it]"
       ]
      },
      {
       "output_type": "stream",
       "stream": "stderr",
       "text": [
        "\r",
        "100%|\u2588\u2588\u2588\u2588\u2588\u2588\u2588\u2588\u2588\u2589| 499/501 [23:11:19<01:08, 34.12s/it]"
       ]
      },
      {
       "output_type": "stream",
       "stream": "stderr",
       "text": [
        "\r",
        "100%|\u2588\u2588\u2588\u2588\u2588\u2588\u2588\u2588\u2588\u2589| 500/501 [23:11:53<00:34, 34.09s/it]"
       ]
      },
      {
       "output_type": "stream",
       "stream": "stderr",
       "text": [
        "\r",
        "100%|\u2588\u2588\u2588\u2588\u2588\u2588\u2588\u2588\u2588\u2588| 501/501 [23:12:27<00:00, 33.98s/it]"
       ]
      },
      {
       "output_type": "stream",
       "stream": "stderr",
       "text": [
        "\n"
       ]
      }
     ],
     "prompt_number": 7
    },
    {
     "cell_type": "code",
     "collapsed": true,
     "input": [],
     "language": "python",
     "metadata": {},
     "outputs": [],
     "prompt_number": null
    },
    {
     "cell_type": "code",
     "collapsed": true,
     "input": [],
     "language": "python",
     "metadata": {},
     "outputs": [],
     "prompt_number": null
    },
    {
     "cell_type": "code",
     "collapsed": true,
     "input": [],
     "language": "python",
     "metadata": {},
     "outputs": [],
     "prompt_number": null
    }
   ],
   "metadata": {}
  }
 ]
}