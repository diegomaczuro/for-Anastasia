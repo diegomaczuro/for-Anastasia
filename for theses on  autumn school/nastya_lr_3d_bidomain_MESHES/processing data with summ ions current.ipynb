{
 "metadata": {
  "name": "",
  "signature": "sha256:f377af3bde69ca455761c1fd07d833e839007d025541bed793ff7ada71c28c13"
 },
 "nbformat": 3,
 "nbformat_minor": 0,
 "worksheets": [
  {
   "cells": [
    {
     "cell_type": "code",
     "collapsed": false,
     "input": [
      "# -*- coding: utf_8 -*-\n",
      "import matplotlib.pylab as plt\n",
      "%matplotlib inline\n",
      "import numpy as np\n",
      "import pandas as pd\n",
      "import vtk\n",
      "from vtk import *\n",
      "from vtk.util import numpy_support\n",
      "import matplotlib.pylab as plt\n",
      "import os\n",
      "import imp\n",
      "import h5py\n",
      "from sklearn.neighbors import KDTree\n",
      "from tqdm import tqdm\n",
      "from sklearn.neighbors import KDTree\n",
      "from vtk.util.numpy_support import vtk_to_numpy\n",
      "from vtk.util.numpy_support import numpy_to_vtk\n",
      "import matplotlib.pylab as plt\n",
      "%matplotlib inline"
     ],
     "language": "python",
     "metadata": {},
     "outputs": [],
     "prompt_number": 3
    },
    {
     "cell_type": "code",
     "collapsed": false,
     "input": [
      "#import os\n",
      "#os.getcwd()\n",
      "FOLDER_3D = 'nastya_lr_3d_bidomain'\n",
      "FOLDER_2D = 'nastya_lr_2d_bidomain'\n",
      "FOLDER_RESULT = 'result'\n",
      "WAY = '/home/shido/Documents/shido/for theses on  autumn school/'\n",
      "FILE_H5 = 'results.h5'\n",
      "FILE_MESH_TURN = 'slice_mesh2.vtk'\n",
      "FILE_MESH = 'init_mesh_1.vtu'\n",
      "FILE_OUT = 'out.vtu'\n",
      "FILE_RESULT_DIFFERCE = 'result_difference_V{ind}.vtu'\n",
      "FILE_RESULT_ARRAY = 'V.txt'\n",
      "POINT_O = 62\n",
      "POINT_A = 6571\n",
      "POINT_B = 785\n",
      "print os.path.exists(os.path.join(WAY, FOLDER_3D, FILE_H5))\n",
      "print os.path.exists(os.path.join(WAY, FOLDER_2D, FILE_MESH))"
     ],
     "language": "python",
     "metadata": {},
     "outputs": [
      {
       "output_type": "stream",
       "stream": "stdout",
       "text": [
        "True\n",
        "True\n"
       ]
      }
     ],
     "prompt_number": 4
    },
    {
     "cell_type": "code",
     "collapsed": false,
     "input": [
      "#2D\n",
      "fl = h5py.File(os.path.join(WAY, FOLDER_2D, FILE_H5), 'r')\n",
      "fl.items()\n",
      "result = fl['Data']\n",
      "#3D\n",
      "fl2 = h5py.File(os.path.join(WAY, FOLDER_3D, FILE_H5), 'r')\n",
      "fl2.items()\n",
      "result2 = fl2['Data']\n",
      "time = len(fl['Data'])\n",
      "time2 = len(fl2['Data'])"
     ],
     "language": "python",
     "metadata": {},
     "outputs": [],
     "prompt_number": 5
    },
    {
     "cell_type": "code",
     "collapsed": false,
     "input": [
      "print len(result[0]), len(result2[0])"
     ],
     "language": "python",
     "metadata": {},
     "outputs": [
      {
       "output_type": "stream",
       "stream": "stdout",
       "text": [
        "11612 "
       ]
      },
      {
       "output_type": "stream",
       "stream": "stdout",
       "text": [
        "151250\n"
       ]
      }
     ],
     "prompt_number": 6
    },
    {
     "cell_type": "code",
     "collapsed": false,
     "input": [
      "print result, result2"
     ],
     "language": "python",
     "metadata": {},
     "outputs": [
      {
       "output_type": "stream",
       "stream": "stdout",
       "text": [
        "<HDF5 dataset \"Data\": shape (501, 11612, 9), type \"<f8\"> <HDF5 dataset \"Data\": shape (501, 151250, 9), type \"<f8\">\n"
       ]
      }
     ],
     "prompt_number": 7
    },
    {
     "cell_type": "code",
     "collapsed": false,
     "input": [
      "#\u0447\u0442\u0435\u043d\u0438\u0435 \u043f\u043b\u043e\u0441\u043a\u043e\u0439 \u0441\u0435\u0442\u043a\u0438, \u0434\u043e \u043a\u043e\u0442\u043e\u0440\u043e\u0439 \u0445\u043e\u0442\u0438\u043c \u0434\u043e\u0432\u0435\u0440\u043d\u0443\u0442\u044c \n",
      "reader = vtkUnstructuredGridReader()\n",
      "reader.SetFileName(os.path.join(WAY, FOLDER_2D, FILE_MESH_TURN))\n",
      "reader.Update()\n",
      "output = reader.GetOutput()\n",
      "points = output.GetPoints()\n",
      "coord_points_data = vtk_to_numpy(points.GetData())\n",
      "\n",
      "#2D \u043d\u0435\u043f\u043e\u0432\u043e\u0440\u043d\u0443\u0442\u0430\u044f \u0441\u0435\u0442\u043a\u0430\n",
      "reader2 = vtk.vtkXMLUnstructuredGridReader()\n",
      "reader2.SetFileName(os.path.join(WAY, FOLDER_2D, FILE_MESH))\n",
      "reader2.Update()\n",
      "ug2 = reader2.GetOutput()\n",
      "points2 = ug2.GetPoints()\n",
      "coord_points_data2 = vtk_to_numpy(points2.GetData())\n",
      "coord_points_data2"
     ],
     "language": "python",
     "metadata": {},
     "outputs": [
      {
       "metadata": {},
       "output_type": "pyout",
       "prompt_number": 8,
       "text": [
        "array([[  9.61786211e-02,  -2.04429841e+00,   0.00000000e+00],\n",
        "       [  8.28930810e-02,  -2.01194692e+00,   0.00000000e+00],\n",
        "       [  7.03818426e-02,  -1.97928941e+00,   0.00000000e+00],\n",
        "       ..., \n",
        "       [ -1.29688776e-03,  -4.46048863e-02,   0.00000000e+00],\n",
        "       [ -6.54880777e-02,  -1.52184874e-01,   0.00000000e+00],\n",
        "       [ -3.08153909e-02,  -8.79336298e-02,   0.00000000e+00]])"
       ]
      }
     ],
     "prompt_number": 8
    },
    {
     "cell_type": "code",
     "collapsed": false,
     "input": [
      "#\u043f\u043e\u043f\u043e\u0440\u043e\u0442 \u043f\u043b\u043e\u0441\u043a\u043e\u0439 \u0441\u0435\u0442\u043a\u0438 \u0434\u043e \u0442\u0440\u0435\u0445\u043c\u0435\u0440\u043d\u043e\u0439 \u0441\u0435\u0442\u043a\u0438\n",
      "vec1 = coord_points_data2[POINT_A] - coord_points_data2[POINT_O]\n",
      "vec2_ = coord_points_data2[POINT_B] - coord_points_data2[POINT_O]\n",
      "vec3 = np.cross(vec1, vec2_)\n",
      "vec2 = np.cross(vec1, vec3)\n",
      "vec1_len = np.linalg.norm(vec1)\n",
      "vec2_len = np.linalg.norm(vec2)\n",
      "vec3_len = np.linalg.norm(vec3)\n",
      "print vec1/vec1_len, vec2/vec2_len, vec3/vec3_len, vec1_len\n",
      "#\u043c\u0430\u0442\u0440\u0438\u0446\u0430 \u043f\u043e\u0432\u043e\u0440\u043e\u0442\u0430\n",
      "L = np.matrix(np.vstack([vec1/vec1_len, vec2/vec2_len, vec3/vec3_len]).T)\n",
      "L_inv = np.linalg.inv(L)\n",
      "print L, L_inv\n",
      "res = np.zeros_like(coord_points_data)\n",
      "print  L*np.matrix(coord_points_data[0]).T\n",
      "print np.reshape(coord_points_data2[POINT_O], (3,1))\n",
      "for i in tqdm(xrange(len(coord_points_data))):\n",
      "    point_transform = L*np.matrix(coord_points_data[i]).T + np.reshape(coord_points_data2[POINT_O], (3,1))\n",
      "    res[i,:] = point_transform[:].T\n",
      "    \n",
      "points = numpy_to_vtk(res, deep=True, array_type=vtk.VTK_FLOAT)\n",
      "vtkpoints = vtkPoints()\n",
      "for i in tqdm(xrange(len(coord_points_data2))):\n",
      "    vtkpoints.InsertPoint(i, res[i, 0], res[i, 1], res[i, 2])\n",
      "output.SetPoints(vtkpoints)"
     ],
     "language": "python",
     "metadata": {},
     "outputs": [
      {
       "output_type": "stream",
       "stream": "stdout",
       "text": [
        "[ 1.  0.  0.] [-0.  1.  0.] [ 0.  0. -1.] 3.21150898933\n",
        "[[ 1. -0.  0.]\n",
        " [ 0.  1.  0.]\n",
        " [ 0.  0. -1.]]"
       ]
      },
      {
       "output_type": "stream",
       "stream": "stderr",
       "text": [
        "\r",
        "  0%|          | 0/11612 [00:00<?, ?it/s]"
       ]
      },
      {
       "output_type": "stream",
       "stream": "stderr",
       "text": [
        "\r",
        "  6%|\u258c         | 695/11612 [00:00<00:01, 6946.73it/s]"
       ]
      },
      {
       "output_type": "stream",
       "stream": "stderr",
       "text": [
        "\r",
        " 17%|\u2588\u258b        | 1953/11612 [00:00<00:01, 8023.70it/s]"
       ]
      },
      {
       "output_type": "stream",
       "stream": "stderr",
       "text": [
        "\r",
        " 28%|\u2588\u2588\u258a       | 3224/11612 [00:00<00:00, 9021.09it/s]"
       ]
      },
      {
       "output_type": "stream",
       "stream": "stderr",
       "text": [
        "\r",
        " 39%|\u2588\u2588\u2588\u2589      | 4507/11612 [00:00<00:00, 9902.05it/s]"
       ]
      },
      {
       "output_type": "stream",
       "stream": "stderr",
       "text": [
        "\r",
        " 50%|\u2588\u2588\u2588\u2588\u2589     | 5788/11612 [00:00<00:00, 10625.39it/s]"
       ]
      },
      {
       "output_type": "stream",
       "stream": "stderr",
       "text": [
        "\r",
        " 61%|\u2588\u2588\u2588\u2588\u2588\u2588    | 7049/11612 [00:00<00:00, 11150.60it/s]"
       ]
      },
      {
       "output_type": "stream",
       "stream": "stderr",
       "text": [
        "\r",
        " 72%|\u2588\u2588\u2588\u2588\u2588\u2588\u2588\u258f  | 8305/11612 [00:00<00:00, 11537.88it/s]"
       ]
      },
      {
       "output_type": "stream",
       "stream": "stderr",
       "text": [
        "\r",
        " 82%|\u2588\u2588\u2588\u2588\u2588\u2588\u2588\u2588\u258f | 9567/11612 [00:00<00:00, 11842.19it/s]"
       ]
      },
      {
       "output_type": "stream",
       "stream": "stderr",
       "text": [
        "\r",
        " 94%|\u2588\u2588\u2588\u2588\u2588\u2588\u2588\u2588\u2588\u258e| 10861/11612 [00:00<00:00, 12150.77it/s]"
       ]
      },
      {
       "output_type": "stream",
       "stream": "stderr",
       "text": [
        "\r",
        "100%|\u2588\u2588\u2588\u2588\u2588\u2588\u2588\u2588\u2588\u2588| 11612/11612 [00:00<00:00, 12107.47it/s]"
       ]
      },
      {
       "output_type": "stream",
       "stream": "stderr",
       "text": [
        "\n",
        "\r",
        "  0%|          | 0/11612 [00:00<?, ?it/s]"
       ]
      },
      {
       "output_type": "stream",
       "stream": "stderr",
       "text": [
        "\r",
        "100%|\u2588\u2588\u2588\u2588\u2588\u2588\u2588\u2588\u2588\u2588| 11612/11612 [00:00<00:00, 230529.78it/s]"
       ]
      },
      {
       "output_type": "stream",
       "stream": "stdout",
       "text": [
        " [[ 1.  0.  0.]\n",
        " [ 0.  1.  0.]\n",
        " [-0. -0. -1.]]\n",
        "[[ 2.39657]\n",
        " [ 2.83447]\n",
        " [-2.10755]]\n",
        "[[ 0.]\n",
        " [ 0.]\n",
        " [ 0.]]\n"
       ]
      },
      {
       "output_type": "stream",
       "stream": "stderr",
       "text": [
        "\n"
       ]
      }
     ],
     "prompt_number": 9
    },
    {
     "cell_type": "code",
     "collapsed": false,
     "input": [
      "#\u0447\u0442\u0435\u043d\u0438\u0435 2D \u0441\u0435\u0442\u043a\u0438\n",
      "reader = vtk.vtkXMLUnstructuredGridReader()\n",
      "reader.SetFileName(os.path.join(WAY, FOLDER_2D, FILE_MESH))\n",
      "reader.Update()\n",
      "output = reader.GetOutput() \n",
      "output.SetPoints(vtkpoints)\n",
      "points = output.GetPoints()\n",
      "coord_points = vtk_to_numpy(points.GetData())\n",
      "#\u0447\u0442\u0435\u043d\u0438\u0435 3d \u0441\u0435\u0442\u043a\u0438\n",
      "reader3 = vtk.vtkXMLUnstructuredGridReader()\n",
      "reader3.SetFileName(os.path.join(WAY, FOLDER_3D, FILE_MESH))\n",
      "reader3.Update()\n",
      "output3 = reader3.GetOutput()\n",
      "data = vtk_to_numpy(output3.GetCells().GetData())\n",
      "data\n"
     ],
     "language": "python",
     "metadata": {},
     "outputs": [
      {
       "metadata": {},
       "output_type": "pyout",
       "prompt_number": 10,
       "text": [
        "array([    4, 76540, 76541, ..., 75577, 74255, 74257])"
       ]
      }
     ],
     "prompt_number": 10
    },
    {
     "cell_type": "code",
     "collapsed": false,
     "input": [
      "arr = result[:,18,5]\n",
      "plt.plot(arr)"
     ],
     "language": "python",
     "metadata": {},
     "outputs": [
      {
       "metadata": {},
       "output_type": "pyout",
       "prompt_number": 11,
       "text": [
        "[<matplotlib.lines.Line2D at 0x7efb65b17690>]"
       ]
      },
      {
       "metadata": {},
       "output_type": "display_data",
       "png": "[encoded data removed]",
       "text": [
        "<matplotlib.figure.Figure at 0x7efbe9a2e6d0>"
       ]
      }
     ],
     "prompt_number": 11
    },
    {
     "cell_type": "code",
     "collapsed": false,
     "input": [
      "tetrahedron = []\n",
      "\n",
      "idx = 0\n",
      "\n",
      "while idx < len(data):\n",
      "    if data[idx] == 4:\n",
      "        tetrahedron.append(data[idx+1:idx+5])\n",
      "   \n",
      "    idx += data[idx] + 1\n",
      "    \n",
      "    \n",
      "tetrahedron = np.array(tetrahedron)\n",
      "tetrahedron"
     ],
     "language": "python",
     "metadata": {},
     "outputs": [
      {
       "metadata": {},
       "output_type": "pyout",
       "prompt_number": 12,
       "text": [
        "array([[76540, 76541, 76542, 76543],\n",
        "       [76540, 76544, 76545, 76546],\n",
        "       [76545, 76547, 76543, 76548],\n",
        "       ..., \n",
        "       [75434, 68256, 74255, 74257],\n",
        "       [68256, 74255, 75577, 75432],\n",
        "       [68256, 75577, 74255, 74257]])"
       ]
      }
     ],
     "prompt_number": 12
    },
    {
     "cell_type": "code",
     "collapsed": false,
     "input": [
      "boneLocator = vtk.vtkCellLocator()\n",
      "boneLocator.SetDataSet(output3)\n",
      "boneLocator.BuildLocator()"
     ],
     "language": "python",
     "metadata": {},
     "outputs": [],
     "prompt_number": 13
    },
    {
     "cell_type": "code",
     "collapsed": false,
     "input": [
      "interpolation_V = np.zeros(len(coord_points))#V \u2013 \u043f\u043e\u0442\u0435\u043d\u0446\u0438\u0430\u043b \u0434\u0435\u0439\u0441\u0442\u0432\u0438\u044f \u0432\u043d\u0443\u0442\u0440\u0435\u043a\u043b\u0435\u0442\u043e\u0447\u043d\u043e\u0433\u043e \u0434\u043e\u043c\u0435\u043d\u0430\n",
      "interpolation_V_phi = np.zeros(len(coord_points))#V_phi \u2013 \u043f\u043e\u0442\u0435\u043d\u0446\u0438\u0430\u043b \u0434\u0435\u0439\u0441\u0442\u0432\u0438\u044f \u0432\u043d\u0435\u043a\u043b\u0435\u0442\u043e\u0447\u043d\u043e\u0433\u043e \u0434\u043e\u043c\u0435\u043d\u0430\n",
      "interpolation_I_stim = np.zeros(len(coord_points))#I_stim \u2013 \u0441\u0442\u0438\u043c\u0443\u043b\u0438\u0440\u0443\u044e\u0449\u0438\u0439 \u0442\u043e\u043a\n",
      "interpolation_I_Na = np.zeros(len(coord_points))#I_Na \u2013 \u0431\u044b\u0441\u0442\u0440\u044b\u0439 \u043d\u0430\u0442\u0440\u0438\u0435\u0432\u044b\u0439 \u0442\u043e\u043a\n",
      "interpolation_I_si = np.zeros(len(coord_points))#I_si \u2013 \u043c\u0435\u0434\u043b\u0435\u043d\u043d\u044b\u0439 \u0432\u0445\u043e\u0434\u044f\u0449\u0438\u0439 \u043a\u0430\u043b\u044c\u0446\u0438\u0435\u0432\u044b\u0439 \u0442\u043e\u043a\n",
      "interpolation_I_K = np.zeros(len(coord_points)) #I_K \u2013 \u0438\u0441\u0445\u043e\u0434\u044f\u0449\u0438\u0439 \u043a\u0430\u043b\u0438\u0435\u0432\u044b\u0439 \u0442\u043e\u043a\n",
      "interpolation_I_K1 = np.zeros(len(coord_points))#I_K1 \u2013\n",
      "#\u0442\u043e\u043a \u0430\u043d\u043e\u043c\u0430\u043b\u044c\u043d\u043e\u0433\u043e \u043d\u0430\u043f\u0440\u0430\u0432\u043b\u0435\u043d\u0438\u044f\n",
      "interpolation_I_Kp = np.zeros(len(coord_points))#I_Kp \u2013\u0438\u0441\u0445\u043e\u0434\u044f\u0449\u0438\u0439 \u043a\u0430\u043b\u0438\u0435\u0432\u044b\u0439 \u0442\u043e\u043a \u0432\u043e \u0432\u0440\u0435\u043c\u044f \u0444\u0430\u0437\u044b \u043f\u043b\u0430\u0442\u043e\n",
      "interpolation_I_b = np.zeros(len(coord_points))#I_b \u2013 \u0442\u043e\u043a \u0443\u0442\u0435\u0447\u043a\u0438\n",
      "\n",
      "weight_array = []\n",
      "a_array = []\n",
      "cell = vtk.vtkGenericCell()\n",
      "for i in xrange(len(coord_points)):\n",
      "    pcoords = np.zeros(3)\n",
      "    weights  = np.zeros(4)\n",
      "    a = boneLocator.FindCell(coord_points_data[i], 0.00001, cell, pcoords, weights)\n",
      "    a_array.append(a)\n",
      "    weight_array.append(weights)\n",
      "\n",
      "\n",
      "\n",
      "error_array = []\n",
      "error_phi_array = []\n",
      "\n",
      "assert(os.path.exists(os.path.join(WAY, FOLDER_2D, FILE_H5)))\n",
      "assert(os.path.exists(os.path.join(WAY, FOLDER_3D, FILE_H5)))\n",
      "#time = 400\n",
      "#time2 = 400\n",
      "\n",
      "interpolation_V = np.zeros(len(coord_points))#V \u2013 \u043f\u043e\u0442\u0435\u043d\u0446\u0438\u0430\u043b \u0434\u0435\u0439\u0441\u0442\u0432\u0438\u044f \u0432\u043d\u0443\u0442\u0440\u0435\u043a\u043b\u0435\u0442\u043e\u0447\u043d\u043e\u0433\u043e \u0434\u043e\u043c\u0435\u043d\u0430\n",
      "interpolation_V_phi = np.zeros(len(coord_points))#V_phi \u2013 \u043f\u043e\u0442\u0435\u043d\u0446\u0438\u0430\u043b \u0434\u0435\u0439\u0441\u0442\u0432\u0438\u044f \u0432\u043d\u0435\u043a\u043b\u0435\u0442\u043e\u0447\u043d\u043e\u0433\u043e \u0434\u043e\u043c\u0435\u043d\u0430\n",
      "interpolation_I_stim = np.zeros(len(coord_points))#I_stim \u2013 \u0441\u0442\u0438\u043c\u0443\u043b\u0438\u0440\u0443\u044e\u0449\u0438\u0439 \u0442\u043e\u043a\n",
      "interpolation_I_Na = np.zeros(len(coord_points))#I_Na \u2013 \u0431\u044b\u0441\u0442\u0440\u044b\u0439 \u043d\u0430\u0442\u0440\u0438\u0435\u0432\u044b\u0439 \u0442\u043e\u043a\n",
      "interpolation_I_si = np.zeros(len(coord_points))#I_si \u2013 \u043c\u0435\u0434\u043b\u0435\u043d\u043d\u044b\u0439 \u0432\u0445\u043e\u0434\u044f\u0449\u0438\u0439 \u043a\u0430\u043b\u044c\u0446\u0438\u0435\u0432\u044b\u0439 \u0442\u043e\u043a\n",
      "interpolation_I_K = np.zeros(len(coord_points)) #I_K \u2013 \u0438\u0441\u0445\u043e\u0434\u044f\u0449\u0438\u0439 \u043a\u0430\u043b\u0438\u0435\u0432\u044b\u0439 \u0442\u043e\u043a\n",
      "interpolation_I_K1 = np.zeros(len(coord_points))#I_K1 \u2013\n",
      "#\u0442\u043e\u043a \u0430\u043d\u043e\u043c\u0430\u043b\u044c\u043d\u043e\u0433\u043e \u043d\u0430\u043f\u0440\u0430\u0432\u043b\u0435\u043d\u0438\u044f\n",
      "interpolation_I_Kp = np.zeros(len(coord_points))#I_Kp \u2013\u0438\u0441\u0445\u043e\u0434\u044f\u0449\u0438\u0439 \u043a\u0430\u043b\u0438\u0435\u0432\u044b\u0439 \u0442\u043e\u043a \u0432\u043e \u0432\u0440\u0435\u043c\u044f \u0444\u0430\u0437\u044b \u043f\u043b\u0430\u0442\u043e\n",
      "interpolation_I_b = np.zeros(len(coord_points))#I_b \u2013 \u0442\u043e\u043a \u0443\u0442\u0435\u0447\u043a\u0438\n",
      "\n",
      "interpolation_V_ = np.zeros(len(coord_points))#V \u2013 \u043f\u043e\u0442\u0435\u043d\u0446\u0438\u0430\u043b \u0434\u0435\u0439\u0441\u0442\u0432\u0438\u044f \u0432\u043d\u0443\u0442\u0440\u0435\u043a\u043b\u0435\u0442\u043e\u0447\u043d\u043e\u0433\u043e \u0434\u043e\u043c\u0435\u043d\u0430\n",
      "interpolation_V_phi_ = np.zeros(len(coord_points))#V_phi \u2013 \u043f\u043e\u0442\u0435\u043d\u0446\u0438\u0430\u043b \u0434\u0435\u0439\u0441\u0442\u0432\u0438\u044f \u0432\u043d\u0435\u043a\u043b\u0435\u0442\u043e\u0447\u043d\u043e\u0433\u043e \u0434\u043e\u043c\u0435\u043d\u0430\n",
      "interpolation_I_stim_ = np.zeros(len(coord_points))#I_stim \u2013 \u0441\u0442\u0438\u043c\u0443\u043b\u0438\u0440\u0443\u044e\u0449\u0438\u0439 \u0442\u043e\u043a\n",
      "interpolation_I_Na_ = np.zeros(len(coord_points))#I_Na \u2013 \u0431\u044b\u0441\u0442\u0440\u044b\u0439 \u043d\u0430\u0442\u0440\u0438\u0435\u0432\u044b\u0439 \u0442\u043e\u043a\n",
      "interpolation_I_si_ = np.zeros(len(coord_points))#I_si \u2013 \u043c\u0435\u0434\u043b\u0435\u043d\u043d\u044b\u0439 \u0432\u0445\u043e\u0434\u044f\u0449\u0438\u0439 \u043a\u0430\u043b\u044c\u0446\u0438\u0435\u0432\u044b\u0439 \u0442\u043e\u043a\n",
      "interpolation_I_K_ = np.zeros(len(coord_points)) #I_K \u2013 \u0438\u0441\u0445\u043e\u0434\u044f\u0449\u0438\u0439 \u043a\u0430\u043b\u0438\u0435\u0432\u044b\u0439 \u0442\u043e\u043a\n",
      "interpolation_I_K1_ = np.zeros(len(coord_points))#I_K1 \u2013\n",
      "#\u0442\u043e\u043a \u0430\u043d\u043e\u043c\u0430\u043b\u044c\u043d\u043e\u0433\u043e \u043d\u0430\u043f\u0440\u0430\u0432\u043b\u0435\u043d\u0438\u044f\n",
      "interpolation_I_Kp_ = np.zeros(len(coord_points))#I_Kp \u2013\u0438\u0441\u0445\u043e\u0434\u044f\u0449\u0438\u0439 \u043a\u0430\u043b\u0438\u0435\u0432\u044b\u0439 \u0442\u043e\u043a \u0432\u043e \u0432\u0440\u0435\u043c\u044f \u0444\u0430\u0437\u044b \u043f\u043b\u0430\u0442\u043e\n",
      "interpolation_I_b_ = np.zeros(len(coord_points))#I_b \u2013 \u0442\u043e\u043a \u0443\u0442\u0435\u0447\u043a\u0438"
     ],
     "language": "python",
     "metadata": {},
     "outputs": [],
     "prompt_number": 20
    },
    {
     "cell_type": "code",
     "collapsed": false,
     "input": [
      "for l in tqdm(xrange(0, min(time, time2))):\n",
      "    #\u0447\u0442\u0435\u043d\u0438\u0435 2d \u0441\u0435\u0442\u043a\u0438\n",
      "    scalars_V_2D = fl['Data'][l,:,4]        \n",
      "    data_V_phi_2D = fl['Data'][l,:,5]\n",
      "    #\u0447\u0442\u0435\u043d\u0438\u0435 3d \u0441\u0435\u0442\u043a\u0438\n",
      "    scalars_V_3D = fl2['Data'][l,:,4]        \n",
      "    data_phi_e3 = fl2['Data'][l,:,5]\n",
      "    #\u0447\u0442\u0435\u043d\u0438\u0435 2d \u0441\u0435\u0442\u043a\u0438\n",
      "    \n",
      "    \n",
      "    for i in xrange(len(coord_points)):\n",
      "        pcoords = np.zeros(3)\n",
      "        weights  = weight_array[i]          \n",
      "        points_scalars = scalars_V_3D[tetrahedron[a_array[i]]]\n",
      "        points_scalars_phi = data_phi_e3[tetrahedron[a_array[i]]]\n",
      "        interpolation_V[i] = np.dot(weights, points_scalars)\n",
      "        interpolation_V_phi[i] = np.dot(weights, points_scalars_phi)\n",
      "        interpolation_V_[i] = interpolation_V[i] - scalars_V_2D[i]\n",
      "        interpolation_V_phi_[i] = interpolation_V_phi[i] - data_V_phi_2D[i]\n",
      "    \n",
      "    \n",
      "           \n",
      "    #error_array.append(np.linalg.norm(interpolation_V - scalars_V_2D))\n",
      "    #error_phi_array.append(np.linalg.norm(interpolation_V_phi - data_V_phi_2D))\n",
      "        \n",
      "    scalar_2d = numpy_to_vtk(scalars_V_2D, deep=True, array_type=vtk.VTK_FLOAT)\n",
      "    scalar_2d.SetName('I_Kp_2D')\n",
      "    output.GetPointData().AddArray(scalar_2d)\n",
      "    \n",
      "    scalar_3d = numpy_to_vtk(interpolation_V, deep=True, array_type=vtk.VTK_FLOAT)\n",
      "    scalar_3d.SetName('I_Kp_3D')\n",
      "    output.GetPointData().AddArray(scalar_3d)\n",
      "    \n",
      "    difference_3d_2d = numpy_to_vtk(interpolation_V_, deep=True, array_type=vtk.VTK_FLOAT)\n",
      "    difference_3d_2d.SetName('I_Kp_difference_3D_2D')\n",
      "    output.GetPointData().AddArray(difference_3d_2d)\n",
      "    \n",
      "    scalar_2d_phi = numpy_to_vtk(data_V_phi_2D, deep=True, array_type=vtk.VTK_FLOAT)\n",
      "    scalar_2d_phi.SetName('I_b_phi_2D')\n",
      "    output.GetPointData().AddArray(scalar_2d_phi)\n",
      "    \n",
      "    scalar_3d_phi = numpy_to_vtk(interpolation_V_phi, deep=True, array_type=vtk.VTK_FLOAT)\n",
      "    scalar_3d_phi.SetName('I_b_phi_3D')\n",
      "    output.GetPointData().AddArray(scalar_3d_phi)\n",
      "    \n",
      "    difference_phi_3d_2d = numpy_to_vtk(interpolation_V_phi_, deep=True, array_type=vtk.VTK_FLOAT)\n",
      "    difference_phi_3d_2d.SetName('I_b_phi_difference_3D_2D')\n",
      "    output.GetPointData().AddArray(difference_phi_3d_2d)\n",
      "    \n",
      "    FILE_RESULT_DIFFERCE = 'result_difference_I_Kp_I_b{ind}.vtu'\n",
      "    writer2 = vtk.vtkXMLUnstructuredGridWriter() # vtu\n",
      "    writer2.SetFileName(os.path.join(WAY, FOLDER_2D, FOLDER_RESULT, FILE_RESULT_DIFFERCE.format(ind = l)))\n",
      "    writer2.SetInputData(output)\n",
      "    writer2.Write()"
     ],
     "language": "python",
     "metadata": {},
     "outputs": [
      {
       "output_type": "stream",
       "stream": "stderr",
       "text": [
        "\r",
        "  0%|          | 0/501 [00:00<?, ?it/s]"
       ]
      },
      {
       "output_type": "stream",
       "stream": "stderr",
       "text": [
        "\r",
        "  0%|          | 1/501 [00:06<53:32,  6.42s/it]"
       ]
      },
      {
       "output_type": "stream",
       "stream": "stderr",
       "text": [
        "\r",
        "  0%|          | 2/501 [00:07<40:33,  4.88s/it]"
       ]
      },
      {
       "output_type": "stream",
       "stream": "stderr",
       "text": [
        "\r",
        "  1%|          | 3/501 [00:08<31:10,  3.76s/it]"
       ]
      },
      {
       "output_type": "stream",
       "stream": "stderr",
       "text": [
        "\r",
        "  1%|          | 4/501 [00:10<24:59,  3.02s/it]"
       ]
      },
      {
       "output_type": "stream",
       "stream": "stderr",
       "text": [
        "\r",
        "  1%|          | 5/501 [00:11<20:16,  2.45s/it]"
       ]
      },
      {
       "output_type": "stream",
       "stream": "stderr",
       "text": [
        "\r",
        "  1%|          | 6/501 [00:12<17:09,  2.08s/it]"
       ]
      },
      {
       "output_type": "stream",
       "stream": "stderr",
       "text": [
        "\r",
        "  1%|\u258f         | 7/501 [00:13<14:58,  1.82s/it]"
       ]
      },
      {
       "output_type": "stream",
       "stream": "stderr",
       "text": [
        "\r",
        "  2%|\u258f         | 8/501 [00:14<13:18,  1.62s/it]"
       ]
      },
      {
       "output_type": "stream",
       "stream": "stderr",
       "text": [
        "\r",
        "  2%|\u258f         | 9/501 [00:16<12:13,  1.49s/it]"
       ]
      },
      {
       "output_type": "stream",
       "stream": "stderr",
       "text": [
        "\r",
        "  2%|\u258f         | 10/501 [00:17<11:16,  1.38s/it]"
       ]
      },
      {
       "output_type": "stream",
       "stream": "stderr",
       "text": [
        "\r",
        "  2%|\u258f         | 11/501 [00:18<10:38,  1.30s/it]"
       ]
      },
      {
       "output_type": "stream",
       "stream": "stderr",
       "text": [
        "\r",
        "  2%|\u258f         | 12/501 [00:19<10:07,  1.24s/it]"
       ]
      },
      {
       "output_type": "stream",
       "stream": "stderr",
       "text": [
        "\r",
        "  3%|\u258e         | 13/501 [00:20<09:46,  1.20s/it]"
       ]
      },
      {
       "output_type": "stream",
       "stream": "stderr",
       "text": [
        "\r",
        "  3%|\u258e         | 14/501 [00:21<09:39,  1.19s/it]"
       ]
      },
      {
       "output_type": "stream",
       "stream": "stderr",
       "text": [
        "\r",
        "  3%|\u258e         | 15/501 [00:22<09:30,  1.17s/it]"
       ]
      },
      {
       "output_type": "stream",
       "stream": "stderr",
       "text": [
        "\r",
        "  3%|\u258e         | 16/501 [00:23<09:24,  1.16s/it]"
       ]
      },
      {
       "output_type": "stream",
       "stream": "stderr",
       "text": [
        "\r",
        "  3%|\u258e         | 17/501 [00:25<09:18,  1.15s/it]"
       ]
      },
      {
       "output_type": "stream",
       "stream": "stderr",
       "text": [
        "\r",
        "  4%|\u258e         | 18/501 [00:26<09:14,  1.15s/it]"
       ]
      },
      {
       "output_type": "stream",
       "stream": "stderr",
       "text": [
        "\r",
        "  4%|\u258d         | 19/501 [00:27<09:09,  1.14s/it]"
       ]
      },
      {
       "output_type": "stream",
       "stream": "stderr",
       "text": [
        "\r",
        "  4%|\u258d         | 20/501 [00:28<09:06,  1.14s/it]"
       ]
      },
      {
       "output_type": "stream",
       "stream": "stderr",
       "text": [
        "\r",
        "  4%|\u258d         | 21/501 [00:29<09:03,  1.13s/it]"
       ]
      },
      {
       "output_type": "stream",
       "stream": "stderr",
       "text": [
        "\r",
        "  4%|\u258d         | 22/501 [00:30<09:06,  1.14s/it]"
       ]
      },
      {
       "output_type": "stream",
       "stream": "stderr",
       "text": [
        "\r",
        "  5%|\u258d         | 23/501 [00:31<09:01,  1.13s/it]"
       ]
      },
      {
       "output_type": "stream",
       "stream": "stderr",
       "text": [
        "\r",
        "  5%|\u258d         | 24/501 [00:32<09:02,  1.14s/it]"
       ]
      },
      {
       "output_type": "stream",
       "stream": "stderr",
       "text": [
        "\r",
        "  5%|\u258d         | 25/501 [00:34<09:02,  1.14s/it]"
       ]
      },
      {
       "output_type": "stream",
       "stream": "stderr",
       "text": [
        "\r",
        "  5%|\u258c         | 26/501 [00:35<09:02,  1.14s/it]"
       ]
      },
      {
       "output_type": "stream",
       "stream": "stderr",
       "text": [
        "\r",
        "  5%|\u258c         | 27/501 [00:36<09:12,  1.17s/it]"
       ]
      },
      {
       "output_type": "stream",
       "stream": "stderr",
       "text": [
        "\r",
        "  6%|\u258c         | 28/501 [00:37<09:21,  1.19s/it]"
       ]
      },
      {
       "output_type": "stream",
       "stream": "stderr",
       "text": [
        "\r",
        "  6%|\u258c         | 29/501 [00:38<09:26,  1.20s/it]"
       ]
      },
      {
       "output_type": "stream",
       "stream": "stderr",
       "text": [
        "\r",
        "  6%|\u258c         | 30/501 [00:40<09:30,  1.21s/it]"
       ]
      },
      {
       "output_type": "stream",
       "stream": "stderr",
       "text": [
        "\r",
        "  6%|\u258c         | 31/501 [00:41<09:30,  1.21s/it]"
       ]
      },
      {
       "output_type": "stream",
       "stream": "stderr",
       "text": [
        "\r",
        "  6%|\u258b         | 32/501 [00:42<09:28,  1.21s/it]"
       ]
      },
      {
       "output_type": "stream",
       "stream": "stderr",
       "text": [
        "\r",
        "  7%|\u258b         | 33/501 [00:43<09:34,  1.23s/it]"
       ]
      },
      {
       "output_type": "stream",
       "stream": "stderr",
       "text": [
        "\r",
        "  7%|\u258b         | 34/501 [00:45<09:34,  1.23s/it]"
       ]
      },
      {
       "output_type": "stream",
       "stream": "stderr",
       "text": [
        "\r",
        "  7%|\u258b         | 35/501 [00:46<09:35,  1.24s/it]"
       ]
      },
      {
       "output_type": "stream",
       "stream": "stderr",
       "text": [
        "\r",
        "  7%|\u258b         | 36/501 [00:47<09:35,  1.24s/it]"
       ]
      },
      {
       "output_type": "stream",
       "stream": "stderr",
       "text": [
        "\r",
        "  7%|\u258b         | 37/501 [00:48<09:20,  1.21s/it]"
       ]
      },
      {
       "output_type": "stream",
       "stream": "stderr",
       "text": [
        "\r",
        "  8%|\u258a         | 38/501 [00:49<09:07,  1.18s/it]"
       ]
      },
      {
       "output_type": "stream",
       "stream": "stderr",
       "text": [
        "\r",
        "  8%|\u258a         | 39/501 [00:51<09:02,  1.17s/it]"
       ]
      },
      {
       "output_type": "stream",
       "stream": "stderr",
       "text": [
        "\r",
        "  8%|\u258a         | 40/501 [00:52<08:55,  1.16s/it]"
       ]
      },
      {
       "output_type": "stream",
       "stream": "stderr",
       "text": [
        "\r",
        "  8%|\u258a         | 41/501 [00:53<08:52,  1.16s/it]"
       ]
      },
      {
       "output_type": "stream",
       "stream": "stderr",
       "text": [
        "\r",
        "  8%|\u258a         | 42/501 [00:54<08:53,  1.16s/it]"
       ]
      },
      {
       "output_type": "stream",
       "stream": "stderr",
       "text": [
        "\r",
        "  9%|\u258a         | 43/501 [01:00<19:53,  2.61s/it]"
       ]
      },
      {
       "output_type": "stream",
       "stream": "stderr",
       "text": [
        "\r",
        "  9%|\u2589         | 44/501 [01:01<16:25,  2.16s/it]"
       ]
      },
      {
       "output_type": "stream",
       "stream": "stderr",
       "text": [
        "\r",
        "  9%|\u2589         | 45/501 [01:02<14:02,  1.85s/it]"
       ]
      },
      {
       "output_type": "stream",
       "stream": "stderr",
       "text": [
        "\r",
        "  9%|\u2589         | 46/501 [01:03<12:20,  1.63s/it]"
       ]
      },
      {
       "output_type": "stream",
       "stream": "stderr",
       "text": [
        "\r",
        "  9%|\u2589         | 47/501 [01:04<11:08,  1.47s/it]"
       ]
      },
      {
       "output_type": "stream",
       "stream": "stderr",
       "text": [
        "\r",
        " 10%|\u2589         | 48/501 [01:06<10:21,  1.37s/it]"
       ]
      },
      {
       "output_type": "stream",
       "stream": "stderr",
       "text": [
        "\r",
        " 10%|\u2589         | 49/501 [01:07<09:45,  1.29s/it]"
       ]
      },
      {
       "output_type": "stream",
       "stream": "stderr",
       "text": [
        "\r",
        " 10%|\u2589         | 50/501 [01:08<09:20,  1.24s/it]"
       ]
      },
      {
       "output_type": "stream",
       "stream": "stderr",
       "text": [
        "\r",
        " 10%|\u2588         | 51/501 [01:09<09:00,  1.20s/it]"
       ]
      },
      {
       "output_type": "stream",
       "stream": "stderr",
       "text": [
        "\r",
        " 10%|\u2588         | 52/501 [01:10<08:56,  1.19s/it]"
       ]
      },
      {
       "output_type": "stream",
       "stream": "stderr",
       "text": [
        "\r",
        " 11%|\u2588         | 53/501 [01:11<08:43,  1.17s/it]"
       ]
      },
      {
       "output_type": "stream",
       "stream": "stderr",
       "text": [
        "\r",
        " 11%|\u2588         | 54/501 [01:12<08:35,  1.15s/it]"
       ]
      },
      {
       "output_type": "stream",
       "stream": "stderr",
       "text": [
        "\r",
        " 11%|\u2588         | 55/501 [01:13<08:30,  1.15s/it]"
       ]
      },
      {
       "output_type": "stream",
       "stream": "stderr",
       "text": [
        "\r",
        " 11%|\u2588         | 56/501 [01:15<08:27,  1.14s/it]"
       ]
      },
      {
       "output_type": "stream",
       "stream": "stderr",
       "text": [
        "\r",
        " 11%|\u2588\u258f        | 57/501 [01:16<08:24,  1.14s/it]"
       ]
      },
      {
       "output_type": "stream",
       "stream": "stderr",
       "text": [
        "\r",
        " 12%|\u2588\u258f        | 58/501 [01:17<08:29,  1.15s/it]"
       ]
      },
      {
       "output_type": "stream",
       "stream": "stderr",
       "text": [
        "\r",
        " 12%|\u2588\u258f        | 59/501 [01:18<08:28,  1.15s/it]"
       ]
      },
      {
       "output_type": "stream",
       "stream": "stderr",
       "text": [
        "\r",
        " 12%|\u2588\u258f        | 60/501 [01:19<08:29,  1.16s/it]"
       ]
      },
      {
       "output_type": "stream",
       "stream": "stderr",
       "text": [
        "\r",
        " 12%|\u2588\u258f        | 61/501 [01:20<08:27,  1.15s/it]"
       ]
      },
      {
       "output_type": "stream",
       "stream": "stderr",
       "text": [
        "\r",
        " 12%|\u2588\u258f        | 62/501 [01:21<08:23,  1.15s/it]"
       ]
      },
      {
       "output_type": "stream",
       "stream": "stderr",
       "text": [
        "\r",
        " 13%|\u2588\u258e        | 63/501 [01:23<08:25,  1.15s/it]"
       ]
      },
      {
       "output_type": "stream",
       "stream": "stderr",
       "text": [
        "\r",
        " 13%|\u2588\u258e        | 64/501 [01:24<08:25,  1.16s/it]"
       ]
      },
      {
       "output_type": "stream",
       "stream": "stderr",
       "text": [
        "\r",
        " 13%|\u2588\u258e        | 65/501 [01:25<08:21,  1.15s/it]"
       ]
      },
      {
       "output_type": "stream",
       "stream": "stderr",
       "text": [
        "\r",
        " 13%|\u2588\u258e        | 66/501 [01:26<08:18,  1.15s/it]"
       ]
      },
      {
       "output_type": "stream",
       "stream": "stderr",
       "text": [
        "\r",
        " 13%|\u2588\u258e        | 67/501 [01:27<08:13,  1.14s/it]"
       ]
      },
      {
       "output_type": "stream",
       "stream": "stderr",
       "text": [
        "\r",
        " 14%|\u2588\u258e        | 68/501 [01:28<08:11,  1.14s/it]"
       ]
      },
      {
       "output_type": "stream",
       "stream": "stderr",
       "text": [
        "\r",
        " 14%|\u2588\u258d        | 69/501 [01:29<08:09,  1.13s/it]"
       ]
      },
      {
       "output_type": "stream",
       "stream": "stderr",
       "text": [
        "\r",
        " 14%|\u2588\u258d        | 70/501 [01:31<08:11,  1.14s/it]"
       ]
      },
      {
       "output_type": "stream",
       "stream": "stderr",
       "text": [
        "\r",
        " 14%|\u2588\u258d        | 71/501 [01:32<08:12,  1.14s/it]"
       ]
      },
      {
       "output_type": "stream",
       "stream": "stderr",
       "text": [
        "\r",
        " 14%|\u2588\u258d        | 72/501 [01:33<08:10,  1.14s/it]"
       ]
      },
      {
       "output_type": "stream",
       "stream": "stderr",
       "text": [
        "\r",
        " 15%|\u2588\u258d        | 73/501 [01:34<08:08,  1.14s/it]"
       ]
      },
      {
       "output_type": "stream",
       "stream": "stderr",
       "text": [
        "\r",
        " 15%|\u2588\u258d        | 74/501 [01:35<08:04,  1.14s/it]"
       ]
      },
      {
       "output_type": "stream",
       "stream": "stderr",
       "text": [
        "\r",
        " 15%|\u2588\u258d        | 75/501 [01:36<08:00,  1.13s/it]"
       ]
      },
      {
       "output_type": "stream",
       "stream": "stderr",
       "text": [
        "\r",
        " 15%|\u2588\u258c        | 76/501 [01:37<07:57,  1.12s/it]"
       ]
      },
      {
       "output_type": "stream",
       "stream": "stderr",
       "text": [
        "\r",
        " 15%|\u2588\u258c        | 77/501 [01:38<07:53,  1.12s/it]"
       ]
      },
      {
       "output_type": "stream",
       "stream": "stderr",
       "text": [
        "\r",
        " 16%|\u2588\u258c        | 78/501 [01:40<07:57,  1.13s/it]"
       ]
      },
      {
       "output_type": "stream",
       "stream": "stderr",
       "text": [
        "\r",
        " 16%|\u2588\u258c        | 79/501 [01:41<08:03,  1.15s/it]"
       ]
      },
      {
       "output_type": "stream",
       "stream": "stderr",
       "text": [
        "\r",
        " 16%|\u2588\u258c        | 80/501 [01:42<08:07,  1.16s/it]"
       ]
      },
      {
       "output_type": "stream",
       "stream": "stderr",
       "text": [
        "\r",
        " 16%|\u2588\u258c        | 81/501 [01:43<08:11,  1.17s/it]"
       ]
      },
      {
       "output_type": "stream",
       "stream": "stderr",
       "text": [
        "\r",
        " 16%|\u2588\u258b        | 82/501 [01:44<08:04,  1.16s/it]"
       ]
      },
      {
       "output_type": "stream",
       "stream": "stderr",
       "text": [
        "\r",
        " 17%|\u2588\u258b        | 83/501 [01:46<08:05,  1.16s/it]"
       ]
      },
      {
       "output_type": "stream",
       "stream": "stderr",
       "text": [
        "\r",
        " 17%|\u2588\u258b        | 84/501 [01:47<08:01,  1.15s/it]"
       ]
      },
      {
       "output_type": "stream",
       "stream": "stderr",
       "text": [
        "\r",
        " 17%|\u2588\u258b        | 85/501 [01:53<18:31,  2.67s/it]"
       ]
      },
      {
       "output_type": "stream",
       "stream": "stderr",
       "text": [
        "\r",
        " 17%|\u2588\u258b        | 86/501 [01:54<15:23,  2.23s/it]"
       ]
      },
      {
       "output_type": "stream",
       "stream": "stderr",
       "text": [
        "\r",
        " 17%|\u2588\u258b        | 87/501 [01:55<13:06,  1.90s/it]"
       ]
      },
      {
       "output_type": "stream",
       "stream": "stderr",
       "text": [
        "\r",
        " 18%|\u2588\u258a        | 88/501 [01:56<11:33,  1.68s/it]"
       ]
      },
      {
       "output_type": "stream",
       "stream": "stderr",
       "text": [
        "\r",
        " 18%|\u2588\u258a        | 89/501 [01:58<10:27,  1.52s/it]"
       ]
      },
      {
       "output_type": "stream",
       "stream": "stderr",
       "text": [
        "\r",
        " 18%|\u2588\u258a        | 90/501 [01:59<09:40,  1.41s/it]"
       ]
      },
      {
       "output_type": "stream",
       "stream": "stderr",
       "text": [
        "\r",
        " 18%|\u2588\u258a        | 91/501 [02:00<09:04,  1.33s/it]"
       ]
      },
      {
       "output_type": "stream",
       "stream": "stderr",
       "text": [
        "\r",
        " 18%|\u2588\u258a        | 92/501 [02:01<08:38,  1.27s/it]"
       ]
      },
      {
       "output_type": "stream",
       "stream": "stderr",
       "text": [
        "\r",
        " 19%|\u2588\u258a        | 93/501 [02:02<08:19,  1.23s/it]"
       ]
      },
      {
       "output_type": "stream",
       "stream": "stderr",
       "text": [
        "\r",
        " 19%|\u2588\u2589        | 94/501 [02:03<08:08,  1.20s/it]"
       ]
      },
      {
       "output_type": "stream",
       "stream": "stderr",
       "text": [
        "\r",
        " 19%|\u2588\u2589        | 95/501 [02:04<07:59,  1.18s/it]"
       ]
      },
      {
       "output_type": "stream",
       "stream": "stderr",
       "text": [
        "\r",
        " 19%|\u2588\u2589        | 96/501 [02:06<08:04,  1.20s/it]"
       ]
      },
      {
       "output_type": "stream",
       "stream": "stderr",
       "text": [
        "\r",
        " 19%|\u2588\u2589        | 97/501 [02:07<08:07,  1.21s/it]"
       ]
      },
      {
       "output_type": "stream",
       "stream": "stderr",
       "text": [
        "\r",
        " 20%|\u2588\u2589        | 98/501 [02:08<08:12,  1.22s/it]"
       ]
      },
      {
       "output_type": "stream",
       "stream": "stderr",
       "text": [
        "\r",
        " 20%|\u2588\u2589        | 99/501 [02:09<08:13,  1.23s/it]"
       ]
      },
      {
       "output_type": "stream",
       "stream": "stderr",
       "text": [
        "\r",
        " 20%|\u2588\u2589        | 100/501 [02:11<08:15,  1.24s/it]"
       ]
      },
      {
       "output_type": "stream",
       "stream": "stderr",
       "text": [
        "\r",
        " 20%|\u2588\u2588        | 101/501 [02:12<08:14,  1.24s/it]"
       ]
      },
      {
       "output_type": "stream",
       "stream": "stderr",
       "text": [
        "\r",
        " 20%|\u2588\u2588        | 102/501 [02:13<08:05,  1.22s/it]"
       ]
      },
      {
       "output_type": "stream",
       "stream": "stderr",
       "text": [
        "\r",
        " 21%|\u2588\u2588        | 103/501 [02:14<07:53,  1.19s/it]"
       ]
      },
      {
       "output_type": "stream",
       "stream": "stderr",
       "text": [
        "\r",
        " 21%|\u2588\u2588        | 104/501 [02:15<07:49,  1.18s/it]"
       ]
      },
      {
       "output_type": "stream",
       "stream": "stderr",
       "text": [
        "\r",
        " 21%|\u2588\u2588        | 105/501 [02:16<07:43,  1.17s/it]"
       ]
      },
      {
       "output_type": "stream",
       "stream": "stderr",
       "text": [
        "\r",
        " 21%|\u2588\u2588        | 106/501 [02:18<07:38,  1.16s/it]"
       ]
      },
      {
       "output_type": "stream",
       "stream": "stderr",
       "text": [
        "\r",
        " 21%|\u2588\u2588\u258f       | 107/501 [02:19<07:32,  1.15s/it]"
       ]
      },
      {
       "output_type": "stream",
       "stream": "stderr",
       "text": [
        "\r",
        " 22%|\u2588\u2588\u258f       | 108/501 [02:20<07:29,  1.14s/it]"
       ]
      },
      {
       "output_type": "stream",
       "stream": "stderr",
       "text": [
        "\r",
        " 22%|\u2588\u2588\u258f       | 109/501 [02:21<07:29,  1.15s/it]"
       ]
      },
      {
       "output_type": "stream",
       "stream": "stderr",
       "text": [
        "\r",
        " 22%|\u2588\u2588\u258f       | 110/501 [02:22<07:30,  1.15s/it]"
       ]
      },
      {
       "output_type": "stream",
       "stream": "stderr",
       "text": [
        "\r",
        " 22%|\u2588\u2588\u258f       | 111/501 [02:23<07:32,  1.16s/it]"
       ]
      },
      {
       "output_type": "stream",
       "stream": "stderr",
       "text": [
        "\r",
        " 22%|\u2588\u2588\u258f       | 112/501 [02:25<07:40,  1.18s/it]"
       ]
      },
      {
       "output_type": "stream",
       "stream": "stderr",
       "text": [
        "\r",
        " 23%|\u2588\u2588\u258e       | 113/501 [02:26<07:45,  1.20s/it]"
       ]
      },
      {
       "output_type": "stream",
       "stream": "stderr",
       "text": [
        "\r",
        " 23%|\u2588\u2588\u258e       | 114/501 [02:27<07:47,  1.21s/it]"
       ]
      },
      {
       "output_type": "stream",
       "stream": "stderr",
       "text": [
        "\r",
        " 23%|\u2588\u2588\u258e       | 115/501 [02:28<07:50,  1.22s/it]"
       ]
      },
      {
       "output_type": "stream",
       "stream": "stderr",
       "text": [
        "\r",
        " 23%|\u2588\u2588\u258e       | 116/501 [02:29<07:50,  1.22s/it]"
       ]
      },
      {
       "output_type": "stream",
       "stream": "stderr",
       "text": [
        "\r",
        " 23%|\u2588\u2588\u258e       | 117/501 [02:31<07:51,  1.23s/it]"
       ]
      },
      {
       "output_type": "stream",
       "stream": "stderr",
       "text": [
        "\r",
        " 24%|\u2588\u2588\u258e       | 118/501 [02:32<07:49,  1.23s/it]"
       ]
      },
      {
       "output_type": "stream",
       "stream": "stderr",
       "text": [
        "\r",
        " 24%|\u2588\u2588\u258d       | 119/501 [02:33<07:54,  1.24s/it]"
       ]
      },
      {
       "output_type": "stream",
       "stream": "stderr",
       "text": [
        "\r",
        " 24%|\u2588\u2588\u258d       | 120/501 [02:34<07:56,  1.25s/it]"
       ]
      },
      {
       "output_type": "stream",
       "stream": "stderr",
       "text": [
        "\r",
        " 24%|\u2588\u2588\u258d       | 121/501 [02:36<07:57,  1.26s/it]"
       ]
      },
      {
       "output_type": "stream",
       "stream": "stderr",
       "text": [
        "\r",
        " 24%|\u2588\u2588\u258d       | 122/501 [02:37<07:57,  1.26s/it]"
       ]
      },
      {
       "output_type": "stream",
       "stream": "stderr",
       "text": [
        "\r",
        " 25%|\u2588\u2588\u258d       | 123/501 [02:38<07:59,  1.27s/it]"
       ]
      },
      {
       "output_type": "stream",
       "stream": "stderr",
       "text": [
        "\r",
        " 25%|\u2588\u2588\u258d       | 124/501 [02:40<07:56,  1.26s/it]"
       ]
      },
      {
       "output_type": "stream",
       "stream": "stderr",
       "text": [
        "\r",
        " 25%|\u2588\u2588\u258d       | 125/501 [02:41<08:04,  1.29s/it]"
       ]
      },
      {
       "output_type": "stream",
       "stream": "stderr",
       "text": [
        "\r",
        " 25%|\u2588\u2588\u258c       | 126/501 [02:42<08:00,  1.28s/it]"
       ]
      },
      {
       "output_type": "stream",
       "stream": "stderr",
       "text": [
        "\r",
        " 25%|\u2588\u2588\u258c       | 127/501 [02:49<18:03,  2.90s/it]"
       ]
      },
      {
       "output_type": "stream",
       "stream": "stderr",
       "text": [
        "\r",
        " 26%|\u2588\u2588\u258c       | 128/501 [02:50<14:49,  2.38s/it]"
       ]
      },
      {
       "output_type": "stream",
       "stream": "stderr",
       "text": [
        "\r",
        " 26%|\u2588\u2588\u258c       | 129/501 [02:51<12:28,  2.01s/it]"
       ]
      },
      {
       "output_type": "stream",
       "stream": "stderr",
       "text": [
        "\r",
        " 26%|\u2588\u2588\u258c       | 130/501 [02:52<10:46,  1.74s/it]"
       ]
      },
      {
       "output_type": "stream",
       "stream": "stderr",
       "text": [
        "\r",
        " 26%|\u2588\u2588\u258c       | 131/501 [02:53<09:37,  1.56s/it]"
       ]
      },
      {
       "output_type": "stream",
       "stream": "stderr",
       "text": [
        "\r",
        " 26%|\u2588\u2588\u258b       | 132/501 [02:55<08:58,  1.46s/it]"
       ]
      },
      {
       "output_type": "stream",
       "stream": "stderr",
       "text": [
        "\r",
        " 27%|\u2588\u2588\u258b       | 133/501 [02:56<08:25,  1.37s/it]"
       ]
      },
      {
       "output_type": "stream",
       "stream": "stderr",
       "text": [
        "\r",
        " 27%|\u2588\u2588\u258b       | 134/501 [02:57<07:56,  1.30s/it]"
       ]
      },
      {
       "output_type": "stream",
       "stream": "stderr",
       "text": [
        "\r",
        " 27%|\u2588\u2588\u258b       | 135/501 [02:58<07:41,  1.26s/it]"
       ]
      },
      {
       "output_type": "stream",
       "stream": "stderr",
       "text": [
        "\r",
        " 27%|\u2588\u2588\u258b       | 136/501 [02:59<07:24,  1.22s/it]"
       ]
      },
      {
       "output_type": "stream",
       "stream": "stderr",
       "text": [
        "\r",
        " 27%|\u2588\u2588\u258b       | 137/501 [03:00<07:12,  1.19s/it]"
       ]
      },
      {
       "output_type": "stream",
       "stream": "stderr",
       "text": [
        "\r",
        " 28%|\u2588\u2588\u258a       | 138/501 [03:01<07:05,  1.17s/it]"
       ]
      },
      {
       "output_type": "stream",
       "stream": "stderr",
       "text": [
        "\r",
        " 28%|\u2588\u2588\u258a       | 139/501 [03:03<07:02,  1.17s/it]"
       ]
      },
      {
       "output_type": "stream",
       "stream": "stderr",
       "text": [
        "\r",
        " 28%|\u2588\u2588\u258a       | 140/501 [03:04<06:59,  1.16s/it]"
       ]
      },
      {
       "output_type": "stream",
       "stream": "stderr",
       "text": [
        "\r",
        " 28%|\u2588\u2588\u258a       | 141/501 [03:05<06:58,  1.16s/it]"
       ]
      },
      {
       "output_type": "stream",
       "stream": "stderr",
       "text": [
        "\r",
        " 28%|\u2588\u2588\u258a       | 142/501 [03:06<06:52,  1.15s/it]"
       ]
      },
      {
       "output_type": "stream",
       "stream": "stderr",
       "text": [
        "\r",
        " 29%|\u2588\u2588\u258a       | 143/501 [03:07<06:53,  1.16s/it]"
       ]
      },
      {
       "output_type": "stream",
       "stream": "stderr",
       "text": [
        "\r",
        " 29%|\u2588\u2588\u258a       | 144/501 [03:08<06:51,  1.15s/it]"
       ]
      },
      {
       "output_type": "stream",
       "stream": "stderr",
       "text": [
        "\r",
        " 29%|\u2588\u2588\u2589       | 145/501 [03:10<06:51,  1.15s/it]"
       ]
      },
      {
       "output_type": "stream",
       "stream": "stderr",
       "text": [
        "\r",
        " 29%|\u2588\u2588\u2589       | 146/501 [03:11<06:58,  1.18s/it]"
       ]
      },
      {
       "output_type": "stream",
       "stream": "stderr",
       "text": [
        "\r",
        " 29%|\u2588\u2588\u2589       | 147/501 [03:12<07:03,  1.20s/it]"
       ]
      },
      {
       "output_type": "stream",
       "stream": "stderr",
       "text": [
        "\r",
        " 30%|\u2588\u2588\u2589       | 148/501 [03:13<07:07,  1.21s/it]"
       ]
      },
      {
       "output_type": "stream",
       "stream": "stderr",
       "text": [
        "\r",
        " 30%|\u2588\u2588\u2589       | 149/501 [03:14<07:11,  1.23s/it]"
       ]
      },
      {
       "output_type": "stream",
       "stream": "stderr",
       "text": [
        "\r",
        " 30%|\u2588\u2588\u2589       | 150/501 [03:16<07:16,  1.24s/it]"
       ]
      },
      {
       "output_type": "stream",
       "stream": "stderr",
       "text": [
        "\r",
        " 30%|\u2588\u2588\u2588       | 151/501 [03:17<07:16,  1.25s/it]"
       ]
      },
      {
       "output_type": "stream",
       "stream": "stderr",
       "text": [
        "\r",
        " 30%|\u2588\u2588\u2588       | 152/501 [03:18<07:06,  1.22s/it]"
       ]
      },
      {
       "output_type": "stream",
       "stream": "stderr",
       "text": [
        "\r",
        " 31%|\u2588\u2588\u2588       | 153/501 [03:19<06:53,  1.19s/it]"
       ]
      },
      {
       "output_type": "stream",
       "stream": "stderr",
       "text": [
        "\r",
        " 31%|\u2588\u2588\u2588       | 154/501 [03:20<06:51,  1.19s/it]"
       ]
      },
      {
       "output_type": "stream",
       "stream": "stderr",
       "text": [
        "\r",
        " 31%|\u2588\u2588\u2588       | 155/501 [03:22<06:50,  1.19s/it]"
       ]
      },
      {
       "output_type": "stream",
       "stream": "stderr",
       "text": [
        "\r",
        " 31%|\u2588\u2588\u2588       | 156/501 [03:23<06:42,  1.17s/it]"
       ]
      },
      {
       "output_type": "stream",
       "stream": "stderr",
       "text": [
        "\r",
        " 31%|\u2588\u2588\u2588\u258f      | 157/501 [03:24<06:36,  1.15s/it]"
       ]
      },
      {
       "output_type": "stream",
       "stream": "stderr",
       "text": [
        "\r",
        " 32%|\u2588\u2588\u2588\u258f      | 158/501 [03:25<06:31,  1.14s/it]"
       ]
      },
      {
       "output_type": "stream",
       "stream": "stderr",
       "text": [
        "\r",
        " 32%|\u2588\u2588\u2588\u258f      | 159/501 [03:26<06:26,  1.13s/it]"
       ]
      },
      {
       "output_type": "stream",
       "stream": "stderr",
       "text": [
        "\r",
        " 32%|\u2588\u2588\u2588\u258f      | 160/501 [03:27<06:22,  1.12s/it]"
       ]
      },
      {
       "output_type": "stream",
       "stream": "stderr",
       "text": [
        "\r",
        " 32%|\u2588\u2588\u2588\u258f      | 161/501 [03:28<06:19,  1.12s/it]"
       ]
      },
      {
       "output_type": "stream",
       "stream": "stderr",
       "text": [
        "\r",
        " 32%|\u2588\u2588\u2588\u258f      | 162/501 [03:29<06:18,  1.12s/it]"
       ]
      },
      {
       "output_type": "stream",
       "stream": "stderr",
       "text": [
        "\r",
        " 33%|\u2588\u2588\u2588\u258e      | 163/501 [03:31<06:16,  1.12s/it]"
       ]
      },
      {
       "output_type": "stream",
       "stream": "stderr",
       "text": [
        "\r",
        " 33%|\u2588\u2588\u2588\u258e      | 164/501 [03:32<06:14,  1.11s/it]"
       ]
      },
      {
       "output_type": "stream",
       "stream": "stderr",
       "text": [
        "\r",
        " 33%|\u2588\u2588\u2588\u258e      | 165/501 [03:33<06:12,  1.11s/it]"
       ]
      },
      {
       "output_type": "stream",
       "stream": "stderr",
       "text": [
        "\r",
        " 33%|\u2588\u2588\u2588\u258e      | 166/501 [03:34<06:10,  1.11s/it]"
       ]
      },
      {
       "output_type": "stream",
       "stream": "stderr",
       "text": [
        "\r",
        " 33%|\u2588\u2588\u2588\u258e      | 167/501 [03:35<06:10,  1.11s/it]"
       ]
      },
      {
       "output_type": "stream",
       "stream": "stderr",
       "text": [
        "\r",
        " 34%|\u2588\u2588\u2588\u258e      | 168/501 [03:36<06:12,  1.12s/it]"
       ]
      },
      {
       "output_type": "stream",
       "stream": "stderr",
       "text": [
        "\r",
        " 34%|\u2588\u2588\u2588\u258e      | 169/501 [03:42<14:26,  2.61s/it]"
       ]
      },
      {
       "output_type": "stream",
       "stream": "stderr",
       "text": [
        "\r",
        " 34%|\u2588\u2588\u2588\u258d      | 170/501 [03:43<11:54,  2.16s/it]"
       ]
      },
      {
       "output_type": "stream",
       "stream": "stderr",
       "text": [
        "\r",
        " 34%|\u2588\u2588\u2588\u258d      | 171/501 [03:44<10:08,  1.84s/it]"
       ]
      },
      {
       "output_type": "stream",
       "stream": "stderr",
       "text": [
        "\r",
        " 34%|\u2588\u2588\u2588\u258d      | 172/501 [03:46<08:54,  1.63s/it]"
       ]
      },
      {
       "output_type": "stream",
       "stream": "stderr",
       "text": [
        "\r",
        " 35%|\u2588\u2588\u2588\u258d      | 173/501 [03:47<08:04,  1.48s/it]"
       ]
      },
      {
       "output_type": "stream",
       "stream": "stderr",
       "text": [
        "\r",
        " 35%|\u2588\u2588\u2588\u258d      | 174/501 [03:48<07:28,  1.37s/it]"
       ]
      },
      {
       "output_type": "stream",
       "stream": "stderr",
       "text": [
        "\r",
        " 35%|\u2588\u2588\u2588\u258d      | 175/501 [03:49<07:04,  1.30s/it]"
       ]
      },
      {
       "output_type": "stream",
       "stream": "stderr",
       "text": [
        "\r",
        " 35%|\u2588\u2588\u2588\u258c      | 176/501 [03:50<06:45,  1.25s/it]"
       ]
      },
      {
       "output_type": "stream",
       "stream": "stderr",
       "text": [
        "\r",
        " 35%|\u2588\u2588\u2588\u258c      | 177/501 [03:51<06:46,  1.25s/it]"
       ]
      },
      {
       "output_type": "stream",
       "stream": "stderr",
       "text": [
        "\r",
        " 36%|\u2588\u2588\u2588\u258c      | 178/501 [03:53<06:43,  1.25s/it]"
       ]
      },
      {
       "output_type": "stream",
       "stream": "stderr",
       "text": [
        "\r",
        " 36%|\u2588\u2588\u2588\u258c      | 179/501 [03:54<06:42,  1.25s/it]"
       ]
      },
      {
       "output_type": "stream",
       "stream": "stderr",
       "text": [
        "\r",
        " 36%|\u2588\u2588\u2588\u258c      | 180/501 [03:55<06:42,  1.25s/it]"
       ]
      },
      {
       "output_type": "stream",
       "stream": "stderr",
       "text": [
        "\r",
        " 36%|\u2588\u2588\u2588\u258c      | 181/501 [03:56<06:34,  1.23s/it]"
       ]
      },
      {
       "output_type": "stream",
       "stream": "stderr",
       "text": [
        "\r",
        " 36%|\u2588\u2588\u2588\u258b      | 182/501 [03:57<06:27,  1.21s/it]"
       ]
      },
      {
       "output_type": "stream",
       "stream": "stderr",
       "text": [
        "\r",
        " 37%|\u2588\u2588\u2588\u258b      | 183/501 [03:59<06:27,  1.22s/it]"
       ]
      },
      {
       "output_type": "stream",
       "stream": "stderr",
       "text": [
        "\r",
        " 37%|\u2588\u2588\u2588\u258b      | 184/501 [04:00<06:21,  1.20s/it]"
       ]
      },
      {
       "output_type": "stream",
       "stream": "stderr",
       "text": [
        "\r",
        " 37%|\u2588\u2588\u2588\u258b      | 185/501 [04:01<06:20,  1.21s/it]"
       ]
      },
      {
       "output_type": "stream",
       "stream": "stderr",
       "text": [
        "\r",
        " 37%|\u2588\u2588\u2588\u258b      | 186/501 [04:02<06:18,  1.20s/it]"
       ]
      },
      {
       "output_type": "stream",
       "stream": "stderr",
       "text": [
        "\r",
        " 37%|\u2588\u2588\u2588\u258b      | 187/501 [04:03<06:10,  1.18s/it]"
       ]
      },
      {
       "output_type": "stream",
       "stream": "stderr",
       "text": [
        "\r",
        " 38%|\u2588\u2588\u2588\u258a      | 188/501 [04:05<06:05,  1.17s/it]"
       ]
      },
      {
       "output_type": "stream",
       "stream": "stderr",
       "text": [
        "\r",
        " 38%|\u2588\u2588\u2588\u258a      | 189/501 [04:06<06:07,  1.18s/it]"
       ]
      },
      {
       "output_type": "stream",
       "stream": "stderr",
       "text": [
        "\r",
        " 38%|\u2588\u2588\u2588\u258a      | 190/501 [04:07<06:05,  1.17s/it]"
       ]
      },
      {
       "output_type": "stream",
       "stream": "stderr",
       "text": [
        "\r",
        " 38%|\u2588\u2588\u2588\u258a      | 191/501 [04:08<06:04,  1.18s/it]"
       ]
      },
      {
       "output_type": "stream",
       "stream": "stderr",
       "text": [
        "\r",
        " 38%|\u2588\u2588\u2588\u258a      | 192/501 [04:09<06:02,  1.17s/it]"
       ]
      },
      {
       "output_type": "stream",
       "stream": "stderr",
       "text": [
        "\r",
        " 39%|\u2588\u2588\u2588\u258a      | 193/501 [04:10<05:57,  1.16s/it]"
       ]
      },
      {
       "output_type": "stream",
       "stream": "stderr",
       "text": [
        "\r",
        " 39%|\u2588\u2588\u2588\u258a      | 194/501 [04:11<05:52,  1.15s/it]"
       ]
      },
      {
       "output_type": "stream",
       "stream": "stderr",
       "text": [
        "\r",
        " 39%|\u2588\u2588\u2588\u2589      | 195/501 [04:13<05:48,  1.14s/it]"
       ]
      },
      {
       "output_type": "stream",
       "stream": "stderr",
       "text": [
        "\r",
        " 39%|\u2588\u2588\u2588\u2589      | 196/501 [04:14<05:43,  1.13s/it]"
       ]
      },
      {
       "output_type": "stream",
       "stream": "stderr",
       "text": [
        "\r",
        " 39%|\u2588\u2588\u2588\u2589      | 197/501 [04:15<05:40,  1.12s/it]"
       ]
      },
      {
       "output_type": "stream",
       "stream": "stderr",
       "text": [
        "\r",
        " 40%|\u2588\u2588\u2588\u2589      | 198/501 [04:16<05:39,  1.12s/it]"
       ]
      },
      {
       "output_type": "stream",
       "stream": "stderr",
       "text": [
        "\r",
        " 40%|\u2588\u2588\u2588\u2589      | 199/501 [04:17<05:37,  1.12s/it]"
       ]
      },
      {
       "output_type": "stream",
       "stream": "stderr",
       "text": [
        "\r",
        " 40%|\u2588\u2588\u2588\u2589      | 200/501 [04:18<05:41,  1.13s/it]"
       ]
      },
      {
       "output_type": "stream",
       "stream": "stderr",
       "text": [
        "\r",
        " 40%|\u2588\u2588\u2588\u2588      | 201/501 [04:19<05:43,  1.15s/it]"
       ]
      },
      {
       "output_type": "stream",
       "stream": "stderr",
       "text": [
        "\r",
        " 40%|\u2588\u2588\u2588\u2588      | 202/501 [04:21<05:42,  1.14s/it]"
       ]
      },
      {
       "output_type": "stream",
       "stream": "stderr",
       "text": [
        "\r",
        " 41%|\u2588\u2588\u2588\u2588      | 203/501 [04:22<05:37,  1.13s/it]"
       ]
      },
      {
       "output_type": "stream",
       "stream": "stderr",
       "text": [
        "\r",
        " 41%|\u2588\u2588\u2588\u2588      | 204/501 [04:23<05:35,  1.13s/it]"
       ]
      },
      {
       "output_type": "stream",
       "stream": "stderr",
       "text": [
        "\r",
        " 41%|\u2588\u2588\u2588\u2588      | 205/501 [04:24<05:34,  1.13s/it]"
       ]
      },
      {
       "output_type": "stream",
       "stream": "stderr",
       "text": [
        "\r",
        " 41%|\u2588\u2588\u2588\u2588      | 206/501 [04:25<05:43,  1.16s/it]"
       ]
      },
      {
       "output_type": "stream",
       "stream": "stderr",
       "text": [
        "\r",
        " 41%|\u2588\u2588\u2588\u2588\u258f     | 207/501 [04:26<05:39,  1.15s/it]"
       ]
      },
      {
       "output_type": "stream",
       "stream": "stderr",
       "text": [
        "\r",
        " 42%|\u2588\u2588\u2588\u2588\u258f     | 208/501 [04:27<05:35,  1.15s/it]"
       ]
      },
      {
       "output_type": "stream",
       "stream": "stderr",
       "text": [
        "\r",
        " 42%|\u2588\u2588\u2588\u2588\u258f     | 209/501 [04:29<05:33,  1.14s/it]"
       ]
      },
      {
       "output_type": "stream",
       "stream": "stderr",
       "text": [
        "\r",
        " 42%|\u2588\u2588\u2588\u2588\u258f     | 210/501 [04:30<05:28,  1.13s/it]"
       ]
      },
      {
       "output_type": "stream",
       "stream": "stderr",
       "text": [
        "\r",
        " 42%|\u2588\u2588\u2588\u2588\u258f     | 211/501 [04:36<12:51,  2.66s/it]"
       ]
      },
      {
       "output_type": "stream",
       "stream": "stderr",
       "text": [
        "\r",
        " 42%|\u2588\u2588\u2588\u2588\u258f     | 212/501 [04:37<10:37,  2.20s/it]"
       ]
      },
      {
       "output_type": "stream",
       "stream": "stderr",
       "text": [
        "\r",
        " 43%|\u2588\u2588\u2588\u2588\u258e     | 213/501 [04:38<09:05,  1.89s/it]"
       ]
      },
      {
       "output_type": "stream",
       "stream": "stderr",
       "text": [
        "\r",
        " 43%|\u2588\u2588\u2588\u2588\u258e     | 214/501 [04:39<07:56,  1.66s/it]"
       ]
      },
      {
       "output_type": "stream",
       "stream": "stderr",
       "text": [
        "\r",
        " 43%|\u2588\u2588\u2588\u2588\u258e     | 215/501 [04:40<07:08,  1.50s/it]"
       ]
      },
      {
       "output_type": "stream",
       "stream": "stderr",
       "text": [
        "\r",
        " 43%|\u2588\u2588\u2588\u2588\u258e     | 216/501 [04:42<06:34,  1.38s/it]"
       ]
      },
      {
       "output_type": "stream",
       "stream": "stderr",
       "text": [
        "\r",
        " 43%|\u2588\u2588\u2588\u2588\u258e     | 217/501 [04:43<06:08,  1.30s/it]"
       ]
      },
      {
       "output_type": "stream",
       "stream": "stderr",
       "text": [
        "\r",
        " 44%|\u2588\u2588\u2588\u2588\u258e     | 218/501 [04:44<05:52,  1.25s/it]"
       ]
      },
      {
       "output_type": "stream",
       "stream": "stderr",
       "text": [
        "\r",
        " 44%|\u2588\u2588\u2588\u2588\u258e     | 219/501 [04:45<05:39,  1.20s/it]"
       ]
      },
      {
       "output_type": "stream",
       "stream": "stderr",
       "text": [
        "\r",
        " 44%|\u2588\u2588\u2588\u2588\u258d     | 220/501 [04:46<05:30,  1.18s/it]"
       ]
      },
      {
       "output_type": "stream",
       "stream": "stderr",
       "text": [
        "\r",
        " 44%|\u2588\u2588\u2588\u2588\u258d     | 221/501 [04:47<05:23,  1.15s/it]"
       ]
      },
      {
       "output_type": "stream",
       "stream": "stderr",
       "text": [
        "\r",
        " 44%|\u2588\u2588\u2588\u2588\u258d     | 222/501 [04:48<05:18,  1.14s/it]"
       ]
      },
      {
       "output_type": "stream",
       "stream": "stderr",
       "text": [
        "\r",
        " 45%|\u2588\u2588\u2588\u2588\u258d     | 223/501 [04:49<05:14,  1.13s/it]"
       ]
      },
      {
       "output_type": "stream",
       "stream": "stderr",
       "text": [
        "\r",
        " 45%|\u2588\u2588\u2588\u2588\u258d     | 224/501 [04:50<05:11,  1.12s/it]"
       ]
      },
      {
       "output_type": "stream",
       "stream": "stderr",
       "text": [
        "\r",
        " 45%|\u2588\u2588\u2588\u2588\u258d     | 225/501 [04:51<05:09,  1.12s/it]"
       ]
      },
      {
       "output_type": "stream",
       "stream": "stderr",
       "text": [
        "\r",
        " 45%|\u2588\u2588\u2588\u2588\u258c     | 226/501 [04:53<05:08,  1.12s/it]"
       ]
      },
      {
       "output_type": "stream",
       "stream": "stderr",
       "text": [
        "\r",
        " 45%|\u2588\u2588\u2588\u2588\u258c     | 227/501 [04:54<05:06,  1.12s/it]"
       ]
      },
      {
       "output_type": "stream",
       "stream": "stderr",
       "text": [
        "\r",
        " 46%|\u2588\u2588\u2588\u2588\u258c     | 228/501 [04:55<05:05,  1.12s/it]"
       ]
      },
      {
       "output_type": "stream",
       "stream": "stderr",
       "text": [
        "\r",
        " 46%|\u2588\u2588\u2588\u2588\u258c     | 229/501 [04:56<05:05,  1.12s/it]"
       ]
      },
      {
       "output_type": "stream",
       "stream": "stderr",
       "text": [
        "\r",
        " 46%|\u2588\u2588\u2588\u2588\u258c     | 230/501 [04:57<05:03,  1.12s/it]"
       ]
      },
      {
       "output_type": "stream",
       "stream": "stderr",
       "text": [
        "\r",
        " 46%|\u2588\u2588\u2588\u2588\u258c     | 231/501 [04:58<05:01,  1.12s/it]"
       ]
      },
      {
       "output_type": "stream",
       "stream": "stderr",
       "text": [
        "\r",
        " 46%|\u2588\u2588\u2588\u2588\u258b     | 232/501 [04:59<05:00,  1.12s/it]"
       ]
      },
      {
       "output_type": "stream",
       "stream": "stderr",
       "text": [
        "\r",
        " 47%|\u2588\u2588\u2588\u2588\u258b     | 233/501 [05:00<04:58,  1.11s/it]"
       ]
      },
      {
       "output_type": "stream",
       "stream": "stderr",
       "text": [
        "\r",
        " 47%|\u2588\u2588\u2588\u2588\u258b     | 234/501 [05:02<04:58,  1.12s/it]"
       ]
      },
      {
       "output_type": "stream",
       "stream": "stderr",
       "text": [
        "\r",
        " 47%|\u2588\u2588\u2588\u2588\u258b     | 235/501 [05:03<04:57,  1.12s/it]"
       ]
      },
      {
       "output_type": "stream",
       "stream": "stderr",
       "text": [
        "\r",
        " 47%|\u2588\u2588\u2588\u2588\u258b     | 236/501 [05:04<04:56,  1.12s/it]"
       ]
      },
      {
       "output_type": "stream",
       "stream": "stderr",
       "text": [
        "\r",
        " 47%|\u2588\u2588\u2588\u2588\u258b     | 237/501 [05:05<04:55,  1.12s/it]"
       ]
      },
      {
       "output_type": "stream",
       "stream": "stderr",
       "text": [
        "\r",
        " 48%|\u2588\u2588\u2588\u2588\u258a     | 238/501 [05:06<04:54,  1.12s/it]"
       ]
      },
      {
       "output_type": "stream",
       "stream": "stderr",
       "text": [
        "\r",
        " 48%|\u2588\u2588\u2588\u2588\u258a     | 239/501 [05:07<04:54,  1.12s/it]"
       ]
      },
      {
       "output_type": "stream",
       "stream": "stderr",
       "text": [
        "\r",
        " 48%|\u2588\u2588\u2588\u2588\u258a     | 240/501 [05:08<04:54,  1.13s/it]"
       ]
      },
      {
       "output_type": "stream",
       "stream": "stderr",
       "text": [
        "\r",
        " 48%|\u2588\u2588\u2588\u2588\u258a     | 241/501 [05:09<04:56,  1.14s/it]"
       ]
      },
      {
       "output_type": "stream",
       "stream": "stderr",
       "text": [
        "\r",
        " 48%|\u2588\u2588\u2588\u2588\u258a     | 242/501 [05:11<05:00,  1.16s/it]"
       ]
      },
      {
       "output_type": "stream",
       "stream": "stderr",
       "text": [
        "\r",
        " 49%|\u2588\u2588\u2588\u2588\u258a     | 243/501 [05:12<05:07,  1.19s/it]"
       ]
      },
      {
       "output_type": "stream",
       "stream": "stderr",
       "text": [
        "\r",
        " 49%|\u2588\u2588\u2588\u2588\u258a     | 244/501 [05:13<05:11,  1.21s/it]"
       ]
      },
      {
       "output_type": "stream",
       "stream": "stderr",
       "text": [
        "\r",
        " 49%|\u2588\u2588\u2588\u2588\u2589     | 245/501 [05:14<05:16,  1.24s/it]"
       ]
      },
      {
       "output_type": "stream",
       "stream": "stderr",
       "text": [
        "\r",
        " 49%|\u2588\u2588\u2588\u2588\u2589     | 246/501 [05:16<05:21,  1.26s/it]"
       ]
      },
      {
       "output_type": "stream",
       "stream": "stderr",
       "text": [
        "\r",
        " 49%|\u2588\u2588\u2588\u2588\u2589     | 247/501 [05:17<05:18,  1.25s/it]"
       ]
      },
      {
       "output_type": "stream",
       "stream": "stderr",
       "text": [
        "\r",
        " 50%|\u2588\u2588\u2588\u2588\u2589     | 248/501 [05:18<05:12,  1.23s/it]"
       ]
      },
      {
       "output_type": "stream",
       "stream": "stderr",
       "text": [
        "\r",
        " 50%|\u2588\u2588\u2588\u2588\u2589     | 249/501 [05:19<05:02,  1.20s/it]"
       ]
      },
      {
       "output_type": "stream",
       "stream": "stderr",
       "text": [
        "\r",
        " 50%|\u2588\u2588\u2588\u2588\u2589     | 250/501 [05:20<04:55,  1.18s/it]"
       ]
      },
      {
       "output_type": "stream",
       "stream": "stderr",
       "text": [
        "\r",
        " 50%|\u2588\u2588\u2588\u2588\u2588     | 251/501 [05:22<05:00,  1.20s/it]"
       ]
      },
      {
       "output_type": "stream",
       "stream": "stderr",
       "text": [
        "\r",
        " 50%|\u2588\u2588\u2588\u2588\u2588     | 252/501 [05:23<05:03,  1.22s/it]"
       ]
      },
      {
       "output_type": "stream",
       "stream": "stderr",
       "text": [
        "\r",
        " 50%|\u2588\u2588\u2588\u2588\u2588     | 253/501 [05:30<11:50,  2.87s/it]"
       ]
      },
      {
       "output_type": "stream",
       "stream": "stderr",
       "text": [
        "\r",
        " 51%|\u2588\u2588\u2588\u2588\u2588     | 254/501 [05:31<09:40,  2.35s/it]"
       ]
      },
      {
       "output_type": "stream",
       "stream": "stderr",
       "text": [
        "\r",
        " 51%|\u2588\u2588\u2588\u2588\u2588     | 255/501 [05:32<08:11,  2.00s/it]"
       ]
      },
      {
       "output_type": "stream",
       "stream": "stderr",
       "text": [
        "\r",
        " 51%|\u2588\u2588\u2588\u2588\u2588     | 256/501 [05:33<07:08,  1.75s/it]"
       ]
      },
      {
       "output_type": "stream",
       "stream": "stderr",
       "text": [
        "\r",
        " 51%|\u2588\u2588\u2588\u2588\u2588\u258f    | 257/501 [05:34<06:30,  1.60s/it]"
       ]
      },
      {
       "output_type": "stream",
       "stream": "stderr",
       "text": [
        "\r",
        " 51%|\u2588\u2588\u2588\u2588\u2588\u258f    | 258/501 [05:36<06:03,  1.50s/it]"
       ]
      },
      {
       "output_type": "stream",
       "stream": "stderr",
       "text": [
        "\r",
        " 52%|\u2588\u2588\u2588\u2588\u2588\u258f    | 259/501 [05:37<05:43,  1.42s/it]"
       ]
      },
      {
       "output_type": "stream",
       "stream": "stderr",
       "text": [
        "\r",
        " 52%|\u2588\u2588\u2588\u2588\u2588\u258f    | 260/501 [05:38<05:29,  1.37s/it]"
       ]
      },
      {
       "output_type": "stream",
       "stream": "stderr",
       "text": [
        "\r",
        " 52%|\u2588\u2588\u2588\u2588\u2588\u258f    | 261/501 [05:39<05:18,  1.33s/it]"
       ]
      },
      {
       "output_type": "stream",
       "stream": "stderr",
       "text": [
        "\r",
        " 52%|\u2588\u2588\u2588\u2588\u2588\u258f    | 262/501 [05:41<05:04,  1.27s/it]"
       ]
      },
      {
       "output_type": "stream",
       "stream": "stderr",
       "text": [
        "\r",
        " 52%|\u2588\u2588\u2588\u2588\u2588\u258f    | 263/501 [05:42<04:54,  1.24s/it]"
       ]
      },
      {
       "output_type": "stream",
       "stream": "stderr",
       "text": [
        "\r",
        " 53%|\u2588\u2588\u2588\u2588\u2588\u258e    | 264/501 [05:43<04:46,  1.21s/it]"
       ]
      },
      {
       "output_type": "stream",
       "stream": "stderr",
       "text": [
        "\r",
        " 53%|\u2588\u2588\u2588\u2588\u2588\u258e    | 265/501 [05:44<04:41,  1.19s/it]"
       ]
      },
      {
       "output_type": "stream",
       "stream": "stderr",
       "text": [
        "\r",
        " 53%|\u2588\u2588\u2588\u2588\u2588\u258e    | 266/501 [05:45<04:36,  1.18s/it]"
       ]
      },
      {
       "output_type": "stream",
       "stream": "stderr",
       "text": [
        "\r",
        " 53%|\u2588\u2588\u2588\u2588\u2588\u258e    | 267/501 [05:46<04:32,  1.16s/it]"
       ]
      },
      {
       "output_type": "stream",
       "stream": "stderr",
       "text": [
        "\r",
        " 53%|\u2588\u2588\u2588\u2588\u2588\u258e    | 268/501 [05:47<04:27,  1.15s/it]"
       ]
      },
      {
       "output_type": "stream",
       "stream": "stderr",
       "text": [
        "\r",
        " 54%|\u2588\u2588\u2588\u2588\u2588\u258e    | 269/501 [05:49<04:26,  1.15s/it]"
       ]
      },
      {
       "output_type": "stream",
       "stream": "stderr",
       "text": [
        "\r",
        " 54%|\u2588\u2588\u2588\u2588\u2588\u258d    | 270/501 [05:50<04:22,  1.14s/it]"
       ]
      },
      {
       "output_type": "stream",
       "stream": "stderr",
       "text": [
        "\r",
        " 54%|\u2588\u2588\u2588\u2588\u2588\u258d    | 271/501 [05:51<04:21,  1.14s/it]"
       ]
      },
      {
       "output_type": "stream",
       "stream": "stderr",
       "text": [
        "\r",
        " 54%|\u2588\u2588\u2588\u2588\u2588\u258d    | 272/501 [05:52<04:23,  1.15s/it]"
       ]
      },
      {
       "output_type": "stream",
       "stream": "stderr",
       "text": [
        "\r",
        " 54%|\u2588\u2588\u2588\u2588\u2588\u258d    | 273/501 [05:53<04:19,  1.14s/it]"
       ]
      },
      {
       "output_type": "stream",
       "stream": "stderr",
       "text": [
        "\r",
        " 55%|\u2588\u2588\u2588\u2588\u2588\u258d    | 274/501 [05:54<04:19,  1.15s/it]"
       ]
      },
      {
       "output_type": "stream",
       "stream": "stderr",
       "text": [
        "\r",
        " 55%|\u2588\u2588\u2588\u2588\u2588\u258d    | 275/501 [05:55<04:17,  1.14s/it]"
       ]
      },
      {
       "output_type": "stream",
       "stream": "stderr",
       "text": [
        "\r",
        " 55%|\u2588\u2588\u2588\u2588\u2588\u258c    | 276/501 [05:57<04:16,  1.14s/it]"
       ]
      },
      {
       "output_type": "stream",
       "stream": "stderr",
       "text": [
        "\r",
        " 55%|\u2588\u2588\u2588\u2588\u2588\u258c    | 277/501 [05:58<04:14,  1.14s/it]"
       ]
      },
      {
       "output_type": "stream",
       "stream": "stderr",
       "text": [
        "\r",
        " 55%|\u2588\u2588\u2588\u2588\u2588\u258c    | 278/501 [05:59<04:12,  1.13s/it]"
       ]
      },
      {
       "output_type": "stream",
       "stream": "stderr",
       "text": [
        "\r",
        " 56%|\u2588\u2588\u2588\u2588\u2588\u258c    | 279/501 [06:00<04:10,  1.13s/it]"
       ]
      },
      {
       "output_type": "stream",
       "stream": "stderr",
       "text": [
        "\r",
        " 56%|\u2588\u2588\u2588\u2588\u2588\u258c    | 280/501 [06:01<04:08,  1.12s/it]"
       ]
      },
      {
       "output_type": "stream",
       "stream": "stderr",
       "text": [
        "\r",
        " 56%|\u2588\u2588\u2588\u2588\u2588\u258c    | 281/501 [06:02<04:08,  1.13s/it]"
       ]
      },
      {
       "output_type": "stream",
       "stream": "stderr",
       "text": [
        "\r",
        " 56%|\u2588\u2588\u2588\u2588\u2588\u258b    | 282/501 [06:03<04:08,  1.14s/it]"
       ]
      },
      {
       "output_type": "stream",
       "stream": "stderr",
       "text": [
        "\r",
        " 56%|\u2588\u2588\u2588\u2588\u2588\u258b    | 283/501 [06:04<04:07,  1.14s/it]"
       ]
      },
      {
       "output_type": "stream",
       "stream": "stderr",
       "text": [
        "\r",
        " 57%|\u2588\u2588\u2588\u2588\u2588\u258b    | 284/501 [06:06<04:05,  1.13s/it]"
       ]
      },
      {
       "output_type": "stream",
       "stream": "stderr",
       "text": [
        "\r",
        " 57%|\u2588\u2588\u2588\u2588\u2588\u258b    | 285/501 [06:07<04:03,  1.13s/it]"
       ]
      },
      {
       "output_type": "stream",
       "stream": "stderr",
       "text": [
        "\r",
        " 57%|\u2588\u2588\u2588\u2588\u2588\u258b    | 286/501 [06:08<04:01,  1.12s/it]"
       ]
      },
      {
       "output_type": "stream",
       "stream": "stderr",
       "text": [
        "\r",
        " 57%|\u2588\u2588\u2588\u2588\u2588\u258b    | 287/501 [06:09<03:59,  1.12s/it]"
       ]
      },
      {
       "output_type": "stream",
       "stream": "stderr",
       "text": [
        "\r",
        " 57%|\u2588\u2588\u2588\u2588\u2588\u258b    | 288/501 [06:10<03:57,  1.12s/it]"
       ]
      },
      {
       "output_type": "stream",
       "stream": "stderr",
       "text": [
        "\r",
        " 58%|\u2588\u2588\u2588\u2588\u2588\u258a    | 289/501 [06:11<03:57,  1.12s/it]"
       ]
      },
      {
       "output_type": "stream",
       "stream": "stderr",
       "text": [
        "\r",
        " 58%|\u2588\u2588\u2588\u2588\u2588\u258a    | 290/501 [06:12<03:55,  1.12s/it]"
       ]
      },
      {
       "output_type": "stream",
       "stream": "stderr",
       "text": [
        "\r",
        " 58%|\u2588\u2588\u2588\u2588\u2588\u258a    | 291/501 [06:13<03:55,  1.12s/it]"
       ]
      },
      {
       "output_type": "stream",
       "stream": "stderr",
       "text": [
        "\r",
        " 58%|\u2588\u2588\u2588\u2588\u2588\u258a    | 292/501 [06:15<03:54,  1.12s/it]"
       ]
      },
      {
       "output_type": "stream",
       "stream": "stderr",
       "text": [
        "\r",
        " 58%|\u2588\u2588\u2588\u2588\u2588\u258a    | 293/501 [06:16<03:53,  1.12s/it]"
       ]
      },
      {
       "output_type": "stream",
       "stream": "stderr",
       "text": [
        "\r",
        " 59%|\u2588\u2588\u2588\u2588\u2588\u258a    | 294/501 [06:17<03:55,  1.14s/it]"
       ]
      },
      {
       "output_type": "stream",
       "stream": "stderr",
       "text": [
        "\r",
        " 59%|\u2588\u2588\u2588\u2588\u2588\u2589    | 295/501 [06:23<09:36,  2.80s/it]"
       ]
      },
      {
       "output_type": "stream",
       "stream": "stderr",
       "text": [
        "\r",
        " 59%|\u2588\u2588\u2588\u2588\u2588\u2589    | 296/501 [06:25<07:57,  2.33s/it]"
       ]
      },
      {
       "output_type": "stream",
       "stream": "stderr",
       "text": [
        "\r",
        " 59%|\u2588\u2588\u2588\u2588\u2588\u2589    | 297/501 [06:26<06:46,  1.99s/it]"
       ]
      },
      {
       "output_type": "stream",
       "stream": "stderr",
       "text": [
        "\r",
        " 59%|\u2588\u2588\u2588\u2588\u2588\u2589    | 298/501 [06:27<05:56,  1.75s/it]"
       ]
      },
      {
       "output_type": "stream",
       "stream": "stderr",
       "text": [
        "\r",
        " 60%|\u2588\u2588\u2588\u2588\u2588\u2589    | 299/501 [06:28<05:18,  1.58s/it]"
       ]
      },
      {
       "output_type": "stream",
       "stream": "stderr",
       "text": [
        "\r",
        " 60%|\u2588\u2588\u2588\u2588\u2588\u2589    | 300/501 [06:29<04:50,  1.45s/it]"
       ]
      },
      {
       "output_type": "stream",
       "stream": "stderr",
       "text": [
        "\r",
        " 60%|\u2588\u2588\u2588\u2588\u2588\u2588    | 301/501 [06:31<04:30,  1.35s/it]"
       ]
      },
      {
       "output_type": "stream",
       "stream": "stderr",
       "text": [
        "\r",
        " 60%|\u2588\u2588\u2588\u2588\u2588\u2588    | 302/501 [06:32<04:19,  1.30s/it]"
       ]
      },
      {
       "output_type": "stream",
       "stream": "stderr",
       "text": [
        "\r",
        " 60%|\u2588\u2588\u2588\u2588\u2588\u2588    | 303/501 [06:33<04:10,  1.26s/it]"
       ]
      },
      {
       "output_type": "stream",
       "stream": "stderr",
       "text": [
        "\r",
        " 61%|\u2588\u2588\u2588\u2588\u2588\u2588    | 304/501 [06:34<04:00,  1.22s/it]"
       ]
      },
      {
       "output_type": "stream",
       "stream": "stderr",
       "text": [
        "\r",
        " 61%|\u2588\u2588\u2588\u2588\u2588\u2588    | 305/501 [06:35<03:53,  1.19s/it]"
       ]
      },
      {
       "output_type": "stream",
       "stream": "stderr",
       "text": [
        "\r",
        " 61%|\u2588\u2588\u2588\u2588\u2588\u2588    | 306/501 [06:36<03:48,  1.17s/it]"
       ]
      },
      {
       "output_type": "stream",
       "stream": "stderr",
       "text": [
        "\r",
        " 61%|\u2588\u2588\u2588\u2588\u2588\u2588\u258f   | 307/501 [06:37<03:47,  1.17s/it]"
       ]
      },
      {
       "output_type": "stream",
       "stream": "stderr",
       "text": [
        "\r",
        " 61%|\u2588\u2588\u2588\u2588\u2588\u2588\u258f   | 308/501 [06:39<03:45,  1.17s/it]"
       ]
      },
      {
       "output_type": "stream",
       "stream": "stderr",
       "text": [
        "\r",
        " 62%|\u2588\u2588\u2588\u2588\u2588\u2588\u258f   | 309/501 [06:40<03:44,  1.17s/it]"
       ]
      },
      {
       "output_type": "stream",
       "stream": "stderr",
       "text": [
        "\r",
        " 62%|\u2588\u2588\u2588\u2588\u2588\u2588\u258f   | 310/501 [06:41<03:43,  1.17s/it]"
       ]
      },
      {
       "output_type": "stream",
       "stream": "stderr",
       "text": [
        "\r",
        " 62%|\u2588\u2588\u2588\u2588\u2588\u2588\u258f   | 311/501 [06:42<03:40,  1.16s/it]"
       ]
      },
      {
       "output_type": "stream",
       "stream": "stderr",
       "text": [
        "\r",
        " 62%|\u2588\u2588\u2588\u2588\u2588\u2588\u258f   | 312/501 [06:43<03:36,  1.15s/it]"
       ]
      },
      {
       "output_type": "stream",
       "stream": "stderr",
       "text": [
        "\r",
        " 62%|\u2588\u2588\u2588\u2588\u2588\u2588\u258f   | 313/501 [06:44<03:33,  1.13s/it]"
       ]
      },
      {
       "output_type": "stream",
       "stream": "stderr",
       "text": [
        "\r",
        " 63%|\u2588\u2588\u2588\u2588\u2588\u2588\u258e   | 314/501 [06:45<03:31,  1.13s/it]"
       ]
      },
      {
       "output_type": "stream",
       "stream": "stderr",
       "text": [
        "\r",
        " 63%|\u2588\u2588\u2588\u2588\u2588\u2588\u258e   | 315/501 [06:47<03:30,  1.13s/it]"
       ]
      },
      {
       "output_type": "stream",
       "stream": "stderr",
       "text": [
        "\r",
        " 63%|\u2588\u2588\u2588\u2588\u2588\u2588\u258e   | 316/501 [06:48<03:29,  1.13s/it]"
       ]
      },
      {
       "output_type": "stream",
       "stream": "stderr",
       "text": [
        "\r",
        " 63%|\u2588\u2588\u2588\u2588\u2588\u2588\u258e   | 317/501 [06:49<03:28,  1.13s/it]"
       ]
      },
      {
       "output_type": "stream",
       "stream": "stderr",
       "text": [
        "\r",
        " 63%|\u2588\u2588\u2588\u2588\u2588\u2588\u258e   | 318/501 [06:50<03:28,  1.14s/it]"
       ]
      },
      {
       "output_type": "stream",
       "stream": "stderr",
       "text": [
        "\r",
        " 64%|\u2588\u2588\u2588\u2588\u2588\u2588\u258e   | 319/501 [06:51<03:27,  1.14s/it]"
       ]
      },
      {
       "output_type": "stream",
       "stream": "stderr",
       "text": [
        "\r",
        " 64%|\u2588\u2588\u2588\u2588\u2588\u2588\u258d   | 320/501 [06:52<03:26,  1.14s/it]"
       ]
      },
      {
       "output_type": "stream",
       "stream": "stderr",
       "text": [
        "\r",
        " 64%|\u2588\u2588\u2588\u2588\u2588\u2588\u258d   | 321/501 [06:53<03:25,  1.14s/it]"
       ]
      },
      {
       "output_type": "stream",
       "stream": "stderr",
       "text": [
        "\r",
        " 64%|\u2588\u2588\u2588\u2588\u2588\u2588\u258d   | 322/501 [06:55<03:23,  1.14s/it]"
       ]
      },
      {
       "output_type": "stream",
       "stream": "stderr",
       "text": [
        "\r",
        " 64%|\u2588\u2588\u2588\u2588\u2588\u2588\u258d   | 323/501 [06:56<03:24,  1.15s/it]"
       ]
      },
      {
       "output_type": "stream",
       "stream": "stderr",
       "text": [
        "\r",
        " 65%|\u2588\u2588\u2588\u2588\u2588\u2588\u258d   | 324/501 [06:57<03:23,  1.15s/it]"
       ]
      },
      {
       "output_type": "stream",
       "stream": "stderr",
       "text": [
        "\r",
        " 65%|\u2588\u2588\u2588\u2588\u2588\u2588\u258d   | 325/501 [06:58<03:21,  1.14s/it]"
       ]
      },
      {
       "output_type": "stream",
       "stream": "stderr",
       "text": [
        "\r",
        " 65%|\u2588\u2588\u2588\u2588\u2588\u2588\u258c   | 326/501 [06:59<03:18,  1.14s/it]"
       ]
      },
      {
       "output_type": "stream",
       "stream": "stderr",
       "text": [
        "\r",
        " 65%|\u2588\u2588\u2588\u2588\u2588\u2588\u258c   | 327/501 [07:00<03:16,  1.13s/it]"
       ]
      },
      {
       "output_type": "stream",
       "stream": "stderr",
       "text": [
        "\r",
        " 65%|\u2588\u2588\u2588\u2588\u2588\u2588\u258c   | 328/501 [07:01<03:14,  1.13s/it]"
       ]
      },
      {
       "output_type": "stream",
       "stream": "stderr",
       "text": [
        "\r",
        " 66%|\u2588\u2588\u2588\u2588\u2588\u2588\u258c   | 329/501 [07:03<03:14,  1.13s/it]"
       ]
      },
      {
       "output_type": "stream",
       "stream": "stderr",
       "text": [
        "\r",
        " 66%|\u2588\u2588\u2588\u2588\u2588\u2588\u258c   | 330/501 [07:04<03:13,  1.13s/it]"
       ]
      },
      {
       "output_type": "stream",
       "stream": "stderr",
       "text": [
        "\r",
        " 66%|\u2588\u2588\u2588\u2588\u2588\u2588\u258c   | 331/501 [07:05<03:10,  1.12s/it]"
       ]
      },
      {
       "output_type": "stream",
       "stream": "stderr",
       "text": [
        "\r",
        " 66%|\u2588\u2588\u2588\u2588\u2588\u2588\u258b   | 332/501 [07:06<03:12,  1.14s/it]"
       ]
      },
      {
       "output_type": "stream",
       "stream": "stderr",
       "text": [
        "\r",
        " 66%|\u2588\u2588\u2588\u2588\u2588\u2588\u258b   | 333/501 [07:07<03:10,  1.13s/it]"
       ]
      },
      {
       "output_type": "stream",
       "stream": "stderr",
       "text": [
        "\r",
        " 67%|\u2588\u2588\u2588\u2588\u2588\u2588\u258b   | 334/501 [07:08<03:07,  1.12s/it]"
       ]
      },
      {
       "output_type": "stream",
       "stream": "stderr",
       "text": [
        "\r",
        " 67%|\u2588\u2588\u2588\u2588\u2588\u2588\u258b   | 335/501 [07:09<03:07,  1.13s/it]"
       ]
      },
      {
       "output_type": "stream",
       "stream": "stderr",
       "text": [
        "\r",
        " 67%|\u2588\u2588\u2588\u2588\u2588\u2588\u258b   | 336/501 [07:10<03:06,  1.13s/it]"
       ]
      },
      {
       "output_type": "stream",
       "stream": "stderr",
       "text": [
        "\r",
        " 67%|\u2588\u2588\u2588\u2588\u2588\u2588\u258b   | 337/501 [07:17<07:43,  2.82s/it]"
       ]
      },
      {
       "output_type": "stream",
       "stream": "stderr",
       "text": [
        "\r",
        " 67%|\u2588\u2588\u2588\u2588\u2588\u2588\u258b   | 338/501 [07:18<06:16,  2.31s/it]"
       ]
      },
      {
       "output_type": "stream",
       "stream": "stderr",
       "text": [
        "\r",
        " 68%|\u2588\u2588\u2588\u2588\u2588\u2588\u258a   | 339/501 [07:19<05:15,  1.95s/it]"
       ]
      },
      {
       "output_type": "stream",
       "stream": "stderr",
       "text": [
        "\r",
        " 68%|\u2588\u2588\u2588\u2588\u2588\u2588\u258a   | 340/501 [07:21<04:33,  1.70s/it]"
       ]
      },
      {
       "output_type": "stream",
       "stream": "stderr",
       "text": [
        "\r",
        " 68%|\u2588\u2588\u2588\u2588\u2588\u2588\u258a   | 341/501 [07:22<04:03,  1.52s/it]"
       ]
      },
      {
       "output_type": "stream",
       "stream": "stderr",
       "text": [
        "\r",
        " 68%|\u2588\u2588\u2588\u2588\u2588\u2588\u258a   | 342/501 [07:23<03:42,  1.40s/it]"
       ]
      },
      {
       "output_type": "stream",
       "stream": "stderr",
       "text": [
        "\r",
        " 68%|\u2588\u2588\u2588\u2588\u2588\u2588\u258a   | 343/501 [07:24<03:27,  1.31s/it]"
       ]
      },
      {
       "output_type": "stream",
       "stream": "stderr",
       "text": [
        "\r",
        " 69%|\u2588\u2588\u2588\u2588\u2588\u2588\u258a   | 344/501 [07:25<03:18,  1.27s/it]"
       ]
      },
      {
       "output_type": "stream",
       "stream": "stderr",
       "text": [
        "\r",
        " 69%|\u2588\u2588\u2588\u2588\u2588\u2588\u2589   | 345/501 [07:26<03:10,  1.22s/it]"
       ]
      },
      {
       "output_type": "stream",
       "stream": "stderr",
       "text": [
        "\r",
        " 69%|\u2588\u2588\u2588\u2588\u2588\u2588\u2589   | 346/501 [07:27<03:04,  1.19s/it]"
       ]
      },
      {
       "output_type": "stream",
       "stream": "stderr",
       "text": [
        "\r",
        " 69%|\u2588\u2588\u2588\u2588\u2588\u2588\u2589   | 347/501 [07:28<03:01,  1.18s/it]"
       ]
      },
      {
       "output_type": "stream",
       "stream": "stderr",
       "text": [
        "\r",
        " 69%|\u2588\u2588\u2588\u2588\u2588\u2588\u2589   | 348/501 [07:29<02:57,  1.16s/it]"
       ]
      },
      {
       "output_type": "stream",
       "stream": "stderr",
       "text": [
        "\r",
        " 70%|\u2588\u2588\u2588\u2588\u2588\u2588\u2589   | 349/501 [07:31<02:53,  1.14s/it]"
       ]
      },
      {
       "output_type": "stream",
       "stream": "stderr",
       "text": [
        "\r",
        " 70%|\u2588\u2588\u2588\u2588\u2588\u2588\u2589   | 350/501 [07:32<02:50,  1.13s/it]"
       ]
      },
      {
       "output_type": "stream",
       "stream": "stderr",
       "text": [
        "\r",
        " 70%|\u2588\u2588\u2588\u2588\u2588\u2588\u2588   | 351/501 [07:33<02:49,  1.13s/it]"
       ]
      },
      {
       "output_type": "stream",
       "stream": "stderr",
       "text": [
        "\r",
        " 70%|\u2588\u2588\u2588\u2588\u2588\u2588\u2588   | 352/501 [07:34<02:47,  1.12s/it]"
       ]
      },
      {
       "output_type": "stream",
       "stream": "stderr",
       "text": [
        "\r",
        " 70%|\u2588\u2588\u2588\u2588\u2588\u2588\u2588   | 353/501 [07:35<02:45,  1.12s/it]"
       ]
      },
      {
       "output_type": "stream",
       "stream": "stderr",
       "text": [
        "\r",
        " 71%|\u2588\u2588\u2588\u2588\u2588\u2588\u2588   | 354/501 [07:36<02:45,  1.12s/it]"
       ]
      },
      {
       "output_type": "stream",
       "stream": "stderr",
       "text": [
        "\r",
        " 71%|\u2588\u2588\u2588\u2588\u2588\u2588\u2588   | 355/501 [07:37<02:43,  1.12s/it]"
       ]
      },
      {
       "output_type": "stream",
       "stream": "stderr",
       "text": [
        "\r",
        " 71%|\u2588\u2588\u2588\u2588\u2588\u2588\u2588   | 356/501 [07:38<02:41,  1.11s/it]"
       ]
      },
      {
       "output_type": "stream",
       "stream": "stderr",
       "text": [
        "\r",
        " 71%|\u2588\u2588\u2588\u2588\u2588\u2588\u2588\u258f  | 357/501 [07:39<02:39,  1.11s/it]"
       ]
      },
      {
       "output_type": "stream",
       "stream": "stderr",
       "text": [
        "\r",
        " 71%|\u2588\u2588\u2588\u2588\u2588\u2588\u2588\u258f  | 358/501 [07:41<02:38,  1.11s/it]"
       ]
      },
      {
       "output_type": "stream",
       "stream": "stderr",
       "text": [
        "\r",
        " 72%|\u2588\u2588\u2588\u2588\u2588\u2588\u2588\u258f  | 359/501 [07:42<02:38,  1.11s/it]"
       ]
      },
      {
       "output_type": "stream",
       "stream": "stderr",
       "text": [
        "\r",
        " 72%|\u2588\u2588\u2588\u2588\u2588\u2588\u2588\u258f  | 360/501 [07:43<03:02,  1.30s/it]"
       ]
      },
      {
       "output_type": "stream",
       "stream": "stderr",
       "text": [
        "\r",
        " 72%|\u2588\u2588\u2588\u2588\u2588\u2588\u2588\u258f  | 361/501 [11:12:02<465:03:13, 11958.53s/it]"
       ]
      },
      {
       "output_type": "stream",
       "stream": "stderr",
       "text": [
        "\r",
        " 72%|\u2588\u2588\u2588\u2588\u2588\u2588\u2588\u258f  | 362/501 [11:12:04<323:14:05, 8371.55s/it] "
       ]
      },
      {
       "output_type": "stream",
       "stream": "stderr",
       "text": [
        "\r",
        " 72%|\u2588\u2588\u2588\u2588\u2588\u2588\u2588\u258f  | 363/501 [11:12:05<224:38:56, 5860.41s/it]"
       ]
      },
      {
       "output_type": "stream",
       "stream": "stderr",
       "text": [
        "\r",
        " 73%|\u2588\u2588\u2588\u2588\u2588\u2588\u2588\u258e  | 364/501 [11:12:06<156:07:44, 4102.66s/it]"
       ]
      },
      {
       "output_type": "stream",
       "stream": "stderr",
       "text": [
        "\r",
        " 73%|\u2588\u2588\u2588\u2588\u2588\u2588\u2588\u258e  | 365/501 [11:12:08<108:30:18, 2872.20s/it]"
       ]
      },
      {
       "output_type": "stream",
       "stream": "stderr",
       "text": [
        "\r",
        " 73%|\u2588\u2588\u2588\u2588\u2588\u2588\u2588\u258e  | 366/501 [11:12:09<75:24:30, 2010.89s/it] "
       ]
      },
      {
       "output_type": "stream",
       "stream": "stderr",
       "text": [
        "\r",
        " 73%|\u2588\u2588\u2588\u2588\u2588\u2588\u2588\u258e  | 367/501 [11:12:10<52:24:26, 1407.96s/it]"
       ]
      },
      {
       "output_type": "stream",
       "stream": "stderr",
       "text": [
        "\r",
        " 73%|\u2588\u2588\u2588\u2588\u2588\u2588\u2588\u258e  | 368/501 [11:12:11<36:25:25, 985.91s/it] "
       ]
      },
      {
       "output_type": "stream",
       "stream": "stderr",
       "text": [
        "\r",
        " 74%|\u2588\u2588\u2588\u2588\u2588\u2588\u2588\u258e  | 369/501 [11:12:12<25:19:02, 690.47s/it]"
       ]
      },
      {
       "output_type": "stream",
       "stream": "stderr",
       "text": [
        "\r",
        " 74%|\u2588\u2588\u2588\u2588\u2588\u2588\u2588\u258d  | 370/501 [11:12:13<17:36:00, 483.67s/it]"
       ]
      },
      {
       "output_type": "stream",
       "stream": "stderr",
       "text": [
        "\r",
        " 74%|\u2588\u2588\u2588\u2588\u2588\u2588\u2588\u258d  | 371/501 [11:12:14<12:14:19, 338.92s/it]"
       ]
      },
      {
       "output_type": "stream",
       "stream": "stderr",
       "text": [
        "\r",
        " 74%|\u2588\u2588\u2588\u2588\u2588\u2588\u2588\u258d  | 372/501 [11:12:16<8:30:50, 237.60s/it] "
       ]
      },
      {
       "output_type": "stream",
       "stream": "stderr",
       "text": [
        "\r",
        " 74%|\u2588\u2588\u2588\u2588\u2588\u2588\u2588\u258d  | 373/501 [11:12:17<5:55:37, 166.70s/it]"
       ]
      },
      {
       "output_type": "stream",
       "stream": "stderr",
       "text": [
        "\r",
        " 75%|\u2588\u2588\u2588\u2588\u2588\u2588\u2588\u258d  | 374/501 [11:12:18<4:07:45, 117.05s/it]"
       ]
      },
      {
       "output_type": "stream",
       "stream": "stderr",
       "text": [
        "\r",
        " 75%|\u2588\u2588\u2588\u2588\u2588\u2588\u2588\u258d  | 375/501 [11:12:19<2:52:48, 82.29s/it] "
       ]
      },
      {
       "output_type": "stream",
       "stream": "stderr",
       "text": [
        "\r",
        " 75%|\u2588\u2588\u2588\u2588\u2588\u2588\u2588\u258c  | 376/501 [11:12:20<2:00:45, 57.96s/it]"
       ]
      },
      {
       "output_type": "stream",
       "stream": "stderr",
       "text": [
        "\r",
        " 75%|\u2588\u2588\u2588\u2588\u2588\u2588\u2588\u258c  | 377/501 [11:12:22<1:24:33, 40.91s/it]"
       ]
      },
      {
       "output_type": "stream",
       "stream": "stderr",
       "text": [
        "\r",
        " 75%|\u2588\u2588\u2588\u2588\u2588\u2588\u2588\u258c  | 378/501 [11:12:23<59:22, 28.96s/it]  "
       ]
      },
      {
       "output_type": "stream",
       "stream": "stderr",
       "text": [
        "\r",
        " 76%|\u2588\u2588\u2588\u2588\u2588\u2588\u2588\u258c  | 379/501 [11:12:30<45:57, 22.61s/it]"
       ]
      },
      {
       "output_type": "stream",
       "stream": "stderr",
       "text": [
        "\r",
        " 76%|\u2588\u2588\u2588\u2588\u2588\u2588\u2588\u258c  | 380/501 [11:12:32<32:38, 16.19s/it]"
       ]
      },
      {
       "output_type": "stream",
       "stream": "stderr",
       "text": [
        "\r",
        " 76%|\u2588\u2588\u2588\u2588\u2588\u2588\u2588\u258c  | 381/501 [11:12:33<23:22, 11.69s/it]"
       ]
      },
      {
       "output_type": "stream",
       "stream": "stderr",
       "text": [
        "\r",
        " 76%|\u2588\u2588\u2588\u2588\u2588\u2588\u2588\u258c  | 382/501 [11:12:34<16:54,  8.53s/it]"
       ]
      },
      {
       "output_type": "stream",
       "stream": "stderr",
       "text": [
        "\r",
        " 76%|\u2588\u2588\u2588\u2588\u2588\u2588\u2588\u258b  | 383/501 [11:12:35<12:22,  6.30s/it]"
       ]
      },
      {
       "output_type": "stream",
       "stream": "stderr",
       "text": [
        "\r",
        " 77%|\u2588\u2588\u2588\u2588\u2588\u2588\u2588\u258b  | 384/501 [11:12:36<09:16,  4.75s/it]"
       ]
      },
      {
       "output_type": "stream",
       "stream": "stderr",
       "text": [
        "\r",
        " 77%|\u2588\u2588\u2588\u2588\u2588\u2588\u2588\u258b  | 385/501 [11:12:37<07:04,  3.66s/it]"
       ]
      },
      {
       "output_type": "stream",
       "stream": "stderr",
       "text": [
        "\r",
        " 77%|\u2588\u2588\u2588\u2588\u2588\u2588\u2588\u258b  | 386/501 [11:12:38<05:33,  2.90s/it]"
       ]
      },
      {
       "output_type": "stream",
       "stream": "stderr",
       "text": [
        "\r",
        " 77%|\u2588\u2588\u2588\u2588\u2588\u2588\u2588\u258b  | 387/501 [11:12:40<04:30,  2.37s/it]"
       ]
      },
      {
       "output_type": "stream",
       "stream": "stderr",
       "text": [
        "\r",
        " 77%|\u2588\u2588\u2588\u2588\u2588\u2588\u2588\u258b  | 388/501 [11:12:41<03:49,  2.03s/it]"
       ]
      },
      {
       "output_type": "stream",
       "stream": "stderr",
       "text": [
        "\r",
        " 78%|\u2588\u2588\u2588\u2588\u2588\u2588\u2588\u258a  | 389/501 [11:12:42<03:20,  1.79s/it]"
       ]
      },
      {
       "output_type": "stream",
       "stream": "stderr",
       "text": [
        "\r",
        " 78%|\u2588\u2588\u2588\u2588\u2588\u2588\u2588\u258a  | 390/501 [11:12:43<02:59,  1.61s/it]"
       ]
      },
      {
       "output_type": "stream",
       "stream": "stderr",
       "text": [
        "\r",
        " 78%|\u2588\u2588\u2588\u2588\u2588\u2588\u2588\u258a  | 391/501 [11:12:44<02:44,  1.49s/it]"
       ]
      },
      {
       "output_type": "stream",
       "stream": "stderr",
       "text": [
        "\r",
        " 78%|\u2588\u2588\u2588\u2588\u2588\u2588\u2588\u258a  | 392/501 [11:12:46<02:34,  1.41s/it]"
       ]
      },
      {
       "output_type": "stream",
       "stream": "stderr",
       "text": [
        "\r",
        " 78%|\u2588\u2588\u2588\u2588\u2588\u2588\u2588\u258a  | 393/501 [11:12:47<02:26,  1.36s/it]"
       ]
      },
      {
       "output_type": "stream",
       "stream": "stderr",
       "text": [
        "\r",
        " 79%|\u2588\u2588\u2588\u2588\u2588\u2588\u2588\u258a  | 394/501 [11:12:48<02:20,  1.31s/it]"
       ]
      },
      {
       "output_type": "stream",
       "stream": "stderr",
       "text": [
        "\r",
        " 79%|\u2588\u2588\u2588\u2588\u2588\u2588\u2588\u2589  | 395/501 [11:12:49<02:16,  1.29s/it]"
       ]
      },
      {
       "output_type": "stream",
       "stream": "stderr",
       "text": [
        "\r",
        " 79%|\u2588\u2588\u2588\u2588\u2588\u2588\u2588\u2589  | 396/501 [11:12:51<02:13,  1.27s/it]"
       ]
      },
      {
       "output_type": "stream",
       "stream": "stderr",
       "text": [
        "\r",
        " 79%|\u2588\u2588\u2588\u2588\u2588\u2588\u2588\u2589  | 397/501 [11:12:52<02:11,  1.26s/it]"
       ]
      },
      {
       "output_type": "stream",
       "stream": "stderr",
       "text": [
        "\r",
        " 79%|\u2588\u2588\u2588\u2588\u2588\u2588\u2588\u2589  | 398/501 [11:12:53<02:10,  1.26s/it]"
       ]
      },
      {
       "output_type": "stream",
       "stream": "stderr",
       "text": [
        "\r",
        " 80%|\u2588\u2588\u2588\u2588\u2588\u2588\u2588\u2589  | 399/501 [11:12:54<02:08,  1.26s/it]"
       ]
      },
      {
       "output_type": "stream",
       "stream": "stderr",
       "text": [
        "\r",
        " 80%|\u2588\u2588\u2588\u2588\u2588\u2588\u2588\u2589  | 400/501 [11:12:56<02:05,  1.25s/it]"
       ]
      },
      {
       "output_type": "stream",
       "stream": "stderr",
       "text": [
        "\r",
        " 80%|\u2588\u2588\u2588\u2588\u2588\u2588\u2588\u2588  | 401/501 [11:12:57<02:04,  1.25s/it]"
       ]
      },
      {
       "output_type": "stream",
       "stream": "stderr",
       "text": [
        "\r",
        " 80%|\u2588\u2588\u2588\u2588\u2588\u2588\u2588\u2588  | 402/501 [11:12:58<02:02,  1.24s/it]"
       ]
      },
      {
       "output_type": "stream",
       "stream": "stderr",
       "text": [
        "\r",
        " 80%|\u2588\u2588\u2588\u2588\u2588\u2588\u2588\u2588  | 403/501 [11:12:59<02:01,  1.24s/it]"
       ]
      },
      {
       "output_type": "stream",
       "stream": "stderr",
       "text": [
        "\r",
        " 81%|\u2588\u2588\u2588\u2588\u2588\u2588\u2588\u2588  | 404/501 [11:13:00<01:55,  1.19s/it]"
       ]
      },
      {
       "output_type": "stream",
       "stream": "stderr",
       "text": [
        "\r",
        " 81%|\u2588\u2588\u2588\u2588\u2588\u2588\u2588\u2588  | 405/501 [11:13:01<01:50,  1.15s/it]"
       ]
      },
      {
       "output_type": "stream",
       "stream": "stderr",
       "text": [
        "\r",
        " 81%|\u2588\u2588\u2588\u2588\u2588\u2588\u2588\u2588  | 406/501 [11:13:02<01:46,  1.12s/it]"
       ]
      },
      {
       "output_type": "stream",
       "stream": "stderr",
       "text": [
        "\r",
        " 81%|\u2588\u2588\u2588\u2588\u2588\u2588\u2588\u2588  | 407/501 [11:13:04<01:43,  1.10s/it]"
       ]
      },
      {
       "output_type": "stream",
       "stream": "stderr",
       "text": [
        "\r",
        " 81%|\u2588\u2588\u2588\u2588\u2588\u2588\u2588\u2588\u258f | 408/501 [11:13:05<01:42,  1.10s/it]"
       ]
      },
      {
       "output_type": "stream",
       "stream": "stderr",
       "text": [
        "\r",
        " 82%|\u2588\u2588\u2588\u2588\u2588\u2588\u2588\u2588\u258f | 409/501 [11:13:06<01:39,  1.08s/it]"
       ]
      },
      {
       "output_type": "stream",
       "stream": "stderr",
       "text": [
        "\r",
        " 82%|\u2588\u2588\u2588\u2588\u2588\u2588\u2588\u2588\u258f | 410/501 [11:13:07<01:38,  1.08s/it]"
       ]
      },
      {
       "output_type": "stream",
       "stream": "stderr",
       "text": [
        "\r",
        " 82%|\u2588\u2588\u2588\u2588\u2588\u2588\u2588\u2588\u258f | 411/501 [11:13:08<01:36,  1.07s/it]"
       ]
      },
      {
       "output_type": "stream",
       "stream": "stderr",
       "text": [
        "\r",
        " 82%|\u2588\u2588\u2588\u2588\u2588\u2588\u2588\u2588\u258f | 412/501 [11:13:09<01:35,  1.07s/it]"
       ]
      },
      {
       "output_type": "stream",
       "stream": "stderr",
       "text": [
        "\r",
        " 82%|\u2588\u2588\u2588\u2588\u2588\u2588\u2588\u2588\u258f | 413/501 [11:13:10<01:36,  1.10s/it]"
       ]
      },
      {
       "output_type": "stream",
       "stream": "stderr",
       "text": [
        "\r",
        " 83%|\u2588\u2588\u2588\u2588\u2588\u2588\u2588\u2588\u258e | 414/501 [11:13:11<01:38,  1.14s/it]"
       ]
      },
      {
       "output_type": "stream",
       "stream": "stderr",
       "text": [
        "\r",
        " 83%|\u2588\u2588\u2588\u2588\u2588\u2588\u2588\u2588\u258e | 415/501 [11:13:13<01:41,  1.18s/it]"
       ]
      },
      {
       "output_type": "stream",
       "stream": "stderr",
       "text": [
        "\r",
        " 83%|\u2588\u2588\u2588\u2588\u2588\u2588\u2588\u2588\u258e | 416/501 [11:13:14<01:42,  1.20s/it]"
       ]
      },
      {
       "output_type": "stream",
       "stream": "stderr",
       "text": [
        "\r",
        " 83%|\u2588\u2588\u2588\u2588\u2588\u2588\u2588\u2588\u258e | 417/501 [11:13:15<01:42,  1.22s/it]"
       ]
      },
      {
       "output_type": "stream",
       "stream": "stderr",
       "text": [
        "\r",
        " 83%|\u2588\u2588\u2588\u2588\u2588\u2588\u2588\u2588\u258e | 418/501 [11:13:16<01:42,  1.23s/it]"
       ]
      },
      {
       "output_type": "stream",
       "stream": "stderr",
       "text": [
        "\r",
        " 84%|\u2588\u2588\u2588\u2588\u2588\u2588\u2588\u2588\u258e | 419/501 [11:13:18<01:42,  1.25s/it]"
       ]
      },
      {
       "output_type": "stream",
       "stream": "stderr",
       "text": [
        "\r",
        " 84%|\u2588\u2588\u2588\u2588\u2588\u2588\u2588\u2588\u258d | 420/501 [11:13:19<01:41,  1.25s/it]"
       ]
      },
      {
       "output_type": "stream",
       "stream": "stderr",
       "text": [
        "\r",
        " 84%|\u2588\u2588\u2588\u2588\u2588\u2588\u2588\u2588\u258d | 421/501 [11:13:25<03:45,  2.82s/it]"
       ]
      },
      {
       "output_type": "stream",
       "stream": "stderr",
       "text": [
        "\r",
        " 84%|\u2588\u2588\u2588\u2588\u2588\u2588\u2588\u2588\u258d | 422/501 [11:13:27<03:05,  2.35s/it]"
       ]
      },
      {
       "output_type": "stream",
       "stream": "stderr",
       "text": [
        "\r",
        " 84%|\u2588\u2588\u2588\u2588\u2588\u2588\u2588\u2588\u258d | 423/501 [11:13:28<02:38,  2.03s/it]"
       ]
      },
      {
       "output_type": "stream",
       "stream": "stderr",
       "text": [
        "\r",
        " 85%|\u2588\u2588\u2588\u2588\u2588\u2588\u2588\u2588\u258d | 424/501 [11:13:29<02:18,  1.80s/it]"
       ]
      },
      {
       "output_type": "stream",
       "stream": "stderr",
       "text": [
        "\r",
        " 85%|\u2588\u2588\u2588\u2588\u2588\u2588\u2588\u2588\u258d | 425/501 [11:13:30<02:04,  1.64s/it]"
       ]
      },
      {
       "output_type": "stream",
       "stream": "stderr",
       "text": [
        "\r",
        " 85%|\u2588\u2588\u2588\u2588\u2588\u2588\u2588\u2588\u258c | 426/501 [11:13:32<01:53,  1.51s/it]"
       ]
      },
      {
       "output_type": "stream",
       "stream": "stderr",
       "text": [
        "\r",
        " 85%|\u2588\u2588\u2588\u2588\u2588\u2588\u2588\u2588\u258c | 427/501 [11:13:33<01:42,  1.38s/it]"
       ]
      },
      {
       "output_type": "stream",
       "stream": "stderr",
       "text": [
        "\r",
        " 85%|\u2588\u2588\u2588\u2588\u2588\u2588\u2588\u2588\u258c | 428/501 [11:13:34<01:33,  1.29s/it]"
       ]
      },
      {
       "output_type": "stream",
       "stream": "stderr",
       "text": [
        "\r",
        " 86%|\u2588\u2588\u2588\u2588\u2588\u2588\u2588\u2588\u258c | 429/501 [11:13:35<01:28,  1.23s/it]"
       ]
      },
      {
       "output_type": "stream",
       "stream": "stderr",
       "text": [
        "\r",
        " 86%|\u2588\u2588\u2588\u2588\u2588\u2588\u2588\u2588\u258c | 430/501 [11:13:36<01:23,  1.18s/it]"
       ]
      },
      {
       "output_type": "stream",
       "stream": "stderr",
       "text": [
        "\r",
        " 86%|\u2588\u2588\u2588\u2588\u2588\u2588\u2588\u2588\u258c | 431/501 [11:13:37<01:20,  1.15s/it]"
       ]
      },
      {
       "output_type": "stream",
       "stream": "stderr",
       "text": [
        "\r",
        " 86%|\u2588\u2588\u2588\u2588\u2588\u2588\u2588\u2588\u258c | 432/501 [11:13:38<01:17,  1.12s/it]"
       ]
      },
      {
       "output_type": "stream",
       "stream": "stderr",
       "text": [
        "\r",
        " 86%|\u2588\u2588\u2588\u2588\u2588\u2588\u2588\u2588\u258b | 433/501 [11:13:39<01:15,  1.11s/it]"
       ]
      },
      {
       "output_type": "stream",
       "stream": "stderr",
       "text": [
        "\r",
        " 87%|\u2588\u2588\u2588\u2588\u2588\u2588\u2588\u2588\u258b | 434/501 [11:13:40<01:13,  1.10s/it]"
       ]
      },
      {
       "output_type": "stream",
       "stream": "stderr",
       "text": [
        "\r",
        " 87%|\u2588\u2588\u2588\u2588\u2588\u2588\u2588\u2588\u258b | 435/501 [11:13:41<01:12,  1.10s/it]"
       ]
      },
      {
       "output_type": "stream",
       "stream": "stderr",
       "text": [
        "\r",
        " 87%|\u2588\u2588\u2588\u2588\u2588\u2588\u2588\u2588\u258b | 436/501 [11:13:42<01:10,  1.09s/it]"
       ]
      },
      {
       "output_type": "stream",
       "stream": "stderr",
       "text": [
        "\r",
        " 87%|\u2588\u2588\u2588\u2588\u2588\u2588\u2588\u2588\u258b | 437/501 [11:13:43<01:09,  1.09s/it]"
       ]
      },
      {
       "output_type": "stream",
       "stream": "stderr",
       "text": [
        "\r",
        " 87%|\u2588\u2588\u2588\u2588\u2588\u2588\u2588\u2588\u258b | 438/501 [11:13:45<01:07,  1.08s/it]"
       ]
      },
      {
       "output_type": "stream",
       "stream": "stderr",
       "text": [
        "\r",
        " 88%|\u2588\u2588\u2588\u2588\u2588\u2588\u2588\u2588\u258a | 439/501 [11:13:46<01:06,  1.07s/it]"
       ]
      },
      {
       "output_type": "stream",
       "stream": "stderr",
       "text": [
        "\r",
        " 88%|\u2588\u2588\u2588\u2588\u2588\u2588\u2588\u2588\u258a | 440/501 [11:13:47<01:05,  1.07s/it]"
       ]
      },
      {
       "output_type": "stream",
       "stream": "stderr",
       "text": [
        "\r",
        " 88%|\u2588\u2588\u2588\u2588\u2588\u2588\u2588\u2588\u258a | 441/501 [11:13:48<01:04,  1.08s/it]"
       ]
      },
      {
       "output_type": "stream",
       "stream": "stderr",
       "text": [
        "\r",
        " 88%|\u2588\u2588\u2588\u2588\u2588\u2588\u2588\u2588\u258a | 442/501 [11:13:49<01:03,  1.08s/it]"
       ]
      },
      {
       "output_type": "stream",
       "stream": "stderr",
       "text": [
        "\r",
        " 88%|\u2588\u2588\u2588\u2588\u2588\u2588\u2588\u2588\u258a | 443/501 [11:13:50<01:02,  1.08s/it]"
       ]
      },
      {
       "output_type": "stream",
       "stream": "stderr",
       "text": [
        "\r",
        " 89%|\u2588\u2588\u2588\u2588\u2588\u2588\u2588\u2588\u258a | 444/501 [11:13:51<01:02,  1.09s/it]"
       ]
      },
      {
       "output_type": "stream",
       "stream": "stderr",
       "text": [
        "\r",
        " 89%|\u2588\u2588\u2588\u2588\u2588\u2588\u2588\u2588\u2589 | 445/501 [11:13:52<01:01,  1.10s/it]"
       ]
      },
      {
       "output_type": "stream",
       "stream": "stderr",
       "text": [
        "\r",
        " 89%|\u2588\u2588\u2588\u2588\u2588\u2588\u2588\u2588\u2589 | 446/501 [11:13:53<01:00,  1.10s/it]"
       ]
      },
      {
       "output_type": "stream",
       "stream": "stderr",
       "text": [
        "\r",
        " 89%|\u2588\u2588\u2588\u2588\u2588\u2588\u2588\u2588\u2589 | 447/501 [11:13:54<00:59,  1.10s/it]"
       ]
      },
      {
       "output_type": "stream",
       "stream": "stderr",
       "text": [
        "\r",
        " 89%|\u2588\u2588\u2588\u2588\u2588\u2588\u2588\u2588\u2589 | 448/501 [11:13:55<00:59,  1.11s/it]"
       ]
      },
      {
       "output_type": "stream",
       "stream": "stderr",
       "text": [
        "\r",
        " 90%|\u2588\u2588\u2588\u2588\u2588\u2588\u2588\u2588\u2589 | 449/501 [11:13:57<00:57,  1.11s/it]"
       ]
      },
      {
       "output_type": "stream",
       "stream": "stderr",
       "text": [
        "\r",
        " 90%|\u2588\u2588\u2588\u2588\u2588\u2588\u2588\u2588\u2589 | 450/501 [11:13:58<00:56,  1.11s/it]"
       ]
      },
      {
       "output_type": "stream",
       "stream": "stderr",
       "text": [
        "\r",
        " 90%|\u2588\u2588\u2588\u2588\u2588\u2588\u2588\u2588\u2588 | 451/501 [11:13:59<00:55,  1.12s/it]"
       ]
      },
      {
       "output_type": "stream",
       "stream": "stderr",
       "text": [
        "\r",
        " 90%|\u2588\u2588\u2588\u2588\u2588\u2588\u2588\u2588\u2588 | 452/501 [11:14:00<00:55,  1.13s/it]"
       ]
      },
      {
       "output_type": "stream",
       "stream": "stderr",
       "text": [
        "\r",
        " 90%|\u2588\u2588\u2588\u2588\u2588\u2588\u2588\u2588\u2588 | 453/501 [11:14:01<00:53,  1.12s/it]"
       ]
      },
      {
       "output_type": "stream",
       "stream": "stderr",
       "text": [
        "\r",
        " 91%|\u2588\u2588\u2588\u2588\u2588\u2588\u2588\u2588\u2588 | 454/501 [11:14:02<00:51,  1.11s/it]"
       ]
      },
      {
       "output_type": "stream",
       "stream": "stderr",
       "text": [
        "\r",
        " 91%|\u2588\u2588\u2588\u2588\u2588\u2588\u2588\u2588\u2588 | 455/501 [11:14:03<00:50,  1.10s/it]"
       ]
      },
      {
       "output_type": "stream",
       "stream": "stderr",
       "text": [
        "\r",
        " 91%|\u2588\u2588\u2588\u2588\u2588\u2588\u2588\u2588\u2588 | 456/501 [11:14:04<00:49,  1.09s/it]"
       ]
      },
      {
       "output_type": "stream",
       "stream": "stderr",
       "text": [
        "\r",
        " 91%|\u2588\u2588\u2588\u2588\u2588\u2588\u2588\u2588\u2588 | 457/501 [11:14:05<00:47,  1.08s/it]"
       ]
      },
      {
       "output_type": "stream",
       "stream": "stderr",
       "text": [
        "\r",
        " 91%|\u2588\u2588\u2588\u2588\u2588\u2588\u2588\u2588\u2588\u258f| 458/501 [11:14:06<00:46,  1.08s/it]"
       ]
      },
      {
       "output_type": "stream",
       "stream": "stderr",
       "text": [
        "\r",
        " 92%|\u2588\u2588\u2588\u2588\u2588\u2588\u2588\u2588\u2588\u258f| 459/501 [11:14:08<00:46,  1.10s/it]"
       ]
      },
      {
       "output_type": "stream",
       "stream": "stderr",
       "text": [
        "\r",
        " 92%|\u2588\u2588\u2588\u2588\u2588\u2588\u2588\u2588\u2588\u258f| 460/501 [11:14:09<00:44,  1.09s/it]"
       ]
      },
      {
       "output_type": "stream",
       "stream": "stderr",
       "text": [
        "\r",
        " 92%|\u2588\u2588\u2588\u2588\u2588\u2588\u2588\u2588\u2588\u258f| 461/501 [11:14:10<00:45,  1.13s/it]"
       ]
      },
      {
       "output_type": "stream",
       "stream": "stderr",
       "text": [
        "\r",
        " 92%|\u2588\u2588\u2588\u2588\u2588\u2588\u2588\u2588\u2588\u258f| 462/501 [11:14:11<00:45,  1.17s/it]"
       ]
      },
      {
       "output_type": "stream",
       "stream": "stderr",
       "text": [
        "\r",
        " 92%|\u2588\u2588\u2588\u2588\u2588\u2588\u2588\u2588\u2588\u258f| 463/501 [11:14:17<01:40,  2.64s/it]"
       ]
      },
      {
       "output_type": "stream",
       "stream": "stderr",
       "text": [
        "\r",
        " 93%|\u2588\u2588\u2588\u2588\u2588\u2588\u2588\u2588\u2588\u258e| 464/501 [11:14:18<01:20,  2.18s/it]"
       ]
      },
      {
       "output_type": "stream",
       "stream": "stderr",
       "text": [
        "\r",
        " 93%|\u2588\u2588\u2588\u2588\u2588\u2588\u2588\u2588\u2588\u258e| 465/501 [11:14:19<01:07,  1.86s/it]"
       ]
      },
      {
       "output_type": "stream",
       "stream": "stderr",
       "text": [
        "\r",
        " 93%|\u2588\u2588\u2588\u2588\u2588\u2588\u2588\u2588\u2588\u258e| 466/501 [11:14:21<00:57,  1.63s/it]"
       ]
      },
      {
       "output_type": "stream",
       "stream": "stderr",
       "text": [
        "\r",
        " 93%|\u2588\u2588\u2588\u2588\u2588\u2588\u2588\u2588\u2588\u258e| 467/501 [11:14:22<00:50,  1.48s/it]"
       ]
      },
      {
       "output_type": "stream",
       "stream": "stderr",
       "text": [
        "\r",
        " 93%|\u2588\u2588\u2588\u2588\u2588\u2588\u2588\u2588\u2588\u258e| 468/501 [11:14:23<00:44,  1.36s/it]"
       ]
      },
      {
       "output_type": "stream",
       "stream": "stderr",
       "text": [
        "\r",
        " 94%|\u2588\u2588\u2588\u2588\u2588\u2588\u2588\u2588\u2588\u258e| 469/501 [11:14:24<00:40,  1.28s/it]"
       ]
      },
      {
       "output_type": "stream",
       "stream": "stderr",
       "text": [
        "\r",
        " 94%|\u2588\u2588\u2588\u2588\u2588\u2588\u2588\u2588\u2588\u258d| 470/501 [11:14:25<00:37,  1.22s/it]"
       ]
      },
      {
       "output_type": "stream",
       "stream": "stderr",
       "text": [
        "\r",
        " 94%|\u2588\u2588\u2588\u2588\u2588\u2588\u2588\u2588\u2588\u258d| 471/501 [11:14:26<00:36,  1.20s/it]"
       ]
      },
      {
       "output_type": "stream",
       "stream": "stderr",
       "text": [
        "\r",
        " 94%|\u2588\u2588\u2588\u2588\u2588\u2588\u2588\u2588\u2588\u258d| 472/501 [11:14:27<00:33,  1.16s/it]"
       ]
      },
      {
       "output_type": "stream",
       "stream": "stderr",
       "text": [
        "\r",
        " 94%|\u2588\u2588\u2588\u2588\u2588\u2588\u2588\u2588\u2588\u258d| 473/501 [11:14:28<00:31,  1.14s/it]"
       ]
      },
      {
       "output_type": "stream",
       "stream": "stderr",
       "text": [
        "\r",
        " 95%|\u2588\u2588\u2588\u2588\u2588\u2588\u2588\u2588\u2588\u258d| 474/501 [11:14:29<00:30,  1.12s/it]"
       ]
      },
      {
       "output_type": "stream",
       "stream": "stderr",
       "text": [
        "\r",
        " 95%|\u2588\u2588\u2588\u2588\u2588\u2588\u2588\u2588\u2588\u258d| 475/501 [11:14:30<00:28,  1.11s/it]"
       ]
      },
      {
       "output_type": "stream",
       "stream": "stderr",
       "text": [
        "\r",
        " 95%|\u2588\u2588\u2588\u2588\u2588\u2588\u2588\u2588\u2588\u258c| 476/501 [11:14:32<00:27,  1.11s/it]"
       ]
      },
      {
       "output_type": "stream",
       "stream": "stderr",
       "text": [
        "\r",
        " 95%|\u2588\u2588\u2588\u2588\u2588\u2588\u2588\u2588\u2588\u258c| 477/501 [11:14:33<00:26,  1.11s/it]"
       ]
      },
      {
       "output_type": "stream",
       "stream": "stderr",
       "text": [
        "\r",
        " 95%|\u2588\u2588\u2588\u2588\u2588\u2588\u2588\u2588\u2588\u258c| 478/501 [11:14:34<00:25,  1.12s/it]"
       ]
      },
      {
       "output_type": "stream",
       "stream": "stderr",
       "text": [
        "\r",
        " 96%|\u2588\u2588\u2588\u2588\u2588\u2588\u2588\u2588\u2588\u258c| 479/501 [11:14:35<00:24,  1.12s/it]"
       ]
      },
      {
       "output_type": "stream",
       "stream": "stderr",
       "text": [
        "\r",
        " 96%|\u2588\u2588\u2588\u2588\u2588\u2588\u2588\u2588\u2588\u258c| 480/501 [11:14:36<00:23,  1.12s/it]"
       ]
      },
      {
       "output_type": "stream",
       "stream": "stderr",
       "text": [
        "\r",
        " 96%|\u2588\u2588\u2588\u2588\u2588\u2588\u2588\u2588\u2588\u258c| 481/501 [11:14:37<00:22,  1.13s/it]"
       ]
      },
      {
       "output_type": "stream",
       "stream": "stderr",
       "text": [
        "\r",
        " 96%|\u2588\u2588\u2588\u2588\u2588\u2588\u2588\u2588\u2588\u258c| 482/501 [11:14:38<00:21,  1.15s/it]"
       ]
      },
      {
       "output_type": "stream",
       "stream": "stderr",
       "text": [
        "\r",
        " 96%|\u2588\u2588\u2588\u2588\u2588\u2588\u2588\u2588\u2588\u258b| 483/501 [11:14:39<00:20,  1.14s/it]"
       ]
      },
      {
       "output_type": "stream",
       "stream": "stderr",
       "text": [
        "\r",
        " 97%|\u2588\u2588\u2588\u2588\u2588\u2588\u2588\u2588\u2588\u258b| 484/501 [11:14:41<00:19,  1.14s/it]"
       ]
      },
      {
       "output_type": "stream",
       "stream": "stderr",
       "text": [
        "\r",
        " 97%|\u2588\u2588\u2588\u2588\u2588\u2588\u2588\u2588\u2588\u258b| 485/501 [11:14:42<00:18,  1.13s/it]"
       ]
      },
      {
       "output_type": "stream",
       "stream": "stderr",
       "text": [
        "\r",
        " 97%|\u2588\u2588\u2588\u2588\u2588\u2588\u2588\u2588\u2588\u258b| 486/501 [11:14:43<00:16,  1.13s/it]"
       ]
      },
      {
       "output_type": "stream",
       "stream": "stderr",
       "text": [
        "\r",
        " 97%|\u2588\u2588\u2588\u2588\u2588\u2588\u2588\u2588\u2588\u258b| 487/501 [11:14:44<00:15,  1.12s/it]"
       ]
      },
      {
       "output_type": "stream",
       "stream": "stderr",
       "text": [
        "\r",
        " 97%|\u2588\u2588\u2588\u2588\u2588\u2588\u2588\u2588\u2588\u258b| 488/501 [11:14:45<00:14,  1.12s/it]"
       ]
      },
      {
       "output_type": "stream",
       "stream": "stderr",
       "text": [
        "\r",
        " 98%|\u2588\u2588\u2588\u2588\u2588\u2588\u2588\u2588\u2588\u258a| 489/501 [11:14:46<00:13,  1.12s/it]"
       ]
      },
      {
       "output_type": "stream",
       "stream": "stderr",
       "text": [
        "\r",
        " 98%|\u2588\u2588\u2588\u2588\u2588\u2588\u2588\u2588\u2588\u258a| 490/501 [11:14:47<00:12,  1.11s/it]"
       ]
      },
      {
       "output_type": "stream",
       "stream": "stderr",
       "text": [
        "\r",
        " 98%|\u2588\u2588\u2588\u2588\u2588\u2588\u2588\u2588\u2588\u258a| 491/501 [11:14:48<00:11,  1.11s/it]"
       ]
      },
      {
       "output_type": "stream",
       "stream": "stderr",
       "text": [
        "\r",
        " 98%|\u2588\u2588\u2588\u2588\u2588\u2588\u2588\u2588\u2588\u258a| 492/501 [11:14:50<00:10,  1.12s/it]"
       ]
      },
      {
       "output_type": "stream",
       "stream": "stderr",
       "text": [
        "\r",
        " 98%|\u2588\u2588\u2588\u2588\u2588\u2588\u2588\u2588\u2588\u258a| 493/501 [11:14:51<00:08,  1.11s/it]"
       ]
      },
      {
       "output_type": "stream",
       "stream": "stderr",
       "text": [
        "\r",
        " 99%|\u2588\u2588\u2588\u2588\u2588\u2588\u2588\u2588\u2588\u258a| 494/501 [11:14:52<00:07,  1.10s/it]"
       ]
      },
      {
       "output_type": "stream",
       "stream": "stderr",
       "text": [
        "\r",
        " 99%|\u2588\u2588\u2588\u2588\u2588\u2588\u2588\u2588\u2588\u2589| 495/501 [11:14:53<00:06,  1.10s/it]"
       ]
      },
      {
       "output_type": "stream",
       "stream": "stderr",
       "text": [
        "\r",
        " 99%|\u2588\u2588\u2588\u2588\u2588\u2588\u2588\u2588\u2588\u2589| 496/501 [11:14:54<00:05,  1.09s/it]"
       ]
      },
      {
       "output_type": "stream",
       "stream": "stderr",
       "text": [
        "\r",
        " 99%|\u2588\u2588\u2588\u2588\u2588\u2588\u2588\u2588\u2588\u2589| 497/501 [11:14:55<00:04,  1.09s/it]"
       ]
      },
      {
       "output_type": "stream",
       "stream": "stderr",
       "text": [
        "\r",
        " 99%|\u2588\u2588\u2588\u2588\u2588\u2588\u2588\u2588\u2588\u2589| 498/501 [11:14:56<00:03,  1.10s/it]"
       ]
      },
      {
       "output_type": "stream",
       "stream": "stderr",
       "text": [
        "\r",
        "100%|\u2588\u2588\u2588\u2588\u2588\u2588\u2588\u2588\u2588\u2589| 499/501 [11:14:57<00:02,  1.11s/it]"
       ]
      },
      {
       "output_type": "stream",
       "stream": "stderr",
       "text": [
        "\r",
        "100%|\u2588\u2588\u2588\u2588\u2588\u2588\u2588\u2588\u2588\u2589| 500/501 [11:14:58<00:01,  1.15s/it]"
       ]
      },
      {
       "output_type": "stream",
       "stream": "stderr",
       "text": [
        "\r",
        "100%|\u2588\u2588\u2588\u2588\u2588\u2588\u2588\u2588\u2588\u2588| 501/501 [11:15:00<00:00,  1.18s/it]"
       ]
      },
      {
       "output_type": "stream",
       "stream": "stderr",
       "text": [
        "\n"
       ]
      }
     ],
     "prompt_number": 21
    },
    {
     "cell_type": "code",
     "collapsed": false,
     "input": [],
     "language": "python",
     "metadata": {},
     "outputs": [],
     "prompt_number": 31
    },
    {
     "cell_type": "code",
     "collapsed": false,
     "input": [
      "np.save(os.path.join(WAY, FOLDER_2D, FOLDER_RESULT, 'I_b'), error_array)\n",
      "plt.xlabel('Time (ms) - t')\n",
      "plt.ylabel('Difference I_b (mV)')\n",
      "plt.plot(error_array)\n",
      "plt.savefig(os.path.join(WAY, FOLDER_2D, FOLDER_RESULT, 'Difference I_b.png'))\n",
      "print len(error_array)"
     ],
     "language": "python",
     "metadata": {},
     "outputs": [
      {
       "output_type": "stream",
       "stream": "stdout",
       "text": [
        "501\n"
       ]
      },
      {
       "metadata": {},
       "output_type": "display_data",
       "png": "[encoded data removed]",
       "text": [
        "<matplotlib.figure.Figure at 0x7efb602cca90>"
       ]
      }
     ],
     "prompt_number": 32
    },
    {
     "cell_type": "code",
     "collapsed": false,
     "input": [
      "np.save(os.path.join(WAY, FOLDER_2D, FOLDER_RESULT, 'I_Kp'), error_phi_array)\n",
      "import matplotlib.pylab as plt\n",
      "%matplotlib inline\n",
      "plt.xlabel('Time (ms) - t')\n",
      "plt.ylabel('Difference I_Kp (mV)')\n",
      "plt.plot(error_phi_array)\n",
      "plt.savefig(os.path.join(WAY, FOLDER_2D, FOLDER_RESULT, 'Difference I_Kp.png'))\n",
      "print len(error_phi_array)"
     ],
     "language": "python",
     "metadata": {},
     "outputs": [
      {
       "output_type": "stream",
       "stream": "stdout",
       "text": [
        "501\n"
       ]
      },
      {
       "metadata": {},
       "output_type": "display_data",
       "png": "[encoded data removed]",
       "text": [
        "<matplotlib.figure.Figure at 0x7efb537a8d90>"
       ]
      }
     ],
     "prompt_number": 29
    },
    {
     "cell_type": "code",
     "collapsed": false,
     "input": [],
     "language": "python",
     "metadata": {},
     "outputs": []
    },
    {
     "cell_type": "code",
     "collapsed": false,
     "input": [],
     "language": "python",
     "metadata": {},
     "outputs": []
    }
   ],
   "metadata": {}
  }
 ]
}